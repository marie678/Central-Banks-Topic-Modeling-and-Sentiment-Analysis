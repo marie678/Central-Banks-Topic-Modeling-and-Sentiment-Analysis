{
 "cells": [
  {
   "cell_type": "markdown",
   "metadata": {},
   "source": [
    "# Project ML for portfolio management"
   ]
  },
  {
   "cell_type": "markdown",
   "metadata": {},
   "source": [
    "The aim of this project is to explore gender differences in central bank communication / speeches using sentiment analysis, inspired by the paper \"Leadership, Gender, and Discourse in Monetary Policy: Analyzing Speech Dynamics in the FOMC\" (https://papers.ssrn.com/sol3/papers.cfm?abstract_id=5002334).\n",
    "\n",
    "We will explore gender communication styles in speeches delivered by central bank officials, focusing on whether there are observable differences between male and female central bank leaders.\n",
    "More specifically, using sentiment analysis and NLP techniques, we will analyze whether male and female speakers differ in the topics they address (topic modeling) and the tone of their speeches (sentiment analysis).\n",
    "\n",
    "\n",
    "The speeches would be scraped or downloaded from the BIS website, along with the speaker information. I would need to further define which speeches to use / focus on (based on major policy announcements for instance ?)."
   ]
  },
  {
   "cell_type": "markdown",
   "metadata": {},
   "source": [
    "instructions : 1 : Sharp summary of our results. Should be clear if it works or not.\n",
    "2 : dataset, can be short if reusing. Or longer if webscrapping  summary statistics, code, …\n",
    "3 : why is it an important question, why does it matter ? (central bank data). What is your contribution, what do you bring ? what has been done and what changes with what I’m doing. What is new in what you’re doing.\n",
    "Is the evaluation a backtest or something else, …\n",
    "4 : results : explain what we’re doing and \n",
    "Summary of our test / empirical result. Can be positive or negative. \n",
    "5 : did it work or not, what can be improved / added ?\n",
    "We can also / should !! read a paper and replicate it : google scholar \n",
    "\n",
    "\n",
    "1. Introduction\n",
    "1. Dataset overview\n",
    "1. Analytics and learning strategies\n",
    "1. Empirical resuts: baseline and robustness \n",
    "1. Conclusion\n",
    "\n",
    "if you need to add any package, no problem: add cells in your notebook with \"pip install my_additional_package\" so that I'm aware of what additional packages I need to run your notebook. \n",
    "if you use data that you scrapped online, just provide the code to programmatically scrape the data. More generally, I don't want to receive data.csv files. \n",
    "if you use .py files to tidy your project, just use a %%writefile magic in the notebook -- so that on my side, I can create the same .py files on the fly. I don't want to receive additional .py files."
   ]
  },
  {
   "cell_type": "code",
   "execution_count": null,
   "metadata": {},
   "outputs": [],
   "source": []
  },
  {
   "cell_type": "code",
   "execution_count": null,
   "metadata": {},
   "outputs": [],
   "source": []
  },
  {
   "cell_type": "code",
   "execution_count": null,
   "metadata": {},
   "outputs": [],
   "source": [
    "pip install selenium"
   ]
  },
  {
   "cell_type": "code",
   "execution_count": null,
   "metadata": {},
   "outputs": [],
   "source": []
  },
  {
   "cell_type": "markdown",
   "metadata": {},
   "source": [
    "### INTRODUCTION"
   ]
  },
  {
   "cell_type": "markdown",
   "metadata": {},
   "source": [
    "\n",
    "The opening segment encompasses four essential elements:\n",
    "\n",
    "- 1 Contextual Background: What is the larger setting of the study? What makes this area of inquiry compelling? What are the existing gaps or limitations within the current body of research? What are some unanswered yet noteworthy questions?\n",
    "\n",
    "- 2 Project Contributions: What are the specific advancements made by this study, such as in data acquisition, algorithmic development, parameter adjustments, etc.?\n",
    "\n",
    "- 3 Summary of the main empirical results: What is the main statistical statement? is it significant (e.g. statistically or economically)? \n",
    "\n",
    "- 4 Literature and Resource Citations: What are related academic papers? What are the github repositories, expert blogs, or software packages that used in this project? "
   ]
  },
  {
   "cell_type": "markdown",
   "metadata": {},
   "source": [
    "references : \n",
    "- Leadership, Gender, and Discourse in Monetary Policy: Analyzing Speech Dynamics in the FOMC (https://papers.ssrn.com/sol3/papers.cfm?abstract_id=5002334)\n",
    "- Information in Central Bank Sentiment: An Analysis of Fed and ECB Communication (https://papers.ssrn.com/sol3/papers.cfm?abstract_id=4797935)"
   ]
  },
  {
   "cell_type": "markdown",
   "metadata": {},
   "source": []
  },
  {
   "cell_type": "code",
   "execution_count": null,
   "metadata": {},
   "outputs": [],
   "source": []
  },
  {
   "cell_type": "code",
   "execution_count": null,
   "metadata": {},
   "outputs": [],
   "source": []
  },
  {
   "cell_type": "markdown",
   "metadata": {},
   "source": [
    "### DATASET OVERVIEW"
   ]
  },
  {
   "cell_type": "markdown",
   "metadata": {},
   "source": [
    "In the dataset profile, one should consider:\n",
    "\n",
    "- The origin and composition of data utilized in the study. If the dataset is original, then provide the source code to ensure reproducibility.\n",
    "\n",
    "- The chronological accuracy of the data points, verifying that the dates reflect the actual availability of information.\n",
    "\n",
    "- A detailed analysis of descriptive statistics, with an emphasis on discussing the importance of the chosen graphs or metrics."
   ]
  },
  {
   "cell_type": "markdown",
   "metadata": {},
   "source": [
    "Central Bank Speeches: You need a corpus of speeches delivered by central bank officials, ideally annotated with speaker information (name, gender, role, country, etc.).\n",
    "Metadata: To analyze gender differences, the dataset must include:\n",
    "Gender of the speaker.\n",
    "Date of the speech.\n",
    "Context (policy announcements, conferences, etc.).\n",
    "\n",
    "scope (e.g., BIS speeches from 2000 onwards)"
   ]
  },
  {
   "cell_type": "code",
   "execution_count": null,
   "metadata": {},
   "outputs": [],
   "source": [
    "import requests\n",
    "from bs4 import BeautifulSoup\n",
    "import time\n",
    "import pandas as pd\n",
    "# from tqdm import tqdm"
   ]
  },
  {
   "cell_type": "code",
   "execution_count": 80,
   "metadata": {},
   "outputs": [
    {
     "name": "stdout",
     "output_type": "stream",
     "text": [
      "20093\n"
     ]
    }
   ],
   "source": [
    "# build functions\n",
    "def get_central_bank_speeches_urls():\n",
    "    '''\n",
    "    '''\n",
    "    url = \"https://www.bis.org/api/document_lists/cbspeeches.json\"\n",
    "    reviews=[]\n",
    "    response = requests.get(url)\n",
    "\n",
    "    # Check if the request was successful (status code 200)\n",
    "    if response.status_code == 200:\n",
    "        speeches = response.json()\n",
    "        # Get the list of speeches ids ,\n",
    "        for review in speeches['list']:\n",
    "            reviews.append(review)\n",
    "    else:\n",
    "        print(f\"Failed to retrieve data. Status code: {response.status_code}\")\n",
    "    \n",
    "    return(reviews)\n",
    "\n",
    "review_urls = get_central_bank_speeches_urls()\n",
    "print(len(review_urls))"
   ]
  },
  {
   "cell_type": "code",
   "execution_count": 77,
   "metadata": {},
   "outputs": [
    {
     "data": {
      "text/plain": [
       "3872"
      ]
     },
     "execution_count": 77,
     "metadata": {},
     "output_type": "execute_result"
    }
   ],
   "source": [
    "counter"
   ]
  },
  {
   "cell_type": "code",
   "execution_count": null,
   "metadata": {},
   "outputs": [
    {
     "name": "stderr",
     "output_type": "stream",
     "text": [
      "  0%|          | 2/20093 [00:00<28:21, 11.81it/s]"
     ]
    },
    {
     "name": "stdout",
     "output_type": "stream",
     "text": [
      "Processing speech: https://www.bis.org/api/documents/review/r010105b.json\n",
      "Processing speech: https://www.bis.org/api/documents/review/r010115a.json\n",
      "Processing speech: https://www.bis.org/api/documents/review/r010115b.json\n"
     ]
    },
    {
     "name": "stderr",
     "output_type": "stream",
     "text": [
      "  0%|          | 4/20093 [00:00<29:28, 11.36it/s]"
     ]
    },
    {
     "name": "stdout",
     "output_type": "stream",
     "text": [
      "Processing speech: https://www.bis.org/api/documents/review/r010115c.json\n",
      "Processing speech: https://www.bis.org/api/documents/review/r010115d.json\n",
      "Processing speech: https://www.bis.org/api/documents/review/r010117a.json\n"
     ]
    },
    {
     "name": "stderr",
     "output_type": "stream",
     "text": [
      "  0%|          | 8/20093 [00:00<38:12,  8.76it/s]"
     ]
    },
    {
     "name": "stdout",
     "output_type": "stream",
     "text": [
      "Processing speech: https://www.bis.org/api/documents/review/r010117b.json\n",
      "Processing speech: https://www.bis.org/api/documents/review/r010117c.json\n",
      "Processing speech: https://www.bis.org/api/documents/review/r010119a.json\n"
     ]
    },
    {
     "name": "stderr",
     "output_type": "stream",
     "text": [
      "  0%|          | 10/20093 [00:01<33:13, 10.07it/s]"
     ]
    },
    {
     "name": "stdout",
     "output_type": "stream",
     "text": [
      "Processing speech: https://www.bis.org/api/documents/review/r010119c.json\n",
      "Processing speech: https://www.bis.org/api/documents/review/r010119d.json\n",
      "Processing speech: https://www.bis.org/api/documents/review/r010124a.json\n"
     ]
    },
    {
     "name": "stderr",
     "output_type": "stream",
     "text": [
      "  0%|          | 14/20093 [00:01<30:48, 10.86it/s]"
     ]
    },
    {
     "name": "stdout",
     "output_type": "stream",
     "text": [
      "Processing speech: https://www.bis.org/api/documents/review/r010124b.json\n",
      "Processing speech: https://www.bis.org/api/documents/review/r010124c.json\n"
     ]
    },
    {
     "name": "stderr",
     "output_type": "stream",
     "text": [
      "  0%|          | 16/20093 [00:01<29:20, 11.40it/s]"
     ]
    },
    {
     "name": "stdout",
     "output_type": "stream",
     "text": [
      "Processing speech: https://www.bis.org/api/documents/review/r010124d.json\n",
      "Processing speech: https://www.bis.org/api/documents/review/r0102022.json\n",
      "Processing speech: https://www.bis.org/api/documents/review/r010202b.json\n"
     ]
    },
    {
     "name": "stderr",
     "output_type": "stream",
     "text": [
      "  0%|          | 18/20093 [00:01<27:11, 12.31it/s]"
     ]
    },
    {
     "name": "stdout",
     "output_type": "stream",
     "text": [
      "Processing speech: https://www.bis.org/api/documents/review/r010202c.json\n",
      "Processing speech: https://www.bis.org/api/documents/review/r010207a.json\n",
      "Processing speech: https://www.bis.org/api/documents/review/r010209a.json\n"
     ]
    },
    {
     "name": "stderr",
     "output_type": "stream",
     "text": [
      "  0%|          | 22/20093 [00:01<25:34, 13.08it/s]"
     ]
    },
    {
     "name": "stdout",
     "output_type": "stream",
     "text": [
      "Processing speech: https://www.bis.org/api/documents/review/r010209b.json\n",
      "Processing speech: https://www.bis.org/api/documents/review/r010209c.json\n",
      "Processing speech: https://www.bis.org/api/documents/review/r010209e.json\n",
      "Processing speech: https://www.bis.org/api/documents/review/r010212b.json\n"
     ]
    },
    {
     "name": "stderr",
     "output_type": "stream",
     "text": [
      "  0%|          | 26/20093 [00:02<27:19, 12.24it/s]"
     ]
    },
    {
     "name": "stdout",
     "output_type": "stream",
     "text": [
      "Processing speech: https://www.bis.org/api/documents/review/r010212c.json\n",
      "Processing speech: https://www.bis.org/api/documents/review/r010213a.json\n"
     ]
    },
    {
     "name": "stderr",
     "output_type": "stream",
     "text": [
      "  0%|          | 28/20093 [00:02<27:07, 12.33it/s]"
     ]
    },
    {
     "name": "stdout",
     "output_type": "stream",
     "text": [
      "Processing speech: https://www.bis.org/api/documents/review/r010213b.json\n",
      "Processing speech: https://www.bis.org/api/documents/review/r010214a.json\n",
      "Processing speech: https://www.bis.org/api/documents/review/r010214b.json\n"
     ]
    },
    {
     "name": "stderr",
     "output_type": "stream",
     "text": [
      "  0%|          | 30/20093 [00:02<25:58, 12.87it/s]"
     ]
    },
    {
     "name": "stdout",
     "output_type": "stream",
     "text": [
      "Processing speech: https://www.bis.org/api/documents/review/r010214c.json\n",
      "Processing speech: https://www.bis.org/api/documents/review/r010216a.json\n",
      "Processing speech: https://www.bis.org/api/documents/review/r010216b.json\n"
     ]
    },
    {
     "name": "stderr",
     "output_type": "stream",
     "text": [
      "  0%|          | 34/20093 [00:02<24:56, 13.40it/s]"
     ]
    },
    {
     "name": "stdout",
     "output_type": "stream",
     "text": [
      "Processing speech: https://www.bis.org/api/documents/review/r010216c.json\n",
      "Processing speech: https://www.bis.org/api/documents/review/r010220a.json\n",
      "Processing speech: https://www.bis.org/api/documents/review/r010220b.json\n"
     ]
    },
    {
     "name": "stderr",
     "output_type": "stream",
     "text": [
      "  0%|          | 38/20093 [00:03<26:48, 12.47it/s]"
     ]
    },
    {
     "name": "stdout",
     "output_type": "stream",
     "text": [
      "Processing speech: https://www.bis.org/api/documents/review/r010222a.json\n",
      "Processing speech: https://www.bis.org/api/documents/review/r010222b.json\n",
      "Processing speech: https://www.bis.org/api/documents/review/r010222c.json\n"
     ]
    },
    {
     "name": "stderr",
     "output_type": "stream",
     "text": [
      "  0%|          | 40/20093 [00:03<26:40, 12.53it/s]"
     ]
    },
    {
     "name": "stdout",
     "output_type": "stream",
     "text": [
      "Processing speech: https://www.bis.org/api/documents/review/r010224a.json\n",
      "Processing speech: https://www.bis.org/api/documents/review/r010224b.json\n",
      "Processing speech: https://www.bis.org/api/documents/review/r010305a.json\n"
     ]
    },
    {
     "name": "stderr",
     "output_type": "stream",
     "text": [
      "  0%|          | 42/20093 [00:03<25:53, 12.90it/s]"
     ]
    },
    {
     "name": "stdout",
     "output_type": "stream",
     "text": [
      "Processing speech: https://www.bis.org/api/documents/review/r010305b.json\n",
      "Processing speech: https://www.bis.org/api/documents/review/r010307a.json\n",
      "Processing speech: https://www.bis.org/api/documents/review/r010307b.json\n"
     ]
    },
    {
     "name": "stderr",
     "output_type": "stream",
     "text": [
      "  0%|          | 46/20093 [00:03<24:47, 13.48it/s]"
     ]
    },
    {
     "name": "stdout",
     "output_type": "stream",
     "text": [
      "Processing speech: https://www.bis.org/api/documents/review/r010307c.json\n",
      "Processing speech: https://www.bis.org/api/documents/review/r010308a.json\n",
      "Processing speech: https://www.bis.org/api/documents/review/r010308b.json\n"
     ]
    },
    {
     "name": "stderr",
     "output_type": "stream",
     "text": [
      "  0%|          | 48/20093 [00:04<26:55, 12.41it/s]"
     ]
    },
    {
     "name": "stdout",
     "output_type": "stream",
     "text": [
      "Processing speech: https://www.bis.org/api/documents/review/r010308c.json\n",
      "Processing speech: https://www.bis.org/api/documents/review/r010312a.json\n"
     ]
    },
    {
     "name": "stderr",
     "output_type": "stream",
     "text": [
      "  0%|          | 50/20093 [00:05<1:19:43,  4.19it/s]"
     ]
    },
    {
     "name": "stdout",
     "output_type": "stream",
     "text": [
      "Processing speech: https://www.bis.org/api/documents/review/r010312b.json\n",
      "Processing speech: https://www.bis.org/api/documents/review/r010312c.json\n",
      "Processing speech: https://www.bis.org/api/documents/review/r010316b.json\n"
     ]
    },
    {
     "name": "stderr",
     "output_type": "stream",
     "text": [
      "  0%|          | 54/20093 [00:05<51:01,  6.55it/s]  "
     ]
    },
    {
     "name": "stdout",
     "output_type": "stream",
     "text": [
      "Processing speech: https://www.bis.org/api/documents/review/r010322a.json\n",
      "Processing speech: https://www.bis.org/api/documents/review/r010322b.json\n",
      "Processing speech: https://www.bis.org/api/documents/review/r010322c.json\n"
     ]
    },
    {
     "name": "stderr",
     "output_type": "stream",
     "text": [
      "  0%|          | 56/20093 [00:05<43:40,  7.65it/s]"
     ]
    },
    {
     "name": "stdout",
     "output_type": "stream",
     "text": [
      "Processing speech: https://www.bis.org/api/documents/review/r010322d.json\n",
      "Processing speech: https://www.bis.org/api/documents/review/r010327a.json\n",
      "Processing speech: https://www.bis.org/api/documents/review/r010327b.json\n"
     ]
    },
    {
     "name": "stderr",
     "output_type": "stream",
     "text": [
      "  0%|          | 60/20093 [00:05<32:41, 10.21it/s]"
     ]
    },
    {
     "name": "stdout",
     "output_type": "stream",
     "text": [
      "Processing speech: https://www.bis.org/api/documents/review/r010327c.json\n",
      "Processing speech: https://www.bis.org/api/documents/review/r010328a.json\n",
      "Processing speech: https://www.bis.org/api/documents/review/r010328b.json\n"
     ]
    },
    {
     "name": "stderr",
     "output_type": "stream",
     "text": [
      "  0%|          | 62/20093 [00:06<29:55, 11.16it/s]"
     ]
    },
    {
     "name": "stdout",
     "output_type": "stream",
     "text": [
      "Processing speech: https://www.bis.org/api/documents/review/r010328c.json\n",
      "Processing speech: https://www.bis.org/api/documents/review/r010330a.json\n",
      "Processing speech: https://www.bis.org/api/documents/review/r010402a.json\n"
     ]
    },
    {
     "name": "stderr",
     "output_type": "stream",
     "text": [
      "  0%|          | 66/20093 [00:06<26:34, 12.56it/s]"
     ]
    },
    {
     "name": "stdout",
     "output_type": "stream",
     "text": [
      "Processing speech: https://www.bis.org/api/documents/review/r010402b.json\n",
      "Processing speech: https://www.bis.org/api/documents/review/r010402c.json\n",
      "Processing speech: https://www.bis.org/api/documents/review/r010402d.json\n",
      "Processing speech: https://www.bis.org/api/documents/review/r010405a.json\n"
     ]
    },
    {
     "name": "stderr",
     "output_type": "stream",
     "text": [
      "  0%|          | 70/20093 [00:06<26:07, 12.77it/s]"
     ]
    },
    {
     "name": "stdout",
     "output_type": "stream",
     "text": [
      "Processing speech: https://www.bis.org/api/documents/review/r010405c.json\n",
      "Processing speech: https://www.bis.org/api/documents/review/r010405d.json\n",
      "Processing speech: https://www.bis.org/api/documents/review/r010409a.json\n"
     ]
    },
    {
     "name": "stderr",
     "output_type": "stream",
     "text": [
      "  0%|          | 72/20093 [00:06<26:20, 12.67it/s]"
     ]
    },
    {
     "name": "stdout",
     "output_type": "stream",
     "text": [
      "Processing speech: https://www.bis.org/api/documents/review/r010409c.json\n",
      "Processing speech: https://www.bis.org/api/documents/review/r010412a.json\n",
      "Processing speech: https://www.bis.org/api/documents/review/r010412b.json\n"
     ]
    },
    {
     "name": "stderr",
     "output_type": "stream",
     "text": [
      "  0%|          | 76/20093 [00:07<24:32, 13.59it/s]"
     ]
    },
    {
     "name": "stdout",
     "output_type": "stream",
     "text": [
      "Processing speech: https://www.bis.org/api/documents/review/r010412c.json\n",
      "Processing speech: https://www.bis.org/api/documents/review/r010418a.json\n",
      "Processing speech: https://www.bis.org/api/documents/review/r010418b.json\n",
      "Processing speech: https://www.bis.org/api/documents/review/r010418c.json\n"
     ]
    },
    {
     "name": "stderr",
     "output_type": "stream",
     "text": [
      "  0%|          | 80/20093 [00:07<23:52, 13.97it/s]"
     ]
    },
    {
     "name": "stdout",
     "output_type": "stream",
     "text": [
      "Processing speech: https://www.bis.org/api/documents/review/r010418d.json\n",
      "Processing speech: https://www.bis.org/api/documents/review/r010424a.json\n",
      "Processing speech: https://www.bis.org/api/documents/review/r010424b.json\n",
      "Processing speech: https://www.bis.org/api/documents/review/r010424c.json\n"
     ]
    },
    {
     "name": "stderr",
     "output_type": "stream",
     "text": [
      "  0%|          | 84/20093 [00:07<23:04, 14.46it/s]"
     ]
    },
    {
     "name": "stdout",
     "output_type": "stream",
     "text": [
      "Processing speech: https://www.bis.org/api/documents/review/r010425a.json\n",
      "Processing speech: https://www.bis.org/api/documents/review/r010425b.json\n",
      "Processing speech: https://www.bis.org/api/documents/review/r010425c.json\n",
      "Processing speech: https://www.bis.org/api/documents/review/r010426a.json\n"
     ]
    },
    {
     "name": "stderr",
     "output_type": "stream",
     "text": [
      "  0%|          | 88/20093 [00:07<22:53, 14.56it/s]"
     ]
    },
    {
     "name": "stdout",
     "output_type": "stream",
     "text": [
      "Processing speech: https://www.bis.org/api/documents/review/r010426b.json\n",
      "Processing speech: https://www.bis.org/api/documents/review/r010426c.json\n",
      "Processing speech: https://www.bis.org/api/documents/review/r010426d.json\n"
     ]
    },
    {
     "name": "stderr",
     "output_type": "stream",
     "text": [
      "  0%|          | 90/20093 [00:08<23:10, 14.38it/s]"
     ]
    },
    {
     "name": "stdout",
     "output_type": "stream",
     "text": [
      "Processing speech: https://www.bis.org/api/documents/review/r010503a.json\n",
      "Processing speech: https://www.bis.org/api/documents/review/r010503d.json\n",
      "Processing speech: https://www.bis.org/api/documents/review/r010504a.json\n"
     ]
    },
    {
     "name": "stderr",
     "output_type": "stream",
     "text": [
      "  0%|          | 94/20093 [00:08<26:25, 12.61it/s]"
     ]
    },
    {
     "name": "stdout",
     "output_type": "stream",
     "text": [
      "Processing speech: https://www.bis.org/api/documents/review/r010504b.json\n",
      "Processing speech: https://www.bis.org/api/documents/review/r010504c.json\n"
     ]
    },
    {
     "name": "stderr",
     "output_type": "stream",
     "text": [
      "  0%|          | 96/20093 [00:08<25:41, 12.97it/s]"
     ]
    },
    {
     "name": "stdout",
     "output_type": "stream",
     "text": [
      "Processing speech: https://www.bis.org/api/documents/review/r010508a.json\n",
      "Processing speech: https://www.bis.org/api/documents/review/r010508c.json\n",
      "Processing speech: https://www.bis.org/api/documents/review/r010508d.json\n"
     ]
    },
    {
     "name": "stderr",
     "output_type": "stream",
     "text": [
      "  0%|          | 98/20093 [00:08<25:28, 13.08it/s]"
     ]
    },
    {
     "name": "stdout",
     "output_type": "stream",
     "text": [
      "Processing speech: https://www.bis.org/api/documents/review/r010511a.json\n",
      "Processing speech: https://www.bis.org/api/documents/review/r010511b.json\n",
      "Processing speech: https://www.bis.org/api/documents/review/r010511c.json\n"
     ]
    },
    {
     "name": "stderr",
     "output_type": "stream",
     "text": [
      "  1%|          | 102/20093 [00:08<24:30, 13.60it/s]"
     ]
    },
    {
     "name": "stdout",
     "output_type": "stream",
     "text": [
      "Processing speech: https://www.bis.org/api/documents/review/r010514a.json\n",
      "Processing speech: https://www.bis.org/api/documents/review/r010514b.json\n",
      "Processing speech: https://www.bis.org/api/documents/review/r010514c.json\n"
     ]
    },
    {
     "name": "stderr",
     "output_type": "stream",
     "text": [
      "  1%|          | 104/20093 [00:09<24:17, 13.71it/s]"
     ]
    },
    {
     "name": "stdout",
     "output_type": "stream",
     "text": [
      "Processing speech: https://www.bis.org/api/documents/review/r010516a.json\n",
      "Processing speech: https://www.bis.org/api/documents/review/r010516c.json\n",
      "Processing speech: https://www.bis.org/api/documents/review/r010516d.json\n"
     ]
    },
    {
     "name": "stderr",
     "output_type": "stream",
     "text": [
      "  1%|          | 108/20093 [00:09<23:50, 13.97it/s]"
     ]
    },
    {
     "name": "stdout",
     "output_type": "stream",
     "text": [
      "Processing speech: https://www.bis.org/api/documents/review/r010518a.json\n",
      "Processing speech: https://www.bis.org/api/documents/review/r010518b.json\n",
      "Processing speech: https://www.bis.org/api/documents/review/r010518d.json\n",
      "Processing speech: https://www.bis.org/api/documents/review/r010521a.json\n"
     ]
    },
    {
     "name": "stderr",
     "output_type": "stream",
     "text": [
      "  1%|          | 112/20093 [00:09<23:44, 14.03it/s]"
     ]
    },
    {
     "name": "stdout",
     "output_type": "stream",
     "text": [
      "Processing speech: https://www.bis.org/api/documents/review/r010521b.json\n",
      "Processing speech: https://www.bis.org/api/documents/review/r010521c.json\n",
      "Processing speech: https://www.bis.org/api/documents/review/r010521d.json\n"
     ]
    },
    {
     "name": "stderr",
     "output_type": "stream",
     "text": [
      "  1%|          | 114/20093 [00:09<24:22, 13.66it/s]"
     ]
    },
    {
     "name": "stdout",
     "output_type": "stream",
     "text": [
      "Processing speech: https://www.bis.org/api/documents/review/r010522a.json\n",
      "Processing speech: https://www.bis.org/api/documents/review/r010522b.json\n",
      "Processing speech: https://www.bis.org/api/documents/review/r010522c.json\n"
     ]
    },
    {
     "name": "stderr",
     "output_type": "stream",
     "text": [
      "  1%|          | 118/20093 [00:10<26:09, 12.72it/s]"
     ]
    },
    {
     "name": "stdout",
     "output_type": "stream",
     "text": [
      "Processing speech: https://www.bis.org/api/documents/review/r010522d.json\n",
      "Processing speech: https://www.bis.org/api/documents/review/r010523a.json\n",
      "Processing speech: https://www.bis.org/api/documents/review/r010523b.json\n",
      "Processing speech: https://www.bis.org/api/documents/review/r010523c.json\n"
     ]
    },
    {
     "name": "stderr",
     "output_type": "stream",
     "text": [
      "  1%|          | 120/20093 [00:10<24:56, 13.34it/s]"
     ]
    },
    {
     "name": "stdout",
     "output_type": "stream",
     "text": [
      "Processing speech: https://www.bis.org/api/documents/review/r010524a.json\n"
     ]
    },
    {
     "name": "stderr",
     "output_type": "stream",
     "text": [
      "  1%|          | 122/20093 [00:11<1:15:23,  4.41it/s]"
     ]
    },
    {
     "name": "stdout",
     "output_type": "stream",
     "text": [
      "Processing speech: https://www.bis.org/api/documents/review/r010524b.json\n",
      "Processing speech: https://www.bis.org/api/documents/review/r010524c.json\n",
      "Processing speech: https://www.bis.org/api/documents/review/r010525a.json\n"
     ]
    },
    {
     "name": "stderr",
     "output_type": "stream",
     "text": [
      "  1%|          | 126/20093 [00:11<50:06,  6.64it/s]  "
     ]
    },
    {
     "name": "stdout",
     "output_type": "stream",
     "text": [
      "Processing speech: https://www.bis.org/api/documents/review/r010525b.json\n",
      "Processing speech: https://www.bis.org/api/documents/review/r010525c.json\n",
      "Processing speech: https://www.bis.org/api/documents/review/r010530a.json\n"
     ]
    },
    {
     "name": "stderr",
     "output_type": "stream",
     "text": [
      "  1%|          | 128/20093 [00:11<43:09,  7.71it/s]"
     ]
    },
    {
     "name": "stdout",
     "output_type": "stream",
     "text": [
      "Processing speech: https://www.bis.org/api/documents/review/r010530c.json\n",
      "Processing speech: https://www.bis.org/api/documents/review/r010531a.json\n",
      "Processing speech: https://www.bis.org/api/documents/review/r010531b.json\n"
     ]
    },
    {
     "name": "stderr",
     "output_type": "stream",
     "text": [
      "  1%|          | 132/20093 [00:12<34:05,  9.76it/s]"
     ]
    },
    {
     "name": "stdout",
     "output_type": "stream",
     "text": [
      "Processing speech: https://www.bis.org/api/documents/review/r010601a.json\n",
      "Processing speech: https://www.bis.org/api/documents/review/r010601b.json\n",
      "Processing speech: https://www.bis.org/api/documents/review/r010601c.json\n"
     ]
    },
    {
     "name": "stderr",
     "output_type": "stream",
     "text": [
      "  1%|          | 134/20093 [00:12<31:43, 10.48it/s]"
     ]
    },
    {
     "name": "stdout",
     "output_type": "stream",
     "text": [
      "Processing speech: https://www.bis.org/api/documents/review/r010604a.json\n",
      "Processing speech: https://www.bis.org/api/documents/review/r010604b.json\n",
      "Processing speech: https://www.bis.org/api/documents/review/r010604c.json\n"
     ]
    },
    {
     "name": "stderr",
     "output_type": "stream",
     "text": [
      "  1%|          | 138/20093 [00:12<28:29, 11.67it/s]"
     ]
    },
    {
     "name": "stdout",
     "output_type": "stream",
     "text": [
      "Processing speech: https://www.bis.org/api/documents/review/r010607a.json\n",
      "Processing speech: https://www.bis.org/api/documents/review/r010607b.json\n",
      "Processing speech: https://www.bis.org/api/documents/review/r010607c.json\n"
     ]
    },
    {
     "name": "stderr",
     "output_type": "stream",
     "text": [
      "  1%|          | 140/20093 [00:12<27:39, 12.03it/s]"
     ]
    },
    {
     "name": "stdout",
     "output_type": "stream",
     "text": [
      "Processing speech: https://www.bis.org/api/documents/review/r010608a.json\n",
      "Processing speech: https://www.bis.org/api/documents/review/r010608b.json\n",
      "Processing speech: https://www.bis.org/api/documents/review/r010608c.json\n"
     ]
    },
    {
     "name": "stderr",
     "output_type": "stream",
     "text": [
      "  1%|          | 144/20093 [00:13<25:36, 12.98it/s]"
     ]
    },
    {
     "name": "stdout",
     "output_type": "stream",
     "text": [
      "Processing speech: https://www.bis.org/api/documents/review/r010613a.json\n",
      "Processing speech: https://www.bis.org/api/documents/review/r010613b.json\n",
      "Processing speech: https://www.bis.org/api/documents/review/r010613c.json\n",
      "Processing speech: https://www.bis.org/api/documents/review/r010613d.json\n"
     ]
    },
    {
     "name": "stderr",
     "output_type": "stream",
     "text": [
      "  1%|          | 148/20093 [00:13<25:17, 13.15it/s]"
     ]
    },
    {
     "name": "stdout",
     "output_type": "stream",
     "text": [
      "Processing speech: https://www.bis.org/api/documents/review/r010615a.json\n",
      "Processing speech: https://www.bis.org/api/documents/review/r010615b.json\n",
      "Processing speech: https://www.bis.org/api/documents/review/r010615c.json\n"
     ]
    },
    {
     "name": "stderr",
     "output_type": "stream",
     "text": [
      "  1%|          | 150/20093 [00:13<24:43, 13.44it/s]"
     ]
    },
    {
     "name": "stdout",
     "output_type": "stream",
     "text": [
      "Processing speech: https://www.bis.org/api/documents/review/r010620a.json\n",
      "Processing speech: https://www.bis.org/api/documents/review/r010620b.json\n",
      "Processing speech: https://www.bis.org/api/documents/review/r010620c.json\n"
     ]
    },
    {
     "name": "stderr",
     "output_type": "stream",
     "text": [
      "  1%|          | 154/20093 [00:13<24:20, 13.65it/s]"
     ]
    },
    {
     "name": "stdout",
     "output_type": "stream",
     "text": [
      "Processing speech: https://www.bis.org/api/documents/review/r010620d.json\n",
      "Processing speech: https://www.bis.org/api/documents/review/r010621a.json\n",
      "Processing speech: https://www.bis.org/api/documents/review/r010621b.json\n",
      "Processing speech: https://www.bis.org/api/documents/review/r010622a.json\n"
     ]
    },
    {
     "name": "stderr",
     "output_type": "stream",
     "text": [
      "  1%|          | 158/20093 [00:14<23:50, 13.93it/s]"
     ]
    },
    {
     "name": "stdout",
     "output_type": "stream",
     "text": [
      "Processing speech: https://www.bis.org/api/documents/review/r010622b.json\n",
      "Processing speech: https://www.bis.org/api/documents/review/r010626a.json\n",
      "Processing speech: https://www.bis.org/api/documents/review/r010626b.json\n",
      "Processing speech: https://www.bis.org/api/documents/review/r010626c.json\n"
     ]
    },
    {
     "name": "stderr",
     "output_type": "stream",
     "text": [
      "  1%|          | 162/20093 [00:14<25:02, 13.27it/s]"
     ]
    },
    {
     "name": "stdout",
     "output_type": "stream",
     "text": [
      "Processing speech: https://www.bis.org/api/documents/review/r010628b.json\n",
      "Processing speech: https://www.bis.org/api/documents/review/r010628c.json\n",
      "Processing speech: https://www.bis.org/api/documents/review/r010629a.json\n",
      "Processing speech: https://www.bis.org/api/documents/review/r010629b.json\n"
     ]
    },
    {
     "name": "stderr",
     "output_type": "stream",
     "text": [
      "  1%|          | 166/20093 [00:14<24:56, 13.32it/s]"
     ]
    },
    {
     "name": "stdout",
     "output_type": "stream",
     "text": [
      "Processing speech: https://www.bis.org/api/documents/review/r010702a.json\n",
      "Processing speech: https://www.bis.org/api/documents/review/r010702b.json\n",
      "Processing speech: https://www.bis.org/api/documents/review/r010702c.json\n"
     ]
    },
    {
     "name": "stderr",
     "output_type": "stream",
     "text": [
      "  1%|          | 168/20093 [00:14<24:43, 13.43it/s]"
     ]
    },
    {
     "name": "stdout",
     "output_type": "stream",
     "text": [
      "Processing speech: https://www.bis.org/api/documents/review/r010703a.json\n",
      "Processing speech: https://www.bis.org/api/documents/review/r010703c.json\n",
      "Processing speech: https://www.bis.org/api/documents/review/r010712a.json\n"
     ]
    },
    {
     "name": "stderr",
     "output_type": "stream",
     "text": [
      "  1%|          | 172/20093 [00:15<24:49, 13.37it/s]"
     ]
    },
    {
     "name": "stdout",
     "output_type": "stream",
     "text": [
      "Processing speech: https://www.bis.org/api/documents/review/r010712b.json\n",
      "Processing speech: https://www.bis.org/api/documents/review/r010712c.json\n",
      "Processing speech: https://www.bis.org/api/documents/review/r010712d.json\n"
     ]
    },
    {
     "name": "stderr",
     "output_type": "stream",
     "text": [
      "  1%|          | 174/20093 [00:15<24:47, 13.39it/s]"
     ]
    },
    {
     "name": "stdout",
     "output_type": "stream",
     "text": [
      "Processing speech: https://www.bis.org/api/documents/review/r010716a.json\n",
      "Processing speech: https://www.bis.org/api/documents/review/r010716b.json\n",
      "Processing speech: https://www.bis.org/api/documents/review/r010716c.json\n"
     ]
    },
    {
     "name": "stderr",
     "output_type": "stream",
     "text": [
      "  1%|          | 178/20093 [00:15<26:01, 12.76it/s]"
     ]
    },
    {
     "name": "stdout",
     "output_type": "stream",
     "text": [
      "Processing speech: https://www.bis.org/api/documents/review/r010717a.json\n",
      "Processing speech: https://www.bis.org/api/documents/review/r010718a.json\n",
      "Processing speech: https://www.bis.org/api/documents/review/r010718b.json\n"
     ]
    },
    {
     "name": "stderr",
     "output_type": "stream",
     "text": [
      "  1%|          | 180/20093 [00:15<25:32, 13.00it/s]"
     ]
    },
    {
     "name": "stdout",
     "output_type": "stream",
     "text": [
      "Processing speech: https://www.bis.org/api/documents/review/r010718c.json\n",
      "Processing speech: https://www.bis.org/api/documents/review/r010720a.json\n",
      "Processing speech: https://www.bis.org/api/documents/review/r010720b.json\n"
     ]
    },
    {
     "name": "stderr",
     "output_type": "stream",
     "text": [
      "  1%|          | 184/20093 [00:16<25:17, 13.12it/s]"
     ]
    },
    {
     "name": "stdout",
     "output_type": "stream",
     "text": [
      "Processing speech: https://www.bis.org/api/documents/review/r010720c.json\n",
      "Processing speech: https://www.bis.org/api/documents/review/r010726a.json\n",
      "Processing speech: https://www.bis.org/api/documents/review/r010726b.json\n"
     ]
    },
    {
     "name": "stderr",
     "output_type": "stream",
     "text": [
      "  1%|          | 186/20093 [00:16<24:59, 13.28it/s]"
     ]
    },
    {
     "name": "stdout",
     "output_type": "stream",
     "text": [
      "Processing speech: https://www.bis.org/api/documents/review/r010802a.json\n",
      "Processing speech: https://www.bis.org/api/documents/review/r010803a.json\n",
      "Processing speech: https://www.bis.org/api/documents/review/r010803b.json\n"
     ]
    },
    {
     "name": "stderr",
     "output_type": "stream",
     "text": [
      "  1%|          | 190/20093 [00:16<24:36, 13.48it/s]"
     ]
    },
    {
     "name": "stdout",
     "output_type": "stream",
     "text": [
      "Processing speech: https://www.bis.org/api/documents/review/r010815a.json\n",
      "Processing speech: https://www.bis.org/api/documents/review/r010815b.json\n",
      "Processing speech: https://www.bis.org/api/documents/review/r010824b.json\n"
     ]
    },
    {
     "name": "stderr",
     "output_type": "stream",
     "text": [
      "  1%|          | 192/20093 [00:16<24:37, 13.47it/s]"
     ]
    },
    {
     "name": "stdout",
     "output_type": "stream",
     "text": [
      "Processing speech: https://www.bis.org/api/documents/review/r010824c.json\n",
      "Processing speech: https://www.bis.org/api/documents/review/r010824d.json\n",
      "Processing speech: https://www.bis.org/api/documents/review/r010903a.json\n"
     ]
    },
    {
     "name": "stderr",
     "output_type": "stream",
     "text": [
      "  1%|          | 196/20093 [00:17<24:14, 13.68it/s]"
     ]
    },
    {
     "name": "stdout",
     "output_type": "stream",
     "text": [
      "Processing speech: https://www.bis.org/api/documents/review/r010903b.json\n",
      "Processing speech: https://www.bis.org/api/documents/review/r010905a.json\n",
      "Processing speech: https://www.bis.org/api/documents/review/r010905b.json\n"
     ]
    },
    {
     "name": "stderr",
     "output_type": "stream",
     "text": [
      "  1%|          | 198/20093 [00:17<24:20, 13.62it/s]"
     ]
    },
    {
     "name": "stdout",
     "output_type": "stream",
     "text": [
      "Processing speech: https://www.bis.org/api/documents/review/r010907b.json\n",
      "Processing speech: https://www.bis.org/api/documents/review/r010907c.json\n",
      "Processing speech: https://www.bis.org/api/documents/review/r010907d.json\n"
     ]
    },
    {
     "name": "stderr",
     "output_type": "stream",
     "text": [
      "  1%|          | 200/20093 [00:17<24:39, 13.45it/s]"
     ]
    },
    {
     "name": "stdout",
     "output_type": "stream",
     "text": [
      "Processing speech: https://www.bis.org/api/documents/review/r010914a.json\n"
     ]
    },
    {
     "name": "stderr",
     "output_type": "stream",
     "text": [
      "  1%|          | 202/20093 [00:18<1:16:59,  4.31it/s]"
     ]
    },
    {
     "name": "stdout",
     "output_type": "stream",
     "text": [
      "Processing speech: https://www.bis.org/api/documents/review/r010914b.json\n",
      "Processing speech: https://www.bis.org/api/documents/review/r010914c.json\n",
      "Processing speech: https://www.bis.org/api/documents/review/r010918a.json\n"
     ]
    },
    {
     "name": "stderr",
     "output_type": "stream",
     "text": [
      "  1%|          | 206/20093 [00:18<50:22,  6.58it/s]  "
     ]
    },
    {
     "name": "stdout",
     "output_type": "stream",
     "text": [
      "Processing speech: https://www.bis.org/api/documents/review/r010918b.json\n",
      "Processing speech: https://www.bis.org/api/documents/review/r010918c.json\n",
      "Processing speech: https://www.bis.org/api/documents/review/r010918d.json\n"
     ]
    },
    {
     "name": "stderr",
     "output_type": "stream",
     "text": [
      "  1%|          | 208/20093 [00:19<42:42,  7.76it/s]"
     ]
    },
    {
     "name": "stdout",
     "output_type": "stream",
     "text": [
      "Processing speech: https://www.bis.org/api/documents/review/r010924a.json\n",
      "Processing speech: https://www.bis.org/api/documents/review/r010924b.json\n",
      "Processing speech: https://www.bis.org/api/documents/review/r010924c.json\n"
     ]
    },
    {
     "name": "stderr",
     "output_type": "stream",
     "text": [
      "  1%|          | 212/20093 [00:19<32:58, 10.05it/s]"
     ]
    },
    {
     "name": "stdout",
     "output_type": "stream",
     "text": [
      "Processing speech: https://www.bis.org/api/documents/review/r010927a.json\n",
      "Processing speech: https://www.bis.org/api/documents/review/r010927b.json\n",
      "Processing speech: https://www.bis.org/api/documents/review/r010927d.json\n",
      "Processing speech: https://www.bis.org/api/documents/review/r010927e.json\n"
     ]
    },
    {
     "name": "stderr",
     "output_type": "stream",
     "text": [
      "  1%|          | 216/20093 [00:19<28:33, 11.60it/s]"
     ]
    },
    {
     "name": "stdout",
     "output_type": "stream",
     "text": [
      "Processing speech: https://www.bis.org/api/documents/review/r010928a.json\n",
      "Processing speech: https://www.bis.org/api/documents/review/r010928b.json\n",
      "Processing speech: https://www.bis.org/api/documents/review/r010928c.json\n"
     ]
    },
    {
     "name": "stderr",
     "output_type": "stream",
     "text": [
      "  1%|          | 218/20093 [00:19<27:16, 12.14it/s]"
     ]
    },
    {
     "name": "stdout",
     "output_type": "stream",
     "text": [
      "Processing speech: https://www.bis.org/api/documents/review/r010928d.json\n",
      "Processing speech: https://www.bis.org/api/documents/review/r011005b.json\n",
      "Processing speech: https://www.bis.org/api/documents/review/r011005c.json\n"
     ]
    },
    {
     "name": "stderr",
     "output_type": "stream",
     "text": [
      "  1%|          | 222/20093 [00:20<26:00, 12.74it/s]"
     ]
    },
    {
     "name": "stdout",
     "output_type": "stream",
     "text": [
      "Processing speech: https://www.bis.org/api/documents/review/r011010a.json\n",
      "Processing speech: https://www.bis.org/api/documents/review/r011010b.json\n",
      "Processing speech: https://www.bis.org/api/documents/review/r011012a.json\n"
     ]
    },
    {
     "name": "stderr",
     "output_type": "stream",
     "text": [
      "  1%|          | 224/20093 [00:20<25:51, 12.80it/s]"
     ]
    },
    {
     "name": "stdout",
     "output_type": "stream",
     "text": [
      "Processing speech: https://www.bis.org/api/documents/review/r011012c.json\n",
      "Processing speech: https://www.bis.org/api/documents/review/r011012d.json\n",
      "Processing speech: https://www.bis.org/api/documents/review/r011015a.json\n"
     ]
    },
    {
     "name": "stderr",
     "output_type": "stream",
     "text": [
      "  1%|          | 228/20093 [00:20<24:27, 13.53it/s]"
     ]
    },
    {
     "name": "stdout",
     "output_type": "stream",
     "text": [
      "Processing speech: https://www.bis.org/api/documents/review/r011015b.json\n",
      "Processing speech: https://www.bis.org/api/documents/review/r011015c.json\n",
      "Processing speech: https://www.bis.org/api/documents/review/r011015d.json\n"
     ]
    },
    {
     "name": "stderr",
     "output_type": "stream",
     "text": [
      "  1%|          | 230/20093 [00:20<24:58, 13.26it/s]"
     ]
    },
    {
     "name": "stdout",
     "output_type": "stream",
     "text": [
      "Processing speech: https://www.bis.org/api/documents/review/r011016b.json\n",
      "Processing speech: https://www.bis.org/api/documents/review/r011016c.json\n",
      "Processing speech: https://www.bis.org/api/documents/review/r011016d.json\n"
     ]
    },
    {
     "name": "stderr",
     "output_type": "stream",
     "text": [
      "  1%|          | 234/20093 [00:20<25:54, 12.78it/s]"
     ]
    },
    {
     "name": "stdout",
     "output_type": "stream",
     "text": [
      "Processing speech: https://www.bis.org/api/documents/review/r011018a.json\n",
      "Processing speech: https://www.bis.org/api/documents/review/r011018b.json\n",
      "Processing speech: https://www.bis.org/api/documents/review/r011022a.json\n"
     ]
    },
    {
     "name": "stderr",
     "output_type": "stream",
     "text": [
      "  1%|          | 236/20093 [00:21<26:08, 12.66it/s]"
     ]
    },
    {
     "name": "stdout",
     "output_type": "stream",
     "text": [
      "Processing speech: https://www.bis.org/api/documents/review/r011022b.json\n",
      "Processing speech: https://www.bis.org/api/documents/review/r011022c.json\n",
      "Processing speech: https://www.bis.org/api/documents/review/r011022d.json\n"
     ]
    },
    {
     "name": "stderr",
     "output_type": "stream",
     "text": [
      "  1%|          | 240/20093 [00:21<26:17, 12.59it/s]"
     ]
    },
    {
     "name": "stdout",
     "output_type": "stream",
     "text": [
      "Processing speech: https://www.bis.org/api/documents/review/r011025a.json\n",
      "Processing speech: https://www.bis.org/api/documents/review/r011025b.json\n",
      "Processing speech: https://www.bis.org/api/documents/review/r011025c.json\n"
     ]
    },
    {
     "name": "stderr",
     "output_type": "stream",
     "text": [
      "  1%|          | 242/20093 [00:21<27:14, 12.15it/s]"
     ]
    },
    {
     "name": "stdout",
     "output_type": "stream",
     "text": [
      "Processing speech: https://www.bis.org/api/documents/review/r011025d.json\n",
      "Processing speech: https://www.bis.org/api/documents/review/r011029a.json\n",
      "Processing speech: https://www.bis.org/api/documents/review/r011029b.json\n"
     ]
    },
    {
     "name": "stderr",
     "output_type": "stream",
     "text": [
      "  1%|          | 246/20093 [00:21<25:48, 12.82it/s]"
     ]
    },
    {
     "name": "stdout",
     "output_type": "stream",
     "text": [
      "Processing speech: https://www.bis.org/api/documents/review/r011029c.json\n",
      "Processing speech: https://www.bis.org/api/documents/review/r011029d.json\n",
      "Processing speech: https://www.bis.org/api/documents/review/r011030a.json\n"
     ]
    },
    {
     "name": "stderr",
     "output_type": "stream",
     "text": [
      "  1%|          | 248/20093 [00:22<25:02, 13.21it/s]"
     ]
    },
    {
     "name": "stdout",
     "output_type": "stream",
     "text": [
      "Processing speech: https://www.bis.org/api/documents/review/r011030b.json\n",
      "Processing speech: https://www.bis.org/api/documents/review/r011030c.json\n",
      "Processing speech: https://www.bis.org/api/documents/review/r011030d.json\n"
     ]
    },
    {
     "name": "stderr",
     "output_type": "stream",
     "text": [
      "  1%|▏         | 252/20093 [00:22<25:04, 13.19it/s]"
     ]
    },
    {
     "name": "stdout",
     "output_type": "stream",
     "text": [
      "Processing speech: https://www.bis.org/api/documents/review/r011108a.json\n",
      "Processing speech: https://www.bis.org/api/documents/review/r011108b.json\n",
      "Processing speech: https://www.bis.org/api/documents/review/r011108c.json\n"
     ]
    },
    {
     "name": "stderr",
     "output_type": "stream",
     "text": [
      "  1%|▏         | 254/20093 [00:22<24:54, 13.27it/s]"
     ]
    },
    {
     "name": "stdout",
     "output_type": "stream",
     "text": [
      "Processing speech: https://www.bis.org/api/documents/review/r011108d.json\n",
      "Processing speech: https://www.bis.org/api/documents/review/r011108e.json\n",
      "Processing speech: https://www.bis.org/api/documents/review/r011108f.json\n"
     ]
    },
    {
     "name": "stderr",
     "output_type": "stream",
     "text": [
      "  1%|▏         | 258/20093 [00:22<24:46, 13.34it/s]"
     ]
    },
    {
     "name": "stdout",
     "output_type": "stream",
     "text": [
      "Processing speech: https://www.bis.org/api/documents/review/r011120a.json\n",
      "Processing speech: https://www.bis.org/api/documents/review/r011120b.json\n",
      "Processing speech: https://www.bis.org/api/documents/review/r011120c.json\n"
     ]
    },
    {
     "name": "stderr",
     "output_type": "stream",
     "text": [
      "  1%|▏         | 260/20093 [00:22<25:05, 13.18it/s]"
     ]
    },
    {
     "name": "stdout",
     "output_type": "stream",
     "text": [
      "Processing speech: https://www.bis.org/api/documents/review/r011120d.json\n",
      "Processing speech: https://www.bis.org/api/documents/review/r011120e.json\n",
      "Processing speech: https://www.bis.org/api/documents/review/r011122a.json\n"
     ]
    },
    {
     "name": "stderr",
     "output_type": "stream",
     "text": [
      "  1%|▏         | 264/20093 [00:23<25:43, 12.85it/s]"
     ]
    },
    {
     "name": "stdout",
     "output_type": "stream",
     "text": [
      "Processing speech: https://www.bis.org/api/documents/review/r011122b.json\n",
      "Processing speech: https://www.bis.org/api/documents/review/r011122c.json\n",
      "Processing speech: https://www.bis.org/api/documents/review/r011123b.json\n"
     ]
    },
    {
     "name": "stderr",
     "output_type": "stream",
     "text": [
      "  1%|▏         | 266/20093 [00:23<25:31, 12.95it/s]"
     ]
    },
    {
     "name": "stdout",
     "output_type": "stream",
     "text": [
      "Processing speech: https://www.bis.org/api/documents/review/r011123c.json\n",
      "Processing speech: https://www.bis.org/api/documents/review/r011124a.json\n",
      "Processing speech: https://www.bis.org/api/documents/review/r011124b.json\n"
     ]
    },
    {
     "name": "stderr",
     "output_type": "stream",
     "text": [
      "  1%|▏         | 268/20093 [00:23<25:27, 12.98it/s]"
     ]
    },
    {
     "name": "stdout",
     "output_type": "stream",
     "text": [
      "Processing speech: https://www.bis.org/api/documents/review/r011124c.json\n",
      "Processing speech: https://www.bis.org/api/documents/review/r011125a.json\n"
     ]
    },
    {
     "name": "stderr",
     "output_type": "stream",
     "text": [
      "  1%|▏         | 272/20093 [00:24<42:52,  7.71it/s]"
     ]
    },
    {
     "name": "stdout",
     "output_type": "stream",
     "text": [
      "Processing speech: https://www.bis.org/api/documents/review/r011125b.json\n",
      "Processing speech: https://www.bis.org/api/documents/review/r011125c.json\n",
      "Processing speech: https://www.bis.org/api/documents/review/r011129a.json\n"
     ]
    },
    {
     "name": "stderr",
     "output_type": "stream",
     "text": [
      "  1%|▏         | 274/20093 [00:24<37:25,  8.83it/s]"
     ]
    },
    {
     "name": "stdout",
     "output_type": "stream",
     "text": [
      "Processing speech: https://www.bis.org/api/documents/review/r011129b.json\n",
      "Processing speech: https://www.bis.org/api/documents/review/r011129c.json\n",
      "Processing speech: https://www.bis.org/api/documents/review/r011129d.json\n"
     ]
    },
    {
     "name": "stderr",
     "output_type": "stream",
     "text": [
      "  1%|▏         | 278/20093 [00:25<57:14,  5.77it/s]  "
     ]
    },
    {
     "name": "stdout",
     "output_type": "stream",
     "text": [
      "Processing speech: https://www.bis.org/api/documents/review/r011130a.json\n",
      "Processing speech: https://www.bis.org/api/documents/review/r011130b.json\n",
      "Processing speech: https://www.bis.org/api/documents/review/r011130c.json\n"
     ]
    },
    {
     "name": "stderr",
     "output_type": "stream",
     "text": [
      "  1%|▏         | 280/20093 [00:25<46:57,  7.03it/s]"
     ]
    },
    {
     "name": "stdout",
     "output_type": "stream",
     "text": [
      "Processing speech: https://www.bis.org/api/documents/review/r011130d.json\n",
      "Processing speech: https://www.bis.org/api/documents/review/r011130e.json\n",
      "Processing speech: https://www.bis.org/api/documents/review/r011130f.json\n"
     ]
    },
    {
     "name": "stderr",
     "output_type": "stream",
     "text": [
      "  1%|▏         | 284/20093 [00:26<35:31,  9.29it/s]"
     ]
    },
    {
     "name": "stdout",
     "output_type": "stream",
     "text": [
      "Processing speech: https://www.bis.org/api/documents/review/r011206a.json\n",
      "Processing speech: https://www.bis.org/api/documents/review/r011206b.json\n",
      "Processing speech: https://www.bis.org/api/documents/review/r011206c.json\n"
     ]
    },
    {
     "name": "stderr",
     "output_type": "stream",
     "text": [
      "  1%|▏         | 286/20093 [00:26<32:39, 10.11it/s]"
     ]
    },
    {
     "name": "stdout",
     "output_type": "stream",
     "text": [
      "Processing speech: https://www.bis.org/api/documents/review/r011211a.json\n",
      "Processing speech: https://www.bis.org/api/documents/review/r011211b.json\n"
     ]
    },
    {
     "name": "stderr",
     "output_type": "stream",
     "text": [
      "  1%|▏         | 288/20093 [00:26<43:33,  7.58it/s]"
     ]
    },
    {
     "name": "stdout",
     "output_type": "stream",
     "text": [
      "Processing speech: https://www.bis.org/api/documents/review/r011211c.json\n",
      "Processing speech: https://www.bis.org/api/documents/review/r011211d.json\n",
      "Processing speech: https://www.bis.org/api/documents/review/r010119b.json\n"
     ]
    },
    {
     "name": "stderr",
     "output_type": "stream",
     "text": [
      "  1%|▏         | 290/20093 [00:26<37:49,  8.72it/s]"
     ]
    },
    {
     "name": "stdout",
     "output_type": "stream",
     "text": [
      "Processing speech: https://www.bis.org/api/documents/review/r010205a.json\n"
     ]
    },
    {
     "name": "stderr",
     "output_type": "stream",
     "text": [
      "  1%|▏         | 292/20093 [00:27<1:24:24,  3.91it/s]"
     ]
    },
    {
     "name": "stdout",
     "output_type": "stream",
     "text": [
      "Processing speech: https://www.bis.org/api/documents/review/r010212a.json\n",
      "Processing speech: https://www.bis.org/api/documents/review/r010305c.json\n",
      "Processing speech: https://www.bis.org/api/documents/review/r010405b.json\n"
     ]
    },
    {
     "name": "stderr",
     "output_type": "stream",
     "text": [
      "  1%|▏         | 296/20093 [00:28<54:36,  6.04it/s]  "
     ]
    },
    {
     "name": "stdout",
     "output_type": "stream",
     "text": [
      "Processing speech: https://www.bis.org/api/documents/review/r010409b.json\n",
      "Processing speech: https://www.bis.org/api/documents/review/r010503b.json\n",
      "Processing speech: https://www.bis.org/api/documents/review/r010503c.json\n"
     ]
    },
    {
     "name": "stderr",
     "output_type": "stream",
     "text": [
      "  1%|▏         | 298/20093 [00:28<45:47,  7.20it/s]"
     ]
    },
    {
     "name": "stdout",
     "output_type": "stream",
     "text": [
      "Processing speech: https://www.bis.org/api/documents/review/r010516b.json\n",
      "Processing speech: https://www.bis.org/api/documents/review/r010518c.json\n",
      "Processing speech: https://www.bis.org/api/documents/review/r010530b.json\n"
     ]
    },
    {
     "name": "stderr",
     "output_type": "stream",
     "text": [
      "  2%|▏         | 302/20093 [00:28<34:41,  9.51it/s]"
     ]
    },
    {
     "name": "stdout",
     "output_type": "stream",
     "text": [
      "Processing speech: https://www.bis.org/api/documents/review/r010621c.json\n",
      "Processing speech: https://www.bis.org/api/documents/review/r010628a.json\n",
      "Processing speech: https://www.bis.org/api/documents/review/r010824a.json\n"
     ]
    },
    {
     "name": "stderr",
     "output_type": "stream",
     "text": [
      "  2%|▏         | 304/20093 [00:28<31:23, 10.51it/s]"
     ]
    },
    {
     "name": "stdout",
     "output_type": "stream",
     "text": [
      "Processing speech: https://www.bis.org/api/documents/review/r010907a.json\n",
      "Processing speech: https://www.bis.org/api/documents/review/r010927c.json\n",
      "Processing speech: https://www.bis.org/api/documents/review/r011012b.json\n"
     ]
    },
    {
     "name": "stderr",
     "output_type": "stream",
     "text": [
      "  2%|▏         | 308/20093 [00:29<28:41, 11.49it/s]"
     ]
    },
    {
     "name": "stdout",
     "output_type": "stream",
     "text": [
      "Processing speech: https://www.bis.org/api/documents/review/r011016a.json\n",
      "Processing speech: https://www.bis.org/api/documents/review/r011123a.json\n",
      "Processing speech: https://www.bis.org/api/documents/review/r970214b.json\n"
     ]
    },
    {
     "name": "stderr",
     "output_type": "stream",
     "text": [
      "  2%|▏         | 310/20093 [00:29<41:20,  7.98it/s]"
     ]
    },
    {
     "name": "stdout",
     "output_type": "stream",
     "text": [
      "Processing speech: https://www.bis.org/api/documents/review/r991220c.json\n",
      "Processing speech: https://www.bis.org/api/documents/review/r991220b.json\n",
      "Processing speech: https://www.bis.org/api/documents/review/r991220a.json\n"
     ]
    },
    {
     "name": "stderr",
     "output_type": "stream",
     "text": [
      "  2%|▏         | 314/20093 [00:29<35:04,  9.40it/s]"
     ]
    },
    {
     "name": "stdout",
     "output_type": "stream",
     "text": [
      "Processing speech: https://www.bis.org/api/documents/review/r991210c.json\n",
      "Processing speech: https://www.bis.org/api/documents/review/r991210b.json\n",
      "Processing speech: https://www.bis.org/api/documents/review/r991210a.json\n"
     ]
    },
    {
     "name": "stderr",
     "output_type": "stream",
     "text": [
      "  2%|▏         | 316/20093 [00:30<45:09,  7.30it/s]"
     ]
    },
    {
     "name": "stdout",
     "output_type": "stream",
     "text": [
      "Processing speech: https://www.bis.org/api/documents/review/r991208b.json\n",
      "Processing speech: https://www.bis.org/api/documents/review/r991208a.json\n",
      "Processing speech: https://www.bis.org/api/documents/review/r991207b.json\n"
     ]
    },
    {
     "name": "stderr",
     "output_type": "stream",
     "text": [
      "  2%|▏         | 320/20093 [00:30<35:39,  9.24it/s]"
     ]
    },
    {
     "name": "stdout",
     "output_type": "stream",
     "text": [
      "Processing speech: https://www.bis.org/api/documents/review/r991207a.json\n",
      "Processing speech: https://www.bis.org/api/documents/review/r991206c.json\n",
      "Processing speech: https://www.bis.org/api/documents/review/r991206b.json\n"
     ]
    },
    {
     "name": "stderr",
     "output_type": "stream",
     "text": [
      "  2%|▏         | 322/20093 [00:30<32:45, 10.06it/s]"
     ]
    },
    {
     "name": "stdout",
     "output_type": "stream",
     "text": [
      "Processing speech: https://www.bis.org/api/documents/review/r991206a.json\n",
      "Processing speech: https://www.bis.org/api/documents/review/r991201c.json\n",
      "Processing speech: https://www.bis.org/api/documents/review/r991201b.json\n"
     ]
    },
    {
     "name": "stderr",
     "output_type": "stream",
     "text": [
      "  2%|▏         | 324/20093 [00:30<30:55, 10.65it/s]"
     ]
    },
    {
     "name": "stdout",
     "output_type": "stream",
     "text": [
      "Processing speech: https://www.bis.org/api/documents/review/r991201a.json\n",
      "Processing speech: https://www.bis.org/api/documents/review/r991130c.json\n"
     ]
    },
    {
     "name": "stderr",
     "output_type": "stream",
     "text": [
      "  2%|▏         | 328/20093 [00:31<36:13,  9.10it/s]"
     ]
    },
    {
     "name": "stdout",
     "output_type": "stream",
     "text": [
      "Processing speech: https://www.bis.org/api/documents/review/r991130b.json\n",
      "Processing speech: https://www.bis.org/api/documents/review/r991130a.json\n",
      "Processing speech: https://www.bis.org/api/documents/review/r991126c.json\n"
     ]
    },
    {
     "name": "stderr",
     "output_type": "stream",
     "text": [
      "  2%|▏         | 330/20093 [00:31<33:02,  9.97it/s]"
     ]
    },
    {
     "name": "stdout",
     "output_type": "stream",
     "text": [
      "Processing speech: https://www.bis.org/api/documents/review/r991126b.json\n",
      "Processing speech: https://www.bis.org/api/documents/review/r991126a.json\n",
      "Processing speech: https://www.bis.org/api/documents/review/r991124d.json\n"
     ]
    },
    {
     "name": "stderr",
     "output_type": "stream",
     "text": [
      "  2%|▏         | 334/20093 [00:32<29:51, 11.03it/s]"
     ]
    },
    {
     "name": "stdout",
     "output_type": "stream",
     "text": [
      "Processing speech: https://www.bis.org/api/documents/review/r991124c.json\n",
      "Processing speech: https://www.bis.org/api/documents/review/r991124b.json\n",
      "Processing speech: https://www.bis.org/api/documents/review/r991124a.json\n"
     ]
    },
    {
     "name": "stderr",
     "output_type": "stream",
     "text": [
      "  2%|▏         | 336/20093 [00:32<28:35, 11.52it/s]"
     ]
    },
    {
     "name": "stdout",
     "output_type": "stream",
     "text": [
      "Processing speech: https://www.bis.org/api/documents/review/r991123b.json\n",
      "Processing speech: https://www.bis.org/api/documents/review/r991123a.json\n",
      "Processing speech: https://www.bis.org/api/documents/review/r991118c.json\n"
     ]
    },
    {
     "name": "stderr",
     "output_type": "stream",
     "text": [
      "  2%|▏         | 340/20093 [00:32<25:51, 12.73it/s]"
     ]
    },
    {
     "name": "stdout",
     "output_type": "stream",
     "text": [
      "Processing speech: https://www.bis.org/api/documents/review/r991118b.json\n",
      "Processing speech: https://www.bis.org/api/documents/review/r991118a.json\n",
      "Processing speech: https://www.bis.org/api/documents/review/r991115d.json\n",
      "Processing speech: https://www.bis.org/api/documents/review/r991115c.json\n"
     ]
    },
    {
     "name": "stderr",
     "output_type": "stream",
     "text": [
      "  2%|▏         | 344/20093 [00:32<25:49, 12.75it/s]"
     ]
    },
    {
     "name": "stdout",
     "output_type": "stream",
     "text": [
      "Processing speech: https://www.bis.org/api/documents/review/r991115b.json\n",
      "Processing speech: https://www.bis.org/api/documents/review/r991115a.json\n",
      "Processing speech: https://www.bis.org/api/documents/review/r991111c.json\n"
     ]
    },
    {
     "name": "stderr",
     "output_type": "stream",
     "text": [
      "  2%|▏         | 346/20093 [00:32<26:00, 12.65it/s]"
     ]
    },
    {
     "name": "stdout",
     "output_type": "stream",
     "text": [
      "Processing speech: https://www.bis.org/api/documents/review/r991111b.json\n",
      "Processing speech: https://www.bis.org/api/documents/review/r991111a.json\n",
      "Processing speech: https://www.bis.org/api/documents/review/r991109c.json\n"
     ]
    },
    {
     "name": "stderr",
     "output_type": "stream",
     "text": [
      "  2%|▏         | 350/20093 [00:33<25:40, 12.82it/s]"
     ]
    },
    {
     "name": "stdout",
     "output_type": "stream",
     "text": [
      "Processing speech: https://www.bis.org/api/documents/review/r991109b.json\n",
      "Processing speech: https://www.bis.org/api/documents/review/r991109a.json\n",
      "Processing speech: https://www.bis.org/api/documents/review/r991108b.json\n"
     ]
    },
    {
     "name": "stderr",
     "output_type": "stream",
     "text": [
      "  2%|▏         | 352/20093 [00:33<25:02, 13.14it/s]"
     ]
    },
    {
     "name": "stdout",
     "output_type": "stream",
     "text": [
      "Processing speech: https://www.bis.org/api/documents/review/r991108a.json\n",
      "Processing speech: https://www.bis.org/api/documents/review/r991105a.json\n",
      "Processing speech: https://www.bis.org/api/documents/review/r991103b.json\n"
     ]
    },
    {
     "name": "stderr",
     "output_type": "stream",
     "text": [
      "  2%|▏         | 354/20093 [00:34<1:00:34,  5.43it/s]"
     ]
    },
    {
     "name": "stdout",
     "output_type": "stream",
     "text": [
      "Processing speech: https://www.bis.org/api/documents/review/r991103a.json\n"
     ]
    },
    {
     "name": "stderr",
     "output_type": "stream",
     "text": [
      "  2%|▏         | 357/20093 [00:34<53:10,  6.19it/s]  "
     ]
    },
    {
     "name": "stdout",
     "output_type": "stream",
     "text": [
      "Processing speech: https://www.bis.org/api/documents/review/r991102b.json\n",
      "Processing speech: https://www.bis.org/api/documents/review/r991102a.json\n",
      "Processing speech: https://www.bis.org/api/documents/review/r991101b.json\n"
     ]
    },
    {
     "name": "stderr",
     "output_type": "stream",
     "text": [
      "  2%|▏         | 359/20093 [00:34<43:54,  7.49it/s]"
     ]
    },
    {
     "name": "stdout",
     "output_type": "stream",
     "text": [
      "Processing speech: https://www.bis.org/api/documents/review/r991101a.json\n",
      "Processing speech: https://www.bis.org/api/documents/review/r991029b.json\n",
      "Processing speech: https://www.bis.org/api/documents/review/r991029a.json\n"
     ]
    },
    {
     "name": "stderr",
     "output_type": "stream",
     "text": [
      "  2%|▏         | 363/20093 [00:35<33:56,  9.69it/s]"
     ]
    },
    {
     "name": "stdout",
     "output_type": "stream",
     "text": [
      "Processing speech: https://www.bis.org/api/documents/review/r991027b.json\n",
      "Processing speech: https://www.bis.org/api/documents/review/r991027a.json\n",
      "Processing speech: https://www.bis.org/api/documents/review/r991026b.json\n"
     ]
    },
    {
     "name": "stderr",
     "output_type": "stream",
     "text": [
      "  2%|▏         | 365/20093 [00:35<31:12, 10.53it/s]"
     ]
    },
    {
     "name": "stdout",
     "output_type": "stream",
     "text": [
      "Processing speech: https://www.bis.org/api/documents/review/r991026a.json\n",
      "Processing speech: https://www.bis.org/api/documents/review/r991022c.json\n",
      "Processing speech: https://www.bis.org/api/documents/review/r991022b.json\n"
     ]
    },
    {
     "name": "stderr",
     "output_type": "stream",
     "text": [
      "  2%|▏         | 369/20093 [00:35<28:07, 11.69it/s]"
     ]
    },
    {
     "name": "stdout",
     "output_type": "stream",
     "text": [
      "Processing speech: https://www.bis.org/api/documents/review/r991022a.json\n",
      "Processing speech: https://www.bis.org/api/documents/review/r991021b.json\n",
      "Processing speech: https://www.bis.org/api/documents/review/r991021a.json\n"
     ]
    },
    {
     "name": "stderr",
     "output_type": "stream",
     "text": [
      "  2%|▏         | 371/20093 [00:35<26:56, 12.20it/s]"
     ]
    },
    {
     "name": "stdout",
     "output_type": "stream",
     "text": [
      "Processing speech: https://www.bis.org/api/documents/review/r991019c.json\n",
      "Processing speech: https://www.bis.org/api/documents/review/r991019b.json\n",
      "Processing speech: https://www.bis.org/api/documents/review/r991019a.json\n"
     ]
    },
    {
     "name": "stderr",
     "output_type": "stream",
     "text": [
      "  2%|▏         | 375/20093 [00:36<27:15, 12.06it/s]"
     ]
    },
    {
     "name": "stdout",
     "output_type": "stream",
     "text": [
      "Processing speech: https://www.bis.org/api/documents/review/r991015b.json\n",
      "Processing speech: https://www.bis.org/api/documents/review/r991015a.json\n",
      "Processing speech: https://www.bis.org/api/documents/review/r991014a.json\n"
     ]
    },
    {
     "name": "stderr",
     "output_type": "stream",
     "text": [
      "  2%|▏         | 377/20093 [00:36<26:27, 12.42it/s]"
     ]
    },
    {
     "name": "stdout",
     "output_type": "stream",
     "text": [
      "Processing speech: https://www.bis.org/api/documents/review/r991013c.json\n",
      "Processing speech: https://www.bis.org/api/documents/review/r991013b.json\n",
      "Processing speech: https://www.bis.org/api/documents/review/r991013a.json\n"
     ]
    },
    {
     "name": "stderr",
     "output_type": "stream",
     "text": [
      "  2%|▏         | 381/20093 [00:36<25:45, 12.75it/s]"
     ]
    },
    {
     "name": "stdout",
     "output_type": "stream",
     "text": [
      "Processing speech: https://www.bis.org/api/documents/review/r991012c.json\n",
      "Processing speech: https://www.bis.org/api/documents/review/r991012b.json\n",
      "Processing speech: https://www.bis.org/api/documents/review/r991012a.json\n"
     ]
    },
    {
     "name": "stderr",
     "output_type": "stream",
     "text": [
      "  2%|▏         | 383/20093 [00:36<25:43, 12.77it/s]"
     ]
    },
    {
     "name": "stdout",
     "output_type": "stream",
     "text": [
      "Processing speech: https://www.bis.org/api/documents/review/r991008b.json\n",
      "Processing speech: https://www.bis.org/api/documents/review/r991008a.json\n",
      "Processing speech: https://www.bis.org/api/documents/review/r991006b.json\n"
     ]
    },
    {
     "name": "stderr",
     "output_type": "stream",
     "text": [
      "  2%|▏         | 387/20093 [00:36<24:37, 13.34it/s]"
     ]
    },
    {
     "name": "stdout",
     "output_type": "stream",
     "text": [
      "Processing speech: https://www.bis.org/api/documents/review/r991006a.json\n",
      "Processing speech: https://www.bis.org/api/documents/review/r991005c.json\n",
      "Processing speech: https://www.bis.org/api/documents/review/r991005b.json\n"
     ]
    },
    {
     "name": "stderr",
     "output_type": "stream",
     "text": [
      "  2%|▏         | 389/20093 [00:37<25:10, 13.04it/s]"
     ]
    },
    {
     "name": "stdout",
     "output_type": "stream",
     "text": [
      "Processing speech: https://www.bis.org/api/documents/review/r991005a.json\n",
      "Processing speech: https://www.bis.org/api/documents/review/r991004b.json\n",
      "Processing speech: https://www.bis.org/api/documents/review/r991004a.json\n"
     ]
    },
    {
     "name": "stderr",
     "output_type": "stream",
     "text": [
      "  2%|▏         | 393/20093 [00:37<24:48, 13.23it/s]"
     ]
    },
    {
     "name": "stdout",
     "output_type": "stream",
     "text": [
      "Processing speech: https://www.bis.org/api/documents/review/r990930b.json\n",
      "Processing speech: https://www.bis.org/api/documents/review/r990930a.json\n",
      "Processing speech: https://www.bis.org/api/documents/review/r990929b.json\n"
     ]
    },
    {
     "name": "stderr",
     "output_type": "stream",
     "text": [
      "  2%|▏         | 395/20093 [00:37<25:07, 13.07it/s]"
     ]
    },
    {
     "name": "stdout",
     "output_type": "stream",
     "text": [
      "Processing speech: https://www.bis.org/api/documents/review/r990929a.json\n",
      "Processing speech: https://www.bis.org/api/documents/review/r990928b.json\n",
      "Processing speech: https://www.bis.org/api/documents/review/r990928a.json\n"
     ]
    },
    {
     "name": "stderr",
     "output_type": "stream",
     "text": [
      "  2%|▏         | 399/20093 [00:37<24:27, 13.42it/s]"
     ]
    },
    {
     "name": "stdout",
     "output_type": "stream",
     "text": [
      "Processing speech: https://www.bis.org/api/documents/review/r990927b.json\n",
      "Processing speech: https://www.bis.org/api/documents/review/r990927a.json\n",
      "Processing speech: https://www.bis.org/api/documents/review/r990923b.json\n"
     ]
    },
    {
     "name": "stderr",
     "output_type": "stream",
     "text": [
      "  2%|▏         | 401/20093 [00:38<24:07, 13.60it/s]"
     ]
    },
    {
     "name": "stdout",
     "output_type": "stream",
     "text": [
      "Processing speech: https://www.bis.org/api/documents/review/r990923a.json\n",
      "Processing speech: https://www.bis.org/api/documents/review/r990922c.json\n",
      "Processing speech: https://www.bis.org/api/documents/review/r990922b.json\n"
     ]
    },
    {
     "name": "stderr",
     "output_type": "stream",
     "text": [
      "  2%|▏         | 405/20093 [00:38<23:45, 13.81it/s]"
     ]
    },
    {
     "name": "stdout",
     "output_type": "stream",
     "text": [
      "Processing speech: https://www.bis.org/api/documents/review/r990922a.json\n",
      "Processing speech: https://www.bis.org/api/documents/review/r990920c.json\n",
      "Processing speech: https://www.bis.org/api/documents/review/r990920b.json\n"
     ]
    },
    {
     "name": "stderr",
     "output_type": "stream",
     "text": [
      "  2%|▏         | 407/20093 [00:38<23:47, 13.79it/s]"
     ]
    },
    {
     "name": "stdout",
     "output_type": "stream",
     "text": [
      "Processing speech: https://www.bis.org/api/documents/review/r990920a.json\n",
      "Processing speech: https://www.bis.org/api/documents/review/r990914c.json\n",
      "Processing speech: https://www.bis.org/api/documents/review/r990914b.json\n"
     ]
    },
    {
     "name": "stderr",
     "output_type": "stream",
     "text": [
      "  2%|▏         | 411/20093 [00:38<23:32, 13.94it/s]"
     ]
    },
    {
     "name": "stdout",
     "output_type": "stream",
     "text": [
      "Processing speech: https://www.bis.org/api/documents/review/r990914a.json\n",
      "Processing speech: https://www.bis.org/api/documents/review/r990913a.json\n",
      "Processing speech: https://www.bis.org/api/documents/review/r990910b.json\n"
     ]
    },
    {
     "name": "stderr",
     "output_type": "stream",
     "text": [
      "  2%|▏         | 413/20093 [00:38<23:40, 13.85it/s]"
     ]
    },
    {
     "name": "stdout",
     "output_type": "stream",
     "text": [
      "Processing speech: https://www.bis.org/api/documents/review/r990910a.json\n",
      "Processing speech: https://www.bis.org/api/documents/review/r990908c.json\n",
      "Processing speech: https://www.bis.org/api/documents/review/r990908b.json\n"
     ]
    },
    {
     "name": "stderr",
     "output_type": "stream",
     "text": [
      "  2%|▏         | 417/20093 [00:39<24:05, 13.61it/s]"
     ]
    },
    {
     "name": "stdout",
     "output_type": "stream",
     "text": [
      "Processing speech: https://www.bis.org/api/documents/review/r990908a.json\n",
      "Processing speech: https://www.bis.org/api/documents/review/r990906c.json\n",
      "Processing speech: https://www.bis.org/api/documents/review/r990906b.json\n",
      "Processing speech: https://www.bis.org/api/documents/review/r990906a.json\n"
     ]
    },
    {
     "name": "stderr",
     "output_type": "stream",
     "text": [
      "  2%|▏         | 421/20093 [00:39<23:58, 13.67it/s]"
     ]
    },
    {
     "name": "stdout",
     "output_type": "stream",
     "text": [
      "Processing speech: https://www.bis.org/api/documents/review/r990831a.json\n",
      "Processing speech: https://www.bis.org/api/documents/review/r990830b.json\n",
      "Processing speech: https://www.bis.org/api/documents/review/r990830a.json\n"
     ]
    },
    {
     "name": "stderr",
     "output_type": "stream",
     "text": [
      "  2%|▏         | 423/20093 [00:39<24:03, 13.63it/s]"
     ]
    },
    {
     "name": "stdout",
     "output_type": "stream",
     "text": [
      "Processing speech: https://www.bis.org/api/documents/review/r990818c.json\n",
      "Processing speech: https://www.bis.org/api/documents/review/r990818b.json\n",
      "Processing speech: https://www.bis.org/api/documents/review/r990818a.json\n"
     ]
    },
    {
     "name": "stderr",
     "output_type": "stream",
     "text": [
      "  2%|▏         | 427/20093 [00:39<24:35, 13.33it/s]"
     ]
    },
    {
     "name": "stdout",
     "output_type": "stream",
     "text": [
      "Processing speech: https://www.bis.org/api/documents/review/r990812c.json\n",
      "Processing speech: https://www.bis.org/api/documents/review/r990812b.json\n",
      "Processing speech: https://www.bis.org/api/documents/review/r990812a.json\n"
     ]
    },
    {
     "name": "stderr",
     "output_type": "stream",
     "text": [
      "  2%|▏         | 429/20093 [00:40<24:53, 13.17it/s]"
     ]
    },
    {
     "name": "stdout",
     "output_type": "stream",
     "text": [
      "Processing speech: https://www.bis.org/api/documents/review/r990809b.json\n",
      "Processing speech: https://www.bis.org/api/documents/review/r990809a.json\n",
      "Processing speech: https://www.bis.org/api/documents/review/r990729a.json\n"
     ]
    },
    {
     "name": "stderr",
     "output_type": "stream",
     "text": [
      "  2%|▏         | 433/20093 [00:40<24:16, 13.50it/s]"
     ]
    },
    {
     "name": "stdout",
     "output_type": "stream",
     "text": [
      "Processing speech: https://www.bis.org/api/documents/review/r990726a.json\n",
      "Processing speech: https://www.bis.org/api/documents/review/r990722b.json\n",
      "Processing speech: https://www.bis.org/api/documents/review/r990722a.json\n"
     ]
    },
    {
     "name": "stderr",
     "output_type": "stream",
     "text": [
      "  2%|▏         | 435/20093 [00:40<23:55, 13.69it/s]"
     ]
    },
    {
     "name": "stdout",
     "output_type": "stream",
     "text": [
      "Processing speech: https://www.bis.org/api/documents/review/r990716b.json\n",
      "Processing speech: https://www.bis.org/api/documents/review/r990716a.json\n",
      "Processing speech: https://www.bis.org/api/documents/review/r990712b.json\n"
     ]
    },
    {
     "name": "stderr",
     "output_type": "stream",
     "text": [
      "  2%|▏         | 439/20093 [00:40<23:40, 13.83it/s]"
     ]
    },
    {
     "name": "stdout",
     "output_type": "stream",
     "text": [
      "Processing speech: https://www.bis.org/api/documents/review/r990712a.json\n",
      "Processing speech: https://www.bis.org/api/documents/review/r990709b.json\n",
      "Processing speech: https://www.bis.org/api/documents/review/r990709a.json\n"
     ]
    },
    {
     "name": "stderr",
     "output_type": "stream",
     "text": [
      "  2%|▏         | 441/20093 [00:40<23:58, 13.67it/s]"
     ]
    },
    {
     "name": "stdout",
     "output_type": "stream",
     "text": [
      "Processing speech: https://www.bis.org/api/documents/review/r990708b.json\n",
      "Processing speech: https://www.bis.org/api/documents/review/r990708a.json\n",
      "Processing speech: https://www.bis.org/api/documents/review/r990707b.json\n"
     ]
    },
    {
     "name": "stderr",
     "output_type": "stream",
     "text": [
      "  2%|▏         | 445/20093 [00:41<23:34, 13.89it/s]"
     ]
    },
    {
     "name": "stdout",
     "output_type": "stream",
     "text": [
      "Processing speech: https://www.bis.org/api/documents/review/r990707a.json\n",
      "Processing speech: https://www.bis.org/api/documents/review/r990706a.json\n",
      "Processing speech: https://www.bis.org/api/documents/review/r990705b.json\n"
     ]
    },
    {
     "name": "stderr",
     "output_type": "stream",
     "text": [
      "  2%|▏         | 447/20093 [00:41<23:32, 13.91it/s]"
     ]
    },
    {
     "name": "stdout",
     "output_type": "stream",
     "text": [
      "Processing speech: https://www.bis.org/api/documents/review/r990705a.json\n",
      "Processing speech: https://www.bis.org/api/documents/review/r990630b.json\n",
      "Processing speech: https://www.bis.org/api/documents/review/r990630a.json\n"
     ]
    },
    {
     "name": "stderr",
     "output_type": "stream",
     "text": [
      "  2%|▏         | 451/20093 [00:41<23:47, 13.76it/s]"
     ]
    },
    {
     "name": "stdout",
     "output_type": "stream",
     "text": [
      "Processing speech: https://www.bis.org/api/documents/review/r990625b.json\n",
      "Processing speech: https://www.bis.org/api/documents/review/r990625a.json\n",
      "Processing speech: https://www.bis.org/api/documents/review/r990622b.json\n"
     ]
    },
    {
     "name": "stderr",
     "output_type": "stream",
     "text": [
      "  2%|▏         | 453/20093 [00:41<23:33, 13.90it/s]"
     ]
    },
    {
     "name": "stdout",
     "output_type": "stream",
     "text": [
      "Processing speech: https://www.bis.org/api/documents/review/r990622a.json\n",
      "Processing speech: https://www.bis.org/api/documents/review/r990621b.json\n",
      "Processing speech: https://www.bis.org/api/documents/review/r990621a.json\n"
     ]
    },
    {
     "name": "stderr",
     "output_type": "stream",
     "text": [
      "  2%|▏         | 457/20093 [00:42<23:37, 13.85it/s]"
     ]
    },
    {
     "name": "stdout",
     "output_type": "stream",
     "text": [
      "Processing speech: https://www.bis.org/api/documents/review/r990618b.json\n",
      "Processing speech: https://www.bis.org/api/documents/review/r990618a.json\n",
      "Processing speech: https://www.bis.org/api/documents/review/r9906166.json\n"
     ]
    },
    {
     "name": "stderr",
     "output_type": "stream",
     "text": [
      "  2%|▏         | 459/20093 [00:42<23:24, 13.98it/s]"
     ]
    },
    {
     "name": "stdout",
     "output_type": "stream",
     "text": [
      "Processing speech: https://www.bis.org/api/documents/review/r990615b.json\n",
      "Processing speech: https://www.bis.org/api/documents/review/r990615a.json\n",
      "Processing speech: https://www.bis.org/api/documents/review/r990611b.json\n"
     ]
    },
    {
     "name": "stderr",
     "output_type": "stream",
     "text": [
      "  2%|▏         | 463/20093 [00:42<25:24, 12.88it/s]"
     ]
    },
    {
     "name": "stdout",
     "output_type": "stream",
     "text": [
      "Processing speech: https://www.bis.org/api/documents/review/r990611a.json\n",
      "Processing speech: https://www.bis.org/api/documents/review/r990610b.json\n",
      "Processing speech: https://www.bis.org/api/documents/review/r990610a.json\n"
     ]
    },
    {
     "name": "stderr",
     "output_type": "stream",
     "text": [
      "  2%|▏         | 465/20093 [00:42<24:42, 13.24it/s]"
     ]
    },
    {
     "name": "stdout",
     "output_type": "stream",
     "text": [
      "Processing speech: https://www.bis.org/api/documents/review/r990609a.json\n",
      "Processing speech: https://www.bis.org/api/documents/review/r990603b.json\n",
      "Processing speech: https://www.bis.org/api/documents/review/r990603a.json\n"
     ]
    },
    {
     "name": "stderr",
     "output_type": "stream",
     "text": [
      "  2%|▏         | 469/20093 [00:43<24:23, 13.41it/s]"
     ]
    },
    {
     "name": "stdout",
     "output_type": "stream",
     "text": [
      "Processing speech: https://www.bis.org/api/documents/review/r990601b.json\n",
      "Processing speech: https://www.bis.org/api/documents/review/r990601a.json\n",
      "Processing speech: https://www.bis.org/api/documents/review/r990531b.json\n"
     ]
    },
    {
     "name": "stderr",
     "output_type": "stream",
     "text": [
      "  2%|▏         | 471/20093 [00:43<24:11, 13.51it/s]"
     ]
    },
    {
     "name": "stdout",
     "output_type": "stream",
     "text": [
      "Processing speech: https://www.bis.org/api/documents/review/r990531a.json\n",
      "Processing speech: https://www.bis.org/api/documents/review/r990528b.json\n",
      "Processing speech: https://www.bis.org/api/documents/review/r990528a.json\n"
     ]
    },
    {
     "name": "stderr",
     "output_type": "stream",
     "text": [
      "  2%|▏         | 475/20093 [00:43<24:21, 13.43it/s]"
     ]
    },
    {
     "name": "stdout",
     "output_type": "stream",
     "text": [
      "Processing speech: https://www.bis.org/api/documents/review/r990527b.json\n",
      "Processing speech: https://www.bis.org/api/documents/review/r990527a.json\n",
      "Processing speech: https://www.bis.org/api/documents/review/r990526b.json\n"
     ]
    },
    {
     "name": "stderr",
     "output_type": "stream",
     "text": [
      "  2%|▏         | 477/20093 [00:43<25:07, 13.02it/s]"
     ]
    },
    {
     "name": "stdout",
     "output_type": "stream",
     "text": [
      "Processing speech: https://www.bis.org/api/documents/review/r990526a.json\n",
      "Processing speech: https://www.bis.org/api/documents/review/r990525b.json\n",
      "Processing speech: https://www.bis.org/api/documents/review/r990525a.json\n"
     ]
    },
    {
     "name": "stderr",
     "output_type": "stream",
     "text": [
      "  2%|▏         | 481/20093 [00:43<24:12, 13.51it/s]"
     ]
    },
    {
     "name": "stdout",
     "output_type": "stream",
     "text": [
      "Processing speech: https://www.bis.org/api/documents/review/r990521b.json\n",
      "Processing speech: https://www.bis.org/api/documents/review/r990521a.json\n",
      "Processing speech: https://www.bis.org/api/documents/review/r990520b.json\n"
     ]
    },
    {
     "name": "stderr",
     "output_type": "stream",
     "text": [
      "  2%|▏         | 483/20093 [00:44<24:29, 13.35it/s]"
     ]
    },
    {
     "name": "stdout",
     "output_type": "stream",
     "text": [
      "Processing speech: https://www.bis.org/api/documents/review/r990520a.json\n",
      "Processing speech: https://www.bis.org/api/documents/review/r990519b.json\n",
      "Processing speech: https://www.bis.org/api/documents/review/r990519a.json\n"
     ]
    },
    {
     "name": "stderr",
     "output_type": "stream",
     "text": [
      "  2%|▏         | 487/20093 [00:44<25:28, 12.82it/s]"
     ]
    },
    {
     "name": "stdout",
     "output_type": "stream",
     "text": [
      "Processing speech: https://www.bis.org/api/documents/review/r990518b.json\n",
      "Processing speech: https://www.bis.org/api/documents/review/r990518a.json\n",
      "Processing speech: https://www.bis.org/api/documents/review/r990514c.json\n"
     ]
    },
    {
     "name": "stderr",
     "output_type": "stream",
     "text": [
      "  2%|▏         | 489/20093 [00:44<24:56, 13.10it/s]"
     ]
    },
    {
     "name": "stdout",
     "output_type": "stream",
     "text": [
      "Processing speech: https://www.bis.org/api/documents/review/r990514b.json\n",
      "Processing speech: https://www.bis.org/api/documents/review/r990514a.json\n",
      "Processing speech: https://www.bis.org/api/documents/review/r990512b.json\n"
     ]
    },
    {
     "name": "stderr",
     "output_type": "stream",
     "text": [
      "  2%|▏         | 493/20093 [00:44<24:06, 13.55it/s]"
     ]
    },
    {
     "name": "stdout",
     "output_type": "stream",
     "text": [
      "Processing speech: https://www.bis.org/api/documents/review/r990512a.json\n",
      "Processing speech: https://www.bis.org/api/documents/review/r990510c.json\n",
      "Processing speech: https://www.bis.org/api/documents/review/r990510b.json\n"
     ]
    },
    {
     "name": "stderr",
     "output_type": "stream",
     "text": [
      "  2%|▏         | 495/20093 [00:44<23:50, 13.70it/s]"
     ]
    },
    {
     "name": "stdout",
     "output_type": "stream",
     "text": [
      "Processing speech: https://www.bis.org/api/documents/review/r990510a.json\n",
      "Processing speech: https://www.bis.org/api/documents/review/r990507b.json\n",
      "Processing speech: https://www.bis.org/api/documents/review/r990507a.json\n"
     ]
    },
    {
     "name": "stderr",
     "output_type": "stream",
     "text": [
      "  2%|▏         | 497/20093 [00:45<23:52, 13.68it/s]"
     ]
    },
    {
     "name": "stdout",
     "output_type": "stream",
     "text": [
      "Processing speech: https://www.bis.org/api/documents/review/r990506b.json\n"
     ]
    },
    {
     "name": "stderr",
     "output_type": "stream",
     "text": [
      "  2%|▏         | 499/20093 [00:45<34:54,  9.36it/s]"
     ]
    },
    {
     "name": "stdout",
     "output_type": "stream",
     "text": [
      "Processing speech: https://www.bis.org/api/documents/review/r990506a.json\n",
      "Processing speech: https://www.bis.org/api/documents/review/r990505b.json\n",
      "Processing speech: https://www.bis.org/api/documents/review/r990505a.json\n"
     ]
    },
    {
     "name": "stderr",
     "output_type": "stream",
     "text": [
      "  3%|▎         | 503/20093 [00:45<29:13, 11.17it/s]"
     ]
    },
    {
     "name": "stdout",
     "output_type": "stream",
     "text": [
      "Processing speech: https://www.bis.org/api/documents/review/r990504b.json\n",
      "Processing speech: https://www.bis.org/api/documents/review/r990504a.json\n",
      "Processing speech: https://www.bis.org/api/documents/review/r990430b.json\n"
     ]
    },
    {
     "name": "stderr",
     "output_type": "stream",
     "text": [
      "  3%|▎         | 505/20093 [00:45<27:54, 11.70it/s]"
     ]
    },
    {
     "name": "stdout",
     "output_type": "stream",
     "text": [
      "Processing speech: https://www.bis.org/api/documents/review/r990430a.json\n",
      "Processing speech: https://www.bis.org/api/documents/review/r990429b.json\n",
      "Processing speech: https://www.bis.org/api/documents/review/r990429a.json\n"
     ]
    },
    {
     "name": "stderr",
     "output_type": "stream",
     "text": [
      "  3%|▎         | 509/20093 [00:46<25:56, 12.58it/s]"
     ]
    },
    {
     "name": "stdout",
     "output_type": "stream",
     "text": [
      "Processing speech: https://www.bis.org/api/documents/review/r990428b.json\n",
      "Processing speech: https://www.bis.org/api/documents/review/r990427b.json\n",
      "Processing speech: https://www.bis.org/api/documents/review/r990427a.json\n"
     ]
    },
    {
     "name": "stderr",
     "output_type": "stream",
     "text": [
      "  3%|▎         | 513/20093 [00:46<24:14, 13.46it/s]"
     ]
    },
    {
     "name": "stdout",
     "output_type": "stream",
     "text": [
      "Processing speech: https://www.bis.org/api/documents/review/r990426b.json\n",
      "Processing speech: https://www.bis.org/api/documents/review/r990426a.json\n",
      "Processing speech: https://www.bis.org/api/documents/review/r9904264.json\n"
     ]
    },
    {
     "name": "stderr",
     "output_type": "stream",
     "text": [
      "  3%|▎         | 515/20093 [00:46<24:23, 13.38it/s]"
     ]
    },
    {
     "name": "stdout",
     "output_type": "stream",
     "text": [
      "Processing speech: https://www.bis.org/api/documents/review/r990420b.json\n",
      "Processing speech: https://www.bis.org/api/documents/review/r990420a.json\n",
      "Processing speech: https://www.bis.org/api/documents/review/r990419b.json\n"
     ]
    },
    {
     "name": "stderr",
     "output_type": "stream",
     "text": [
      "  3%|▎         | 517/20093 [00:46<24:07, 13.52it/s]"
     ]
    },
    {
     "name": "stdout",
     "output_type": "stream",
     "text": [
      "Processing speech: https://www.bis.org/api/documents/review/r990419a.json\n",
      "Processing speech: https://www.bis.org/api/documents/review/r990413b.json\n",
      "Processing speech: https://www.bis.org/api/documents/review/r990413a.json\n"
     ]
    },
    {
     "name": "stderr",
     "output_type": "stream",
     "text": [
      "  3%|▎         | 521/20093 [00:47<24:35, 13.26it/s]"
     ]
    },
    {
     "name": "stdout",
     "output_type": "stream",
     "text": [
      "Processing speech: https://www.bis.org/api/documents/review/r990406b.json\n",
      "Processing speech: https://www.bis.org/api/documents/review/r990406a.json\n",
      "Processing speech: https://www.bis.org/api/documents/review/r990401b.json\n"
     ]
    },
    {
     "name": "stderr",
     "output_type": "stream",
     "text": [
      "  3%|▎         | 523/20093 [00:47<25:42, 12.69it/s]"
     ]
    },
    {
     "name": "stdout",
     "output_type": "stream",
     "text": [
      "Processing speech: https://www.bis.org/api/documents/review/r990401a.json\n",
      "Processing speech: https://www.bis.org/api/documents/review/r990331a.json\n",
      "Processing speech: https://www.bis.org/api/documents/review/r990330b.json\n"
     ]
    },
    {
     "name": "stderr",
     "output_type": "stream",
     "text": [
      "  3%|▎         | 527/20093 [00:47<25:48, 12.64it/s]"
     ]
    },
    {
     "name": "stdout",
     "output_type": "stream",
     "text": [
      "Processing speech: https://www.bis.org/api/documents/review/r990330a.json\n",
      "Processing speech: https://www.bis.org/api/documents/review/r990329c.json\n",
      "Processing speech: https://www.bis.org/api/documents/review/r990329b.json\n"
     ]
    },
    {
     "name": "stderr",
     "output_type": "stream",
     "text": [
      "  3%|▎         | 529/20093 [00:47<25:03, 13.02it/s]"
     ]
    },
    {
     "name": "stdout",
     "output_type": "stream",
     "text": [
      "Processing speech: https://www.bis.org/api/documents/review/r990329a.json\n",
      "Processing speech: https://www.bis.org/api/documents/review/r990326b.json\n",
      "Processing speech: https://www.bis.org/api/documents/review/r990326a.json\n"
     ]
    },
    {
     "name": "stderr",
     "output_type": "stream",
     "text": [
      "  3%|▎         | 533/20093 [00:48<24:30, 13.30it/s]"
     ]
    },
    {
     "name": "stdout",
     "output_type": "stream",
     "text": [
      "Processing speech: https://www.bis.org/api/documents/review/r990324b.json\n",
      "Processing speech: https://www.bis.org/api/documents/review/r990324a.json\n",
      "Processing speech: https://www.bis.org/api/documents/review/r990319c.json\n"
     ]
    },
    {
     "name": "stderr",
     "output_type": "stream",
     "text": [
      "  3%|▎         | 535/20093 [00:48<24:23, 13.36it/s]"
     ]
    },
    {
     "name": "stdout",
     "output_type": "stream",
     "text": [
      "Processing speech: https://www.bis.org/api/documents/review/r990319b.json\n",
      "Processing speech: https://www.bis.org/api/documents/review/r990319a.json\n",
      "Processing speech: https://www.bis.org/api/documents/review/r990317a.json\n"
     ]
    },
    {
     "name": "stderr",
     "output_type": "stream",
     "text": [
      "  3%|▎         | 539/20093 [00:48<23:57, 13.61it/s]"
     ]
    },
    {
     "name": "stdout",
     "output_type": "stream",
     "text": [
      "Processing speech: https://www.bis.org/api/documents/review/r990316b.json\n",
      "Processing speech: https://www.bis.org/api/documents/review/r990316a.json\n",
      "Processing speech: https://www.bis.org/api/documents/review/r990312a.json\n"
     ]
    },
    {
     "name": "stderr",
     "output_type": "stream",
     "text": [
      "  3%|▎         | 541/20093 [00:48<23:47, 13.70it/s]"
     ]
    },
    {
     "name": "stdout",
     "output_type": "stream",
     "text": [
      "Processing speech: https://www.bis.org/api/documents/review/r990311b.json\n",
      "Processing speech: https://www.bis.org/api/documents/review/r990311a.json\n",
      "Processing speech: https://www.bis.org/api/documents/review/r990308b.json\n"
     ]
    },
    {
     "name": "stderr",
     "output_type": "stream",
     "text": [
      "  3%|▎         | 545/20093 [00:48<23:54, 13.63it/s]"
     ]
    },
    {
     "name": "stdout",
     "output_type": "stream",
     "text": [
      "Processing speech: https://www.bis.org/api/documents/review/r990308a.json\n",
      "Processing speech: https://www.bis.org/api/documents/review/r990302b.json\n",
      "Processing speech: https://www.bis.org/api/documents/review/r990302a.json\n"
     ]
    },
    {
     "name": "stderr",
     "output_type": "stream",
     "text": [
      "  3%|▎         | 547/20093 [00:49<24:19, 13.39it/s]"
     ]
    },
    {
     "name": "stdout",
     "output_type": "stream",
     "text": [
      "Processing speech: https://www.bis.org/api/documents/review/r990301a.json\n",
      "Processing speech: https://www.bis.org/api/documents/review/r990225b.json\n",
      "Processing speech: https://www.bis.org/api/documents/review/r990225a.json\n"
     ]
    },
    {
     "name": "stderr",
     "output_type": "stream",
     "text": [
      "  3%|▎         | 551/20093 [00:49<23:29, 13.87it/s]"
     ]
    },
    {
     "name": "stdout",
     "output_type": "stream",
     "text": [
      "Processing speech: https://www.bis.org/api/documents/review/r990224a.json\n",
      "Processing speech: https://www.bis.org/api/documents/review/r990223a.json\n",
      "Processing speech: https://www.bis.org/api/documents/review/r990218c.json\n"
     ]
    },
    {
     "name": "stderr",
     "output_type": "stream",
     "text": [
      "  3%|▎         | 555/20093 [00:49<23:01, 14.14it/s]"
     ]
    },
    {
     "name": "stdout",
     "output_type": "stream",
     "text": [
      "Processing speech: https://www.bis.org/api/documents/review/r990218b.json\n",
      "Processing speech: https://www.bis.org/api/documents/review/r990218a.json\n",
      "Processing speech: https://www.bis.org/api/documents/review/r990215c.json\n"
     ]
    },
    {
     "name": "stderr",
     "output_type": "stream",
     "text": [
      "  3%|▎         | 557/20093 [00:49<23:13, 14.01it/s]"
     ]
    },
    {
     "name": "stdout",
     "output_type": "stream",
     "text": [
      "Processing speech: https://www.bis.org/api/documents/review/r990215b.json\n",
      "Processing speech: https://www.bis.org/api/documents/review/r990215a.json\n",
      "Processing speech: https://www.bis.org/api/documents/review/r990211c.json\n"
     ]
    },
    {
     "name": "stderr",
     "output_type": "stream",
     "text": [
      "  3%|▎         | 559/20093 [00:49<22:45, 14.30it/s]"
     ]
    },
    {
     "name": "stdout",
     "output_type": "stream",
     "text": [
      "Processing speech: https://www.bis.org/api/documents/review/r990211b.json\n",
      "Processing speech: https://www.bis.org/api/documents/review/r990211a.json\n",
      "Processing speech: https://www.bis.org/api/documents/review/r990209c.json\n"
     ]
    },
    {
     "name": "stderr",
     "output_type": "stream",
     "text": [
      "  3%|▎         | 563/20093 [00:50<23:05, 14.09it/s]"
     ]
    },
    {
     "name": "stdout",
     "output_type": "stream",
     "text": [
      "Processing speech: https://www.bis.org/api/documents/review/r990209b.json\n",
      "Processing speech: https://www.bis.org/api/documents/review/r990209a.json\n",
      "Processing speech: https://www.bis.org/api/documents/review/r990208b.json\n",
      "Processing speech: https://www.bis.org/api/documents/review/r990208a.json\n"
     ]
    },
    {
     "name": "stderr",
     "output_type": "stream",
     "text": [
      "  3%|▎         | 567/20093 [00:50<23:13, 14.01it/s]"
     ]
    },
    {
     "name": "stdout",
     "output_type": "stream",
     "text": [
      "Processing speech: https://www.bis.org/api/documents/review/r990205b.json\n",
      "Processing speech: https://www.bis.org/api/documents/review/r990205a.json\n",
      "Processing speech: https://www.bis.org/api/documents/review/r990202a.json\n",
      "Processing speech: https://www.bis.org/api/documents/review/r990129b.json\n"
     ]
    },
    {
     "name": "stderr",
     "output_type": "stream",
     "text": [
      "  3%|▎         | 571/20093 [00:50<23:33, 13.81it/s]"
     ]
    },
    {
     "name": "stdout",
     "output_type": "stream",
     "text": [
      "Processing speech: https://www.bis.org/api/documents/review/r990129a.json\n",
      "Processing speech: https://www.bis.org/api/documents/review/r990127b.json\n",
      "Processing speech: https://www.bis.org/api/documents/review/r990127a.json\n"
     ]
    },
    {
     "name": "stderr",
     "output_type": "stream",
     "text": [
      "  3%|▎         | 573/20093 [00:50<23:10, 14.04it/s]"
     ]
    },
    {
     "name": "stdout",
     "output_type": "stream",
     "text": [
      "Processing speech: https://www.bis.org/api/documents/review/r990122d.json\n",
      "Processing speech: https://www.bis.org/api/documents/review/r990122c.json\n",
      "Processing speech: https://www.bis.org/api/documents/review/r990122b.json\n"
     ]
    },
    {
     "name": "stderr",
     "output_type": "stream",
     "text": [
      "  3%|▎         | 577/20093 [00:51<23:00, 14.14it/s]"
     ]
    },
    {
     "name": "stdout",
     "output_type": "stream",
     "text": [
      "Processing speech: https://www.bis.org/api/documents/review/r990122a.json\n",
      "Processing speech: https://www.bis.org/api/documents/review/r990121c.json\n",
      "Processing speech: https://www.bis.org/api/documents/review/r990121b.json\n"
     ]
    },
    {
     "name": "stderr",
     "output_type": "stream",
     "text": [
      "  3%|▎         | 579/20093 [00:51<23:18, 13.95it/s]"
     ]
    },
    {
     "name": "stdout",
     "output_type": "stream",
     "text": [
      "Processing speech: https://www.bis.org/api/documents/review/r990121a.json\n",
      "Processing speech: https://www.bis.org/api/documents/review/r990119b.json\n",
      "Processing speech: https://www.bis.org/api/documents/review/r990119a.json\n"
     ]
    },
    {
     "name": "stderr",
     "output_type": "stream",
     "text": [
      "  3%|▎         | 581/20093 [00:51<23:44, 13.70it/s]"
     ]
    },
    {
     "name": "stdout",
     "output_type": "stream",
     "text": [
      "Processing speech: https://www.bis.org/api/documents/review/r990118d.json\n",
      "Processing speech: https://www.bis.org/api/documents/review/r990118c.json\n"
     ]
    },
    {
     "name": "stderr",
     "output_type": "stream",
     "text": [
      "  3%|▎         | 585/20093 [00:52<30:44, 10.57it/s]"
     ]
    },
    {
     "name": "stdout",
     "output_type": "stream",
     "text": [
      "Processing speech: https://www.bis.org/api/documents/review/r990118b.json\n",
      "Processing speech: https://www.bis.org/api/documents/review/r990111a.json\n",
      "Processing speech: https://www.bis.org/api/documents/review/r990108d.json\n"
     ]
    },
    {
     "name": "stderr",
     "output_type": "stream",
     "text": [
      "  3%|▎         | 587/20093 [00:52<28:53, 11.25it/s]"
     ]
    },
    {
     "name": "stdout",
     "output_type": "stream",
     "text": [
      "Processing speech: https://www.bis.org/api/documents/review/r990108c.json\n",
      "Processing speech: https://www.bis.org/api/documents/review/r990108b.json\n",
      "Processing speech: https://www.bis.org/api/documents/review/r990108a.json\n"
     ]
    },
    {
     "name": "stderr",
     "output_type": "stream",
     "text": [
      "  3%|▎         | 591/20093 [00:52<27:10, 11.96it/s]"
     ]
    },
    {
     "name": "stdout",
     "output_type": "stream",
     "text": [
      "Processing speech: https://www.bis.org/api/documents/review/r981221b.json\n",
      "Processing speech: https://www.bis.org/api/documents/review/r981221a.json\n",
      "Processing speech: https://www.bis.org/api/documents/review/r981218c.json\n"
     ]
    },
    {
     "name": "stderr",
     "output_type": "stream",
     "text": [
      "  3%|▎         | 593/20093 [00:52<38:24,  8.46it/s]"
     ]
    },
    {
     "name": "stdout",
     "output_type": "stream",
     "text": [
      "Processing speech: https://www.bis.org/api/documents/review/r981218b.json\n",
      "Processing speech: https://www.bis.org/api/documents/review/r981218a.json\n",
      "Processing speech: https://www.bis.org/api/documents/review/r981210f.json\n"
     ]
    },
    {
     "name": "stderr",
     "output_type": "stream",
     "text": [
      "  3%|▎         | 597/20093 [00:53<32:27, 10.01it/s]"
     ]
    },
    {
     "name": "stdout",
     "output_type": "stream",
     "text": [
      "Processing speech: https://www.bis.org/api/documents/review/r981210e.json\n",
      "Processing speech: https://www.bis.org/api/documents/review/r981210d.json\n",
      "Processing speech: https://www.bis.org/api/documents/review/r981210c.json\n"
     ]
    },
    {
     "name": "stderr",
     "output_type": "stream",
     "text": [
      "  3%|▎         | 599/20093 [00:53<30:08, 10.78it/s]"
     ]
    },
    {
     "name": "stdout",
     "output_type": "stream",
     "text": [
      "Processing speech: https://www.bis.org/api/documents/review/r981210b.json\n",
      "Processing speech: https://www.bis.org/api/documents/review/r981210a.json\n",
      "Processing speech: https://www.bis.org/api/documents/review/r981204f.json\n"
     ]
    },
    {
     "name": "stderr",
     "output_type": "stream",
     "text": [
      "  3%|▎         | 603/20093 [00:53<27:10, 11.96it/s]"
     ]
    },
    {
     "name": "stdout",
     "output_type": "stream",
     "text": [
      "Processing speech: https://www.bis.org/api/documents/review/r981204e.json\n",
      "Processing speech: https://www.bis.org/api/documents/review/r981204d.json\n",
      "Processing speech: https://www.bis.org/api/documents/review/r981204c.json\n"
     ]
    },
    {
     "name": "stderr",
     "output_type": "stream",
     "text": [
      "  3%|▎         | 605/20093 [00:53<26:07, 12.43it/s]"
     ]
    },
    {
     "name": "stdout",
     "output_type": "stream",
     "text": [
      "Processing speech: https://www.bis.org/api/documents/review/r981203b.json\n",
      "Processing speech: https://www.bis.org/api/documents/review/r981203a.json\n",
      "Processing speech: https://www.bis.org/api/documents/review/r981126e.json\n"
     ]
    },
    {
     "name": "stderr",
     "output_type": "stream",
     "text": [
      "  3%|▎         | 607/20093 [00:53<25:43, 12.62it/s]"
     ]
    },
    {
     "name": "stdout",
     "output_type": "stream",
     "text": [
      "Processing speech: https://www.bis.org/api/documents/review/r981126d.json\n",
      "Processing speech: https://www.bis.org/api/documents/review/r981126c.json\n"
     ]
    },
    {
     "name": "stderr",
     "output_type": "stream",
     "text": [
      "  3%|▎         | 611/20093 [00:54<27:45, 11.69it/s]"
     ]
    },
    {
     "name": "stdout",
     "output_type": "stream",
     "text": [
      "Processing speech: https://www.bis.org/api/documents/review/r981126b.json\n",
      "Processing speech: https://www.bis.org/api/documents/review/r981126a.json\n",
      "Processing speech: https://www.bis.org/api/documents/review/r981120d.json\n"
     ]
    },
    {
     "name": "stderr",
     "output_type": "stream",
     "text": [
      "  3%|▎         | 613/20093 [00:54<26:44, 12.14it/s]"
     ]
    },
    {
     "name": "stdout",
     "output_type": "stream",
     "text": [
      "Processing speech: https://www.bis.org/api/documents/review/r981120c.json\n",
      "Processing speech: https://www.bis.org/api/documents/review/r981120b.json\n",
      "Processing speech: https://www.bis.org/api/documents/review/r981118a.json\n"
     ]
    },
    {
     "name": "stderr",
     "output_type": "stream",
     "text": [
      "  3%|▎         | 617/20093 [00:54<26:27, 12.27it/s]"
     ]
    },
    {
     "name": "stdout",
     "output_type": "stream",
     "text": [
      "Processing speech: https://www.bis.org/api/documents/review/r981113c.json\n",
      "Processing speech: https://www.bis.org/api/documents/review/r981113b.json\n",
      "Processing speech: https://www.bis.org/api/documents/review/r981113a.json\n"
     ]
    },
    {
     "name": "stderr",
     "output_type": "stream",
     "text": [
      "  3%|▎         | 619/20093 [00:54<26:12, 12.38it/s]"
     ]
    },
    {
     "name": "stdout",
     "output_type": "stream",
     "text": [
      "Processing speech: https://www.bis.org/api/documents/review/r981109k.json\n",
      "Processing speech: https://www.bis.org/api/documents/review/r981109j.json\n",
      "Processing speech: https://www.bis.org/api/documents/review/r981109i.json\n"
     ]
    },
    {
     "name": "stderr",
     "output_type": "stream",
     "text": [
      "  3%|▎         | 623/20093 [00:55<26:11, 12.39it/s]"
     ]
    },
    {
     "name": "stdout",
     "output_type": "stream",
     "text": [
      "Processing speech: https://www.bis.org/api/documents/review/r981109h.json\n",
      "Processing speech: https://www.bis.org/api/documents/review/r981109g.json\n",
      "Processing speech: https://www.bis.org/api/documents/review/r981109f.json\n"
     ]
    },
    {
     "name": "stderr",
     "output_type": "stream",
     "text": [
      "  3%|▎         | 625/20093 [00:55<25:44, 12.61it/s]"
     ]
    },
    {
     "name": "stdout",
     "output_type": "stream",
     "text": [
      "Processing speech: https://www.bis.org/api/documents/review/r981109e.json\n",
      "Processing speech: https://www.bis.org/api/documents/review/r981109d.json\n",
      "Processing speech: https://www.bis.org/api/documents/review/r981109c.json\n"
     ]
    },
    {
     "name": "stderr",
     "output_type": "stream",
     "text": [
      "  3%|▎         | 629/20093 [00:55<24:09, 13.43it/s]"
     ]
    },
    {
     "name": "stdout",
     "output_type": "stream",
     "text": [
      "Processing speech: https://www.bis.org/api/documents/review/r981109b.json\n",
      "Processing speech: https://www.bis.org/api/documents/review/r981109a.json\n",
      "Processing speech: https://www.bis.org/api/documents/review/r981029c.json\n"
     ]
    },
    {
     "name": "stderr",
     "output_type": "stream",
     "text": [
      "  3%|▎         | 631/20093 [00:55<24:23, 13.29it/s]"
     ]
    },
    {
     "name": "stdout",
     "output_type": "stream",
     "text": [
      "Processing speech: https://www.bis.org/api/documents/review/r981029b.json\n",
      "Processing speech: https://www.bis.org/api/documents/review/r981029a.json\n",
      "Processing speech: https://www.bis.org/api/documents/review/r981027k.json\n"
     ]
    },
    {
     "name": "stderr",
     "output_type": "stream",
     "text": [
      "  3%|▎         | 635/20093 [00:56<23:56, 13.55it/s]"
     ]
    },
    {
     "name": "stdout",
     "output_type": "stream",
     "text": [
      "Processing speech: https://www.bis.org/api/documents/review/r981027j.json\n",
      "Processing speech: https://www.bis.org/api/documents/review/r981027i.json\n",
      "Processing speech: https://www.bis.org/api/documents/review/r981027h.json\n"
     ]
    },
    {
     "name": "stderr",
     "output_type": "stream",
     "text": [
      "  3%|▎         | 637/20093 [00:56<23:25, 13.84it/s]"
     ]
    },
    {
     "name": "stdout",
     "output_type": "stream",
     "text": [
      "Processing speech: https://www.bis.org/api/documents/review/r981027g.json\n",
      "Processing speech: https://www.bis.org/api/documents/review/r981027f.json\n",
      "Processing speech: https://www.bis.org/api/documents/review/r981027e.json\n"
     ]
    },
    {
     "name": "stderr",
     "output_type": "stream",
     "text": [
      "  3%|▎         | 641/20093 [00:56<24:56, 13.00it/s]"
     ]
    },
    {
     "name": "stdout",
     "output_type": "stream",
     "text": [
      "Processing speech: https://www.bis.org/api/documents/review/r981027d.json\n",
      "Processing speech: https://www.bis.org/api/documents/review/r981027c.json\n"
     ]
    },
    {
     "name": "stderr",
     "output_type": "stream",
     "text": [
      "  3%|▎         | 643/20093 [00:56<24:22, 13.30it/s]"
     ]
    },
    {
     "name": "stdout",
     "output_type": "stream",
     "text": [
      "Processing speech: https://www.bis.org/api/documents/review/r981027b.json\n",
      "Processing speech: https://www.bis.org/api/documents/review/r981027a.json\n",
      "Processing speech: https://www.bis.org/api/documents/review/r981022h.json\n"
     ]
    },
    {
     "name": "stderr",
     "output_type": "stream",
     "text": [
      "  3%|▎         | 645/20093 [00:56<24:55, 13.00it/s]"
     ]
    },
    {
     "name": "stdout",
     "output_type": "stream",
     "text": [
      "Processing speech: https://www.bis.org/api/documents/review/r981022g.json\n",
      "Processing speech: https://www.bis.org/api/documents/review/r981022f.json\n",
      "Processing speech: https://www.bis.org/api/documents/review/r981022e.json\n"
     ]
    },
    {
     "name": "stderr",
     "output_type": "stream",
     "text": [
      "  3%|▎         | 649/20093 [00:57<24:06, 13.44it/s]"
     ]
    },
    {
     "name": "stdout",
     "output_type": "stream",
     "text": [
      "Processing speech: https://www.bis.org/api/documents/review/r981022d.json\n",
      "Processing speech: https://www.bis.org/api/documents/review/r981022c.json\n",
      "Processing speech: https://www.bis.org/api/documents/review/r981022b.json\n"
     ]
    },
    {
     "name": "stderr",
     "output_type": "stream",
     "text": [
      "  3%|▎         | 651/20093 [00:57<24:20, 13.31it/s]"
     ]
    },
    {
     "name": "stdout",
     "output_type": "stream",
     "text": [
      "Processing speech: https://www.bis.org/api/documents/review/r981022a.json\n",
      "Processing speech: https://www.bis.org/api/documents/review/r981016c.json\n"
     ]
    },
    {
     "name": "stderr",
     "output_type": "stream",
     "text": [
      "  3%|▎         | 653/20093 [00:58<1:13:03,  4.44it/s]"
     ]
    },
    {
     "name": "stdout",
     "output_type": "stream",
     "text": [
      "Processing speech: https://www.bis.org/api/documents/review/r981016b.json\n",
      "Processing speech: https://www.bis.org/api/documents/review/r981016a.json\n",
      "Processing speech: https://www.bis.org/api/documents/review/r981014h.json\n"
     ]
    },
    {
     "name": "stderr",
     "output_type": "stream",
     "text": [
      "  3%|▎         | 657/20093 [00:58<47:18,  6.85it/s]  "
     ]
    },
    {
     "name": "stdout",
     "output_type": "stream",
     "text": [
      "Processing speech: https://www.bis.org/api/documents/review/r981014g.json\n",
      "Processing speech: https://www.bis.org/api/documents/review/r981012f.json\n",
      "Processing speech: https://www.bis.org/api/documents/review/r981012e.json\n"
     ]
    },
    {
     "name": "stderr",
     "output_type": "stream",
     "text": [
      "  3%|▎         | 659/20093 [00:58<39:35,  8.18it/s]"
     ]
    },
    {
     "name": "stdout",
     "output_type": "stream",
     "text": [
      "Processing speech: https://www.bis.org/api/documents/review/r981012d.json\n",
      "Processing speech: https://www.bis.org/api/documents/review/r981012c.json\n",
      "Processing speech: https://www.bis.org/api/documents/review/r981012b.json\n"
     ]
    },
    {
     "name": "stderr",
     "output_type": "stream",
     "text": [
      "  3%|▎         | 663/20093 [00:59<30:23, 10.66it/s]"
     ]
    },
    {
     "name": "stdout",
     "output_type": "stream",
     "text": [
      "Processing speech: https://www.bis.org/api/documents/review/r981012a.json\n",
      "Processing speech: https://www.bis.org/api/documents/review/r980928c.json\n",
      "Processing speech: https://www.bis.org/api/documents/review/r980928b.json\n",
      "Processing speech: https://www.bis.org/api/documents/review/r980928a.json\n"
     ]
    },
    {
     "name": "stderr",
     "output_type": "stream",
     "text": [
      "  3%|▎         | 667/20093 [00:59<26:47, 12.08it/s]"
     ]
    },
    {
     "name": "stdout",
     "output_type": "stream",
     "text": [
      "Processing speech: https://www.bis.org/api/documents/review/r980922.json\n",
      "Processing speech: https://www.bis.org/api/documents/review/r980918d.json\n",
      "Processing speech: https://www.bis.org/api/documents/review/r980918c.json\n"
     ]
    },
    {
     "name": "stderr",
     "output_type": "stream",
     "text": [
      "  3%|▎         | 669/20093 [00:59<25:30, 12.69it/s]"
     ]
    },
    {
     "name": "stdout",
     "output_type": "stream",
     "text": [
      "Processing speech: https://www.bis.org/api/documents/review/r980918b.json\n",
      "Processing speech: https://www.bis.org/api/documents/review/r980918a.json\n",
      "Processing speech: https://www.bis.org/api/documents/review/r980916c.json\n"
     ]
    },
    {
     "name": "stderr",
     "output_type": "stream",
     "text": [
      "  3%|▎         | 673/20093 [00:59<25:09, 12.86it/s]"
     ]
    },
    {
     "name": "stdout",
     "output_type": "stream",
     "text": [
      "Processing speech: https://www.bis.org/api/documents/review/r980916b.json\n",
      "Processing speech: https://www.bis.org/api/documents/review/r980916a.json\n",
      "Processing speech: https://www.bis.org/api/documents/review/r980911c.json\n"
     ]
    },
    {
     "name": "stderr",
     "output_type": "stream",
     "text": [
      "  3%|▎         | 675/20093 [01:00<24:31, 13.19it/s]"
     ]
    },
    {
     "name": "stdout",
     "output_type": "stream",
     "text": [
      "Processing speech: https://www.bis.org/api/documents/review/r980911b.json\n",
      "Processing speech: https://www.bis.org/api/documents/review/r980911a.json\n",
      "Processing speech: https://www.bis.org/api/documents/review/r980904c.json\n"
     ]
    },
    {
     "name": "stderr",
     "output_type": "stream",
     "text": [
      "  3%|▎         | 679/20093 [01:00<24:04, 13.44it/s]"
     ]
    },
    {
     "name": "stdout",
     "output_type": "stream",
     "text": [
      "Processing speech: https://www.bis.org/api/documents/review/r980904b.json\n",
      "Processing speech: https://www.bis.org/api/documents/review/r980904a.json\n",
      "Processing speech: https://www.bis.org/api/documents/review/r980830e.json\n"
     ]
    },
    {
     "name": "stderr",
     "output_type": "stream",
     "text": [
      "  3%|▎         | 681/20093 [01:00<26:02, 12.42it/s]"
     ]
    },
    {
     "name": "stdout",
     "output_type": "stream",
     "text": [
      "Processing speech: https://www.bis.org/api/documents/review/r980830d.json\n",
      "Processing speech: https://www.bis.org/api/documents/review/r980830c.json\n",
      "Processing speech: https://www.bis.org/api/documents/review/r980830b.json\n"
     ]
    },
    {
     "name": "stderr",
     "output_type": "stream",
     "text": [
      "  3%|▎         | 685/20093 [01:00<25:16, 12.80it/s]"
     ]
    },
    {
     "name": "stdout",
     "output_type": "stream",
     "text": [
      "Processing speech: https://www.bis.org/api/documents/review/r980830a.json\n",
      "Processing speech: https://www.bis.org/api/documents/review/r980804b.json\n",
      "Processing speech: https://www.bis.org/api/documents/review/r980804a.json\n"
     ]
    },
    {
     "name": "stderr",
     "output_type": "stream",
     "text": [
      "  3%|▎         | 687/20093 [01:01<25:10, 12.84it/s]"
     ]
    },
    {
     "name": "stdout",
     "output_type": "stream",
     "text": [
      "Processing speech: https://www.bis.org/api/documents/review/r980724b.json\n",
      "Processing speech: https://www.bis.org/api/documents/review/r980724a.json\n",
      "Processing speech: https://www.bis.org/api/documents/review/r980723a.json\n"
     ]
    },
    {
     "name": "stderr",
     "output_type": "stream",
     "text": [
      "  3%|▎         | 691/20093 [01:01<24:19, 13.29it/s]"
     ]
    },
    {
     "name": "stdout",
     "output_type": "stream",
     "text": [
      "Processing speech: https://www.bis.org/api/documents/review/r980717b.json\n",
      "Processing speech: https://www.bis.org/api/documents/review/r980717a.json\n",
      "Processing speech: https://www.bis.org/api/documents/review/r980713b.json\n"
     ]
    },
    {
     "name": "stderr",
     "output_type": "stream",
     "text": [
      "  3%|▎         | 693/20093 [01:01<23:40, 13.66it/s]"
     ]
    },
    {
     "name": "stdout",
     "output_type": "stream",
     "text": [
      "Processing speech: https://www.bis.org/api/documents/review/r980713a.json\n",
      "Processing speech: https://www.bis.org/api/documents/review/r980710b.json\n",
      "Processing speech: https://www.bis.org/api/documents/review/r980710a.json\n"
     ]
    },
    {
     "name": "stderr",
     "output_type": "stream",
     "text": [
      "  3%|▎         | 697/20093 [01:01<23:33, 13.72it/s]"
     ]
    },
    {
     "name": "stdout",
     "output_type": "stream",
     "text": [
      "Processing speech: https://www.bis.org/api/documents/review/r980626d.json\n",
      "Processing speech: https://www.bis.org/api/documents/review/r980626c.json\n",
      "Processing speech: https://www.bis.org/api/documents/review/r980626b.json\n"
     ]
    },
    {
     "name": "stderr",
     "output_type": "stream",
     "text": [
      "  3%|▎         | 699/20093 [01:01<23:36, 13.69it/s]"
     ]
    },
    {
     "name": "stdout",
     "output_type": "stream",
     "text": [
      "Processing speech: https://www.bis.org/api/documents/review/r980626a.json\n",
      "Processing speech: https://www.bis.org/api/documents/review/r980616b.json\n",
      "Processing speech: https://www.bis.org/api/documents/review/r980616a.json\n"
     ]
    },
    {
     "name": "stderr",
     "output_type": "stream",
     "text": [
      "  3%|▎         | 703/20093 [01:02<23:44, 13.61it/s]"
     ]
    },
    {
     "name": "stdout",
     "output_type": "stream",
     "text": [
      "Processing speech: https://www.bis.org/api/documents/review/r980610b.json\n",
      "Processing speech: https://www.bis.org/api/documents/review/r980610a.json\n",
      "Processing speech: https://www.bis.org/api/documents/review/r980606b.json\n"
     ]
    },
    {
     "name": "stderr",
     "output_type": "stream",
     "text": [
      "  4%|▎         | 705/20093 [01:02<23:39, 13.66it/s]"
     ]
    },
    {
     "name": "stdout",
     "output_type": "stream",
     "text": [
      "Processing speech: https://www.bis.org/api/documents/review/r980606a.json\n",
      "Processing speech: https://www.bis.org/api/documents/review/r980603e.json\n",
      "Processing speech: https://www.bis.org/api/documents/review/r980603d.json\n"
     ]
    },
    {
     "name": "stderr",
     "output_type": "stream",
     "text": [
      "  4%|▎         | 709/20093 [01:02<23:21, 13.83it/s]"
     ]
    },
    {
     "name": "stdout",
     "output_type": "stream",
     "text": [
      "Processing speech: https://www.bis.org/api/documents/review/r980603c.json\n",
      "Processing speech: https://www.bis.org/api/documents/review/r980603b.json\n",
      "Processing speech: https://www.bis.org/api/documents/review/r980603a.json\n"
     ]
    },
    {
     "name": "stderr",
     "output_type": "stream",
     "text": [
      "  4%|▎         | 711/20093 [01:02<23:14, 13.89it/s]"
     ]
    },
    {
     "name": "stdout",
     "output_type": "stream",
     "text": [
      "Processing speech: https://www.bis.org/api/documents/review/r980527c.json\n",
      "Processing speech: https://www.bis.org/api/documents/review/r980527b.json\n",
      "Processing speech: https://www.bis.org/api/documents/review/r980527a.json\n"
     ]
    },
    {
     "name": "stderr",
     "output_type": "stream",
     "text": [
      "  4%|▎         | 715/20093 [01:03<23:36, 13.68it/s]"
     ]
    },
    {
     "name": "stdout",
     "output_type": "stream",
     "text": [
      "Processing speech: https://www.bis.org/api/documents/review/r980522a.json\n",
      "Processing speech: https://www.bis.org/api/documents/review/r980518v.json\n",
      "Processing speech: https://www.bis.org/api/documents/review/r980518u.json\n"
     ]
    },
    {
     "name": "stderr",
     "output_type": "stream",
     "text": [
      "  4%|▎         | 717/20093 [01:03<24:37, 13.12it/s]"
     ]
    },
    {
     "name": "stdout",
     "output_type": "stream",
     "text": [
      "Processing speech: https://www.bis.org/api/documents/review/r980518t.json\n",
      "Processing speech: https://www.bis.org/api/documents/review/r980518s.json\n",
      "Processing speech: https://www.bis.org/api/documents/review/r980518r.json\n"
     ]
    },
    {
     "name": "stderr",
     "output_type": "stream",
     "text": [
      "  4%|▎         | 721/20093 [01:03<24:31, 13.16it/s]"
     ]
    },
    {
     "name": "stdout",
     "output_type": "stream",
     "text": [
      "Processing speech: https://www.bis.org/api/documents/review/r980518q.json\n",
      "Processing speech: https://www.bis.org/api/documents/review/r980518p.json\n",
      "Processing speech: https://www.bis.org/api/documents/review/r980518o.json\n"
     ]
    },
    {
     "name": "stderr",
     "output_type": "stream",
     "text": [
      "  4%|▎         | 723/20093 [01:03<24:17, 13.29it/s]"
     ]
    },
    {
     "name": "stdout",
     "output_type": "stream",
     "text": [
      "Processing speech: https://www.bis.org/api/documents/review/r980518n.json\n",
      "Processing speech: https://www.bis.org/api/documents/review/r980518m.json\n",
      "Processing speech: https://www.bis.org/api/documents/review/r980518l.json\n"
     ]
    },
    {
     "name": "stderr",
     "output_type": "stream",
     "text": [
      "  4%|▎         | 727/20093 [01:03<23:56, 13.48it/s]"
     ]
    },
    {
     "name": "stdout",
     "output_type": "stream",
     "text": [
      "Processing speech: https://www.bis.org/api/documents/review/r980518k.json\n",
      "Processing speech: https://www.bis.org/api/documents/review/r980518j.json\n",
      "Processing speech: https://www.bis.org/api/documents/review/r980518i.json\n"
     ]
    },
    {
     "name": "stderr",
     "output_type": "stream",
     "text": [
      "  4%|▎         | 729/20093 [01:04<23:51, 13.53it/s]"
     ]
    },
    {
     "name": "stdout",
     "output_type": "stream",
     "text": [
      "Processing speech: https://www.bis.org/api/documents/review/r980518h.json\n",
      "Processing speech: https://www.bis.org/api/documents/review/r980518g.json\n",
      "Processing speech: https://www.bis.org/api/documents/review/r980518f.json\n"
     ]
    },
    {
     "name": "stderr",
     "output_type": "stream",
     "text": [
      "  4%|▎         | 733/20093 [01:04<24:52, 12.97it/s]"
     ]
    },
    {
     "name": "stdout",
     "output_type": "stream",
     "text": [
      "Processing speech: https://www.bis.org/api/documents/review/r980518e.json\n",
      "Processing speech: https://www.bis.org/api/documents/review/r980518d.json\n",
      "Processing speech: https://www.bis.org/api/documents/review/r980518c.json\n"
     ]
    },
    {
     "name": "stderr",
     "output_type": "stream",
     "text": [
      "  4%|▎         | 735/20093 [01:04<24:38, 13.09it/s]"
     ]
    },
    {
     "name": "stdout",
     "output_type": "stream",
     "text": [
      "Processing speech: https://www.bis.org/api/documents/review/r980518b.json\n",
      "Processing speech: https://www.bis.org/api/documents/review/r980518a.json\n",
      "Processing speech: https://www.bis.org/api/documents/review/r980427b.json\n"
     ]
    },
    {
     "name": "stderr",
     "output_type": "stream",
     "text": [
      "  4%|▎         | 739/20093 [01:04<24:21, 13.25it/s]"
     ]
    },
    {
     "name": "stdout",
     "output_type": "stream",
     "text": [
      "Processing speech: https://www.bis.org/api/documents/review/r980427a.json\n",
      "Processing speech: https://www.bis.org/api/documents/review/r980421b.json\n",
      "Processing speech: https://www.bis.org/api/documents/review/r980421a.json\n"
     ]
    },
    {
     "name": "stderr",
     "output_type": "stream",
     "text": [
      "  4%|▎         | 741/20093 [01:05<24:16, 13.29it/s]"
     ]
    },
    {
     "name": "stdout",
     "output_type": "stream",
     "text": [
      "Processing speech: https://www.bis.org/api/documents/review/r980417d.json\n",
      "Processing speech: https://www.bis.org/api/documents/review/r980417c.json\n",
      "Processing speech: https://www.bis.org/api/documents/review/r980417b.json\n"
     ]
    },
    {
     "name": "stderr",
     "output_type": "stream",
     "text": [
      "  4%|▎         | 745/20093 [01:05<23:48, 13.55it/s]"
     ]
    },
    {
     "name": "stdout",
     "output_type": "stream",
     "text": [
      "Processing speech: https://www.bis.org/api/documents/review/r980417a.json\n",
      "Processing speech: https://www.bis.org/api/documents/review/r980407b.json\n",
      "Processing speech: https://www.bis.org/api/documents/review/r980407a.json\n",
      "Processing speech: https://www.bis.org/api/documents/review/r980401b.json\n"
     ]
    },
    {
     "name": "stderr",
     "output_type": "stream",
     "text": [
      "  4%|▎         | 749/20093 [01:05<23:35, 13.67it/s]"
     ]
    },
    {
     "name": "stdout",
     "output_type": "stream",
     "text": [
      "Processing speech: https://www.bis.org/api/documents/review/r980401a.json\n",
      "Processing speech: https://www.bis.org/api/documents/review/r980327c.json\n",
      "Processing speech: https://www.bis.org/api/documents/review/r980327b.json\n"
     ]
    },
    {
     "name": "stderr",
     "output_type": "stream",
     "text": [
      "  4%|▎         | 751/20093 [01:05<24:00, 13.43it/s]"
     ]
    },
    {
     "name": "stdout",
     "output_type": "stream",
     "text": [
      "Processing speech: https://www.bis.org/api/documents/review/r980327a.json\n",
      "Processing speech: https://www.bis.org/api/documents/review/r980325e.json\n",
      "Processing speech: https://www.bis.org/api/documents/review/r980325d.json\n"
     ]
    },
    {
     "name": "stderr",
     "output_type": "stream",
     "text": [
      "  4%|▍         | 755/20093 [01:06<23:33, 13.68it/s]"
     ]
    },
    {
     "name": "stdout",
     "output_type": "stream",
     "text": [
      "Processing speech: https://www.bis.org/api/documents/review/r980325c.json\n",
      "Processing speech: https://www.bis.org/api/documents/review/r980325b.json\n",
      "Processing speech: https://www.bis.org/api/documents/review/r980325a.json\n",
      "Processing speech: https://www.bis.org/api/documents/review/r980318e.json\n"
     ]
    },
    {
     "name": "stderr",
     "output_type": "stream",
     "text": [
      "  4%|▍         | 759/20093 [01:06<23:00, 14.01it/s]"
     ]
    },
    {
     "name": "stdout",
     "output_type": "stream",
     "text": [
      "Processing speech: https://www.bis.org/api/documents/review/r980318d.json\n",
      "Processing speech: https://www.bis.org/api/documents/review/r980318c.json\n",
      "Processing speech: https://www.bis.org/api/documents/review/r980318b.json\n",
      "Processing speech: https://www.bis.org/api/documents/review/r980318a.json\n"
     ]
    },
    {
     "name": "stderr",
     "output_type": "stream",
     "text": [
      "  4%|▍         | 763/20093 [01:06<22:46, 14.14it/s]"
     ]
    },
    {
     "name": "stdout",
     "output_type": "stream",
     "text": [
      "Processing speech: https://www.bis.org/api/documents/review/r980312a.json\n",
      "Processing speech: https://www.bis.org/api/documents/review/r980311e.json\n",
      "Processing speech: https://www.bis.org/api/documents/review/r980311d.json\n"
     ]
    },
    {
     "name": "stderr",
     "output_type": "stream",
     "text": [
      "  4%|▍         | 765/20093 [01:06<23:06, 13.94it/s]"
     ]
    },
    {
     "name": "stdout",
     "output_type": "stream",
     "text": [
      "Processing speech: https://www.bis.org/api/documents/review/r980311c.json\n",
      "Processing speech: https://www.bis.org/api/documents/review/r980311b.json\n",
      "Processing speech: https://www.bis.org/api/documents/review/r980311a.json\n"
     ]
    },
    {
     "name": "stderr",
     "output_type": "stream",
     "text": [
      "  4%|▍         | 769/20093 [01:07<23:48, 13.52it/s]"
     ]
    },
    {
     "name": "stdout",
     "output_type": "stream",
     "text": [
      "Processing speech: https://www.bis.org/api/documents/review/r980309b.json\n",
      "Processing speech: https://www.bis.org/api/documents/review/r980309a.json\n",
      "Processing speech: https://www.bis.org/api/documents/review/r980304c.json\n"
     ]
    },
    {
     "name": "stderr",
     "output_type": "stream",
     "text": [
      "  4%|▍         | 771/20093 [01:07<24:28, 13.16it/s]"
     ]
    },
    {
     "name": "stdout",
     "output_type": "stream",
     "text": [
      "Processing speech: https://www.bis.org/api/documents/review/r980304b.json\n",
      "Processing speech: https://www.bis.org/api/documents/review/r980304a.json\n",
      "Processing speech: https://www.bis.org/api/documents/review/r980227e.json\n"
     ]
    },
    {
     "name": "stderr",
     "output_type": "stream",
     "text": [
      "  4%|▍         | 775/20093 [01:07<24:37, 13.08it/s]"
     ]
    },
    {
     "name": "stdout",
     "output_type": "stream",
     "text": [
      "Processing speech: https://www.bis.org/api/documents/review/r980227d.json\n",
      "Processing speech: https://www.bis.org/api/documents/review/r980227c.json\n",
      "Processing speech: https://www.bis.org/api/documents/review/r980227b.json\n"
     ]
    },
    {
     "name": "stderr",
     "output_type": "stream",
     "text": [
      "  4%|▍         | 777/20093 [01:07<24:25, 13.18it/s]"
     ]
    },
    {
     "name": "stdout",
     "output_type": "stream",
     "text": [
      "Processing speech: https://www.bis.org/api/documents/review/r980227a.json\n",
      "Processing speech: https://www.bis.org/api/documents/review/r980219c.json\n",
      "Processing speech: https://www.bis.org/api/documents/review/r980219b.json\n"
     ]
    },
    {
     "name": "stderr",
     "output_type": "stream",
     "text": [
      "  4%|▍         | 781/20093 [01:07<25:51, 12.45it/s]"
     ]
    },
    {
     "name": "stdout",
     "output_type": "stream",
     "text": [
      "Processing speech: https://www.bis.org/api/documents/review/r980219a.json\n",
      "Processing speech: https://www.bis.org/api/documents/review/r980213e.json\n"
     ]
    },
    {
     "name": "stderr",
     "output_type": "stream",
     "text": [
      "  4%|▍         | 783/20093 [01:08<25:14, 12.75it/s]"
     ]
    },
    {
     "name": "stdout",
     "output_type": "stream",
     "text": [
      "Processing speech: https://www.bis.org/api/documents/review/r980213d.json\n",
      "Processing speech: https://www.bis.org/api/documents/review/r980213c.json\n",
      "Processing speech: https://www.bis.org/api/documents/review/r980213b.json\n"
     ]
    },
    {
     "name": "stderr",
     "output_type": "stream",
     "text": [
      "  4%|▍         | 785/20093 [01:08<25:08, 12.80it/s]"
     ]
    },
    {
     "name": "stdout",
     "output_type": "stream",
     "text": [
      "Processing speech: https://www.bis.org/api/documents/review/r980213a.json\n",
      "Processing speech: https://www.bis.org/api/documents/review/r980205b.json\n",
      "Processing speech: https://www.bis.org/api/documents/review/r980205a.json\n"
     ]
    },
    {
     "name": "stderr",
     "output_type": "stream",
     "text": [
      "  4%|▍         | 789/20093 [01:08<24:03, 13.37it/s]"
     ]
    },
    {
     "name": "stdout",
     "output_type": "stream",
     "text": [
      "Processing speech: https://www.bis.org/api/documents/review/r980202b.json\n",
      "Processing speech: https://www.bis.org/api/documents/review/r980202a.json\n",
      "Processing speech: https://www.bis.org/api/documents/review/r980126b.json\n"
     ]
    },
    {
     "name": "stderr",
     "output_type": "stream",
     "text": [
      "  4%|▍         | 791/20093 [01:08<24:11, 13.30it/s]"
     ]
    },
    {
     "name": "stdout",
     "output_type": "stream",
     "text": [
      "Processing speech: https://www.bis.org/api/documents/review/r980126a.json\n",
      "Processing speech: https://www.bis.org/api/documents/review/r980114d.json\n",
      "Processing speech: https://www.bis.org/api/documents/review/r980114c.json\n"
     ]
    },
    {
     "name": "stderr",
     "output_type": "stream",
     "text": [
      "  4%|▍         | 795/20093 [01:09<23:46, 13.53it/s]"
     ]
    },
    {
     "name": "stdout",
     "output_type": "stream",
     "text": [
      "Processing speech: https://www.bis.org/api/documents/review/r980114b.json\n",
      "Processing speech: https://www.bis.org/api/documents/review/r980114a.json\n",
      "Processing speech: https://www.bis.org/api/documents/review/r980109b.json\n"
     ]
    },
    {
     "name": "stderr",
     "output_type": "stream",
     "text": [
      "  4%|▍         | 797/20093 [01:09<23:48, 13.51it/s]"
     ]
    },
    {
     "name": "stdout",
     "output_type": "stream",
     "text": [
      "Processing speech: https://www.bis.org/api/documents/review/r980109a.json\n",
      "Processing speech: https://www.bis.org/api/documents/review/r980102e.json\n",
      "Processing speech: https://www.bis.org/api/documents/review/r980102d.json\n"
     ]
    },
    {
     "name": "stderr",
     "output_type": "stream",
     "text": [
      "  4%|▍         | 801/20093 [01:09<24:15, 13.25it/s]"
     ]
    },
    {
     "name": "stdout",
     "output_type": "stream",
     "text": [
      "Processing speech: https://www.bis.org/api/documents/review/r980102c.json\n",
      "Processing speech: https://www.bis.org/api/documents/review/r980102b.json\n",
      "Processing speech: https://www.bis.org/api/documents/review/r980102a.json\n"
     ]
    },
    {
     "name": "stderr",
     "output_type": "stream",
     "text": [
      "  4%|▍         | 803/20093 [01:09<24:31, 13.11it/s]"
     ]
    },
    {
     "name": "stdout",
     "output_type": "stream",
     "text": [
      "Processing speech: https://www.bis.org/api/documents/review/r971216c.json\n",
      "Processing speech: https://www.bis.org/api/documents/review/r971216b.json\n",
      "Processing speech: https://www.bis.org/api/documents/review/r971216a.json\n"
     ]
    },
    {
     "name": "stderr",
     "output_type": "stream",
     "text": [
      "  4%|▍         | 807/20093 [01:09<23:47, 13.51it/s]"
     ]
    },
    {
     "name": "stdout",
     "output_type": "stream",
     "text": [
      "Processing speech: https://www.bis.org/api/documents/review/r971208g.json\n",
      "Processing speech: https://www.bis.org/api/documents/review/r971208f.json\n",
      "Processing speech: https://www.bis.org/api/documents/review/r971208e.json\n",
      "Processing speech: https://www.bis.org/api/documents/review/r971208d.json\n"
     ]
    },
    {
     "name": "stderr",
     "output_type": "stream",
     "text": [
      "  4%|▍         | 811/20093 [01:10<24:02, 13.36it/s]"
     ]
    },
    {
     "name": "stdout",
     "output_type": "stream",
     "text": [
      "Processing speech: https://www.bis.org/api/documents/review/r971208c.json\n",
      "Processing speech: https://www.bis.org/api/documents/review/r971208b.json\n",
      "Processing speech: https://www.bis.org/api/documents/review/r971208a.json\n"
     ]
    },
    {
     "name": "stderr",
     "output_type": "stream",
     "text": [
      "  4%|▍         | 813/20093 [01:10<24:01, 13.38it/s]"
     ]
    },
    {
     "name": "stdout",
     "output_type": "stream",
     "text": [
      "Processing speech: https://www.bis.org/api/documents/review/r971202b.json\n",
      "Processing speech: https://www.bis.org/api/documents/review/r971202a.json\n",
      "Processing speech: https://www.bis.org/api/documents/review/r971127b.json\n"
     ]
    },
    {
     "name": "stderr",
     "output_type": "stream",
     "text": [
      "  4%|▍         | 817/20093 [01:10<24:42, 13.00it/s]"
     ]
    },
    {
     "name": "stdout",
     "output_type": "stream",
     "text": [
      "Processing speech: https://www.bis.org/api/documents/review/r971127a.json\n",
      "Processing speech: https://www.bis.org/api/documents/review/r971121e.json\n",
      "Processing speech: https://www.bis.org/api/documents/review/r971121d.json\n"
     ]
    },
    {
     "name": "stderr",
     "output_type": "stream",
     "text": [
      "  4%|▍         | 819/20093 [01:10<24:28, 13.13it/s]"
     ]
    },
    {
     "name": "stdout",
     "output_type": "stream",
     "text": [
      "Processing speech: https://www.bis.org/api/documents/review/r971121c.json\n",
      "Processing speech: https://www.bis.org/api/documents/review/r971121b.json\n",
      "Processing speech: https://www.bis.org/api/documents/review/r971121a.json\n"
     ]
    },
    {
     "name": "stderr",
     "output_type": "stream",
     "text": [
      "  4%|▍         | 823/20093 [01:11<23:27, 13.69it/s]"
     ]
    },
    {
     "name": "stdout",
     "output_type": "stream",
     "text": [
      "Processing speech: https://www.bis.org/api/documents/review/r971119e.json\n",
      "Processing speech: https://www.bis.org/api/documents/review/r971119d.json\n",
      "Processing speech: https://www.bis.org/api/documents/review/r971119c.json\n"
     ]
    },
    {
     "name": "stderr",
     "output_type": "stream",
     "text": [
      "  4%|▍         | 825/20093 [01:11<23:35, 13.61it/s]"
     ]
    },
    {
     "name": "stdout",
     "output_type": "stream",
     "text": [
      "Processing speech: https://www.bis.org/api/documents/review/r971119b.json\n",
      "Processing speech: https://www.bis.org/api/documents/review/r971119a.json\n",
      "Processing speech: https://www.bis.org/api/documents/review/r971112b.json\n"
     ]
    },
    {
     "name": "stderr",
     "output_type": "stream",
     "text": [
      "  4%|▍         | 829/20093 [01:11<24:29, 13.11it/s]"
     ]
    },
    {
     "name": "stdout",
     "output_type": "stream",
     "text": [
      "Processing speech: https://www.bis.org/api/documents/review/r971112a.json\n",
      "Processing speech: https://www.bis.org/api/documents/review/r971107d.json\n",
      "Processing speech: https://www.bis.org/api/documents/review/r971107c.json\n"
     ]
    },
    {
     "name": "stderr",
     "output_type": "stream",
     "text": [
      "  4%|▍         | 831/20093 [01:11<24:26, 13.14it/s]"
     ]
    },
    {
     "name": "stdout",
     "output_type": "stream",
     "text": [
      "Processing speech: https://www.bis.org/api/documents/review/r971107b.json\n",
      "Processing speech: https://www.bis.org/api/documents/review/r971107a.json\n",
      "Processing speech: https://www.bis.org/api/documents/review/r971105g.json\n"
     ]
    },
    {
     "name": "stderr",
     "output_type": "stream",
     "text": [
      "  4%|▍         | 835/20093 [01:12<24:07, 13.30it/s]"
     ]
    },
    {
     "name": "stdout",
     "output_type": "stream",
     "text": [
      "Processing speech: https://www.bis.org/api/documents/review/r971105f.json\n",
      "Processing speech: https://www.bis.org/api/documents/review/r971105e.json\n",
      "Processing speech: https://www.bis.org/api/documents/review/r971105d.json\n",
      "Processing speech: https://www.bis.org/api/documents/review/r971105c.json\n"
     ]
    },
    {
     "name": "stderr",
     "output_type": "stream",
     "text": [
      "  4%|▍         | 839/20093 [01:12<23:28, 13.67it/s]"
     ]
    },
    {
     "name": "stdout",
     "output_type": "stream",
     "text": [
      "Processing speech: https://www.bis.org/api/documents/review/r971104b.json\n",
      "Processing speech: https://www.bis.org/api/documents/review/r971104a.json\n",
      "Processing speech: https://www.bis.org/api/documents/review/r971030d.json\n"
     ]
    },
    {
     "name": "stderr",
     "output_type": "stream",
     "text": [
      "  4%|▍         | 841/20093 [01:12<23:50, 13.46it/s]"
     ]
    },
    {
     "name": "stdout",
     "output_type": "stream",
     "text": [
      "Processing speech: https://www.bis.org/api/documents/review/r971030c.json\n",
      "Processing speech: https://www.bis.org/api/documents/review/r971030b.json\n",
      "Processing speech: https://www.bis.org/api/documents/review/r971030a.json\n"
     ]
    },
    {
     "name": "stderr",
     "output_type": "stream",
     "text": [
      "  4%|▍         | 845/20093 [01:12<23:58, 13.38it/s]"
     ]
    },
    {
     "name": "stdout",
     "output_type": "stream",
     "text": [
      "Processing speech: https://www.bis.org/api/documents/review/r971021d.json\n",
      "Processing speech: https://www.bis.org/api/documents/review/r971021c.json\n",
      "Processing speech: https://www.bis.org/api/documents/review/r971021b.json\n"
     ]
    },
    {
     "name": "stderr",
     "output_type": "stream",
     "text": [
      "  4%|▍         | 847/20093 [01:12<25:01, 12.82it/s]"
     ]
    },
    {
     "name": "stdout",
     "output_type": "stream",
     "text": [
      "Processing speech: https://www.bis.org/api/documents/review/r971021a.json\n",
      "Processing speech: https://www.bis.org/api/documents/review/r971010d.json\n",
      "Processing speech: https://www.bis.org/api/documents/review/r971010c.json\n"
     ]
    },
    {
     "name": "stderr",
     "output_type": "stream",
     "text": [
      "  4%|▍         | 851/20093 [01:13<24:20, 13.17it/s]"
     ]
    },
    {
     "name": "stdout",
     "output_type": "stream",
     "text": [
      "Processing speech: https://www.bis.org/api/documents/review/r971010b.json\n",
      "Processing speech: https://www.bis.org/api/documents/review/r971010a.json\n",
      "Processing speech: https://www.bis.org/api/documents/review/r971007c.json\n"
     ]
    },
    {
     "name": "stderr",
     "output_type": "stream",
     "text": [
      "  4%|▍         | 853/20093 [01:13<24:19, 13.18it/s]"
     ]
    },
    {
     "name": "stdout",
     "output_type": "stream",
     "text": [
      "Processing speech: https://www.bis.org/api/documents/review/r971007b.json\n",
      "Processing speech: https://www.bis.org/api/documents/review/r971007a.json\n",
      "Processing speech: https://www.bis.org/api/documents/review/r971001h.json\n"
     ]
    },
    {
     "name": "stderr",
     "output_type": "stream",
     "text": [
      "  4%|▍         | 857/20093 [01:13<23:40, 13.54it/s]"
     ]
    },
    {
     "name": "stdout",
     "output_type": "stream",
     "text": [
      "Processing speech: https://www.bis.org/api/documents/review/r971001g.json\n",
      "Processing speech: https://www.bis.org/api/documents/review/r971001f.json\n",
      "Processing speech: https://www.bis.org/api/documents/review/r971001e.json\n"
     ]
    },
    {
     "name": "stderr",
     "output_type": "stream",
     "text": [
      "  4%|▍         | 859/20093 [01:13<23:37, 13.57it/s]"
     ]
    },
    {
     "name": "stdout",
     "output_type": "stream",
     "text": [
      "Processing speech: https://www.bis.org/api/documents/review/r971001d.json\n",
      "Processing speech: https://www.bis.org/api/documents/review/r971001c.json\n",
      "Processing speech: https://www.bis.org/api/documents/review/r971001b.json\n"
     ]
    },
    {
     "name": "stderr",
     "output_type": "stream",
     "text": [
      "  4%|▍         | 863/20093 [01:14<23:41, 13.53it/s]"
     ]
    },
    {
     "name": "stdout",
     "output_type": "stream",
     "text": [
      "Processing speech: https://www.bis.org/api/documents/review/r971001a.json\n",
      "Processing speech: https://www.bis.org/api/documents/review/r970925e.json\n",
      "Processing speech: https://www.bis.org/api/documents/review/r970925d.json\n"
     ]
    },
    {
     "name": "stderr",
     "output_type": "stream",
     "text": [
      "  4%|▍         | 865/20093 [01:14<23:24, 13.69it/s]"
     ]
    },
    {
     "name": "stdout",
     "output_type": "stream",
     "text": [
      "Processing speech: https://www.bis.org/api/documents/review/r970925c.json\n",
      "Processing speech: https://www.bis.org/api/documents/review/r970925b.json\n",
      "Processing speech: https://www.bis.org/api/documents/review/r970925a.json\n"
     ]
    },
    {
     "name": "stderr",
     "output_type": "stream",
     "text": [
      "  4%|▍         | 869/20093 [01:14<24:02, 13.32it/s]"
     ]
    },
    {
     "name": "stdout",
     "output_type": "stream",
     "text": [
      "Processing speech: https://www.bis.org/api/documents/review/r970918b.json\n",
      "Processing speech: https://www.bis.org/api/documents/review/r970918a.json\n",
      "Processing speech: https://www.bis.org/api/documents/review/r970916b.json\n",
      "Processing speech: https://www.bis.org/api/documents/review/r970916a.json\n"
     ]
    },
    {
     "name": "stderr",
     "output_type": "stream",
     "text": [
      "  4%|▍         | 873/20093 [01:14<23:35, 13.57it/s]"
     ]
    },
    {
     "name": "stdout",
     "output_type": "stream",
     "text": [
      "Processing speech: https://www.bis.org/api/documents/review/r970912b.json\n",
      "Processing speech: https://www.bis.org/api/documents/review/r970912a.json\n",
      "Processing speech: https://www.bis.org/api/documents/review/r970905d.json\n"
     ]
    },
    {
     "name": "stderr",
     "output_type": "stream",
     "text": [
      "  4%|▍         | 875/20093 [01:15<23:36, 13.57it/s]"
     ]
    },
    {
     "name": "stdout",
     "output_type": "stream",
     "text": [
      "Processing speech: https://www.bis.org/api/documents/review/r970905c.json\n",
      "Processing speech: https://www.bis.org/api/documents/review/r970905b.json\n",
      "Processing speech: https://www.bis.org/api/documents/review/r970905a.json\n"
     ]
    },
    {
     "name": "stderr",
     "output_type": "stream",
     "text": [
      "  4%|▍         | 879/20093 [01:15<23:46, 13.47it/s]"
     ]
    },
    {
     "name": "stdout",
     "output_type": "stream",
     "text": [
      "Processing speech: https://www.bis.org/api/documents/review/r970829b.json\n",
      "Processing speech: https://www.bis.org/api/documents/review/r970829a.json\n",
      "Processing speech: https://www.bis.org/api/documents/review/r970819.json\n"
     ]
    },
    {
     "name": "stderr",
     "output_type": "stream",
     "text": [
      "  4%|▍         | 883/20093 [01:16<56:31,  5.66it/s]  "
     ]
    },
    {
     "name": "stdout",
     "output_type": "stream",
     "text": [
      "Processing speech: https://www.bis.org/api/documents/review/r970806d.json\n",
      "Processing speech: https://www.bis.org/api/documents/review/r970806c.json\n",
      "Processing speech: https://www.bis.org/api/documents/review/r970806b.json\n"
     ]
    },
    {
     "name": "stderr",
     "output_type": "stream",
     "text": [
      "  4%|▍         | 885/20093 [01:16<46:32,  6.88it/s]"
     ]
    },
    {
     "name": "stdout",
     "output_type": "stream",
     "text": [
      "Processing speech: https://www.bis.org/api/documents/review/r970806a.json\n",
      "Processing speech: https://www.bis.org/api/documents/review/r970731d.json\n",
      "Processing speech: https://www.bis.org/api/documents/review/r970731c.json\n",
      "Processing speech: https://www.bis.org/api/documents/review/r970731b.json\n"
     ]
    },
    {
     "name": "stderr",
     "output_type": "stream",
     "text": [
      "  4%|▍         | 889/20093 [01:17<43:04,  7.43it/s]"
     ]
    },
    {
     "name": "stdout",
     "output_type": "stream",
     "text": [
      "Processing speech: https://www.bis.org/api/documents/review/r970731a.json\n",
      "Processing speech: https://www.bis.org/api/documents/review/r970725d.json\n",
      "Processing speech: https://www.bis.org/api/documents/review/r970725c.json\n"
     ]
    },
    {
     "name": "stderr",
     "output_type": "stream",
     "text": [
      "  4%|▍         | 891/20093 [01:17<37:13,  8.60it/s]"
     ]
    },
    {
     "name": "stdout",
     "output_type": "stream",
     "text": [
      "Processing speech: https://www.bis.org/api/documents/review/r970725b.json\n",
      "Processing speech: https://www.bis.org/api/documents/review/r970725a.json\n",
      "Processing speech: https://www.bis.org/api/documents/review/r970707b.json\n"
     ]
    },
    {
     "name": "stderr",
     "output_type": "stream",
     "text": [
      "  4%|▍         | 895/20093 [01:17<30:01, 10.66it/s]"
     ]
    },
    {
     "name": "stdout",
     "output_type": "stream",
     "text": [
      "Processing speech: https://www.bis.org/api/documents/review/r970707a.json\n",
      "Processing speech: https://www.bis.org/api/documents/review/r970701d.json\n",
      "Processing speech: https://www.bis.org/api/documents/review/r970701c.json\n"
     ]
    },
    {
     "name": "stderr",
     "output_type": "stream",
     "text": [
      "  4%|▍         | 897/20093 [01:17<28:10, 11.36it/s]"
     ]
    },
    {
     "name": "stdout",
     "output_type": "stream",
     "text": [
      "Processing speech: https://www.bis.org/api/documents/review/r970701b.json\n",
      "Processing speech: https://www.bis.org/api/documents/review/r970701a.json\n",
      "Processing speech: https://www.bis.org/api/documents/review/r970626c.json\n"
     ]
    },
    {
     "name": "stderr",
     "output_type": "stream",
     "text": [
      "  4%|▍         | 901/20093 [01:18<25:56, 12.33it/s]"
     ]
    },
    {
     "name": "stdout",
     "output_type": "stream",
     "text": [
      "Processing speech: https://www.bis.org/api/documents/review/r970626b.json\n",
      "Processing speech: https://www.bis.org/api/documents/review/r970626a.json\n",
      "Processing speech: https://www.bis.org/api/documents/review/r970624.json\n"
     ]
    },
    {
     "name": "stderr",
     "output_type": "stream",
     "text": [
      "  4%|▍         | 903/20093 [01:18<25:00, 12.79it/s]"
     ]
    },
    {
     "name": "stdout",
     "output_type": "stream",
     "text": [
      "Processing speech: https://www.bis.org/api/documents/review/r970619a.json\n",
      "Processing speech: https://www.bis.org/api/documents/review/r970617b.json\n",
      "Processing speech: https://www.bis.org/api/documents/review/r970617a.json\n"
     ]
    },
    {
     "name": "stderr",
     "output_type": "stream",
     "text": [
      "  5%|▍         | 907/20093 [01:18<24:05, 13.28it/s]"
     ]
    },
    {
     "name": "stdout",
     "output_type": "stream",
     "text": [
      "Processing speech: https://www.bis.org/api/documents/review/r970609c.json\n",
      "Processing speech: https://www.bis.org/api/documents/review/r970609b.json\n",
      "Processing speech: https://www.bis.org/api/documents/review/r970609a.json\n"
     ]
    },
    {
     "name": "stderr",
     "output_type": "stream",
     "text": [
      "  5%|▍         | 909/20093 [01:18<24:10, 13.23it/s]"
     ]
    },
    {
     "name": "stdout",
     "output_type": "stream",
     "text": [
      "Processing speech: https://www.bis.org/api/documents/review/r970605b.json\n",
      "Processing speech: https://www.bis.org/api/documents/review/r970605a.json\n",
      "Processing speech: https://www.bis.org/api/documents/review/r970602f.json\n"
     ]
    },
    {
     "name": "stderr",
     "output_type": "stream",
     "text": [
      "  5%|▍         | 913/20093 [01:19<24:03, 13.29it/s]"
     ]
    },
    {
     "name": "stdout",
     "output_type": "stream",
     "text": [
      "Processing speech: https://www.bis.org/api/documents/review/r970602e.json\n",
      "Processing speech: https://www.bis.org/api/documents/review/r970602d.json\n",
      "Processing speech: https://www.bis.org/api/documents/review/r970602c.json\n"
     ]
    },
    {
     "name": "stderr",
     "output_type": "stream",
     "text": [
      "  5%|▍         | 915/20093 [01:19<23:56, 13.35it/s]"
     ]
    },
    {
     "name": "stdout",
     "output_type": "stream",
     "text": [
      "Processing speech: https://www.bis.org/api/documents/review/r970602b.json\n",
      "Processing speech: https://www.bis.org/api/documents/review/r970602a.json\n",
      "Processing speech: https://www.bis.org/api/documents/review/r970529f.json\n"
     ]
    },
    {
     "name": "stderr",
     "output_type": "stream",
     "text": [
      "  5%|▍         | 917/20093 [01:19<24:13, 13.19it/s]"
     ]
    },
    {
     "name": "stdout",
     "output_type": "stream",
     "text": [
      "Processing speech: https://www.bis.org/api/documents/review/r970529e.json\n",
      "Processing speech: https://www.bis.org/api/documents/review/r970529d.json\n"
     ]
    },
    {
     "name": "stderr",
     "output_type": "stream",
     "text": [
      "  5%|▍         | 921/20093 [01:19<26:24, 12.10it/s]"
     ]
    },
    {
     "name": "stdout",
     "output_type": "stream",
     "text": [
      "Processing speech: https://www.bis.org/api/documents/review/r970529c.json\n",
      "Processing speech: https://www.bis.org/api/documents/review/r970529b.json\n",
      "Processing speech: https://www.bis.org/api/documents/review/r970529a.json\n"
     ]
    },
    {
     "name": "stderr",
     "output_type": "stream",
     "text": [
      "  5%|▍         | 923/20093 [01:19<25:26, 12.56it/s]"
     ]
    },
    {
     "name": "stdout",
     "output_type": "stream",
     "text": [
      "Processing speech: https://www.bis.org/api/documents/review/r970514b.json\n",
      "Processing speech: https://www.bis.org/api/documents/review/r970514a.json\n",
      "Processing speech: https://www.bis.org/api/documents/review/r970512a.json\n"
     ]
    },
    {
     "name": "stderr",
     "output_type": "stream",
     "text": [
      "  5%|▍         | 927/20093 [01:20<25:21, 12.60it/s]"
     ]
    },
    {
     "name": "stdout",
     "output_type": "stream",
     "text": [
      "Processing speech: https://www.bis.org/api/documents/review/r970509f.json\n",
      "Processing speech: https://www.bis.org/api/documents/review/r970509e.json\n",
      "Processing speech: https://www.bis.org/api/documents/review/r970509d.json\n"
     ]
    },
    {
     "name": "stderr",
     "output_type": "stream",
     "text": [
      "  5%|▍         | 929/20093 [01:20<24:38, 12.96it/s]"
     ]
    },
    {
     "name": "stdout",
     "output_type": "stream",
     "text": [
      "Processing speech: https://www.bis.org/api/documents/review/r970509c.json\n",
      "Processing speech: https://www.bis.org/api/documents/review/r970509b.json\n",
      "Processing speech: https://www.bis.org/api/documents/review/r970509a.json\n"
     ]
    },
    {
     "name": "stderr",
     "output_type": "stream",
     "text": [
      "  5%|▍         | 933/20093 [01:20<24:01, 13.29it/s]"
     ]
    },
    {
     "name": "stdout",
     "output_type": "stream",
     "text": [
      "Processing speech: https://www.bis.org/api/documents/review/r970502f.json\n",
      "Processing speech: https://www.bis.org/api/documents/review/r970502e.json\n",
      "Processing speech: https://www.bis.org/api/documents/review/r970502d.json\n"
     ]
    },
    {
     "name": "stderr",
     "output_type": "stream",
     "text": [
      "  5%|▍         | 935/20093 [01:20<24:33, 13.01it/s]"
     ]
    },
    {
     "name": "stdout",
     "output_type": "stream",
     "text": [
      "Processing speech: https://www.bis.org/api/documents/review/r970502c.json\n",
      "Processing speech: https://www.bis.org/api/documents/review/r970502b.json\n",
      "Processing speech: https://www.bis.org/api/documents/review/r970502a.json\n"
     ]
    },
    {
     "name": "stderr",
     "output_type": "stream",
     "text": [
      "  5%|▍         | 939/20093 [01:21<23:45, 13.44it/s]"
     ]
    },
    {
     "name": "stdout",
     "output_type": "stream",
     "text": [
      "Processing speech: https://www.bis.org/api/documents/review/r970418c.json\n",
      "Processing speech: https://www.bis.org/api/documents/review/r970418b.json\n",
      "Processing speech: https://www.bis.org/api/documents/review/r970418a.json\n"
     ]
    },
    {
     "name": "stderr",
     "output_type": "stream",
     "text": [
      "  5%|▍         | 941/20093 [01:21<24:12, 13.19it/s]"
     ]
    },
    {
     "name": "stdout",
     "output_type": "stream",
     "text": [
      "Processing speech: https://www.bis.org/api/documents/review/r970417.json\n",
      "Processing speech: https://www.bis.org/api/documents/review/r970411b.json\n",
      "Processing speech: https://www.bis.org/api/documents/review/r970411a.json\n"
     ]
    },
    {
     "name": "stderr",
     "output_type": "stream",
     "text": [
      "  5%|▍         | 945/20093 [01:21<25:19, 12.60it/s]"
     ]
    },
    {
     "name": "stdout",
     "output_type": "stream",
     "text": [
      "Processing speech: https://www.bis.org/api/documents/review/r970409b.json\n",
      "Processing speech: https://www.bis.org/api/documents/review/r970409a.json\n",
      "Processing speech: https://www.bis.org/api/documents/review/r970408a.json\n"
     ]
    },
    {
     "name": "stderr",
     "output_type": "stream",
     "text": [
      "  5%|▍         | 947/20093 [01:21<25:00, 12.76it/s]"
     ]
    },
    {
     "name": "stdout",
     "output_type": "stream",
     "text": [
      "Processing speech: https://www.bis.org/api/documents/review/r970403h.json\n",
      "Processing speech: https://www.bis.org/api/documents/review/r970403g.json\n",
      "Processing speech: https://www.bis.org/api/documents/review/r970403e.json\n"
     ]
    },
    {
     "name": "stderr",
     "output_type": "stream",
     "text": [
      "  5%|▍         | 951/20093 [01:25<2:16:47,  2.33it/s]"
     ]
    },
    {
     "name": "stdout",
     "output_type": "stream",
     "text": [
      "Processing speech: https://www.bis.org/api/documents/review/r970403d.json\n",
      "Processing speech: https://www.bis.org/api/documents/review/r970403c.json\n",
      "Processing speech: https://www.bis.org/api/documents/review/r970403b.json\n"
     ]
    },
    {
     "name": "stderr",
     "output_type": "stream",
     "text": [
      "  5%|▍         | 953/20093 [01:25<1:42:58,  3.10it/s]"
     ]
    },
    {
     "name": "stdout",
     "output_type": "stream",
     "text": [
      "Processing speech: https://www.bis.org/api/documents/review/r970403a.json\n",
      "Processing speech: https://www.bis.org/api/documents/review/r970326b.json\n",
      "Processing speech: https://www.bis.org/api/documents/review/r970326a.json\n"
     ]
    },
    {
     "name": "stderr",
     "output_type": "stream",
     "text": [
      "  5%|▍         | 957/20093 [01:25<1:03:07,  5.05it/s]"
     ]
    },
    {
     "name": "stdout",
     "output_type": "stream",
     "text": [
      "Processing speech: https://www.bis.org/api/documents/review/r970321f.json\n",
      "Processing speech: https://www.bis.org/api/documents/review/r970321e.json\n",
      "Processing speech: https://www.bis.org/api/documents/review/r970321d.json\n"
     ]
    },
    {
     "name": "stderr",
     "output_type": "stream",
     "text": [
      "  5%|▍         | 959/20093 [01:25<51:15,  6.22it/s]  "
     ]
    },
    {
     "name": "stdout",
     "output_type": "stream",
     "text": [
      "Processing speech: https://www.bis.org/api/documents/review/r970321c.json\n",
      "Processing speech: https://www.bis.org/api/documents/review/r970321b.json\n",
      "Processing speech: https://www.bis.org/api/documents/review/r970321a.json\n"
     ]
    },
    {
     "name": "stderr",
     "output_type": "stream",
     "text": [
      "  5%|▍         | 963/20093 [01:26<38:48,  8.22it/s]"
     ]
    },
    {
     "name": "stdout",
     "output_type": "stream",
     "text": [
      "Processing speech: https://www.bis.org/api/documents/review/r970312d.json\n",
      "Processing speech: https://www.bis.org/api/documents/review/r970312c.json\n"
     ]
    },
    {
     "name": "stderr",
     "output_type": "stream",
     "text": [
      "  5%|▍         | 965/20093 [01:26<34:15,  9.31it/s]"
     ]
    },
    {
     "name": "stdout",
     "output_type": "stream",
     "text": [
      "Processing speech: https://www.bis.org/api/documents/review/r970312b.json\n",
      "Processing speech: https://www.bis.org/api/documents/review/r970312a.json\n",
      "Processing speech: https://www.bis.org/api/documents/review/r970310b.json\n"
     ]
    },
    {
     "name": "stderr",
     "output_type": "stream",
     "text": [
      "  5%|▍         | 967/20093 [01:26<30:58, 10.29it/s]"
     ]
    },
    {
     "name": "stdout",
     "output_type": "stream",
     "text": [
      "Processing speech: https://www.bis.org/api/documents/review/r970310a.json\n",
      "Processing speech: https://www.bis.org/api/documents/review/r970305g.json\n",
      "Processing speech: https://www.bis.org/api/documents/review/r970305f.json\n"
     ]
    },
    {
     "name": "stderr",
     "output_type": "stream",
     "text": [
      "  5%|▍         | 971/20093 [01:26<27:44, 11.49it/s]"
     ]
    },
    {
     "name": "stdout",
     "output_type": "stream",
     "text": [
      "Processing speech: https://www.bis.org/api/documents/review/r970305e.json\n",
      "Processing speech: https://www.bis.org/api/documents/review/r970305d.json\n",
      "Processing speech: https://www.bis.org/api/documents/review/r970305c.json\n"
     ]
    },
    {
     "name": "stderr",
     "output_type": "stream",
     "text": [
      "  5%|▍         | 973/20093 [01:27<25:21, 12.56it/s]"
     ]
    },
    {
     "name": "stdout",
     "output_type": "stream",
     "text": [
      "Processing speech: https://www.bis.org/api/documents/review/r970305b.json\n",
      "Processing speech: https://www.bis.org/api/documents/review/r970305a.json\n",
      "Processing speech: https://www.bis.org/api/documents/review/r970228b.json\n"
     ]
    },
    {
     "name": "stderr",
     "output_type": "stream",
     "text": [
      "  5%|▍         | 977/20093 [01:27<24:32, 12.99it/s]"
     ]
    },
    {
     "name": "stdout",
     "output_type": "stream",
     "text": [
      "Processing speech: https://www.bis.org/api/documents/review/r970228a.json\n",
      "Processing speech: https://www.bis.org/api/documents/review/r970227e.json\n",
      "Processing speech: https://www.bis.org/api/documents/review/r970227d.json\n"
     ]
    },
    {
     "name": "stderr",
     "output_type": "stream",
     "text": [
      "  5%|▍         | 979/20093 [01:27<24:54, 12.79it/s]"
     ]
    },
    {
     "name": "stdout",
     "output_type": "stream",
     "text": [
      "Processing speech: https://www.bis.org/api/documents/review/r970227c.json\n",
      "Processing speech: https://www.bis.org/api/documents/review/r970227b.json\n",
      "Processing speech: https://www.bis.org/api/documents/review/r970227a.json\n"
     ]
    },
    {
     "name": "stderr",
     "output_type": "stream",
     "text": [
      "  5%|▍         | 983/20093 [01:27<24:12, 13.16it/s]"
     ]
    },
    {
     "name": "stdout",
     "output_type": "stream",
     "text": [
      "Processing speech: https://www.bis.org/api/documents/review/r970219c.json\n",
      "Processing speech: https://www.bis.org/api/documents/review/r970219b.json\n",
      "Processing speech: https://www.bis.org/api/documents/review/r970219a.json\n"
     ]
    },
    {
     "name": "stderr",
     "output_type": "stream",
     "text": [
      "  5%|▍         | 985/20093 [01:27<23:53, 13.33it/s]"
     ]
    },
    {
     "name": "stdout",
     "output_type": "stream",
     "text": [
      "Processing speech: https://www.bis.org/api/documents/review/r970214d.json\n",
      "Processing speech: https://www.bis.org/api/documents/review/r970214c.json\n",
      "Processing speech: https://www.bis.org/api/documents/review/r970214a.json\n"
     ]
    },
    {
     "name": "stderr",
     "output_type": "stream",
     "text": [
      "  5%|▍         | 989/20093 [01:28<22:58, 13.86it/s]"
     ]
    },
    {
     "name": "stdout",
     "output_type": "stream",
     "text": [
      "Processing speech: https://www.bis.org/api/documents/review/r970211c.json\n",
      "Processing speech: https://www.bis.org/api/documents/review/r970211b.json\n",
      "Processing speech: https://www.bis.org/api/documents/review/r970211a.json\n",
      "Processing speech: https://www.bis.org/api/documents/review/r970207a.json\n"
     ]
    },
    {
     "name": "stderr",
     "output_type": "stream",
     "text": [
      "  5%|▍         | 993/20093 [01:28<22:59, 13.84it/s]"
     ]
    },
    {
     "name": "stdout",
     "output_type": "stream",
     "text": [
      "Processing speech: https://www.bis.org/api/documents/review/r970205b.json\n",
      "Processing speech: https://www.bis.org/api/documents/review/r970205a.json\n",
      "Processing speech: https://www.bis.org/api/documents/review/r970204.json\n"
     ]
    },
    {
     "name": "stderr",
     "output_type": "stream",
     "text": [
      "  5%|▍         | 995/20093 [01:28<23:30, 13.54it/s]"
     ]
    },
    {
     "name": "stdout",
     "output_type": "stream",
     "text": [
      "Processing speech: https://www.bis.org/api/documents/review/r970203b.json\n",
      "Processing speech: https://www.bis.org/api/documents/review/r970203a.json\n",
      "Processing speech: https://www.bis.org/api/documents/review/r970131.json\n"
     ]
    },
    {
     "name": "stderr",
     "output_type": "stream",
     "text": [
      "  5%|▍         | 999/20093 [01:28<23:38, 13.46it/s]"
     ]
    },
    {
     "name": "stdout",
     "output_type": "stream",
     "text": [
      "Processing speech: https://www.bis.org/api/documents/review/r970129.json\n",
      "Processing speech: https://www.bis.org/api/documents/review/r970122b.json\n",
      "Processing speech: https://www.bis.org/api/documents/review/r970122a.json\n"
     ]
    },
    {
     "name": "stderr",
     "output_type": "stream",
     "text": [
      "  5%|▍         | 1003/20093 [01:29<22:48, 13.95it/s]"
     ]
    },
    {
     "name": "stdout",
     "output_type": "stream",
     "text": [
      "Processing speech: https://www.bis.org/api/documents/review/r970121b.json\n",
      "Processing speech: https://www.bis.org/api/documents/review/r970121a.json\n",
      "Processing speech: https://www.bis.org/api/documents/review/r970116.json\n"
     ]
    },
    {
     "name": "stderr",
     "output_type": "stream",
     "text": [
      "  5%|▌         | 1005/20093 [01:29<23:56, 13.29it/s]"
     ]
    },
    {
     "name": "stdout",
     "output_type": "stream",
     "text": [
      "Processing speech: https://www.bis.org/api/documents/review/r970115b.json\n",
      "Processing speech: https://www.bis.org/api/documents/review/r970115a.json\n",
      "Processing speech: https://www.bis.org/api/documents/review/r970108c.json\n"
     ]
    },
    {
     "name": "stderr",
     "output_type": "stream",
     "text": [
      "  5%|▌         | 1007/20093 [01:29<24:39, 12.90it/s]"
     ]
    },
    {
     "name": "stdout",
     "output_type": "stream",
     "text": [
      "Processing speech: https://www.bis.org/api/documents/review/r970108b.json\n",
      "Processing speech: https://www.bis.org/api/documents/review/r970108a.json\n",
      "Processing speech: https://www.bis.org/api/documents/review/r970107b.json\n"
     ]
    },
    {
     "name": "stderr",
     "output_type": "stream",
     "text": [
      "  5%|▌         | 1011/20093 [01:29<25:12, 12.62it/s]"
     ]
    },
    {
     "name": "stdout",
     "output_type": "stream",
     "text": [
      "Processing speech: https://www.bis.org/api/documents/review/r970107a.json\n",
      "Processing speech: https://www.bis.org/api/documents/review/r970106.json\n"
     ]
    },
    {
     "name": "stderr",
     "output_type": "stream",
     "text": [
      "  5%|▌         | 1013/20093 [01:30<24:04, 13.21it/s]"
     ]
    },
    {
     "name": "stdout",
     "output_type": "stream",
     "text": [
      "Processing speech: https://www.bis.org/api/documents/review/r051118d.json\n",
      "Processing speech: https://www.bis.org/api/documents/review/r051118c.json\n",
      "Processing speech: https://www.bis.org/api/documents/review/r051118b.json\n",
      "Processing speech: https://www.bis.org/api/documents/review/r051118a.json\n"
     ]
    },
    {
     "name": "stderr",
     "output_type": "stream",
     "text": [
      "  5%|▌         | 1017/20093 [01:30<22:54, 13.88it/s]"
     ]
    },
    {
     "name": "stdout",
     "output_type": "stream",
     "text": [
      "Processing speech: https://www.bis.org/api/documents/review/r051116e.json\n",
      "Processing speech: https://www.bis.org/api/documents/review/r051116d.json\n",
      "Processing speech: https://www.bis.org/api/documents/review/r051116c.json\n",
      "Processing speech: https://www.bis.org/api/documents/review/r051116b.json\n"
     ]
    },
    {
     "name": "stderr",
     "output_type": "stream",
     "text": [
      "  5%|▌         | 1021/20093 [01:30<22:47, 13.95it/s]"
     ]
    },
    {
     "name": "stdout",
     "output_type": "stream",
     "text": [
      "Processing speech: https://www.bis.org/api/documents/review/r051116a.json\n",
      "Processing speech: https://www.bis.org/api/documents/review/r051114d.json\n",
      "Processing speech: https://www.bis.org/api/documents/review/r051114c.json\n"
     ]
    },
    {
     "name": "stderr",
     "output_type": "stream",
     "text": [
      "  5%|▌         | 1023/20093 [01:30<23:10, 13.71it/s]"
     ]
    },
    {
     "name": "stdout",
     "output_type": "stream",
     "text": [
      "Processing speech: https://www.bis.org/api/documents/review/r051114b.json\n",
      "Processing speech: https://www.bis.org/api/documents/review/r051114a.json\n",
      "Processing speech: https://www.bis.org/api/documents/review/r051110e.json\n"
     ]
    },
    {
     "name": "stderr",
     "output_type": "stream",
     "text": [
      "  5%|▌         | 1027/20093 [01:31<22:33, 14.09it/s]"
     ]
    },
    {
     "name": "stdout",
     "output_type": "stream",
     "text": [
      "Processing speech: https://www.bis.org/api/documents/review/r051110c.json\n",
      "Processing speech: https://www.bis.org/api/documents/review/r051110b.json\n",
      "Processing speech: https://www.bis.org/api/documents/review/r051110a.json\n",
      "Processing speech: https://www.bis.org/api/documents/review/r051109e.json\n"
     ]
    },
    {
     "name": "stderr",
     "output_type": "stream",
     "text": [
      "  5%|▌         | 1031/20093 [01:31<22:48, 13.93it/s]"
     ]
    },
    {
     "name": "stdout",
     "output_type": "stream",
     "text": [
      "Processing speech: https://www.bis.org/api/documents/review/r051109d.json\n",
      "Processing speech: https://www.bis.org/api/documents/review/r051109c.json\n",
      "Processing speech: https://www.bis.org/api/documents/review/r051109b.json\n"
     ]
    },
    {
     "name": "stderr",
     "output_type": "stream",
     "text": [
      "  5%|▌         | 1033/20093 [01:31<23:01, 13.80it/s]"
     ]
    },
    {
     "name": "stdout",
     "output_type": "stream",
     "text": [
      "Processing speech: https://www.bis.org/api/documents/review/r051109a.json\n",
      "Processing speech: https://www.bis.org/api/documents/review/r051031e.json\n",
      "Processing speech: https://www.bis.org/api/documents/review/r051031d.json\n"
     ]
    },
    {
     "name": "stderr",
     "output_type": "stream",
     "text": [
      "  5%|▌         | 1037/20093 [01:31<23:58, 13.25it/s]"
     ]
    },
    {
     "name": "stdout",
     "output_type": "stream",
     "text": [
      "Processing speech: https://www.bis.org/api/documents/review/r051031b.json\n",
      "Processing speech: https://www.bis.org/api/documents/review/r051031a.json\n",
      "Processing speech: https://www.bis.org/api/documents/review/r051028e.json\n",
      "Processing speech: https://www.bis.org/api/documents/review/r051028d.json\n"
     ]
    },
    {
     "name": "stderr",
     "output_type": "stream",
     "text": [
      "  5%|▌         | 1041/20093 [01:32<31:41, 10.02it/s]"
     ]
    },
    {
     "name": "stdout",
     "output_type": "stream",
     "text": [
      "Processing speech: https://www.bis.org/api/documents/review/r051028b.json\n",
      "Processing speech: https://www.bis.org/api/documents/review/r051028a.json\n",
      "Processing speech: https://www.bis.org/api/documents/review/r051025e.json\n"
     ]
    },
    {
     "name": "stderr",
     "output_type": "stream",
     "text": [
      "  5%|▌         | 1043/20093 [01:32<39:44,  7.99it/s]"
     ]
    },
    {
     "name": "stdout",
     "output_type": "stream",
     "text": [
      "Processing speech: https://www.bis.org/api/documents/review/r051025d.json\n",
      "Processing speech: https://www.bis.org/api/documents/review/r051025c.json\n"
     ]
    },
    {
     "name": "stderr",
     "output_type": "stream",
     "text": [
      "  5%|▌         | 1046/20093 [01:33<39:13,  8.09it/s]"
     ]
    },
    {
     "name": "stdout",
     "output_type": "stream",
     "text": [
      "Processing speech: https://www.bis.org/api/documents/review/r051025b.json\n",
      "Processing speech: https://www.bis.org/api/documents/review/r051025a.json\n",
      "Processing speech: https://www.bis.org/api/documents/review/r051024e.json\n"
     ]
    },
    {
     "name": "stderr",
     "output_type": "stream",
     "text": [
      "  5%|▌         | 1048/20093 [01:33<34:29,  9.20it/s]"
     ]
    },
    {
     "name": "stdout",
     "output_type": "stream",
     "text": [
      "Processing speech: https://www.bis.org/api/documents/review/r051024d.json\n",
      "Processing speech: https://www.bis.org/api/documents/review/r051024c.json\n",
      "Processing speech: https://www.bis.org/api/documents/review/r051024b.json\n"
     ]
    },
    {
     "name": "stderr",
     "output_type": "stream",
     "text": [
      "  5%|▌         | 1052/20093 [01:33<27:26, 11.57it/s]"
     ]
    },
    {
     "name": "stdout",
     "output_type": "stream",
     "text": [
      "Processing speech: https://www.bis.org/api/documents/review/r051024a.json\n",
      "Processing speech: https://www.bis.org/api/documents/review/r051021f.json\n",
      "Processing speech: https://www.bis.org/api/documents/review/r051021e.json\n",
      "Processing speech: https://www.bis.org/api/documents/review/r051021d.json\n"
     ]
    },
    {
     "name": "stderr",
     "output_type": "stream",
     "text": [
      "  5%|▌         | 1056/20093 [01:33<26:50, 11.82it/s]"
     ]
    },
    {
     "name": "stdout",
     "output_type": "stream",
     "text": [
      "Processing speech: https://www.bis.org/api/documents/review/r051021c.json\n",
      "Processing speech: https://www.bis.org/api/documents/review/r051021b.json\n",
      "Processing speech: https://www.bis.org/api/documents/review/r051021a.json\n"
     ]
    },
    {
     "name": "stderr",
     "output_type": "stream",
     "text": [
      "  5%|▌         | 1058/20093 [01:33<26:01, 12.19it/s]"
     ]
    },
    {
     "name": "stdout",
     "output_type": "stream",
     "text": [
      "Processing speech: https://www.bis.org/api/documents/review/r051019e.json\n",
      "Processing speech: https://www.bis.org/api/documents/review/r051019d.json\n",
      "Processing speech: https://www.bis.org/api/documents/review/r051019c.json\n"
     ]
    },
    {
     "name": "stderr",
     "output_type": "stream",
     "text": [
      "  5%|▌         | 1062/20093 [01:34<23:54, 13.27it/s]"
     ]
    },
    {
     "name": "stdout",
     "output_type": "stream",
     "text": [
      "Processing speech: https://www.bis.org/api/documents/review/r051019b.json\n",
      "Processing speech: https://www.bis.org/api/documents/review/r051019a.json\n",
      "Processing speech: https://www.bis.org/api/documents/review/r051018e.json\n",
      "Processing speech: https://www.bis.org/api/documents/review/r051018d.json\n"
     ]
    },
    {
     "name": "stderr",
     "output_type": "stream",
     "text": [
      "  5%|▌         | 1066/20093 [01:34<23:17, 13.62it/s]"
     ]
    },
    {
     "name": "stdout",
     "output_type": "stream",
     "text": [
      "Processing speech: https://www.bis.org/api/documents/review/r051018c.json\n",
      "Processing speech: https://www.bis.org/api/documents/review/r051018b.json\n",
      "Processing speech: https://www.bis.org/api/documents/review/r051018a.json\n",
      "Processing speech: https://www.bis.org/api/documents/review/r051017e.json\n"
     ]
    },
    {
     "name": "stderr",
     "output_type": "stream",
     "text": [
      "  5%|▌         | 1070/20093 [01:34<22:40, 13.98it/s]"
     ]
    },
    {
     "name": "stdout",
     "output_type": "stream",
     "text": [
      "Processing speech: https://www.bis.org/api/documents/review/r051017d.json\n",
      "Processing speech: https://www.bis.org/api/documents/review/r051017c.json\n",
      "Processing speech: https://www.bis.org/api/documents/review/r051017b.json\n"
     ]
    },
    {
     "name": "stderr",
     "output_type": "stream",
     "text": [
      "  5%|▌         | 1072/20093 [01:34<22:47, 13.91it/s]"
     ]
    },
    {
     "name": "stdout",
     "output_type": "stream",
     "text": [
      "Processing speech: https://www.bis.org/api/documents/review/r051017a.json\n",
      "Processing speech: https://www.bis.org/api/documents/review/r051014e.json\n",
      "Processing speech: https://www.bis.org/api/documents/review/r051014d.json\n"
     ]
    },
    {
     "name": "stderr",
     "output_type": "stream",
     "text": [
      "  5%|▌         | 1076/20093 [01:35<23:22, 13.56it/s]"
     ]
    },
    {
     "name": "stdout",
     "output_type": "stream",
     "text": [
      "Processing speech: https://www.bis.org/api/documents/review/r051014c.json\n",
      "Processing speech: https://www.bis.org/api/documents/review/r051014b.json\n",
      "Processing speech: https://www.bis.org/api/documents/review/r051014a.json\n",
      "Processing speech: https://www.bis.org/api/documents/review/r051010h.json\n"
     ]
    },
    {
     "name": "stderr",
     "output_type": "stream",
     "text": [
      "  5%|▌         | 1080/20093 [01:35<22:36, 14.02it/s]"
     ]
    },
    {
     "name": "stdout",
     "output_type": "stream",
     "text": [
      "Processing speech: https://www.bis.org/api/documents/review/r051010g.json\n",
      "Processing speech: https://www.bis.org/api/documents/review/r051010f.json\n",
      "Processing speech: https://www.bis.org/api/documents/review/r051010e.json\n",
      "Processing speech: https://www.bis.org/api/documents/review/r051010d.json\n"
     ]
    },
    {
     "name": "stderr",
     "output_type": "stream",
     "text": [
      "  5%|▌         | 1084/20093 [01:35<21:51, 14.49it/s]"
     ]
    },
    {
     "name": "stdout",
     "output_type": "stream",
     "text": [
      "Processing speech: https://www.bis.org/api/documents/review/r051010c.json\n",
      "Processing speech: https://www.bis.org/api/documents/review/r051010b.json\n",
      "Processing speech: https://www.bis.org/api/documents/review/r051010a.json\n",
      "Processing speech: https://www.bis.org/api/documents/review/r050930i.json\n"
     ]
    },
    {
     "name": "stderr",
     "output_type": "stream",
     "text": [
      "  5%|▌         | 1088/20093 [01:36<21:53, 14.46it/s]"
     ]
    },
    {
     "name": "stdout",
     "output_type": "stream",
     "text": [
      "Processing speech: https://www.bis.org/api/documents/review/r050930h.json\n",
      "Processing speech: https://www.bis.org/api/documents/review/r050930g.json\n",
      "Processing speech: https://www.bis.org/api/documents/review/r050930f.json\n",
      "Processing speech: https://www.bis.org/api/documents/review/r050930e.json\n"
     ]
    },
    {
     "name": "stderr",
     "output_type": "stream",
     "text": [
      "  5%|▌         | 1092/20093 [01:36<21:44, 14.57it/s]"
     ]
    },
    {
     "name": "stdout",
     "output_type": "stream",
     "text": [
      "Processing speech: https://www.bis.org/api/documents/review/r050930d.json\n",
      "Processing speech: https://www.bis.org/api/documents/review/r050930c.json\n",
      "Processing speech: https://www.bis.org/api/documents/review/r050930b.json\n"
     ]
    },
    {
     "name": "stderr",
     "output_type": "stream",
     "text": [
      "  5%|▌         | 1094/20093 [01:36<22:08, 14.30it/s]"
     ]
    },
    {
     "name": "stdout",
     "output_type": "stream",
     "text": [
      "Processing speech: https://www.bis.org/api/documents/review/r050930a.json\n",
      "Processing speech: https://www.bis.org/api/documents/review/r050923f.json\n",
      "Processing speech: https://www.bis.org/api/documents/review/r050923e.json\n"
     ]
    },
    {
     "name": "stderr",
     "output_type": "stream",
     "text": [
      "  5%|▌         | 1098/20093 [01:36<22:35, 14.02it/s]"
     ]
    },
    {
     "name": "stdout",
     "output_type": "stream",
     "text": [
      "Processing speech: https://www.bis.org/api/documents/review/r050923d.json\n",
      "Processing speech: https://www.bis.org/api/documents/review/r050923c.json\n",
      "Processing speech: https://www.bis.org/api/documents/review/r050923b.json\n"
     ]
    },
    {
     "name": "stderr",
     "output_type": "stream",
     "text": [
      "  5%|▌         | 1100/20093 [01:36<22:38, 13.98it/s]"
     ]
    },
    {
     "name": "stdout",
     "output_type": "stream",
     "text": [
      "Processing speech: https://www.bis.org/api/documents/review/r050923a.json\n",
      "Processing speech: https://www.bis.org/api/documents/review/r050916h.json\n",
      "Processing speech: https://www.bis.org/api/documents/review/r050915g.json\n"
     ]
    },
    {
     "name": "stderr",
     "output_type": "stream",
     "text": [
      "  5%|▌         | 1104/20093 [01:37<21:54, 14.44it/s]"
     ]
    },
    {
     "name": "stdout",
     "output_type": "stream",
     "text": [
      "Processing speech: https://www.bis.org/api/documents/review/r050915f.json\n",
      "Processing speech: https://www.bis.org/api/documents/review/r050915e.json\n",
      "Processing speech: https://www.bis.org/api/documents/review/r050915d.json\n",
      "Processing speech: https://www.bis.org/api/documents/review/r050915c.json\n"
     ]
    },
    {
     "name": "stderr",
     "output_type": "stream",
     "text": [
      "  6%|▌         | 1108/20093 [01:37<22:48, 13.88it/s]"
     ]
    },
    {
     "name": "stdout",
     "output_type": "stream",
     "text": [
      "Processing speech: https://www.bis.org/api/documents/review/r050915b.json\n",
      "Processing speech: https://www.bis.org/api/documents/review/r050915a.json\n",
      "Processing speech: https://www.bis.org/api/documents/review/r050902e.json\n"
     ]
    },
    {
     "name": "stderr",
     "output_type": "stream",
     "text": [
      "  6%|▌         | 1110/20093 [01:37<23:15, 13.60it/s]"
     ]
    },
    {
     "name": "stdout",
     "output_type": "stream",
     "text": [
      "Processing speech: https://www.bis.org/api/documents/review/r050902d.json\n",
      "Processing speech: https://www.bis.org/api/documents/review/r050902c.json\n",
      "Processing speech: https://www.bis.org/api/documents/review/r050902b.json\n"
     ]
    },
    {
     "name": "stderr",
     "output_type": "stream",
     "text": [
      "  6%|▌         | 1114/20093 [01:37<22:19, 14.17it/s]"
     ]
    },
    {
     "name": "stdout",
     "output_type": "stream",
     "text": [
      "Processing speech: https://www.bis.org/api/documents/review/r050902a.json\n",
      "Processing speech: https://www.bis.org/api/documents/review/r050901j.json\n",
      "Processing speech: https://www.bis.org/api/documents/review/r050901i.json\n",
      "Processing speech: https://www.bis.org/api/documents/review/r050901h.json\n"
     ]
    },
    {
     "name": "stderr",
     "output_type": "stream",
     "text": [
      "  6%|▌         | 1118/20093 [01:38<21:25, 14.76it/s]"
     ]
    },
    {
     "name": "stdout",
     "output_type": "stream",
     "text": [
      "Processing speech: https://www.bis.org/api/documents/review/r050901g.json\n",
      "Processing speech: https://www.bis.org/api/documents/review/r050901f.json\n",
      "Processing speech: https://www.bis.org/api/documents/review/r050901e.json\n",
      "Processing speech: https://www.bis.org/api/documents/review/r050901d.json\n"
     ]
    },
    {
     "name": "stderr",
     "output_type": "stream",
     "text": [
      "  6%|▌         | 1122/20093 [01:38<24:05, 13.12it/s]"
     ]
    },
    {
     "name": "stdout",
     "output_type": "stream",
     "text": [
      "Processing speech: https://www.bis.org/api/documents/review/r050901c.json\n",
      "Processing speech: https://www.bis.org/api/documents/review/r050901b.json\n"
     ]
    },
    {
     "name": "stderr",
     "output_type": "stream",
     "text": [
      "  6%|▌         | 1124/20093 [01:38<24:36, 12.85it/s]"
     ]
    },
    {
     "name": "stdout",
     "output_type": "stream",
     "text": [
      "Processing speech: https://www.bis.org/api/documents/review/r050901a.json\n",
      "Processing speech: https://www.bis.org/api/documents/review/r050829e.json\n",
      "Processing speech: https://www.bis.org/api/documents/review/r050829d.json\n"
     ]
    },
    {
     "name": "stderr",
     "output_type": "stream",
     "text": [
      "  6%|▌         | 1126/20093 [01:38<24:28, 12.92it/s]"
     ]
    },
    {
     "name": "stdout",
     "output_type": "stream",
     "text": [
      "Processing speech: https://www.bis.org/api/documents/review/r050829b.json\n",
      "Processing speech: https://www.bis.org/api/documents/review/r050829a.json\n",
      "Processing speech: https://www.bis.org/api/documents/review/r050826f.json\n"
     ]
    },
    {
     "name": "stderr",
     "output_type": "stream",
     "text": [
      "  6%|▌         | 1130/20093 [01:39<23:50, 13.25it/s]"
     ]
    },
    {
     "name": "stdout",
     "output_type": "stream",
     "text": [
      "Processing speech: https://www.bis.org/api/documents/review/r050826e.json\n",
      "Processing speech: https://www.bis.org/api/documents/review/r050826d.json\n",
      "Processing speech: https://www.bis.org/api/documents/review/r050826c.json\n"
     ]
    },
    {
     "name": "stderr",
     "output_type": "stream",
     "text": [
      "  6%|▌         | 1132/20093 [01:39<23:29, 13.45it/s]"
     ]
    },
    {
     "name": "stdout",
     "output_type": "stream",
     "text": [
      "Processing speech: https://www.bis.org/api/documents/review/r050826b.json\n",
      "Processing speech: https://www.bis.org/api/documents/review/r050826a.json\n",
      "Processing speech: https://www.bis.org/api/documents/review/r050815i.json\n"
     ]
    },
    {
     "name": "stderr",
     "output_type": "stream",
     "text": [
      "  6%|▌         | 1136/20093 [01:39<24:11, 13.06it/s]"
     ]
    },
    {
     "name": "stdout",
     "output_type": "stream",
     "text": [
      "Processing speech: https://www.bis.org/api/documents/review/r050815h.json\n",
      "Processing speech: https://www.bis.org/api/documents/review/r050815g.json\n",
      "Processing speech: https://www.bis.org/api/documents/review/r050815f.json\n"
     ]
    },
    {
     "name": "stderr",
     "output_type": "stream",
     "text": [
      "  6%|▌         | 1138/20093 [01:39<23:31, 13.43it/s]"
     ]
    },
    {
     "name": "stdout",
     "output_type": "stream",
     "text": [
      "Processing speech: https://www.bis.org/api/documents/review/r050815e.json\n",
      "Processing speech: https://www.bis.org/api/documents/review/r050815d.json\n",
      "Processing speech: https://www.bis.org/api/documents/review/r050815c.json\n"
     ]
    },
    {
     "name": "stderr",
     "output_type": "stream",
     "text": [
      "  6%|▌         | 1142/20093 [01:40<23:00, 13.73it/s]"
     ]
    },
    {
     "name": "stdout",
     "output_type": "stream",
     "text": [
      "Processing speech: https://www.bis.org/api/documents/review/r050815b.json\n",
      "Processing speech: https://www.bis.org/api/documents/review/r050815a.json\n",
      "Processing speech: https://www.bis.org/api/documents/review/r050810g.json\n"
     ]
    },
    {
     "name": "stderr",
     "output_type": "stream",
     "text": [
      "  6%|▌         | 1144/20093 [01:40<23:00, 13.73it/s]"
     ]
    },
    {
     "name": "stdout",
     "output_type": "stream",
     "text": [
      "Processing speech: https://www.bis.org/api/documents/review/r050810f.json\n",
      "Processing speech: https://www.bis.org/api/documents/review/r050810e.json\n",
      "Processing speech: https://www.bis.org/api/documents/review/r050810d.json\n"
     ]
    },
    {
     "name": "stderr",
     "output_type": "stream",
     "text": [
      "  6%|▌         | 1148/20093 [01:40<22:06, 14.28it/s]"
     ]
    },
    {
     "name": "stdout",
     "output_type": "stream",
     "text": [
      "Processing speech: https://www.bis.org/api/documents/review/r050810c.json\n",
      "Processing speech: https://www.bis.org/api/documents/review/r050810b.json\n",
      "Processing speech: https://www.bis.org/api/documents/review/r050810a.json\n"
     ]
    },
    {
     "name": "stderr",
     "output_type": "stream",
     "text": [
      "  6%|▌         | 1150/20093 [01:40<22:29, 14.04it/s]"
     ]
    },
    {
     "name": "stdout",
     "output_type": "stream",
     "text": [
      "Processing speech: https://www.bis.org/api/documents/review/r050722l.json\n",
      "Processing speech: https://www.bis.org/api/documents/review/r050722k.json\n",
      "Processing speech: https://www.bis.org/api/documents/review/r050722j.json\n"
     ]
    },
    {
     "name": "stderr",
     "output_type": "stream",
     "text": [
      "  6%|▌         | 1154/20093 [01:40<22:51, 13.80it/s]"
     ]
    },
    {
     "name": "stdout",
     "output_type": "stream",
     "text": [
      "Processing speech: https://www.bis.org/api/documents/review/r050722i.json\n",
      "Processing speech: https://www.bis.org/api/documents/review/r050722h.json\n",
      "Processing speech: https://www.bis.org/api/documents/review/r050722g.json\n",
      "Processing speech: https://www.bis.org/api/documents/review/r050722f.json\n"
     ]
    },
    {
     "name": "stderr",
     "output_type": "stream",
     "text": [
      "  6%|▌         | 1158/20093 [01:41<23:47, 13.26it/s]"
     ]
    },
    {
     "name": "stdout",
     "output_type": "stream",
     "text": [
      "Processing speech: https://www.bis.org/api/documents/review/r050722e.json\n",
      "Processing speech: https://www.bis.org/api/documents/review/r050722d.json\n",
      "Processing speech: https://www.bis.org/api/documents/review/r050722c.json\n"
     ]
    },
    {
     "name": "stderr",
     "output_type": "stream",
     "text": [
      "  6%|▌         | 1160/20093 [01:41<23:04, 13.68it/s]"
     ]
    },
    {
     "name": "stdout",
     "output_type": "stream",
     "text": [
      "Processing speech: https://www.bis.org/api/documents/review/r050722b.json\n",
      "Processing speech: https://www.bis.org/api/documents/review/r050722a.json\n",
      "Processing speech: https://www.bis.org/api/documents/review/r050715i.json\n"
     ]
    },
    {
     "name": "stderr",
     "output_type": "stream",
     "text": [
      "  6%|▌         | 1164/20093 [01:41<23:18, 13.53it/s]"
     ]
    },
    {
     "name": "stdout",
     "output_type": "stream",
     "text": [
      "Processing speech: https://www.bis.org/api/documents/review/r050715h.json\n",
      "Processing speech: https://www.bis.org/api/documents/review/r050715g.json\n",
      "Processing speech: https://www.bis.org/api/documents/review/r050715f.json\n"
     ]
    },
    {
     "name": "stderr",
     "output_type": "stream",
     "text": [
      "  6%|▌         | 1166/20093 [01:41<23:10, 13.61it/s]"
     ]
    },
    {
     "name": "stdout",
     "output_type": "stream",
     "text": [
      "Processing speech: https://www.bis.org/api/documents/review/r050715e.json\n",
      "Processing speech: https://www.bis.org/api/documents/review/r050715d.json\n",
      "Processing speech: https://www.bis.org/api/documents/review/r050715c.json\n"
     ]
    },
    {
     "name": "stderr",
     "output_type": "stream",
     "text": [
      "  6%|▌         | 1170/20093 [01:42<22:51, 13.80it/s]"
     ]
    },
    {
     "name": "stdout",
     "output_type": "stream",
     "text": [
      "Processing speech: https://www.bis.org/api/documents/review/r050715b.json\n",
      "Processing speech: https://www.bis.org/api/documents/review/r050715a.json\n",
      "Processing speech: https://www.bis.org/api/documents/review/r050629j.json\n"
     ]
    },
    {
     "name": "stderr",
     "output_type": "stream",
     "text": [
      "  6%|▌         | 1172/20093 [01:42<22:25, 14.06it/s]"
     ]
    },
    {
     "name": "stdout",
     "output_type": "stream",
     "text": [
      "Processing speech: https://www.bis.org/api/documents/review/r050629i.json\n",
      "Processing speech: https://www.bis.org/api/documents/review/r050629h.json\n",
      "Processing speech: https://www.bis.org/api/documents/review/r050629g.json\n"
     ]
    },
    {
     "name": "stderr",
     "output_type": "stream",
     "text": [
      "  6%|▌         | 1176/20093 [01:42<21:47, 14.47it/s]"
     ]
    },
    {
     "name": "stdout",
     "output_type": "stream",
     "text": [
      "Processing speech: https://www.bis.org/api/documents/review/r050629f.json\n",
      "Processing speech: https://www.bis.org/api/documents/review/r050629e.json\n",
      "Processing speech: https://www.bis.org/api/documents/review/r050629d.json\n",
      "Processing speech: https://www.bis.org/api/documents/review/r050629c.json\n"
     ]
    },
    {
     "name": "stderr",
     "output_type": "stream",
     "text": [
      "  6%|▌         | 1180/20093 [01:42<21:41, 14.53it/s]"
     ]
    },
    {
     "name": "stdout",
     "output_type": "stream",
     "text": [
      "Processing speech: https://www.bis.org/api/documents/review/r050629b.json\n",
      "Processing speech: https://www.bis.org/api/documents/review/r050629a.json\n",
      "Processing speech: https://www.bis.org/api/documents/review/r050624h.json\n",
      "Processing speech: https://www.bis.org/api/documents/review/r050624g.json\n"
     ]
    },
    {
     "name": "stderr",
     "output_type": "stream",
     "text": [
      "  6%|▌         | 1184/20093 [01:42<21:30, 14.65it/s]"
     ]
    },
    {
     "name": "stdout",
     "output_type": "stream",
     "text": [
      "Processing speech: https://www.bis.org/api/documents/review/r050624f.json\n",
      "Processing speech: https://www.bis.org/api/documents/review/r050624e.json\n",
      "Processing speech: https://www.bis.org/api/documents/review/r050624d.json\n"
     ]
    },
    {
     "name": "stderr",
     "output_type": "stream",
     "text": [
      "  6%|▌         | 1186/20093 [01:43<34:39,  9.09it/s]"
     ]
    },
    {
     "name": "stdout",
     "output_type": "stream",
     "text": [
      "Processing speech: https://www.bis.org/api/documents/review/r050624c.json\n",
      "Processing speech: https://www.bis.org/api/documents/review/r050624b.json\n",
      "Processing speech: https://www.bis.org/api/documents/review/r050624a.json\n"
     ]
    },
    {
     "name": "stderr",
     "output_type": "stream",
     "text": [
      "  6%|▌         | 1190/20093 [01:43<28:13, 11.16it/s]"
     ]
    },
    {
     "name": "stdout",
     "output_type": "stream",
     "text": [
      "Processing speech: https://www.bis.org/api/documents/review/r050621j.json\n",
      "Processing speech: https://www.bis.org/api/documents/review/r050621i.json\n",
      "Processing speech: https://www.bis.org/api/documents/review/r050621h.json\n"
     ]
    },
    {
     "name": "stderr",
     "output_type": "stream",
     "text": [
      "  6%|▌         | 1192/20093 [01:43<26:56, 11.69it/s]"
     ]
    },
    {
     "name": "stdout",
     "output_type": "stream",
     "text": [
      "Processing speech: https://www.bis.org/api/documents/review/r050621g.json\n",
      "Processing speech: https://www.bis.org/api/documents/review/r050621f.json\n",
      "Processing speech: https://www.bis.org/api/documents/review/r050621e.json\n"
     ]
    },
    {
     "name": "stderr",
     "output_type": "stream",
     "text": [
      "  6%|▌         | 1196/20093 [01:44<25:34, 12.31it/s]"
     ]
    },
    {
     "name": "stdout",
     "output_type": "stream",
     "text": [
      "Processing speech: https://www.bis.org/api/documents/review/r050621d.json\n",
      "Processing speech: https://www.bis.org/api/documents/review/r050621c.json\n",
      "Processing speech: https://www.bis.org/api/documents/review/r050621b.json\n"
     ]
    },
    {
     "name": "stderr",
     "output_type": "stream",
     "text": [
      "  6%|▌         | 1198/20093 [01:44<24:51, 12.67it/s]"
     ]
    },
    {
     "name": "stdout",
     "output_type": "stream",
     "text": [
      "Processing speech: https://www.bis.org/api/documents/review/r050621a.json\n",
      "Processing speech: https://www.bis.org/api/documents/review/r050615h.json\n",
      "Processing speech: https://www.bis.org/api/documents/review/r050615g.json\n"
     ]
    },
    {
     "name": "stderr",
     "output_type": "stream",
     "text": [
      "  6%|▌         | 1202/20093 [01:44<23:08, 13.61it/s]"
     ]
    },
    {
     "name": "stdout",
     "output_type": "stream",
     "text": [
      "Processing speech: https://www.bis.org/api/documents/review/r050615f.json\n",
      "Processing speech: https://www.bis.org/api/documents/review/r050615e.json\n",
      "Processing speech: https://www.bis.org/api/documents/review/r050615d.json\n"
     ]
    },
    {
     "name": "stderr",
     "output_type": "stream",
     "text": [
      "  6%|▌         | 1204/20093 [01:44<23:10, 13.59it/s]"
     ]
    },
    {
     "name": "stdout",
     "output_type": "stream",
     "text": [
      "Processing speech: https://www.bis.org/api/documents/review/r050615c.json\n",
      "Processing speech: https://www.bis.org/api/documents/review/r050615b.json\n",
      "Processing speech: https://www.bis.org/api/documents/review/r050615a.json\n"
     ]
    },
    {
     "name": "stderr",
     "output_type": "stream",
     "text": [
      "  6%|▌         | 1208/20093 [01:45<31:26, 10.01it/s]"
     ]
    },
    {
     "name": "stdout",
     "output_type": "stream",
     "text": [
      "Processing speech: https://www.bis.org/api/documents/review/r050614h.json\n",
      "Processing speech: https://www.bis.org/api/documents/review/r050614g.json\n",
      "Processing speech: https://www.bis.org/api/documents/review/r050614f.json\n",
      "Processing speech: https://www.bis.org/api/documents/review/r050614e.json\n"
     ]
    },
    {
     "name": "stderr",
     "output_type": "stream",
     "text": [
      "  6%|▌         | 1212/20093 [01:45<26:51, 11.72it/s]"
     ]
    },
    {
     "name": "stdout",
     "output_type": "stream",
     "text": [
      "Processing speech: https://www.bis.org/api/documents/review/r050614d.json\n",
      "Processing speech: https://www.bis.org/api/documents/review/r050614c.json\n",
      "Processing speech: https://www.bis.org/api/documents/review/r050614b.json\n"
     ]
    },
    {
     "name": "stderr",
     "output_type": "stream",
     "text": [
      "  6%|▌         | 1214/20093 [01:45<25:46, 12.21it/s]"
     ]
    },
    {
     "name": "stdout",
     "output_type": "stream",
     "text": [
      "Processing speech: https://www.bis.org/api/documents/review/r050614a.json\n",
      "Processing speech: https://www.bis.org/api/documents/review/r050609j.json\n",
      "Processing speech: https://www.bis.org/api/documents/review/r050609i.json\n"
     ]
    },
    {
     "name": "stderr",
     "output_type": "stream",
     "text": [
      "  6%|▌         | 1218/20093 [01:45<23:37, 13.31it/s]"
     ]
    },
    {
     "name": "stdout",
     "output_type": "stream",
     "text": [
      "Processing speech: https://www.bis.org/api/documents/review/r050609h.json\n",
      "Processing speech: https://www.bis.org/api/documents/review/r050609g.json\n",
      "Processing speech: https://www.bis.org/api/documents/review/r050609f.json\n",
      "Processing speech: https://www.bis.org/api/documents/review/r050609e.json\n"
     ]
    },
    {
     "name": "stderr",
     "output_type": "stream",
     "text": [
      "  6%|▌         | 1222/20093 [01:46<22:41, 13.86it/s]"
     ]
    },
    {
     "name": "stdout",
     "output_type": "stream",
     "text": [
      "Processing speech: https://www.bis.org/api/documents/review/r050609d.json\n",
      "Processing speech: https://www.bis.org/api/documents/review/r050609c.json\n",
      "Processing speech: https://www.bis.org/api/documents/review/r050609b.json\n",
      "Processing speech: https://www.bis.org/api/documents/review/r050609a.json\n"
     ]
    },
    {
     "name": "stderr",
     "output_type": "stream",
     "text": [
      "  6%|▌         | 1226/20093 [01:46<22:35, 13.92it/s]"
     ]
    },
    {
     "name": "stdout",
     "output_type": "stream",
     "text": [
      "Processing speech: https://www.bis.org/api/documents/review/r050607k.json\n",
      "Processing speech: https://www.bis.org/api/documents/review/r050607j.json\n",
      "Processing speech: https://www.bis.org/api/documents/review/r050607i.json\n"
     ]
    },
    {
     "name": "stderr",
     "output_type": "stream",
     "text": [
      "  6%|▌         | 1228/20093 [01:46<22:40, 13.86it/s]"
     ]
    },
    {
     "name": "stdout",
     "output_type": "stream",
     "text": [
      "Processing speech: https://www.bis.org/api/documents/review/r050607h.json\n",
      "Processing speech: https://www.bis.org/api/documents/review/r050607g.json\n",
      "Processing speech: https://www.bis.org/api/documents/review/r050607f.json\n"
     ]
    },
    {
     "name": "stderr",
     "output_type": "stream",
     "text": [
      "  6%|▌         | 1232/20093 [01:46<22:38, 13.88it/s]"
     ]
    },
    {
     "name": "stdout",
     "output_type": "stream",
     "text": [
      "Processing speech: https://www.bis.org/api/documents/review/r050607e.json\n",
      "Processing speech: https://www.bis.org/api/documents/review/r050607d.json\n",
      "Processing speech: https://www.bis.org/api/documents/review/r050607c.json\n"
     ]
    },
    {
     "name": "stderr",
     "output_type": "stream",
     "text": [
      "  6%|▌         | 1234/20093 [01:47<22:46, 13.80it/s]"
     ]
    },
    {
     "name": "stdout",
     "output_type": "stream",
     "text": [
      "Processing speech: https://www.bis.org/api/documents/review/r050607b.json\n",
      "Processing speech: https://www.bis.org/api/documents/review/r050607a.json\n",
      "Processing speech: https://www.bis.org/api/documents/review/r050602i.json\n"
     ]
    },
    {
     "name": "stderr",
     "output_type": "stream",
     "text": [
      "  6%|▌         | 1236/20093 [01:47<23:11, 13.55it/s]"
     ]
    },
    {
     "name": "stdout",
     "output_type": "stream",
     "text": [
      "Processing speech: https://www.bis.org/api/documents/review/r050602h.json\n"
     ]
    },
    {
     "name": "stderr",
     "output_type": "stream",
     "text": [
      "  6%|▌         | 1238/20093 [01:48<1:11:39,  4.39it/s]"
     ]
    },
    {
     "name": "stdout",
     "output_type": "stream",
     "text": [
      "Processing speech: https://www.bis.org/api/documents/review/r050602g.json\n",
      "Processing speech: https://www.bis.org/api/documents/review/r050602f.json\n",
      "Processing speech: https://www.bis.org/api/documents/review/r050602e.json\n"
     ]
    },
    {
     "name": "stderr",
     "output_type": "stream",
     "text": [
      "  6%|▌         | 1242/20093 [01:48<46:20,  6.78it/s]  "
     ]
    },
    {
     "name": "stdout",
     "output_type": "stream",
     "text": [
      "Processing speech: https://www.bis.org/api/documents/review/r050602d.json\n",
      "Processing speech: https://www.bis.org/api/documents/review/r050602c.json\n",
      "Processing speech: https://www.bis.org/api/documents/review/r050602b.json\n"
     ]
    },
    {
     "name": "stderr",
     "output_type": "stream",
     "text": [
      "  6%|▌         | 1244/20093 [01:49<1:28:57,  3.53it/s]"
     ]
    },
    {
     "name": "stdout",
     "output_type": "stream",
     "text": [
      "Processing speech: https://www.bis.org/api/documents/review/r050602a.json\n",
      "Processing speech: https://www.bis.org/api/documents/review/r050531g.json\n",
      "Processing speech: https://www.bis.org/api/documents/review/r050531f.json\n"
     ]
    },
    {
     "name": "stderr",
     "output_type": "stream",
     "text": [
      "  6%|▌         | 1248/20093 [01:50<54:30,  5.76it/s]  "
     ]
    },
    {
     "name": "stdout",
     "output_type": "stream",
     "text": [
      "Processing speech: https://www.bis.org/api/documents/review/r050531e.json\n",
      "Processing speech: https://www.bis.org/api/documents/review/r050531d.json\n",
      "Processing speech: https://www.bis.org/api/documents/review/r050531c.json\n",
      "Processing speech: https://www.bis.org/api/documents/review/r050531b.json\n"
     ]
    },
    {
     "name": "stderr",
     "output_type": "stream",
     "text": [
      "  6%|▌         | 1252/20093 [01:50<37:33,  8.36it/s]"
     ]
    },
    {
     "name": "stdout",
     "output_type": "stream",
     "text": [
      "Processing speech: https://www.bis.org/api/documents/review/r050531a.json\n",
      "Processing speech: https://www.bis.org/api/documents/review/r050530j.json\n",
      "Processing speech: https://www.bis.org/api/documents/review/r050530i.json\n"
     ]
    },
    {
     "name": "stderr",
     "output_type": "stream",
     "text": [
      "  6%|▌         | 1254/20093 [01:50<33:16,  9.44it/s]"
     ]
    },
    {
     "name": "stdout",
     "output_type": "stream",
     "text": [
      "Processing speech: https://www.bis.org/api/documents/review/r050530h.json\n",
      "Processing speech: https://www.bis.org/api/documents/review/r050530g.json\n",
      "Processing speech: https://www.bis.org/api/documents/review/r050530f.json\n"
     ]
    },
    {
     "name": "stderr",
     "output_type": "stream",
     "text": [
      "  6%|▋         | 1258/20093 [01:50<27:19, 11.49it/s]"
     ]
    },
    {
     "name": "stdout",
     "output_type": "stream",
     "text": [
      "Processing speech: https://www.bis.org/api/documents/review/r050530e.json\n",
      "Processing speech: https://www.bis.org/api/documents/review/r050530d.json\n",
      "Processing speech: https://www.bis.org/api/documents/review/r050530c.json\n"
     ]
    },
    {
     "name": "stderr",
     "output_type": "stream",
     "text": [
      "  6%|▋         | 1260/20093 [01:51<25:43, 12.20it/s]"
     ]
    },
    {
     "name": "stdout",
     "output_type": "stream",
     "text": [
      "Processing speech: https://www.bis.org/api/documents/review/r050530b.json\n",
      "Processing speech: https://www.bis.org/api/documents/review/r050530a.json\n",
      "Processing speech: https://www.bis.org/api/documents/review/r050525g.json\n"
     ]
    },
    {
     "name": "stderr",
     "output_type": "stream",
     "text": [
      "  6%|▋         | 1264/20093 [01:51<25:43, 12.20it/s]"
     ]
    },
    {
     "name": "stdout",
     "output_type": "stream",
     "text": [
      "Processing speech: https://www.bis.org/api/documents/review/r050525f.json\n",
      "Processing speech: https://www.bis.org/api/documents/review/r050525e.json\n",
      "Processing speech: https://www.bis.org/api/documents/review/r050525d.json\n"
     ]
    },
    {
     "name": "stderr",
     "output_type": "stream",
     "text": [
      "  6%|▋         | 1268/20093 [01:51<24:41, 12.71it/s]"
     ]
    },
    {
     "name": "stdout",
     "output_type": "stream",
     "text": [
      "Processing speech: https://www.bis.org/api/documents/review/r050525c.json\n",
      "Processing speech: https://www.bis.org/api/documents/review/r050525b.json\n",
      "Processing speech: https://www.bis.org/api/documents/review/r050525a.json\n"
     ]
    },
    {
     "name": "stderr",
     "output_type": "stream",
     "text": [
      "  6%|▋         | 1270/20093 [01:51<24:23, 12.86it/s]"
     ]
    },
    {
     "name": "stdout",
     "output_type": "stream",
     "text": [
      "Processing speech: https://www.bis.org/api/documents/review/r050523h.json\n",
      "Processing speech: https://www.bis.org/api/documents/review/r050523g.json\n",
      "Processing speech: https://www.bis.org/api/documents/review/r050523f.json\n"
     ]
    },
    {
     "name": "stderr",
     "output_type": "stream",
     "text": [
      "  6%|▋         | 1272/20093 [01:51<23:36, 13.29it/s]"
     ]
    },
    {
     "name": "stdout",
     "output_type": "stream",
     "text": [
      "Processing speech: https://www.bis.org/api/documents/review/r050523e.json\n",
      "Processing speech: https://www.bis.org/api/documents/review/r050523d.json\n",
      "Processing speech: https://www.bis.org/api/documents/review/r050523c.json\n"
     ]
    },
    {
     "name": "stderr",
     "output_type": "stream",
     "text": [
      "  6%|▋         | 1274/20093 [01:52<22:44, 13.79it/s]"
     ]
    },
    {
     "name": "stdout",
     "output_type": "stream",
     "text": [
      "Processing speech: https://www.bis.org/api/documents/review/r050523b.json\n"
     ]
    },
    {
     "name": "stderr",
     "output_type": "stream",
     "text": [
      "  6%|▋         | 1276/20093 [01:53<1:10:11,  4.47it/s]"
     ]
    },
    {
     "name": "stdout",
     "output_type": "stream",
     "text": [
      "Processing speech: https://www.bis.org/api/documents/review/r050523a.json\n",
      "Processing speech: https://www.bis.org/api/documents/review/r050520d.json\n",
      "Processing speech: https://www.bis.org/api/documents/review/r050520c.json\n"
     ]
    },
    {
     "name": "stderr",
     "output_type": "stream",
     "text": [
      "  6%|▋         | 1280/20093 [01:53<45:43,  6.86it/s]  "
     ]
    },
    {
     "name": "stdout",
     "output_type": "stream",
     "text": [
      "Processing speech: https://www.bis.org/api/documents/review/r050520b.json\n",
      "Processing speech: https://www.bis.org/api/documents/review/r050520a.json\n",
      "Processing speech: https://www.bis.org/api/documents/review/r050519g.json\n",
      "Processing speech: https://www.bis.org/api/documents/review/r050519f.json\n"
     ]
    },
    {
     "name": "stderr",
     "output_type": "stream",
     "text": [
      "  6%|▋         | 1284/20093 [01:53<33:30,  9.36it/s]"
     ]
    },
    {
     "name": "stdout",
     "output_type": "stream",
     "text": [
      "Processing speech: https://www.bis.org/api/documents/review/r050519e.json\n",
      "Processing speech: https://www.bis.org/api/documents/review/r050519d.json\n",
      "Processing speech: https://www.bis.org/api/documents/review/r050519c.json\n",
      "Processing speech: https://www.bis.org/api/documents/review/r050519b.json\n"
     ]
    },
    {
     "name": "stderr",
     "output_type": "stream",
     "text": [
      "  6%|▋         | 1288/20093 [01:54<27:39, 11.33it/s]"
     ]
    },
    {
     "name": "stdout",
     "output_type": "stream",
     "text": [
      "Processing speech: https://www.bis.org/api/documents/review/r050519a.json\n",
      "Processing speech: https://www.bis.org/api/documents/review/r050517h.json\n",
      "Processing speech: https://www.bis.org/api/documents/review/r050517g.json\n"
     ]
    },
    {
     "name": "stderr",
     "output_type": "stream",
     "text": [
      "  6%|▋         | 1290/20093 [01:54<25:50, 12.13it/s]"
     ]
    },
    {
     "name": "stdout",
     "output_type": "stream",
     "text": [
      "Processing speech: https://www.bis.org/api/documents/review/r050517f.json\n",
      "Processing speech: https://www.bis.org/api/documents/review/r050517e.json\n",
      "Processing speech: https://www.bis.org/api/documents/review/r050517d.json\n"
     ]
    },
    {
     "name": "stderr",
     "output_type": "stream",
     "text": [
      "  6%|▋         | 1294/20093 [01:54<24:57, 12.55it/s]"
     ]
    },
    {
     "name": "stdout",
     "output_type": "stream",
     "text": [
      "Processing speech: https://www.bis.org/api/documents/review/r050517c.json\n",
      "Processing speech: https://www.bis.org/api/documents/review/r050517b.json\n",
      "Processing speech: https://www.bis.org/api/documents/review/r050517a.json\n"
     ]
    },
    {
     "name": "stderr",
     "output_type": "stream",
     "text": [
      "  6%|▋         | 1296/20093 [01:54<24:20, 12.87it/s]"
     ]
    },
    {
     "name": "stdout",
     "output_type": "stream",
     "text": [
      "Processing speech: https://www.bis.org/api/documents/review/r050511e.json\n",
      "Processing speech: https://www.bis.org/api/documents/review/r050511d.json\n",
      "Processing speech: https://www.bis.org/api/documents/review/r050511c.json\n"
     ]
    },
    {
     "name": "stderr",
     "output_type": "stream",
     "text": [
      "  6%|▋         | 1300/20093 [01:54<23:18, 13.44it/s]"
     ]
    },
    {
     "name": "stdout",
     "output_type": "stream",
     "text": [
      "Processing speech: https://www.bis.org/api/documents/review/r050511b.json\n",
      "Processing speech: https://www.bis.org/api/documents/review/r050511a.json\n",
      "Processing speech: https://www.bis.org/api/documents/review/r050510g.json\n"
     ]
    },
    {
     "name": "stderr",
     "output_type": "stream",
     "text": [
      "  6%|▋         | 1302/20093 [01:55<23:00, 13.62it/s]"
     ]
    },
    {
     "name": "stdout",
     "output_type": "stream",
     "text": [
      "Processing speech: https://www.bis.org/api/documents/review/r050510f.json\n",
      "Processing speech: https://www.bis.org/api/documents/review/r050510e.json\n",
      "Processing speech: https://www.bis.org/api/documents/review/r050510d.json\n"
     ]
    },
    {
     "name": "stderr",
     "output_type": "stream",
     "text": [
      "  6%|▋         | 1306/20093 [01:55<22:22, 13.99it/s]"
     ]
    },
    {
     "name": "stdout",
     "output_type": "stream",
     "text": [
      "Processing speech: https://www.bis.org/api/documents/review/r050510c.json\n",
      "Processing speech: https://www.bis.org/api/documents/review/r050510b.json\n",
      "Processing speech: https://www.bis.org/api/documents/review/r050510a.json\n",
      "Processing speech: https://www.bis.org/api/documents/review/r050509i.json\n"
     ]
    },
    {
     "name": "stderr",
     "output_type": "stream",
     "text": [
      "  7%|▋         | 1310/20093 [01:55<22:40, 13.80it/s]"
     ]
    },
    {
     "name": "stdout",
     "output_type": "stream",
     "text": [
      "Processing speech: https://www.bis.org/api/documents/review/r050509h.json\n",
      "Processing speech: https://www.bis.org/api/documents/review/r050509g.json\n",
      "Processing speech: https://www.bis.org/api/documents/review/r050509f.json\n"
     ]
    },
    {
     "name": "stderr",
     "output_type": "stream",
     "text": [
      "  7%|▋         | 1312/20093 [01:55<22:02, 14.20it/s]"
     ]
    },
    {
     "name": "stdout",
     "output_type": "stream",
     "text": [
      "Processing speech: https://www.bis.org/api/documents/review/r050509e.json\n",
      "Processing speech: https://www.bis.org/api/documents/review/r050509d.json\n",
      "Processing speech: https://www.bis.org/api/documents/review/r050509c.json\n"
     ]
    },
    {
     "name": "stderr",
     "output_type": "stream",
     "text": [
      "  7%|▋         | 1316/20093 [01:56<21:51, 14.32it/s]"
     ]
    },
    {
     "name": "stdout",
     "output_type": "stream",
     "text": [
      "Processing speech: https://www.bis.org/api/documents/review/r050509b.json\n",
      "Processing speech: https://www.bis.org/api/documents/review/r050509a.json\n",
      "Processing speech: https://www.bis.org/api/documents/review/r050504a.json\n"
     ]
    },
    {
     "name": "stderr",
     "output_type": "stream",
     "text": [
      "  7%|▋         | 1318/20093 [01:56<22:58, 13.62it/s]"
     ]
    },
    {
     "name": "stdout",
     "output_type": "stream",
     "text": [
      "Processing speech: https://www.bis.org/api/documents/review/r050503g.json\n",
      "Processing speech: https://www.bis.org/api/documents/review/r050503f.json\n"
     ]
    },
    {
     "name": "stderr",
     "output_type": "stream",
     "text": [
      "  7%|▋         | 1320/20093 [01:56<39:47,  7.86it/s]"
     ]
    },
    {
     "name": "stdout",
     "output_type": "stream",
     "text": [
      "Processing speech: https://www.bis.org/api/documents/review/r050503e.json\n",
      "Processing speech: https://www.bis.org/api/documents/review/r050503d.json\n",
      "Processing speech: https://www.bis.org/api/documents/review/r050503c.json\n"
     ]
    },
    {
     "name": "stderr",
     "output_type": "stream",
     "text": [
      "  7%|▋         | 1324/20093 [01:57<30:59, 10.09it/s]"
     ]
    },
    {
     "name": "stdout",
     "output_type": "stream",
     "text": [
      "Processing speech: https://www.bis.org/api/documents/review/r050503b.json\n",
      "Processing speech: https://www.bis.org/api/documents/review/r050503a.json\n",
      "Processing speech: https://www.bis.org/api/documents/review/r050428e.json\n",
      "Processing speech: https://www.bis.org/api/documents/review/r050428d.json\n"
     ]
    },
    {
     "name": "stderr",
     "output_type": "stream",
     "text": [
      "  7%|▋         | 1327/20093 [02:00<2:35:41,  2.01it/s]"
     ]
    },
    {
     "name": "stdout",
     "output_type": "stream",
     "text": [
      "Processing speech: https://www.bis.org/api/documents/review/r050428c.json\n",
      "Processing speech: https://www.bis.org/api/documents/review/r050428b.json\n",
      "Processing speech: https://www.bis.org/api/documents/review/r050428a.json\n"
     ]
    },
    {
     "name": "stderr",
     "output_type": "stream",
     "text": [
      "  7%|▋         | 1331/20093 [02:00<1:21:59,  3.81it/s]"
     ]
    },
    {
     "name": "stdout",
     "output_type": "stream",
     "text": [
      "Processing speech: https://www.bis.org/api/documents/review/r050426i.json\n",
      "Processing speech: https://www.bis.org/api/documents/review/r050426h.json\n",
      "Processing speech: https://www.bis.org/api/documents/review/r050426g.json\n"
     ]
    },
    {
     "name": "stderr",
     "output_type": "stream",
     "text": [
      "  7%|▋         | 1333/20093 [02:00<1:02:59,  4.96it/s]"
     ]
    },
    {
     "name": "stdout",
     "output_type": "stream",
     "text": [
      "Processing speech: https://www.bis.org/api/documents/review/r050426f.json\n",
      "Processing speech: https://www.bis.org/api/documents/review/r050426e.json\n",
      "Processing speech: https://www.bis.org/api/documents/review/r050426d.json\n"
     ]
    },
    {
     "name": "stderr",
     "output_type": "stream",
     "text": [
      "  7%|▋         | 1337/20093 [02:01<41:41,  7.50it/s]  "
     ]
    },
    {
     "name": "stdout",
     "output_type": "stream",
     "text": [
      "Processing speech: https://www.bis.org/api/documents/review/r050426c.json\n",
      "Processing speech: https://www.bis.org/api/documents/review/r050426b.json\n",
      "Processing speech: https://www.bis.org/api/documents/review/r050426a.json\n"
     ]
    },
    {
     "name": "stderr",
     "output_type": "stream",
     "text": [
      "  7%|▋         | 1339/20093 [02:01<36:41,  8.52it/s]"
     ]
    },
    {
     "name": "stdout",
     "output_type": "stream",
     "text": [
      "Processing speech: https://www.bis.org/api/documents/review/r050422e.json\n",
      "Processing speech: https://www.bis.org/api/documents/review/r050422d.json\n",
      "Processing speech: https://www.bis.org/api/documents/review/r050422c.json\n"
     ]
    },
    {
     "name": "stderr",
     "output_type": "stream",
     "text": [
      "  7%|▋         | 1343/20093 [02:01<31:15, 10.00it/s]"
     ]
    },
    {
     "name": "stdout",
     "output_type": "stream",
     "text": [
      "Processing speech: https://www.bis.org/api/documents/review/r050422b.json\n",
      "Processing speech: https://www.bis.org/api/documents/review/r050422a.json\n",
      "Processing speech: https://www.bis.org/api/documents/review/r050421f.json\n"
     ]
    },
    {
     "name": "stderr",
     "output_type": "stream",
     "text": [
      "  7%|▋         | 1345/20093 [02:01<28:24, 11.00it/s]"
     ]
    },
    {
     "name": "stdout",
     "output_type": "stream",
     "text": [
      "Processing speech: https://www.bis.org/api/documents/review/r050421e.json\n",
      "Processing speech: https://www.bis.org/api/documents/review/r050421d.json\n",
      "Processing speech: https://www.bis.org/api/documents/review/r050421c.json\n"
     ]
    },
    {
     "name": "stderr",
     "output_type": "stream",
     "text": [
      "  7%|▋         | 1349/20093 [02:02<25:01, 12.48it/s]"
     ]
    },
    {
     "name": "stdout",
     "output_type": "stream",
     "text": [
      "Processing speech: https://www.bis.org/api/documents/review/r050421b.json\n",
      "Processing speech: https://www.bis.org/api/documents/review/r050421a.json\n",
      "Processing speech: https://www.bis.org/api/documents/review/r050419g.json\n"
     ]
    },
    {
     "name": "stderr",
     "output_type": "stream",
     "text": [
      "  7%|▋         | 1351/20093 [02:02<24:02, 12.99it/s]"
     ]
    },
    {
     "name": "stdout",
     "output_type": "stream",
     "text": [
      "Processing speech: https://www.bis.org/api/documents/review/r050419f.json\n",
      "Processing speech: https://www.bis.org/api/documents/review/r050419e.json\n",
      "Processing speech: https://www.bis.org/api/documents/review/r050419d.json\n"
     ]
    },
    {
     "name": "stderr",
     "output_type": "stream",
     "text": [
      "  7%|▋         | 1355/20093 [02:02<22:48, 13.69it/s]"
     ]
    },
    {
     "name": "stdout",
     "output_type": "stream",
     "text": [
      "Processing speech: https://www.bis.org/api/documents/review/r050419c.json\n",
      "Processing speech: https://www.bis.org/api/documents/review/r050419b.json\n",
      "Processing speech: https://www.bis.org/api/documents/review/r050419a.json\n",
      "Processing speech: https://www.bis.org/api/documents/review/r050412i.json\n"
     ]
    },
    {
     "name": "stderr",
     "output_type": "stream",
     "text": [
      "  7%|▋         | 1359/20093 [02:02<22:49, 13.68it/s]"
     ]
    },
    {
     "name": "stdout",
     "output_type": "stream",
     "text": [
      "Processing speech: https://www.bis.org/api/documents/review/r050412h.json\n",
      "Processing speech: https://www.bis.org/api/documents/review/r050412g.json\n",
      "Processing speech: https://www.bis.org/api/documents/review/r050412f.json\n"
     ]
    },
    {
     "name": "stderr",
     "output_type": "stream",
     "text": [
      "  7%|▋         | 1361/20093 [02:03<23:05, 13.52it/s]"
     ]
    },
    {
     "name": "stdout",
     "output_type": "stream",
     "text": [
      "Processing speech: https://www.bis.org/api/documents/review/r050412e.json\n",
      "Processing speech: https://www.bis.org/api/documents/review/r050412d.json\n",
      "Processing speech: https://www.bis.org/api/documents/review/r050412c.json\n"
     ]
    },
    {
     "name": "stderr",
     "output_type": "stream",
     "text": [
      "  7%|▋         | 1365/20093 [02:03<22:37, 13.80it/s]"
     ]
    },
    {
     "name": "stdout",
     "output_type": "stream",
     "text": [
      "Processing speech: https://www.bis.org/api/documents/review/r050412b.json\n",
      "Processing speech: https://www.bis.org/api/documents/review/r050412a.json\n",
      "Processing speech: https://www.bis.org/api/documents/review/r050408j.json\n"
     ]
    },
    {
     "name": "stderr",
     "output_type": "stream",
     "text": [
      "  7%|▋         | 1367/20093 [02:03<22:16, 14.01it/s]"
     ]
    },
    {
     "name": "stdout",
     "output_type": "stream",
     "text": [
      "Processing speech: https://www.bis.org/api/documents/review/r050408i.json\n",
      "Processing speech: https://www.bis.org/api/documents/review/r050408h.json\n",
      "Processing speech: https://www.bis.org/api/documents/review/r050408g.json\n"
     ]
    },
    {
     "name": "stderr",
     "output_type": "stream",
     "text": [
      "  7%|▋         | 1371/20093 [02:03<22:05, 14.12it/s]"
     ]
    },
    {
     "name": "stdout",
     "output_type": "stream",
     "text": [
      "Processing speech: https://www.bis.org/api/documents/review/r050408f.json\n",
      "Processing speech: https://www.bis.org/api/documents/review/r050408e.json\n",
      "Processing speech: https://www.bis.org/api/documents/review/r050408d.json\n",
      "Processing speech: https://www.bis.org/api/documents/review/r050408c.json\n"
     ]
    },
    {
     "name": "stderr",
     "output_type": "stream",
     "text": [
      "  7%|▋         | 1375/20093 [02:04<22:02, 14.16it/s]"
     ]
    },
    {
     "name": "stdout",
     "output_type": "stream",
     "text": [
      "Processing speech: https://www.bis.org/api/documents/review/r050408b.json\n",
      "Processing speech: https://www.bis.org/api/documents/review/r050408a.json\n",
      "Processing speech: https://www.bis.org/api/documents/review/r050404e.json\n"
     ]
    },
    {
     "name": "stderr",
     "output_type": "stream",
     "text": [
      "  7%|▋         | 1377/20093 [02:04<21:52, 14.25it/s]"
     ]
    },
    {
     "name": "stdout",
     "output_type": "stream",
     "text": [
      "Processing speech: https://www.bis.org/api/documents/review/r050404d.json\n",
      "Processing speech: https://www.bis.org/api/documents/review/r050404c.json\n",
      "Processing speech: https://www.bis.org/api/documents/review/r050404b.json\n"
     ]
    },
    {
     "name": "stderr",
     "output_type": "stream",
     "text": [
      "  7%|▋         | 1381/20093 [02:04<22:13, 14.03it/s]"
     ]
    },
    {
     "name": "stdout",
     "output_type": "stream",
     "text": [
      "Processing speech: https://www.bis.org/api/documents/review/r050404a.json\n",
      "Processing speech: https://www.bis.org/api/documents/review/r050401f.json\n",
      "Processing speech: https://www.bis.org/api/documents/review/r050401e.json\n",
      "Processing speech: https://www.bis.org/api/documents/review/r050401d.json\n"
     ]
    },
    {
     "name": "stderr",
     "output_type": "stream",
     "text": [
      "  7%|▋         | 1385/20093 [02:04<23:26, 13.30it/s]"
     ]
    },
    {
     "name": "stdout",
     "output_type": "stream",
     "text": [
      "Processing speech: https://www.bis.org/api/documents/review/r050401c.json\n",
      "Processing speech: https://www.bis.org/api/documents/review/r050401b.json\n",
      "Processing speech: https://www.bis.org/api/documents/review/r050401a.json\n"
     ]
    },
    {
     "name": "stderr",
     "output_type": "stream",
     "text": [
      "  7%|▋         | 1387/20093 [02:04<23:33, 13.23it/s]"
     ]
    },
    {
     "name": "stdout",
     "output_type": "stream",
     "text": [
      "Processing speech: https://www.bis.org/api/documents/review/r050323o.json\n",
      "Processing speech: https://www.bis.org/api/documents/review/r050323n.json\n",
      "Processing speech: https://www.bis.org/api/documents/review/r050323m.json\n"
     ]
    },
    {
     "name": "stderr",
     "output_type": "stream",
     "text": [
      "  7%|▋         | 1391/20093 [02:05<22:31, 13.84it/s]"
     ]
    },
    {
     "name": "stdout",
     "output_type": "stream",
     "text": [
      "Processing speech: https://www.bis.org/api/documents/review/r050323l.json\n",
      "Processing speech: https://www.bis.org/api/documents/review/r050323k.json\n",
      "Processing speech: https://www.bis.org/api/documents/review/r050323j.json\n"
     ]
    },
    {
     "name": "stderr",
     "output_type": "stream",
     "text": [
      "  7%|▋         | 1393/20093 [02:05<36:12,  8.61it/s]"
     ]
    },
    {
     "name": "stdout",
     "output_type": "stream",
     "text": [
      "Processing speech: https://www.bis.org/api/documents/review/r050323i.json\n",
      "Processing speech: https://www.bis.org/api/documents/review/r050323h.json\n",
      "Processing speech: https://www.bis.org/api/documents/review/r050323g.json\n"
     ]
    },
    {
     "name": "stderr",
     "output_type": "stream",
     "text": [
      "  7%|▋         | 1397/20093 [02:05<29:26, 10.58it/s]"
     ]
    },
    {
     "name": "stdout",
     "output_type": "stream",
     "text": [
      "Processing speech: https://www.bis.org/api/documents/review/r050323f.json\n",
      "Processing speech: https://www.bis.org/api/documents/review/r050323e.json\n",
      "Processing speech: https://www.bis.org/api/documents/review/r050323d.json\n"
     ]
    },
    {
     "name": "stderr",
     "output_type": "stream",
     "text": [
      "  7%|▋         | 1399/20093 [02:06<27:15, 11.43it/s]"
     ]
    },
    {
     "name": "stdout",
     "output_type": "stream",
     "text": [
      "Processing speech: https://www.bis.org/api/documents/review/r050323c.json\n",
      "Processing speech: https://www.bis.org/api/documents/review/r050323b.json\n",
      "Processing speech: https://www.bis.org/api/documents/review/r050323a.json\n"
     ]
    },
    {
     "name": "stderr",
     "output_type": "stream",
     "text": [
      "  7%|▋         | 1403/20093 [02:06<24:02, 12.96it/s]"
     ]
    },
    {
     "name": "stdout",
     "output_type": "stream",
     "text": [
      "Processing speech: https://www.bis.org/api/documents/review/r050322f.json\n",
      "Processing speech: https://www.bis.org/api/documents/review/r050322e.json\n",
      "Processing speech: https://www.bis.org/api/documents/review/r050322d.json\n",
      "Processing speech: https://www.bis.org/api/documents/review/r050322c.json\n"
     ]
    },
    {
     "name": "stderr",
     "output_type": "stream",
     "text": [
      "  7%|▋         | 1407/20093 [02:06<23:07, 13.47it/s]"
     ]
    },
    {
     "name": "stdout",
     "output_type": "stream",
     "text": [
      "Processing speech: https://www.bis.org/api/documents/review/r050322b.json\n",
      "Processing speech: https://www.bis.org/api/documents/review/r050322a.json\n",
      "Processing speech: https://www.bis.org/api/documents/review/r050321h.json\n"
     ]
    },
    {
     "name": "stderr",
     "output_type": "stream",
     "text": [
      "  7%|▋         | 1409/20093 [02:06<22:34, 13.79it/s]"
     ]
    },
    {
     "name": "stdout",
     "output_type": "stream",
     "text": [
      "Processing speech: https://www.bis.org/api/documents/review/r050321g.json\n",
      "Processing speech: https://www.bis.org/api/documents/review/r050321f.json\n",
      "Processing speech: https://www.bis.org/api/documents/review/r050321e.json\n"
     ]
    },
    {
     "name": "stderr",
     "output_type": "stream",
     "text": [
      "  7%|▋         | 1413/20093 [02:07<23:10, 13.44it/s]"
     ]
    },
    {
     "name": "stdout",
     "output_type": "stream",
     "text": [
      "Processing speech: https://www.bis.org/api/documents/review/r050321d.json\n",
      "Processing speech: https://www.bis.org/api/documents/review/r050321c.json\n",
      "Processing speech: https://www.bis.org/api/documents/review/r050321b.json\n"
     ]
    },
    {
     "name": "stderr",
     "output_type": "stream",
     "text": [
      "  7%|▋         | 1415/20093 [02:07<22:58, 13.55it/s]"
     ]
    },
    {
     "name": "stdout",
     "output_type": "stream",
     "text": [
      "Processing speech: https://www.bis.org/api/documents/review/r050321a.json\n",
      "Processing speech: https://www.bis.org/api/documents/review/r050318e.json\n",
      "Processing speech: https://www.bis.org/api/documents/review/r050318d.json\n"
     ]
    },
    {
     "name": "stderr",
     "output_type": "stream",
     "text": [
      "  7%|▋         | 1419/20093 [02:07<22:45, 13.68it/s]"
     ]
    },
    {
     "name": "stdout",
     "output_type": "stream",
     "text": [
      "Processing speech: https://www.bis.org/api/documents/review/r050318c.json\n",
      "Processing speech: https://www.bis.org/api/documents/review/r050318b.json\n",
      "Processing speech: https://www.bis.org/api/documents/review/r050318a.json\n"
     ]
    },
    {
     "name": "stderr",
     "output_type": "stream",
     "text": [
      "  7%|▋         | 1421/20093 [02:07<22:50, 13.62it/s]"
     ]
    },
    {
     "name": "stdout",
     "output_type": "stream",
     "text": [
      "Processing speech: https://www.bis.org/api/documents/review/r050314i.json\n",
      "Processing speech: https://www.bis.org/api/documents/review/r050314h.json\n",
      "Processing speech: https://www.bis.org/api/documents/review/r050314g.json\n"
     ]
    },
    {
     "name": "stderr",
     "output_type": "stream",
     "text": [
      "  7%|▋         | 1425/20093 [02:07<22:13, 14.00it/s]"
     ]
    },
    {
     "name": "stdout",
     "output_type": "stream",
     "text": [
      "Processing speech: https://www.bis.org/api/documents/review/r050314f.json\n",
      "Processing speech: https://www.bis.org/api/documents/review/r050314e.json\n",
      "Processing speech: https://www.bis.org/api/documents/review/r050314c.json\n"
     ]
    },
    {
     "name": "stderr",
     "output_type": "stream",
     "text": [
      "  7%|▋         | 1427/20093 [02:08<22:07, 14.06it/s]"
     ]
    },
    {
     "name": "stdout",
     "output_type": "stream",
     "text": [
      "Processing speech: https://www.bis.org/api/documents/review/r050314b.json\n",
      "Processing speech: https://www.bis.org/api/documents/review/r050314a.json\n",
      "Processing speech: https://www.bis.org/api/documents/review/r0503143.json\n"
     ]
    },
    {
     "name": "stderr",
     "output_type": "stream",
     "text": [
      "  7%|▋         | 1431/20093 [02:08<21:50, 14.24it/s]"
     ]
    },
    {
     "name": "stdout",
     "output_type": "stream",
     "text": [
      "Processing speech: https://www.bis.org/api/documents/review/r050307e.json\n",
      "Processing speech: https://www.bis.org/api/documents/review/r050307d.json\n",
      "Processing speech: https://www.bis.org/api/documents/review/r050307c.json\n",
      "Processing speech: https://www.bis.org/api/documents/review/r050307b.json\n"
     ]
    },
    {
     "name": "stderr",
     "output_type": "stream",
     "text": [
      "  7%|▋         | 1435/20093 [02:08<22:01, 14.11it/s]"
     ]
    },
    {
     "name": "stdout",
     "output_type": "stream",
     "text": [
      "Processing speech: https://www.bis.org/api/documents/review/r050307a.json\n",
      "Processing speech: https://www.bis.org/api/documents/review/r050301f.json\n",
      "Processing speech: https://www.bis.org/api/documents/review/r050301e.json\n"
     ]
    },
    {
     "name": "stderr",
     "output_type": "stream",
     "text": [
      "  7%|▋         | 1437/20093 [02:08<22:12, 14.00it/s]"
     ]
    },
    {
     "name": "stdout",
     "output_type": "stream",
     "text": [
      "Processing speech: https://www.bis.org/api/documents/review/r050301d.json\n",
      "Processing speech: https://www.bis.org/api/documents/review/r050301c.json\n",
      "Processing speech: https://www.bis.org/api/documents/review/r050301b.json\n"
     ]
    },
    {
     "name": "stderr",
     "output_type": "stream",
     "text": [
      "  7%|▋         | 1441/20093 [02:09<22:01, 14.12it/s]"
     ]
    },
    {
     "name": "stdout",
     "output_type": "stream",
     "text": [
      "Processing speech: https://www.bis.org/api/documents/review/r050301a.json\n",
      "Processing speech: https://www.bis.org/api/documents/review/r050228e.json\n",
      "Processing speech: https://www.bis.org/api/documents/review/r050228d.json\n"
     ]
    },
    {
     "name": "stderr",
     "output_type": "stream",
     "text": [
      "  7%|▋         | 1443/20093 [02:09<21:44, 14.30it/s]"
     ]
    },
    {
     "name": "stdout",
     "output_type": "stream",
     "text": [
      "Processing speech: https://www.bis.org/api/documents/review/r050228c.json\n",
      "Processing speech: https://www.bis.org/api/documents/review/r050228b.json\n",
      "Processing speech: https://www.bis.org/api/documents/review/r050228a.json\n"
     ]
    },
    {
     "name": "stderr",
     "output_type": "stream",
     "text": [
      "  7%|▋         | 1447/20093 [02:09<21:19, 14.57it/s]"
     ]
    },
    {
     "name": "stdout",
     "output_type": "stream",
     "text": [
      "Processing speech: https://www.bis.org/api/documents/review/r050225h.json\n",
      "Processing speech: https://www.bis.org/api/documents/review/r050225g.json\n",
      "Processing speech: https://www.bis.org/api/documents/review/r050225f.json\n"
     ]
    },
    {
     "name": "stderr",
     "output_type": "stream",
     "text": [
      "  7%|▋         | 1449/20093 [02:09<21:27, 14.48it/s]"
     ]
    },
    {
     "name": "stdout",
     "output_type": "stream",
     "text": [
      "Processing speech: https://www.bis.org/api/documents/review/r050225e.json\n",
      "Processing speech: https://www.bis.org/api/documents/review/r050225d.json\n",
      "Processing speech: https://www.bis.org/api/documents/review/r050225c.json\n"
     ]
    },
    {
     "name": "stderr",
     "output_type": "stream",
     "text": [
      "  7%|▋         | 1453/20093 [02:09<21:35, 14.38it/s]"
     ]
    },
    {
     "name": "stdout",
     "output_type": "stream",
     "text": [
      "Processing speech: https://www.bis.org/api/documents/review/r050225b.json\n",
      "Processing speech: https://www.bis.org/api/documents/review/r050225a.json\n",
      "Processing speech: https://www.bis.org/api/documents/review/r050223i.json\n",
      "Processing speech: https://www.bis.org/api/documents/review/r050223h.json\n"
     ]
    },
    {
     "name": "stderr",
     "output_type": "stream",
     "text": [
      "  7%|▋         | 1457/20093 [02:10<21:40, 14.33it/s]"
     ]
    },
    {
     "name": "stdout",
     "output_type": "stream",
     "text": [
      "Processing speech: https://www.bis.org/api/documents/review/r050223g.json\n",
      "Processing speech: https://www.bis.org/api/documents/review/r050223f.json\n",
      "Processing speech: https://www.bis.org/api/documents/review/r050223e.json\n"
     ]
    },
    {
     "name": "stderr",
     "output_type": "stream",
     "text": [
      "  7%|▋         | 1459/20093 [02:11<1:10:46,  4.39it/s]"
     ]
    },
    {
     "name": "stdout",
     "output_type": "stream",
     "text": [
      "Processing speech: https://www.bis.org/api/documents/review/r050223d.json\n",
      "Processing speech: https://www.bis.org/api/documents/review/r050223c.json\n",
      "Processing speech: https://www.bis.org/api/documents/review/r050223b.json\n"
     ]
    },
    {
     "name": "stderr",
     "output_type": "stream",
     "text": [
      "  7%|▋         | 1463/20093 [02:11<45:04,  6.89it/s]  "
     ]
    },
    {
     "name": "stdout",
     "output_type": "stream",
     "text": [
      "Processing speech: https://www.bis.org/api/documents/review/r050223a.json\n",
      "Processing speech: https://www.bis.org/api/documents/review/r050217i.json\n",
      "Processing speech: https://www.bis.org/api/documents/review/r050217h.json\n"
     ]
    },
    {
     "name": "stderr",
     "output_type": "stream",
     "text": [
      "  7%|▋         | 1465/20093 [02:11<38:16,  8.11it/s]"
     ]
    },
    {
     "name": "stdout",
     "output_type": "stream",
     "text": [
      "Processing speech: https://www.bis.org/api/documents/review/r050217g.json\n",
      "Processing speech: https://www.bis.org/api/documents/review/r050217f.json\n",
      "Processing speech: https://www.bis.org/api/documents/review/r050217e.json\n"
     ]
    },
    {
     "name": "stderr",
     "output_type": "stream",
     "text": [
      "  7%|▋         | 1469/20093 [02:12<30:05, 10.32it/s]"
     ]
    },
    {
     "name": "stdout",
     "output_type": "stream",
     "text": [
      "Processing speech: https://www.bis.org/api/documents/review/r050217d.json\n",
      "Processing speech: https://www.bis.org/api/documents/review/r050217c.json\n",
      "Processing speech: https://www.bis.org/api/documents/review/r050217b.json\n"
     ]
    },
    {
     "name": "stderr",
     "output_type": "stream",
     "text": [
      "  7%|▋         | 1471/20093 [02:13<1:15:07,  4.13it/s]"
     ]
    },
    {
     "name": "stdout",
     "output_type": "stream",
     "text": [
      "Processing speech: https://www.bis.org/api/documents/review/r050217a.json\n",
      "Processing speech: https://www.bis.org/api/documents/review/r050216i.json\n",
      "Processing speech: https://www.bis.org/api/documents/review/r050216g.json\n"
     ]
    },
    {
     "name": "stderr",
     "output_type": "stream",
     "text": [
      "  7%|▋         | 1475/20093 [02:13<48:56,  6.34it/s]  "
     ]
    },
    {
     "name": "stdout",
     "output_type": "stream",
     "text": [
      "Processing speech: https://www.bis.org/api/documents/review/r050216f.json\n",
      "Processing speech: https://www.bis.org/api/documents/review/r050216e.json\n",
      "Processing speech: https://www.bis.org/api/documents/review/r050216d.json\n"
     ]
    },
    {
     "name": "stderr",
     "output_type": "stream",
     "text": [
      "  7%|▋         | 1477/20093 [02:13<41:21,  7.50it/s]"
     ]
    },
    {
     "name": "stdout",
     "output_type": "stream",
     "text": [
      "Processing speech: https://www.bis.org/api/documents/review/r050216c.json\n",
      "Processing speech: https://www.bis.org/api/documents/review/r050216b.json\n",
      "Processing speech: https://www.bis.org/api/documents/review/r050216a.json\n"
     ]
    },
    {
     "name": "stderr",
     "output_type": "stream",
     "text": [
      "  7%|▋         | 1481/20093 [02:13<31:33,  9.83it/s]"
     ]
    },
    {
     "name": "stdout",
     "output_type": "stream",
     "text": [
      "Processing speech: https://www.bis.org/api/documents/review/r050211g.json\n",
      "Processing speech: https://www.bis.org/api/documents/review/r050211f.json\n",
      "Processing speech: https://www.bis.org/api/documents/review/r050211e.json\n",
      "Processing speech: https://www.bis.org/api/documents/review/r050211d.json\n"
     ]
    },
    {
     "name": "stderr",
     "output_type": "stream",
     "text": [
      "  7%|▋         | 1485/20093 [02:14<26:33, 11.68it/s]"
     ]
    },
    {
     "name": "stdout",
     "output_type": "stream",
     "text": [
      "Processing speech: https://www.bis.org/api/documents/review/r050211c.json\n",
      "Processing speech: https://www.bis.org/api/documents/review/r050211b.json\n",
      "Processing speech: https://www.bis.org/api/documents/review/r050211a.json\n",
      "Processing speech: https://www.bis.org/api/documents/review/r050205i.json\n"
     ]
    },
    {
     "name": "stderr",
     "output_type": "stream",
     "text": [
      "  7%|▋         | 1489/20093 [02:14<24:59, 12.41it/s]"
     ]
    },
    {
     "name": "stdout",
     "output_type": "stream",
     "text": [
      "Processing speech: https://www.bis.org/api/documents/review/r050204e.json\n",
      "Processing speech: https://www.bis.org/api/documents/review/r050204d.json\n",
      "Processing speech: https://www.bis.org/api/documents/review/r050204c.json\n"
     ]
    },
    {
     "name": "stderr",
     "output_type": "stream",
     "text": [
      "  7%|▋         | 1491/20093 [02:14<24:42, 12.54it/s]"
     ]
    },
    {
     "name": "stdout",
     "output_type": "stream",
     "text": [
      "Processing speech: https://www.bis.org/api/documents/review/r050204b.json\n",
      "Processing speech: https://www.bis.org/api/documents/review/r050204a.json\n",
      "Processing speech: https://www.bis.org/api/documents/review/r050203g.json\n"
     ]
    },
    {
     "name": "stderr",
     "output_type": "stream",
     "text": [
      "  7%|▋         | 1495/20093 [02:15<31:56,  9.71it/s]"
     ]
    },
    {
     "name": "stdout",
     "output_type": "stream",
     "text": [
      "Processing speech: https://www.bis.org/api/documents/review/r050203f.json\n",
      "Processing speech: https://www.bis.org/api/documents/review/r050203e.json\n",
      "Processing speech: https://www.bis.org/api/documents/review/r050203d.json\n"
     ]
    },
    {
     "name": "stderr",
     "output_type": "stream",
     "text": [
      "  7%|▋         | 1497/20093 [02:15<29:37, 10.46it/s]"
     ]
    },
    {
     "name": "stdout",
     "output_type": "stream",
     "text": [
      "Processing speech: https://www.bis.org/api/documents/review/r050203c.json\n",
      "Processing speech: https://www.bis.org/api/documents/review/r050203b.json\n",
      "Processing speech: https://www.bis.org/api/documents/review/r050203a.json\n"
     ]
    },
    {
     "name": "stderr",
     "output_type": "stream",
     "text": [
      "  7%|▋         | 1501/20093 [02:15<25:15, 12.27it/s]"
     ]
    },
    {
     "name": "stdout",
     "output_type": "stream",
     "text": [
      "Processing speech: https://www.bis.org/api/documents/review/r050128g.json\n",
      "Processing speech: https://www.bis.org/api/documents/review/r050128f.json\n",
      "Processing speech: https://www.bis.org/api/documents/review/r050128e.json\n",
      "Processing speech: https://www.bis.org/api/documents/review/r050128d.json\n"
     ]
    },
    {
     "name": "stderr",
     "output_type": "stream",
     "text": [
      "  7%|▋         | 1505/20093 [02:15<23:26, 13.22it/s]"
     ]
    },
    {
     "name": "stdout",
     "output_type": "stream",
     "text": [
      "Processing speech: https://www.bis.org/api/documents/review/r050128c.json\n",
      "Processing speech: https://www.bis.org/api/documents/review/r050128b.json\n",
      "Processing speech: https://www.bis.org/api/documents/review/r050128a.json\n"
     ]
    },
    {
     "name": "stderr",
     "output_type": "stream",
     "text": [
      "  8%|▊         | 1507/20093 [02:16<22:49, 13.58it/s]"
     ]
    },
    {
     "name": "stdout",
     "output_type": "stream",
     "text": [
      "Processing speech: https://www.bis.org/api/documents/review/r050126g.json\n",
      "Processing speech: https://www.bis.org/api/documents/review/r050126f.json\n",
      "Processing speech: https://www.bis.org/api/documents/review/r050126e.json\n"
     ]
    },
    {
     "name": "stderr",
     "output_type": "stream",
     "text": [
      "  8%|▊         | 1511/20093 [02:16<22:58, 13.48it/s]"
     ]
    },
    {
     "name": "stdout",
     "output_type": "stream",
     "text": [
      "Processing speech: https://www.bis.org/api/documents/review/r050126d.json\n",
      "Processing speech: https://www.bis.org/api/documents/review/r050126c.json\n",
      "Processing speech: https://www.bis.org/api/documents/review/r050126b.json\n"
     ]
    },
    {
     "name": "stderr",
     "output_type": "stream",
     "text": [
      "  8%|▊         | 1513/20093 [02:16<22:59, 13.47it/s]"
     ]
    },
    {
     "name": "stdout",
     "output_type": "stream",
     "text": [
      "Processing speech: https://www.bis.org/api/documents/review/r050126a.json\n",
      "Processing speech: https://www.bis.org/api/documents/review/r050121i.json\n",
      "Processing speech: https://www.bis.org/api/documents/review/r050121h.json\n"
     ]
    },
    {
     "name": "stderr",
     "output_type": "stream",
     "text": [
      "  8%|▊         | 1517/20093 [02:16<21:53, 14.15it/s]"
     ]
    },
    {
     "name": "stdout",
     "output_type": "stream",
     "text": [
      "Processing speech: https://www.bis.org/api/documents/review/r050121g.json\n",
      "Processing speech: https://www.bis.org/api/documents/review/r050121f.json\n",
      "Processing speech: https://www.bis.org/api/documents/review/r050121e.json\n"
     ]
    },
    {
     "name": "stderr",
     "output_type": "stream",
     "text": [
      "  8%|▊         | 1521/20093 [02:17<21:09, 14.63it/s]"
     ]
    },
    {
     "name": "stdout",
     "output_type": "stream",
     "text": [
      "Processing speech: https://www.bis.org/api/documents/review/r050121d.json\n",
      "Processing speech: https://www.bis.org/api/documents/review/r050121c.json\n",
      "Processing speech: https://www.bis.org/api/documents/review/r050121b.json\n"
     ]
    },
    {
     "name": "stderr",
     "output_type": "stream",
     "text": [
      "  8%|▊         | 1523/20093 [02:17<21:13, 14.59it/s]"
     ]
    },
    {
     "name": "stdout",
     "output_type": "stream",
     "text": [
      "Processing speech: https://www.bis.org/api/documents/review/r050121a.json\n",
      "Processing speech: https://www.bis.org/api/documents/review/r050117h.json\n",
      "Processing speech: https://www.bis.org/api/documents/review/r050117g.json\n",
      "Processing speech: https://www.bis.org/api/documents/review/r050117f.json\n"
     ]
    },
    {
     "name": "stderr",
     "output_type": "stream",
     "text": [
      "  8%|▊         | 1527/20093 [02:17<20:36, 15.02it/s]"
     ]
    },
    {
     "name": "stdout",
     "output_type": "stream",
     "text": [
      "Processing speech: https://www.bis.org/api/documents/review/r050117e.json\n",
      "Processing speech: https://www.bis.org/api/documents/review/r050117d.json\n",
      "Processing speech: https://www.bis.org/api/documents/review/r050117c.json\n"
     ]
    },
    {
     "name": "stderr",
     "output_type": "stream",
     "text": [
      "  8%|▊         | 1529/20093 [02:17<21:34, 14.35it/s]"
     ]
    },
    {
     "name": "stdout",
     "output_type": "stream",
     "text": [
      "Processing speech: https://www.bis.org/api/documents/review/r050117b.json\n",
      "Processing speech: https://www.bis.org/api/documents/review/r050117a.json\n"
     ]
    },
    {
     "name": "stderr",
     "output_type": "stream",
     "text": [
      "  8%|▊         | 1531/20093 [02:17<27:07, 11.41it/s]"
     ]
    },
    {
     "name": "stdout",
     "output_type": "stream",
     "text": [
      "Processing speech: https://www.bis.org/api/documents/review/r041231j.json\n",
      "Processing speech: https://www.bis.org/api/documents/review/r041231i.json\n",
      "Processing speech: https://www.bis.org/api/documents/review/r041231h.json\n"
     ]
    },
    {
     "name": "stderr",
     "output_type": "stream",
     "text": [
      "  8%|▊         | 1535/20093 [02:18<25:00, 12.36it/s]"
     ]
    },
    {
     "name": "stdout",
     "output_type": "stream",
     "text": [
      "Processing speech: https://www.bis.org/api/documents/review/r041231g.json\n",
      "Processing speech: https://www.bis.org/api/documents/review/r041231f.json\n",
      "Processing speech: https://www.bis.org/api/documents/review/r041231e.json\n"
     ]
    },
    {
     "name": "stderr",
     "output_type": "stream",
     "text": [
      "  8%|▊         | 1537/20093 [02:18<23:32, 13.14it/s]"
     ]
    },
    {
     "name": "stdout",
     "output_type": "stream",
     "text": [
      "Processing speech: https://www.bis.org/api/documents/review/r041231d.json\n",
      "Processing speech: https://www.bis.org/api/documents/review/r041231c.json\n",
      "Processing speech: https://www.bis.org/api/documents/review/r041231b.json\n"
     ]
    },
    {
     "name": "stderr",
     "output_type": "stream",
     "text": [
      "  8%|▊         | 1541/20093 [02:18<22:52, 13.51it/s]"
     ]
    },
    {
     "name": "stdout",
     "output_type": "stream",
     "text": [
      "Processing speech: https://www.bis.org/api/documents/review/r041231a.json\n",
      "Processing speech: https://www.bis.org/api/documents/review/r041229f.json\n",
      "Processing speech: https://www.bis.org/api/documents/review/r041229e.json\n",
      "Processing speech: https://www.bis.org/api/documents/review/r041229d.json\n"
     ]
    },
    {
     "name": "stderr",
     "output_type": "stream",
     "text": [
      "  8%|▊         | 1545/20093 [02:18<21:36, 14.31it/s]"
     ]
    },
    {
     "name": "stdout",
     "output_type": "stream",
     "text": [
      "Processing speech: https://www.bis.org/api/documents/review/r041229c.json\n",
      "Processing speech: https://www.bis.org/api/documents/review/r041229b.json\n",
      "Processing speech: https://www.bis.org/api/documents/review/r041229a.json\n",
      "Processing speech: https://www.bis.org/api/documents/review/r041223i.json\n"
     ]
    },
    {
     "name": "stderr",
     "output_type": "stream",
     "text": [
      "  8%|▊         | 1549/20093 [02:19<20:57, 14.75it/s]"
     ]
    },
    {
     "name": "stdout",
     "output_type": "stream",
     "text": [
      "Processing speech: https://www.bis.org/api/documents/review/r041223h.json\n",
      "Processing speech: https://www.bis.org/api/documents/review/r041223g.json\n",
      "Processing speech: https://www.bis.org/api/documents/review/r041223f.json\n"
     ]
    },
    {
     "name": "stderr",
     "output_type": "stream",
     "text": [
      "  8%|▊         | 1551/20093 [02:19<21:06, 14.65it/s]"
     ]
    },
    {
     "name": "stdout",
     "output_type": "stream",
     "text": [
      "Processing speech: https://www.bis.org/api/documents/review/r041223e.json\n",
      "Processing speech: https://www.bis.org/api/documents/review/r041223d.json\n",
      "Processing speech: https://www.bis.org/api/documents/review/r041223c.json\n"
     ]
    },
    {
     "name": "stderr",
     "output_type": "stream",
     "text": [
      "  8%|▊         | 1555/20093 [02:19<21:31, 14.35it/s]"
     ]
    },
    {
     "name": "stdout",
     "output_type": "stream",
     "text": [
      "Processing speech: https://www.bis.org/api/documents/review/r041223b.json\n",
      "Processing speech: https://www.bis.org/api/documents/review/r041223a.json\n",
      "Processing speech: https://www.bis.org/api/documents/review/r041206e.json\n",
      "Processing speech: https://www.bis.org/api/documents/review/r041206d.json\n"
     ]
    },
    {
     "name": "stderr",
     "output_type": "stream",
     "text": [
      "  8%|▊         | 1559/20093 [02:19<21:17, 14.51it/s]"
     ]
    },
    {
     "name": "stdout",
     "output_type": "stream",
     "text": [
      "Processing speech: https://www.bis.org/api/documents/review/r041206c.json\n",
      "Processing speech: https://www.bis.org/api/documents/review/r041206b.json\n",
      "Processing speech: https://www.bis.org/api/documents/review/r041206a.json\n"
     ]
    },
    {
     "name": "stderr",
     "output_type": "stream",
     "text": [
      "  8%|▊         | 1561/20093 [02:19<21:52, 14.12it/s]"
     ]
    },
    {
     "name": "stdout",
     "output_type": "stream",
     "text": [
      "Processing speech: https://www.bis.org/api/documents/review/r041202j.json\n",
      "Processing speech: https://www.bis.org/api/documents/review/r041202i.json\n",
      "Processing speech: https://www.bis.org/api/documents/review/r041202h.json\n"
     ]
    },
    {
     "name": "stderr",
     "output_type": "stream",
     "text": [
      "  8%|▊         | 1565/20093 [02:20<21:17, 14.50it/s]"
     ]
    },
    {
     "name": "stdout",
     "output_type": "stream",
     "text": [
      "Processing speech: https://www.bis.org/api/documents/review/r041202g.json\n",
      "Processing speech: https://www.bis.org/api/documents/review/r041202f.json\n",
      "Processing speech: https://www.bis.org/api/documents/review/r041202e.json\n"
     ]
    },
    {
     "name": "stderr",
     "output_type": "stream",
     "text": [
      "  8%|▊         | 1567/20093 [02:20<21:38, 14.26it/s]"
     ]
    },
    {
     "name": "stdout",
     "output_type": "stream",
     "text": [
      "Processing speech: https://www.bis.org/api/documents/review/r041202d.json\n",
      "Processing speech: https://www.bis.org/api/documents/review/r041202c.json\n",
      "Processing speech: https://www.bis.org/api/documents/review/r041202b.json\n"
     ]
    },
    {
     "name": "stderr",
     "output_type": "stream",
     "text": [
      "  8%|▊         | 1571/20093 [02:20<22:16, 13.86it/s]"
     ]
    },
    {
     "name": "stdout",
     "output_type": "stream",
     "text": [
      "Processing speech: https://www.bis.org/api/documents/review/r041202a.json\n",
      "Processing speech: https://www.bis.org/api/documents/review/r041130i.json\n",
      "Processing speech: https://www.bis.org/api/documents/review/r041130h.json\n"
     ]
    },
    {
     "name": "stderr",
     "output_type": "stream",
     "text": [
      "  8%|▊         | 1573/20093 [02:20<24:26, 12.63it/s]"
     ]
    },
    {
     "name": "stdout",
     "output_type": "stream",
     "text": [
      "Processing speech: https://www.bis.org/api/documents/review/r041130g.json\n",
      "Processing speech: https://www.bis.org/api/documents/review/r041130f.json\n",
      "Processing speech: https://www.bis.org/api/documents/review/r041130e.json\n"
     ]
    },
    {
     "name": "stderr",
     "output_type": "stream",
     "text": [
      "  8%|▊         | 1577/20093 [02:21<23:28, 13.14it/s]"
     ]
    },
    {
     "name": "stdout",
     "output_type": "stream",
     "text": [
      "Processing speech: https://www.bis.org/api/documents/review/r041130d.json\n",
      "Processing speech: https://www.bis.org/api/documents/review/r041130c.json\n",
      "Processing speech: https://www.bis.org/api/documents/review/r041130b.json\n"
     ]
    },
    {
     "name": "stderr",
     "output_type": "stream",
     "text": [
      "  8%|▊         | 1579/20093 [02:21<23:59, 12.86it/s]"
     ]
    },
    {
     "name": "stdout",
     "output_type": "stream",
     "text": [
      "Processing speech: https://www.bis.org/api/documents/review/r041130a.json\n",
      "Processing speech: https://www.bis.org/api/documents/review/r041125i.json\n",
      "Processing speech: https://www.bis.org/api/documents/review/r041125h.json\n"
     ]
    },
    {
     "name": "stderr",
     "output_type": "stream",
     "text": [
      "  8%|▊         | 1583/20093 [02:21<23:24, 13.18it/s]"
     ]
    },
    {
     "name": "stdout",
     "output_type": "stream",
     "text": [
      "Processing speech: https://www.bis.org/api/documents/review/r041125g.json\n",
      "Processing speech: https://www.bis.org/api/documents/review/r041125f.json\n",
      "Processing speech: https://www.bis.org/api/documents/review/r041125e.json\n"
     ]
    },
    {
     "name": "stderr",
     "output_type": "stream",
     "text": [
      "  8%|▊         | 1585/20093 [02:21<23:51, 12.93it/s]"
     ]
    },
    {
     "name": "stdout",
     "output_type": "stream",
     "text": [
      "Processing speech: https://www.bis.org/api/documents/review/r041125d.json\n",
      "Processing speech: https://www.bis.org/api/documents/review/r041125c.json\n",
      "Processing speech: https://www.bis.org/api/documents/review/r041125b.json\n"
     ]
    },
    {
     "name": "stderr",
     "output_type": "stream",
     "text": [
      "  8%|▊         | 1589/20093 [02:22<23:04, 13.37it/s]"
     ]
    },
    {
     "name": "stdout",
     "output_type": "stream",
     "text": [
      "Processing speech: https://www.bis.org/api/documents/review/r041125a.json\n",
      "Processing speech: https://www.bis.org/api/documents/review/r041122f.json\n",
      "Processing speech: https://www.bis.org/api/documents/review/r041122e.json\n",
      "Processing speech: https://www.bis.org/api/documents/review/r041122d.json\n"
     ]
    },
    {
     "name": "stderr",
     "output_type": "stream",
     "text": [
      "  8%|▊         | 1593/20093 [02:22<22:13, 13.87it/s]"
     ]
    },
    {
     "name": "stdout",
     "output_type": "stream",
     "text": [
      "Processing speech: https://www.bis.org/api/documents/review/r041122c.json\n",
      "Processing speech: https://www.bis.org/api/documents/review/r041122b.json\n",
      "Processing speech: https://www.bis.org/api/documents/review/r041122a.json\n",
      "Processing speech: https://www.bis.org/api/documents/review/r041117j.json\n"
     ]
    },
    {
     "name": "stderr",
     "output_type": "stream",
     "text": [
      "  8%|▊         | 1597/20093 [02:22<21:43, 14.19it/s]"
     ]
    },
    {
     "name": "stdout",
     "output_type": "stream",
     "text": [
      "Processing speech: https://www.bis.org/api/documents/review/r041117i.json\n",
      "Processing speech: https://www.bis.org/api/documents/review/r041117h.json\n",
      "Processing speech: https://www.bis.org/api/documents/review/r041117g.json\n"
     ]
    },
    {
     "name": "stderr",
     "output_type": "stream",
     "text": [
      "  8%|▊         | 1599/20093 [02:22<21:50, 14.11it/s]"
     ]
    },
    {
     "name": "stdout",
     "output_type": "stream",
     "text": [
      "Processing speech: https://www.bis.org/api/documents/review/r041117f.json\n",
      "Processing speech: https://www.bis.org/api/documents/review/r041117e.json\n",
      "Processing speech: https://www.bis.org/api/documents/review/r041117d.json\n"
     ]
    },
    {
     "name": "stderr",
     "output_type": "stream",
     "text": [
      "  8%|▊         | 1603/20093 [02:23<22:17, 13.82it/s]"
     ]
    },
    {
     "name": "stdout",
     "output_type": "stream",
     "text": [
      "Processing speech: https://www.bis.org/api/documents/review/r041117c.json\n",
      "Processing speech: https://www.bis.org/api/documents/review/r041117b.json\n",
      "Processing speech: https://www.bis.org/api/documents/review/r041117a.json\n"
     ]
    },
    {
     "name": "stderr",
     "output_type": "stream",
     "text": [
      "  8%|▊         | 1605/20093 [02:23<22:05, 13.95it/s]"
     ]
    },
    {
     "name": "stdout",
     "output_type": "stream",
     "text": [
      "Processing speech: https://www.bis.org/api/documents/review/r041115g.json\n",
      "Processing speech: https://www.bis.org/api/documents/review/r041115f.json\n",
      "Processing speech: https://www.bis.org/api/documents/review/r041115e.json\n"
     ]
    },
    {
     "name": "stderr",
     "output_type": "stream",
     "text": [
      "  8%|▊         | 1609/20093 [02:23<21:57, 14.03it/s]"
     ]
    },
    {
     "name": "stdout",
     "output_type": "stream",
     "text": [
      "Processing speech: https://www.bis.org/api/documents/review/r041115d.json\n",
      "Processing speech: https://www.bis.org/api/documents/review/r041115c.json\n",
      "Processing speech: https://www.bis.org/api/documents/review/r041115b.json\n"
     ]
    },
    {
     "name": "stderr",
     "output_type": "stream",
     "text": [
      "  8%|▊         | 1611/20093 [02:23<22:45, 13.53it/s]"
     ]
    },
    {
     "name": "stdout",
     "output_type": "stream",
     "text": [
      "Processing speech: https://www.bis.org/api/documents/review/r041115a.json\n",
      "Processing speech: https://www.bis.org/api/documents/review/r041112h.json\n",
      "Processing speech: https://www.bis.org/api/documents/review/r041112g.json\n"
     ]
    },
    {
     "name": "stderr",
     "output_type": "stream",
     "text": [
      "  8%|▊         | 1615/20093 [02:23<22:26, 13.73it/s]"
     ]
    },
    {
     "name": "stdout",
     "output_type": "stream",
     "text": [
      "Processing speech: https://www.bis.org/api/documents/review/r041112f.json\n",
      "Processing speech: https://www.bis.org/api/documents/review/r041112e.json\n",
      "Processing speech: https://www.bis.org/api/documents/review/r041112d.json\n"
     ]
    },
    {
     "name": "stderr",
     "output_type": "stream",
     "text": [
      "  8%|▊         | 1617/20093 [02:24<22:20, 13.78it/s]"
     ]
    },
    {
     "name": "stdout",
     "output_type": "stream",
     "text": [
      "Processing speech: https://www.bis.org/api/documents/review/r041112c.json\n",
      "Processing speech: https://www.bis.org/api/documents/review/r041112b.json\n",
      "Processing speech: https://www.bis.org/api/documents/review/r041112a.json\n"
     ]
    },
    {
     "name": "stderr",
     "output_type": "stream",
     "text": [
      "  8%|▊         | 1621/20093 [02:24<21:31, 14.30it/s]"
     ]
    },
    {
     "name": "stdout",
     "output_type": "stream",
     "text": [
      "Processing speech: https://www.bis.org/api/documents/review/r041110f.json\n",
      "Processing speech: https://www.bis.org/api/documents/review/r041110e.json\n",
      "Processing speech: https://www.bis.org/api/documents/review/r041110d.json\n",
      "Processing speech: https://www.bis.org/api/documents/review/r041110c.json\n"
     ]
    },
    {
     "name": "stderr",
     "output_type": "stream",
     "text": [
      "  8%|▊         | 1625/20093 [02:24<20:29, 15.03it/s]"
     ]
    },
    {
     "name": "stdout",
     "output_type": "stream",
     "text": [
      "Processing speech: https://www.bis.org/api/documents/review/r041110b.json\n",
      "Processing speech: https://www.bis.org/api/documents/review/r041110a.json\n",
      "Processing speech: https://www.bis.org/api/documents/review/r041108f.json\n",
      "Processing speech: https://www.bis.org/api/documents/review/r041108e.json\n"
     ]
    },
    {
     "name": "stderr",
     "output_type": "stream",
     "text": [
      "  8%|▊         | 1629/20093 [02:24<21:05, 14.59it/s]"
     ]
    },
    {
     "name": "stdout",
     "output_type": "stream",
     "text": [
      "Processing speech: https://www.bis.org/api/documents/review/r041108d.json\n",
      "Processing speech: https://www.bis.org/api/documents/review/r041108c.json\n",
      "Processing speech: https://www.bis.org/api/documents/review/r041108b.json\n",
      "Processing speech: https://www.bis.org/api/documents/review/r041108a.json\n"
     ]
    },
    {
     "name": "stderr",
     "output_type": "stream",
     "text": [
      "  8%|▊         | 1633/20093 [02:25<21:10, 14.52it/s]"
     ]
    },
    {
     "name": "stdout",
     "output_type": "stream",
     "text": [
      "Processing speech: https://www.bis.org/api/documents/review/r041105i.json\n",
      "Processing speech: https://www.bis.org/api/documents/review/r041105h.json\n",
      "Processing speech: https://www.bis.org/api/documents/review/r041105g.json\n"
     ]
    },
    {
     "name": "stderr",
     "output_type": "stream",
     "text": [
      "  8%|▊         | 1635/20093 [02:25<20:54, 14.72it/s]"
     ]
    },
    {
     "name": "stdout",
     "output_type": "stream",
     "text": [
      "Processing speech: https://www.bis.org/api/documents/review/r041105f.json\n",
      "Processing speech: https://www.bis.org/api/documents/review/r041105e.json\n",
      "Processing speech: https://www.bis.org/api/documents/review/r041105d.json\n"
     ]
    },
    {
     "name": "stderr",
     "output_type": "stream",
     "text": [
      "  8%|▊         | 1639/20093 [02:25<21:07, 14.56it/s]"
     ]
    },
    {
     "name": "stdout",
     "output_type": "stream",
     "text": [
      "Processing speech: https://www.bis.org/api/documents/review/r041105c.json\n",
      "Processing speech: https://www.bis.org/api/documents/review/r041105b.json\n",
      "Processing speech: https://www.bis.org/api/documents/review/r041105a.json\n"
     ]
    },
    {
     "name": "stderr",
     "output_type": "stream",
     "text": [
      "  8%|▊         | 1641/20093 [02:25<21:23, 14.37it/s]"
     ]
    },
    {
     "name": "stdout",
     "output_type": "stream",
     "text": [
      "Processing speech: https://www.bis.org/api/documents/review/r041028j.json\n",
      "Processing speech: https://www.bis.org/api/documents/review/r041028i.json\n",
      "Processing speech: https://www.bis.org/api/documents/review/r041028h.json\n"
     ]
    },
    {
     "name": "stderr",
     "output_type": "stream",
     "text": [
      "  8%|▊         | 1645/20093 [02:25<21:06, 14.57it/s]"
     ]
    },
    {
     "name": "stdout",
     "output_type": "stream",
     "text": [
      "Processing speech: https://www.bis.org/api/documents/review/r041028g.json\n",
      "Processing speech: https://www.bis.org/api/documents/review/r041028f.json\n",
      "Processing speech: https://www.bis.org/api/documents/review/r041028e.json\n",
      "Processing speech: https://www.bis.org/api/documents/review/r041028d.json\n"
     ]
    },
    {
     "name": "stderr",
     "output_type": "stream",
     "text": [
      "  8%|▊         | 1649/20093 [02:26<22:00, 13.96it/s]"
     ]
    },
    {
     "name": "stdout",
     "output_type": "stream",
     "text": [
      "Processing speech: https://www.bis.org/api/documents/review/r041028c.json\n",
      "Processing speech: https://www.bis.org/api/documents/review/r041028b.json\n",
      "Processing speech: https://www.bis.org/api/documents/review/r041028a.json\n"
     ]
    },
    {
     "name": "stderr",
     "output_type": "stream",
     "text": [
      "  8%|▊         | 1651/20093 [02:26<23:11, 13.26it/s]"
     ]
    },
    {
     "name": "stdout",
     "output_type": "stream",
     "text": [
      "Processing speech: https://www.bis.org/api/documents/review/r041025k.json\n",
      "Processing speech: https://www.bis.org/api/documents/review/r041025j.json\n",
      "Processing speech: https://www.bis.org/api/documents/review/r041025i.json\n"
     ]
    },
    {
     "name": "stderr",
     "output_type": "stream",
     "text": [
      "  8%|▊         | 1655/20093 [02:26<22:34, 13.61it/s]"
     ]
    },
    {
     "name": "stdout",
     "output_type": "stream",
     "text": [
      "Processing speech: https://www.bis.org/api/documents/review/r041025h.json\n",
      "Processing speech: https://www.bis.org/api/documents/review/r041025g.json\n",
      "Processing speech: https://www.bis.org/api/documents/review/r041025f.json\n"
     ]
    },
    {
     "name": "stderr",
     "output_type": "stream",
     "text": [
      "  8%|▊         | 1657/20093 [02:26<23:08, 13.27it/s]"
     ]
    },
    {
     "name": "stdout",
     "output_type": "stream",
     "text": [
      "Processing speech: https://www.bis.org/api/documents/review/r041025e.json\n",
      "Processing speech: https://www.bis.org/api/documents/review/r041025d.json\n",
      "Processing speech: https://www.bis.org/api/documents/review/r041025c.json\n"
     ]
    },
    {
     "name": "stderr",
     "output_type": "stream",
     "text": [
      "  8%|▊         | 1661/20093 [02:27<23:41, 12.97it/s]"
     ]
    },
    {
     "name": "stdout",
     "output_type": "stream",
     "text": [
      "Processing speech: https://www.bis.org/api/documents/review/r041025b.json\n",
      "Processing speech: https://www.bis.org/api/documents/review/r041025a.json\n",
      "Processing speech: https://www.bis.org/api/documents/review/r041022h.json\n"
     ]
    },
    {
     "name": "stderr",
     "output_type": "stream",
     "text": [
      "  8%|▊         | 1663/20093 [02:27<24:33, 12.51it/s]"
     ]
    },
    {
     "name": "stdout",
     "output_type": "stream",
     "text": [
      "Processing speech: https://www.bis.org/api/documents/review/r041022g.json\n",
      "Processing speech: https://www.bis.org/api/documents/review/r041022f.json\n",
      "Processing speech: https://www.bis.org/api/documents/review/r041022e.json\n"
     ]
    },
    {
     "name": "stderr",
     "output_type": "stream",
     "text": [
      "  8%|▊         | 1667/20093 [02:27<22:40, 13.54it/s]"
     ]
    },
    {
     "name": "stdout",
     "output_type": "stream",
     "text": [
      "Processing speech: https://www.bis.org/api/documents/review/r041022d.json\n",
      "Processing speech: https://www.bis.org/api/documents/review/r041022c.json\n",
      "Processing speech: https://www.bis.org/api/documents/review/r041022b.json\n",
      "Processing speech: https://www.bis.org/api/documents/review/r041022a.json\n"
     ]
    },
    {
     "name": "stderr",
     "output_type": "stream",
     "text": [
      "  8%|▊         | 1671/20093 [02:27<21:43, 14.14it/s]"
     ]
    },
    {
     "name": "stdout",
     "output_type": "stream",
     "text": [
      "Processing speech: https://www.bis.org/api/documents/review/r041020d.json\n",
      "Processing speech: https://www.bis.org/api/documents/review/r041020c.json\n",
      "Processing speech: https://www.bis.org/api/documents/review/r041020b.json\n"
     ]
    },
    {
     "name": "stderr",
     "output_type": "stream",
     "text": [
      "  8%|▊         | 1673/20093 [02:28<21:35, 14.22it/s]"
     ]
    },
    {
     "name": "stdout",
     "output_type": "stream",
     "text": [
      "Processing speech: https://www.bis.org/api/documents/review/r041020a.json\n",
      "Processing speech: https://www.bis.org/api/documents/review/r041019h.json\n",
      "Processing speech: https://www.bis.org/api/documents/review/r041019g.json\n"
     ]
    },
    {
     "name": "stderr",
     "output_type": "stream",
     "text": [
      "  8%|▊         | 1677/20093 [02:28<21:28, 14.29it/s]"
     ]
    },
    {
     "name": "stdout",
     "output_type": "stream",
     "text": [
      "Processing speech: https://www.bis.org/api/documents/review/r041019f.json\n",
      "Processing speech: https://www.bis.org/api/documents/review/r041019e.json\n",
      "Processing speech: https://www.bis.org/api/documents/review/r041019d.json\n"
     ]
    },
    {
     "name": "stderr",
     "output_type": "stream",
     "text": [
      "  8%|▊         | 1679/20093 [02:28<21:08, 14.51it/s]"
     ]
    },
    {
     "name": "stdout",
     "output_type": "stream",
     "text": [
      "Processing speech: https://www.bis.org/api/documents/review/r041019c.json\n",
      "Processing speech: https://www.bis.org/api/documents/review/r041019b.json\n",
      "Processing speech: https://www.bis.org/api/documents/review/r041019a.json\n"
     ]
    },
    {
     "name": "stderr",
     "output_type": "stream",
     "text": [
      "  8%|▊         | 1683/20093 [02:28<21:20, 14.38it/s]"
     ]
    },
    {
     "name": "stdout",
     "output_type": "stream",
     "text": [
      "Processing speech: https://www.bis.org/api/documents/review/r041013o.json\n",
      "Processing speech: https://www.bis.org/api/documents/review/r041013n.json\n",
      "Processing speech: https://www.bis.org/api/documents/review/r041013m.json\n",
      "Processing speech: https://www.bis.org/api/documents/review/r041013l.json\n"
     ]
    },
    {
     "name": "stderr",
     "output_type": "stream",
     "text": [
      "  8%|▊         | 1687/20093 [02:29<20:58, 14.63it/s]"
     ]
    },
    {
     "name": "stdout",
     "output_type": "stream",
     "text": [
      "Processing speech: https://www.bis.org/api/documents/review/r041013k.json\n",
      "Processing speech: https://www.bis.org/api/documents/review/r041013j.json\n",
      "Processing speech: https://www.bis.org/api/documents/review/r041013i.json\n",
      "Processing speech: https://www.bis.org/api/documents/review/r041013h.json\n"
     ]
    },
    {
     "name": "stderr",
     "output_type": "stream",
     "text": [
      "  8%|▊         | 1691/20093 [02:29<20:23, 15.04it/s]"
     ]
    },
    {
     "name": "stdout",
     "output_type": "stream",
     "text": [
      "Processing speech: https://www.bis.org/api/documents/review/r041013g.json\n",
      "Processing speech: https://www.bis.org/api/documents/review/r041013f.json\n",
      "Processing speech: https://www.bis.org/api/documents/review/r041013e.json\n"
     ]
    },
    {
     "name": "stderr",
     "output_type": "stream",
     "text": [
      "  8%|▊         | 1693/20093 [02:29<20:52, 14.70it/s]"
     ]
    },
    {
     "name": "stdout",
     "output_type": "stream",
     "text": [
      "Processing speech: https://www.bis.org/api/documents/review/r041013d.json\n",
      "Processing speech: https://www.bis.org/api/documents/review/r041013c.json\n",
      "Processing speech: https://www.bis.org/api/documents/review/r041013b.json\n"
     ]
    },
    {
     "name": "stderr",
     "output_type": "stream",
     "text": [
      "  8%|▊         | 1697/20093 [02:29<22:48, 13.44it/s]"
     ]
    },
    {
     "name": "stdout",
     "output_type": "stream",
     "text": [
      "Processing speech: https://www.bis.org/api/documents/review/r041013a.json\n",
      "Processing speech: https://www.bis.org/api/documents/review/r041011g.json\n",
      "Processing speech: https://www.bis.org/api/documents/review/r041011f.json\n"
     ]
    },
    {
     "name": "stderr",
     "output_type": "stream",
     "text": [
      "  8%|▊         | 1699/20093 [02:29<23:12, 13.21it/s]"
     ]
    },
    {
     "name": "stdout",
     "output_type": "stream",
     "text": [
      "Processing speech: https://www.bis.org/api/documents/review/r041011e.json\n",
      "Processing speech: https://www.bis.org/api/documents/review/r041011d.json\n",
      "Processing speech: https://www.bis.org/api/documents/review/r041011c.json\n"
     ]
    },
    {
     "name": "stderr",
     "output_type": "stream",
     "text": [
      "  8%|▊         | 1703/20093 [02:30<22:56, 13.36it/s]"
     ]
    },
    {
     "name": "stdout",
     "output_type": "stream",
     "text": [
      "Processing speech: https://www.bis.org/api/documents/review/r041011b.json\n",
      "Processing speech: https://www.bis.org/api/documents/review/r041011a.json\n",
      "Processing speech: https://www.bis.org/api/documents/review/r041001e.json\n",
      "Processing speech: https://www.bis.org/api/documents/review/r041001d.json\n"
     ]
    },
    {
     "name": "stderr",
     "output_type": "stream",
     "text": [
      "  8%|▊         | 1707/20093 [02:30<21:29, 14.26it/s]"
     ]
    },
    {
     "name": "stdout",
     "output_type": "stream",
     "text": [
      "Processing speech: https://www.bis.org/api/documents/review/r041001c.json\n",
      "Processing speech: https://www.bis.org/api/documents/review/r041001b.json\n",
      "Processing speech: https://www.bis.org/api/documents/review/r041001a.json\n",
      "Processing speech: https://www.bis.org/api/documents/review/r040929e.json\n"
     ]
    },
    {
     "name": "stderr",
     "output_type": "stream",
     "text": [
      "  9%|▊         | 1711/20093 [02:30<20:36, 14.87it/s]"
     ]
    },
    {
     "name": "stdout",
     "output_type": "stream",
     "text": [
      "Processing speech: https://www.bis.org/api/documents/review/r040929d.json\n",
      "Processing speech: https://www.bis.org/api/documents/review/r040929c.json\n",
      "Processing speech: https://www.bis.org/api/documents/review/r040929b.json\n",
      "Processing speech: https://www.bis.org/api/documents/review/r040929a.json\n"
     ]
    },
    {
     "name": "stderr",
     "output_type": "stream",
     "text": [
      "  9%|▊         | 1715/20093 [02:31<20:59, 14.60it/s]"
     ]
    },
    {
     "name": "stdout",
     "output_type": "stream",
     "text": [
      "Processing speech: https://www.bis.org/api/documents/review/r040928h.json\n",
      "Processing speech: https://www.bis.org/api/documents/review/r040928e.json\n",
      "Processing speech: https://www.bis.org/api/documents/review/r040928d.json\n"
     ]
    },
    {
     "name": "stderr",
     "output_type": "stream",
     "text": [
      "  9%|▊         | 1717/20093 [02:31<21:31, 14.22it/s]"
     ]
    },
    {
     "name": "stdout",
     "output_type": "stream",
     "text": [
      "Processing speech: https://www.bis.org/api/documents/review/r040928c.json\n",
      "Processing speech: https://www.bis.org/api/documents/review/r040928b.json\n",
      "Processing speech: https://www.bis.org/api/documents/review/r040928a.json\n"
     ]
    },
    {
     "name": "stderr",
     "output_type": "stream",
     "text": [
      "  9%|▊         | 1721/20093 [02:31<21:22, 14.33it/s]"
     ]
    },
    {
     "name": "stdout",
     "output_type": "stream",
     "text": [
      "Processing speech: https://www.bis.org/api/documents/review/r040922f.json\n",
      "Processing speech: https://www.bis.org/api/documents/review/r040922e.json\n",
      "Processing speech: https://www.bis.org/api/documents/review/r040922d.json\n"
     ]
    },
    {
     "name": "stderr",
     "output_type": "stream",
     "text": [
      "  9%|▊         | 1723/20093 [02:31<22:35, 13.56it/s]"
     ]
    },
    {
     "name": "stdout",
     "output_type": "stream",
     "text": [
      "Processing speech: https://www.bis.org/api/documents/review/r040922c.json\n",
      "Processing speech: https://www.bis.org/api/documents/review/r040922b.json\n",
      "Processing speech: https://www.bis.org/api/documents/review/r040922a.json\n"
     ]
    },
    {
     "name": "stderr",
     "output_type": "stream",
     "text": [
      "  9%|▊         | 1727/20093 [02:31<21:39, 14.14it/s]"
     ]
    },
    {
     "name": "stdout",
     "output_type": "stream",
     "text": [
      "Processing speech: https://www.bis.org/api/documents/review/r040920k.json\n",
      "Processing speech: https://www.bis.org/api/documents/review/r040920j.json\n",
      "Processing speech: https://www.bis.org/api/documents/review/r040920i.json\n"
     ]
    },
    {
     "name": "stderr",
     "output_type": "stream",
     "text": [
      "  9%|▊         | 1729/20093 [02:32<21:21, 14.33it/s]"
     ]
    },
    {
     "name": "stdout",
     "output_type": "stream",
     "text": [
      "Processing speech: https://www.bis.org/api/documents/review/r040920h.json\n",
      "Processing speech: https://www.bis.org/api/documents/review/r040920g.json\n",
      "Processing speech: https://www.bis.org/api/documents/review/r040920f.json\n"
     ]
    },
    {
     "name": "stderr",
     "output_type": "stream",
     "text": [
      "  9%|▊         | 1733/20093 [02:32<20:56, 14.61it/s]"
     ]
    },
    {
     "name": "stdout",
     "output_type": "stream",
     "text": [
      "Processing speech: https://www.bis.org/api/documents/review/r040920e.json\n",
      "Processing speech: https://www.bis.org/api/documents/review/r040920d.json\n",
      "Processing speech: https://www.bis.org/api/documents/review/r040920c.json\n",
      "Processing speech: https://www.bis.org/api/documents/review/r040920b.json\n"
     ]
    },
    {
     "name": "stderr",
     "output_type": "stream",
     "text": [
      "  9%|▊         | 1737/20093 [02:32<20:36, 14.84it/s]"
     ]
    },
    {
     "name": "stdout",
     "output_type": "stream",
     "text": [
      "Processing speech: https://www.bis.org/api/documents/review/r040920a.json\n",
      "Processing speech: https://www.bis.org/api/documents/review/r040916k.json\n",
      "Processing speech: https://www.bis.org/api/documents/review/r040916j.json\n"
     ]
    },
    {
     "name": "stderr",
     "output_type": "stream",
     "text": [
      "  9%|▊         | 1739/20093 [02:32<23:39, 12.93it/s]"
     ]
    },
    {
     "name": "stdout",
     "output_type": "stream",
     "text": [
      "Processing speech: https://www.bis.org/api/documents/review/r040916i.json\n",
      "Processing speech: https://www.bis.org/api/documents/review/r040916h.json\n",
      "Processing speech: https://www.bis.org/api/documents/review/r040916g.json\n"
     ]
    },
    {
     "name": "stderr",
     "output_type": "stream",
     "text": [
      "  9%|▊         | 1743/20093 [02:33<22:41, 13.47it/s]"
     ]
    },
    {
     "name": "stdout",
     "output_type": "stream",
     "text": [
      "Processing speech: https://www.bis.org/api/documents/review/r040916f.json\n",
      "Processing speech: https://www.bis.org/api/documents/review/r040916e.json\n",
      "Processing speech: https://www.bis.org/api/documents/review/r040916d.json\n",
      "Processing speech: https://www.bis.org/api/documents/review/r040916c.json\n"
     ]
    },
    {
     "name": "stderr",
     "output_type": "stream",
     "text": [
      "  9%|▊         | 1747/20093 [02:33<22:00, 13.90it/s]"
     ]
    },
    {
     "name": "stdout",
     "output_type": "stream",
     "text": [
      "Processing speech: https://www.bis.org/api/documents/review/r040916b.json\n",
      "Processing speech: https://www.bis.org/api/documents/review/r040916a.json\n",
      "Processing speech: https://www.bis.org/api/documents/review/r040908e.json\n",
      "Processing speech: https://www.bis.org/api/documents/review/r040908d.json\n"
     ]
    },
    {
     "name": "stderr",
     "output_type": "stream",
     "text": [
      "  9%|▊         | 1751/20093 [02:33<22:05, 13.83it/s]"
     ]
    },
    {
     "name": "stdout",
     "output_type": "stream",
     "text": [
      "Processing speech: https://www.bis.org/api/documents/review/r040908c.json\n",
      "Processing speech: https://www.bis.org/api/documents/review/r040908b.json\n",
      "Processing speech: https://www.bis.org/api/documents/review/r040908a.json\n"
     ]
    },
    {
     "name": "stderr",
     "output_type": "stream",
     "text": [
      "  9%|▊         | 1755/20093 [02:33<21:13, 14.40it/s]"
     ]
    },
    {
     "name": "stdout",
     "output_type": "stream",
     "text": [
      "Processing speech: https://www.bis.org/api/documents/review/r040831e.json\n",
      "Processing speech: https://www.bis.org/api/documents/review/r040831d.json\n",
      "Processing speech: https://www.bis.org/api/documents/review/r040831c.json\n"
     ]
    },
    {
     "name": "stderr",
     "output_type": "stream",
     "text": [
      "  9%|▊         | 1757/20093 [02:33<20:42, 14.76it/s]"
     ]
    },
    {
     "name": "stdout",
     "output_type": "stream",
     "text": [
      "Processing speech: https://www.bis.org/api/documents/review/r040831b.json\n",
      "Processing speech: https://www.bis.org/api/documents/review/r040831a.json\n",
      "Processing speech: https://www.bis.org/api/documents/review/r040820f.json\n",
      "Processing speech: https://www.bis.org/api/documents/review/r040820e.json\n"
     ]
    },
    {
     "name": "stderr",
     "output_type": "stream",
     "text": [
      "  9%|▉         | 1761/20093 [02:34<20:26, 14.94it/s]"
     ]
    },
    {
     "name": "stdout",
     "output_type": "stream",
     "text": [
      "Processing speech: https://www.bis.org/api/documents/review/r040820d.json\n",
      "Processing speech: https://www.bis.org/api/documents/review/r040820c.json\n",
      "Processing speech: https://www.bis.org/api/documents/review/r040820b.json\n",
      "Processing speech: https://www.bis.org/api/documents/review/r040820a.json\n"
     ]
    },
    {
     "name": "stderr",
     "output_type": "stream",
     "text": [
      "  9%|▉         | 1765/20093 [02:34<20:18, 15.04it/s]"
     ]
    },
    {
     "name": "stdout",
     "output_type": "stream",
     "text": [
      "Processing speech: https://www.bis.org/api/documents/review/r040816g.json\n",
      "Processing speech: https://www.bis.org/api/documents/review/r040816f.json\n",
      "Processing speech: https://www.bis.org/api/documents/review/r040816e.json\n",
      "Processing speech: https://www.bis.org/api/documents/review/r040816d.json\n"
     ]
    },
    {
     "name": "stderr",
     "output_type": "stream",
     "text": [
      "  9%|▉         | 1769/20093 [02:34<20:43, 14.73it/s]"
     ]
    },
    {
     "name": "stdout",
     "output_type": "stream",
     "text": [
      "Processing speech: https://www.bis.org/api/documents/review/r040816c.json\n",
      "Processing speech: https://www.bis.org/api/documents/review/r040816b.json\n",
      "Processing speech: https://www.bis.org/api/documents/review/r040816a.json\n",
      "Processing speech: https://www.bis.org/api/documents/review/r040806g.json\n"
     ]
    },
    {
     "name": "stderr",
     "output_type": "stream",
     "text": [
      "  9%|▉         | 1773/20093 [02:35<20:20, 15.02it/s]"
     ]
    },
    {
     "name": "stdout",
     "output_type": "stream",
     "text": [
      "Processing speech: https://www.bis.org/api/documents/review/r040806f.json\n",
      "Processing speech: https://www.bis.org/api/documents/review/r040806e.json\n",
      "Processing speech: https://www.bis.org/api/documents/review/r040806d.json\n",
      "Processing speech: https://www.bis.org/api/documents/review/r040806c.json\n"
     ]
    },
    {
     "name": "stderr",
     "output_type": "stream",
     "text": [
      "  9%|▉         | 1777/20093 [02:35<22:13, 13.74it/s]"
     ]
    },
    {
     "name": "stdout",
     "output_type": "stream",
     "text": [
      "Processing speech: https://www.bis.org/api/documents/review/r040806b.json\n",
      "Processing speech: https://www.bis.org/api/documents/review/r040806a.json\n",
      "Processing speech: https://www.bis.org/api/documents/review/r040727h.json\n"
     ]
    },
    {
     "name": "stderr",
     "output_type": "stream",
     "text": [
      "  9%|▉         | 1779/20093 [02:35<21:50, 13.97it/s]"
     ]
    },
    {
     "name": "stdout",
     "output_type": "stream",
     "text": [
      "Processing speech: https://www.bis.org/api/documents/review/r040727g.json\n",
      "Processing speech: https://www.bis.org/api/documents/review/r040727f.json\n",
      "Processing speech: https://www.bis.org/api/documents/review/r040727e.json\n"
     ]
    },
    {
     "name": "stderr",
     "output_type": "stream",
     "text": [
      "  9%|▉         | 1783/20093 [02:35<22:01, 13.86it/s]"
     ]
    },
    {
     "name": "stdout",
     "output_type": "stream",
     "text": [
      "Processing speech: https://www.bis.org/api/documents/review/r040727d.json\n",
      "Processing speech: https://www.bis.org/api/documents/review/r040727c.json\n",
      "Processing speech: https://www.bis.org/api/documents/review/r040727b.json\n"
     ]
    },
    {
     "name": "stderr",
     "output_type": "stream",
     "text": [
      "  9%|▉         | 1785/20093 [02:35<22:27, 13.59it/s]"
     ]
    },
    {
     "name": "stdout",
     "output_type": "stream",
     "text": [
      "Processing speech: https://www.bis.org/api/documents/review/r040727a.json\n",
      "Processing speech: https://www.bis.org/api/documents/review/r040720g.json\n",
      "Processing speech: https://www.bis.org/api/documents/review/r040720f.json\n"
     ]
    },
    {
     "name": "stderr",
     "output_type": "stream",
     "text": [
      "  9%|▉         | 1789/20093 [02:36<22:01, 13.85it/s]"
     ]
    },
    {
     "name": "stdout",
     "output_type": "stream",
     "text": [
      "Processing speech: https://www.bis.org/api/documents/review/r040720e.json\n",
      "Processing speech: https://www.bis.org/api/documents/review/r040720d.json\n",
      "Processing speech: https://www.bis.org/api/documents/review/r040720c.json\n"
     ]
    },
    {
     "name": "stderr",
     "output_type": "stream",
     "text": [
      "  9%|▉         | 1791/20093 [02:36<21:42, 14.05it/s]"
     ]
    },
    {
     "name": "stdout",
     "output_type": "stream",
     "text": [
      "Processing speech: https://www.bis.org/api/documents/review/r040720b.json\n",
      "Processing speech: https://www.bis.org/api/documents/review/r040720a.json\n",
      "Processing speech: https://www.bis.org/api/documents/review/r040714i.json\n"
     ]
    },
    {
     "name": "stderr",
     "output_type": "stream",
     "text": [
      "  9%|▉         | 1795/20093 [02:36<21:41, 14.05it/s]"
     ]
    },
    {
     "name": "stdout",
     "output_type": "stream",
     "text": [
      "Processing speech: https://www.bis.org/api/documents/review/r040714h.json\n",
      "Processing speech: https://www.bis.org/api/documents/review/r040714g.json\n",
      "Processing speech: https://www.bis.org/api/documents/review/r040714f.json\n"
     ]
    },
    {
     "name": "stderr",
     "output_type": "stream",
     "text": [
      "  9%|▉         | 1797/20093 [02:36<21:30, 14.18it/s]"
     ]
    },
    {
     "name": "stdout",
     "output_type": "stream",
     "text": [
      "Processing speech: https://www.bis.org/api/documents/review/r040714e.json\n",
      "Processing speech: https://www.bis.org/api/documents/review/r040714d.json\n",
      "Processing speech: https://www.bis.org/api/documents/review/r040714c.json\n"
     ]
    },
    {
     "name": "stderr",
     "output_type": "stream",
     "text": [
      "  9%|▉         | 1801/20093 [02:37<23:18, 13.08it/s]"
     ]
    },
    {
     "name": "stdout",
     "output_type": "stream",
     "text": [
      "Processing speech: https://www.bis.org/api/documents/review/r040714b.json\n",
      "Processing speech: https://www.bis.org/api/documents/review/r040714a.json\n",
      "Processing speech: https://www.bis.org/api/documents/review/r040713j.json\n",
      "Processing speech: https://www.bis.org/api/documents/review/r040713i.json\n"
     ]
    },
    {
     "name": "stderr",
     "output_type": "stream",
     "text": [
      "  9%|▉         | 1805/20093 [02:37<21:34, 14.13it/s]"
     ]
    },
    {
     "name": "stdout",
     "output_type": "stream",
     "text": [
      "Processing speech: https://www.bis.org/api/documents/review/r040713h.json\n",
      "Processing speech: https://www.bis.org/api/documents/review/r040713g.json\n",
      "Processing speech: https://www.bis.org/api/documents/review/r040713f.json\n"
     ]
    },
    {
     "name": "stderr",
     "output_type": "stream",
     "text": [
      "  9%|▉         | 1807/20093 [02:37<20:53, 14.59it/s]"
     ]
    },
    {
     "name": "stdout",
     "output_type": "stream",
     "text": [
      "Processing speech: https://www.bis.org/api/documents/review/r040713e.json\n",
      "Processing speech: https://www.bis.org/api/documents/review/r040713d.json\n",
      "Processing speech: https://www.bis.org/api/documents/review/r040713c.json\n"
     ]
    },
    {
     "name": "stderr",
     "output_type": "stream",
     "text": [
      "  9%|▉         | 1811/20093 [02:37<20:30, 14.86it/s]"
     ]
    },
    {
     "name": "stdout",
     "output_type": "stream",
     "text": [
      "Processing speech: https://www.bis.org/api/documents/review/r040713b.json\n",
      "Processing speech: https://www.bis.org/api/documents/review/r040713a.json\n",
      "Processing speech: https://www.bis.org/api/documents/review/r040712f.json\n",
      "Processing speech: https://www.bis.org/api/documents/review/r040712e.json\n"
     ]
    },
    {
     "name": "stderr",
     "output_type": "stream",
     "text": [
      "  9%|▉         | 1815/20093 [02:38<22:52, 13.32it/s]"
     ]
    },
    {
     "name": "stdout",
     "output_type": "stream",
     "text": [
      "Processing speech: https://www.bis.org/api/documents/review/r040712d.json\n",
      "Processing speech: https://www.bis.org/api/documents/review/r040712c.json\n"
     ]
    },
    {
     "name": "stderr",
     "output_type": "stream",
     "text": [
      "  9%|▉         | 1817/20093 [02:38<22:18, 13.65it/s]"
     ]
    },
    {
     "name": "stdout",
     "output_type": "stream",
     "text": [
      "Processing speech: https://www.bis.org/api/documents/review/r040712b.json\n",
      "Processing speech: https://www.bis.org/api/documents/review/r040712a.json\n",
      "Processing speech: https://www.bis.org/api/documents/review/r040628b.json\n"
     ]
    },
    {
     "name": "stderr",
     "output_type": "stream",
     "text": [
      "  9%|▉         | 1819/20093 [02:38<21:49, 13.95it/s]"
     ]
    },
    {
     "name": "stdout",
     "output_type": "stream",
     "text": [
      "Processing speech: https://www.bis.org/api/documents/review/r040628a.json\n",
      "Processing speech: https://www.bis.org/api/documents/review/r040618g.json\n",
      "Processing speech: https://www.bis.org/api/documents/review/r040618f.json\n"
     ]
    },
    {
     "name": "stderr",
     "output_type": "stream",
     "text": [
      "  9%|▉         | 1821/20093 [02:38<20:58, 14.52it/s]"
     ]
    },
    {
     "name": "stdout",
     "output_type": "stream",
     "text": [
      "Processing speech: https://www.bis.org/api/documents/review/r040618e.json\n"
     ]
    },
    {
     "name": "stderr",
     "output_type": "stream",
     "text": [
      "  9%|▉         | 1823/20093 [02:38<34:09,  8.91it/s]"
     ]
    },
    {
     "name": "stdout",
     "output_type": "stream",
     "text": [
      "Processing speech: https://www.bis.org/api/documents/review/r040618d.json\n",
      "Processing speech: https://www.bis.org/api/documents/review/r040618c.json\n",
      "Processing speech: https://www.bis.org/api/documents/review/r040618b.json\n"
     ]
    },
    {
     "name": "stderr",
     "output_type": "stream",
     "text": [
      "  9%|▉         | 1827/20093 [02:39<27:30, 11.07it/s]"
     ]
    },
    {
     "name": "stdout",
     "output_type": "stream",
     "text": [
      "Processing speech: https://www.bis.org/api/documents/review/r040618a.json\n",
      "Processing speech: https://www.bis.org/api/documents/review/r040617g.json\n",
      "Processing speech: https://www.bis.org/api/documents/review/r040617f.json\n"
     ]
    },
    {
     "name": "stderr",
     "output_type": "stream",
     "text": [
      "  9%|▉         | 1829/20093 [02:39<30:17, 10.05it/s]"
     ]
    },
    {
     "name": "stdout",
     "output_type": "stream",
     "text": [
      "Processing speech: https://www.bis.org/api/documents/review/r040617e.json\n",
      "Processing speech: https://www.bis.org/api/documents/review/r040617d.json\n"
     ]
    },
    {
     "name": "stderr",
     "output_type": "stream",
     "text": [
      "  9%|▉         | 1831/20093 [02:39<32:55,  9.24it/s]"
     ]
    },
    {
     "name": "stdout",
     "output_type": "stream",
     "text": [
      "Processing speech: https://www.bis.org/api/documents/review/r040617c.json\n",
      "Processing speech: https://www.bis.org/api/documents/review/r040617b.json\n",
      "Processing speech: https://www.bis.org/api/documents/review/r040617a.json\n"
     ]
    },
    {
     "name": "stderr",
     "output_type": "stream",
     "text": [
      "  9%|▉         | 1834/20093 [02:40<42:30,  7.16it/s]"
     ]
    },
    {
     "name": "stdout",
     "output_type": "stream",
     "text": [
      "Processing speech: https://www.bis.org/api/documents/review/r040611h.json\n",
      "Processing speech: https://www.bis.org/api/documents/review/r040611g.json\n",
      "Processing speech: https://www.bis.org/api/documents/review/r040611f.json\n"
     ]
    },
    {
     "name": "stderr",
     "output_type": "stream",
     "text": [
      "  9%|▉         | 1837/20093 [02:40<43:44,  6.95it/s]"
     ]
    },
    {
     "name": "stdout",
     "output_type": "stream",
     "text": [
      "Processing speech: https://www.bis.org/api/documents/review/r040611e.json\n",
      "Processing speech: https://www.bis.org/api/documents/review/r040611d.json\n"
     ]
    },
    {
     "name": "stderr",
     "output_type": "stream",
     "text": [
      "  9%|▉         | 1839/20093 [02:41<46:39,  6.52it/s]"
     ]
    },
    {
     "name": "stdout",
     "output_type": "stream",
     "text": [
      "Processing speech: https://www.bis.org/api/documents/review/r040611c.json\n",
      "Processing speech: https://www.bis.org/api/documents/review/r040611b.json\n"
     ]
    },
    {
     "name": "stderr",
     "output_type": "stream",
     "text": [
      "  9%|▉         | 1841/20093 [02:41<47:38,  6.38it/s]"
     ]
    },
    {
     "name": "stdout",
     "output_type": "stream",
     "text": [
      "Processing speech: https://www.bis.org/api/documents/review/r040611a.json\n",
      "Processing speech: https://www.bis.org/api/documents/review/r040610g.json\n"
     ]
    },
    {
     "name": "stderr",
     "output_type": "stream",
     "text": [
      "  9%|▉         | 1842/20093 [02:41<44:50,  6.78it/s]"
     ]
    },
    {
     "name": "stdout",
     "output_type": "stream",
     "text": [
      "Processing speech: https://www.bis.org/api/documents/review/r040610f.json\n"
     ]
    },
    {
     "name": "stderr",
     "output_type": "stream",
     "text": [
      "  9%|▉         | 1845/20093 [02:42<1:19:06,  3.84it/s]"
     ]
    },
    {
     "name": "stdout",
     "output_type": "stream",
     "text": [
      "Processing speech: https://www.bis.org/api/documents/review/r040610e.json\n",
      "Processing speech: https://www.bis.org/api/documents/review/r040610d.json\n",
      "Processing speech: https://www.bis.org/api/documents/review/r040610c.json\n"
     ]
    },
    {
     "name": "stderr",
     "output_type": "stream",
     "text": [
      "  9%|▉         | 1847/20093 [02:42<57:53,  5.25it/s]  "
     ]
    },
    {
     "name": "stdout",
     "output_type": "stream",
     "text": [
      "Processing speech: https://www.bis.org/api/documents/review/r040610b.json\n",
      "Processing speech: https://www.bis.org/api/documents/review/r040610a.json\n",
      "Processing speech: https://www.bis.org/api/documents/review/r040604h.json\n"
     ]
    },
    {
     "name": "stderr",
     "output_type": "stream",
     "text": [
      "  9%|▉         | 1851/20093 [02:43<38:03,  7.99it/s]"
     ]
    },
    {
     "name": "stdout",
     "output_type": "stream",
     "text": [
      "Processing speech: https://www.bis.org/api/documents/review/r040604g.json\n",
      "Processing speech: https://www.bis.org/api/documents/review/r040604f.json\n",
      "Processing speech: https://www.bis.org/api/documents/review/r040604e.json\n"
     ]
    },
    {
     "name": "stderr",
     "output_type": "stream",
     "text": [
      "  9%|▉         | 1853/20093 [02:43<33:01,  9.20it/s]"
     ]
    },
    {
     "name": "stdout",
     "output_type": "stream",
     "text": [
      "Processing speech: https://www.bis.org/api/documents/review/r040604d.json\n",
      "Processing speech: https://www.bis.org/api/documents/review/r040604c.json\n",
      "Processing speech: https://www.bis.org/api/documents/review/r040604b.json\n"
     ]
    },
    {
     "name": "stderr",
     "output_type": "stream",
     "text": [
      "  9%|▉         | 1857/20093 [02:43<27:00, 11.25it/s]"
     ]
    },
    {
     "name": "stdout",
     "output_type": "stream",
     "text": [
      "Processing speech: https://www.bis.org/api/documents/review/r040604a.json\n",
      "Processing speech: https://www.bis.org/api/documents/review/r040528g.json\n",
      "Processing speech: https://www.bis.org/api/documents/review/r040528f.json\n"
     ]
    },
    {
     "name": "stderr",
     "output_type": "stream",
     "text": [
      "  9%|▉         | 1859/20093 [02:43<25:25, 11.95it/s]"
     ]
    },
    {
     "name": "stdout",
     "output_type": "stream",
     "text": [
      "Processing speech: https://www.bis.org/api/documents/review/r040528e.json\n",
      "Processing speech: https://www.bis.org/api/documents/review/r040528d.json\n",
      "Processing speech: https://www.bis.org/api/documents/review/r040528c.json\n"
     ]
    },
    {
     "name": "stderr",
     "output_type": "stream",
     "text": [
      "  9%|▉         | 1863/20093 [02:44<26:10, 11.61it/s]"
     ]
    },
    {
     "name": "stdout",
     "output_type": "stream",
     "text": [
      "Processing speech: https://www.bis.org/api/documents/review/r040528b.json\n",
      "Processing speech: https://www.bis.org/api/documents/review/r040528a.json\n",
      "Processing speech: https://www.bis.org/api/documents/review/r040527e.json\n"
     ]
    },
    {
     "name": "stderr",
     "output_type": "stream",
     "text": [
      "  9%|▉         | 1865/20093 [02:44<24:58, 12.16it/s]"
     ]
    },
    {
     "name": "stdout",
     "output_type": "stream",
     "text": [
      "Processing speech: https://www.bis.org/api/documents/review/r040527d.json\n",
      "Processing speech: https://www.bis.org/api/documents/review/r040527c.json\n",
      "Processing speech: https://www.bis.org/api/documents/review/r040527b.json\n"
     ]
    },
    {
     "name": "stderr",
     "output_type": "stream",
     "text": [
      "  9%|▉         | 1869/20093 [02:44<23:33, 12.89it/s]"
     ]
    },
    {
     "name": "stdout",
     "output_type": "stream",
     "text": [
      "Processing speech: https://www.bis.org/api/documents/review/r040527a.json\n",
      "Processing speech: https://www.bis.org/api/documents/review/r040524f.json\n",
      "Processing speech: https://www.bis.org/api/documents/review/r040524e.json\n"
     ]
    },
    {
     "name": "stderr",
     "output_type": "stream",
     "text": [
      "  9%|▉         | 1871/20093 [02:44<23:25, 12.97it/s]"
     ]
    },
    {
     "name": "stdout",
     "output_type": "stream",
     "text": [
      "Processing speech: https://www.bis.org/api/documents/review/r040524d.json\n",
      "Processing speech: https://www.bis.org/api/documents/review/r040524c.json\n",
      "Processing speech: https://www.bis.org/api/documents/review/r040524b.json\n"
     ]
    },
    {
     "name": "stderr",
     "output_type": "stream",
     "text": [
      "  9%|▉         | 1875/20093 [02:45<24:35, 12.34it/s]"
     ]
    },
    {
     "name": "stdout",
     "output_type": "stream",
     "text": [
      "Processing speech: https://www.bis.org/api/documents/review/r040524a.json\n",
      "Processing speech: https://www.bis.org/api/documents/review/r040521f.json\n",
      "Processing speech: https://www.bis.org/api/documents/review/r040521e.json\n"
     ]
    },
    {
     "name": "stderr",
     "output_type": "stream",
     "text": [
      "  9%|▉         | 1877/20093 [02:45<24:04, 12.61it/s]"
     ]
    },
    {
     "name": "stdout",
     "output_type": "stream",
     "text": [
      "Processing speech: https://www.bis.org/api/documents/review/r040521d.json\n",
      "Processing speech: https://www.bis.org/api/documents/review/r040521c.json\n",
      "Processing speech: https://www.bis.org/api/documents/review/r040521b.json\n"
     ]
    },
    {
     "name": "stderr",
     "output_type": "stream",
     "text": [
      "  9%|▉         | 1881/20093 [02:45<26:25, 11.49it/s]"
     ]
    },
    {
     "name": "stdout",
     "output_type": "stream",
     "text": [
      "Processing speech: https://www.bis.org/api/documents/review/r040521a.json\n",
      "Processing speech: https://www.bis.org/api/documents/review/r040518h.json\n"
     ]
    },
    {
     "name": "stderr",
     "output_type": "stream",
     "text": [
      "  9%|▉         | 1883/20093 [02:45<26:54, 11.28it/s]"
     ]
    },
    {
     "name": "stdout",
     "output_type": "stream",
     "text": [
      "Processing speech: https://www.bis.org/api/documents/review/r040518g.json\n",
      "Processing speech: https://www.bis.org/api/documents/review/r040518f.json\n"
     ]
    },
    {
     "name": "stderr",
     "output_type": "stream",
     "text": [
      "  9%|▉         | 1885/20093 [02:45<25:43, 11.80it/s]"
     ]
    },
    {
     "name": "stdout",
     "output_type": "stream",
     "text": [
      "Processing speech: https://www.bis.org/api/documents/review/r040518e.json\n",
      "Processing speech: https://www.bis.org/api/documents/review/r040518d.json\n",
      "Processing speech: https://www.bis.org/api/documents/review/r040518c.json\n"
     ]
    },
    {
     "name": "stderr",
     "output_type": "stream",
     "text": [
      "  9%|▉         | 1887/20093 [02:46<25:51, 11.73it/s]"
     ]
    },
    {
     "name": "stdout",
     "output_type": "stream",
     "text": [
      "Processing speech: https://www.bis.org/api/documents/review/r040518b.json\n",
      "Processing speech: https://www.bis.org/api/documents/review/r040518a.json\n"
     ]
    },
    {
     "name": "stderr",
     "output_type": "stream",
     "text": [
      "  9%|▉         | 1889/20093 [02:46<29:13, 10.38it/s]"
     ]
    },
    {
     "name": "stdout",
     "output_type": "stream",
     "text": [
      "Processing speech: https://www.bis.org/api/documents/review/r040512e.json\n",
      "Processing speech: https://www.bis.org/api/documents/review/r040512d.json\n",
      "Processing speech: https://www.bis.org/api/documents/review/r040512c.json\n"
     ]
    },
    {
     "name": "stderr",
     "output_type": "stream",
     "text": [
      "  9%|▉         | 1893/20093 [02:46<28:32, 10.63it/s]"
     ]
    },
    {
     "name": "stdout",
     "output_type": "stream",
     "text": [
      "Processing speech: https://www.bis.org/api/documents/review/r040512b.json\n",
      "Processing speech: https://www.bis.org/api/documents/review/r040512a.json\n",
      "Processing speech: https://www.bis.org/api/documents/review/r040508f.json\n"
     ]
    },
    {
     "name": "stderr",
     "output_type": "stream",
     "text": [
      "  9%|▉         | 1895/20093 [02:46<27:51, 10.89it/s]"
     ]
    },
    {
     "name": "stdout",
     "output_type": "stream",
     "text": [
      "Processing speech: https://www.bis.org/api/documents/review/r040508e.json\n",
      "Processing speech: https://www.bis.org/api/documents/review/r040508d.json\n",
      "Processing speech: https://www.bis.org/api/documents/review/r040508c.json\n"
     ]
    },
    {
     "name": "stderr",
     "output_type": "stream",
     "text": [
      "  9%|▉         | 1899/20093 [02:47<26:09, 11.59it/s]"
     ]
    },
    {
     "name": "stdout",
     "output_type": "stream",
     "text": [
      "Processing speech: https://www.bis.org/api/documents/review/r040508b.json\n",
      "Processing speech: https://www.bis.org/api/documents/review/r040508a.json\n",
      "Processing speech: https://www.bis.org/api/documents/review/r040503f.json\n"
     ]
    },
    {
     "name": "stderr",
     "output_type": "stream",
     "text": [
      "  9%|▉         | 1901/20093 [02:47<25:18, 11.98it/s]"
     ]
    },
    {
     "name": "stdout",
     "output_type": "stream",
     "text": [
      "Processing speech: https://www.bis.org/api/documents/review/r040503e.json\n",
      "Processing speech: https://www.bis.org/api/documents/review/r040503d.json\n",
      "Processing speech: https://www.bis.org/api/documents/review/r040503c.json\n"
     ]
    },
    {
     "name": "stderr",
     "output_type": "stream",
     "text": [
      "  9%|▉         | 1905/20093 [02:47<24:14, 12.50it/s]"
     ]
    },
    {
     "name": "stdout",
     "output_type": "stream",
     "text": [
      "Processing speech: https://www.bis.org/api/documents/review/r040503b.json\n",
      "Processing speech: https://www.bis.org/api/documents/review/r040503a.json\n",
      "Processing speech: https://www.bis.org/api/documents/review/r040430i.json\n"
     ]
    },
    {
     "name": "stderr",
     "output_type": "stream",
     "text": [
      "  9%|▉         | 1907/20093 [02:47<24:31, 12.36it/s]"
     ]
    },
    {
     "name": "stdout",
     "output_type": "stream",
     "text": [
      "Processing speech: https://www.bis.org/api/documents/review/r040430h.json\n",
      "Processing speech: https://www.bis.org/api/documents/review/r040430g.json\n"
     ]
    },
    {
     "name": "stderr",
     "output_type": "stream",
     "text": [
      " 10%|▉         | 1909/20093 [02:48<35:40,  8.49it/s]"
     ]
    },
    {
     "name": "stdout",
     "output_type": "stream",
     "text": [
      "Processing speech: https://www.bis.org/api/documents/review/r040430f.json\n",
      "Processing speech: https://www.bis.org/api/documents/review/r040430e.json\n",
      "Processing speech: https://www.bis.org/api/documents/review/r040430d.json\n"
     ]
    },
    {
     "name": "stderr",
     "output_type": "stream",
     "text": [
      " 10%|▉         | 1913/20093 [02:48<29:02, 10.44it/s]"
     ]
    },
    {
     "name": "stdout",
     "output_type": "stream",
     "text": [
      "Processing speech: https://www.bis.org/api/documents/review/r040430c.json\n",
      "Processing speech: https://www.bis.org/api/documents/review/r040430b.json\n",
      "Processing speech: https://www.bis.org/api/documents/review/r040430a.json\n"
     ]
    },
    {
     "name": "stderr",
     "output_type": "stream",
     "text": [
      " 10%|▉         | 1915/20093 [02:48<27:13, 11.12it/s]"
     ]
    },
    {
     "name": "stdout",
     "output_type": "stream",
     "text": [
      "Processing speech: https://www.bis.org/api/documents/review/r040428h.json\n",
      "Processing speech: https://www.bis.org/api/documents/review/r040428g.json\n",
      "Processing speech: https://www.bis.org/api/documents/review/r040428f.json\n"
     ]
    },
    {
     "name": "stderr",
     "output_type": "stream",
     "text": [
      " 10%|▉         | 1919/20093 [02:49<25:09, 12.04it/s]"
     ]
    },
    {
     "name": "stdout",
     "output_type": "stream",
     "text": [
      "Processing speech: https://www.bis.org/api/documents/review/r040428e.json\n",
      "Processing speech: https://www.bis.org/api/documents/review/r040428d.json\n",
      "Processing speech: https://www.bis.org/api/documents/review/r040428c.json\n"
     ]
    },
    {
     "name": "stderr",
     "output_type": "stream",
     "text": [
      " 10%|▉         | 1921/20093 [02:49<24:06, 12.56it/s]"
     ]
    },
    {
     "name": "stdout",
     "output_type": "stream",
     "text": [
      "Processing speech: https://www.bis.org/api/documents/review/r040428b.json\n",
      "Processing speech: https://www.bis.org/api/documents/review/r040428a.json\n",
      "Processing speech: https://www.bis.org/api/documents/review/r040423h.json\n"
     ]
    },
    {
     "name": "stderr",
     "output_type": "stream",
     "text": [
      " 10%|▉         | 1925/20093 [02:49<24:32, 12.34it/s]"
     ]
    },
    {
     "name": "stdout",
     "output_type": "stream",
     "text": [
      "Processing speech: https://www.bis.org/api/documents/review/r040423g.json\n",
      "Processing speech: https://www.bis.org/api/documents/review/r040423f.json\n",
      "Processing speech: https://www.bis.org/api/documents/review/r040423e.json\n"
     ]
    },
    {
     "name": "stderr",
     "output_type": "stream",
     "text": [
      " 10%|▉         | 1927/20093 [02:49<23:57, 12.64it/s]"
     ]
    },
    {
     "name": "stdout",
     "output_type": "stream",
     "text": [
      "Processing speech: https://www.bis.org/api/documents/review/r040423d.json\n",
      "Processing speech: https://www.bis.org/api/documents/review/r040423c.json\n",
      "Processing speech: https://www.bis.org/api/documents/review/r040423b.json\n"
     ]
    },
    {
     "name": "stderr",
     "output_type": "stream",
     "text": [
      " 10%|▉         | 1931/20093 [02:49<23:03, 13.13it/s]"
     ]
    },
    {
     "name": "stdout",
     "output_type": "stream",
     "text": [
      "Processing speech: https://www.bis.org/api/documents/review/r040423a.json\n",
      "Processing speech: https://www.bis.org/api/documents/review/r040419g.json\n",
      "Processing speech: https://www.bis.org/api/documents/review/r040419f.json\n"
     ]
    },
    {
     "name": "stderr",
     "output_type": "stream",
     "text": [
      " 10%|▉         | 1933/20093 [02:50<23:42, 12.76it/s]"
     ]
    },
    {
     "name": "stdout",
     "output_type": "stream",
     "text": [
      "Processing speech: https://www.bis.org/api/documents/review/r040419e.json\n",
      "Processing speech: https://www.bis.org/api/documents/review/r040419d.json\n",
      "Processing speech: https://www.bis.org/api/documents/review/r040419c.json\n"
     ]
    },
    {
     "name": "stderr",
     "output_type": "stream",
     "text": [
      " 10%|▉         | 1937/20093 [02:50<23:01, 13.14it/s]"
     ]
    },
    {
     "name": "stdout",
     "output_type": "stream",
     "text": [
      "Processing speech: https://www.bis.org/api/documents/review/r040419b.json\n",
      "Processing speech: https://www.bis.org/api/documents/review/r040419a.json\n",
      "Processing speech: https://www.bis.org/api/documents/review/r040415a.json\n"
     ]
    },
    {
     "name": "stderr",
     "output_type": "stream",
     "text": [
      " 10%|▉         | 1939/20093 [02:50<22:49, 13.25it/s]"
     ]
    },
    {
     "name": "stdout",
     "output_type": "stream",
     "text": [
      "Processing speech: https://www.bis.org/api/documents/review/r040414g.json\n",
      "Processing speech: https://www.bis.org/api/documents/review/r040414f.json\n",
      "Processing speech: https://www.bis.org/api/documents/review/r040414e.json\n"
     ]
    },
    {
     "name": "stderr",
     "output_type": "stream",
     "text": [
      " 10%|▉         | 1943/20093 [02:50<22:40, 13.34it/s]"
     ]
    },
    {
     "name": "stdout",
     "output_type": "stream",
     "text": [
      "Processing speech: https://www.bis.org/api/documents/review/r040414d.json\n",
      "Processing speech: https://www.bis.org/api/documents/review/r040414c.json\n",
      "Processing speech: https://www.bis.org/api/documents/review/r040414b.json\n"
     ]
    },
    {
     "name": "stderr",
     "output_type": "stream",
     "text": [
      " 10%|▉         | 1945/20093 [02:51<32:20,  9.35it/s]"
     ]
    },
    {
     "name": "stdout",
     "output_type": "stream",
     "text": [
      "Processing speech: https://www.bis.org/api/documents/review/r040414a.json\n",
      "Processing speech: https://www.bis.org/api/documents/review/r040402f.json\n",
      "Processing speech: https://www.bis.org/api/documents/review/r040402e.json\n"
     ]
    },
    {
     "name": "stderr",
     "output_type": "stream",
     "text": [
      " 10%|▉         | 1949/20093 [02:51<27:54, 10.84it/s]"
     ]
    },
    {
     "name": "stdout",
     "output_type": "stream",
     "text": [
      "Processing speech: https://www.bis.org/api/documents/review/r040402d.json\n",
      "Processing speech: https://www.bis.org/api/documents/review/r040402c.json\n",
      "Processing speech: https://www.bis.org/api/documents/review/r040402b.json\n"
     ]
    },
    {
     "name": "stderr",
     "output_type": "stream",
     "text": [
      " 10%|▉         | 1951/20093 [02:51<26:13, 11.53it/s]"
     ]
    },
    {
     "name": "stdout",
     "output_type": "stream",
     "text": [
      "Processing speech: https://www.bis.org/api/documents/review/r040402a.json\n",
      "Processing speech: https://www.bis.org/api/documents/review/r040331f.json\n",
      "Processing speech: https://www.bis.org/api/documents/review/r040331e.json\n"
     ]
    },
    {
     "name": "stderr",
     "output_type": "stream",
     "text": [
      " 10%|▉         | 1955/20093 [02:51<23:57, 12.62it/s]"
     ]
    },
    {
     "name": "stdout",
     "output_type": "stream",
     "text": [
      "Processing speech: https://www.bis.org/api/documents/review/r040331c.json\n",
      "Processing speech: https://www.bis.org/api/documents/review/r040331b.json\n",
      "Processing speech: https://www.bis.org/api/documents/review/r040331a.json\n"
     ]
    },
    {
     "name": "stderr",
     "output_type": "stream",
     "text": [
      " 10%|▉         | 1957/20093 [02:52<23:35, 12.81it/s]"
     ]
    },
    {
     "name": "stdout",
     "output_type": "stream",
     "text": [
      "Processing speech: https://www.bis.org/api/documents/review/r040326h.json\n",
      "Processing speech: https://www.bis.org/api/documents/review/r040326a.json\n",
      "Processing speech: https://www.bis.org/api/documents/review/r040322e.json\n"
     ]
    },
    {
     "name": "stderr",
     "output_type": "stream",
     "text": [
      " 10%|▉         | 1961/20093 [02:52<22:35, 13.38it/s]"
     ]
    },
    {
     "name": "stdout",
     "output_type": "stream",
     "text": [
      "Processing speech: https://www.bis.org/api/documents/review/r040322d.json\n",
      "Processing speech: https://www.bis.org/api/documents/review/r040322c.json\n",
      "Processing speech: https://www.bis.org/api/documents/review/r040322b.json\n"
     ]
    },
    {
     "name": "stderr",
     "output_type": "stream",
     "text": [
      " 10%|▉         | 1963/20093 [02:52<27:19, 11.06it/s]"
     ]
    },
    {
     "name": "stdout",
     "output_type": "stream",
     "text": [
      "Processing speech: https://www.bis.org/api/documents/review/r040322a.json\n",
      "Processing speech: https://www.bis.org/api/documents/review/r040317g.json\n",
      "Processing speech: https://www.bis.org/api/documents/review/r040317f.json\n"
     ]
    },
    {
     "name": "stderr",
     "output_type": "stream",
     "text": [
      " 10%|▉         | 1967/20093 [02:52<25:02, 12.07it/s]"
     ]
    },
    {
     "name": "stdout",
     "output_type": "stream",
     "text": [
      "Processing speech: https://www.bis.org/api/documents/review/r040317e.json\n",
      "Processing speech: https://www.bis.org/api/documents/review/r040317d.json\n",
      "Processing speech: https://www.bis.org/api/documents/review/r040317c.json\n"
     ]
    },
    {
     "name": "stderr",
     "output_type": "stream",
     "text": [
      " 10%|▉         | 1969/20093 [02:53<24:10, 12.50it/s]"
     ]
    },
    {
     "name": "stdout",
     "output_type": "stream",
     "text": [
      "Processing speech: https://www.bis.org/api/documents/review/r040317b.json\n",
      "Processing speech: https://www.bis.org/api/documents/review/r040315h.json\n",
      "Processing speech: https://www.bis.org/api/documents/review/r040315g.json\n"
     ]
    },
    {
     "name": "stderr",
     "output_type": "stream",
     "text": [
      " 10%|▉         | 1973/20093 [02:53<22:37, 13.35it/s]"
     ]
    },
    {
     "name": "stdout",
     "output_type": "stream",
     "text": [
      "Processing speech: https://www.bis.org/api/documents/review/r040315f.json\n",
      "Processing speech: https://www.bis.org/api/documents/review/r040315e.json\n",
      "Processing speech: https://www.bis.org/api/documents/review/r040315d.json\n"
     ]
    },
    {
     "name": "stderr",
     "output_type": "stream",
     "text": [
      " 10%|▉         | 1975/20093 [02:53<22:34, 13.38it/s]"
     ]
    },
    {
     "name": "stdout",
     "output_type": "stream",
     "text": [
      "Processing speech: https://www.bis.org/api/documents/review/r040315c.json\n",
      "Processing speech: https://www.bis.org/api/documents/review/r040315b.json\n",
      "Processing speech: https://www.bis.org/api/documents/review/r040305g.json\n"
     ]
    },
    {
     "name": "stderr",
     "output_type": "stream",
     "text": [
      " 10%|▉         | 1979/20093 [02:53<22:30, 13.41it/s]"
     ]
    },
    {
     "name": "stdout",
     "output_type": "stream",
     "text": [
      "Processing speech: https://www.bis.org/api/documents/review/r040305f.json\n",
      "Processing speech: https://www.bis.org/api/documents/review/r040305e.json\n",
      "Processing speech: https://www.bis.org/api/documents/review/r040305d.json\n"
     ]
    },
    {
     "name": "stderr",
     "output_type": "stream",
     "text": [
      " 10%|▉         | 1981/20093 [02:53<22:02, 13.69it/s]"
     ]
    },
    {
     "name": "stdout",
     "output_type": "stream",
     "text": [
      "Processing speech: https://www.bis.org/api/documents/review/r040305c.json\n",
      "Processing speech: https://www.bis.org/api/documents/review/r040305b.json\n",
      "Processing speech: https://www.bis.org/api/documents/review/r040305a.json\n"
     ]
    },
    {
     "name": "stderr",
     "output_type": "stream",
     "text": [
      " 10%|▉         | 1983/20093 [02:54<23:15, 12.98it/s]"
     ]
    },
    {
     "name": "stdout",
     "output_type": "stream",
     "text": [
      "Processing speech: https://www.bis.org/api/documents/review/r0403053.json\n",
      "Processing speech: https://www.bis.org/api/documents/review/r040304f.json\n"
     ]
    },
    {
     "name": "stderr",
     "output_type": "stream",
     "text": [
      " 10%|▉         | 1987/20093 [02:54<29:19, 10.29it/s]"
     ]
    },
    {
     "name": "stdout",
     "output_type": "stream",
     "text": [
      "Processing speech: https://www.bis.org/api/documents/review/r040304e.json\n",
      "Processing speech: https://www.bis.org/api/documents/review/r040304d.json\n",
      "Processing speech: https://www.bis.org/api/documents/review/r040304c.json\n"
     ]
    },
    {
     "name": "stderr",
     "output_type": "stream",
     "text": [
      " 10%|▉         | 1989/20093 [02:54<26:39, 11.32it/s]"
     ]
    },
    {
     "name": "stdout",
     "output_type": "stream",
     "text": [
      "Processing speech: https://www.bis.org/api/documents/review/r040304b.json\n",
      "Processing speech: https://www.bis.org/api/documents/review/r040304a.json\n",
      "Processing speech: https://www.bis.org/api/documents/review/r040301h.json\n"
     ]
    },
    {
     "name": "stderr",
     "output_type": "stream",
     "text": [
      " 10%|▉         | 1993/20093 [02:55<24:51, 12.13it/s]"
     ]
    },
    {
     "name": "stdout",
     "output_type": "stream",
     "text": [
      "Processing speech: https://www.bis.org/api/documents/review/r040301g.json\n",
      "Processing speech: https://www.bis.org/api/documents/review/r040301f.json\n",
      "Processing speech: https://www.bis.org/api/documents/review/r040301e.json\n"
     ]
    },
    {
     "name": "stderr",
     "output_type": "stream",
     "text": [
      " 10%|▉         | 1995/20093 [02:55<23:54, 12.62it/s]"
     ]
    },
    {
     "name": "stdout",
     "output_type": "stream",
     "text": [
      "Processing speech: https://www.bis.org/api/documents/review/r040301d.json\n",
      "Processing speech: https://www.bis.org/api/documents/review/r040301c.json\n",
      "Processing speech: https://www.bis.org/api/documents/review/r040301b.json\n"
     ]
    },
    {
     "name": "stderr",
     "output_type": "stream",
     "text": [
      " 10%|▉         | 1999/20093 [02:55<22:15, 13.55it/s]"
     ]
    },
    {
     "name": "stdout",
     "output_type": "stream",
     "text": [
      "Processing speech: https://www.bis.org/api/documents/review/r040301a.json\n",
      "Processing speech: https://www.bis.org/api/documents/review/r040225g.json\n",
      "Processing speech: https://www.bis.org/api/documents/review/r040225f.json\n"
     ]
    },
    {
     "name": "stderr",
     "output_type": "stream",
     "text": [
      " 10%|▉         | 2001/20093 [02:55<22:19, 13.51it/s]"
     ]
    },
    {
     "name": "stdout",
     "output_type": "stream",
     "text": [
      "Processing speech: https://www.bis.org/api/documents/review/r040225e.json\n",
      "Processing speech: https://www.bis.org/api/documents/review/r040225d.json\n",
      "Processing speech: https://www.bis.org/api/documents/review/r040225c.json\n"
     ]
    },
    {
     "name": "stderr",
     "output_type": "stream",
     "text": [
      " 10%|▉         | 2005/20093 [02:55<22:40, 13.29it/s]"
     ]
    },
    {
     "name": "stdout",
     "output_type": "stream",
     "text": [
      "Processing speech: https://www.bis.org/api/documents/review/r040225b.json\n",
      "Processing speech: https://www.bis.org/api/documents/review/r040225a.json\n",
      "Processing speech: https://www.bis.org/api/documents/review/r040223e.json\n"
     ]
    },
    {
     "name": "stderr",
     "output_type": "stream",
     "text": [
      " 10%|▉         | 2007/20093 [02:56<22:08, 13.61it/s]"
     ]
    },
    {
     "name": "stdout",
     "output_type": "stream",
     "text": [
      "Processing speech: https://www.bis.org/api/documents/review/r040223d.json\n",
      "Processing speech: https://www.bis.org/api/documents/review/r040223c.json\n",
      "Processing speech: https://www.bis.org/api/documents/review/r040223b.json\n"
     ]
    },
    {
     "name": "stderr",
     "output_type": "stream",
     "text": [
      " 10%|█         | 2011/20093 [02:56<22:23, 13.46it/s]"
     ]
    },
    {
     "name": "stdout",
     "output_type": "stream",
     "text": [
      "Processing speech: https://www.bis.org/api/documents/review/r040223a.json\n",
      "Processing speech: https://www.bis.org/api/documents/review/r040216d.json\n",
      "Processing speech: https://www.bis.org/api/documents/review/r040216c.json\n"
     ]
    },
    {
     "name": "stderr",
     "output_type": "stream",
     "text": [
      " 10%|█         | 2013/20093 [02:56<22:04, 13.65it/s]"
     ]
    },
    {
     "name": "stdout",
     "output_type": "stream",
     "text": [
      "Processing speech: https://www.bis.org/api/documents/review/r040216b.json\n",
      "Processing speech: https://www.bis.org/api/documents/review/r040216a.json\n",
      "Processing speech: https://www.bis.org/api/documents/review/r040212h.json\n"
     ]
    },
    {
     "name": "stderr",
     "output_type": "stream",
     "text": [
      " 10%|█         | 2017/20093 [02:56<20:47, 14.49it/s]"
     ]
    },
    {
     "name": "stdout",
     "output_type": "stream",
     "text": [
      "Processing speech: https://www.bis.org/api/documents/review/r040212g.json\n",
      "Processing speech: https://www.bis.org/api/documents/review/r040212f.json\n",
      "Processing speech: https://www.bis.org/api/documents/review/r040212e.json\n",
      "Processing speech: https://www.bis.org/api/documents/review/r040212d.json\n"
     ]
    },
    {
     "name": "stderr",
     "output_type": "stream",
     "text": [
      " 10%|█         | 2021/20093 [02:57<20:54, 14.41it/s]"
     ]
    },
    {
     "name": "stdout",
     "output_type": "stream",
     "text": [
      "Processing speech: https://www.bis.org/api/documents/review/r040212c.json\n",
      "Processing speech: https://www.bis.org/api/documents/review/r040212b.json\n",
      "Processing speech: https://www.bis.org/api/documents/review/r040212a.json\n"
     ]
    },
    {
     "name": "stderr",
     "output_type": "stream",
     "text": [
      " 10%|█         | 2023/20093 [02:57<22:22, 13.46it/s]"
     ]
    },
    {
     "name": "stdout",
     "output_type": "stream",
     "text": [
      "Processing speech: https://www.bis.org/api/documents/review/r040206g.json\n",
      "Processing speech: https://www.bis.org/api/documents/review/r040206f.json\n",
      "Processing speech: https://www.bis.org/api/documents/review/r040206e.json\n"
     ]
    },
    {
     "name": "stderr",
     "output_type": "stream",
     "text": [
      " 10%|█         | 2027/20093 [02:57<22:00, 13.68it/s]"
     ]
    },
    {
     "name": "stdout",
     "output_type": "stream",
     "text": [
      "Processing speech: https://www.bis.org/api/documents/review/r040206d.json\n",
      "Processing speech: https://www.bis.org/api/documents/review/r040206c.json\n",
      "Processing speech: https://www.bis.org/api/documents/review/r040206b.json\n"
     ]
    },
    {
     "name": "stderr",
     "output_type": "stream",
     "text": [
      " 10%|█         | 2029/20093 [02:57<22:00, 13.68it/s]"
     ]
    },
    {
     "name": "stdout",
     "output_type": "stream",
     "text": [
      "Processing speech: https://www.bis.org/api/documents/review/r040206a.json\n",
      "Processing speech: https://www.bis.org/api/documents/review/r040203g.json\n",
      "Processing speech: https://www.bis.org/api/documents/review/r040203f.json\n"
     ]
    },
    {
     "name": "stderr",
     "output_type": "stream",
     "text": [
      " 10%|█         | 2031/20093 [02:57<21:56, 13.72it/s]"
     ]
    },
    {
     "name": "stdout",
     "output_type": "stream",
     "text": [
      "Processing speech: https://www.bis.org/api/documents/review/r040203e.json\n",
      "Processing speech: https://www.bis.org/api/documents/review/r040203d.json\n"
     ]
    },
    {
     "name": "stderr",
     "output_type": "stream",
     "text": [
      " 10%|█         | 2035/20093 [02:58<27:54, 10.78it/s]"
     ]
    },
    {
     "name": "stdout",
     "output_type": "stream",
     "text": [
      "Processing speech: https://www.bis.org/api/documents/review/r040203c.json\n",
      "Processing speech: https://www.bis.org/api/documents/review/r040203b.json\n",
      "Processing speech: https://www.bis.org/api/documents/review/r040203a.json\n"
     ]
    },
    {
     "name": "stderr",
     "output_type": "stream",
     "text": [
      " 10%|█         | 2037/20093 [02:58<26:28, 11.37it/s]"
     ]
    },
    {
     "name": "stdout",
     "output_type": "stream",
     "text": [
      "Processing speech: https://www.bis.org/api/documents/review/r040202g.json\n",
      "Processing speech: https://www.bis.org/api/documents/review/r040202f.json\n",
      "Processing speech: https://www.bis.org/api/documents/review/r040202e.json\n"
     ]
    },
    {
     "name": "stderr",
     "output_type": "stream",
     "text": [
      " 10%|█         | 2041/20093 [02:58<24:40, 12.19it/s]"
     ]
    },
    {
     "name": "stdout",
     "output_type": "stream",
     "text": [
      "Processing speech: https://www.bis.org/api/documents/review/r040202d.json\n",
      "Processing speech: https://www.bis.org/api/documents/review/r040202c.json\n",
      "Processing speech: https://www.bis.org/api/documents/review/r040202b.json\n"
     ]
    },
    {
     "name": "stderr",
     "output_type": "stream",
     "text": [
      " 10%|█         | 2043/20093 [02:58<23:29, 12.81it/s]"
     ]
    },
    {
     "name": "stdout",
     "output_type": "stream",
     "text": [
      "Processing speech: https://www.bis.org/api/documents/review/r040202a.json\n",
      "Processing speech: https://www.bis.org/api/documents/review/r040127f.json\n",
      "Processing speech: https://www.bis.org/api/documents/review/r040127e.json\n"
     ]
    },
    {
     "name": "stderr",
     "output_type": "stream",
     "text": [
      " 10%|█         | 2047/20093 [02:59<22:13, 13.53it/s]"
     ]
    },
    {
     "name": "stdout",
     "output_type": "stream",
     "text": [
      "Processing speech: https://www.bis.org/api/documents/review/r040127d.json\n",
      "Processing speech: https://www.bis.org/api/documents/review/r040127c.json\n",
      "Processing speech: https://www.bis.org/api/documents/review/r040127a.json\n",
      "Processing speech: https://www.bis.org/api/documents/review/r040126b.json\n"
     ]
    },
    {
     "name": "stderr",
     "output_type": "stream",
     "text": [
      " 10%|█         | 2051/20093 [02:59<30:07,  9.98it/s]"
     ]
    },
    {
     "name": "stdout",
     "output_type": "stream",
     "text": [
      "Processing speech: https://www.bis.org/api/documents/review/r040121e.json\n",
      "Processing speech: https://www.bis.org/api/documents/review/r040121d.json\n",
      "Processing speech: https://www.bis.org/api/documents/review/r040121c.json\n"
     ]
    },
    {
     "name": "stderr",
     "output_type": "stream",
     "text": [
      " 10%|█         | 2053/20093 [02:59<30:35,  9.83it/s]"
     ]
    },
    {
     "name": "stdout",
     "output_type": "stream",
     "text": [
      "Processing speech: https://www.bis.org/api/documents/review/r040121b.json\n",
      "Processing speech: https://www.bis.org/api/documents/review/r040121a.json\n"
     ]
    },
    {
     "name": "stderr",
     "output_type": "stream",
     "text": [
      " 10%|█         | 2055/20093 [03:01<1:14:44,  4.02it/s]"
     ]
    },
    {
     "name": "stdout",
     "output_type": "stream",
     "text": [
      "Processing speech: https://www.bis.org/api/documents/review/r040115e.json\n",
      "Processing speech: https://www.bis.org/api/documents/review/r040115d.json\n"
     ]
    },
    {
     "name": "stderr",
     "output_type": "stream",
     "text": [
      " 10%|█         | 2057/20093 [03:01<1:00:10,  5.00it/s]"
     ]
    },
    {
     "name": "stdout",
     "output_type": "stream",
     "text": [
      "Processing speech: https://www.bis.org/api/documents/review/r040115c.json\n",
      "Processing speech: https://www.bis.org/api/documents/review/r040115b.json\n",
      "Processing speech: https://www.bis.org/api/documents/review/r040115a.json\n"
     ]
    },
    {
     "name": "stderr",
     "output_type": "stream",
     "text": [
      " 10%|█         | 2061/20093 [03:01<37:47,  7.95it/s]  "
     ]
    },
    {
     "name": "stdout",
     "output_type": "stream",
     "text": [
      "Processing speech: https://www.bis.org/api/documents/review/r040114d.json\n",
      "Processing speech: https://www.bis.org/api/documents/review/r040114c.json\n",
      "Processing speech: https://www.bis.org/api/documents/review/r040114b.json\n",
      "Processing speech: https://www.bis.org/api/documents/review/r040114a.json\n"
     ]
    },
    {
     "name": "stderr",
     "output_type": "stream",
     "text": [
      " 10%|█         | 2065/20093 [03:01<28:28, 10.55it/s]"
     ]
    },
    {
     "name": "stdout",
     "output_type": "stream",
     "text": [
      "Processing speech: https://www.bis.org/api/documents/review/r031223f.json\n",
      "Processing speech: https://www.bis.org/api/documents/review/r031223e.json\n",
      "Processing speech: https://www.bis.org/api/documents/review/r031223d.json\n",
      "Processing speech: https://www.bis.org/api/documents/review/r031223b.json\n"
     ]
    },
    {
     "name": "stderr",
     "output_type": "stream",
     "text": [
      " 10%|█         | 2069/20093 [03:02<41:46,  7.19it/s]"
     ]
    },
    {
     "name": "stdout",
     "output_type": "stream",
     "text": [
      "Processing speech: https://www.bis.org/api/documents/review/r031223a.json\n",
      "Processing speech: https://www.bis.org/api/documents/review/r031222f.json\n",
      "Processing speech: https://www.bis.org/api/documents/review/r031222e.json\n"
     ]
    },
    {
     "name": "stderr",
     "output_type": "stream",
     "text": [
      " 10%|█         | 2071/20093 [03:03<1:21:53,  3.67it/s]"
     ]
    },
    {
     "name": "stdout",
     "output_type": "stream",
     "text": [
      "Processing speech: https://www.bis.org/api/documents/review/r031222d.json\n",
      "Processing speech: https://www.bis.org/api/documents/review/r031222c.json\n"
     ]
    },
    {
     "name": "stderr",
     "output_type": "stream",
     "text": [
      " 10%|█         | 2074/20093 [03:04<1:10:49,  4.24it/s]"
     ]
    },
    {
     "name": "stdout",
     "output_type": "stream",
     "text": [
      "Processing speech: https://www.bis.org/api/documents/review/r031222b.json\n",
      "Processing speech: https://www.bis.org/api/documents/review/r031222a.json\n",
      "Processing speech: https://www.bis.org/api/documents/review/r031215f.json\n",
      "Processing speech: https://www.bis.org/api/documents/review/r031215e.json\n"
     ]
    },
    {
     "name": "stderr",
     "output_type": "stream",
     "text": [
      " 10%|█         | 2078/20093 [03:04<44:28,  6.75it/s]  "
     ]
    },
    {
     "name": "stdout",
     "output_type": "stream",
     "text": [
      "Processing speech: https://www.bis.org/api/documents/review/r031215d.json\n",
      "Processing speech: https://www.bis.org/api/documents/review/r031215c.json\n",
      "Processing speech: https://www.bis.org/api/documents/review/r031215b.json\n",
      "Processing speech: https://www.bis.org/api/documents/review/r031215a.json\n"
     ]
    },
    {
     "name": "stderr",
     "output_type": "stream",
     "text": [
      " 10%|█         | 2082/20093 [03:06<1:04:04,  4.68it/s]"
     ]
    },
    {
     "name": "stdout",
     "output_type": "stream",
     "text": [
      "Processing speech: https://www.bis.org/api/documents/review/r031212g.json\n",
      "Processing speech: https://www.bis.org/api/documents/review/r031212e.json\n",
      "Processing speech: https://www.bis.org/api/documents/review/r031212d.json\n"
     ]
    },
    {
     "name": "stderr",
     "output_type": "stream",
     "text": [
      " 10%|█         | 2084/20093 [03:06<51:20,  5.85it/s]  "
     ]
    },
    {
     "name": "stdout",
     "output_type": "stream",
     "text": [
      "Processing speech: https://www.bis.org/api/documents/review/r031212c.json\n",
      "Processing speech: https://www.bis.org/api/documents/review/r031212b.json\n",
      "Processing speech: https://www.bis.org/api/documents/review/r031212a.json\n"
     ]
    },
    {
     "name": "stderr",
     "output_type": "stream",
     "text": [
      " 10%|█         | 2088/20093 [03:06<36:27,  8.23it/s]"
     ]
    },
    {
     "name": "stdout",
     "output_type": "stream",
     "text": [
      "Processing speech: https://www.bis.org/api/documents/review/r031211g.json\n",
      "Processing speech: https://www.bis.org/api/documents/review/r031211f.json\n",
      "Processing speech: https://www.bis.org/api/documents/review/r031211e.json\n"
     ]
    },
    {
     "name": "stderr",
     "output_type": "stream",
     "text": [
      " 10%|█         | 2090/20093 [03:06<32:08,  9.34it/s]"
     ]
    },
    {
     "name": "stdout",
     "output_type": "stream",
     "text": [
      "Processing speech: https://www.bis.org/api/documents/review/r031211d.json\n",
      "Processing speech: https://www.bis.org/api/documents/review/r031211b.json\n",
      "Processing speech: https://www.bis.org/api/documents/review/r031211a.json\n"
     ]
    },
    {
     "name": "stderr",
     "output_type": "stream",
     "text": [
      " 10%|█         | 2094/20093 [03:07<28:11, 10.64it/s]"
     ]
    },
    {
     "name": "stdout",
     "output_type": "stream",
     "text": [
      "Processing speech: https://www.bis.org/api/documents/review/r031205f.json\n",
      "Processing speech: https://www.bis.org/api/documents/review/r031205e.json\n",
      "Processing speech: https://www.bis.org/api/documents/review/r031205d.json\n"
     ]
    },
    {
     "name": "stderr",
     "output_type": "stream",
     "text": [
      " 10%|█         | 2096/20093 [03:07<26:04, 11.50it/s]"
     ]
    },
    {
     "name": "stdout",
     "output_type": "stream",
     "text": [
      "Processing speech: https://www.bis.org/api/documents/review/r031205c.json\n",
      "Processing speech: https://www.bis.org/api/documents/review/r031205b.json\n",
      "Processing speech: https://www.bis.org/api/documents/review/r031205a.json\n"
     ]
    },
    {
     "name": "stderr",
     "output_type": "stream",
     "text": [
      " 10%|█         | 2100/20093 [03:07<23:52, 12.56it/s]"
     ]
    },
    {
     "name": "stdout",
     "output_type": "stream",
     "text": [
      "Processing speech: https://www.bis.org/api/documents/review/r031202d.json\n",
      "Processing speech: https://www.bis.org/api/documents/review/r031202c.json\n",
      "Processing speech: https://www.bis.org/api/documents/review/r031202b.json\n",
      "Processing speech: https://www.bis.org/api/documents/review/r031127e.json\n"
     ]
    },
    {
     "name": "stderr",
     "output_type": "stream",
     "text": [
      " 10%|█         | 2104/20093 [03:07<22:57, 13.06it/s]"
     ]
    },
    {
     "name": "stdout",
     "output_type": "stream",
     "text": [
      "Processing speech: https://www.bis.org/api/documents/review/r031127d.json\n",
      "Processing speech: https://www.bis.org/api/documents/review/r031127c.json\n",
      "Processing speech: https://www.bis.org/api/documents/review/r031127b.json\n"
     ]
    },
    {
     "name": "stderr",
     "output_type": "stream",
     "text": [
      " 10%|█         | 2106/20093 [03:07<22:55, 13.08it/s]"
     ]
    },
    {
     "name": "stdout",
     "output_type": "stream",
     "text": [
      "Processing speech: https://www.bis.org/api/documents/review/r031127a.json\n",
      "Processing speech: https://www.bis.org/api/documents/review/r031124e.json\n",
      "Processing speech: https://www.bis.org/api/documents/review/r031124d.json\n"
     ]
    },
    {
     "name": "stderr",
     "output_type": "stream",
     "text": [
      " 11%|█         | 2110/20093 [03:08<22:22, 13.39it/s]"
     ]
    },
    {
     "name": "stdout",
     "output_type": "stream",
     "text": [
      "Processing speech: https://www.bis.org/api/documents/review/r031124c.json\n",
      "Processing speech: https://www.bis.org/api/documents/review/r031124b.json\n",
      "Processing speech: https://www.bis.org/api/documents/review/r031124a.json\n"
     ]
    },
    {
     "name": "stderr",
     "output_type": "stream",
     "text": [
      " 11%|█         | 2112/20093 [03:08<22:29, 13.32it/s]"
     ]
    },
    {
     "name": "stdout",
     "output_type": "stream",
     "text": [
      "Processing speech: https://www.bis.org/api/documents/review/r031121g.json\n",
      "Processing speech: https://www.bis.org/api/documents/review/r031121f.json\n",
      "Processing speech: https://www.bis.org/api/documents/review/r031121d.json\n"
     ]
    },
    {
     "name": "stderr",
     "output_type": "stream",
     "text": [
      " 11%|█         | 2116/20093 [03:08<22:40, 13.22it/s]"
     ]
    },
    {
     "name": "stdout",
     "output_type": "stream",
     "text": [
      "Processing speech: https://www.bis.org/api/documents/review/r031121c.json\n",
      "Processing speech: https://www.bis.org/api/documents/review/r031121b.json\n",
      "Processing speech: https://www.bis.org/api/documents/review/r031121a.json\n",
      "Processing speech: https://www.bis.org/api/documents/review/r031113f.json\n"
     ]
    },
    {
     "name": "stderr",
     "output_type": "stream",
     "text": [
      " 11%|█         | 2120/20093 [03:08<22:02, 13.59it/s]"
     ]
    },
    {
     "name": "stdout",
     "output_type": "stream",
     "text": [
      "Processing speech: https://www.bis.org/api/documents/review/r031113e.json\n",
      "Processing speech: https://www.bis.org/api/documents/review/r031113d.json\n",
      "Processing speech: https://www.bis.org/api/documents/review/r031113c.json\n"
     ]
    },
    {
     "name": "stderr",
     "output_type": "stream",
     "text": [
      " 11%|█         | 2122/20093 [03:09<22:37, 13.24it/s]"
     ]
    },
    {
     "name": "stdout",
     "output_type": "stream",
     "text": [
      "Processing speech: https://www.bis.org/api/documents/review/r031113b.json\n",
      "Processing speech: https://www.bis.org/api/documents/review/r031113a.json\n",
      "Processing speech: https://www.bis.org/api/documents/review/r031112g.json\n"
     ]
    },
    {
     "name": "stderr",
     "output_type": "stream",
     "text": [
      " 11%|█         | 2124/20093 [03:09<22:10, 13.51it/s]"
     ]
    },
    {
     "name": "stdout",
     "output_type": "stream",
     "text": [
      "Processing speech: https://www.bis.org/api/documents/review/r031112f.json\n",
      "Processing speech: https://www.bis.org/api/documents/review/r031112e.json\n"
     ]
    },
    {
     "name": "stderr",
     "output_type": "stream",
     "text": [
      " 11%|█         | 2128/20093 [03:10<54:48,  5.46it/s]  "
     ]
    },
    {
     "name": "stdout",
     "output_type": "stream",
     "text": [
      "Processing speech: https://www.bis.org/api/documents/review/r031112d.json\n",
      "Processing speech: https://www.bis.org/api/documents/review/r031112c.json\n",
      "Processing speech: https://www.bis.org/api/documents/review/r031112b.json\n"
     ]
    },
    {
     "name": "stderr",
     "output_type": "stream",
     "text": [
      " 11%|█         | 2130/20093 [03:10<44:40,  6.70it/s]"
     ]
    },
    {
     "name": "stdout",
     "output_type": "stream",
     "text": [
      "Processing speech: https://www.bis.org/api/documents/review/r031112a.json\n",
      "Processing speech: https://www.bis.org/api/documents/review/r031110c.json\n",
      "Processing speech: https://www.bis.org/api/documents/review/r031104h.json\n"
     ]
    },
    {
     "name": "stderr",
     "output_type": "stream",
     "text": [
      " 11%|█         | 2134/20093 [03:11<33:01,  9.06it/s]"
     ]
    },
    {
     "name": "stdout",
     "output_type": "stream",
     "text": [
      "Processing speech: https://www.bis.org/api/documents/review/r031104g.json\n",
      "Processing speech: https://www.bis.org/api/documents/review/r031104f.json\n",
      "Processing speech: https://www.bis.org/api/documents/review/r031104e.json\n"
     ]
    },
    {
     "name": "stderr",
     "output_type": "stream",
     "text": [
      " 11%|█         | 2136/20093 [03:11<29:34, 10.12it/s]"
     ]
    },
    {
     "name": "stdout",
     "output_type": "stream",
     "text": [
      "Processing speech: https://www.bis.org/api/documents/review/r031104d.json\n",
      "Processing speech: https://www.bis.org/api/documents/review/r031104c.json\n",
      "Processing speech: https://www.bis.org/api/documents/review/r031104b.json\n"
     ]
    },
    {
     "name": "stderr",
     "output_type": "stream",
     "text": [
      " 11%|█         | 2138/20093 [03:11<27:38, 10.83it/s]"
     ]
    },
    {
     "name": "stdout",
     "output_type": "stream",
     "text": [
      "Processing speech: https://www.bis.org/api/documents/review/r031104a.json\n",
      "Processing speech: https://www.bis.org/api/documents/review/r031031h.json\n"
     ]
    },
    {
     "name": "stderr",
     "output_type": "stream",
     "text": [
      " 11%|█         | 2142/20093 [03:11<25:44, 11.62it/s]"
     ]
    },
    {
     "name": "stdout",
     "output_type": "stream",
     "text": [
      "Processing speech: https://www.bis.org/api/documents/review/r031031f.json\n",
      "Processing speech: https://www.bis.org/api/documents/review/r031031e.json\n",
      "Processing speech: https://www.bis.org/api/documents/review/r031031c.json\n"
     ]
    },
    {
     "name": "stderr",
     "output_type": "stream",
     "text": [
      " 11%|█         | 2144/20093 [03:11<24:45, 12.08it/s]"
     ]
    },
    {
     "name": "stdout",
     "output_type": "stream",
     "text": [
      "Processing speech: https://www.bis.org/api/documents/review/r031031b.json\n",
      "Processing speech: https://www.bis.org/api/documents/review/r031031a.json\n",
      "Processing speech: https://www.bis.org/api/documents/review/r031020j.json\n"
     ]
    },
    {
     "name": "stderr",
     "output_type": "stream",
     "text": [
      " 11%|█         | 2148/20093 [03:12<24:04, 12.42it/s]"
     ]
    },
    {
     "name": "stdout",
     "output_type": "stream",
     "text": [
      "Processing speech: https://www.bis.org/api/documents/review/r031020i.json\n",
      "Processing speech: https://www.bis.org/api/documents/review/r031020h.json\n",
      "Processing speech: https://www.bis.org/api/documents/review/r031020g.json\n"
     ]
    },
    {
     "name": "stderr",
     "output_type": "stream",
     "text": [
      " 11%|█         | 2150/20093 [03:12<23:08, 12.92it/s]"
     ]
    },
    {
     "name": "stdout",
     "output_type": "stream",
     "text": [
      "Processing speech: https://www.bis.org/api/documents/review/r031020f.json\n",
      "Processing speech: https://www.bis.org/api/documents/review/r031020e.json\n",
      "Processing speech: https://www.bis.org/api/documents/review/r031020d.json\n"
     ]
    },
    {
     "name": "stderr",
     "output_type": "stream",
     "text": [
      " 11%|█         | 2152/20093 [03:12<22:36, 13.22it/s]"
     ]
    },
    {
     "name": "stdout",
     "output_type": "stream",
     "text": [
      "Processing speech: https://www.bis.org/api/documents/review/r031020c.json\n"
     ]
    },
    {
     "name": "stderr",
     "output_type": "stream",
     "text": [
      " 11%|█         | 2154/20093 [03:12<31:55,  9.37it/s]"
     ]
    },
    {
     "name": "stdout",
     "output_type": "stream",
     "text": [
      "Processing speech: https://www.bis.org/api/documents/review/r031020b.json\n",
      "Processing speech: https://www.bis.org/api/documents/review/r031020a.json\n",
      "Processing speech: https://www.bis.org/api/documents/review/r031013k.json\n"
     ]
    },
    {
     "name": "stderr",
     "output_type": "stream",
     "text": [
      " 11%|█         | 2158/20093 [03:13<26:26, 11.31it/s]"
     ]
    },
    {
     "name": "stdout",
     "output_type": "stream",
     "text": [
      "Processing speech: https://www.bis.org/api/documents/review/r031013j.json\n",
      "Processing speech: https://www.bis.org/api/documents/review/r031013i.json\n",
      "Processing speech: https://www.bis.org/api/documents/review/r031013h.json\n"
     ]
    },
    {
     "name": "stderr",
     "output_type": "stream",
     "text": [
      " 11%|█         | 2160/20093 [03:13<26:24, 11.32it/s]"
     ]
    },
    {
     "name": "stdout",
     "output_type": "stream",
     "text": [
      "Processing speech: https://www.bis.org/api/documents/review/r031013g.json\n",
      "Processing speech: https://www.bis.org/api/documents/review/r031013f.json\n",
      "Processing speech: https://www.bis.org/api/documents/review/r031013e.json\n"
     ]
    },
    {
     "name": "stderr",
     "output_type": "stream",
     "text": [
      " 11%|█         | 2164/20093 [03:13<24:40, 12.11it/s]"
     ]
    },
    {
     "name": "stdout",
     "output_type": "stream",
     "text": [
      "Processing speech: https://www.bis.org/api/documents/review/r031013d.json\n",
      "Processing speech: https://www.bis.org/api/documents/review/r031013c.json\n",
      "Processing speech: https://www.bis.org/api/documents/review/r031013b.json\n"
     ]
    },
    {
     "name": "stderr",
     "output_type": "stream",
     "text": [
      " 11%|█         | 2166/20093 [03:13<23:51, 12.52it/s]"
     ]
    },
    {
     "name": "stdout",
     "output_type": "stream",
     "text": [
      "Processing speech: https://www.bis.org/api/documents/review/r031013a.json\n",
      "Processing speech: https://www.bis.org/api/documents/review/r031007j.json\n",
      "Processing speech: https://www.bis.org/api/documents/review/r031007i.json\n"
     ]
    },
    {
     "name": "stderr",
     "output_type": "stream",
     "text": [
      " 11%|█         | 2170/20093 [03:13<22:30, 13.27it/s]"
     ]
    },
    {
     "name": "stdout",
     "output_type": "stream",
     "text": [
      "Processing speech: https://www.bis.org/api/documents/review/r031007h.json\n",
      "Processing speech: https://www.bis.org/api/documents/review/r031007g.json\n",
      "Processing speech: https://www.bis.org/api/documents/review/r031007f.json\n"
     ]
    },
    {
     "name": "stderr",
     "output_type": "stream",
     "text": [
      " 11%|█         | 2172/20093 [03:14<22:01, 13.56it/s]"
     ]
    },
    {
     "name": "stdout",
     "output_type": "stream",
     "text": [
      "Processing speech: https://www.bis.org/api/documents/review/r031007e.json\n",
      "Processing speech: https://www.bis.org/api/documents/review/r031007d.json\n",
      "Processing speech: https://www.bis.org/api/documents/review/r031007c.json\n"
     ]
    },
    {
     "name": "stderr",
     "output_type": "stream",
     "text": [
      " 11%|█         | 2176/20093 [03:14<22:16, 13.41it/s]"
     ]
    },
    {
     "name": "stdout",
     "output_type": "stream",
     "text": [
      "Processing speech: https://www.bis.org/api/documents/review/r031007b.json\n",
      "Processing speech: https://www.bis.org/api/documents/review/r031007a.json\n",
      "Processing speech: https://www.bis.org/api/documents/review/r030930h.json\n"
     ]
    },
    {
     "name": "stderr",
     "output_type": "stream",
     "text": [
      " 11%|█         | 2178/20093 [03:14<21:54, 13.63it/s]"
     ]
    },
    {
     "name": "stdout",
     "output_type": "stream",
     "text": [
      "Processing speech: https://www.bis.org/api/documents/review/r030930g.json\n",
      "Processing speech: https://www.bis.org/api/documents/review/r030930f.json\n",
      "Processing speech: https://www.bis.org/api/documents/review/r030930e.json\n"
     ]
    },
    {
     "name": "stderr",
     "output_type": "stream",
     "text": [
      " 11%|█         | 2182/20093 [03:14<21:59, 13.57it/s]"
     ]
    },
    {
     "name": "stdout",
     "output_type": "stream",
     "text": [
      "Processing speech: https://www.bis.org/api/documents/review/r030930c.json\n",
      "Processing speech: https://www.bis.org/api/documents/review/r030930b.json\n",
      "Processing speech: https://www.bis.org/api/documents/review/r030930a.json\n"
     ]
    },
    {
     "name": "stderr",
     "output_type": "stream",
     "text": [
      " 11%|█         | 2184/20093 [03:14<22:13, 13.43it/s]"
     ]
    },
    {
     "name": "stdout",
     "output_type": "stream",
     "text": [
      "Processing speech: https://www.bis.org/api/documents/review/r030918i.json\n",
      "Processing speech: https://www.bis.org/api/documents/review/r030918h.json\n",
      "Processing speech: https://www.bis.org/api/documents/review/r030918g.json\n"
     ]
    },
    {
     "name": "stderr",
     "output_type": "stream",
     "text": [
      " 11%|█         | 2188/20093 [03:15<21:41, 13.76it/s]"
     ]
    },
    {
     "name": "stdout",
     "output_type": "stream",
     "text": [
      "Processing speech: https://www.bis.org/api/documents/review/r030918f.json\n",
      "Processing speech: https://www.bis.org/api/documents/review/r030918e.json\n",
      "Processing speech: https://www.bis.org/api/documents/review/r030918d.json\n"
     ]
    },
    {
     "name": "stderr",
     "output_type": "stream",
     "text": [
      " 11%|█         | 2190/20093 [03:15<22:02, 13.54it/s]"
     ]
    },
    {
     "name": "stdout",
     "output_type": "stream",
     "text": [
      "Processing speech: https://www.bis.org/api/documents/review/r030918c.json\n",
      "Processing speech: https://www.bis.org/api/documents/review/r030918b.json\n",
      "Processing speech: https://www.bis.org/api/documents/review/r030915g.json\n"
     ]
    },
    {
     "name": "stderr",
     "output_type": "stream",
     "text": [
      " 11%|█         | 2194/20093 [03:15<24:00, 12.42it/s]"
     ]
    },
    {
     "name": "stdout",
     "output_type": "stream",
     "text": [
      "Processing speech: https://www.bis.org/api/documents/review/r030915f.json\n",
      "Processing speech: https://www.bis.org/api/documents/review/r030915e.json\n",
      "Processing speech: https://www.bis.org/api/documents/review/r030915d.json\n"
     ]
    },
    {
     "name": "stderr",
     "output_type": "stream",
     "text": [
      " 11%|█         | 2196/20093 [03:15<23:08, 12.89it/s]"
     ]
    },
    {
     "name": "stdout",
     "output_type": "stream",
     "text": [
      "Processing speech: https://www.bis.org/api/documents/review/r030915c.json\n",
      "Processing speech: https://www.bis.org/api/documents/review/r030915b.json\n",
      "Processing speech: https://www.bis.org/api/documents/review/r030915a.json\n"
     ]
    },
    {
     "name": "stderr",
     "output_type": "stream",
     "text": [
      " 11%|█         | 2200/20093 [03:16<22:26, 13.29it/s]"
     ]
    },
    {
     "name": "stdout",
     "output_type": "stream",
     "text": [
      "Processing speech: https://www.bis.org/api/documents/review/r030909g.json\n",
      "Processing speech: https://www.bis.org/api/documents/review/r030909f.json\n",
      "Processing speech: https://www.bis.org/api/documents/review/r030909e.json\n",
      "Processing speech: https://www.bis.org/api/documents/review/r030909d.json\n"
     ]
    },
    {
     "name": "stderr",
     "output_type": "stream",
     "text": [
      " 11%|█         | 2204/20093 [03:16<21:35, 13.81it/s]"
     ]
    },
    {
     "name": "stdout",
     "output_type": "stream",
     "text": [
      "Processing speech: https://www.bis.org/api/documents/review/r030909c.json\n",
      "Processing speech: https://www.bis.org/api/documents/review/r030909b.json\n",
      "Processing speech: https://www.bis.org/api/documents/review/r030909a.json\n"
     ]
    },
    {
     "name": "stderr",
     "output_type": "stream",
     "text": [
      " 11%|█         | 2206/20093 [03:16<22:30, 13.25it/s]"
     ]
    },
    {
     "name": "stdout",
     "output_type": "stream",
     "text": [
      "Processing speech: https://www.bis.org/api/documents/review/r030905e.json\n",
      "Processing speech: https://www.bis.org/api/documents/review/r030905d.json\n",
      "Processing speech: https://www.bis.org/api/documents/review/r030905c.json\n"
     ]
    },
    {
     "name": "stderr",
     "output_type": "stream",
     "text": [
      " 11%|█         | 2210/20093 [03:16<21:50, 13.65it/s]"
     ]
    },
    {
     "name": "stdout",
     "output_type": "stream",
     "text": [
      "Processing speech: https://www.bis.org/api/documents/review/r030905b.json\n",
      "Processing speech: https://www.bis.org/api/documents/review/r030905a.json\n",
      "Processing speech: https://www.bis.org/api/documents/review/r030828g.json\n"
     ]
    },
    {
     "name": "stderr",
     "output_type": "stream",
     "text": [
      " 11%|█         | 2212/20093 [03:17<22:02, 13.52it/s]"
     ]
    },
    {
     "name": "stdout",
     "output_type": "stream",
     "text": [
      "Processing speech: https://www.bis.org/api/documents/review/r030828f.json\n",
      "Processing speech: https://www.bis.org/api/documents/review/r030828e.json\n",
      "Processing speech: https://www.bis.org/api/documents/review/r030828c.json\n"
     ]
    },
    {
     "name": "stderr",
     "output_type": "stream",
     "text": [
      " 11%|█         | 2216/20093 [03:17<21:42, 13.72it/s]"
     ]
    },
    {
     "name": "stdout",
     "output_type": "stream",
     "text": [
      "Processing speech: https://www.bis.org/api/documents/review/r030828b.json\n",
      "Processing speech: https://www.bis.org/api/documents/review/r030828a.json\n",
      "Processing speech: https://www.bis.org/api/documents/review/r030813d.json\n"
     ]
    },
    {
     "name": "stderr",
     "output_type": "stream",
     "text": [
      " 11%|█         | 2218/20093 [03:17<22:00, 13.54it/s]"
     ]
    },
    {
     "name": "stdout",
     "output_type": "stream",
     "text": [
      "Processing speech: https://www.bis.org/api/documents/review/r030813c.json\n",
      "Processing speech: https://www.bis.org/api/documents/review/r030813b.json\n",
      "Processing speech: https://www.bis.org/api/documents/review/r030813a.json\n"
     ]
    },
    {
     "name": "stderr",
     "output_type": "stream",
     "text": [
      " 11%|█         | 2222/20093 [03:17<21:40, 13.74it/s]"
     ]
    },
    {
     "name": "stdout",
     "output_type": "stream",
     "text": [
      "Processing speech: https://www.bis.org/api/documents/review/r030806e.json\n",
      "Processing speech: https://www.bis.org/api/documents/review/r030806d.json\n",
      "Processing speech: https://www.bis.org/api/documents/review/r030806c.json\n"
     ]
    },
    {
     "name": "stderr",
     "output_type": "stream",
     "text": [
      " 11%|█         | 2224/20093 [03:17<22:12, 13.41it/s]"
     ]
    },
    {
     "name": "stdout",
     "output_type": "stream",
     "text": [
      "Processing speech: https://www.bis.org/api/documents/review/r030806b.json\n",
      "Processing speech: https://www.bis.org/api/documents/review/r030806a.json\n",
      "Processing speech: https://www.bis.org/api/documents/review/r030721e.json\n"
     ]
    },
    {
     "name": "stderr",
     "output_type": "stream",
     "text": [
      " 11%|█         | 2228/20093 [03:18<22:36, 13.17it/s]"
     ]
    },
    {
     "name": "stdout",
     "output_type": "stream",
     "text": [
      "Processing speech: https://www.bis.org/api/documents/review/r030721b.json\n",
      "Processing speech: https://www.bis.org/api/documents/review/r030721a.json\n",
      "Processing speech: https://www.bis.org/api/documents/review/r030714e.json\n"
     ]
    },
    {
     "name": "stderr",
     "output_type": "stream",
     "text": [
      " 11%|█         | 2230/20093 [03:18<22:45, 13.08it/s]"
     ]
    },
    {
     "name": "stdout",
     "output_type": "stream",
     "text": [
      "Processing speech: https://www.bis.org/api/documents/review/r030714d.json\n",
      "Processing speech: https://www.bis.org/api/documents/review/r030714c.json\n",
      "Processing speech: https://www.bis.org/api/documents/review/r030714b.json\n"
     ]
    },
    {
     "name": "stderr",
     "output_type": "stream",
     "text": [
      " 11%|█         | 2234/20093 [03:18<21:41, 13.72it/s]"
     ]
    },
    {
     "name": "stdout",
     "output_type": "stream",
     "text": [
      "Processing speech: https://www.bis.org/api/documents/review/r030714a.json\n",
      "Processing speech: https://www.bis.org/api/documents/review/r030710h.json\n",
      "Processing speech: https://www.bis.org/api/documents/review/r030710g.json\n",
      "Processing speech: https://www.bis.org/api/documents/review/r030710f.json\n"
     ]
    },
    {
     "name": "stderr",
     "output_type": "stream",
     "text": [
      " 11%|█         | 2238/20093 [03:18<21:09, 14.06it/s]"
     ]
    },
    {
     "name": "stdout",
     "output_type": "stream",
     "text": [
      "Processing speech: https://www.bis.org/api/documents/review/r030710e.json\n",
      "Processing speech: https://www.bis.org/api/documents/review/r030710d.json\n",
      "Processing speech: https://www.bis.org/api/documents/review/r030710c.json\n",
      "Processing speech: https://www.bis.org/api/documents/review/r030710a.json\n"
     ]
    },
    {
     "name": "stderr",
     "output_type": "stream",
     "text": [
      " 11%|█         | 2242/20093 [03:19<20:58, 14.19it/s]"
     ]
    },
    {
     "name": "stdout",
     "output_type": "stream",
     "text": [
      "Processing speech: https://www.bis.org/api/documents/review/r030627i.json\n",
      "Processing speech: https://www.bis.org/api/documents/review/r030627h.json\n",
      "Processing speech: https://www.bis.org/api/documents/review/r030627g.json\n",
      "Processing speech: https://www.bis.org/api/documents/review/r030627f.json\n"
     ]
    },
    {
     "name": "stderr",
     "output_type": "stream",
     "text": [
      " 11%|█         | 2246/20093 [03:19<20:07, 14.79it/s]"
     ]
    },
    {
     "name": "stdout",
     "output_type": "stream",
     "text": [
      "Processing speech: https://www.bis.org/api/documents/review/r030627e.json\n",
      "Processing speech: https://www.bis.org/api/documents/review/r030627d.json\n",
      "Processing speech: https://www.bis.org/api/documents/review/r030627c.json\n",
      "Processing speech: https://www.bis.org/api/documents/review/r030627b.json\n"
     ]
    },
    {
     "name": "stderr",
     "output_type": "stream",
     "text": [
      " 11%|█         | 2250/20093 [03:19<19:53, 14.95it/s]"
     ]
    },
    {
     "name": "stdout",
     "output_type": "stream",
     "text": [
      "Processing speech: https://www.bis.org/api/documents/review/r030627a.json\n",
      "Processing speech: https://www.bis.org/api/documents/review/r030623e.json\n",
      "Processing speech: https://www.bis.org/api/documents/review/r030623d.json\n",
      "Processing speech: https://www.bis.org/api/documents/review/r030623c.json\n"
     ]
    },
    {
     "name": "stderr",
     "output_type": "stream",
     "text": [
      " 11%|█         | 2254/20093 [03:20<20:32, 14.47it/s]"
     ]
    },
    {
     "name": "stdout",
     "output_type": "stream",
     "text": [
      "Processing speech: https://www.bis.org/api/documents/review/r030623b.json\n",
      "Processing speech: https://www.bis.org/api/documents/review/r030623a.json\n",
      "Processing speech: https://www.bis.org/api/documents/review/r030620f.json\n"
     ]
    },
    {
     "name": "stderr",
     "output_type": "stream",
     "text": [
      " 11%|█         | 2256/20093 [03:20<20:18, 14.64it/s]"
     ]
    },
    {
     "name": "stdout",
     "output_type": "stream",
     "text": [
      "Processing speech: https://www.bis.org/api/documents/review/r030620e.json\n",
      "Processing speech: https://www.bis.org/api/documents/review/r030620d.json\n",
      "Processing speech: https://www.bis.org/api/documents/review/r030620c.json\n"
     ]
    },
    {
     "name": "stderr",
     "output_type": "stream",
     "text": [
      " 11%|█         | 2260/20093 [03:20<20:31, 14.48it/s]"
     ]
    },
    {
     "name": "stdout",
     "output_type": "stream",
     "text": [
      "Processing speech: https://www.bis.org/api/documents/review/r030620b.json\n",
      "Processing speech: https://www.bis.org/api/documents/review/r030620a.json\n",
      "Processing speech: https://www.bis.org/api/documents/review/r030613g.json\n"
     ]
    },
    {
     "name": "stderr",
     "output_type": "stream",
     "text": [
      " 11%|█▏        | 2262/20093 [03:20<20:43, 14.34it/s]"
     ]
    },
    {
     "name": "stdout",
     "output_type": "stream",
     "text": [
      "Processing speech: https://www.bis.org/api/documents/review/r030613f.json\n",
      "Processing speech: https://www.bis.org/api/documents/review/r030613e.json\n",
      "Processing speech: https://www.bis.org/api/documents/review/r030613d.json\n"
     ]
    },
    {
     "name": "stderr",
     "output_type": "stream",
     "text": [
      " 11%|█▏        | 2266/20093 [03:20<23:13, 12.79it/s]"
     ]
    },
    {
     "name": "stdout",
     "output_type": "stream",
     "text": [
      "Processing speech: https://www.bis.org/api/documents/review/r030613c.json\n",
      "Processing speech: https://www.bis.org/api/documents/review/r030613b.json\n"
     ]
    },
    {
     "name": "stderr",
     "output_type": "stream",
     "text": [
      " 11%|█▏        | 2268/20093 [03:21<22:31, 13.19it/s]"
     ]
    },
    {
     "name": "stdout",
     "output_type": "stream",
     "text": [
      "Processing speech: https://www.bis.org/api/documents/review/r030613a.json\n",
      "Processing speech: https://www.bis.org/api/documents/review/r030606g.json\n",
      "Processing speech: https://www.bis.org/api/documents/review/r030606f.json\n"
     ]
    },
    {
     "name": "stderr",
     "output_type": "stream",
     "text": [
      " 11%|█▏        | 2270/20093 [03:21<22:42, 13.08it/s]"
     ]
    },
    {
     "name": "stdout",
     "output_type": "stream",
     "text": [
      "Processing speech: https://www.bis.org/api/documents/review/r030606e.json\n",
      "Processing speech: https://www.bis.org/api/documents/review/r030606d.json\n",
      "Processing speech: https://www.bis.org/api/documents/review/r030606c.json\n"
     ]
    },
    {
     "name": "stderr",
     "output_type": "stream",
     "text": [
      " 11%|█▏        | 2274/20093 [03:21<21:56, 13.53it/s]"
     ]
    },
    {
     "name": "stdout",
     "output_type": "stream",
     "text": [
      "Processing speech: https://www.bis.org/api/documents/review/r030606b.json\n",
      "Processing speech: https://www.bis.org/api/documents/review/r030606a.json\n",
      "Processing speech: https://www.bis.org/api/documents/review/r030530i.json\n",
      "Processing speech: https://www.bis.org/api/documents/review/r030530h.json\n"
     ]
    },
    {
     "name": "stderr",
     "output_type": "stream",
     "text": [
      " 11%|█▏        | 2278/20093 [03:21<21:54, 13.55it/s]"
     ]
    },
    {
     "name": "stdout",
     "output_type": "stream",
     "text": [
      "Processing speech: https://www.bis.org/api/documents/review/r030530g.json\n",
      "Processing speech: https://www.bis.org/api/documents/review/r030530f.json\n",
      "Processing speech: https://www.bis.org/api/documents/review/r030530e.json\n"
     ]
    },
    {
     "name": "stderr",
     "output_type": "stream",
     "text": [
      " 11%|█▏        | 2280/20093 [03:22<22:26, 13.23it/s]"
     ]
    },
    {
     "name": "stdout",
     "output_type": "stream",
     "text": [
      "Processing speech: https://www.bis.org/api/documents/review/r030530d.json\n",
      "Processing speech: https://www.bis.org/api/documents/review/r030530c.json\n",
      "Processing speech: https://www.bis.org/api/documents/review/r030530b.json\n"
     ]
    },
    {
     "name": "stderr",
     "output_type": "stream",
     "text": [
      " 11%|█▏        | 2284/20093 [03:22<23:15, 12.77it/s]"
     ]
    },
    {
     "name": "stdout",
     "output_type": "stream",
     "text": [
      "Processing speech: https://www.bis.org/api/documents/review/r030530a.json\n",
      "Processing speech: https://www.bis.org/api/documents/review/r030522g.json\n",
      "Processing speech: https://www.bis.org/api/documents/review/r030522f.json\n"
     ]
    },
    {
     "name": "stderr",
     "output_type": "stream",
     "text": [
      " 11%|█▏        | 2286/20093 [03:22<22:37, 13.12it/s]"
     ]
    },
    {
     "name": "stdout",
     "output_type": "stream",
     "text": [
      "Processing speech: https://www.bis.org/api/documents/review/r030522e.json\n",
      "Processing speech: https://www.bis.org/api/documents/review/r030522d.json\n",
      "Processing speech: https://www.bis.org/api/documents/review/r030522c.json\n"
     ]
    },
    {
     "name": "stderr",
     "output_type": "stream",
     "text": [
      " 11%|█▏        | 2290/20093 [03:22<22:10, 13.38it/s]"
     ]
    },
    {
     "name": "stdout",
     "output_type": "stream",
     "text": [
      "Processing speech: https://www.bis.org/api/documents/review/r030522b.json\n",
      "Processing speech: https://www.bis.org/api/documents/review/r030522a.json\n",
      "Processing speech: https://www.bis.org/api/documents/review/r030516f.json\n"
     ]
    },
    {
     "name": "stderr",
     "output_type": "stream",
     "text": [
      " 11%|█▏        | 2292/20093 [03:22<22:12, 13.36it/s]"
     ]
    },
    {
     "name": "stdout",
     "output_type": "stream",
     "text": [
      "Processing speech: https://www.bis.org/api/documents/review/r030516e.json\n",
      "Processing speech: https://www.bis.org/api/documents/review/r030516d.json\n",
      "Processing speech: https://www.bis.org/api/documents/review/r030516c.json\n"
     ]
    },
    {
     "name": "stderr",
     "output_type": "stream",
     "text": [
      " 11%|█▏        | 2294/20093 [03:23<23:43, 12.50it/s]"
     ]
    },
    {
     "name": "stdout",
     "output_type": "stream",
     "text": [
      "Processing speech: https://www.bis.org/api/documents/review/r030516b.json\n"
     ]
    },
    {
     "name": "stderr",
     "output_type": "stream",
     "text": [
      " 11%|█▏        | 2296/20093 [03:26<2:36:36,  1.89it/s]"
     ]
    },
    {
     "name": "stdout",
     "output_type": "stream",
     "text": [
      "Processing speech: https://www.bis.org/api/documents/review/r030516a.json\n",
      "Processing speech: https://www.bis.org/api/documents/review/r030509h.json\n",
      "Processing speech: https://www.bis.org/api/documents/review/r030509g.json\n"
     ]
    },
    {
     "name": "stderr",
     "output_type": "stream",
     "text": [
      " 11%|█▏        | 2300/20093 [03:26<1:28:21,  3.36it/s]"
     ]
    },
    {
     "name": "stdout",
     "output_type": "stream",
     "text": [
      "Processing speech: https://www.bis.org/api/documents/review/r030509f.json\n",
      "Processing speech: https://www.bis.org/api/documents/review/r030509e.json\n",
      "Processing speech: https://www.bis.org/api/documents/review/r030509d.json\n"
     ]
    },
    {
     "name": "stderr",
     "output_type": "stream",
     "text": [
      " 11%|█▏        | 2302/20093 [03:26<1:08:04,  4.36it/s]"
     ]
    },
    {
     "name": "stdout",
     "output_type": "stream",
     "text": [
      "Processing speech: https://www.bis.org/api/documents/review/r030509c.json\n",
      "Processing speech: https://www.bis.org/api/documents/review/r030509b.json\n",
      "Processing speech: https://www.bis.org/api/documents/review/r030430e.json\n"
     ]
    },
    {
     "name": "stderr",
     "output_type": "stream",
     "text": [
      " 11%|█▏        | 2306/20093 [03:26<43:31,  6.81it/s]  "
     ]
    },
    {
     "name": "stdout",
     "output_type": "stream",
     "text": [
      "Processing speech: https://www.bis.org/api/documents/review/r030430c.json\n",
      "Processing speech: https://www.bis.org/api/documents/review/r030430a.json\n",
      "Processing speech: https://www.bis.org/api/documents/review/r030428g.json\n",
      "Processing speech: https://www.bis.org/api/documents/review/r030428f.json\n"
     ]
    },
    {
     "name": "stderr",
     "output_type": "stream",
     "text": [
      " 11%|█▏        | 2310/20093 [03:27<31:35,  9.38it/s]"
     ]
    },
    {
     "name": "stdout",
     "output_type": "stream",
     "text": [
      "Processing speech: https://www.bis.org/api/documents/review/r030428e.json\n",
      "Processing speech: https://www.bis.org/api/documents/review/r030428d.json\n",
      "Processing speech: https://www.bis.org/api/documents/review/r030428c.json\n",
      "Processing speech: https://www.bis.org/api/documents/review/r030428b.json\n"
     ]
    },
    {
     "name": "stderr",
     "output_type": "stream",
     "text": [
      " 12%|█▏        | 2314/20093 [03:27<25:23, 11.67it/s]"
     ]
    },
    {
     "name": "stdout",
     "output_type": "stream",
     "text": [
      "Processing speech: https://www.bis.org/api/documents/review/r030428a.json\n",
      "Processing speech: https://www.bis.org/api/documents/review/r030416g.json\n",
      "Processing speech: https://www.bis.org/api/documents/review/r030416f.json\n"
     ]
    },
    {
     "name": "stderr",
     "output_type": "stream",
     "text": [
      " 12%|█▏        | 2316/20093 [03:27<25:11, 11.76it/s]"
     ]
    },
    {
     "name": "stdout",
     "output_type": "stream",
     "text": [
      "Processing speech: https://www.bis.org/api/documents/review/r030416e.json\n",
      "Processing speech: https://www.bis.org/api/documents/review/r030416d.json\n",
      "Processing speech: https://www.bis.org/api/documents/review/r030416c.json\n"
     ]
    },
    {
     "name": "stderr",
     "output_type": "stream",
     "text": [
      " 12%|█▏        | 2320/20093 [03:28<24:08, 12.27it/s]"
     ]
    },
    {
     "name": "stdout",
     "output_type": "stream",
     "text": [
      "Processing speech: https://www.bis.org/api/documents/review/r030416b.json\n",
      "Processing speech: https://www.bis.org/api/documents/review/r030416a.json\n",
      "Processing speech: https://www.bis.org/api/documents/review/r030408h.json\n"
     ]
    },
    {
     "name": "stderr",
     "output_type": "stream",
     "text": [
      " 12%|█▏        | 2322/20093 [03:28<23:18, 12.71it/s]"
     ]
    },
    {
     "name": "stdout",
     "output_type": "stream",
     "text": [
      "Processing speech: https://www.bis.org/api/documents/review/r030408g.json\n",
      "Processing speech: https://www.bis.org/api/documents/review/r030408f.json\n"
     ]
    },
    {
     "name": "stderr",
     "output_type": "stream",
     "text": [
      " 12%|█▏        | 2324/20093 [03:28<35:47,  8.27it/s]"
     ]
    },
    {
     "name": "stdout",
     "output_type": "stream",
     "text": [
      "Processing speech: https://www.bis.org/api/documents/review/r030408e.json\n",
      "Processing speech: https://www.bis.org/api/documents/review/r030408d.json\n",
      "Processing speech: https://www.bis.org/api/documents/review/r030408c.json\n"
     ]
    },
    {
     "name": "stderr",
     "output_type": "stream",
     "text": [
      " 12%|█▏        | 2328/20093 [03:28<29:15, 10.12it/s]"
     ]
    },
    {
     "name": "stdout",
     "output_type": "stream",
     "text": [
      "Processing speech: https://www.bis.org/api/documents/review/r030408b.json\n",
      "Processing speech: https://www.bis.org/api/documents/review/r030408a.json\n",
      "Processing speech: https://www.bis.org/api/documents/review/r030331f.json\n"
     ]
    },
    {
     "name": "stderr",
     "output_type": "stream",
     "text": [
      " 12%|█▏        | 2330/20093 [03:29<26:53, 11.01it/s]"
     ]
    },
    {
     "name": "stdout",
     "output_type": "stream",
     "text": [
      "Processing speech: https://www.bis.org/api/documents/review/r030331e.json\n",
      "Processing speech: https://www.bis.org/api/documents/review/r030331c.json\n",
      "Processing speech: https://www.bis.org/api/documents/review/r030331b.json\n"
     ]
    },
    {
     "name": "stderr",
     "output_type": "stream",
     "text": [
      " 12%|█▏        | 2334/20093 [03:29<24:28, 12.09it/s]"
     ]
    },
    {
     "name": "stdout",
     "output_type": "stream",
     "text": [
      "Processing speech: https://www.bis.org/api/documents/review/r030331a.json\n",
      "Processing speech: https://www.bis.org/api/documents/review/r030325f.json\n",
      "Processing speech: https://www.bis.org/api/documents/review/r030325e.json\n"
     ]
    },
    {
     "name": "stderr",
     "output_type": "stream",
     "text": [
      " 12%|█▏        | 2336/20093 [03:29<23:39, 12.51it/s]"
     ]
    },
    {
     "name": "stdout",
     "output_type": "stream",
     "text": [
      "Processing speech: https://www.bis.org/api/documents/review/r030325d.json\n",
      "Processing speech: https://www.bis.org/api/documents/review/r030325c.json\n",
      "Processing speech: https://www.bis.org/api/documents/review/r030325b.json\n"
     ]
    },
    {
     "name": "stderr",
     "output_type": "stream",
     "text": [
      " 12%|█▏        | 2340/20093 [03:29<22:29, 13.15it/s]"
     ]
    },
    {
     "name": "stdout",
     "output_type": "stream",
     "text": [
      "Processing speech: https://www.bis.org/api/documents/review/r030325a.json\n",
      "Processing speech: https://www.bis.org/api/documents/review/r030319g.json\n",
      "Processing speech: https://www.bis.org/api/documents/review/r030319f.json\n",
      "Processing speech: https://www.bis.org/api/documents/review/r030319e.json\n"
     ]
    },
    {
     "name": "stderr",
     "output_type": "stream",
     "text": [
      " 12%|█▏        | 2344/20093 [03:30<22:02, 13.42it/s]"
     ]
    },
    {
     "name": "stdout",
     "output_type": "stream",
     "text": [
      "Processing speech: https://www.bis.org/api/documents/review/r030319d.json\n",
      "Processing speech: https://www.bis.org/api/documents/review/r030319c.json\n",
      "Processing speech: https://www.bis.org/api/documents/review/r030319b.json\n"
     ]
    },
    {
     "name": "stderr",
     "output_type": "stream",
     "text": [
      " 12%|█▏        | 2346/20093 [03:30<24:04, 12.28it/s]"
     ]
    },
    {
     "name": "stdout",
     "output_type": "stream",
     "text": [
      "Processing speech: https://www.bis.org/api/documents/review/r030319a.json\n",
      "Processing speech: https://www.bis.org/api/documents/review/r030314e.json\n",
      "Processing speech: https://www.bis.org/api/documents/review/r030314d.json\n"
     ]
    },
    {
     "name": "stderr",
     "output_type": "stream",
     "text": [
      " 12%|█▏        | 2350/20093 [03:30<23:33, 12.55it/s]"
     ]
    },
    {
     "name": "stdout",
     "output_type": "stream",
     "text": [
      "Processing speech: https://www.bis.org/api/documents/review/r030314c.json\n",
      "Processing speech: https://www.bis.org/api/documents/review/r030314b.json\n",
      "Processing speech: https://www.bis.org/api/documents/review/r030314a.json\n"
     ]
    },
    {
     "name": "stderr",
     "output_type": "stream",
     "text": [
      " 12%|█▏        | 2352/20093 [03:30<22:52, 12.92it/s]"
     ]
    },
    {
     "name": "stdout",
     "output_type": "stream",
     "text": [
      "Processing speech: https://www.bis.org/api/documents/review/r030311h.json\n",
      "Processing speech: https://www.bis.org/api/documents/review/r030311g.json\n",
      "Processing speech: https://www.bis.org/api/documents/review/r030311f.json\n"
     ]
    },
    {
     "name": "stderr",
     "output_type": "stream",
     "text": [
      " 12%|█▏        | 2356/20093 [03:30<21:31, 13.74it/s]"
     ]
    },
    {
     "name": "stdout",
     "output_type": "stream",
     "text": [
      "Processing speech: https://www.bis.org/api/documents/review/r030311e.json\n",
      "Processing speech: https://www.bis.org/api/documents/review/r030311d.json\n",
      "Processing speech: https://www.bis.org/api/documents/review/r030311c.json\n",
      "Processing speech: https://www.bis.org/api/documents/review/r030311b.json\n"
     ]
    },
    {
     "name": "stderr",
     "output_type": "stream",
     "text": [
      " 12%|█▏        | 2360/20093 [03:31<22:16, 13.26it/s]"
     ]
    },
    {
     "name": "stdout",
     "output_type": "stream",
     "text": [
      "Processing speech: https://www.bis.org/api/documents/review/r030311a.json\n",
      "Processing speech: https://www.bis.org/api/documents/review/r030305d.json\n",
      "Processing speech: https://www.bis.org/api/documents/review/r030305b.json\n"
     ]
    },
    {
     "name": "stderr",
     "output_type": "stream",
     "text": [
      " 12%|█▏        | 2362/20093 [03:31<21:41, 13.62it/s]"
     ]
    },
    {
     "name": "stdout",
     "output_type": "stream",
     "text": [
      "Processing speech: https://www.bis.org/api/documents/review/r030305a.json\n",
      "Processing speech: https://www.bis.org/api/documents/review/r030228d.json\n",
      "Processing speech: https://www.bis.org/api/documents/review/r030228c.json\n"
     ]
    },
    {
     "name": "stderr",
     "output_type": "stream",
     "text": [
      " 12%|█▏        | 2366/20093 [03:31<22:09, 13.33it/s]"
     ]
    },
    {
     "name": "stdout",
     "output_type": "stream",
     "text": [
      "Processing speech: https://www.bis.org/api/documents/review/r030228b.json\n",
      "Processing speech: https://www.bis.org/api/documents/review/r030228a.json\n",
      "Processing speech: https://www.bis.org/api/documents/review/r030227d.json\n"
     ]
    },
    {
     "name": "stderr",
     "output_type": "stream",
     "text": [
      " 12%|█▏        | 2368/20093 [03:31<26:12, 11.27it/s]"
     ]
    },
    {
     "name": "stdout",
     "output_type": "stream",
     "text": [
      "Processing speech: https://www.bis.org/api/documents/review/r030227c.json\n",
      "Processing speech: https://www.bis.org/api/documents/review/r030227b.json\n",
      "Processing speech: https://www.bis.org/api/documents/review/r030227a.json\n"
     ]
    },
    {
     "name": "stderr",
     "output_type": "stream",
     "text": [
      " 12%|█▏        | 2372/20093 [03:32<22:55, 12.89it/s]"
     ]
    },
    {
     "name": "stdout",
     "output_type": "stream",
     "text": [
      "Processing speech: https://www.bis.org/api/documents/review/r030220g.json\n",
      "Processing speech: https://www.bis.org/api/documents/review/r030220f.json\n",
      "Processing speech: https://www.bis.org/api/documents/review/r030220b.json\n",
      "Processing speech: https://www.bis.org/api/documents/review/r030220a.json\n"
     ]
    },
    {
     "name": "stderr",
     "output_type": "stream",
     "text": [
      " 12%|█▏        | 2376/20093 [03:32<22:37, 13.05it/s]"
     ]
    },
    {
     "name": "stdout",
     "output_type": "stream",
     "text": [
      "Processing speech: https://www.bis.org/api/documents/review/r030217e.json\n",
      "Processing speech: https://www.bis.org/api/documents/review/r030217d.json\n",
      "Processing speech: https://www.bis.org/api/documents/review/r030217c.json\n"
     ]
    },
    {
     "name": "stderr",
     "output_type": "stream",
     "text": [
      " 12%|█▏        | 2378/20093 [03:32<23:05, 12.79it/s]"
     ]
    },
    {
     "name": "stdout",
     "output_type": "stream",
     "text": [
      "Processing speech: https://www.bis.org/api/documents/review/r030217b.json\n",
      "Processing speech: https://www.bis.org/api/documents/review/r030217a.json\n",
      "Processing speech: https://www.bis.org/api/documents/review/r030212h.json\n"
     ]
    },
    {
     "name": "stderr",
     "output_type": "stream",
     "text": [
      " 12%|█▏        | 2382/20093 [03:33<22:43, 12.99it/s]"
     ]
    },
    {
     "name": "stdout",
     "output_type": "stream",
     "text": [
      "Processing speech: https://www.bis.org/api/documents/review/r030212g.json\n",
      "Processing speech: https://www.bis.org/api/documents/review/r030212f.json\n",
      "Processing speech: https://www.bis.org/api/documents/review/r030212d.json\n"
     ]
    },
    {
     "name": "stderr",
     "output_type": "stream",
     "text": [
      " 12%|█▏        | 2384/20093 [03:33<22:13, 13.28it/s]"
     ]
    },
    {
     "name": "stdout",
     "output_type": "stream",
     "text": [
      "Processing speech: https://www.bis.org/api/documents/review/r030212c.json\n",
      "Processing speech: https://www.bis.org/api/documents/review/r030212b.json\n",
      "Processing speech: https://www.bis.org/api/documents/review/r030207e.json\n"
     ]
    },
    {
     "name": "stderr",
     "output_type": "stream",
     "text": [
      " 12%|█▏        | 2388/20093 [03:33<21:34, 13.68it/s]"
     ]
    },
    {
     "name": "stdout",
     "output_type": "stream",
     "text": [
      "Processing speech: https://www.bis.org/api/documents/review/r030207d.json\n",
      "Processing speech: https://www.bis.org/api/documents/review/r030207c.json\n",
      "Processing speech: https://www.bis.org/api/documents/review/r030207b.json\n",
      "Processing speech: https://www.bis.org/api/documents/review/r030207a.json\n"
     ]
    },
    {
     "name": "stderr",
     "output_type": "stream",
     "text": [
      " 12%|█▏        | 2392/20093 [03:33<28:26, 10.38it/s]"
     ]
    },
    {
     "name": "stdout",
     "output_type": "stream",
     "text": [
      "Processing speech: https://www.bis.org/api/documents/review/r030204d.json\n",
      "Processing speech: https://www.bis.org/api/documents/review/r030204c.json\n",
      "Processing speech: https://www.bis.org/api/documents/review/r030204b.json\n"
     ]
    },
    {
     "name": "stderr",
     "output_type": "stream",
     "text": [
      " 12%|█▏        | 2394/20093 [03:34<26:34, 11.10it/s]"
     ]
    },
    {
     "name": "stdout",
     "output_type": "stream",
     "text": [
      "Processing speech: https://www.bis.org/api/documents/review/r030204a.json\n",
      "Processing speech: https://www.bis.org/api/documents/review/r030131f.json\n",
      "Processing speech: https://www.bis.org/api/documents/review/r030131e.json\n"
     ]
    },
    {
     "name": "stderr",
     "output_type": "stream",
     "text": [
      " 12%|█▏        | 2398/20093 [03:34<22:53, 12.88it/s]"
     ]
    },
    {
     "name": "stdout",
     "output_type": "stream",
     "text": [
      "Processing speech: https://www.bis.org/api/documents/review/r030131d.json\n",
      "Processing speech: https://www.bis.org/api/documents/review/r030131c.json\n",
      "Processing speech: https://www.bis.org/api/documents/review/r030131b.json\n"
     ]
    },
    {
     "name": "stderr",
     "output_type": "stream",
     "text": [
      " 12%|█▏        | 2400/20093 [03:34<22:32, 13.08it/s]"
     ]
    },
    {
     "name": "stdout",
     "output_type": "stream",
     "text": [
      "Processing speech: https://www.bis.org/api/documents/review/r030131a.json\n",
      "Processing speech: https://www.bis.org/api/documents/review/r030120d.json\n",
      "Processing speech: https://www.bis.org/api/documents/review/r030120c.json\n"
     ]
    },
    {
     "name": "stderr",
     "output_type": "stream",
     "text": [
      " 12%|█▏        | 2404/20093 [03:34<21:30, 13.70it/s]"
     ]
    },
    {
     "name": "stdout",
     "output_type": "stream",
     "text": [
      "Processing speech: https://www.bis.org/api/documents/review/r030120b.json\n",
      "Processing speech: https://www.bis.org/api/documents/review/r030120a.json\n",
      "Processing speech: https://www.bis.org/api/documents/review/r030116d.json\n",
      "Processing speech: https://www.bis.org/api/documents/review/r030116c.json\n"
     ]
    },
    {
     "name": "stderr",
     "output_type": "stream",
     "text": [
      " 12%|█▏        | 2408/20093 [03:35<20:53, 14.11it/s]"
     ]
    },
    {
     "name": "stdout",
     "output_type": "stream",
     "text": [
      "Processing speech: https://www.bis.org/api/documents/review/r030116b.json\n",
      "Processing speech: https://www.bis.org/api/documents/review/r030116a.json\n",
      "Processing speech: https://www.bis.org/api/documents/review/r021227f.json\n",
      "Processing speech: https://www.bis.org/api/documents/review/r021227e.json\n"
     ]
    },
    {
     "name": "stderr",
     "output_type": "stream",
     "text": [
      " 12%|█▏        | 2410/20093 [03:35<21:09, 13.93it/s]"
     ]
    },
    {
     "name": "stdout",
     "output_type": "stream",
     "text": [
      "Processing speech: https://www.bis.org/api/documents/review/r021227d.json\n"
     ]
    },
    {
     "name": "stderr",
     "output_type": "stream",
     "text": [
      " 12%|█▏        | 2412/20093 [03:35<30:59,  9.51it/s]"
     ]
    },
    {
     "name": "stdout",
     "output_type": "stream",
     "text": [
      "Processing speech: https://www.bis.org/api/documents/review/r021227c.json\n",
      "Processing speech: https://www.bis.org/api/documents/review/r021227b.json\n",
      "Processing speech: https://www.bis.org/api/documents/review/r021227a.json\n"
     ]
    },
    {
     "name": "stderr",
     "output_type": "stream",
     "text": [
      " 12%|█▏        | 2416/20093 [03:35<27:48, 10.60it/s]"
     ]
    },
    {
     "name": "stdout",
     "output_type": "stream",
     "text": [
      "Processing speech: https://www.bis.org/api/documents/review/r021220d.json\n",
      "Processing speech: https://www.bis.org/api/documents/review/r021220c.json\n"
     ]
    },
    {
     "name": "stderr",
     "output_type": "stream",
     "text": [
      " 12%|█▏        | 2418/20093 [03:36<25:50, 11.40it/s]"
     ]
    },
    {
     "name": "stdout",
     "output_type": "stream",
     "text": [
      "Processing speech: https://www.bis.org/api/documents/review/r021220b.json\n",
      "Processing speech: https://www.bis.org/api/documents/review/r021220a.json\n",
      "Processing speech: https://www.bis.org/api/documents/review/r021211g.json\n"
     ]
    },
    {
     "name": "stderr",
     "output_type": "stream",
     "text": [
      " 12%|█▏        | 2420/20093 [03:36<24:45, 11.89it/s]"
     ]
    },
    {
     "name": "stdout",
     "output_type": "stream",
     "text": [
      "Processing speech: https://www.bis.org/api/documents/review/r021211f.json\n",
      "Processing speech: https://www.bis.org/api/documents/review/r021211e.json\n",
      "Processing speech: https://www.bis.org/api/documents/review/r021211d.json\n"
     ]
    },
    {
     "name": "stderr",
     "output_type": "stream",
     "text": [
      " 12%|█▏        | 2424/20093 [03:36<23:37, 12.47it/s]"
     ]
    },
    {
     "name": "stdout",
     "output_type": "stream",
     "text": [
      "Processing speech: https://www.bis.org/api/documents/review/r021211c.json\n",
      "Processing speech: https://www.bis.org/api/documents/review/r021211b.json\n",
      "Processing speech: https://www.bis.org/api/documents/review/r021211a.json\n"
     ]
    },
    {
     "name": "stderr",
     "output_type": "stream",
     "text": [
      " 12%|█▏        | 2426/20093 [03:36<22:52, 12.87it/s]"
     ]
    },
    {
     "name": "stdout",
     "output_type": "stream",
     "text": [
      "Processing speech: https://www.bis.org/api/documents/review/r021204d.json\n",
      "Processing speech: https://www.bis.org/api/documents/review/r021204c.json\n",
      "Processing speech: https://www.bis.org/api/documents/review/r021204b.json\n"
     ]
    },
    {
     "name": "stderr",
     "output_type": "stream",
     "text": [
      " 12%|█▏        | 2430/20093 [03:36<22:54, 12.85it/s]"
     ]
    },
    {
     "name": "stdout",
     "output_type": "stream",
     "text": [
      "Processing speech: https://www.bis.org/api/documents/review/r021204a.json\n",
      "Processing speech: https://www.bis.org/api/documents/review/r021128e.json\n",
      "Processing speech: https://www.bis.org/api/documents/review/r021128d.json\n"
     ]
    },
    {
     "name": "stderr",
     "output_type": "stream",
     "text": [
      " 12%|█▏        | 2432/20093 [03:38<1:06:48,  4.41it/s]"
     ]
    },
    {
     "name": "stdout",
     "output_type": "stream",
     "text": [
      "Processing speech: https://www.bis.org/api/documents/review/r021128c.json\n",
      "Processing speech: https://www.bis.org/api/documents/review/r021128b.json\n",
      "Processing speech: https://www.bis.org/api/documents/review/r021128a.json\n"
     ]
    },
    {
     "name": "stderr",
     "output_type": "stream",
     "text": [
      " 12%|█▏        | 2436/20093 [03:38<43:58,  6.69it/s]  "
     ]
    },
    {
     "name": "stdout",
     "output_type": "stream",
     "text": [
      "Processing speech: https://www.bis.org/api/documents/review/r021127e.json\n",
      "Processing speech: https://www.bis.org/api/documents/review/r021127d.json\n",
      "Processing speech: https://www.bis.org/api/documents/review/r021127c.json\n"
     ]
    },
    {
     "name": "stderr",
     "output_type": "stream",
     "text": [
      " 12%|█▏        | 2438/20093 [03:38<37:31,  7.84it/s]"
     ]
    },
    {
     "name": "stdout",
     "output_type": "stream",
     "text": [
      "Processing speech: https://www.bis.org/api/documents/review/r021127b.json\n",
      "Processing speech: https://www.bis.org/api/documents/review/r021127a.json\n",
      "Processing speech: https://www.bis.org/api/documents/review/r021126d.json\n"
     ]
    },
    {
     "name": "stderr",
     "output_type": "stream",
     "text": [
      " 12%|█▏        | 2442/20093 [03:39<37:39,  7.81it/s]"
     ]
    },
    {
     "name": "stdout",
     "output_type": "stream",
     "text": [
      "Processing speech: https://www.bis.org/api/documents/review/r021126c.json\n",
      "Processing speech: https://www.bis.org/api/documents/review/r021126b.json\n",
      "Processing speech: https://www.bis.org/api/documents/review/r021126a.json\n"
     ]
    },
    {
     "name": "stderr",
     "output_type": "stream",
     "text": [
      " 12%|█▏        | 2444/20093 [03:39<32:58,  8.92it/s]"
     ]
    },
    {
     "name": "stdout",
     "output_type": "stream",
     "text": [
      "Processing speech: https://www.bis.org/api/documents/review/r021122e.json\n",
      "Processing speech: https://www.bis.org/api/documents/review/r021122d.json\n",
      "Processing speech: https://www.bis.org/api/documents/review/r021122c.json\n"
     ]
    },
    {
     "name": "stderr",
     "output_type": "stream",
     "text": [
      " 12%|█▏        | 2448/20093 [03:39<28:43, 10.24it/s]"
     ]
    },
    {
     "name": "stdout",
     "output_type": "stream",
     "text": [
      "Processing speech: https://www.bis.org/api/documents/review/r021122b.json\n",
      "Processing speech: https://www.bis.org/api/documents/review/r021122a.json\n",
      "Processing speech: https://www.bis.org/api/documents/review/r021120d.json\n"
     ]
    },
    {
     "name": "stderr",
     "output_type": "stream",
     "text": [
      " 12%|█▏        | 2450/20093 [03:39<26:26, 11.12it/s]"
     ]
    },
    {
     "name": "stdout",
     "output_type": "stream",
     "text": [
      "Processing speech: https://www.bis.org/api/documents/review/r021120c.json\n",
      "Processing speech: https://www.bis.org/api/documents/review/r021120b.json\n",
      "Processing speech: https://www.bis.org/api/documents/review/r021120a.json\n"
     ]
    },
    {
     "name": "stderr",
     "output_type": "stream",
     "text": [
      " 12%|█▏        | 2454/20093 [03:40<24:23, 12.05it/s]"
     ]
    },
    {
     "name": "stdout",
     "output_type": "stream",
     "text": [
      "Processing speech: https://www.bis.org/api/documents/review/r021119d.json\n",
      "Processing speech: https://www.bis.org/api/documents/review/r021119c.json\n",
      "Processing speech: https://www.bis.org/api/documents/review/r021119b.json\n",
      "Processing speech: https://www.bis.org/api/documents/review/r021119a.json\n"
     ]
    },
    {
     "name": "stderr",
     "output_type": "stream",
     "text": [
      " 12%|█▏        | 2458/20093 [03:40<33:33,  8.76it/s]"
     ]
    },
    {
     "name": "stdout",
     "output_type": "stream",
     "text": [
      "Processing speech: https://www.bis.org/api/documents/review/r021115h.json\n",
      "Processing speech: https://www.bis.org/api/documents/review/r021115g.json\n",
      "Processing speech: https://www.bis.org/api/documents/review/r021115f.json\n"
     ]
    },
    {
     "name": "stderr",
     "output_type": "stream",
     "text": [
      " 12%|█▏        | 2460/20093 [03:40<30:37,  9.60it/s]"
     ]
    },
    {
     "name": "stdout",
     "output_type": "stream",
     "text": [
      "Processing speech: https://www.bis.org/api/documents/review/r021115e.json\n",
      "Processing speech: https://www.bis.org/api/documents/review/r021115d.json\n",
      "Processing speech: https://www.bis.org/api/documents/review/r021115c.json\n"
     ]
    },
    {
     "name": "stderr",
     "output_type": "stream",
     "text": [
      " 12%|█▏        | 2464/20093 [03:41<25:47, 11.40it/s]"
     ]
    },
    {
     "name": "stdout",
     "output_type": "stream",
     "text": [
      "Processing speech: https://www.bis.org/api/documents/review/r021115b.json\n",
      "Processing speech: https://www.bis.org/api/documents/review/r021115a.json\n",
      "Processing speech: https://www.bis.org/api/documents/review/r021114g.json\n"
     ]
    },
    {
     "name": "stderr",
     "output_type": "stream",
     "text": [
      " 12%|█▏        | 2466/20093 [03:41<24:53, 11.80it/s]"
     ]
    },
    {
     "name": "stdout",
     "output_type": "stream",
     "text": [
      "Processing speech: https://www.bis.org/api/documents/review/r021114f.json\n",
      "Processing speech: https://www.bis.org/api/documents/review/r021114e.json\n",
      "Processing speech: https://www.bis.org/api/documents/review/r021114d.json\n"
     ]
    },
    {
     "name": "stderr",
     "output_type": "stream",
     "text": [
      " 12%|█▏        | 2470/20093 [03:41<24:24, 12.04it/s]"
     ]
    },
    {
     "name": "stdout",
     "output_type": "stream",
     "text": [
      "Processing speech: https://www.bis.org/api/documents/review/r021114c.json\n",
      "Processing speech: https://www.bis.org/api/documents/review/r021114b.json\n",
      "Processing speech: https://www.bis.org/api/documents/review/r021114a.json\n"
     ]
    },
    {
     "name": "stderr",
     "output_type": "stream",
     "text": [
      " 12%|█▏        | 2472/20093 [03:41<23:45, 12.36it/s]"
     ]
    },
    {
     "name": "stdout",
     "output_type": "stream",
     "text": [
      "Processing speech: https://www.bis.org/api/documents/review/r021101e.json\n",
      "Processing speech: https://www.bis.org/api/documents/review/r021101d.json\n",
      "Processing speech: https://www.bis.org/api/documents/review/r021101c.json\n"
     ]
    },
    {
     "name": "stderr",
     "output_type": "stream",
     "text": [
      " 12%|█▏        | 2476/20093 [03:42<21:56, 13.38it/s]"
     ]
    },
    {
     "name": "stdout",
     "output_type": "stream",
     "text": [
      "Processing speech: https://www.bis.org/api/documents/review/r021101b.json\n",
      "Processing speech: https://www.bis.org/api/documents/review/r021101a.json\n",
      "Processing speech: https://www.bis.org/api/documents/review/r021028e.json\n",
      "Processing speech: https://www.bis.org/api/documents/review/r021028d.json\n"
     ]
    },
    {
     "name": "stderr",
     "output_type": "stream",
     "text": [
      " 12%|█▏        | 2480/20093 [03:42<21:03, 13.94it/s]"
     ]
    },
    {
     "name": "stdout",
     "output_type": "stream",
     "text": [
      "Processing speech: https://www.bis.org/api/documents/review/r021028c.json\n",
      "Processing speech: https://www.bis.org/api/documents/review/r021028b.json\n",
      "Processing speech: https://www.bis.org/api/documents/review/r021028a.json\n"
     ]
    },
    {
     "name": "stderr",
     "output_type": "stream",
     "text": [
      " 12%|█▏        | 2482/20093 [03:42<20:26, 14.36it/s]"
     ]
    },
    {
     "name": "stdout",
     "output_type": "stream",
     "text": [
      "Processing speech: https://www.bis.org/api/documents/review/r021025f.json\n",
      "Processing speech: https://www.bis.org/api/documents/review/r021025e.json\n"
     ]
    },
    {
     "name": "stderr",
     "output_type": "stream",
     "text": [
      " 12%|█▏        | 2484/20093 [03:42<30:39,  9.57it/s]"
     ]
    },
    {
     "name": "stdout",
     "output_type": "stream",
     "text": [
      "Processing speech: https://www.bis.org/api/documents/review/r021025d.json\n",
      "Processing speech: https://www.bis.org/api/documents/review/r021025c.json\n",
      "Processing speech: https://www.bis.org/api/documents/review/r021025b.json\n"
     ]
    },
    {
     "name": "stderr",
     "output_type": "stream",
     "text": [
      " 12%|█▏        | 2488/20093 [03:43<25:07, 11.68it/s]"
     ]
    },
    {
     "name": "stdout",
     "output_type": "stream",
     "text": [
      "Processing speech: https://www.bis.org/api/documents/review/r021025a.json\n",
      "Processing speech: https://www.bis.org/api/documents/review/r021018e.json\n",
      "Processing speech: https://www.bis.org/api/documents/review/r021018d.json\n",
      "Processing speech: https://www.bis.org/api/documents/review/r021018c.json\n"
     ]
    },
    {
     "name": "stderr",
     "output_type": "stream",
     "text": [
      " 12%|█▏        | 2492/20093 [03:43<22:36, 12.98it/s]"
     ]
    },
    {
     "name": "stdout",
     "output_type": "stream",
     "text": [
      "Processing speech: https://www.bis.org/api/documents/review/r021018b.json\n",
      "Processing speech: https://www.bis.org/api/documents/review/r021018a.json\n",
      "Processing speech: https://www.bis.org/api/documents/review/r021016e.json\n",
      "Processing speech: https://www.bis.org/api/documents/review/r021016d.json\n"
     ]
    },
    {
     "name": "stderr",
     "output_type": "stream",
     "text": [
      " 12%|█▏        | 2496/20093 [03:43<21:16, 13.79it/s]"
     ]
    },
    {
     "name": "stdout",
     "output_type": "stream",
     "text": [
      "Processing speech: https://www.bis.org/api/documents/review/r021016c.json\n",
      "Processing speech: https://www.bis.org/api/documents/review/r021016b.json\n",
      "Processing speech: https://www.bis.org/api/documents/review/r021016a.json\n"
     ]
    },
    {
     "name": "stderr",
     "output_type": "stream",
     "text": [
      " 12%|█▏        | 2498/20093 [03:43<20:59, 13.97it/s]"
     ]
    },
    {
     "name": "stdout",
     "output_type": "stream",
     "text": [
      "Processing speech: https://www.bis.org/api/documents/review/r021011d.json\n",
      "Processing speech: https://www.bis.org/api/documents/review/r021011b.json\n",
      "Processing speech: https://www.bis.org/api/documents/review/r021011a.json\n"
     ]
    },
    {
     "name": "stderr",
     "output_type": "stream",
     "text": [
      " 12%|█▏        | 2502/20093 [03:44<22:12, 13.20it/s]"
     ]
    },
    {
     "name": "stdout",
     "output_type": "stream",
     "text": [
      "Processing speech: https://www.bis.org/api/documents/review/r021009e.json\n",
      "Processing speech: https://www.bis.org/api/documents/review/r021009d.json\n",
      "Processing speech: https://www.bis.org/api/documents/review/r021009c.json\n"
     ]
    },
    {
     "name": "stderr",
     "output_type": "stream",
     "text": [
      " 12%|█▏        | 2504/20093 [03:45<1:08:23,  4.29it/s]"
     ]
    },
    {
     "name": "stdout",
     "output_type": "stream",
     "text": [
      "Processing speech: https://www.bis.org/api/documents/review/r021009b.json\n",
      "Processing speech: https://www.bis.org/api/documents/review/r021009a.json\n",
      "Processing speech: https://www.bis.org/api/documents/review/r020930d.json\n"
     ]
    },
    {
     "name": "stderr",
     "output_type": "stream",
     "text": [
      " 12%|█▏        | 2508/20093 [03:45<43:50,  6.69it/s]  "
     ]
    },
    {
     "name": "stdout",
     "output_type": "stream",
     "text": [
      "Processing speech: https://www.bis.org/api/documents/review/r020930c.json\n",
      "Processing speech: https://www.bis.org/api/documents/review/r020930b.json\n",
      "Processing speech: https://www.bis.org/api/documents/review/r020930a.json\n",
      "Processing speech: https://www.bis.org/api/documents/review/r020925e.json\n"
     ]
    },
    {
     "name": "stderr",
     "output_type": "stream",
     "text": [
      " 13%|█▎        | 2512/20093 [03:45<32:32,  9.01it/s]"
     ]
    },
    {
     "name": "stdout",
     "output_type": "stream",
     "text": [
      "Processing speech: https://www.bis.org/api/documents/review/r020925d.json\n",
      "Processing speech: https://www.bis.org/api/documents/review/r020925c.json\n",
      "Processing speech: https://www.bis.org/api/documents/review/r020925b.json\n"
     ]
    },
    {
     "name": "stderr",
     "output_type": "stream",
     "text": [
      " 13%|█▎        | 2516/20093 [03:46<26:03, 11.24it/s]"
     ]
    },
    {
     "name": "stdout",
     "output_type": "stream",
     "text": [
      "Processing speech: https://www.bis.org/api/documents/review/r020925a.json\n",
      "Processing speech: https://www.bis.org/api/documents/review/r020923f.json\n",
      "Processing speech: https://www.bis.org/api/documents/review/r020923e.json\n"
     ]
    },
    {
     "name": "stderr",
     "output_type": "stream",
     "text": [
      " 13%|█▎        | 2518/20093 [03:46<24:37, 11.89it/s]"
     ]
    },
    {
     "name": "stdout",
     "output_type": "stream",
     "text": [
      "Processing speech: https://www.bis.org/api/documents/review/r020923d.json\n",
      "Processing speech: https://www.bis.org/api/documents/review/r020923c.json\n",
      "Processing speech: https://www.bis.org/api/documents/review/r020923b.json\n"
     ]
    },
    {
     "name": "stderr",
     "output_type": "stream",
     "text": [
      " 13%|█▎        | 2520/20093 [03:46<24:05, 12.15it/s]"
     ]
    },
    {
     "name": "stdout",
     "output_type": "stream",
     "text": [
      "Processing speech: https://www.bis.org/api/documents/review/r020923a.json\n",
      "Processing speech: https://www.bis.org/api/documents/review/r020920e.json\n",
      "Processing speech: https://www.bis.org/api/documents/review/r020920d.json\n"
     ]
    },
    {
     "name": "stderr",
     "output_type": "stream",
     "text": [
      " 13%|█▎        | 2524/20093 [03:46<22:58, 12.75it/s]"
     ]
    },
    {
     "name": "stdout",
     "output_type": "stream",
     "text": [
      "Processing speech: https://www.bis.org/api/documents/review/r020920c.json\n",
      "Processing speech: https://www.bis.org/api/documents/review/r020920b.json\n",
      "Processing speech: https://www.bis.org/api/documents/review/r020920a.json\n"
     ]
    },
    {
     "name": "stderr",
     "output_type": "stream",
     "text": [
      " 13%|█▎        | 2526/20093 [03:46<24:36, 11.90it/s]"
     ]
    },
    {
     "name": "stdout",
     "output_type": "stream",
     "text": [
      "Processing speech: https://www.bis.org/api/documents/review/r020919f.json\n",
      "Processing speech: https://www.bis.org/api/documents/review/r020919e.json\n",
      "Processing speech: https://www.bis.org/api/documents/review/r020919d.json\n"
     ]
    },
    {
     "name": "stderr",
     "output_type": "stream",
     "text": [
      " 13%|█▎        | 2530/20093 [03:47<21:46, 13.45it/s]"
     ]
    },
    {
     "name": "stdout",
     "output_type": "stream",
     "text": [
      "Processing speech: https://www.bis.org/api/documents/review/r020919c.json\n",
      "Processing speech: https://www.bis.org/api/documents/review/r020919b.json\n",
      "Processing speech: https://www.bis.org/api/documents/review/r020919a.json\n"
     ]
    },
    {
     "name": "stderr",
     "output_type": "stream",
     "text": [
      " 13%|█▎        | 2532/20093 [03:47<20:59, 13.94it/s]"
     ]
    },
    {
     "name": "stdout",
     "output_type": "stream",
     "text": [
      "Processing speech: https://www.bis.org/api/documents/review/r020913d.json\n",
      "Processing speech: https://www.bis.org/api/documents/review/r020913c.json\n",
      "Processing speech: https://www.bis.org/api/documents/review/r020913b.json\n"
     ]
    },
    {
     "name": "stderr",
     "output_type": "stream",
     "text": [
      " 13%|█▎        | 2536/20093 [03:47<20:52, 14.02it/s]"
     ]
    },
    {
     "name": "stdout",
     "output_type": "stream",
     "text": [
      "Processing speech: https://www.bis.org/api/documents/review/r020913a.json\n",
      "Processing speech: https://www.bis.org/api/documents/review/r020910c.json\n",
      "Processing speech: https://www.bis.org/api/documents/review/r020910b.json\n",
      "Processing speech: https://www.bis.org/api/documents/review/r020910a.json\n"
     ]
    },
    {
     "name": "stderr",
     "output_type": "stream",
     "text": [
      " 13%|█▎        | 2540/20093 [03:47<21:17, 13.74it/s]"
     ]
    },
    {
     "name": "stdout",
     "output_type": "stream",
     "text": [
      "Processing speech: https://www.bis.org/api/documents/review/r020905e.json\n",
      "Processing speech: https://www.bis.org/api/documents/review/r020905d.json\n",
      "Processing speech: https://www.bis.org/api/documents/review/r020905c.json\n"
     ]
    },
    {
     "name": "stderr",
     "output_type": "stream",
     "text": [
      " 13%|█▎        | 2542/20093 [03:48<21:13, 13.78it/s]"
     ]
    },
    {
     "name": "stdout",
     "output_type": "stream",
     "text": [
      "Processing speech: https://www.bis.org/api/documents/review/r020905b.json\n",
      "Processing speech: https://www.bis.org/api/documents/review/r020905a.json\n",
      "Processing speech: https://www.bis.org/api/documents/review/r020826d.json\n"
     ]
    },
    {
     "name": "stderr",
     "output_type": "stream",
     "text": [
      " 13%|█▎        | 2546/20093 [03:48<20:52, 14.01it/s]"
     ]
    },
    {
     "name": "stdout",
     "output_type": "stream",
     "text": [
      "Processing speech: https://www.bis.org/api/documents/review/r020826c.json\n",
      "Processing speech: https://www.bis.org/api/documents/review/r020826b.json\n",
      "Processing speech: https://www.bis.org/api/documents/review/r020826a.json\n"
     ]
    },
    {
     "name": "stderr",
     "output_type": "stream",
     "text": [
      " 13%|█▎        | 2548/20093 [03:48<21:09, 13.82it/s]"
     ]
    },
    {
     "name": "stdout",
     "output_type": "stream",
     "text": [
      "Processing speech: https://www.bis.org/api/documents/review/r020812d.json\n",
      "Processing speech: https://www.bis.org/api/documents/review/r020812c.json\n",
      "Processing speech: https://www.bis.org/api/documents/review/r020812b.json\n"
     ]
    },
    {
     "name": "stderr",
     "output_type": "stream",
     "text": [
      " 13%|█▎        | 2552/20093 [03:48<21:12, 13.79it/s]"
     ]
    },
    {
     "name": "stdout",
     "output_type": "stream",
     "text": [
      "Processing speech: https://www.bis.org/api/documents/review/r020812a.json\n",
      "Processing speech: https://www.bis.org/api/documents/review/r020725e.json\n",
      "Processing speech: https://www.bis.org/api/documents/review/r020725d.json\n"
     ]
    },
    {
     "name": "stderr",
     "output_type": "stream",
     "text": [
      " 13%|█▎        | 2554/20093 [03:48<20:43, 14.10it/s]"
     ]
    },
    {
     "name": "stdout",
     "output_type": "stream",
     "text": [
      "Processing speech: https://www.bis.org/api/documents/review/r020725c.json\n",
      "Processing speech: https://www.bis.org/api/documents/review/r020725b.json\n",
      "Processing speech: https://www.bis.org/api/documents/review/r020725a.json\n"
     ]
    },
    {
     "name": "stderr",
     "output_type": "stream",
     "text": [
      " 13%|█▎        | 2558/20093 [03:49<20:48, 14.04it/s]"
     ]
    },
    {
     "name": "stdout",
     "output_type": "stream",
     "text": [
      "Processing speech: https://www.bis.org/api/documents/review/r020717f.json\n",
      "Processing speech: https://www.bis.org/api/documents/review/r020717e.json\n",
      "Processing speech: https://www.bis.org/api/documents/review/r020717d.json\n"
     ]
    },
    {
     "name": "stderr",
     "output_type": "stream",
     "text": [
      " 13%|█▎        | 2560/20093 [03:49<21:55, 13.33it/s]"
     ]
    },
    {
     "name": "stdout",
     "output_type": "stream",
     "text": [
      "Processing speech: https://www.bis.org/api/documents/review/r020717c.json\n",
      "Processing speech: https://www.bis.org/api/documents/review/r020717b.json\n"
     ]
    },
    {
     "name": "stderr",
     "output_type": "stream",
     "text": [
      " 13%|█▎        | 2562/20093 [03:49<23:30, 12.43it/s]"
     ]
    },
    {
     "name": "stdout",
     "output_type": "stream",
     "text": [
      "Processing speech: https://www.bis.org/api/documents/review/r020717a.json\n",
      "Processing speech: https://www.bis.org/api/documents/review/r020710d.json\n",
      "Processing speech: https://www.bis.org/api/documents/review/r020710c.json\n"
     ]
    },
    {
     "name": "stderr",
     "output_type": "stream",
     "text": [
      " 13%|█▎        | 2566/20093 [03:49<21:29, 13.60it/s]"
     ]
    },
    {
     "name": "stdout",
     "output_type": "stream",
     "text": [
      "Processing speech: https://www.bis.org/api/documents/review/r020710b.json\n",
      "Processing speech: https://www.bis.org/api/documents/review/r020710a.json\n",
      "Processing speech: https://www.bis.org/api/documents/review/r020704d.json\n"
     ]
    },
    {
     "name": "stderr",
     "output_type": "stream",
     "text": [
      " 13%|█▎        | 2568/20093 [03:49<21:11, 13.79it/s]"
     ]
    },
    {
     "name": "stdout",
     "output_type": "stream",
     "text": [
      "Processing speech: https://www.bis.org/api/documents/review/r020704c.json\n",
      "Processing speech: https://www.bis.org/api/documents/review/r020704b.json\n",
      "Processing speech: https://www.bis.org/api/documents/review/r020704a.json\n"
     ]
    },
    {
     "name": "stderr",
     "output_type": "stream",
     "text": [
      " 13%|█▎        | 2572/20093 [03:50<20:45, 14.07it/s]"
     ]
    },
    {
     "name": "stdout",
     "output_type": "stream",
     "text": [
      "Processing speech: https://www.bis.org/api/documents/review/r020702d.json\n",
      "Processing speech: https://www.bis.org/api/documents/review/r020702c.json\n",
      "Processing speech: https://www.bis.org/api/documents/review/r020702b.json\n"
     ]
    },
    {
     "name": "stderr",
     "output_type": "stream",
     "text": [
      " 13%|█▎        | 2574/20093 [03:50<20:21, 14.34it/s]"
     ]
    },
    {
     "name": "stdout",
     "output_type": "stream",
     "text": [
      "Processing speech: https://www.bis.org/api/documents/review/r020702a.json\n",
      "Processing speech: https://www.bis.org/api/documents/review/r020624e.json\n",
      "Processing speech: https://www.bis.org/api/documents/review/r020624d.json\n"
     ]
    },
    {
     "name": "stderr",
     "output_type": "stream",
     "text": [
      " 13%|█▎        | 2578/20093 [03:50<20:11, 14.46it/s]"
     ]
    },
    {
     "name": "stdout",
     "output_type": "stream",
     "text": [
      "Processing speech: https://www.bis.org/api/documents/review/r020624c.json\n",
      "Processing speech: https://www.bis.org/api/documents/review/r020624b.json\n",
      "Processing speech: https://www.bis.org/api/documents/review/r020624a.json\n",
      "Processing speech: https://www.bis.org/api/documents/review/r020620d.json\n"
     ]
    },
    {
     "name": "stderr",
     "output_type": "stream",
     "text": [
      " 13%|█▎        | 2580/20093 [03:50<20:09, 14.48it/s]"
     ]
    },
    {
     "name": "stdout",
     "output_type": "stream",
     "text": [
      "Processing speech: https://www.bis.org/api/documents/review/r020620c.json\n"
     ]
    },
    {
     "name": "stderr",
     "output_type": "stream",
     "text": [
      " 13%|█▎        | 2582/20093 [03:51<1:05:59,  4.42it/s]"
     ]
    },
    {
     "name": "stdout",
     "output_type": "stream",
     "text": [
      "Processing speech: https://www.bis.org/api/documents/review/r020620b.json\n",
      "Processing speech: https://www.bis.org/api/documents/review/r020620a.json\n",
      "Processing speech: https://www.bis.org/api/documents/review/r020617e.json\n"
     ]
    },
    {
     "name": "stderr",
     "output_type": "stream",
     "text": [
      " 13%|█▎        | 2586/20093 [03:52<42:10,  6.92it/s]  "
     ]
    },
    {
     "name": "stdout",
     "output_type": "stream",
     "text": [
      "Processing speech: https://www.bis.org/api/documents/review/r020617d.json\n",
      "Processing speech: https://www.bis.org/api/documents/review/r020617c.json\n",
      "Processing speech: https://www.bis.org/api/documents/review/r020617b.json\n"
     ]
    },
    {
     "name": "stderr",
     "output_type": "stream",
     "text": [
      " 13%|█▎        | 2588/20093 [03:52<36:38,  7.96it/s]"
     ]
    },
    {
     "name": "stdout",
     "output_type": "stream",
     "text": [
      "Processing speech: https://www.bis.org/api/documents/review/r020617a.json\n",
      "Processing speech: https://www.bis.org/api/documents/review/r020612f.json\n"
     ]
    },
    {
     "name": "stderr",
     "output_type": "stream",
     "text": [
      " 13%|█▎        | 2592/20093 [03:52<33:37,  8.67it/s]"
     ]
    },
    {
     "name": "stdout",
     "output_type": "stream",
     "text": [
      "Processing speech: https://www.bis.org/api/documents/review/r020612e.json\n",
      "Processing speech: https://www.bis.org/api/documents/review/r020612d.json\n",
      "Processing speech: https://www.bis.org/api/documents/review/r020612c.json\n"
     ]
    },
    {
     "name": "stderr",
     "output_type": "stream",
     "text": [
      " 13%|█▎        | 2594/20093 [03:53<29:31,  9.88it/s]"
     ]
    },
    {
     "name": "stdout",
     "output_type": "stream",
     "text": [
      "Processing speech: https://www.bis.org/api/documents/review/r020612b.json\n",
      "Processing speech: https://www.bis.org/api/documents/review/r020612a.json\n",
      "Processing speech: https://www.bis.org/api/documents/review/r020531d.json\n",
      "Processing speech: https://www.bis.org/api/documents/review/r020531c.json\n"
     ]
    },
    {
     "name": "stderr",
     "output_type": "stream",
     "text": [
      " 13%|█▎        | 2598/20093 [03:53<24:41, 11.81it/s]"
     ]
    },
    {
     "name": "stdout",
     "output_type": "stream",
     "text": [
      "Processing speech: https://www.bis.org/api/documents/review/r020531b.json\n",
      "Processing speech: https://www.bis.org/api/documents/review/r020531a.json\n",
      "Processing speech: https://www.bis.org/api/documents/review/r020529c.json\n"
     ]
    },
    {
     "name": "stderr",
     "output_type": "stream",
     "text": [
      " 13%|█▎        | 2600/20093 [03:53<23:22, 12.48it/s]"
     ]
    },
    {
     "name": "stdout",
     "output_type": "stream",
     "text": [
      "Processing speech: https://www.bis.org/api/documents/review/r020529b.json\n",
      "Processing speech: https://www.bis.org/api/documents/review/r020529a.json\n",
      "Processing speech: https://www.bis.org/api/documents/review/r020528e.json\n"
     ]
    },
    {
     "name": "stderr",
     "output_type": "stream",
     "text": [
      " 13%|█▎        | 2604/20093 [03:53<22:18, 13.07it/s]"
     ]
    },
    {
     "name": "stdout",
     "output_type": "stream",
     "text": [
      "Processing speech: https://www.bis.org/api/documents/review/r020528d.json\n",
      "Processing speech: https://www.bis.org/api/documents/review/r020528c.json\n",
      "Processing speech: https://www.bis.org/api/documents/review/r020528b.json\n"
     ]
    },
    {
     "name": "stderr",
     "output_type": "stream",
     "text": [
      " 13%|█▎        | 2606/20093 [03:53<22:00, 13.24it/s]"
     ]
    },
    {
     "name": "stdout",
     "output_type": "stream",
     "text": [
      "Processing speech: https://www.bis.org/api/documents/review/r020528a.json\n",
      "Processing speech: https://www.bis.org/api/documents/review/r020522f.json\n",
      "Processing speech: https://www.bis.org/api/documents/review/r020522e.json\n"
     ]
    },
    {
     "name": "stderr",
     "output_type": "stream",
     "text": [
      " 13%|█▎        | 2610/20093 [03:54<21:44, 13.41it/s]"
     ]
    },
    {
     "name": "stdout",
     "output_type": "stream",
     "text": [
      "Processing speech: https://www.bis.org/api/documents/review/r020522d.json\n",
      "Processing speech: https://www.bis.org/api/documents/review/r020522c.json\n",
      "Processing speech: https://www.bis.org/api/documents/review/r020522b.json\n"
     ]
    },
    {
     "name": "stderr",
     "output_type": "stream",
     "text": [
      " 13%|█▎        | 2612/20093 [03:54<21:35, 13.49it/s]"
     ]
    },
    {
     "name": "stdout",
     "output_type": "stream",
     "text": [
      "Processing speech: https://www.bis.org/api/documents/review/r020522a.json\n",
      "Processing speech: https://www.bis.org/api/documents/review/r020515f.json\n",
      "Processing speech: https://www.bis.org/api/documents/review/r020515e.json\n"
     ]
    },
    {
     "name": "stderr",
     "output_type": "stream",
     "text": [
      " 13%|█▎        | 2616/20093 [03:54<20:38, 14.11it/s]"
     ]
    },
    {
     "name": "stdout",
     "output_type": "stream",
     "text": [
      "Processing speech: https://www.bis.org/api/documents/review/r020515d.json\n",
      "Processing speech: https://www.bis.org/api/documents/review/r020515c.json\n",
      "Processing speech: https://www.bis.org/api/documents/review/r020515b.json\n"
     ]
    },
    {
     "name": "stderr",
     "output_type": "stream",
     "text": [
      " 13%|█▎        | 2618/20093 [03:54<20:57, 13.90it/s]"
     ]
    },
    {
     "name": "stdout",
     "output_type": "stream",
     "text": [
      "Processing speech: https://www.bis.org/api/documents/review/r020515a.json\n",
      "Processing speech: https://www.bis.org/api/documents/review/r020510f.json\n",
      "Processing speech: https://www.bis.org/api/documents/review/r020510e.json\n"
     ]
    },
    {
     "name": "stderr",
     "output_type": "stream",
     "text": [
      " 13%|█▎        | 2622/20093 [03:54<20:36, 14.13it/s]"
     ]
    },
    {
     "name": "stdout",
     "output_type": "stream",
     "text": [
      "Processing speech: https://www.bis.org/api/documents/review/r020510d.json\n",
      "Processing speech: https://www.bis.org/api/documents/review/r020510c.json\n",
      "Processing speech: https://www.bis.org/api/documents/review/r020510b.json\n"
     ]
    },
    {
     "name": "stderr",
     "output_type": "stream",
     "text": [
      " 13%|█▎        | 2624/20093 [03:55<20:36, 14.13it/s]"
     ]
    },
    {
     "name": "stdout",
     "output_type": "stream",
     "text": [
      "Processing speech: https://www.bis.org/api/documents/review/r020510a.json\n",
      "Processing speech: https://www.bis.org/api/documents/review/r020508f.json\n",
      "Processing speech: https://www.bis.org/api/documents/review/r020508e.json\n"
     ]
    },
    {
     "name": "stderr",
     "output_type": "stream",
     "text": [
      " 13%|█▎        | 2628/20093 [03:55<20:41, 14.07it/s]"
     ]
    },
    {
     "name": "stdout",
     "output_type": "stream",
     "text": [
      "Processing speech: https://www.bis.org/api/documents/review/r020508d.json\n",
      "Processing speech: https://www.bis.org/api/documents/review/r020508c.json\n",
      "Processing speech: https://www.bis.org/api/documents/review/r020508b.json\n"
     ]
    },
    {
     "name": "stderr",
     "output_type": "stream",
     "text": [
      " 13%|█▎        | 2630/20093 [03:55<22:09, 13.13it/s]"
     ]
    },
    {
     "name": "stdout",
     "output_type": "stream",
     "text": [
      "Processing speech: https://www.bis.org/api/documents/review/r020508a.json\n",
      "Processing speech: https://www.bis.org/api/documents/review/r020426b.json\n",
      "Processing speech: https://www.bis.org/api/documents/review/r020426a.json\n"
     ]
    },
    {
     "name": "stderr",
     "output_type": "stream",
     "text": [
      " 13%|█▎        | 2634/20093 [03:55<21:45, 13.38it/s]"
     ]
    },
    {
     "name": "stdout",
     "output_type": "stream",
     "text": [
      "Processing speech: https://www.bis.org/api/documents/review/r020425d.json\n",
      "Processing speech: https://www.bis.org/api/documents/review/r020425b.json\n",
      "Processing speech: https://www.bis.org/api/documents/review/r020425a.json\n"
     ]
    },
    {
     "name": "stderr",
     "output_type": "stream",
     "text": [
      " 13%|█▎        | 2636/20093 [03:56<22:07, 13.15it/s]"
     ]
    },
    {
     "name": "stdout",
     "output_type": "stream",
     "text": [
      "Processing speech: https://www.bis.org/api/documents/review/r020423d.json\n",
      "Processing speech: https://www.bis.org/api/documents/review/r020423c.json\n",
      "Processing speech: https://www.bis.org/api/documents/review/r020423b.json\n"
     ]
    },
    {
     "name": "stderr",
     "output_type": "stream",
     "text": [
      " 13%|█▎        | 2640/20093 [03:56<21:37, 13.45it/s]"
     ]
    },
    {
     "name": "stdout",
     "output_type": "stream",
     "text": [
      "Processing speech: https://www.bis.org/api/documents/review/r020423a.json\n",
      "Processing speech: https://www.bis.org/api/documents/review/r020422d.json\n",
      "Processing speech: https://www.bis.org/api/documents/review/r020422c.json\n"
     ]
    },
    {
     "name": "stderr",
     "output_type": "stream",
     "text": [
      " 13%|█▎        | 2642/20093 [03:56<21:43, 13.38it/s]"
     ]
    },
    {
     "name": "stdout",
     "output_type": "stream",
     "text": [
      "Processing speech: https://www.bis.org/api/documents/review/r020422b.json\n",
      "Processing speech: https://www.bis.org/api/documents/review/r020422a.json\n",
      "Processing speech: https://www.bis.org/api/documents/review/r020418d.json\n"
     ]
    },
    {
     "name": "stderr",
     "output_type": "stream",
     "text": [
      " 13%|█▎        | 2646/20093 [03:56<21:20, 13.62it/s]"
     ]
    },
    {
     "name": "stdout",
     "output_type": "stream",
     "text": [
      "Processing speech: https://www.bis.org/api/documents/review/r020418c.json\n",
      "Processing speech: https://www.bis.org/api/documents/review/r020418b.json\n",
      "Processing speech: https://www.bis.org/api/documents/review/r020418a.json\n"
     ]
    },
    {
     "name": "stderr",
     "output_type": "stream",
     "text": [
      " 13%|█▎        | 2648/20093 [03:56<22:05, 13.16it/s]"
     ]
    },
    {
     "name": "stdout",
     "output_type": "stream",
     "text": [
      "Processing speech: https://www.bis.org/api/documents/review/r020412d.json\n",
      "Processing speech: https://www.bis.org/api/documents/review/r020412c.json\n",
      "Processing speech: https://www.bis.org/api/documents/review/r020412a.json\n"
     ]
    },
    {
     "name": "stderr",
     "output_type": "stream",
     "text": [
      " 13%|█▎        | 2652/20093 [03:57<21:18, 13.64it/s]"
     ]
    },
    {
     "name": "stdout",
     "output_type": "stream",
     "text": [
      "Processing speech: https://www.bis.org/api/documents/review/r020405d.json\n",
      "Processing speech: https://www.bis.org/api/documents/review/r020405c.json\n",
      "Processing speech: https://www.bis.org/api/documents/review/r020405b.json\n"
     ]
    },
    {
     "name": "stderr",
     "output_type": "stream",
     "text": [
      " 13%|█▎        | 2654/20093 [03:57<21:26, 13.56it/s]"
     ]
    },
    {
     "name": "stdout",
     "output_type": "stream",
     "text": [
      "Processing speech: https://www.bis.org/api/documents/review/r020405a.json\n",
      "Processing speech: https://www.bis.org/api/documents/review/r020326d.json\n",
      "Processing speech: https://www.bis.org/api/documents/review/r020326b.json\n"
     ]
    },
    {
     "name": "stderr",
     "output_type": "stream",
     "text": [
      " 13%|█▎        | 2658/20093 [03:57<22:23, 12.98it/s]"
     ]
    },
    {
     "name": "stdout",
     "output_type": "stream",
     "text": [
      "Processing speech: https://www.bis.org/api/documents/review/r020326a.json\n",
      "Processing speech: https://www.bis.org/api/documents/review/r020322e.json\n",
      "Processing speech: https://www.bis.org/api/documents/review/r020322d.json\n"
     ]
    },
    {
     "name": "stderr",
     "output_type": "stream",
     "text": [
      " 13%|█▎        | 2660/20093 [03:57<22:07, 13.13it/s]"
     ]
    },
    {
     "name": "stdout",
     "output_type": "stream",
     "text": [
      "Processing speech: https://www.bis.org/api/documents/review/r020322c.json\n",
      "Processing speech: https://www.bis.org/api/documents/review/r020322b.json\n",
      "Processing speech: https://www.bis.org/api/documents/review/r020322a.json\n"
     ]
    },
    {
     "name": "stderr",
     "output_type": "stream",
     "text": [
      " 13%|█▎        | 2664/20093 [03:59<1:01:52,  4.69it/s]"
     ]
    },
    {
     "name": "stdout",
     "output_type": "stream",
     "text": [
      "Processing speech: https://www.bis.org/api/documents/review/r020319d.json\n",
      "Processing speech: https://www.bis.org/api/documents/review/r020319c.json\n",
      "Processing speech: https://www.bis.org/api/documents/review/r020319b.json\n"
     ]
    },
    {
     "name": "stderr",
     "output_type": "stream",
     "text": [
      " 13%|█▎        | 2666/20093 [03:59<49:49,  5.83it/s]  "
     ]
    },
    {
     "name": "stdout",
     "output_type": "stream",
     "text": [
      "Processing speech: https://www.bis.org/api/documents/review/r020319a.json\n",
      "Processing speech: https://www.bis.org/api/documents/review/r020318e.json\n",
      "Processing speech: https://www.bis.org/api/documents/review/r020318d.json\n"
     ]
    },
    {
     "name": "stderr",
     "output_type": "stream",
     "text": [
      " 13%|█▎        | 2668/20093 [03:59<41:34,  6.99it/s]"
     ]
    },
    {
     "name": "stdout",
     "output_type": "stream",
     "text": [
      "Processing speech: https://www.bis.org/api/documents/review/r020318c.json\n"
     ]
    },
    {
     "name": "stderr",
     "output_type": "stream",
     "text": [
      " 13%|█▎        | 2670/20093 [04:00<45:56,  6.32it/s]"
     ]
    },
    {
     "name": "stdout",
     "output_type": "stream",
     "text": [
      "Processing speech: https://www.bis.org/api/documents/review/r020318b.json\n",
      "Processing speech: https://www.bis.org/api/documents/review/r020318a.json\n",
      "Processing speech: https://www.bis.org/api/documents/review/r020315c.json\n"
     ]
    },
    {
     "name": "stderr",
     "output_type": "stream",
     "text": [
      " 13%|█▎        | 2674/20093 [04:00<33:51,  8.57it/s]"
     ]
    },
    {
     "name": "stdout",
     "output_type": "stream",
     "text": [
      "Processing speech: https://www.bis.org/api/documents/review/r020315b.json\n",
      "Processing speech: https://www.bis.org/api/documents/review/r020315a.json\n",
      "Processing speech: https://www.bis.org/api/documents/review/r020314c.json\n"
     ]
    },
    {
     "name": "stderr",
     "output_type": "stream",
     "text": [
      " 13%|█▎        | 2678/20093 [04:00<26:47, 10.83it/s]"
     ]
    },
    {
     "name": "stdout",
     "output_type": "stream",
     "text": [
      "Processing speech: https://www.bis.org/api/documents/review/r020314b.json\n",
      "Processing speech: https://www.bis.org/api/documents/review/r020314a.json\n",
      "Processing speech: https://www.bis.org/api/documents/review/r020308f.json\n"
     ]
    },
    {
     "name": "stderr",
     "output_type": "stream",
     "text": [
      " 13%|█▎        | 2680/20093 [04:00<26:08, 11.10it/s]"
     ]
    },
    {
     "name": "stdout",
     "output_type": "stream",
     "text": [
      "Processing speech: https://www.bis.org/api/documents/review/r020308e.json\n",
      "Processing speech: https://www.bis.org/api/documents/review/r020308d.json\n",
      "Processing speech: https://www.bis.org/api/documents/review/r020308c.json\n"
     ]
    },
    {
     "name": "stderr",
     "output_type": "stream",
     "text": [
      " 13%|█▎        | 2682/20093 [04:01<24:20, 11.92it/s]"
     ]
    },
    {
     "name": "stdout",
     "output_type": "stream",
     "text": [
      "Processing speech: https://www.bis.org/api/documents/review/r020308b.json\n",
      "Processing speech: https://www.bis.org/api/documents/review/r020308a.json\n",
      "Processing speech: https://www.bis.org/api/documents/review/r020227d.json\n"
     ]
    },
    {
     "name": "stderr",
     "output_type": "stream",
     "text": [
      " 13%|█▎        | 2684/20093 [04:01<23:51, 12.16it/s]"
     ]
    },
    {
     "name": "stdout",
     "output_type": "stream",
     "text": [
      "Processing speech: https://www.bis.org/api/documents/review/r020227c.json\n",
      "Processing speech: https://www.bis.org/api/documents/review/r020227b.json\n"
     ]
    },
    {
     "name": "stderr",
     "output_type": "stream",
     "text": [
      " 13%|█▎        | 2688/20093 [04:01<30:58,  9.37it/s]"
     ]
    },
    {
     "name": "stdout",
     "output_type": "stream",
     "text": [
      "Processing speech: https://www.bis.org/api/documents/review/r020227a.json\n",
      "Processing speech: https://www.bis.org/api/documents/review/r020226d.json\n",
      "Processing speech: https://www.bis.org/api/documents/review/r020226c.json\n"
     ]
    },
    {
     "name": "stderr",
     "output_type": "stream",
     "text": [
      " 13%|█▎        | 2690/20093 [04:01<29:04,  9.98it/s]"
     ]
    },
    {
     "name": "stdout",
     "output_type": "stream",
     "text": [
      "Processing speech: https://www.bis.org/api/documents/review/r020226b.json\n",
      "Processing speech: https://www.bis.org/api/documents/review/r020226a.json\n"
     ]
    },
    {
     "name": "stderr",
     "output_type": "stream",
     "text": [
      " 13%|█▎        | 2694/20093 [04:03<55:57,  5.18it/s]  "
     ]
    },
    {
     "name": "stdout",
     "output_type": "stream",
     "text": [
      "Processing speech: https://www.bis.org/api/documents/review/r020222c.json\n",
      "Processing speech: https://www.bis.org/api/documents/review/r020222b.json\n",
      "Processing speech: https://www.bis.org/api/documents/review/r020222a.json\n"
     ]
    },
    {
     "name": "stderr",
     "output_type": "stream",
     "text": [
      " 13%|█▎        | 2696/20093 [04:03<45:19,  6.40it/s]"
     ]
    },
    {
     "name": "stdout",
     "output_type": "stream",
     "text": [
      "Processing speech: https://www.bis.org/api/documents/review/r020220c.json\n",
      "Processing speech: https://www.bis.org/api/documents/review/r020220b.json\n",
      "Processing speech: https://www.bis.org/api/documents/review/r020220a.json\n"
     ]
    },
    {
     "name": "stderr",
     "output_type": "stream",
     "text": [
      " 13%|█▎        | 2698/20093 [04:03<38:34,  7.52it/s]"
     ]
    },
    {
     "name": "stdout",
     "output_type": "stream",
     "text": [
      "Processing speech: https://www.bis.org/api/documents/review/r020215d.json\n",
      "Processing speech: https://www.bis.org/api/documents/review/r020215c.json\n"
     ]
    },
    {
     "name": "stderr",
     "output_type": "stream",
     "text": [
      " 13%|█▎        | 2700/20093 [04:03<43:59,  6.59it/s]"
     ]
    },
    {
     "name": "stdout",
     "output_type": "stream",
     "text": [
      "Processing speech: https://www.bis.org/api/documents/review/r020215b.json\n",
      "Processing speech: https://www.bis.org/api/documents/review/r020215a.json\n",
      "Processing speech: https://www.bis.org/api/documents/review/r020213e.json\n"
     ]
    },
    {
     "name": "stderr",
     "output_type": "stream",
     "text": [
      " 13%|█▎        | 2704/20093 [04:04<31:59,  9.06it/s]"
     ]
    },
    {
     "name": "stdout",
     "output_type": "stream",
     "text": [
      "Processing speech: https://www.bis.org/api/documents/review/r020213d.json\n",
      "Processing speech: https://www.bis.org/api/documents/review/r020213c.json\n",
      "Processing speech: https://www.bis.org/api/documents/review/r020213a.json\n"
     ]
    },
    {
     "name": "stderr",
     "output_type": "stream",
     "text": [
      " 13%|█▎        | 2706/20093 [04:04<28:42, 10.10it/s]"
     ]
    },
    {
     "name": "stdout",
     "output_type": "stream",
     "text": [
      "Processing speech: https://www.bis.org/api/documents/review/r020207g.json\n",
      "Processing speech: https://www.bis.org/api/documents/review/r020207f.json\n",
      "Processing speech: https://www.bis.org/api/documents/review/r020207e.json\n"
     ]
    },
    {
     "name": "stderr",
     "output_type": "stream",
     "text": [
      " 13%|█▎        | 2710/20093 [04:04<25:14, 11.48it/s]"
     ]
    },
    {
     "name": "stdout",
     "output_type": "stream",
     "text": [
      "Processing speech: https://www.bis.org/api/documents/review/r020207d.json\n",
      "Processing speech: https://www.bis.org/api/documents/review/r020207c.json\n",
      "Processing speech: https://www.bis.org/api/documents/review/r020207b.json\n"
     ]
    },
    {
     "name": "stderr",
     "output_type": "stream",
     "text": [
      " 13%|█▎        | 2712/20093 [04:04<24:24, 11.86it/s]"
     ]
    },
    {
     "name": "stdout",
     "output_type": "stream",
     "text": [
      "Processing speech: https://www.bis.org/api/documents/review/r020207a.json\n",
      "Processing speech: https://www.bis.org/api/documents/review/r020131d.json\n",
      "Processing speech: https://www.bis.org/api/documents/review/r020131c.json\n"
     ]
    },
    {
     "name": "stderr",
     "output_type": "stream",
     "text": [
      " 14%|█▎        | 2716/20093 [04:05<23:41, 12.22it/s]"
     ]
    },
    {
     "name": "stdout",
     "output_type": "stream",
     "text": [
      "Processing speech: https://www.bis.org/api/documents/review/r020131b.json\n",
      "Processing speech: https://www.bis.org/api/documents/review/r020131a.json\n",
      "Processing speech: https://www.bis.org/api/documents/review/r020125d.json\n"
     ]
    },
    {
     "name": "stderr",
     "output_type": "stream",
     "text": [
      " 14%|█▎        | 2718/20093 [04:05<22:21, 12.95it/s]"
     ]
    },
    {
     "name": "stdout",
     "output_type": "stream",
     "text": [
      "Processing speech: https://www.bis.org/api/documents/review/r020125c.json\n",
      "Processing speech: https://www.bis.org/api/documents/review/r020125b.json\n",
      "Processing speech: https://www.bis.org/api/documents/review/r020125a.json\n"
     ]
    },
    {
     "name": "stderr",
     "output_type": "stream",
     "text": [
      " 14%|█▎        | 2722/20093 [04:05<22:11, 13.05it/s]"
     ]
    },
    {
     "name": "stdout",
     "output_type": "stream",
     "text": [
      "Processing speech: https://www.bis.org/api/documents/review/r020121b.json\n",
      "Processing speech: https://www.bis.org/api/documents/review/r020121a.json\n",
      "Processing speech: https://www.bis.org/api/documents/review/r020117d.json\n"
     ]
    },
    {
     "name": "stderr",
     "output_type": "stream",
     "text": [
      " 14%|█▎        | 2724/20093 [04:05<22:06, 13.10it/s]"
     ]
    },
    {
     "name": "stdout",
     "output_type": "stream",
     "text": [
      "Processing speech: https://www.bis.org/api/documents/review/r020117c.json\n",
      "Processing speech: https://www.bis.org/api/documents/review/r020117b.json\n",
      "Processing speech: https://www.bis.org/api/documents/review/r020117a.json\n"
     ]
    },
    {
     "name": "stderr",
     "output_type": "stream",
     "text": [
      " 14%|█▎        | 2728/20093 [04:06<22:12, 13.03it/s]"
     ]
    },
    {
     "name": "stdout",
     "output_type": "stream",
     "text": [
      "Processing speech: https://www.bis.org/api/documents/review/r020115e.json\n",
      "Processing speech: https://www.bis.org/api/documents/review/r020115d.json\n",
      "Processing speech: https://www.bis.org/api/documents/review/r020115c.json\n"
     ]
    },
    {
     "name": "stderr",
     "output_type": "stream",
     "text": [
      " 14%|█▎        | 2730/20093 [04:06<21:49, 13.26it/s]"
     ]
    },
    {
     "name": "stdout",
     "output_type": "stream",
     "text": [
      "Processing speech: https://www.bis.org/api/documents/review/r020115b.json\n",
      "Processing speech: https://www.bis.org/api/documents/review/r020115a.json\n",
      "Processing speech: https://www.bis.org/api/documents/review/r020108d.json\n"
     ]
    },
    {
     "name": "stderr",
     "output_type": "stream",
     "text": [
      " 14%|█▎        | 2732/20093 [04:06<21:58, 13.17it/s]"
     ]
    },
    {
     "name": "stdout",
     "output_type": "stream",
     "text": [
      "Processing speech: https://www.bis.org/api/documents/review/r020108c.json\n",
      "Processing speech: https://www.bis.org/api/documents/review/r020108b.json\n"
     ]
    },
    {
     "name": "stderr",
     "output_type": "stream",
     "text": [
      " 14%|█▎        | 2734/20093 [04:06<34:00,  8.51it/s]"
     ]
    },
    {
     "name": "stdout",
     "output_type": "stream",
     "text": [
      "Processing speech: https://www.bis.org/api/documents/review/r020108a.json\n",
      "Processing speech: https://www.bis.org/api/documents/review/r020103d.json\n"
     ]
    },
    {
     "name": "stderr",
     "output_type": "stream",
     "text": [
      " 14%|█▎        | 2736/20093 [04:07<41:03,  7.05it/s]"
     ]
    },
    {
     "name": "stdout",
     "output_type": "stream",
     "text": [
      "Processing speech: https://www.bis.org/api/documents/review/r020103c.json\n"
     ]
    },
    {
     "name": "stderr",
     "output_type": "stream",
     "text": [
      " 14%|█▎        | 2739/20093 [04:08<1:16:05,  3.80it/s]"
     ]
    },
    {
     "name": "stdout",
     "output_type": "stream",
     "text": [
      "Processing speech: https://www.bis.org/api/documents/review/r020103b.json\n",
      "Processing speech: https://www.bis.org/api/documents/review/r020103a.json\n",
      "Processing speech: https://www.bis.org/api/documents/review/r001222c.json\n",
      "Processing speech: https://www.bis.org/api/documents/review/r001222b.json\n"
     ]
    },
    {
     "name": "stderr",
     "output_type": "stream",
     "text": [
      " 14%|█▎        | 2743/20093 [04:08<45:49,  6.31it/s]  "
     ]
    },
    {
     "name": "stdout",
     "output_type": "stream",
     "text": [
      "Processing speech: https://www.bis.org/api/documents/review/r001222a.json\n",
      "Processing speech: https://www.bis.org/api/documents/review/r001218c.json\n",
      "Processing speech: https://www.bis.org/api/documents/review/r001218b.json\n"
     ]
    },
    {
     "name": "stderr",
     "output_type": "stream",
     "text": [
      " 14%|█▎        | 2745/20093 [04:09<38:03,  7.60it/s]"
     ]
    },
    {
     "name": "stdout",
     "output_type": "stream",
     "text": [
      "Processing speech: https://www.bis.org/api/documents/review/r001218a.json\n",
      "Processing speech: https://www.bis.org/api/documents/review/r001212c.json\n",
      "Processing speech: https://www.bis.org/api/documents/review/r001212b.json\n"
     ]
    },
    {
     "name": "stderr",
     "output_type": "stream",
     "text": [
      " 14%|█▎        | 2749/20093 [04:09<30:05,  9.60it/s]"
     ]
    },
    {
     "name": "stdout",
     "output_type": "stream",
     "text": [
      "Processing speech: https://www.bis.org/api/documents/review/r001212a.json\n",
      "Processing speech: https://www.bis.org/api/documents/review/r001208b.json\n",
      "Processing speech: https://www.bis.org/api/documents/review/r001208a.json\n"
     ]
    },
    {
     "name": "stderr",
     "output_type": "stream",
     "text": [
      " 14%|█▎        | 2751/20093 [04:09<27:31, 10.50it/s]"
     ]
    },
    {
     "name": "stdout",
     "output_type": "stream",
     "text": [
      "Processing speech: https://www.bis.org/api/documents/review/r001205c.json\n",
      "Processing speech: https://www.bis.org/api/documents/review/r001205b.json\n",
      "Processing speech: https://www.bis.org/api/documents/review/r001205a.json\n"
     ]
    },
    {
     "name": "stderr",
     "output_type": "stream",
     "text": [
      " 14%|█▎        | 2755/20093 [04:09<23:54, 12.09it/s]"
     ]
    },
    {
     "name": "stdout",
     "output_type": "stream",
     "text": [
      "Processing speech: https://www.bis.org/api/documents/review/r001201b.json\n",
      "Processing speech: https://www.bis.org/api/documents/review/r001201a.json\n",
      "Processing speech: https://www.bis.org/api/documents/review/r001130c.json\n"
     ]
    },
    {
     "name": "stderr",
     "output_type": "stream",
     "text": [
      " 14%|█▎        | 2757/20093 [04:10<23:31, 12.28it/s]"
     ]
    },
    {
     "name": "stdout",
     "output_type": "stream",
     "text": [
      "Processing speech: https://www.bis.org/api/documents/review/r001130b.json\n",
      "Processing speech: https://www.bis.org/api/documents/review/r001130a.json\n",
      "Processing speech: https://www.bis.org/api/documents/review/r001129c.json\n"
     ]
    },
    {
     "name": "stderr",
     "output_type": "stream",
     "text": [
      " 14%|█▎        | 2761/20093 [04:10<22:26, 12.87it/s]"
     ]
    },
    {
     "name": "stdout",
     "output_type": "stream",
     "text": [
      "Processing speech: https://www.bis.org/api/documents/review/r001129b.json\n",
      "Processing speech: https://www.bis.org/api/documents/review/r001129a.json\n",
      "Processing speech: https://www.bis.org/api/documents/review/r001128d.json\n"
     ]
    },
    {
     "name": "stderr",
     "output_type": "stream",
     "text": [
      " 14%|█▍        | 2763/20093 [04:10<22:11, 13.02it/s]"
     ]
    },
    {
     "name": "stdout",
     "output_type": "stream",
     "text": [
      "Processing speech: https://www.bis.org/api/documents/review/r001128c.json\n",
      "Processing speech: https://www.bis.org/api/documents/review/r001128b.json\n",
      "Processing speech: https://www.bis.org/api/documents/review/r001128a.json\n"
     ]
    },
    {
     "name": "stderr",
     "output_type": "stream",
     "text": [
      " 14%|█▍        | 2767/20093 [04:10<21:07, 13.67it/s]"
     ]
    },
    {
     "name": "stdout",
     "output_type": "stream",
     "text": [
      "Processing speech: https://www.bis.org/api/documents/review/r001127b.json\n",
      "Processing speech: https://www.bis.org/api/documents/review/r001127a.json\n",
      "Processing speech: https://www.bis.org/api/documents/review/r001123a.json\n",
      "Processing speech: https://www.bis.org/api/documents/review/r001121a.json\n"
     ]
    },
    {
     "name": "stderr",
     "output_type": "stream",
     "text": [
      " 14%|█▍        | 2771/20093 [04:11<20:05, 14.37it/s]"
     ]
    },
    {
     "name": "stdout",
     "output_type": "stream",
     "text": [
      "Processing speech: https://www.bis.org/api/documents/review/r001120c.json\n",
      "Processing speech: https://www.bis.org/api/documents/review/r001120b.json\n",
      "Processing speech: https://www.bis.org/api/documents/review/r001120a.json\n",
      "Processing speech: https://www.bis.org/api/documents/review/r001117c.json\n"
     ]
    },
    {
     "name": "stderr",
     "output_type": "stream",
     "text": [
      " 14%|█▍        | 2775/20093 [04:11<20:52, 13.82it/s]"
     ]
    },
    {
     "name": "stdout",
     "output_type": "stream",
     "text": [
      "Processing speech: https://www.bis.org/api/documents/review/r001117b.json\n",
      "Processing speech: https://www.bis.org/api/documents/review/r001117a.json\n",
      "Processing speech: https://www.bis.org/api/documents/review/r001115c.json\n"
     ]
    },
    {
     "name": "stderr",
     "output_type": "stream",
     "text": [
      " 14%|█▍        | 2777/20093 [04:11<20:30, 14.08it/s]"
     ]
    },
    {
     "name": "stdout",
     "output_type": "stream",
     "text": [
      "Processing speech: https://www.bis.org/api/documents/review/r001115b.json\n",
      "Processing speech: https://www.bis.org/api/documents/review/r001115a.json\n",
      "Processing speech: https://www.bis.org/api/documents/review/r001113c.json\n"
     ]
    },
    {
     "name": "stderr",
     "output_type": "stream",
     "text": [
      " 14%|█▍        | 2779/20093 [04:11<20:57, 13.77it/s]"
     ]
    },
    {
     "name": "stdout",
     "output_type": "stream",
     "text": [
      "Processing speech: https://www.bis.org/api/documents/review/r001113b.json\n"
     ]
    },
    {
     "name": "stderr",
     "output_type": "stream",
     "text": [
      " 14%|█▍        | 2781/20093 [04:12<1:04:57,  4.44it/s]"
     ]
    },
    {
     "name": "stdout",
     "output_type": "stream",
     "text": [
      "Processing speech: https://www.bis.org/api/documents/review/r001113a.json\n",
      "Processing speech: https://www.bis.org/api/documents/review/r001110b.json\n",
      "Processing speech: https://www.bis.org/api/documents/review/r001110a.json\n"
     ]
    },
    {
     "name": "stderr",
     "output_type": "stream",
     "text": [
      " 14%|█▍        | 2785/20093 [04:13<44:08,  6.53it/s]  "
     ]
    },
    {
     "name": "stdout",
     "output_type": "stream",
     "text": [
      "Processing speech: https://www.bis.org/api/documents/review/r001106c.json\n",
      "Processing speech: https://www.bis.org/api/documents/review/r001106b.json\n"
     ]
    },
    {
     "name": "stderr",
     "output_type": "stream",
     "text": [
      " 14%|█▍        | 2787/20093 [04:13<37:01,  7.79it/s]"
     ]
    },
    {
     "name": "stdout",
     "output_type": "stream",
     "text": [
      "Processing speech: https://www.bis.org/api/documents/review/r001106a.json\n",
      "Processing speech: https://www.bis.org/api/documents/review/r001103c.json\n",
      "Processing speech: https://www.bis.org/api/documents/review/r001103b.json\n"
     ]
    },
    {
     "name": "stderr",
     "output_type": "stream",
     "text": [
      " 14%|█▍        | 2789/20093 [04:13<32:31,  8.87it/s]"
     ]
    },
    {
     "name": "stdout",
     "output_type": "stream",
     "text": [
      "Processing speech: https://www.bis.org/api/documents/review/r001103a.json\n",
      "Processing speech: https://www.bis.org/api/documents/review/r001031b.json\n",
      "Processing speech: https://www.bis.org/api/documents/review/r001031a.json\n"
     ]
    },
    {
     "name": "stderr",
     "output_type": "stream",
     "text": [
      " 14%|█▍        | 2793/20093 [04:13<27:44, 10.39it/s]"
     ]
    },
    {
     "name": "stdout",
     "output_type": "stream",
     "text": [
      "Processing speech: https://www.bis.org/api/documents/review/r001030c.json\n",
      "Processing speech: https://www.bis.org/api/documents/review/r001030b.json\n",
      "Processing speech: https://www.bis.org/api/documents/review/r001030a.json\n"
     ]
    },
    {
     "name": "stderr",
     "output_type": "stream",
     "text": [
      " 14%|█▍        | 2795/20093 [04:13<25:37, 11.25it/s]"
     ]
    },
    {
     "name": "stdout",
     "output_type": "stream",
     "text": [
      "Processing speech: https://www.bis.org/api/documents/review/r001027a.json\n",
      "Processing speech: https://www.bis.org/api/documents/review/r001026c.json\n",
      "Processing speech: https://www.bis.org/api/documents/review/r001026b.json\n"
     ]
    },
    {
     "name": "stderr",
     "output_type": "stream",
     "text": [
      " 14%|█▍        | 2799/20093 [04:14<23:46, 12.13it/s]"
     ]
    },
    {
     "name": "stdout",
     "output_type": "stream",
     "text": [
      "Processing speech: https://www.bis.org/api/documents/review/r001026a.json\n",
      "Processing speech: https://www.bis.org/api/documents/review/r001024c.json\n",
      "Processing speech: https://www.bis.org/api/documents/review/r001024b.json\n"
     ]
    },
    {
     "name": "stderr",
     "output_type": "stream",
     "text": [
      " 14%|█▍        | 2801/20093 [04:14<22:52, 12.60it/s]"
     ]
    },
    {
     "name": "stdout",
     "output_type": "stream",
     "text": [
      "Processing speech: https://www.bis.org/api/documents/review/r001024a.json\n",
      "Processing speech: https://www.bis.org/api/documents/review/r001023b.json\n",
      "Processing speech: https://www.bis.org/api/documents/review/r001023a.json\n"
     ]
    },
    {
     "name": "stderr",
     "output_type": "stream",
     "text": [
      " 14%|█▍        | 2805/20093 [04:14<23:29, 12.26it/s]"
     ]
    },
    {
     "name": "stdout",
     "output_type": "stream",
     "text": [
      "Processing speech: https://www.bis.org/api/documents/review/r001020b.json\n",
      "Processing speech: https://www.bis.org/api/documents/review/r001020a.json\n",
      "Processing speech: https://www.bis.org/api/documents/review/r001019c.json\n"
     ]
    },
    {
     "name": "stderr",
     "output_type": "stream",
     "text": [
      " 14%|█▍        | 2807/20093 [04:14<22:38, 12.73it/s]"
     ]
    },
    {
     "name": "stdout",
     "output_type": "stream",
     "text": [
      "Processing speech: https://www.bis.org/api/documents/review/r001019b.json\n",
      "Processing speech: https://www.bis.org/api/documents/review/r001019a.json\n",
      "Processing speech: https://www.bis.org/api/documents/review/r001018c.json\n"
     ]
    },
    {
     "name": "stderr",
     "output_type": "stream",
     "text": [
      " 14%|█▍        | 2811/20093 [04:15<21:44, 13.25it/s]"
     ]
    },
    {
     "name": "stdout",
     "output_type": "stream",
     "text": [
      "Processing speech: https://www.bis.org/api/documents/review/r001018b.json\n",
      "Processing speech: https://www.bis.org/api/documents/review/r001018a.json\n",
      "Processing speech: https://www.bis.org/api/documents/review/r001016c.json\n"
     ]
    },
    {
     "name": "stderr",
     "output_type": "stream",
     "text": [
      " 14%|█▍        | 2813/20093 [04:15<21:31, 13.38it/s]"
     ]
    },
    {
     "name": "stdout",
     "output_type": "stream",
     "text": [
      "Processing speech: https://www.bis.org/api/documents/review/r001016b.json\n",
      "Processing speech: https://www.bis.org/api/documents/review/r001016a.json\n",
      "Processing speech: https://www.bis.org/api/documents/review/r001012c.json\n"
     ]
    },
    {
     "name": "stderr",
     "output_type": "stream",
     "text": [
      " 14%|█▍        | 2817/20093 [04:15<22:35, 12.74it/s]"
     ]
    },
    {
     "name": "stdout",
     "output_type": "stream",
     "text": [
      "Processing speech: https://www.bis.org/api/documents/review/r001012b.json\n",
      "Processing speech: https://www.bis.org/api/documents/review/r001012a.json\n",
      "Processing speech: https://www.bis.org/api/documents/review/r001011c.json\n"
     ]
    },
    {
     "name": "stderr",
     "output_type": "stream",
     "text": [
      " 14%|█▍        | 2819/20093 [04:15<21:59, 13.09it/s]"
     ]
    },
    {
     "name": "stdout",
     "output_type": "stream",
     "text": [
      "Processing speech: https://www.bis.org/api/documents/review/r001011b.json\n",
      "Processing speech: https://www.bis.org/api/documents/review/r001011a.json\n",
      "Processing speech: https://www.bis.org/api/documents/review/r001010c.json\n"
     ]
    },
    {
     "name": "stderr",
     "output_type": "stream",
     "text": [
      " 14%|█▍        | 2823/20093 [04:15<21:10, 13.60it/s]"
     ]
    },
    {
     "name": "stdout",
     "output_type": "stream",
     "text": [
      "Processing speech: https://www.bis.org/api/documents/review/r001010b.json\n",
      "Processing speech: https://www.bis.org/api/documents/review/r001010a.json\n",
      "Processing speech: https://www.bis.org/api/documents/review/r001009c.json\n",
      "Processing speech: https://www.bis.org/api/documents/review/r001009b.json\n"
     ]
    },
    {
     "name": "stderr",
     "output_type": "stream",
     "text": [
      " 14%|█▍        | 2827/20093 [04:16<20:56, 13.74it/s]"
     ]
    },
    {
     "name": "stdout",
     "output_type": "stream",
     "text": [
      "Processing speech: https://www.bis.org/api/documents/review/r001009a.json\n",
      "Processing speech: https://www.bis.org/api/documents/review/r001005c.json\n",
      "Processing speech: https://www.bis.org/api/documents/review/r001005b.json\n"
     ]
    },
    {
     "name": "stderr",
     "output_type": "stream",
     "text": [
      " 14%|█▍        | 2829/20093 [04:16<21:28, 13.39it/s]"
     ]
    },
    {
     "name": "stdout",
     "output_type": "stream",
     "text": [
      "Processing speech: https://www.bis.org/api/documents/review/r001005a.json\n",
      "Processing speech: https://www.bis.org/api/documents/review/r001004c.json\n",
      "Processing speech: https://www.bis.org/api/documents/review/r001004b.json\n"
     ]
    },
    {
     "name": "stderr",
     "output_type": "stream",
     "text": [
      " 14%|█▍        | 2833/20093 [04:16<20:54, 13.76it/s]"
     ]
    },
    {
     "name": "stdout",
     "output_type": "stream",
     "text": [
      "Processing speech: https://www.bis.org/api/documents/review/r001004a.json\n",
      "Processing speech: https://www.bis.org/api/documents/review/r001003b.json\n",
      "Processing speech: https://www.bis.org/api/documents/review/r001003a.json\n"
     ]
    },
    {
     "name": "stderr",
     "output_type": "stream",
     "text": [
      " 14%|█▍        | 2835/20093 [04:16<20:11, 14.24it/s]"
     ]
    },
    {
     "name": "stdout",
     "output_type": "stream",
     "text": [
      "Processing speech: https://www.bis.org/api/documents/review/r000927b.json\n",
      "Processing speech: https://www.bis.org/api/documents/review/r000927a.json\n",
      "Processing speech: https://www.bis.org/api/documents/review/r000926b.json\n"
     ]
    },
    {
     "name": "stderr",
     "output_type": "stream",
     "text": [
      " 14%|█▍        | 2839/20093 [04:17<19:18, 14.89it/s]"
     ]
    },
    {
     "name": "stdout",
     "output_type": "stream",
     "text": [
      "Processing speech: https://www.bis.org/api/documents/review/r000926a.json\n",
      "Processing speech: https://www.bis.org/api/documents/review/r000925c.json\n",
      "Processing speech: https://www.bis.org/api/documents/review/r000925b.json\n"
     ]
    },
    {
     "name": "stderr",
     "output_type": "stream",
     "text": [
      " 14%|█▍        | 2841/20093 [04:17<19:38, 14.64it/s]"
     ]
    },
    {
     "name": "stdout",
     "output_type": "stream",
     "text": [
      "Processing speech: https://www.bis.org/api/documents/review/r000925a.json\n",
      "Processing speech: https://www.bis.org/api/documents/review/r000922b.json\n",
      "Processing speech: https://www.bis.org/api/documents/review/r000922a.json\n"
     ]
    },
    {
     "name": "stderr",
     "output_type": "stream",
     "text": [
      " 14%|█▍        | 2845/20093 [04:17<19:19, 14.87it/s]"
     ]
    },
    {
     "name": "stdout",
     "output_type": "stream",
     "text": [
      "Processing speech: https://www.bis.org/api/documents/review/r000921b.json\n",
      "Processing speech: https://www.bis.org/api/documents/review/r000921a.json\n",
      "Processing speech: https://www.bis.org/api/documents/review/r000920c.json\n"
     ]
    },
    {
     "name": "stderr",
     "output_type": "stream",
     "text": [
      " 14%|█▍        | 2847/20093 [04:17<19:43, 14.57it/s]"
     ]
    },
    {
     "name": "stdout",
     "output_type": "stream",
     "text": [
      "Processing speech: https://www.bis.org/api/documents/review/r000920b.json\n",
      "Processing speech: https://www.bis.org/api/documents/review/r000920a.json\n",
      "Processing speech: https://www.bis.org/api/documents/review/r000918c.json\n"
     ]
    },
    {
     "name": "stderr",
     "output_type": "stream",
     "text": [
      " 14%|█▍        | 2851/20093 [04:17<20:50, 13.79it/s]"
     ]
    },
    {
     "name": "stdout",
     "output_type": "stream",
     "text": [
      "Processing speech: https://www.bis.org/api/documents/review/r000918b.json\n",
      "Processing speech: https://www.bis.org/api/documents/review/r000918a.json\n",
      "Processing speech: https://www.bis.org/api/documents/review/r000915c.json\n"
     ]
    },
    {
     "name": "stderr",
     "output_type": "stream",
     "text": [
      " 14%|█▍        | 2853/20093 [04:18<20:40, 13.89it/s]"
     ]
    },
    {
     "name": "stdout",
     "output_type": "stream",
     "text": [
      "Processing speech: https://www.bis.org/api/documents/review/r000915b.json\n",
      "Processing speech: https://www.bis.org/api/documents/review/r000915a.json\n",
      "Processing speech: https://www.bis.org/api/documents/review/r000914b.json\n"
     ]
    },
    {
     "name": "stderr",
     "output_type": "stream",
     "text": [
      " 14%|█▍        | 2855/20093 [04:18<20:54, 13.74it/s]"
     ]
    },
    {
     "name": "stdout",
     "output_type": "stream",
     "text": [
      "Processing speech: https://www.bis.org/api/documents/review/r000914a.json\n",
      "Processing speech: https://www.bis.org/api/documents/review/r000911b.json\n"
     ]
    },
    {
     "name": "stderr",
     "output_type": "stream",
     "text": [
      " 14%|█▍        | 2859/20093 [04:19<52:33,  5.46it/s]  "
     ]
    },
    {
     "name": "stdout",
     "output_type": "stream",
     "text": [
      "Processing speech: https://www.bis.org/api/documents/review/r000911a.json\n",
      "Processing speech: https://www.bis.org/api/documents/review/r000907b.json\n",
      "Processing speech: https://www.bis.org/api/documents/review/r000907a.json\n",
      "Processing speech: https://www.bis.org/api/documents/review/r000904c.json\n"
     ]
    },
    {
     "name": "stderr",
     "output_type": "stream",
     "text": [
      " 14%|█▍        | 2863/20093 [04:19<36:37,  7.84it/s]"
     ]
    },
    {
     "name": "stdout",
     "output_type": "stream",
     "text": [
      "Processing speech: https://www.bis.org/api/documents/review/r000904b.json\n",
      "Processing speech: https://www.bis.org/api/documents/review/r000904a.json\n",
      "Processing speech: https://www.bis.org/api/documents/review/r000831a.json\n"
     ]
    },
    {
     "name": "stderr",
     "output_type": "stream",
     "text": [
      " 14%|█▍        | 2865/20093 [04:20<32:24,  8.86it/s]"
     ]
    },
    {
     "name": "stdout",
     "output_type": "stream",
     "text": [
      "Processing speech: https://www.bis.org/api/documents/review/r000830c.json\n",
      "Processing speech: https://www.bis.org/api/documents/review/r000830b.json\n",
      "Processing speech: https://www.bis.org/api/documents/review/r000830a.json\n"
     ]
    },
    {
     "name": "stderr",
     "output_type": "stream",
     "text": [
      " 14%|█▍        | 2869/20093 [04:20<26:53, 10.67it/s]"
     ]
    },
    {
     "name": "stdout",
     "output_type": "stream",
     "text": [
      "Processing speech: https://www.bis.org/api/documents/review/r000828c.json\n",
      "Processing speech: https://www.bis.org/api/documents/review/r000828b.json\n",
      "Processing speech: https://www.bis.org/api/documents/review/r000828a.json\n"
     ]
    },
    {
     "name": "stderr",
     "output_type": "stream",
     "text": [
      " 14%|█▍        | 2871/20093 [04:20<25:04, 11.44it/s]"
     ]
    },
    {
     "name": "stdout",
     "output_type": "stream",
     "text": [
      "Processing speech: https://www.bis.org/api/documents/review/r000817c.json\n",
      "Processing speech: https://www.bis.org/api/documents/review/r000817b.json\n",
      "Processing speech: https://www.bis.org/api/documents/review/r000817a.json\n"
     ]
    },
    {
     "name": "stderr",
     "output_type": "stream",
     "text": [
      " 14%|█▍        | 2875/20093 [04:20<24:20, 11.79it/s]"
     ]
    },
    {
     "name": "stdout",
     "output_type": "stream",
     "text": [
      "Processing speech: https://www.bis.org/api/documents/review/r000809a.json\n",
      "Processing speech: https://www.bis.org/api/documents/review/r000803c.json\n",
      "Processing speech: https://www.bis.org/api/documents/review/r000803b.json\n"
     ]
    },
    {
     "name": "stderr",
     "output_type": "stream",
     "text": [
      " 14%|█▍        | 2877/20093 [04:20<23:49, 12.05it/s]"
     ]
    },
    {
     "name": "stdout",
     "output_type": "stream",
     "text": [
      "Processing speech: https://www.bis.org/api/documents/review/r000803a.json\n",
      "Processing speech: https://www.bis.org/api/documents/review/r000725b.json\n",
      "Processing speech: https://www.bis.org/api/documents/review/r000725a.json\n"
     ]
    },
    {
     "name": "stderr",
     "output_type": "stream",
     "text": [
      " 14%|█▍        | 2881/20093 [04:21<22:50, 12.56it/s]"
     ]
    },
    {
     "name": "stdout",
     "output_type": "stream",
     "text": [
      "Processing speech: https://www.bis.org/api/documents/review/r000721c.json\n",
      "Processing speech: https://www.bis.org/api/documents/review/r000721b.json\n",
      "Processing speech: https://www.bis.org/api/documents/review/r000721a.json\n"
     ]
    },
    {
     "name": "stderr",
     "output_type": "stream",
     "text": [
      " 14%|█▍        | 2885/20093 [04:21<21:59, 13.05it/s]"
     ]
    },
    {
     "name": "stdout",
     "output_type": "stream",
     "text": [
      "Processing speech: https://www.bis.org/api/documents/review/r000718b.json\n",
      "Processing speech: https://www.bis.org/api/documents/review/r000718a.json\n",
      "Processing speech: https://www.bis.org/api/documents/review/r000714b.json\n"
     ]
    },
    {
     "name": "stderr",
     "output_type": "stream",
     "text": [
      " 14%|█▍        | 2887/20093 [04:21<21:38, 13.25it/s]"
     ]
    },
    {
     "name": "stdout",
     "output_type": "stream",
     "text": [
      "Processing speech: https://www.bis.org/api/documents/review/r000714a.json\n",
      "Processing speech: https://www.bis.org/api/documents/review/r000713c.json\n",
      "Processing speech: https://www.bis.org/api/documents/review/r000713b.json\n"
     ]
    },
    {
     "name": "stderr",
     "output_type": "stream",
     "text": [
      " 14%|█▍        | 2889/20093 [04:21<22:20, 12.83it/s]"
     ]
    },
    {
     "name": "stdout",
     "output_type": "stream",
     "text": [
      "Processing speech: https://www.bis.org/api/documents/review/r000713a.json\n",
      "Processing speech: https://www.bis.org/api/documents/review/r000711c.json\n",
      "Processing speech: https://www.bis.org/api/documents/review/r000711b.json\n"
     ]
    },
    {
     "name": "stderr",
     "output_type": "stream",
     "text": [
      " 14%|█▍        | 2893/20093 [04:22<21:48, 13.15it/s]"
     ]
    },
    {
     "name": "stdout",
     "output_type": "stream",
     "text": [
      "Processing speech: https://www.bis.org/api/documents/review/r000711a.json\n",
      "Processing speech: https://www.bis.org/api/documents/review/r000706c.json\n",
      "Processing speech: https://www.bis.org/api/documents/review/r000706b.json\n"
     ]
    },
    {
     "name": "stderr",
     "output_type": "stream",
     "text": [
      " 14%|█▍        | 2895/20093 [04:22<21:14, 13.50it/s]"
     ]
    },
    {
     "name": "stdout",
     "output_type": "stream",
     "text": [
      "Processing speech: https://www.bis.org/api/documents/review/r000706a.json\n",
      "Processing speech: https://www.bis.org/api/documents/review/r000629b.json\n",
      "Processing speech: https://www.bis.org/api/documents/review/r000629a.json\n"
     ]
    },
    {
     "name": "stderr",
     "output_type": "stream",
     "text": [
      " 14%|█▍        | 2899/20093 [04:22<22:10, 12.92it/s]"
     ]
    },
    {
     "name": "stdout",
     "output_type": "stream",
     "text": [
      "Processing speech: https://www.bis.org/api/documents/review/r000626b.json\n",
      "Processing speech: https://www.bis.org/api/documents/review/r000626a.json\n",
      "Processing speech: https://www.bis.org/api/documents/review/r000623c.json\n"
     ]
    },
    {
     "name": "stderr",
     "output_type": "stream",
     "text": [
      " 14%|█▍        | 2901/20093 [04:22<21:34, 13.28it/s]"
     ]
    },
    {
     "name": "stdout",
     "output_type": "stream",
     "text": [
      "Processing speech: https://www.bis.org/api/documents/review/r000623b.json\n",
      "Processing speech: https://www.bis.org/api/documents/review/r000623a.json\n",
      "Processing speech: https://www.bis.org/api/documents/review/r000622c.json\n"
     ]
    },
    {
     "name": "stderr",
     "output_type": "stream",
     "text": [
      " 14%|█▍        | 2905/20093 [04:23<21:19, 13.43it/s]"
     ]
    },
    {
     "name": "stdout",
     "output_type": "stream",
     "text": [
      "Processing speech: https://www.bis.org/api/documents/review/r000622b.json\n",
      "Processing speech: https://www.bis.org/api/documents/review/r000622a.json\n",
      "Processing speech: https://www.bis.org/api/documents/review/r000619d.json\n"
     ]
    },
    {
     "name": "stderr",
     "output_type": "stream",
     "text": [
      " 14%|█▍        | 2907/20093 [04:23<21:55, 13.06it/s]"
     ]
    },
    {
     "name": "stdout",
     "output_type": "stream",
     "text": [
      "Processing speech: https://www.bis.org/api/documents/review/r000619c.json\n",
      "Processing speech: https://www.bis.org/api/documents/review/r000619b.json\n",
      "Processing speech: https://www.bis.org/api/documents/review/r000619a.json\n"
     ]
    },
    {
     "name": "stderr",
     "output_type": "stream",
     "text": [
      " 14%|█▍        | 2911/20093 [04:23<22:07, 12.94it/s]"
     ]
    },
    {
     "name": "stdout",
     "output_type": "stream",
     "text": [
      "Processing speech: https://www.bis.org/api/documents/review/r000615c.json\n",
      "Processing speech: https://www.bis.org/api/documents/review/r000615b.json\n",
      "Processing speech: https://www.bis.org/api/documents/review/r000615a.json\n"
     ]
    },
    {
     "name": "stderr",
     "output_type": "stream",
     "text": [
      " 14%|█▍        | 2913/20093 [04:23<21:43, 13.18it/s]"
     ]
    },
    {
     "name": "stdout",
     "output_type": "stream",
     "text": [
      "Processing speech: https://www.bis.org/api/documents/review/r000609c.json\n",
      "Processing speech: https://www.bis.org/api/documents/review/r000609b.json\n",
      "Processing speech: https://www.bis.org/api/documents/review/r000609a.json\n"
     ]
    },
    {
     "name": "stderr",
     "output_type": "stream",
     "text": [
      " 15%|█▍        | 2917/20093 [04:23<20:58, 13.65it/s]"
     ]
    },
    {
     "name": "stdout",
     "output_type": "stream",
     "text": [
      "Processing speech: https://www.bis.org/api/documents/review/r000608b.json\n",
      "Processing speech: https://www.bis.org/api/documents/review/r000608a.json\n",
      "Processing speech: https://www.bis.org/api/documents/review/r000607b.json\n"
     ]
    },
    {
     "name": "stderr",
     "output_type": "stream",
     "text": [
      " 15%|█▍        | 2919/20093 [04:24<21:20, 13.41it/s]"
     ]
    },
    {
     "name": "stdout",
     "output_type": "stream",
     "text": [
      "Processing speech: https://www.bis.org/api/documents/review/r000607a.json\n",
      "Processing speech: https://www.bis.org/api/documents/review/r000531d.json\n",
      "Processing speech: https://www.bis.org/api/documents/review/r000531c.json\n"
     ]
    },
    {
     "name": "stderr",
     "output_type": "stream",
     "text": [
      " 15%|█▍        | 2923/20093 [04:24<21:25, 13.36it/s]"
     ]
    },
    {
     "name": "stdout",
     "output_type": "stream",
     "text": [
      "Processing speech: https://www.bis.org/api/documents/review/r000531b.json\n",
      "Processing speech: https://www.bis.org/api/documents/review/r000531a.json\n",
      "Processing speech: https://www.bis.org/api/documents/review/r000526c.json\n"
     ]
    },
    {
     "name": "stderr",
     "output_type": "stream",
     "text": [
      " 15%|█▍        | 2925/20093 [04:24<22:05, 12.95it/s]"
     ]
    },
    {
     "name": "stdout",
     "output_type": "stream",
     "text": [
      "Processing speech: https://www.bis.org/api/documents/review/r000526b.json\n",
      "Processing speech: https://www.bis.org/api/documents/review/r000526a.json\n",
      "Processing speech: https://www.bis.org/api/documents/review/r000523c.json\n"
     ]
    },
    {
     "name": "stderr",
     "output_type": "stream",
     "text": [
      " 15%|█▍        | 2927/20093 [04:24<21:46, 13.14it/s]"
     ]
    },
    {
     "name": "stdout",
     "output_type": "stream",
     "text": [
      "Processing speech: https://www.bis.org/api/documents/review/r000523b.json\n"
     ]
    },
    {
     "name": "stderr",
     "output_type": "stream",
     "text": [
      " 15%|█▍        | 2929/20093 [04:25<1:04:48,  4.41it/s]"
     ]
    },
    {
     "name": "stdout",
     "output_type": "stream",
     "text": [
      "Processing speech: https://www.bis.org/api/documents/review/r000523a.json\n",
      "Processing speech: https://www.bis.org/api/documents/review/r000522e.json\n",
      "Processing speech: https://www.bis.org/api/documents/review/r000522d.json\n"
     ]
    },
    {
     "name": "stderr",
     "output_type": "stream",
     "text": [
      " 15%|█▍        | 2933/20093 [04:26<42:15,  6.77it/s]  "
     ]
    },
    {
     "name": "stdout",
     "output_type": "stream",
     "text": [
      "Processing speech: https://www.bis.org/api/documents/review/r000522c.json\n",
      "Processing speech: https://www.bis.org/api/documents/review/r000522b.json\n",
      "Processing speech: https://www.bis.org/api/documents/review/r000522a.json\n"
     ]
    },
    {
     "name": "stderr",
     "output_type": "stream",
     "text": [
      " 15%|█▍        | 2935/20093 [04:26<38:22,  7.45it/s]"
     ]
    },
    {
     "name": "stdout",
     "output_type": "stream",
     "text": [
      "Processing speech: https://www.bis.org/api/documents/review/r000516c.json\n",
      "Processing speech: https://www.bis.org/api/documents/review/r000516b.json\n"
     ]
    },
    {
     "name": "stderr",
     "output_type": "stream",
     "text": [
      " 15%|█▍        | 2937/20093 [04:26<33:30,  8.54it/s]"
     ]
    },
    {
     "name": "stdout",
     "output_type": "stream",
     "text": [
      "Processing speech: https://www.bis.org/api/documents/review/r000516a.json\n",
      "Processing speech: https://www.bis.org/api/documents/review/r000512c.json\n",
      "Processing speech: https://www.bis.org/api/documents/review/r000512b.json\n"
     ]
    },
    {
     "name": "stderr",
     "output_type": "stream",
     "text": [
      " 15%|█▍        | 2941/20093 [04:26<28:03, 10.19it/s]"
     ]
    },
    {
     "name": "stdout",
     "output_type": "stream",
     "text": [
      "Processing speech: https://www.bis.org/api/documents/review/r000512a.json\n",
      "Processing speech: https://www.bis.org/api/documents/review/r000510d.json\n",
      "Processing speech: https://www.bis.org/api/documents/review/r000510c.json\n"
     ]
    },
    {
     "name": "stderr",
     "output_type": "stream",
     "text": [
      " 15%|█▍        | 2943/20093 [04:27<26:23, 10.83it/s]"
     ]
    },
    {
     "name": "stdout",
     "output_type": "stream",
     "text": [
      "Processing speech: https://www.bis.org/api/documents/review/r000510b.json\n",
      "Processing speech: https://www.bis.org/api/documents/review/r000510a.json\n",
      "Processing speech: https://www.bis.org/api/documents/review/r000508c.json\n"
     ]
    },
    {
     "name": "stderr",
     "output_type": "stream",
     "text": [
      " 15%|█▍        | 2947/20093 [04:27<23:43, 12.04it/s]"
     ]
    },
    {
     "name": "stdout",
     "output_type": "stream",
     "text": [
      "Processing speech: https://www.bis.org/api/documents/review/r000508b.json\n",
      "Processing speech: https://www.bis.org/api/documents/review/r000508a.json\n",
      "Processing speech: https://www.bis.org/api/documents/review/r000420c.json\n"
     ]
    },
    {
     "name": "stderr",
     "output_type": "stream",
     "text": [
      " 15%|█▍        | 2949/20093 [04:27<23:11, 12.32it/s]"
     ]
    },
    {
     "name": "stdout",
     "output_type": "stream",
     "text": [
      "Processing speech: https://www.bis.org/api/documents/review/r000420b.json\n",
      "Processing speech: https://www.bis.org/api/documents/review/r000420a.json\n",
      "Processing speech: https://www.bis.org/api/documents/review/r000417d.json\n"
     ]
    },
    {
     "name": "stderr",
     "output_type": "stream",
     "text": [
      " 15%|█▍        | 2953/20093 [04:27<22:28, 12.71it/s]"
     ]
    },
    {
     "name": "stdout",
     "output_type": "stream",
     "text": [
      "Processing speech: https://www.bis.org/api/documents/review/r000417c.json\n",
      "Processing speech: https://www.bis.org/api/documents/review/r000417b.json\n",
      "Processing speech: https://www.bis.org/api/documents/review/r000417a.json\n"
     ]
    },
    {
     "name": "stderr",
     "output_type": "stream",
     "text": [
      " 15%|█▍        | 2955/20093 [04:27<22:07, 12.91it/s]"
     ]
    },
    {
     "name": "stdout",
     "output_type": "stream",
     "text": [
      "Processing speech: https://www.bis.org/api/documents/review/r000414c.json\n",
      "Processing speech: https://www.bis.org/api/documents/review/r000414b.json\n",
      "Processing speech: https://www.bis.org/api/documents/review/r000414a.json\n"
     ]
    },
    {
     "name": "stderr",
     "output_type": "stream",
     "text": [
      " 15%|█▍        | 2957/20093 [04:28<21:30, 13.28it/s]"
     ]
    },
    {
     "name": "stdout",
     "output_type": "stream",
     "text": [
      "Processing speech: https://www.bis.org/api/documents/review/r000412c.json\n"
     ]
    },
    {
     "name": "stderr",
     "output_type": "stream",
     "text": [
      " 15%|█▍        | 2959/20093 [04:29<1:04:31,  4.43it/s]"
     ]
    },
    {
     "name": "stdout",
     "output_type": "stream",
     "text": [
      "Processing speech: https://www.bis.org/api/documents/review/r000412b.json\n",
      "Processing speech: https://www.bis.org/api/documents/review/r000412a.json\n",
      "Processing speech: https://www.bis.org/api/documents/review/r000410d.json\n"
     ]
    },
    {
     "name": "stderr",
     "output_type": "stream",
     "text": [
      " 15%|█▍        | 2963/20093 [04:29<41:23,  6.90it/s]  "
     ]
    },
    {
     "name": "stdout",
     "output_type": "stream",
     "text": [
      "Processing speech: https://www.bis.org/api/documents/review/r000410c.json\n",
      "Processing speech: https://www.bis.org/api/documents/review/r000410b.json\n",
      "Processing speech: https://www.bis.org/api/documents/review/r000410a.json\n",
      "Processing speech: https://www.bis.org/api/documents/review/r000405c.json\n"
     ]
    },
    {
     "name": "stderr",
     "output_type": "stream",
     "text": [
      " 15%|█▍        | 2967/20093 [04:29<30:09,  9.46it/s]"
     ]
    },
    {
     "name": "stdout",
     "output_type": "stream",
     "text": [
      "Processing speech: https://www.bis.org/api/documents/review/r000405b.json\n",
      "Processing speech: https://www.bis.org/api/documents/review/r000405a.json\n",
      "Processing speech: https://www.bis.org/api/documents/review/r000403c.json\n"
     ]
    },
    {
     "name": "stderr",
     "output_type": "stream",
     "text": [
      " 15%|█▍        | 2969/20093 [04:29<27:28, 10.39it/s]"
     ]
    },
    {
     "name": "stdout",
     "output_type": "stream",
     "text": [
      "Processing speech: https://www.bis.org/api/documents/review/r000403b.json\n",
      "Processing speech: https://www.bis.org/api/documents/review/r000403a.json\n",
      "Processing speech: https://www.bis.org/api/documents/review/r000330c.json\n"
     ]
    },
    {
     "name": "stderr",
     "output_type": "stream",
     "text": [
      " 15%|█▍        | 2973/20093 [04:30<23:59, 11.90it/s]"
     ]
    },
    {
     "name": "stdout",
     "output_type": "stream",
     "text": [
      "Processing speech: https://www.bis.org/api/documents/review/r000330b.json\n",
      "Processing speech: https://www.bis.org/api/documents/review/r000330a.json\n",
      "Processing speech: https://www.bis.org/api/documents/review/r000328b.json\n"
     ]
    },
    {
     "name": "stderr",
     "output_type": "stream",
     "text": [
      " 15%|█▍        | 2975/20093 [04:30<23:26, 12.17it/s]"
     ]
    },
    {
     "name": "stdout",
     "output_type": "stream",
     "text": [
      "Processing speech: https://www.bis.org/api/documents/review/r000328a.json\n",
      "Processing speech: https://www.bis.org/api/documents/review/r000324c.json\n",
      "Processing speech: https://www.bis.org/api/documents/review/r000324b.json\n"
     ]
    },
    {
     "name": "stderr",
     "output_type": "stream",
     "text": [
      " 15%|█▍        | 2979/20093 [04:30<22:35, 12.62it/s]"
     ]
    },
    {
     "name": "stdout",
     "output_type": "stream",
     "text": [
      "Processing speech: https://www.bis.org/api/documents/review/r000324a.json\n",
      "Processing speech: https://www.bis.org/api/documents/review/r000323c.json\n",
      "Processing speech: https://www.bis.org/api/documents/review/r000323b.json\n"
     ]
    },
    {
     "name": "stderr",
     "output_type": "stream",
     "text": [
      " 15%|█▍        | 2981/20093 [04:30<21:57, 12.99it/s]"
     ]
    },
    {
     "name": "stdout",
     "output_type": "stream",
     "text": [
      "Processing speech: https://www.bis.org/api/documents/review/r000323a.json\n",
      "Processing speech: https://www.bis.org/api/documents/review/r000321c.json\n",
      "Processing speech: https://www.bis.org/api/documents/review/r000321b.json\n"
     ]
    },
    {
     "name": "stderr",
     "output_type": "stream",
     "text": [
      " 15%|█▍        | 2985/20093 [04:31<22:10, 12.85it/s]"
     ]
    },
    {
     "name": "stdout",
     "output_type": "stream",
     "text": [
      "Processing speech: https://www.bis.org/api/documents/review/r000321a.json\n",
      "Processing speech: https://www.bis.org/api/documents/review/r000316c.json\n",
      "Processing speech: https://www.bis.org/api/documents/review/r000316b.json\n"
     ]
    },
    {
     "name": "stderr",
     "output_type": "stream",
     "text": [
      " 15%|█▍        | 2987/20093 [04:31<21:28, 13.28it/s]"
     ]
    },
    {
     "name": "stdout",
     "output_type": "stream",
     "text": [
      "Processing speech: https://www.bis.org/api/documents/review/r000316a.json\n",
      "Processing speech: https://www.bis.org/api/documents/review/r000313d.json\n",
      "Processing speech: https://www.bis.org/api/documents/review/r000313c.json\n"
     ]
    },
    {
     "name": "stderr",
     "output_type": "stream",
     "text": [
      " 15%|█▍        | 2991/20093 [04:31<21:00, 13.57it/s]"
     ]
    },
    {
     "name": "stdout",
     "output_type": "stream",
     "text": [
      "Processing speech: https://www.bis.org/api/documents/review/r000313b.json\n",
      "Processing speech: https://www.bis.org/api/documents/review/r000313a.json\n",
      "Processing speech: https://www.bis.org/api/documents/review/r000310c.json\n"
     ]
    },
    {
     "name": "stderr",
     "output_type": "stream",
     "text": [
      " 15%|█▍        | 2993/20093 [04:31<20:57, 13.60it/s]"
     ]
    },
    {
     "name": "stdout",
     "output_type": "stream",
     "text": [
      "Processing speech: https://www.bis.org/api/documents/review/r000310b.json\n",
      "Processing speech: https://www.bis.org/api/documents/review/r000310a.json\n",
      "Processing speech: https://www.bis.org/api/documents/review/r000308b.json\n"
     ]
    },
    {
     "name": "stderr",
     "output_type": "stream",
     "text": [
      " 15%|█▍        | 2997/20093 [04:31<20:46, 13.72it/s]"
     ]
    },
    {
     "name": "stdout",
     "output_type": "stream",
     "text": [
      "Processing speech: https://www.bis.org/api/documents/review/r000308a.json\n",
      "Processing speech: https://www.bis.org/api/documents/review/r000303c.json\n",
      "Processing speech: https://www.bis.org/api/documents/review/r000303b.json\n",
      "Processing speech: https://www.bis.org/api/documents/review/r000303a.json\n"
     ]
    },
    {
     "name": "stderr",
     "output_type": "stream",
     "text": [
      " 15%|█▍        | 3001/20093 [04:32<22:29, 12.67it/s]"
     ]
    },
    {
     "name": "stdout",
     "output_type": "stream",
     "text": [
      "Processing speech: https://www.bis.org/api/documents/review/r000301c.json\n",
      "Processing speech: https://www.bis.org/api/documents/review/r000301b.json\n"
     ]
    },
    {
     "name": "stderr",
     "output_type": "stream",
     "text": [
      " 15%|█▍        | 3003/20093 [04:32<21:54, 13.00it/s]"
     ]
    },
    {
     "name": "stdout",
     "output_type": "stream",
     "text": [
      "Processing speech: https://www.bis.org/api/documents/review/r000301a.json\n",
      "Processing speech: https://www.bis.org/api/documents/review/r000228c.json\n",
      "Processing speech: https://www.bis.org/api/documents/review/r000228b.json\n"
     ]
    },
    {
     "name": "stderr",
     "output_type": "stream",
     "text": [
      " 15%|█▍        | 3005/20093 [04:32<22:56, 12.42it/s]"
     ]
    },
    {
     "name": "stdout",
     "output_type": "stream",
     "text": [
      "Processing speech: https://www.bis.org/api/documents/review/r000228a.json\n",
      "Processing speech: https://www.bis.org/api/documents/review/r000225b.json\n",
      "Processing speech: https://www.bis.org/api/documents/review/r000225a.json\n"
     ]
    },
    {
     "name": "stderr",
     "output_type": "stream",
     "text": [
      " 15%|█▍        | 3009/20093 [04:32<22:35, 12.61it/s]"
     ]
    },
    {
     "name": "stdout",
     "output_type": "stream",
     "text": [
      "Processing speech: https://www.bis.org/api/documents/review/r000223c.json\n",
      "Processing speech: https://www.bis.org/api/documents/review/r000223b.json\n",
      "Processing speech: https://www.bis.org/api/documents/review/r000223a.json\n",
      "Processing speech: https://www.bis.org/api/documents/review/r000221a.json\n"
     ]
    },
    {
     "name": "stderr",
     "output_type": "stream",
     "text": [
      " 15%|█▍        | 3013/20093 [04:33<21:21, 13.32it/s]"
     ]
    },
    {
     "name": "stdout",
     "output_type": "stream",
     "text": [
      "Processing speech: https://www.bis.org/api/documents/review/r000218b.json\n",
      "Processing speech: https://www.bis.org/api/documents/review/r000218a.json\n",
      "Processing speech: https://www.bis.org/api/documents/review/r0002182.json\n"
     ]
    },
    {
     "name": "stderr",
     "output_type": "stream",
     "text": [
      " 15%|█▌        | 3015/20093 [04:33<20:54, 13.62it/s]"
     ]
    },
    {
     "name": "stdout",
     "output_type": "stream",
     "text": [
      "Processing speech: https://www.bis.org/api/documents/review/r000216c.json\n",
      "Processing speech: https://www.bis.org/api/documents/review/r000216b.json\n",
      "Processing speech: https://www.bis.org/api/documents/review/r000216a.json\n"
     ]
    },
    {
     "name": "stderr",
     "output_type": "stream",
     "text": [
      " 15%|█▌        | 3019/20093 [04:33<20:26, 13.92it/s]"
     ]
    },
    {
     "name": "stdout",
     "output_type": "stream",
     "text": [
      "Processing speech: https://www.bis.org/api/documents/review/r000203c.json\n",
      "Processing speech: https://www.bis.org/api/documents/review/r000203b.json\n",
      "Processing speech: https://www.bis.org/api/documents/review/r000203a.json\n"
     ]
    },
    {
     "name": "stderr",
     "output_type": "stream",
     "text": [
      " 15%|█▌        | 3021/20093 [04:33<20:31, 13.86it/s]"
     ]
    },
    {
     "name": "stdout",
     "output_type": "stream",
     "text": [
      "Processing speech: https://www.bis.org/api/documents/review/r000201c.json\n",
      "Processing speech: https://www.bis.org/api/documents/review/r000201b.json\n",
      "Processing speech: https://www.bis.org/api/documents/review/r000201a.json\n"
     ]
    },
    {
     "name": "stderr",
     "output_type": "stream",
     "text": [
      " 15%|█▌        | 3025/20093 [04:34<20:37, 13.79it/s]"
     ]
    },
    {
     "name": "stdout",
     "output_type": "stream",
     "text": [
      "Processing speech: https://www.bis.org/api/documents/review/r000131b.json\n",
      "Processing speech: https://www.bis.org/api/documents/review/r000131a.json\n",
      "Processing speech: https://www.bis.org/api/documents/review/r000126c.json\n"
     ]
    },
    {
     "name": "stderr",
     "output_type": "stream",
     "text": [
      " 15%|█▌        | 3027/20093 [04:34<20:47, 13.68it/s]"
     ]
    },
    {
     "name": "stdout",
     "output_type": "stream",
     "text": [
      "Processing speech: https://www.bis.org/api/documents/review/r000126b.json\n",
      "Processing speech: https://www.bis.org/api/documents/review/r000126a.json\n",
      "Processing speech: https://www.bis.org/api/documents/review/r000124b.json\n"
     ]
    },
    {
     "name": "stderr",
     "output_type": "stream",
     "text": [
      " 15%|█▌        | 3031/20093 [04:34<22:38, 12.56it/s]"
     ]
    },
    {
     "name": "stdout",
     "output_type": "stream",
     "text": [
      "Processing speech: https://www.bis.org/api/documents/review/r000124a.json\n",
      "Processing speech: https://www.bis.org/api/documents/review/r000120b.json\n",
      "Processing speech: https://www.bis.org/api/documents/review/r000120a.json\n"
     ]
    },
    {
     "name": "stderr",
     "output_type": "stream",
     "text": [
      " 15%|█▌        | 3033/20093 [04:34<21:58, 12.94it/s]"
     ]
    },
    {
     "name": "stdout",
     "output_type": "stream",
     "text": [
      "Processing speech: https://www.bis.org/api/documents/review/r000117b.json\n",
      "Processing speech: https://www.bis.org/api/documents/review/r000117a.json\n",
      "Processing speech: https://www.bis.org/api/documents/review/r000114a.json\n"
     ]
    },
    {
     "name": "stderr",
     "output_type": "stream",
     "text": [
      " 15%|█▌        | 3035/20093 [04:34<21:23, 13.29it/s]"
     ]
    },
    {
     "name": "stdout",
     "output_type": "stream",
     "text": [
      "Processing speech: https://www.bis.org/api/documents/review/r000113b.json\n"
     ]
    },
    {
     "name": "stderr",
     "output_type": "stream",
     "text": [
      " 15%|█▌        | 3037/20093 [04:35<30:53,  9.20it/s]"
     ]
    },
    {
     "name": "stdout",
     "output_type": "stream",
     "text": [
      "Processing speech: https://www.bis.org/api/documents/review/r970207b.json\n",
      "Processing speech: https://www.bis.org/api/documents/review/r051110d.json\n",
      "Processing speech: https://www.bis.org/api/documents/review/r051031c.json\n"
     ]
    },
    {
     "name": "stderr",
     "output_type": "stream",
     "text": [
      " 15%|█▌        | 3041/20093 [04:35<25:09, 11.30it/s]"
     ]
    },
    {
     "name": "stdout",
     "output_type": "stream",
     "text": [
      "Processing speech: https://www.bis.org/api/documents/review/r050829c.json\n",
      "Processing speech: https://www.bis.org/api/documents/review/r050621k.json\n",
      "Processing speech: https://www.bis.org/api/documents/review/r030509a.json\n",
      "Processing speech: https://www.bis.org/api/documents/review/r051124a.json\n"
     ]
    },
    {
     "name": "stderr",
     "output_type": "stream",
     "text": [
      " 15%|█▌        | 3043/20093 [04:35<34:31,  8.23it/s]"
     ]
    },
    {
     "name": "stdout",
     "output_type": "stream",
     "text": [
      "Processing speech: https://www.bis.org/api/documents/review/r051124b.json\n"
     ]
    },
    {
     "name": "stderr",
     "output_type": "stream",
     "text": [
      " 15%|█▌        | 3045/20093 [04:36<40:10,  7.07it/s]"
     ]
    },
    {
     "name": "stdout",
     "output_type": "stream",
     "text": [
      "Processing speech: https://www.bis.org/api/documents/review/r051124c.json\n",
      "Processing speech: https://www.bis.org/api/documents/review/r051124d.json\n",
      "Processing speech: https://www.bis.org/api/documents/review/r051124e.json\n"
     ]
    },
    {
     "name": "stderr",
     "output_type": "stream",
     "text": [
      " 15%|█▌        | 3049/20093 [04:36<29:54,  9.50it/s]"
     ]
    },
    {
     "name": "stdout",
     "output_type": "stream",
     "text": [
      "Processing speech: https://www.bis.org/api/documents/review/r051124f.json\n",
      "Processing speech: https://www.bis.org/api/documents/review/r051130a.json\n",
      "Processing speech: https://www.bis.org/api/documents/review/r051130b.json\n",
      "Processing speech: https://www.bis.org/api/documents/review/r051130c.json\n"
     ]
    },
    {
     "name": "stderr",
     "output_type": "stream",
     "text": [
      " 15%|█▌        | 3053/20093 [04:36<25:32, 11.12it/s]"
     ]
    },
    {
     "name": "stdout",
     "output_type": "stream",
     "text": [
      "Processing speech: https://www.bis.org/api/documents/review/r051130d.json\n",
      "Processing speech: https://www.bis.org/api/documents/review/r051130e.json\n",
      "Processing speech: https://www.bis.org/api/documents/review/r051130f.json\n"
     ]
    },
    {
     "name": "stderr",
     "output_type": "stream",
     "text": [
      " 15%|█▌        | 3055/20093 [04:37<23:27, 12.10it/s]"
     ]
    },
    {
     "name": "stdout",
     "output_type": "stream",
     "text": [
      "Processing speech: https://www.bis.org/api/documents/review/r051207a.json\n",
      "Processing speech: https://www.bis.org/api/documents/review/r051207c.json\n",
      "Processing speech: https://www.bis.org/api/documents/review/r051207d.json\n"
     ]
    },
    {
     "name": "stderr",
     "output_type": "stream",
     "text": [
      " 15%|█▌        | 3059/20093 [04:37<22:21, 12.69it/s]"
     ]
    },
    {
     "name": "stdout",
     "output_type": "stream",
     "text": [
      "Processing speech: https://www.bis.org/api/documents/review/r051207e.json\n",
      "Processing speech: https://www.bis.org/api/documents/review/r051207b.json\n",
      "Processing speech: https://www.bis.org/api/documents/review/r051213e.json\n"
     ]
    },
    {
     "name": "stderr",
     "output_type": "stream",
     "text": [
      " 15%|█▌        | 3061/20093 [04:37<21:36, 13.14it/s]"
     ]
    },
    {
     "name": "stdout",
     "output_type": "stream",
     "text": [
      "Processing speech: https://www.bis.org/api/documents/review/r051213d.json\n",
      "Processing speech: https://www.bis.org/api/documents/review/r051213c.json\n",
      "Processing speech: https://www.bis.org/api/documents/review/r051213b.json\n"
     ]
    },
    {
     "name": "stderr",
     "output_type": "stream",
     "text": [
      " 15%|█▌        | 3065/20093 [04:37<19:43, 14.38it/s]"
     ]
    },
    {
     "name": "stdout",
     "output_type": "stream",
     "text": [
      "Processing speech: https://www.bis.org/api/documents/review/r051213a.json\n",
      "Processing speech: https://www.bis.org/api/documents/review/r051212i.json\n",
      "Processing speech: https://www.bis.org/api/documents/review/r051212h.json\n",
      "Processing speech: https://www.bis.org/api/documents/review/r051212g.json\n"
     ]
    },
    {
     "name": "stderr",
     "output_type": "stream",
     "text": [
      " 15%|█▌        | 3069/20093 [04:37<19:22, 14.65it/s]"
     ]
    },
    {
     "name": "stdout",
     "output_type": "stream",
     "text": [
      "Processing speech: https://www.bis.org/api/documents/review/r051212f.json\n",
      "Processing speech: https://www.bis.org/api/documents/review/r051212e.json\n",
      "Processing speech: https://www.bis.org/api/documents/review/r051212d.json\n"
     ]
    },
    {
     "name": "stderr",
     "output_type": "stream",
     "text": [
      " 15%|█▌        | 3071/20093 [04:38<20:00, 14.17it/s]"
     ]
    },
    {
     "name": "stdout",
     "output_type": "stream",
     "text": [
      "Processing speech: https://www.bis.org/api/documents/review/r051212c.json\n",
      "Processing speech: https://www.bis.org/api/documents/review/r051212b.json\n",
      "Processing speech: https://www.bis.org/api/documents/review/r051212a.json\n"
     ]
    },
    {
     "name": "stderr",
     "output_type": "stream",
     "text": [
      " 15%|█▌        | 3073/20093 [04:38<19:59, 14.18it/s]"
     ]
    },
    {
     "name": "stdout",
     "output_type": "stream",
     "text": [
      "Processing speech: https://www.bis.org/api/documents/review/r051209g.json\n",
      "Processing speech: https://www.bis.org/api/documents/review/r051209f.json\n"
     ]
    },
    {
     "name": "stderr",
     "output_type": "stream",
     "text": [
      " 15%|█▌        | 3077/20093 [04:38<28:39,  9.89it/s]"
     ]
    },
    {
     "name": "stdout",
     "output_type": "stream",
     "text": [
      "Processing speech: https://www.bis.org/api/documents/review/r051209e.json\n",
      "Processing speech: https://www.bis.org/api/documents/review/r051209d.json\n",
      "Processing speech: https://www.bis.org/api/documents/review/r051209c.json\n"
     ]
    },
    {
     "name": "stderr",
     "output_type": "stream",
     "text": [
      " 15%|█▌        | 3079/20093 [04:38<26:00, 10.90it/s]"
     ]
    },
    {
     "name": "stdout",
     "output_type": "stream",
     "text": [
      "Processing speech: https://www.bis.org/api/documents/review/r051209b.json\n",
      "Processing speech: https://www.bis.org/api/documents/review/r051209a.json\n",
      "Processing speech: https://www.bis.org/api/documents/review/r051208h.json\n"
     ]
    },
    {
     "name": "stderr",
     "output_type": "stream",
     "text": [
      " 15%|█▌        | 3083/20093 [04:39<22:38, 12.52it/s]"
     ]
    },
    {
     "name": "stdout",
     "output_type": "stream",
     "text": [
      "Processing speech: https://www.bis.org/api/documents/review/r051208g.json\n",
      "Processing speech: https://www.bis.org/api/documents/review/r051208f.json\n",
      "Processing speech: https://www.bis.org/api/documents/review/r051208e.json\n"
     ]
    },
    {
     "name": "stderr",
     "output_type": "stream",
     "text": [
      " 15%|█▌        | 3085/20093 [04:39<21:17, 13.31it/s]"
     ]
    },
    {
     "name": "stdout",
     "output_type": "stream",
     "text": [
      "Processing speech: https://www.bis.org/api/documents/review/r051208d.json\n",
      "Processing speech: https://www.bis.org/api/documents/review/r051208c.json\n",
      "Processing speech: https://www.bis.org/api/documents/review/r051208b.json\n"
     ]
    },
    {
     "name": "stderr",
     "output_type": "stream",
     "text": [
      " 15%|█▌        | 3089/20093 [04:39<20:32, 13.80it/s]"
     ]
    },
    {
     "name": "stdout",
     "output_type": "stream",
     "text": [
      "Processing speech: https://www.bis.org/api/documents/review/r051208a.json\n",
      "Processing speech: https://www.bis.org/api/documents/review/r051214e.json\n",
      "Processing speech: https://www.bis.org/api/documents/review/r051214d.json\n",
      "Processing speech: https://www.bis.org/api/documents/review/r051214c.json\n"
     ]
    },
    {
     "name": "stderr",
     "output_type": "stream",
     "text": [
      " 15%|█▌        | 3093/20093 [04:39<19:54, 14.23it/s]"
     ]
    },
    {
     "name": "stdout",
     "output_type": "stream",
     "text": [
      "Processing speech: https://www.bis.org/api/documents/review/r051214b.json\n",
      "Processing speech: https://www.bis.org/api/documents/review/r051214a.json\n",
      "Processing speech: https://www.bis.org/api/documents/review/r051215a.json\n"
     ]
    },
    {
     "name": "stderr",
     "output_type": "stream",
     "text": [
      " 15%|█▌        | 3095/20093 [04:40<21:45, 13.02it/s]"
     ]
    },
    {
     "name": "stdout",
     "output_type": "stream",
     "text": [
      "Processing speech: https://www.bis.org/api/documents/review/r051215b.json\n",
      "Processing speech: https://www.bis.org/api/documents/review/r051215c.json\n",
      "Processing speech: https://www.bis.org/api/documents/review/r051215d.json\n"
     ]
    },
    {
     "name": "stderr",
     "output_type": "stream",
     "text": [
      " 15%|█▌        | 3099/20093 [04:40<21:16, 13.31it/s]"
     ]
    },
    {
     "name": "stdout",
     "output_type": "stream",
     "text": [
      "Processing speech: https://www.bis.org/api/documents/review/r051215e.json\n",
      "Processing speech: https://www.bis.org/api/documents/review/r051216a.json\n",
      "Processing speech: https://www.bis.org/api/documents/review/r051216e.json\n",
      "Processing speech: https://www.bis.org/api/documents/review/r051216d.json\n"
     ]
    },
    {
     "name": "stderr",
     "output_type": "stream",
     "text": [
      " 15%|█▌        | 3103/20093 [04:40<20:18, 13.94it/s]"
     ]
    },
    {
     "name": "stdout",
     "output_type": "stream",
     "text": [
      "Processing speech: https://www.bis.org/api/documents/review/r051216c.json\n",
      "Processing speech: https://www.bis.org/api/documents/review/r051216b.json\n",
      "Processing speech: https://www.bis.org/api/documents/review/r051028c.json\n"
     ]
    },
    {
     "name": "stderr",
     "output_type": "stream",
     "text": [
      " 15%|█▌        | 3107/20093 [04:40<19:58, 14.18it/s]"
     ]
    },
    {
     "name": "stdout",
     "output_type": "stream",
     "text": [
      "Processing speech: https://www.bis.org/api/documents/review/r051220a.json\n",
      "Processing speech: https://www.bis.org/api/documents/review/r051220b.json\n",
      "Processing speech: https://www.bis.org/api/documents/review/r051220c.json\n"
     ]
    },
    {
     "name": "stderr",
     "output_type": "stream",
     "text": [
      " 15%|█▌        | 3109/20093 [04:41<19:45, 14.33it/s]"
     ]
    },
    {
     "name": "stdout",
     "output_type": "stream",
     "text": [
      "Processing speech: https://www.bis.org/api/documents/review/r051220d.json\n",
      "Processing speech: https://www.bis.org/api/documents/review/r051220e.json\n",
      "Processing speech: https://www.bis.org/api/documents/review/r051220f.json\n",
      "Processing speech: https://www.bis.org/api/documents/review/r051220g.json\n"
     ]
    },
    {
     "name": "stderr",
     "output_type": "stream",
     "text": [
      " 15%|█▌        | 3113/20093 [04:41<28:01, 10.10it/s]"
     ]
    },
    {
     "name": "stdout",
     "output_type": "stream",
     "text": [
      "Processing speech: https://www.bis.org/api/documents/review/r051221a.json\n",
      "Processing speech: https://www.bis.org/api/documents/review/r051221f.json\n",
      "Processing speech: https://www.bis.org/api/documents/review/r051221e.json\n"
     ]
    },
    {
     "name": "stderr",
     "output_type": "stream",
     "text": [
      " 16%|█▌        | 3115/20093 [04:41<25:20, 11.17it/s]"
     ]
    },
    {
     "name": "stdout",
     "output_type": "stream",
     "text": [
      "Processing speech: https://www.bis.org/api/documents/review/r051221d.json\n",
      "Processing speech: https://www.bis.org/api/documents/review/r051221c.json\n",
      "Processing speech: https://www.bis.org/api/documents/review/r051221b.json\n"
     ]
    },
    {
     "name": "stderr",
     "output_type": "stream",
     "text": [
      " 16%|█▌        | 3119/20093 [04:42<22:11, 12.75it/s]"
     ]
    },
    {
     "name": "stdout",
     "output_type": "stream",
     "text": [
      "Processing speech: https://www.bis.org/api/documents/review/r051222f.json\n",
      "Processing speech: https://www.bis.org/api/documents/review/r051222e.json\n",
      "Processing speech: https://www.bis.org/api/documents/review/r051222d.json\n",
      "Processing speech: https://www.bis.org/api/documents/review/r051222c.json\n"
     ]
    },
    {
     "name": "stderr",
     "output_type": "stream",
     "text": [
      " 16%|█▌        | 3123/20093 [04:42<20:46, 13.61it/s]"
     ]
    },
    {
     "name": "stdout",
     "output_type": "stream",
     "text": [
      "Processing speech: https://www.bis.org/api/documents/review/r051222b.json\n",
      "Processing speech: https://www.bis.org/api/documents/review/r051222a.json\n",
      "Processing speech: https://www.bis.org/api/documents/review/r051222g.json\n",
      "Processing speech: https://www.bis.org/api/documents/review/r020412b.json\n"
     ]
    },
    {
     "name": "stderr",
     "output_type": "stream",
     "text": [
      " 16%|█▌        | 3125/20093 [04:42<20:17, 13.93it/s]"
     ]
    },
    {
     "name": "stdout",
     "output_type": "stream",
     "text": [
      "Processing speech: https://www.bis.org/api/documents/review/r020326c.json\n"
     ]
    },
    {
     "name": "stderr",
     "output_type": "stream",
     "text": [
      " 16%|█▌        | 3127/20093 [04:42<29:39,  9.54it/s]"
     ]
    },
    {
     "name": "stdout",
     "output_type": "stream",
     "text": [
      "Processing speech: https://www.bis.org/api/documents/review/r020213b.json\n",
      "Processing speech: https://www.bis.org/api/documents/review/r011005a.json\n",
      "Processing speech: https://www.bis.org/api/documents/review/r010508b.json\n"
     ]
    },
    {
     "name": "stderr",
     "output_type": "stream",
     "text": [
      " 16%|█▌        | 3131/20093 [04:43<24:53, 11.36it/s]"
     ]
    },
    {
     "name": "stdout",
     "output_type": "stream",
     "text": [
      "Processing speech: https://www.bis.org/api/documents/review/r010224c.json\n",
      "Processing speech: https://www.bis.org/api/documents/review/r010209d.json\n",
      "Processing speech: https://www.bis.org/api/documents/review/r990428a.json\n"
     ]
    },
    {
     "name": "stderr",
     "output_type": "stream",
     "text": [
      " 16%|█▌        | 3133/20093 [04:43<23:32, 12.01it/s]"
     ]
    },
    {
     "name": "stdout",
     "output_type": "stream",
     "text": [
      "Processing speech: https://www.bis.org/api/documents/review/r031121e.json\n",
      "Processing speech: https://www.bis.org/api/documents/review/r031124f.json\n",
      "Processing speech: https://www.bis.org/api/documents/review/r030430b.json\n"
     ]
    },
    {
     "name": "stderr",
     "output_type": "stream",
     "text": [
      " 16%|█▌        | 3137/20093 [04:43<21:31, 13.13it/s]"
     ]
    },
    {
     "name": "stdout",
     "output_type": "stream",
     "text": [
      "Processing speech: https://www.bis.org/api/documents/review/r030828d.json\n",
      "Processing speech: https://www.bis.org/api/documents/review/r030721d.json\n",
      "Processing speech: https://www.bis.org/api/documents/review/r031223c.json\n",
      "Processing speech: https://www.bis.org/api/documents/review/r031215g.json\n"
     ]
    },
    {
     "name": "stderr",
     "output_type": "stream",
     "text": [
      " 16%|█▌        | 3141/20093 [04:43<20:46, 13.60it/s]"
     ]
    },
    {
     "name": "stdout",
     "output_type": "stream",
     "text": [
      "Processing speech: https://www.bis.org/api/documents/review/r031212f.json\n",
      "Processing speech: https://www.bis.org/api/documents/review/r031202a.json\n",
      "Processing speech: https://www.bis.org/api/documents/review/r031031d.json\n",
      "Processing speech: https://www.bis.org/api/documents/review/r031031g.json\n"
     ]
    },
    {
     "name": "stderr",
     "output_type": "stream",
     "text": [
      " 16%|█▌        | 3145/20093 [04:44<20:32, 13.75it/s]"
     ]
    },
    {
     "name": "stdout",
     "output_type": "stream",
     "text": [
      "Processing speech: https://www.bis.org/api/documents/review/r030930d.json\n",
      "Processing speech: https://www.bis.org/api/documents/review/r030918a.json\n",
      "Processing speech: https://www.bis.org/api/documents/review/r030721c.json\n"
     ]
    },
    {
     "name": "stderr",
     "output_type": "stream",
     "text": [
      " 16%|█▌        | 3147/20093 [04:44<20:16, 13.93it/s]"
     ]
    },
    {
     "name": "stdout",
     "output_type": "stream",
     "text": [
      "Processing speech: https://www.bis.org/api/documents/review/r030710b.json\n",
      "Processing speech: https://www.bis.org/api/documents/review/r030430d.json\n",
      "Processing speech: https://www.bis.org/api/documents/review/r030331d.json\n"
     ]
    },
    {
     "name": "stderr",
     "output_type": "stream",
     "text": [
      " 16%|█▌        | 3151/20093 [04:44<19:52, 14.21it/s]"
     ]
    },
    {
     "name": "stdout",
     "output_type": "stream",
     "text": [
      "Processing speech: https://www.bis.org/api/documents/review/r030305c.json\n",
      "Processing speech: https://www.bis.org/api/documents/review/r030220c.json\n",
      "Processing speech: https://www.bis.org/api/documents/review/r030220d.json\n"
     ]
    },
    {
     "name": "stderr",
     "output_type": "stream",
     "text": [
      " 16%|█▌        | 3153/20093 [04:44<20:24, 13.84it/s]"
     ]
    },
    {
     "name": "stdout",
     "output_type": "stream",
     "text": [
      "Processing speech: https://www.bis.org/api/documents/review/r030220e.json\n",
      "Processing speech: https://www.bis.org/api/documents/review/r030212a.json\n",
      "Processing speech: https://www.bis.org/api/documents/review/r030212e.json\n"
     ]
    },
    {
     "name": "stderr",
     "output_type": "stream",
     "text": [
      " 16%|█▌        | 3157/20093 [04:44<20:17, 13.91it/s]"
     ]
    },
    {
     "name": "stdout",
     "output_type": "stream",
     "text": [
      "Processing speech: https://www.bis.org/api/documents/review/r020425c.json\n",
      "Processing speech: https://www.bis.org/api/documents/review/r060123b.json\n",
      "Processing speech: https://www.bis.org/api/documents/review/r060123c.json\n"
     ]
    },
    {
     "name": "stderr",
     "output_type": "stream",
     "text": [
      " 16%|█▌        | 3159/20093 [04:45<20:10, 13.99it/s]"
     ]
    },
    {
     "name": "stdout",
     "output_type": "stream",
     "text": [
      "Processing speech: https://www.bis.org/api/documents/review/r060123d.json\n",
      "Processing speech: https://www.bis.org/api/documents/review/r060123e.json\n",
      "Processing speech: https://www.bis.org/api/documents/review/r060123f.json\n"
     ]
    },
    {
     "name": "stderr",
     "output_type": "stream",
     "text": [
      " 16%|█▌        | 3163/20093 [04:45<20:28, 13.78it/s]"
     ]
    },
    {
     "name": "stdout",
     "output_type": "stream",
     "text": [
      "Processing speech: https://www.bis.org/api/documents/review/r060123a.json\n",
      "Processing speech: https://www.bis.org/api/documents/review/r060126b.json\n",
      "Processing speech: https://www.bis.org/api/documents/review/r060126c.json\n"
     ]
    },
    {
     "name": "stderr",
     "output_type": "stream",
     "text": [
      " 16%|█▌        | 3167/20093 [04:45<20:08, 14.01it/s]"
     ]
    },
    {
     "name": "stdout",
     "output_type": "stream",
     "text": [
      "Processing speech: https://www.bis.org/api/documents/review/r060126d.json\n",
      "Processing speech: https://www.bis.org/api/documents/review/r060126e.json\n",
      "Processing speech: https://www.bis.org/api/documents/review/r060126a.json\n"
     ]
    },
    {
     "name": "stderr",
     "output_type": "stream",
     "text": [
      " 16%|█▌        | 3169/20093 [04:45<20:38, 13.67it/s]"
     ]
    },
    {
     "name": "stdout",
     "output_type": "stream",
     "text": [
      "Processing speech: https://www.bis.org/api/documents/review/r060127e.json\n",
      "Processing speech: https://www.bis.org/api/documents/review/r060127f.json\n",
      "Processing speech: https://www.bis.org/api/documents/review/r060127a.json\n"
     ]
    },
    {
     "name": "stderr",
     "output_type": "stream",
     "text": [
      " 16%|█▌        | 3171/20093 [04:45<19:56, 14.14it/s]"
     ]
    },
    {
     "name": "stdout",
     "output_type": "stream",
     "text": [
      "Processing speech: https://www.bis.org/api/documents/review/r060127b.json\n",
      "Processing speech: https://www.bis.org/api/documents/review/r060127c.json\n",
      "Processing speech: https://www.bis.org/api/documents/review/r060127d.json\n"
     ]
    },
    {
     "name": "stderr",
     "output_type": "stream",
     "text": [
      " 16%|█▌        | 3175/20093 [04:46<21:33, 13.08it/s]"
     ]
    },
    {
     "name": "stdout",
     "output_type": "stream",
     "text": [
      "Processing speech: https://www.bis.org/api/documents/review/r060130b.json\n",
      "Processing speech: https://www.bis.org/api/documents/review/r060130c.json\n",
      "Processing speech: https://www.bis.org/api/documents/review/r060130d.json\n",
      "Processing speech: https://www.bis.org/api/documents/review/r060130e.json\n"
     ]
    },
    {
     "name": "stderr",
     "output_type": "stream",
     "text": [
      " 16%|█▌        | 3179/20093 [04:46<24:12, 11.65it/s]"
     ]
    },
    {
     "name": "stdout",
     "output_type": "stream",
     "text": [
      "Processing speech: https://www.bis.org/api/documents/review/r060130f.json\n",
      "Processing speech: https://www.bis.org/api/documents/review/r060130a.json\n",
      "Processing speech: https://www.bis.org/api/documents/review/r060201b.json\n"
     ]
    },
    {
     "name": "stderr",
     "output_type": "stream",
     "text": [
      " 16%|█▌        | 3181/20093 [04:46<24:29, 11.51it/s]"
     ]
    },
    {
     "name": "stdout",
     "output_type": "stream",
     "text": [
      "Processing speech: https://www.bis.org/api/documents/review/r060201c.json\n",
      "Processing speech: https://www.bis.org/api/documents/review/r060201d.json\n"
     ]
    },
    {
     "name": "stderr",
     "output_type": "stream",
     "text": [
      " 16%|█▌        | 3183/20093 [04:47<39:08,  7.20it/s]"
     ]
    },
    {
     "name": "stdout",
     "output_type": "stream",
     "text": [
      "Processing speech: https://www.bis.org/api/documents/review/r060201a.json\n",
      "Processing speech: https://www.bis.org/api/documents/review/r060203d.json\n",
      "Processing speech: https://www.bis.org/api/documents/review/r060203e.json\n"
     ]
    },
    {
     "name": "stderr",
     "output_type": "stream",
     "text": [
      " 16%|█▌        | 3187/20093 [04:47<29:14,  9.64it/s]"
     ]
    },
    {
     "name": "stdout",
     "output_type": "stream",
     "text": [
      "Processing speech: https://www.bis.org/api/documents/review/r060203f.json\n",
      "Processing speech: https://www.bis.org/api/documents/review/r060203a.json\n",
      "Processing speech: https://www.bis.org/api/documents/review/r060203b.json\n"
     ]
    },
    {
     "name": "stderr",
     "output_type": "stream",
     "text": [
      " 16%|█▌        | 3189/20093 [04:47<26:21, 10.69it/s]"
     ]
    },
    {
     "name": "stdout",
     "output_type": "stream",
     "text": [
      "Processing speech: https://www.bis.org/api/documents/review/r060203c.json\n",
      "Processing speech: https://www.bis.org/api/documents/review/r060206b.json\n",
      "Processing speech: https://www.bis.org/api/documents/review/r060206c.json\n"
     ]
    },
    {
     "name": "stderr",
     "output_type": "stream",
     "text": [
      " 16%|█▌        | 3193/20093 [04:48<23:11, 12.15it/s]"
     ]
    },
    {
     "name": "stdout",
     "output_type": "stream",
     "text": [
      "Processing speech: https://www.bis.org/api/documents/review/r060206d.json\n",
      "Processing speech: https://www.bis.org/api/documents/review/r060206a.json\n",
      "Processing speech: https://www.bis.org/api/documents/review/r060208d.json\n"
     ]
    },
    {
     "name": "stderr",
     "output_type": "stream",
     "text": [
      " 16%|█▌        | 3195/20093 [04:48<22:45, 12.37it/s]"
     ]
    },
    {
     "name": "stdout",
     "output_type": "stream",
     "text": [
      "Processing speech: https://www.bis.org/api/documents/review/r060208e.json\n",
      "Processing speech: https://www.bis.org/api/documents/review/r060208f.json\n",
      "Processing speech: https://www.bis.org/api/documents/review/r060208a.json\n"
     ]
    },
    {
     "name": "stderr",
     "output_type": "stream",
     "text": [
      " 16%|█▌        | 3199/20093 [04:48<22:08, 12.71it/s]"
     ]
    },
    {
     "name": "stdout",
     "output_type": "stream",
     "text": [
      "Processing speech: https://www.bis.org/api/documents/review/r060208b.json\n",
      "Processing speech: https://www.bis.org/api/documents/review/r060208c.json\n",
      "Processing speech: https://www.bis.org/api/documents/review/r060215e.json\n"
     ]
    },
    {
     "name": "stderr",
     "output_type": "stream",
     "text": [
      " 16%|█▌        | 3201/20093 [04:48<21:17, 13.22it/s]"
     ]
    },
    {
     "name": "stdout",
     "output_type": "stream",
     "text": [
      "Processing speech: https://www.bis.org/api/documents/review/r060215a.json\n",
      "Processing speech: https://www.bis.org/api/documents/review/r060215b.json\n",
      "Processing speech: https://www.bis.org/api/documents/review/r060215c.json\n"
     ]
    },
    {
     "name": "stderr",
     "output_type": "stream",
     "text": [
      " 16%|█▌        | 3205/20093 [04:48<21:18, 13.21it/s]"
     ]
    },
    {
     "name": "stdout",
     "output_type": "stream",
     "text": [
      "Processing speech: https://www.bis.org/api/documents/review/r060215d.json\n",
      "Processing speech: https://www.bis.org/api/documents/review/r060217b.json\n",
      "Processing speech: https://www.bis.org/api/documents/review/r060217c.json\n"
     ]
    },
    {
     "name": "stderr",
     "output_type": "stream",
     "text": [
      " 16%|█▌        | 3207/20093 [04:49<20:42, 13.59it/s]"
     ]
    },
    {
     "name": "stdout",
     "output_type": "stream",
     "text": [
      "Processing speech: https://www.bis.org/api/documents/review/r060217d.json\n",
      "Processing speech: https://www.bis.org/api/documents/review/r060217e.json\n",
      "Processing speech: https://www.bis.org/api/documents/review/r060217a.json\n"
     ]
    },
    {
     "name": "stderr",
     "output_type": "stream",
     "text": [
      " 16%|█▌        | 3211/20093 [04:49<20:16, 13.88it/s]"
     ]
    },
    {
     "name": "stdout",
     "output_type": "stream",
     "text": [
      "Processing speech: https://www.bis.org/api/documents/review/r060222b.json\n",
      "Processing speech: https://www.bis.org/api/documents/review/r060222c.json\n",
      "Processing speech: https://www.bis.org/api/documents/review/r060222d.json\n"
     ]
    },
    {
     "name": "stderr",
     "output_type": "stream",
     "text": [
      " 16%|█▌        | 3215/20093 [04:49<19:41, 14.28it/s]"
     ]
    },
    {
     "name": "stdout",
     "output_type": "stream",
     "text": [
      "Processing speech: https://www.bis.org/api/documents/review/r060222e.json\n",
      "Processing speech: https://www.bis.org/api/documents/review/r060222a.json\n",
      "Processing speech: https://www.bis.org/api/documents/review/r060224d.json\n"
     ]
    },
    {
     "name": "stderr",
     "output_type": "stream",
     "text": [
      " 16%|█▌        | 3217/20093 [04:49<21:39, 12.98it/s]"
     ]
    },
    {
     "name": "stdout",
     "output_type": "stream",
     "text": [
      "Processing speech: https://www.bis.org/api/documents/review/r060224e.json\n",
      "Processing speech: https://www.bis.org/api/documents/review/r060224a.json\n",
      "Processing speech: https://www.bis.org/api/documents/review/r060224c.json\n"
     ]
    },
    {
     "name": "stderr",
     "output_type": "stream",
     "text": [
      " 16%|█▌        | 3219/20093 [04:50<22:02, 12.76it/s]"
     ]
    },
    {
     "name": "stdout",
     "output_type": "stream",
     "text": [
      "Processing speech: https://www.bis.org/api/documents/review/r060301a.json\n",
      "Processing speech: https://www.bis.org/api/documents/review/r060301b.json\n",
      "Processing speech: https://www.bis.org/api/documents/review/r060301c.json\n"
     ]
    },
    {
     "name": "stderr",
     "output_type": "stream",
     "text": [
      " 16%|█▌        | 3223/20093 [04:50<21:04, 13.34it/s]"
     ]
    },
    {
     "name": "stdout",
     "output_type": "stream",
     "text": [
      "Processing speech: https://www.bis.org/api/documents/review/r060301d.json\n",
      "Processing speech: https://www.bis.org/api/documents/review/r060301e.json\n",
      "Processing speech: https://www.bis.org/api/documents/review/r060303a.json\n"
     ]
    },
    {
     "name": "stderr",
     "output_type": "stream",
     "text": [
      " 16%|█▌        | 3225/20093 [04:50<20:48, 13.52it/s]"
     ]
    },
    {
     "name": "stdout",
     "output_type": "stream",
     "text": [
      "Processing speech: https://www.bis.org/api/documents/review/r060303b.json\n",
      "Processing speech: https://www.bis.org/api/documents/review/r060303c.json\n",
      "Processing speech: https://www.bis.org/api/documents/review/r060303d.json\n"
     ]
    },
    {
     "name": "stderr",
     "output_type": "stream",
     "text": [
      " 16%|█▌        | 3227/20093 [04:50<20:52, 13.47it/s]"
     ]
    },
    {
     "name": "stdout",
     "output_type": "stream",
     "text": [
      "Processing speech: https://www.bis.org/api/documents/review/r060303e.json\n",
      "Processing speech: https://www.bis.org/api/documents/review/r060308a.json\n"
     ]
    },
    {
     "name": "stderr",
     "output_type": "stream",
     "text": [
      " 16%|█▌        | 3231/20093 [04:51<49:56,  5.63it/s]  "
     ]
    },
    {
     "name": "stdout",
     "output_type": "stream",
     "text": [
      "Processing speech: https://www.bis.org/api/documents/review/r060308b.json\n",
      "Processing speech: https://www.bis.org/api/documents/review/r060308c.json\n",
      "Processing speech: https://www.bis.org/api/documents/review/r060308d.json\n"
     ]
    },
    {
     "name": "stderr",
     "output_type": "stream",
     "text": [
      " 16%|█▌        | 3233/20093 [04:52<41:06,  6.84it/s]"
     ]
    },
    {
     "name": "stdout",
     "output_type": "stream",
     "text": [
      "Processing speech: https://www.bis.org/api/documents/review/r060308e.json\n",
      "Processing speech: https://www.bis.org/api/documents/review/r060313a.json\n",
      "Processing speech: https://www.bis.org/api/documents/review/r060313b.json\n"
     ]
    },
    {
     "name": "stderr",
     "output_type": "stream",
     "text": [
      " 16%|█▌        | 3237/20093 [04:52<30:39,  9.16it/s]"
     ]
    },
    {
     "name": "stdout",
     "output_type": "stream",
     "text": [
      "Processing speech: https://www.bis.org/api/documents/review/r060313c.json\n",
      "Processing speech: https://www.bis.org/api/documents/review/r060313d.json\n",
      "Processing speech: https://www.bis.org/api/documents/review/r060314a.json\n"
     ]
    },
    {
     "name": "stderr",
     "output_type": "stream",
     "text": [
      " 16%|█▌        | 3239/20093 [04:52<27:18, 10.28it/s]"
     ]
    },
    {
     "name": "stdout",
     "output_type": "stream",
     "text": [
      "Processing speech: https://www.bis.org/api/documents/review/r060314b.json\n",
      "Processing speech: https://www.bis.org/api/documents/review/r060314c.json\n",
      "Processing speech: https://www.bis.org/api/documents/review/r060314d.json\n"
     ]
    },
    {
     "name": "stderr",
     "output_type": "stream",
     "text": [
      " 16%|█▌        | 3243/20093 [04:52<24:39, 11.39it/s]"
     ]
    },
    {
     "name": "stdout",
     "output_type": "stream",
     "text": [
      "Processing speech: https://www.bis.org/api/documents/review/r060316a.json\n",
      "Processing speech: https://www.bis.org/api/documents/review/r060316b.json\n",
      "Processing speech: https://www.bis.org/api/documents/review/r060316c.json\n"
     ]
    },
    {
     "name": "stderr",
     "output_type": "stream",
     "text": [
      " 16%|█▌        | 3245/20093 [04:52<23:31, 11.93it/s]"
     ]
    },
    {
     "name": "stdout",
     "output_type": "stream",
     "text": [
      "Processing speech: https://www.bis.org/api/documents/review/r060316d.json\n",
      "Processing speech: https://www.bis.org/api/documents/review/r060321a.json\n",
      "Processing speech: https://www.bis.org/api/documents/review/r060321b.json\n"
     ]
    },
    {
     "name": "stderr",
     "output_type": "stream",
     "text": [
      " 16%|█▌        | 3249/20093 [04:53<21:27, 13.08it/s]"
     ]
    },
    {
     "name": "stdout",
     "output_type": "stream",
     "text": [
      "Processing speech: https://www.bis.org/api/documents/review/r060321c.json\n",
      "Processing speech: https://www.bis.org/api/documents/review/r060321d.json\n",
      "Processing speech: https://www.bis.org/api/documents/review/r060321e.json\n"
     ]
    },
    {
     "name": "stderr",
     "output_type": "stream",
     "text": [
      " 16%|█▌        | 3253/20093 [04:53<20:27, 13.71it/s]"
     ]
    },
    {
     "name": "stdout",
     "output_type": "stream",
     "text": [
      "Processing speech: https://www.bis.org/api/documents/review/r060322a.json\n",
      "Processing speech: https://www.bis.org/api/documents/review/r060322c.json\n",
      "Processing speech: https://www.bis.org/api/documents/review/r060322d.json\n"
     ]
    },
    {
     "name": "stderr",
     "output_type": "stream",
     "text": [
      " 16%|█▌        | 3255/20093 [04:53<21:22, 13.13it/s]"
     ]
    },
    {
     "name": "stdout",
     "output_type": "stream",
     "text": [
      "Processing speech: https://www.bis.org/api/documents/review/r060324a.json\n",
      "Processing speech: https://www.bis.org/api/documents/review/r060324b.json\n",
      "Processing speech: https://www.bis.org/api/documents/review/r060324c.json\n"
     ]
    },
    {
     "name": "stderr",
     "output_type": "stream",
     "text": [
      " 16%|█▌        | 3257/20093 [04:54<31:00,  9.05it/s]"
     ]
    },
    {
     "name": "stdout",
     "output_type": "stream",
     "text": [
      "Processing speech: https://www.bis.org/api/documents/review/r060324d.json\n",
      "Processing speech: https://www.bis.org/api/documents/review/r060324e.json\n",
      "Processing speech: https://www.bis.org/api/documents/review/r060327a.json\n"
     ]
    },
    {
     "name": "stderr",
     "output_type": "stream",
     "text": [
      " 16%|█▌        | 3261/20093 [04:54<25:02, 11.20it/s]"
     ]
    },
    {
     "name": "stdout",
     "output_type": "stream",
     "text": [
      "Processing speech: https://www.bis.org/api/documents/review/r060327b.json\n",
      "Processing speech: https://www.bis.org/api/documents/review/r060327c.json\n",
      "Processing speech: https://www.bis.org/api/documents/review/r060327d.json\n",
      "Processing speech: https://www.bis.org/api/documents/review/r060327e.json\n"
     ]
    },
    {
     "name": "stderr",
     "output_type": "stream",
     "text": [
      " 16%|█▌        | 3265/20093 [04:54<21:54, 12.80it/s]"
     ]
    },
    {
     "name": "stdout",
     "output_type": "stream",
     "text": [
      "Processing speech: https://www.bis.org/api/documents/review/r060322b.json\n",
      "Processing speech: https://www.bis.org/api/documents/review/r060331a.json\n",
      "Processing speech: https://www.bis.org/api/documents/review/r060331b.json\n",
      "Processing speech: https://www.bis.org/api/documents/review/r060331c.json\n"
     ]
    },
    {
     "name": "stderr",
     "output_type": "stream",
     "text": [
      " 16%|█▋        | 3269/20093 [04:54<20:56, 13.39it/s]"
     ]
    },
    {
     "name": "stdout",
     "output_type": "stream",
     "text": [
      "Processing speech: https://www.bis.org/api/documents/review/r060331d.json\n",
      "Processing speech: https://www.bis.org/api/documents/review/r060331e.json\n",
      "Processing speech: https://www.bis.org/api/documents/review/r060403a.json\n"
     ]
    },
    {
     "name": "stderr",
     "output_type": "stream",
     "text": [
      " 16%|█▋        | 3273/20093 [04:55<20:16, 13.83it/s]"
     ]
    },
    {
     "name": "stdout",
     "output_type": "stream",
     "text": [
      "Processing speech: https://www.bis.org/api/documents/review/r060403b.json\n",
      "Processing speech: https://www.bis.org/api/documents/review/r060403c.json\n",
      "Processing speech: https://www.bis.org/api/documents/review/r060403d.json\n",
      "Processing speech: https://www.bis.org/api/documents/review/r060403e.json\n",
      "Processing speech: https://www.bis.org/api/documents/review/r060404a.json\n"
     ]
    },
    {
     "name": "stderr",
     "output_type": "stream",
     "text": [
      " 16%|█▋        | 3277/20093 [04:56<50:14,  5.58it/s]  "
     ]
    },
    {
     "name": "stdout",
     "output_type": "stream",
     "text": [
      "Processing speech: https://www.bis.org/api/documents/review/r060404b.json\n",
      "Processing speech: https://www.bis.org/api/documents/review/r060404c.json\n",
      "Processing speech: https://www.bis.org/api/documents/review/r060404e.json\n"
     ]
    },
    {
     "name": "stderr",
     "output_type": "stream",
     "text": [
      " 16%|█▋        | 3279/20093 [04:56<40:39,  6.89it/s]"
     ]
    },
    {
     "name": "stdout",
     "output_type": "stream",
     "text": [
      "Processing speech: https://www.bis.org/api/documents/review/r060405a.json\n",
      "Processing speech: https://www.bis.org/api/documents/review/r060405b.json\n",
      "Processing speech: https://www.bis.org/api/documents/review/r060405c.json\n"
     ]
    },
    {
     "name": "stderr",
     "output_type": "stream",
     "text": [
      " 16%|█▋        | 3283/20093 [04:56<30:11,  9.28it/s]"
     ]
    },
    {
     "name": "stdout",
     "output_type": "stream",
     "text": [
      "Processing speech: https://www.bis.org/api/documents/review/r060405d.json\n",
      "Processing speech: https://www.bis.org/api/documents/review/r060405e.json\n",
      "Processing speech: https://www.bis.org/api/documents/review/r060404d.json\n"
     ]
    },
    {
     "name": "stderr",
     "output_type": "stream",
     "text": [
      " 16%|█▋        | 3285/20093 [04:56<26:50, 10.44it/s]"
     ]
    },
    {
     "name": "stdout",
     "output_type": "stream",
     "text": [
      "Processing speech: https://www.bis.org/api/documents/review/r060406b.json\n",
      "Processing speech: https://www.bis.org/api/documents/review/r060406c.json\n",
      "Processing speech: https://www.bis.org/api/documents/review/r060406d.json\n"
     ]
    },
    {
     "name": "stderr",
     "output_type": "stream",
     "text": [
      " 16%|█▋        | 3289/20093 [04:57<23:03, 12.15it/s]"
     ]
    },
    {
     "name": "stdout",
     "output_type": "stream",
     "text": [
      "Processing speech: https://www.bis.org/api/documents/review/r060406e.json\n",
      "Processing speech: https://www.bis.org/api/documents/review/r060407c.json\n",
      "Processing speech: https://www.bis.org/api/documents/review/r060407d.json\n",
      "Processing speech: https://www.bis.org/api/documents/review/r060407e.json\n"
     ]
    },
    {
     "name": "stderr",
     "output_type": "stream",
     "text": [
      " 16%|█▋        | 3293/20093 [04:57<21:41, 12.91it/s]"
     ]
    },
    {
     "name": "stdout",
     "output_type": "stream",
     "text": [
      "Processing speech: https://www.bis.org/api/documents/review/r060407f.json\n",
      "Processing speech: https://www.bis.org/api/documents/review/r060407a.json\n",
      "Processing speech: https://www.bis.org/api/documents/review/r060407b.json\n"
     ]
    },
    {
     "name": "stderr",
     "output_type": "stream",
     "text": [
      " 16%|█▋        | 3295/20093 [04:57<21:18, 13.14it/s]"
     ]
    },
    {
     "name": "stdout",
     "output_type": "stream",
     "text": [
      "Processing speech: https://www.bis.org/api/documents/review/r060411a.json\n",
      "Processing speech: https://www.bis.org/api/documents/review/r060411b.json\n",
      "Processing speech: https://www.bis.org/api/documents/review/r060411c.json\n"
     ]
    },
    {
     "name": "stderr",
     "output_type": "stream",
     "text": [
      " 16%|█▋        | 3297/20093 [04:57<22:28, 12.45it/s]"
     ]
    },
    {
     "name": "stdout",
     "output_type": "stream",
     "text": [
      "Processing speech: https://www.bis.org/api/documents/review/r060411d.json\n",
      "Processing speech: https://www.bis.org/api/documents/review/r060411e.json\n"
     ]
    },
    {
     "name": "stderr",
     "output_type": "stream",
     "text": [
      " 16%|█▋        | 3301/20093 [04:58<28:05,  9.96it/s]"
     ]
    },
    {
     "name": "stdout",
     "output_type": "stream",
     "text": [
      "Processing speech: https://www.bis.org/api/documents/review/r060418a.json\n",
      "Processing speech: https://www.bis.org/api/documents/review/r060418b.json\n",
      "Processing speech: https://www.bis.org/api/documents/review/r060418c.json\n"
     ]
    },
    {
     "name": "stderr",
     "output_type": "stream",
     "text": [
      " 16%|█▋        | 3303/20093 [04:58<28:11,  9.93it/s]"
     ]
    },
    {
     "name": "stdout",
     "output_type": "stream",
     "text": [
      "Processing speech: https://www.bis.org/api/documents/review/r060418d.json\n",
      "Processing speech: https://www.bis.org/api/documents/review/r060418e.json\n",
      "Processing speech: https://www.bis.org/api/documents/review/r060419b.json\n"
     ]
    },
    {
     "name": "stderr",
     "output_type": "stream",
     "text": [
      " 16%|█▋        | 3307/20093 [04:58<24:00, 11.66it/s]"
     ]
    },
    {
     "name": "stdout",
     "output_type": "stream",
     "text": [
      "Processing speech: https://www.bis.org/api/documents/review/r060419c.json\n",
      "Processing speech: https://www.bis.org/api/documents/review/r060419d.json\n",
      "Processing speech: https://www.bis.org/api/documents/review/r060419e.json\n"
     ]
    },
    {
     "name": "stderr",
     "output_type": "stream",
     "text": [
      " 16%|█▋        | 3309/20093 [04:59<23:11, 12.07it/s]"
     ]
    },
    {
     "name": "stdout",
     "output_type": "stream",
     "text": [
      "Processing speech: https://www.bis.org/api/documents/review/r060419a.json\n",
      "Processing speech: https://www.bis.org/api/documents/review/r060421a.json\n",
      "Processing speech: https://www.bis.org/api/documents/review/r060421b.json\n"
     ]
    },
    {
     "name": "stderr",
     "output_type": "stream",
     "text": [
      " 16%|█▋        | 3313/20093 [04:59<20:57, 13.34it/s]"
     ]
    },
    {
     "name": "stdout",
     "output_type": "stream",
     "text": [
      "Processing speech: https://www.bis.org/api/documents/review/r060421c.json\n",
      "Processing speech: https://www.bis.org/api/documents/review/r060421d.json\n",
      "Processing speech: https://www.bis.org/api/documents/review/r060421e.json\n",
      "Processing speech: https://www.bis.org/api/documents/review/r060427a.json\n"
     ]
    },
    {
     "name": "stderr",
     "output_type": "stream",
     "text": [
      " 17%|█▋        | 3317/20093 [04:59<20:14, 13.82it/s]"
     ]
    },
    {
     "name": "stdout",
     "output_type": "stream",
     "text": [
      "Processing speech: https://www.bis.org/api/documents/review/r060427b.json\n",
      "Processing speech: https://www.bis.org/api/documents/review/r060427c.json\n",
      "Processing speech: https://www.bis.org/api/documents/review/r060427d.json\n",
      "Processing speech: https://www.bis.org/api/documents/review/r060427e.json\n"
     ]
    },
    {
     "name": "stderr",
     "output_type": "stream",
     "text": [
      " 17%|█▋        | 3321/20093 [04:59<20:47, 13.44it/s]"
     ]
    },
    {
     "name": "stdout",
     "output_type": "stream",
     "text": [
      "Processing speech: https://www.bis.org/api/documents/review/r060502c.json\n",
      "Processing speech: https://www.bis.org/api/documents/review/r060502d.json\n",
      "Processing speech: https://www.bis.org/api/documents/review/r060502e.json\n"
     ]
    },
    {
     "name": "stderr",
     "output_type": "stream",
     "text": [
      " 17%|█▋        | 3323/20093 [05:00<20:38, 13.54it/s]"
     ]
    },
    {
     "name": "stdout",
     "output_type": "stream",
     "text": [
      "Processing speech: https://www.bis.org/api/documents/review/r060502a.json\n",
      "Processing speech: https://www.bis.org/api/documents/review/r060502b.json\n",
      "Processing speech: https://www.bis.org/api/documents/review/r060505b.json\n"
     ]
    },
    {
     "name": "stderr",
     "output_type": "stream",
     "text": [
      " 17%|█▋        | 3325/20093 [05:00<20:35, 13.58it/s]"
     ]
    },
    {
     "name": "stdout",
     "output_type": "stream",
     "text": [
      "Processing speech: https://www.bis.org/api/documents/review/r060505c.json\n",
      "Processing speech: https://www.bis.org/api/documents/review/r060505d.json\n"
     ]
    },
    {
     "name": "stderr",
     "output_type": "stream",
     "text": [
      " 17%|█▋        | 3329/20093 [05:00<22:57, 12.17it/s]"
     ]
    },
    {
     "name": "stdout",
     "output_type": "stream",
     "text": [
      "Processing speech: https://www.bis.org/api/documents/review/r060505a.json\n",
      "Processing speech: https://www.bis.org/api/documents/review/r060509a.json\n",
      "Processing speech: https://www.bis.org/api/documents/review/r060509b.json\n",
      "Processing speech: https://www.bis.org/api/documents/review/r060509c.json\n"
     ]
    },
    {
     "name": "stderr",
     "output_type": "stream",
     "text": [
      " 17%|█▋        | 3333/20093 [05:01<29:27,  9.48it/s]"
     ]
    },
    {
     "name": "stdout",
     "output_type": "stream",
     "text": [
      "Processing speech: https://www.bis.org/api/documents/review/r060509d.json\n",
      "Processing speech: https://www.bis.org/api/documents/review/r060509e.json\n",
      "Processing speech: https://www.bis.org/api/documents/review/r060512a.json\n"
     ]
    },
    {
     "name": "stderr",
     "output_type": "stream",
     "text": [
      " 17%|█▋        | 3335/20093 [05:01<26:26, 10.56it/s]"
     ]
    },
    {
     "name": "stdout",
     "output_type": "stream",
     "text": [
      "Processing speech: https://www.bis.org/api/documents/review/r060512b.json\n",
      "Processing speech: https://www.bis.org/api/documents/review/r060512c.json\n",
      "Processing speech: https://www.bis.org/api/documents/review/r060512e.json\n"
     ]
    },
    {
     "name": "stderr",
     "output_type": "stream",
     "text": [
      " 17%|█▋        | 3339/20093 [05:01<24:05, 11.59it/s]"
     ]
    },
    {
     "name": "stdout",
     "output_type": "stream",
     "text": [
      "Processing speech: https://www.bis.org/api/documents/review/r060516a.json\n",
      "Processing speech: https://www.bis.org/api/documents/review/r060516b.json\n",
      "Processing speech: https://www.bis.org/api/documents/review/r060516c.json\n"
     ]
    },
    {
     "name": "stderr",
     "output_type": "stream",
     "text": [
      " 17%|█▋        | 3341/20093 [05:01<23:12, 12.03it/s]"
     ]
    },
    {
     "name": "stdout",
     "output_type": "stream",
     "text": [
      "Processing speech: https://www.bis.org/api/documents/review/r060516d.json\n",
      "Processing speech: https://www.bis.org/api/documents/review/r060516e.json\n",
      "Processing speech: https://www.bis.org/api/documents/review/r060518e.json\n"
     ]
    },
    {
     "name": "stderr",
     "output_type": "stream",
     "text": [
      " 17%|█▋        | 3345/20093 [05:01<21:25, 13.03it/s]"
     ]
    },
    {
     "name": "stdout",
     "output_type": "stream",
     "text": [
      "Processing speech: https://www.bis.org/api/documents/review/r060518c.json\n",
      "Processing speech: https://www.bis.org/api/documents/review/r060518d.json\n",
      "Processing speech: https://www.bis.org/api/documents/review/r060518b.json\n",
      "Processing speech: https://www.bis.org/api/documents/review/r060518a.json\n"
     ]
    },
    {
     "name": "stderr",
     "output_type": "stream",
     "text": [
      " 17%|█▋        | 3349/20093 [05:02<21:04, 13.24it/s]"
     ]
    },
    {
     "name": "stdout",
     "output_type": "stream",
     "text": [
      "Processing speech: https://www.bis.org/api/documents/review/r060519d.json\n",
      "Processing speech: https://www.bis.org/api/documents/review/r060519c.json\n",
      "Processing speech: https://www.bis.org/api/documents/review/r060519e.json\n"
     ]
    },
    {
     "name": "stderr",
     "output_type": "stream",
     "text": [
      " 17%|█▋        | 3351/20093 [05:02<20:39, 13.51it/s]"
     ]
    },
    {
     "name": "stdout",
     "output_type": "stream",
     "text": [
      "Processing speech: https://www.bis.org/api/documents/review/r060519b.json\n",
      "Processing speech: https://www.bis.org/api/documents/review/r060519a.json\n",
      "Processing speech: https://www.bis.org/api/documents/review/r060522a.json\n"
     ]
    },
    {
     "name": "stderr",
     "output_type": "stream",
     "text": [
      " 17%|█▋        | 3355/20093 [05:02<20:47, 13.42it/s]"
     ]
    },
    {
     "name": "stdout",
     "output_type": "stream",
     "text": [
      "Processing speech: https://www.bis.org/api/documents/review/r060522b.json\n",
      "Processing speech: https://www.bis.org/api/documents/review/r060522c.json\n",
      "Processing speech: https://www.bis.org/api/documents/review/r060522d.json\n"
     ]
    },
    {
     "name": "stderr",
     "output_type": "stream",
     "text": [
      " 17%|█▋        | 3357/20093 [05:02<20:54, 13.34it/s]"
     ]
    },
    {
     "name": "stdout",
     "output_type": "stream",
     "text": [
      "Processing speech: https://www.bis.org/api/documents/review/r060522e.json\n",
      "Processing speech: https://www.bis.org/api/documents/review/r060523a.json\n",
      "Processing speech: https://www.bis.org/api/documents/review/r060523b.json\n"
     ]
    },
    {
     "name": "stderr",
     "output_type": "stream",
     "text": [
      " 17%|█▋        | 3361/20093 [05:03<20:43, 13.46it/s]"
     ]
    },
    {
     "name": "stdout",
     "output_type": "stream",
     "text": [
      "Processing speech: https://www.bis.org/api/documents/review/r060523c.json\n",
      "Processing speech: https://www.bis.org/api/documents/review/r060523d.json\n",
      "Processing speech: https://www.bis.org/api/documents/review/r060523e.json\n"
     ]
    },
    {
     "name": "stderr",
     "output_type": "stream",
     "text": [
      " 17%|█▋        | 3363/20093 [05:03<20:09, 13.83it/s]"
     ]
    },
    {
     "name": "stdout",
     "output_type": "stream",
     "text": [
      "Processing speech: https://www.bis.org/api/documents/review/r060526a.json\n",
      "Processing speech: https://www.bis.org/api/documents/review/r060526b.json\n",
      "Processing speech: https://www.bis.org/api/documents/review/r060526c.json\n"
     ]
    },
    {
     "name": "stderr",
     "output_type": "stream",
     "text": [
      " 17%|█▋        | 3367/20093 [05:03<19:35, 14.22it/s]"
     ]
    },
    {
     "name": "stdout",
     "output_type": "stream",
     "text": [
      "Processing speech: https://www.bis.org/api/documents/review/r060526d.json\n",
      "Processing speech: https://www.bis.org/api/documents/review/r060526e.json\n",
      "Processing speech: https://www.bis.org/api/documents/review/r060529e.json\n",
      "Processing speech: https://www.bis.org/api/documents/review/r060529f.json\n"
     ]
    },
    {
     "name": "stderr",
     "output_type": "stream",
     "text": [
      " 17%|█▋        | 3371/20093 [05:03<20:52, 13.35it/s]"
     ]
    },
    {
     "name": "stdout",
     "output_type": "stream",
     "text": [
      "Processing speech: https://www.bis.org/api/documents/review/r060529a.json\n",
      "Processing speech: https://www.bis.org/api/documents/review/r060529b.json\n",
      "Processing speech: https://www.bis.org/api/documents/review/r060529c.json\n"
     ]
    },
    {
     "name": "stderr",
     "output_type": "stream",
     "text": [
      " 17%|█▋        | 3373/20093 [05:04<21:34, 12.91it/s]"
     ]
    },
    {
     "name": "stdout",
     "output_type": "stream",
     "text": [
      "Processing speech: https://www.bis.org/api/documents/review/r060529d.json\n",
      "Processing speech: https://www.bis.org/api/documents/review/r060531c.json\n",
      "Processing speech: https://www.bis.org/api/documents/review/r060531d.json\n"
     ]
    },
    {
     "name": "stderr",
     "output_type": "stream",
     "text": [
      " 17%|█▋        | 3377/20093 [05:04<20:38, 13.49it/s]"
     ]
    },
    {
     "name": "stdout",
     "output_type": "stream",
     "text": [
      "Processing speech: https://www.bis.org/api/documents/review/r060531a.json\n",
      "Processing speech: https://www.bis.org/api/documents/review/r060531b.json\n",
      "Processing speech: https://www.bis.org/api/documents/review/r060531h.json\n",
      "Processing speech: https://www.bis.org/api/documents/review/r060531e.json\n"
     ]
    },
    {
     "name": "stderr",
     "output_type": "stream",
     "text": [
      " 17%|█▋        | 3381/20093 [05:04<20:09, 13.82it/s]"
     ]
    },
    {
     "name": "stdout",
     "output_type": "stream",
     "text": [
      "Processing speech: https://www.bis.org/api/documents/review/r060531f.json\n",
      "Processing speech: https://www.bis.org/api/documents/review/r060531g.json\n",
      "Processing speech: https://www.bis.org/api/documents/review/r060602a.json\n"
     ]
    },
    {
     "name": "stderr",
     "output_type": "stream",
     "text": [
      " 17%|█▋        | 3383/20093 [05:04<19:43, 14.12it/s]"
     ]
    },
    {
     "name": "stdout",
     "output_type": "stream",
     "text": [
      "Processing speech: https://www.bis.org/api/documents/review/r060602b.json\n",
      "Processing speech: https://www.bis.org/api/documents/review/r060602c.json\n",
      "Processing speech: https://www.bis.org/api/documents/review/r060602d.json\n"
     ]
    },
    {
     "name": "stderr",
     "output_type": "stream",
     "text": [
      " 17%|█▋        | 3387/20093 [05:05<20:15, 13.74it/s]"
     ]
    },
    {
     "name": "stdout",
     "output_type": "stream",
     "text": [
      "Processing speech: https://www.bis.org/api/documents/review/r060607a.json\n",
      "Processing speech: https://www.bis.org/api/documents/review/r060607b.json\n",
      "Processing speech: https://www.bis.org/api/documents/review/r060607c.json\n"
     ]
    },
    {
     "name": "stderr",
     "output_type": "stream",
     "text": [
      " 17%|█▋        | 3389/20093 [05:05<19:38, 14.17it/s]"
     ]
    },
    {
     "name": "stdout",
     "output_type": "stream",
     "text": [
      "Processing speech: https://www.bis.org/api/documents/review/r060607d.json\n",
      "Processing speech: https://www.bis.org/api/documents/review/r060607e.json\n",
      "Processing speech: https://www.bis.org/api/documents/review/r060608a.json\n"
     ]
    },
    {
     "name": "stderr",
     "output_type": "stream",
     "text": [
      " 17%|█▋        | 3393/20093 [05:05<19:33, 14.24it/s]"
     ]
    },
    {
     "name": "stdout",
     "output_type": "stream",
     "text": [
      "Processing speech: https://www.bis.org/api/documents/review/r060608b.json\n",
      "Processing speech: https://www.bis.org/api/documents/review/r060608c.json\n",
      "Processing speech: https://www.bis.org/api/documents/review/r060608d.json\n"
     ]
    },
    {
     "name": "stderr",
     "output_type": "stream",
     "text": [
      " 17%|█▋        | 3395/20093 [05:05<19:50, 14.03it/s]"
     ]
    },
    {
     "name": "stdout",
     "output_type": "stream",
     "text": [
      "Processing speech: https://www.bis.org/api/documents/review/r060608e.json\n",
      "Processing speech: https://www.bis.org/api/documents/review/r060612a.json\n",
      "Processing speech: https://www.bis.org/api/documents/review/r060612b.json\n"
     ]
    },
    {
     "name": "stderr",
     "output_type": "stream",
     "text": [
      " 17%|█▋        | 3399/20093 [05:05<19:41, 14.13it/s]"
     ]
    },
    {
     "name": "stdout",
     "output_type": "stream",
     "text": [
      "Processing speech: https://www.bis.org/api/documents/review/r060612c.json\n",
      "Processing speech: https://www.bis.org/api/documents/review/r060612d.json\n",
      "Processing speech: https://www.bis.org/api/documents/review/r060612e.json\n",
      "Processing speech: https://www.bis.org/api/documents/review/r060613a.json\n"
     ]
    },
    {
     "name": "stderr",
     "output_type": "stream",
     "text": [
      " 17%|█▋        | 3403/20093 [05:06<19:32, 14.23it/s]"
     ]
    },
    {
     "name": "stdout",
     "output_type": "stream",
     "text": [
      "Processing speech: https://www.bis.org/api/documents/review/r060613b.json\n",
      "Processing speech: https://www.bis.org/api/documents/review/r060613c.json\n",
      "Processing speech: https://www.bis.org/api/documents/review/r060613d.json\n",
      "Processing speech: https://www.bis.org/api/documents/review/r060613e.json\n"
     ]
    },
    {
     "name": "stderr",
     "output_type": "stream",
     "text": [
      " 17%|█▋        | 3407/20093 [05:06<20:06, 13.84it/s]"
     ]
    },
    {
     "name": "stdout",
     "output_type": "stream",
     "text": [
      "Processing speech: https://www.bis.org/api/documents/review/r060615a.json\n",
      "Processing speech: https://www.bis.org/api/documents/review/r060615b.json\n",
      "Processing speech: https://www.bis.org/api/documents/review/r060615c.json\n",
      "Processing speech: https://www.bis.org/api/documents/review/r060615d.json\n"
     ]
    },
    {
     "name": "stderr",
     "output_type": "stream",
     "text": [
      " 17%|█▋        | 3411/20093 [05:06<20:08, 13.81it/s]"
     ]
    },
    {
     "name": "stdout",
     "output_type": "stream",
     "text": [
      "Processing speech: https://www.bis.org/api/documents/review/r060615e.json\n",
      "Processing speech: https://www.bis.org/api/documents/review/r060615f.json\n",
      "Processing speech: https://www.bis.org/api/documents/review/r060615g.json\n"
     ]
    },
    {
     "name": "stderr",
     "output_type": "stream",
     "text": [
      " 17%|█▋        | 3413/20093 [05:06<20:05, 13.84it/s]"
     ]
    },
    {
     "name": "stdout",
     "output_type": "stream",
     "text": [
      "Processing speech: https://www.bis.org/api/documents/review/r060616a.json\n",
      "Processing speech: https://www.bis.org/api/documents/review/r060616b.json\n",
      "Processing speech: https://www.bis.org/api/documents/review/r060616c.json\n"
     ]
    },
    {
     "name": "stderr",
     "output_type": "stream",
     "text": [
      " 17%|█▋        | 3415/20093 [05:07<19:32, 14.22it/s]"
     ]
    },
    {
     "name": "stdout",
     "output_type": "stream",
     "text": [
      "Processing speech: https://www.bis.org/api/documents/review/r060616d.json\n",
      "Processing speech: https://www.bis.org/api/documents/review/r060616e.json\n"
     ]
    },
    {
     "name": "stderr",
     "output_type": "stream",
     "text": [
      " 17%|█▋        | 3419/20093 [05:07<26:03, 10.67it/s]"
     ]
    },
    {
     "name": "stdout",
     "output_type": "stream",
     "text": [
      "Processing speech: https://www.bis.org/api/documents/review/r060616f.json\n",
      "Processing speech: https://www.bis.org/api/documents/review/r060616g.json\n",
      "Processing speech: https://www.bis.org/api/documents/review/r060619b.json\n",
      "Processing speech: https://www.bis.org/api/documents/review/r060619c.json\n"
     ]
    },
    {
     "name": "stderr",
     "output_type": "stream",
     "text": [
      " 17%|█▋        | 3421/20093 [05:07<23:43, 11.72it/s]"
     ]
    },
    {
     "name": "stdout",
     "output_type": "stream",
     "text": [
      "Processing speech: https://www.bis.org/api/documents/review/r060619d.json\n"
     ]
    },
    {
     "name": "stderr",
     "output_type": "stream",
     "text": [
      " 17%|█▋        | 3425/20093 [05:08<51:12,  5.42it/s]  "
     ]
    },
    {
     "name": "stdout",
     "output_type": "stream",
     "text": [
      "Processing speech: https://www.bis.org/api/documents/review/r060619e.json\n",
      "Processing speech: https://www.bis.org/api/documents/review/r060619f.json\n",
      "Processing speech: https://www.bis.org/api/documents/review/r060619g.json\n"
     ]
    },
    {
     "name": "stderr",
     "output_type": "stream",
     "text": [
      " 17%|█▋        | 3427/20093 [05:09<41:47,  6.65it/s]"
     ]
    },
    {
     "name": "stdout",
     "output_type": "stream",
     "text": [
      "Processing speech: https://www.bis.org/api/documents/review/r060619a.json\n",
      "Processing speech: https://www.bis.org/api/documents/review/r060620a.json\n",
      "Processing speech: https://www.bis.org/api/documents/review/r060620b.json\n"
     ]
    },
    {
     "name": "stderr",
     "output_type": "stream",
     "text": [
      " 17%|█▋        | 3431/20093 [05:09<29:37,  9.37it/s]"
     ]
    },
    {
     "name": "stdout",
     "output_type": "stream",
     "text": [
      "Processing speech: https://www.bis.org/api/documents/review/r060620c.json\n",
      "Processing speech: https://www.bis.org/api/documents/review/r060620d.json\n",
      "Processing speech: https://www.bis.org/api/documents/review/r060620e.json\n"
     ]
    },
    {
     "name": "stderr",
     "output_type": "stream",
     "text": [
      " 17%|█▋        | 3433/20093 [05:09<26:20, 10.54it/s]"
     ]
    },
    {
     "name": "stdout",
     "output_type": "stream",
     "text": [
      "Processing speech: https://www.bis.org/api/documents/review/r060620f.json\n",
      "Processing speech: https://www.bis.org/api/documents/review/r060620g.json\n",
      "Processing speech: https://www.bis.org/api/documents/review/r060620h.json\n"
     ]
    },
    {
     "name": "stderr",
     "output_type": "stream",
     "text": [
      " 17%|█▋        | 3435/20093 [05:10<41:07,  6.75it/s]"
     ]
    },
    {
     "name": "stdout",
     "output_type": "stream",
     "text": [
      "Processing speech: https://www.bis.org/api/documents/review/r060126f.json\n",
      "Processing speech: https://www.bis.org/api/documents/review/r060622a.json\n",
      "Processing speech: https://www.bis.org/api/documents/review/r060622b.json\n"
     ]
    },
    {
     "name": "stderr",
     "output_type": "stream",
     "text": [
      " 17%|█▋        | 3439/20093 [05:10<31:01,  8.95it/s]"
     ]
    },
    {
     "name": "stdout",
     "output_type": "stream",
     "text": [
      "Processing speech: https://www.bis.org/api/documents/review/r060622c.json\n",
      "Processing speech: https://www.bis.org/api/documents/review/r060622d.json\n",
      "Processing speech: https://www.bis.org/api/documents/review/r060622e.json\n"
     ]
    },
    {
     "name": "stderr",
     "output_type": "stream",
     "text": [
      " 17%|█▋        | 3441/20093 [05:10<27:59,  9.91it/s]"
     ]
    },
    {
     "name": "stdout",
     "output_type": "stream",
     "text": [
      "Processing speech: https://www.bis.org/api/documents/review/r060622f.json\n",
      "Processing speech: https://www.bis.org/api/documents/review/r060622g.json\n"
     ]
    },
    {
     "name": "stderr",
     "output_type": "stream",
     "text": [
      " 17%|█▋        | 3443/20093 [05:10<29:56,  9.27it/s]"
     ]
    },
    {
     "name": "stdout",
     "output_type": "stream",
     "text": [
      "Processing speech: https://www.bis.org/api/documents/review/r060622h.json\n",
      "Processing speech: https://www.bis.org/api/documents/review/r060623a.json\n",
      "Processing speech: https://www.bis.org/api/documents/review/r060623b.json\n"
     ]
    },
    {
     "name": "stderr",
     "output_type": "stream",
     "text": [
      " 17%|█▋        | 3447/20093 [05:11<25:14, 10.99it/s]"
     ]
    },
    {
     "name": "stdout",
     "output_type": "stream",
     "text": [
      "Processing speech: https://www.bis.org/api/documents/review/r060623c.json\n",
      "Processing speech: https://www.bis.org/api/documents/review/r060623d.json\n",
      "Processing speech: https://www.bis.org/api/documents/review/r060623e.json\n",
      "Processing speech: https://www.bis.org/api/documents/review/r060623f.json\n"
     ]
    },
    {
     "name": "stderr",
     "output_type": "stream",
     "text": [
      " 17%|█▋        | 3451/20093 [05:12<53:34,  5.18it/s]  "
     ]
    },
    {
     "name": "stdout",
     "output_type": "stream",
     "text": [
      "Processing speech: https://www.bis.org/api/documents/review/r060623g.json\n",
      "Processing speech: https://www.bis.org/api/documents/review/r060623h.json\n",
      "Processing speech: https://www.bis.org/api/documents/review/r060627a.json\n",
      "Processing speech: https://www.bis.org/api/documents/review/r060627b.json\n"
     ]
    },
    {
     "name": "stderr",
     "output_type": "stream",
     "text": [
      " 17%|█▋        | 3455/20093 [05:12<35:54,  7.72it/s]"
     ]
    },
    {
     "name": "stdout",
     "output_type": "stream",
     "text": [
      "Processing speech: https://www.bis.org/api/documents/review/r060627c.json\n",
      "Processing speech: https://www.bis.org/api/documents/review/r060627d.json\n",
      "Processing speech: https://www.bis.org/api/documents/review/r060627e.json\n"
     ]
    },
    {
     "name": "stderr",
     "output_type": "stream",
     "text": [
      " 17%|█▋        | 3457/20093 [05:12<31:02,  8.93it/s]"
     ]
    },
    {
     "name": "stdout",
     "output_type": "stream",
     "text": [
      "Processing speech: https://www.bis.org/api/documents/review/r060627f.json\n",
      "Processing speech: https://www.bis.org/api/documents/review/r060627g.json\n",
      "Processing speech: https://www.bis.org/api/documents/review/r060705b.json\n"
     ]
    },
    {
     "name": "stderr",
     "output_type": "stream",
     "text": [
      " 17%|█▋        | 3461/20093 [05:13<24:45, 11.20it/s]"
     ]
    },
    {
     "name": "stdout",
     "output_type": "stream",
     "text": [
      "Processing speech: https://www.bis.org/api/documents/review/r060705c.json\n",
      "Processing speech: https://www.bis.org/api/documents/review/r060705d.json\n",
      "Processing speech: https://www.bis.org/api/documents/review/r060705e.json\n",
      "Processing speech: https://www.bis.org/api/documents/review/r060705f.json\n"
     ]
    },
    {
     "name": "stderr",
     "output_type": "stream",
     "text": [
      " 17%|█▋        | 3465/20093 [05:13<22:00, 12.59it/s]"
     ]
    },
    {
     "name": "stdout",
     "output_type": "stream",
     "text": [
      "Processing speech: https://www.bis.org/api/documents/review/r060705a.json\n",
      "Processing speech: https://www.bis.org/api/documents/review/r060706b.json\n",
      "Processing speech: https://www.bis.org/api/documents/review/r060706c.json\n"
     ]
    },
    {
     "name": "stderr",
     "output_type": "stream",
     "text": [
      " 17%|█▋        | 3467/20093 [05:13<21:02, 13.17it/s]"
     ]
    },
    {
     "name": "stdout",
     "output_type": "stream",
     "text": [
      "Processing speech: https://www.bis.org/api/documents/review/r060706d.json\n",
      "Processing speech: https://www.bis.org/api/documents/review/r060706e.json\n",
      "Processing speech: https://www.bis.org/api/documents/review/r060706f.json\n"
     ]
    },
    {
     "name": "stderr",
     "output_type": "stream",
     "text": [
      " 17%|█▋        | 3471/20093 [05:13<20:15, 13.67it/s]"
     ]
    },
    {
     "name": "stdout",
     "output_type": "stream",
     "text": [
      "Processing speech: https://www.bis.org/api/documents/review/r060706g.json\n",
      "Processing speech: https://www.bis.org/api/documents/review/r060706a.json\n",
      "Processing speech: https://www.bis.org/api/documents/review/r060707a.json\n",
      "Processing speech: https://www.bis.org/api/documents/review/r060707b.json\n"
     ]
    },
    {
     "name": "stderr",
     "output_type": "stream",
     "text": [
      " 17%|█▋        | 3475/20093 [05:14<20:23, 13.58it/s]"
     ]
    },
    {
     "name": "stdout",
     "output_type": "stream",
     "text": [
      "Processing speech: https://www.bis.org/api/documents/review/r060707c.json\n",
      "Processing speech: https://www.bis.org/api/documents/review/r060707d.json\n",
      "Processing speech: https://www.bis.org/api/documents/review/r060707e.json\n"
     ]
    },
    {
     "name": "stderr",
     "output_type": "stream",
     "text": [
      " 17%|█▋        | 3477/20093 [05:14<20:22, 13.59it/s]"
     ]
    },
    {
     "name": "stdout",
     "output_type": "stream",
     "text": [
      "Processing speech: https://www.bis.org/api/documents/review/r060712a.json\n",
      "Processing speech: https://www.bis.org/api/documents/review/r060712b.json\n",
      "Processing speech: https://www.bis.org/api/documents/review/r060712c.json\n"
     ]
    },
    {
     "name": "stderr",
     "output_type": "stream",
     "text": [
      " 17%|█▋        | 3481/20093 [05:14<19:46, 14.01it/s]"
     ]
    },
    {
     "name": "stdout",
     "output_type": "stream",
     "text": [
      "Processing speech: https://www.bis.org/api/documents/review/r060712d.json\n",
      "Processing speech: https://www.bis.org/api/documents/review/r060714a.json\n",
      "Processing speech: https://www.bis.org/api/documents/review/r060714b.json\n"
     ]
    },
    {
     "name": "stderr",
     "output_type": "stream",
     "text": [
      " 17%|█▋        | 3483/20093 [05:14<20:36, 13.43it/s]"
     ]
    },
    {
     "name": "stdout",
     "output_type": "stream",
     "text": [
      "Processing speech: https://www.bis.org/api/documents/review/r060714c.json\n",
      "Processing speech: https://www.bis.org/api/documents/review/r060714d.json\n",
      "Processing speech: https://www.bis.org/api/documents/review/r060714e.json\n"
     ]
    },
    {
     "name": "stderr",
     "output_type": "stream",
     "text": [
      " 17%|█▋        | 3487/20093 [05:15<21:27, 12.90it/s]"
     ]
    },
    {
     "name": "stdout",
     "output_type": "stream",
     "text": [
      "Processing speech: https://www.bis.org/api/documents/review/r060714f.json\n",
      "Processing speech: https://www.bis.org/api/documents/review/r060717a.json\n",
      "Processing speech: https://www.bis.org/api/documents/review/r060717b.json\n"
     ]
    },
    {
     "name": "stderr",
     "output_type": "stream",
     "text": [
      " 17%|█▋        | 3489/20093 [05:15<21:25, 12.92it/s]"
     ]
    },
    {
     "name": "stdout",
     "output_type": "stream",
     "text": [
      "Processing speech: https://www.bis.org/api/documents/review/r060717c.json\n",
      "Processing speech: https://www.bis.org/api/documents/review/r060717d.json\n",
      "Processing speech: https://www.bis.org/api/documents/review/r060717e.json\n"
     ]
    },
    {
     "name": "stderr",
     "output_type": "stream",
     "text": [
      " 17%|█▋        | 3491/20093 [05:15<22:17, 12.41it/s]"
     ]
    },
    {
     "name": "stdout",
     "output_type": "stream",
     "text": [
      "Processing speech: https://www.bis.org/api/documents/review/r060717f.json\n"
     ]
    },
    {
     "name": "stderr",
     "output_type": "stream",
     "text": [
      " 17%|█▋        | 3493/20093 [05:16<1:03:25,  4.36it/s]"
     ]
    },
    {
     "name": "stdout",
     "output_type": "stream",
     "text": [
      "Processing speech: https://www.bis.org/api/documents/review/r060717g.json\n",
      "Processing speech: https://www.bis.org/api/documents/review/r060718a.json\n",
      "Processing speech: https://www.bis.org/api/documents/review/r060718b.json\n"
     ]
    },
    {
     "name": "stderr",
     "output_type": "stream",
     "text": [
      " 17%|█▋        | 3497/20093 [05:16<40:36,  6.81it/s]  "
     ]
    },
    {
     "name": "stdout",
     "output_type": "stream",
     "text": [
      "Processing speech: https://www.bis.org/api/documents/review/r060718c.json\n",
      "Processing speech: https://www.bis.org/api/documents/review/r060718d.json\n",
      "Processing speech: https://www.bis.org/api/documents/review/r060718e.json\n",
      "Processing speech: https://www.bis.org/api/documents/review/r060718f.json\n"
     ]
    },
    {
     "name": "stderr",
     "output_type": "stream",
     "text": [
      " 17%|█▋        | 3499/20093 [05:16<34:36,  7.99it/s]"
     ]
    },
    {
     "name": "stdout",
     "output_type": "stream",
     "text": [
      "Processing speech: https://www.bis.org/api/documents/review/r060718g.json\n"
     ]
    },
    {
     "name": "stderr",
     "output_type": "stream",
     "text": [
      " 17%|█▋        | 3501/20093 [05:18<1:11:48,  3.85it/s]"
     ]
    },
    {
     "name": "stdout",
     "output_type": "stream",
     "text": [
      "Processing speech: https://www.bis.org/api/documents/review/r060718h.json\n",
      "Processing speech: https://www.bis.org/api/documents/review/r060718i.json\n",
      "Processing speech: https://www.bis.org/api/documents/review/r060719a.json\n"
     ]
    },
    {
     "name": "stderr",
     "output_type": "stream",
     "text": [
      " 17%|█▋        | 3505/20093 [05:18<46:29,  5.95it/s]  "
     ]
    },
    {
     "name": "stdout",
     "output_type": "stream",
     "text": [
      "Processing speech: https://www.bis.org/api/documents/review/r060719b.json\n",
      "Processing speech: https://www.bis.org/api/documents/review/r060719c.json\n",
      "Processing speech: https://www.bis.org/api/documents/review/r060719d.json\n"
     ]
    },
    {
     "name": "stderr",
     "output_type": "stream",
     "text": [
      " 17%|█▋        | 3507/20093 [05:18<38:47,  7.13it/s]"
     ]
    },
    {
     "name": "stdout",
     "output_type": "stream",
     "text": [
      "Processing speech: https://www.bis.org/api/documents/review/r060719e.json\n",
      "Processing speech: https://www.bis.org/api/documents/review/r060719f.json\n",
      "Processing speech: https://www.bis.org/api/documents/review/r060720a.json\n"
     ]
    },
    {
     "name": "stderr",
     "output_type": "stream",
     "text": [
      " 17%|█▋        | 3511/20093 [05:18<29:00,  9.53it/s]"
     ]
    },
    {
     "name": "stdout",
     "output_type": "stream",
     "text": [
      "Processing speech: https://www.bis.org/api/documents/review/r060720b.json\n",
      "Processing speech: https://www.bis.org/api/documents/review/r060720c.json\n",
      "Processing speech: https://www.bis.org/api/documents/review/r060720d.json\n"
     ]
    },
    {
     "name": "stderr",
     "output_type": "stream",
     "text": [
      " 17%|█▋        | 3513/20093 [05:18<26:09, 10.56it/s]"
     ]
    },
    {
     "name": "stdout",
     "output_type": "stream",
     "text": [
      "Processing speech: https://www.bis.org/api/documents/review/r060720e.json\n",
      "Processing speech: https://www.bis.org/api/documents/review/r060720f.json\n",
      "Processing speech: https://www.bis.org/api/documents/review/r060724a.json\n"
     ]
    },
    {
     "name": "stderr",
     "output_type": "stream",
     "text": [
      " 17%|█▋        | 3515/20093 [05:19<23:55, 11.55it/s]"
     ]
    },
    {
     "name": "stdout",
     "output_type": "stream",
     "text": [
      "Processing speech: https://www.bis.org/api/documents/review/r060724b.json\n"
     ]
    },
    {
     "name": "stderr",
     "output_type": "stream",
     "text": [
      " 18%|█▊        | 3517/20093 [05:19<32:16,  8.56it/s]"
     ]
    },
    {
     "name": "stdout",
     "output_type": "stream",
     "text": [
      "Processing speech: https://www.bis.org/api/documents/review/r060724c.json\n",
      "Processing speech: https://www.bis.org/api/documents/review/r060724d.json\n",
      "Processing speech: https://www.bis.org/api/documents/review/r060724e.json\n"
     ]
    },
    {
     "name": "stderr",
     "output_type": "stream",
     "text": [
      " 18%|█▊        | 3521/20093 [05:19<25:32, 10.81it/s]"
     ]
    },
    {
     "name": "stdout",
     "output_type": "stream",
     "text": [
      "Processing speech: https://www.bis.org/api/documents/review/r060727c.json\n",
      "Processing speech: https://www.bis.org/api/documents/review/r060727d.json\n",
      "Processing speech: https://www.bis.org/api/documents/review/r060727e.json\n"
     ]
    },
    {
     "name": "stderr",
     "output_type": "stream",
     "text": [
      " 18%|█▊        | 3523/20093 [05:19<24:12, 11.41it/s]"
     ]
    },
    {
     "name": "stdout",
     "output_type": "stream",
     "text": [
      "Processing speech: https://www.bis.org/api/documents/review/r060727a.json\n",
      "Processing speech: https://www.bis.org/api/documents/review/r060727b.json\n",
      "Processing speech: https://www.bis.org/api/documents/review/r060804a.json\n"
     ]
    },
    {
     "name": "stderr",
     "output_type": "stream",
     "text": [
      " 18%|█▊        | 3527/20093 [05:20<22:01, 12.53it/s]"
     ]
    },
    {
     "name": "stdout",
     "output_type": "stream",
     "text": [
      "Processing speech: https://www.bis.org/api/documents/review/r060804b.json\n",
      "Processing speech: https://www.bis.org/api/documents/review/r060804c.json\n",
      "Processing speech: https://www.bis.org/api/documents/review/r060804d.json\n",
      "Processing speech: https://www.bis.org/api/documents/review/r060804e.json\n"
     ]
    },
    {
     "name": "stderr",
     "output_type": "stream",
     "text": [
      " 18%|█▊        | 3531/20093 [05:20<20:48, 13.26it/s]"
     ]
    },
    {
     "name": "stdout",
     "output_type": "stream",
     "text": [
      "Processing speech: https://www.bis.org/api/documents/review/r060804f.json\n",
      "Processing speech: https://www.bis.org/api/documents/review/r060804g.json\n",
      "Processing speech: https://www.bis.org/api/documents/review/r060808a.json\n"
     ]
    },
    {
     "name": "stderr",
     "output_type": "stream",
     "text": [
      " 18%|█▊        | 3533/20093 [05:20<20:13, 13.65it/s]"
     ]
    },
    {
     "name": "stdout",
     "output_type": "stream",
     "text": [
      "Processing speech: https://www.bis.org/api/documents/review/r060808b.json\n",
      "Processing speech: https://www.bis.org/api/documents/review/r060808c.json\n",
      "Processing speech: https://www.bis.org/api/documents/review/r060808d.json\n"
     ]
    },
    {
     "name": "stderr",
     "output_type": "stream",
     "text": [
      " 18%|█▊        | 3537/20093 [05:20<20:56, 13.18it/s]"
     ]
    },
    {
     "name": "stdout",
     "output_type": "stream",
     "text": [
      "Processing speech: https://www.bis.org/api/documents/review/r060808e.json\n",
      "Processing speech: https://www.bis.org/api/documents/review/r060808f.json\n",
      "Processing speech: https://www.bis.org/api/documents/review/r060808g.json\n"
     ]
    },
    {
     "name": "stderr",
     "output_type": "stream",
     "text": [
      " 18%|█▊        | 3539/20093 [05:21<20:43, 13.31it/s]"
     ]
    },
    {
     "name": "stdout",
     "output_type": "stream",
     "text": [
      "Processing speech: https://www.bis.org/api/documents/review/r060512d.json\n",
      "Processing speech: https://www.bis.org/api/documents/review/r060224b.json\n",
      "Processing speech: https://www.bis.org/api/documents/review/r060823b.json\n"
     ]
    },
    {
     "name": "stderr",
     "output_type": "stream",
     "text": [
      " 18%|█▊        | 3543/20093 [05:21<20:26, 13.49it/s]"
     ]
    },
    {
     "name": "stdout",
     "output_type": "stream",
     "text": [
      "Processing speech: https://www.bis.org/api/documents/review/r060823c.json\n",
      "Processing speech: https://www.bis.org/api/documents/review/r060823d.json\n",
      "Processing speech: https://www.bis.org/api/documents/review/r060823e.json\n"
     ]
    },
    {
     "name": "stderr",
     "output_type": "stream",
     "text": [
      " 18%|█▊        | 3545/20093 [05:21<21:27, 12.85it/s]"
     ]
    },
    {
     "name": "stdout",
     "output_type": "stream",
     "text": [
      "Processing speech: https://www.bis.org/api/documents/review/r060823a.json\n",
      "Processing speech: https://www.bis.org/api/documents/review/r060824a.json\n",
      "Processing speech: https://www.bis.org/api/documents/review/r060824b.json\n"
     ]
    },
    {
     "name": "stderr",
     "output_type": "stream",
     "text": [
      " 18%|█▊        | 3549/20093 [05:21<20:39, 13.35it/s]"
     ]
    },
    {
     "name": "stdout",
     "output_type": "stream",
     "text": [
      "Processing speech: https://www.bis.org/api/documents/review/r060824c.json\n",
      "Processing speech: https://www.bis.org/api/documents/review/r060824d.json\n",
      "Processing speech: https://www.bis.org/api/documents/review/r060824e.json\n",
      "Processing speech: https://www.bis.org/api/documents/review/r060824f.json\n"
     ]
    },
    {
     "name": "stderr",
     "output_type": "stream",
     "text": [
      " 18%|█▊        | 3553/20093 [05:22<21:54, 12.58it/s]"
     ]
    },
    {
     "name": "stdout",
     "output_type": "stream",
     "text": [
      "Processing speech: https://www.bis.org/api/documents/review/r060824g.json\n",
      "Processing speech: https://www.bis.org/api/documents/review/r060825a.json\n",
      "Processing speech: https://www.bis.org/api/documents/review/r060825b.json\n"
     ]
    },
    {
     "name": "stderr",
     "output_type": "stream",
     "text": [
      " 18%|█▊        | 3555/20093 [05:22<30:22,  9.08it/s]"
     ]
    },
    {
     "name": "stdout",
     "output_type": "stream",
     "text": [
      "Processing speech: https://www.bis.org/api/documents/review/r060825c.json\n",
      "Processing speech: https://www.bis.org/api/documents/review/r060825d.json\n",
      "Processing speech: https://www.bis.org/api/documents/review/r060825e.json\n"
     ]
    },
    {
     "name": "stderr",
     "output_type": "stream",
     "text": [
      " 18%|█▊        | 3559/20093 [05:22<25:21, 10.87it/s]"
     ]
    },
    {
     "name": "stdout",
     "output_type": "stream",
     "text": [
      "Processing speech: https://www.bis.org/api/documents/review/r060825f.json\n",
      "Processing speech: https://www.bis.org/api/documents/review/r060828a.json\n",
      "Processing speech: https://www.bis.org/api/documents/review/r060828b.json\n"
     ]
    },
    {
     "name": "stderr",
     "output_type": "stream",
     "text": [
      " 18%|█▊        | 3561/20093 [05:22<23:50, 11.55it/s]"
     ]
    },
    {
     "name": "stdout",
     "output_type": "stream",
     "text": [
      "Processing speech: https://www.bis.org/api/documents/review/r060828c.json\n",
      "Processing speech: https://www.bis.org/api/documents/review/r060828d.json\n",
      "Processing speech: https://www.bis.org/api/documents/review/r060828e.json\n"
     ]
    },
    {
     "name": "stderr",
     "output_type": "stream",
     "text": [
      " 18%|█▊        | 3565/20093 [05:23<22:51, 12.05it/s]"
     ]
    },
    {
     "name": "stdout",
     "output_type": "stream",
     "text": [
      "Processing speech: https://www.bis.org/api/documents/review/r060830a.json\n",
      "Processing speech: https://www.bis.org/api/documents/review/r060830b.json\n",
      "Processing speech: https://www.bis.org/api/documents/review/r060830c.json\n"
     ]
    },
    {
     "name": "stderr",
     "output_type": "stream",
     "text": [
      " 18%|█▊        | 3567/20093 [05:23<22:11, 12.41it/s]"
     ]
    },
    {
     "name": "stdout",
     "output_type": "stream",
     "text": [
      "Processing speech: https://www.bis.org/api/documents/review/r060830d.json\n",
      "Processing speech: https://www.bis.org/api/documents/review/r060830e.json\n",
      "Processing speech: https://www.bis.org/api/documents/review/r060830f.json\n"
     ]
    },
    {
     "name": "stderr",
     "output_type": "stream",
     "text": [
      " 18%|█▊        | 3571/20093 [05:23<21:06, 13.05it/s]"
     ]
    },
    {
     "name": "stdout",
     "output_type": "stream",
     "text": [
      "Processing speech: https://www.bis.org/api/documents/review/r060831a.json\n",
      "Processing speech: https://www.bis.org/api/documents/review/r060831b.json\n",
      "Processing speech: https://www.bis.org/api/documents/review/r060831c.json\n",
      "Processing speech: https://www.bis.org/api/documents/review/r060831d.json\n"
     ]
    },
    {
     "name": "stderr",
     "output_type": "stream",
     "text": [
      " 18%|█▊        | 3573/20093 [05:23<20:46, 13.26it/s]"
     ]
    },
    {
     "name": "stdout",
     "output_type": "stream",
     "text": [
      "Processing speech: https://www.bis.org/api/documents/review/r060901a.json\n"
     ]
    },
    {
     "name": "stderr",
     "output_type": "stream",
     "text": [
      " 18%|█▊        | 3575/20093 [05:24<31:59,  8.61it/s]"
     ]
    },
    {
     "name": "stdout",
     "output_type": "stream",
     "text": [
      "Processing speech: https://www.bis.org/api/documents/review/r060901b.json\n",
      "Processing speech: https://www.bis.org/api/documents/review/r060901d.json\n"
     ]
    },
    {
     "name": "stderr",
     "output_type": "stream",
     "text": [
      " 18%|█▊        | 3577/20093 [05:25<1:09:39,  3.95it/s]"
     ]
    },
    {
     "name": "stdout",
     "output_type": "stream",
     "text": [
      "Processing speech: https://www.bis.org/api/documents/review/r060901e.json\n",
      "Processing speech: https://www.bis.org/api/documents/review/r060901f.json\n",
      "Processing speech: https://www.bis.org/api/documents/review/r060901g.json\n"
     ]
    },
    {
     "name": "stderr",
     "output_type": "stream",
     "text": [
      " 18%|█▊        | 3581/20093 [05:25<43:47,  6.28it/s]  "
     ]
    },
    {
     "name": "stdout",
     "output_type": "stream",
     "text": [
      "Processing speech: https://www.bis.org/api/documents/review/r060901h.json\n",
      "Processing speech: https://www.bis.org/api/documents/review/r060901c.json\n",
      "Processing speech: https://www.bis.org/api/documents/review/r060831e.json\n",
      "Processing speech: https://www.bis.org/api/documents/review/r060905a.json\n"
     ]
    },
    {
     "name": "stderr",
     "output_type": "stream",
     "text": [
      " 18%|█▊        | 3585/20093 [05:26<31:26,  8.75it/s]"
     ]
    },
    {
     "name": "stdout",
     "output_type": "stream",
     "text": [
      "Processing speech: https://www.bis.org/api/documents/review/r060905b.json\n",
      "Processing speech: https://www.bis.org/api/documents/review/r060905e.json\n",
      "Processing speech: https://www.bis.org/api/documents/review/r060905d.json\n"
     ]
    },
    {
     "name": "stderr",
     "output_type": "stream",
     "text": [
      " 18%|█▊        | 3587/20093 [05:26<28:08,  9.77it/s]"
     ]
    },
    {
     "name": "stdout",
     "output_type": "stream",
     "text": [
      "Processing speech: https://www.bis.org/api/documents/review/r060907a.json\n",
      "Processing speech: https://www.bis.org/api/documents/review/r060907b.json\n",
      "Processing speech: https://www.bis.org/api/documents/review/r060907c.json\n"
     ]
    },
    {
     "name": "stderr",
     "output_type": "stream",
     "text": [
      " 18%|█▊        | 3591/20093 [05:26<24:41, 11.14it/s]"
     ]
    },
    {
     "name": "stdout",
     "output_type": "stream",
     "text": [
      "Processing speech: https://www.bis.org/api/documents/review/r060907d.json\n",
      "Processing speech: https://www.bis.org/api/documents/review/r060907e.json\n",
      "Processing speech: https://www.bis.org/api/documents/review/r060911a.json\n"
     ]
    },
    {
     "name": "stderr",
     "output_type": "stream",
     "text": [
      " 18%|█▊        | 3593/20093 [05:26<23:28, 11.72it/s]"
     ]
    },
    {
     "name": "stdout",
     "output_type": "stream",
     "text": [
      "Processing speech: https://www.bis.org/api/documents/review/r060911b.json\n",
      "Processing speech: https://www.bis.org/api/documents/review/r060911c.json\n",
      "Processing speech: https://www.bis.org/api/documents/review/r060911d.json\n"
     ]
    },
    {
     "name": "stderr",
     "output_type": "stream",
     "text": [
      " 18%|█▊        | 3597/20093 [05:26<21:38, 12.70it/s]"
     ]
    },
    {
     "name": "stdout",
     "output_type": "stream",
     "text": [
      "Processing speech: https://www.bis.org/api/documents/review/r060911e.json\n",
      "Processing speech: https://www.bis.org/api/documents/review/r060914a.json\n",
      "Processing speech: https://www.bis.org/api/documents/review/r060914b.json\n",
      "Processing speech: https://www.bis.org/api/documents/review/r060914c.json\n"
     ]
    },
    {
     "name": "stderr",
     "output_type": "stream",
     "text": [
      " 18%|█▊        | 3601/20093 [05:27<20:32, 13.38it/s]"
     ]
    },
    {
     "name": "stdout",
     "output_type": "stream",
     "text": [
      "Processing speech: https://www.bis.org/api/documents/review/r060914e.json\n",
      "Processing speech: https://www.bis.org/api/documents/review/r060915a.json\n",
      "Processing speech: https://www.bis.org/api/documents/review/r060915b.json\n"
     ]
    },
    {
     "name": "stderr",
     "output_type": "stream",
     "text": [
      " 18%|█▊        | 3603/20093 [05:27<21:30, 12.78it/s]"
     ]
    },
    {
     "name": "stdout",
     "output_type": "stream",
     "text": [
      "Processing speech: https://www.bis.org/api/documents/review/r060915c.json\n",
      "Processing speech: https://www.bis.org/api/documents/review/r060915d.json\n",
      "Processing speech: https://www.bis.org/api/documents/review/r060915e.json\n"
     ]
    },
    {
     "name": "stderr",
     "output_type": "stream",
     "text": [
      " 18%|█▊        | 3607/20093 [05:27<20:47, 13.21it/s]"
     ]
    },
    {
     "name": "stdout",
     "output_type": "stream",
     "text": [
      "Processing speech: https://www.bis.org/api/documents/review/r060918a.json\n",
      "Processing speech: https://www.bis.org/api/documents/review/r060918b.json\n",
      "Processing speech: https://www.bis.org/api/documents/review/r060918c.json\n"
     ]
    },
    {
     "name": "stderr",
     "output_type": "stream",
     "text": [
      " 18%|█▊        | 3609/20093 [05:27<20:07, 13.65it/s]"
     ]
    },
    {
     "name": "stdout",
     "output_type": "stream",
     "text": [
      "Processing speech: https://www.bis.org/api/documents/review/r060918d.json\n",
      "Processing speech: https://www.bis.org/api/documents/review/r060918e.json\n",
      "Processing speech: https://www.bis.org/api/documents/review/r060919a.json\n"
     ]
    },
    {
     "name": "stderr",
     "output_type": "stream",
     "text": [
      " 18%|█▊        | 3613/20093 [05:28<20:34, 13.35it/s]"
     ]
    },
    {
     "name": "stdout",
     "output_type": "stream",
     "text": [
      "Processing speech: https://www.bis.org/api/documents/review/r060919b.json\n",
      "Processing speech: https://www.bis.org/api/documents/review/r060919c.json\n",
      "Processing speech: https://www.bis.org/api/documents/review/r060919d.json\n"
     ]
    },
    {
     "name": "stderr",
     "output_type": "stream",
     "text": [
      " 18%|█▊        | 3615/20093 [05:28<20:59, 13.08it/s]"
     ]
    },
    {
     "name": "stdout",
     "output_type": "stream",
     "text": [
      "Processing speech: https://www.bis.org/api/documents/review/r060919e.json\n",
      "Processing speech: https://www.bis.org/api/documents/review/r060921a.json\n",
      "Processing speech: https://www.bis.org/api/documents/review/r060921b.json\n"
     ]
    },
    {
     "name": "stderr",
     "output_type": "stream",
     "text": [
      " 18%|█▊        | 3619/20093 [05:28<20:04, 13.68it/s]"
     ]
    },
    {
     "name": "stdout",
     "output_type": "stream",
     "text": [
      "Processing speech: https://www.bis.org/api/documents/review/r060921c.json\n",
      "Processing speech: https://www.bis.org/api/documents/review/r060921d.json\n",
      "Processing speech: https://www.bis.org/api/documents/review/r060921e.json\n"
     ]
    },
    {
     "name": "stderr",
     "output_type": "stream",
     "text": [
      " 18%|█▊        | 3621/20093 [05:28<19:52, 13.81it/s]"
     ]
    },
    {
     "name": "stdout",
     "output_type": "stream",
     "text": [
      "Processing speech: https://www.bis.org/api/documents/review/r060921f.json\n",
      "Processing speech: https://www.bis.org/api/documents/review/r060921g.json\n",
      "Processing speech: https://www.bis.org/api/documents/review/r060927a.json\n"
     ]
    },
    {
     "name": "stderr",
     "output_type": "stream",
     "text": [
      " 18%|█▊        | 3625/20093 [05:28<19:26, 14.11it/s]"
     ]
    },
    {
     "name": "stdout",
     "output_type": "stream",
     "text": [
      "Processing speech: https://www.bis.org/api/documents/review/r060927b.json\n",
      "Processing speech: https://www.bis.org/api/documents/review/r060927c.json\n",
      "Processing speech: https://www.bis.org/api/documents/review/r060927d.json\n"
     ]
    },
    {
     "name": "stderr",
     "output_type": "stream",
     "text": [
      " 18%|█▊        | 3627/20093 [05:29<20:08, 13.63it/s]"
     ]
    },
    {
     "name": "stdout",
     "output_type": "stream",
     "text": [
      "Processing speech: https://www.bis.org/api/documents/review/r060927e.json\n",
      "Processing speech: https://www.bis.org/api/documents/review/r061002a.json\n",
      "Processing speech: https://www.bis.org/api/documents/review/r061002b.json\n"
     ]
    },
    {
     "name": "stderr",
     "output_type": "stream",
     "text": [
      " 18%|█▊        | 3631/20093 [05:29<20:11, 13.59it/s]"
     ]
    },
    {
     "name": "stdout",
     "output_type": "stream",
     "text": [
      "Processing speech: https://www.bis.org/api/documents/review/r061002c.json\n",
      "Processing speech: https://www.bis.org/api/documents/review/r061002d.json\n",
      "Processing speech: https://www.bis.org/api/documents/review/r061002e.json\n",
      "Processing speech: https://www.bis.org/api/documents/review/r061003a.json\n"
     ]
    },
    {
     "name": "stderr",
     "output_type": "stream",
     "text": [
      " 18%|█▊        | 3635/20093 [05:29<25:58, 10.56it/s]"
     ]
    },
    {
     "name": "stdout",
     "output_type": "stream",
     "text": [
      "Processing speech: https://www.bis.org/api/documents/review/r061003b.json\n",
      "Processing speech: https://www.bis.org/api/documents/review/r061003c.json\n",
      "Processing speech: https://www.bis.org/api/documents/review/r061003d.json\n",
      "Processing speech: https://www.bis.org/api/documents/review/r061003e.json\n"
     ]
    },
    {
     "name": "stderr",
     "output_type": "stream",
     "text": [
      " 18%|█▊        | 3639/20093 [05:30<22:30, 12.18it/s]"
     ]
    },
    {
     "name": "stdout",
     "output_type": "stream",
     "text": [
      "Processing speech: https://www.bis.org/api/documents/review/r061006a.json\n",
      "Processing speech: https://www.bis.org/api/documents/review/r061006b.json\n",
      "Processing speech: https://www.bis.org/api/documents/review/r061009a.json\n"
     ]
    },
    {
     "name": "stderr",
     "output_type": "stream",
     "text": [
      " 18%|█▊        | 3641/20093 [05:30<22:20, 12.28it/s]"
     ]
    },
    {
     "name": "stdout",
     "output_type": "stream",
     "text": [
      "Processing speech: https://www.bis.org/api/documents/review/r061009b.json\n",
      "Processing speech: https://www.bis.org/api/documents/review/r061009d.json\n",
      "Processing speech: https://www.bis.org/api/documents/review/r061009e.json\n"
     ]
    },
    {
     "name": "stderr",
     "output_type": "stream",
     "text": [
      " 18%|█▊        | 3643/20093 [05:30<22:16, 12.31it/s]"
     ]
    },
    {
     "name": "stdout",
     "output_type": "stream",
     "text": [
      "Processing speech: https://www.bis.org/api/documents/review/r061009f.json\n",
      "Processing speech: https://www.bis.org/api/documents/review/r061006c.json\n"
     ]
    },
    {
     "name": "stderr",
     "output_type": "stream",
     "text": [
      " 18%|█▊        | 3647/20093 [05:30<22:27, 12.21it/s]"
     ]
    },
    {
     "name": "stdout",
     "output_type": "stream",
     "text": [
      "Processing speech: https://www.bis.org/api/documents/review/r061010a.json\n",
      "Processing speech: https://www.bis.org/api/documents/review/r061010b.json\n",
      "Processing speech: https://www.bis.org/api/documents/review/r061010c.json\n"
     ]
    },
    {
     "name": "stderr",
     "output_type": "stream",
     "text": [
      " 18%|█▊        | 3649/20093 [05:31<22:06, 12.40it/s]"
     ]
    },
    {
     "name": "stdout",
     "output_type": "stream",
     "text": [
      "Processing speech: https://www.bis.org/api/documents/review/r061010d.json\n",
      "Processing speech: https://www.bis.org/api/documents/review/r061010e.json\n",
      "Processing speech: https://www.bis.org/api/documents/review/r061011a.json\n"
     ]
    },
    {
     "name": "stderr",
     "output_type": "stream",
     "text": [
      " 18%|█▊        | 3653/20093 [05:31<20:16, 13.52it/s]"
     ]
    },
    {
     "name": "stdout",
     "output_type": "stream",
     "text": [
      "Processing speech: https://www.bis.org/api/documents/review/r061011b.json\n",
      "Processing speech: https://www.bis.org/api/documents/review/r061011c.json\n",
      "Processing speech: https://www.bis.org/api/documents/review/r061011d.json\n"
     ]
    },
    {
     "name": "stderr",
     "output_type": "stream",
     "text": [
      " 18%|█▊        | 3655/20093 [05:31<20:34, 13.31it/s]"
     ]
    },
    {
     "name": "stdout",
     "output_type": "stream",
     "text": [
      "Processing speech: https://www.bis.org/api/documents/review/r061011e.json\n",
      "Processing speech: https://www.bis.org/api/documents/review/r061011f.json\n",
      "Processing speech: https://www.bis.org/api/documents/review/r061016a.json\n"
     ]
    },
    {
     "name": "stderr",
     "output_type": "stream",
     "text": [
      " 18%|█▊        | 3659/20093 [05:31<20:54, 13.10it/s]"
     ]
    },
    {
     "name": "stdout",
     "output_type": "stream",
     "text": [
      "Processing speech: https://www.bis.org/api/documents/review/r061016b.json\n",
      "Processing speech: https://www.bis.org/api/documents/review/r061016c.json\n",
      "Processing speech: https://www.bis.org/api/documents/review/r061016d.json\n"
     ]
    },
    {
     "name": "stderr",
     "output_type": "stream",
     "text": [
      " 18%|█▊        | 3661/20093 [05:31<20:37, 13.28it/s]"
     ]
    },
    {
     "name": "stdout",
     "output_type": "stream",
     "text": [
      "Processing speech: https://www.bis.org/api/documents/review/r061016e.json\n",
      "Processing speech: https://www.bis.org/api/documents/review/r061017a.json\n",
      "Processing speech: https://www.bis.org/api/documents/review/r061017b.json\n"
     ]
    },
    {
     "name": "stderr",
     "output_type": "stream",
     "text": [
      " 18%|█▊        | 3665/20093 [05:32<20:05, 13.63it/s]"
     ]
    },
    {
     "name": "stdout",
     "output_type": "stream",
     "text": [
      "Processing speech: https://www.bis.org/api/documents/review/r061017c.json\n",
      "Processing speech: https://www.bis.org/api/documents/review/r061017d.json\n",
      "Processing speech: https://www.bis.org/api/documents/review/r061017e.json\n"
     ]
    },
    {
     "name": "stderr",
     "output_type": "stream",
     "text": [
      " 18%|█▊        | 3667/20093 [05:32<20:35, 13.29it/s]"
     ]
    },
    {
     "name": "stdout",
     "output_type": "stream",
     "text": [
      "Processing speech: https://www.bis.org/api/documents/review/r061017f.json\n",
      "Processing speech: https://www.bis.org/api/documents/review/r061018a.json\n",
      "Processing speech: https://www.bis.org/api/documents/review/r061018b.json\n"
     ]
    },
    {
     "name": "stderr",
     "output_type": "stream",
     "text": [
      " 18%|█▊        | 3671/20093 [05:32<19:30, 14.03it/s]"
     ]
    },
    {
     "name": "stdout",
     "output_type": "stream",
     "text": [
      "Processing speech: https://www.bis.org/api/documents/review/r061018c.json\n",
      "Processing speech: https://www.bis.org/api/documents/review/r061018d.json\n",
      "Processing speech: https://www.bis.org/api/documents/review/r061018e.json\n",
      "Processing speech: https://www.bis.org/api/documents/review/r061023a.json\n"
     ]
    },
    {
     "name": "stderr",
     "output_type": "stream",
     "text": [
      " 18%|█▊        | 3675/20093 [05:32<19:53, 13.76it/s]"
     ]
    },
    {
     "name": "stdout",
     "output_type": "stream",
     "text": [
      "Processing speech: https://www.bis.org/api/documents/review/r061023b.json\n",
      "Processing speech: https://www.bis.org/api/documents/review/r061023c.json\n",
      "Processing speech: https://www.bis.org/api/documents/review/r061023d.json\n"
     ]
    },
    {
     "name": "stderr",
     "output_type": "stream",
     "text": [
      " 18%|█▊        | 3677/20093 [05:33<19:30, 14.03it/s]"
     ]
    },
    {
     "name": "stdout",
     "output_type": "stream",
     "text": [
      "Processing speech: https://www.bis.org/api/documents/review/r061023e.json\n",
      "Processing speech: https://www.bis.org/api/documents/review/r061024a.json\n",
      "Processing speech: https://www.bis.org/api/documents/review/r061024b.json\n"
     ]
    },
    {
     "name": "stderr",
     "output_type": "stream",
     "text": [
      " 18%|█▊        | 3681/20093 [05:33<20:16, 13.49it/s]"
     ]
    },
    {
     "name": "stdout",
     "output_type": "stream",
     "text": [
      "Processing speech: https://www.bis.org/api/documents/review/r061024c.json\n",
      "Processing speech: https://www.bis.org/api/documents/review/r061024d.json\n",
      "Processing speech: https://www.bis.org/api/documents/review/r061024e.json\n"
     ]
    },
    {
     "name": "stderr",
     "output_type": "stream",
     "text": [
      " 18%|█▊        | 3683/20093 [05:33<20:04, 13.62it/s]"
     ]
    },
    {
     "name": "stdout",
     "output_type": "stream",
     "text": [
      "Processing speech: https://www.bis.org/api/documents/review/r061024f.json\n",
      "Processing speech: https://www.bis.org/api/documents/review/r061025a.json\n",
      "Processing speech: https://www.bis.org/api/documents/review/r061025b.json\n"
     ]
    },
    {
     "name": "stderr",
     "output_type": "stream",
     "text": [
      " 18%|█▊        | 3687/20093 [05:33<21:46, 12.56it/s]"
     ]
    },
    {
     "name": "stdout",
     "output_type": "stream",
     "text": [
      "Processing speech: https://www.bis.org/api/documents/review/r061025c.json\n",
      "Processing speech: https://www.bis.org/api/documents/review/r061025d.json\n",
      "Processing speech: https://www.bis.org/api/documents/review/r061025e.json\n"
     ]
    },
    {
     "name": "stderr",
     "output_type": "stream",
     "text": [
      " 18%|█▊        | 3689/20093 [05:33<21:36, 12.66it/s]"
     ]
    },
    {
     "name": "stdout",
     "output_type": "stream",
     "text": [
      "Processing speech: https://www.bis.org/api/documents/review/r061025f.json\n",
      "Processing speech: https://www.bis.org/api/documents/review/r061025g.json\n",
      "Processing speech: https://www.bis.org/api/documents/review/r061027a.json\n"
     ]
    },
    {
     "name": "stderr",
     "output_type": "stream",
     "text": [
      " 18%|█▊        | 3693/20093 [05:34<20:40, 13.22it/s]"
     ]
    },
    {
     "name": "stdout",
     "output_type": "stream",
     "text": [
      "Processing speech: https://www.bis.org/api/documents/review/r061027b.json\n",
      "Processing speech: https://www.bis.org/api/documents/review/r061027c.json\n",
      "Processing speech: https://www.bis.org/api/documents/review/r061027d.json\n"
     ]
    },
    {
     "name": "stderr",
     "output_type": "stream",
     "text": [
      " 18%|█▊        | 3695/20093 [05:34<20:51, 13.10it/s]"
     ]
    },
    {
     "name": "stdout",
     "output_type": "stream",
     "text": [
      "Processing speech: https://www.bis.org/api/documents/review/r061027e.json\n",
      "Processing speech: https://www.bis.org/api/documents/review/r061009c.json\n",
      "Processing speech: https://www.bis.org/api/documents/review/r061031a.json\n"
     ]
    },
    {
     "name": "stderr",
     "output_type": "stream",
     "text": [
      " 18%|█▊        | 3699/20093 [05:34<21:36, 12.64it/s]"
     ]
    },
    {
     "name": "stdout",
     "output_type": "stream",
     "text": [
      "Processing speech: https://www.bis.org/api/documents/review/r061031b.json\n",
      "Processing speech: https://www.bis.org/api/documents/review/r061031c.json\n",
      "Processing speech: https://www.bis.org/api/documents/review/r061031d.json\n"
     ]
    },
    {
     "name": "stderr",
     "output_type": "stream",
     "text": [
      " 18%|█▊        | 3701/20093 [05:34<21:39, 12.61it/s]"
     ]
    },
    {
     "name": "stdout",
     "output_type": "stream",
     "text": [
      "Processing speech: https://www.bis.org/api/documents/review/r061031e.json\n",
      "Processing speech: https://www.bis.org/api/documents/review/r061102a.json\n",
      "Processing speech: https://www.bis.org/api/documents/review/r061102b.json\n"
     ]
    },
    {
     "name": "stderr",
     "output_type": "stream",
     "text": [
      " 18%|█▊        | 3703/20093 [05:35<22:34, 12.10it/s]"
     ]
    },
    {
     "name": "stdout",
     "output_type": "stream",
     "text": [
      "Processing speech: https://www.bis.org/api/documents/review/r061102c.json\n"
     ]
    },
    {
     "name": "stderr",
     "output_type": "stream",
     "text": [
      " 18%|█▊        | 3705/20093 [05:35<42:07,  6.48it/s]"
     ]
    },
    {
     "name": "stdout",
     "output_type": "stream",
     "text": [
      "Processing speech: https://www.bis.org/api/documents/review/r061102d.json\n",
      "Processing speech: https://www.bis.org/api/documents/review/r061102e.json\n",
      "Processing speech: https://www.bis.org/api/documents/review/r061102f.json\n"
     ]
    },
    {
     "name": "stderr",
     "output_type": "stream",
     "text": [
      " 18%|█▊        | 3709/20093 [05:36<30:49,  8.86it/s]"
     ]
    },
    {
     "name": "stdout",
     "output_type": "stream",
     "text": [
      "Processing speech: https://www.bis.org/api/documents/review/r061106a.json\n",
      "Processing speech: https://www.bis.org/api/documents/review/r061106b.json\n",
      "Processing speech: https://www.bis.org/api/documents/review/r061106c.json\n"
     ]
    },
    {
     "name": "stderr",
     "output_type": "stream",
     "text": [
      " 18%|█▊        | 3711/20093 [05:36<27:36,  9.89it/s]"
     ]
    },
    {
     "name": "stdout",
     "output_type": "stream",
     "text": [
      "Processing speech: https://www.bis.org/api/documents/review/r061106d.json\n",
      "Processing speech: https://www.bis.org/api/documents/review/r061106e.json\n",
      "Processing speech: https://www.bis.org/api/documents/review/r061107a.json\n"
     ]
    },
    {
     "name": "stderr",
     "output_type": "stream",
     "text": [
      " 18%|█▊        | 3715/20093 [05:36<23:40, 11.53it/s]"
     ]
    },
    {
     "name": "stdout",
     "output_type": "stream",
     "text": [
      "Processing speech: https://www.bis.org/api/documents/review/r061107b.json\n",
      "Processing speech: https://www.bis.org/api/documents/review/r061107c.json\n",
      "Processing speech: https://www.bis.org/api/documents/review/r061107d.json\n"
     ]
    },
    {
     "name": "stderr",
     "output_type": "stream",
     "text": [
      " 18%|█▊        | 3717/20093 [05:36<22:47, 11.97it/s]"
     ]
    },
    {
     "name": "stdout",
     "output_type": "stream",
     "text": [
      "Processing speech: https://www.bis.org/api/documents/review/r061107e.json\n",
      "Processing speech: https://www.bis.org/api/documents/review/r061109a.json\n",
      "Processing speech: https://www.bis.org/api/documents/review/r061109b.json\n"
     ]
    },
    {
     "name": "stderr",
     "output_type": "stream",
     "text": [
      " 19%|█▊        | 3721/20093 [05:37<29:44,  9.17it/s]"
     ]
    },
    {
     "name": "stdout",
     "output_type": "stream",
     "text": [
      "Processing speech: https://www.bis.org/api/documents/review/r061109c.json\n",
      "Processing speech: https://www.bis.org/api/documents/review/r061109d.json\n",
      "Processing speech: https://www.bis.org/api/documents/review/r061109e.json\n"
     ]
    },
    {
     "name": "stderr",
     "output_type": "stream",
     "text": [
      " 19%|█▊        | 3723/20093 [05:37<27:50,  9.80it/s]"
     ]
    },
    {
     "name": "stdout",
     "output_type": "stream",
     "text": [
      "Processing speech: https://www.bis.org/api/documents/review/r061109f.json\n",
      "Processing speech: https://www.bis.org/api/documents/review/r061110b.json\n",
      "Processing speech: https://www.bis.org/api/documents/review/r061110c.json\n"
     ]
    },
    {
     "name": "stderr",
     "output_type": "stream",
     "text": [
      " 19%|█▊        | 3727/20093 [05:37<24:04, 11.33it/s]"
     ]
    },
    {
     "name": "stdout",
     "output_type": "stream",
     "text": [
      "Processing speech: https://www.bis.org/api/documents/review/r061110d.json\n",
      "Processing speech: https://www.bis.org/api/documents/review/r061110e.json\n",
      "Processing speech: https://www.bis.org/api/documents/review/r061110f.json\n"
     ]
    },
    {
     "name": "stderr",
     "output_type": "stream",
     "text": [
      " 19%|█▊        | 3729/20093 [05:37<22:37, 12.05it/s]"
     ]
    },
    {
     "name": "stdout",
     "output_type": "stream",
     "text": [
      "Processing speech: https://www.bis.org/api/documents/review/r061113a.json\n",
      "Processing speech: https://www.bis.org/api/documents/review/r061113b.json\n",
      "Processing speech: https://www.bis.org/api/documents/review/r061113c.json\n"
     ]
    },
    {
     "name": "stderr",
     "output_type": "stream",
     "text": [
      " 19%|█▊        | 3733/20093 [05:38<21:19, 12.79it/s]"
     ]
    },
    {
     "name": "stdout",
     "output_type": "stream",
     "text": [
      "Processing speech: https://www.bis.org/api/documents/review/r061113d.json\n",
      "Processing speech: https://www.bis.org/api/documents/review/r061113e.json\n",
      "Processing speech: https://www.bis.org/api/documents/review/r061115a.json\n"
     ]
    },
    {
     "name": "stderr",
     "output_type": "stream",
     "text": [
      " 19%|█▊        | 3735/20093 [05:38<21:16, 12.82it/s]"
     ]
    },
    {
     "name": "stdout",
     "output_type": "stream",
     "text": [
      "Processing speech: https://www.bis.org/api/documents/review/r061115b.json\n",
      "Processing speech: https://www.bis.org/api/documents/review/r061115c.json\n",
      "Processing speech: https://www.bis.org/api/documents/review/r061115d.json\n"
     ]
    },
    {
     "name": "stderr",
     "output_type": "stream",
     "text": [
      " 19%|█▊        | 3739/20093 [05:38<19:57, 13.66it/s]"
     ]
    },
    {
     "name": "stdout",
     "output_type": "stream",
     "text": [
      "Processing speech: https://www.bis.org/api/documents/review/r061115e.json\n",
      "Processing speech: https://www.bis.org/api/documents/review/r061115f.json\n",
      "Processing speech: https://www.bis.org/api/documents/review/r061110a.json\n"
     ]
    },
    {
     "name": "stderr",
     "output_type": "stream",
     "text": [
      " 19%|█▊        | 3741/20093 [05:38<21:03, 12.94it/s]"
     ]
    },
    {
     "name": "stdout",
     "output_type": "stream",
     "text": [
      "Processing speech: https://www.bis.org/api/documents/review/r061116a.json\n",
      "Processing speech: https://www.bis.org/api/documents/review/r061116b.json\n",
      "Processing speech: https://www.bis.org/api/documents/review/r061116c.json\n"
     ]
    },
    {
     "name": "stderr",
     "output_type": "stream",
     "text": [
      " 19%|█▊        | 3743/20093 [05:38<20:31, 13.27it/s]"
     ]
    },
    {
     "name": "stdout",
     "output_type": "stream",
     "text": [
      "Processing speech: https://www.bis.org/api/documents/review/r061116d.json\n"
     ]
    },
    {
     "name": "stderr",
     "output_type": "stream",
     "text": [
      " 19%|█▊        | 3745/20093 [05:39<28:39,  9.51it/s]"
     ]
    },
    {
     "name": "stdout",
     "output_type": "stream",
     "text": [
      "Processing speech: https://www.bis.org/api/documents/review/r061116e.json\n",
      "Processing speech: https://www.bis.org/api/documents/review/r061117a.json\n",
      "Processing speech: https://www.bis.org/api/documents/review/r061117b.json\n"
     ]
    },
    {
     "name": "stderr",
     "output_type": "stream",
     "text": [
      " 19%|█▊        | 3749/20093 [05:39<25:44, 10.58it/s]"
     ]
    },
    {
     "name": "stdout",
     "output_type": "stream",
     "text": [
      "Processing speech: https://www.bis.org/api/documents/review/r061117c.json\n",
      "Processing speech: https://www.bis.org/api/documents/review/r061117d.json\n",
      "Processing speech: https://www.bis.org/api/documents/review/r061117e.json\n",
      "Processing speech: https://www.bis.org/api/documents/review/r061117f.json\n"
     ]
    },
    {
     "name": "stderr",
     "output_type": "stream",
     "text": [
      " 19%|█▊        | 3753/20093 [05:39<22:29, 12.11it/s]"
     ]
    },
    {
     "name": "stdout",
     "output_type": "stream",
     "text": [
      "Processing speech: https://www.bis.org/api/documents/review/r061117g.json\n",
      "Processing speech: https://www.bis.org/api/documents/review/r061120a.json\n",
      "Processing speech: https://www.bis.org/api/documents/review/r061120b.json\n"
     ]
    },
    {
     "name": "stderr",
     "output_type": "stream",
     "text": [
      " 19%|█▊        | 3755/20093 [05:39<21:08, 12.88it/s]"
     ]
    },
    {
     "name": "stdout",
     "output_type": "stream",
     "text": [
      "Processing speech: https://www.bis.org/api/documents/review/r061120c.json\n",
      "Processing speech: https://www.bis.org/api/documents/review/r061120d.json\n",
      "Processing speech: https://www.bis.org/api/documents/review/r061120e.json\n"
     ]
    },
    {
     "name": "stderr",
     "output_type": "stream",
     "text": [
      " 19%|█▊        | 3759/20093 [05:40<19:59, 13.61it/s]"
     ]
    },
    {
     "name": "stdout",
     "output_type": "stream",
     "text": [
      "Processing speech: https://www.bis.org/api/documents/review/r061121a.json\n",
      "Processing speech: https://www.bis.org/api/documents/review/r061121b.json\n",
      "Processing speech: https://www.bis.org/api/documents/review/r061121c.json\n"
     ]
    },
    {
     "name": "stderr",
     "output_type": "stream",
     "text": [
      " 19%|█▊        | 3761/20093 [05:40<19:52, 13.69it/s]"
     ]
    },
    {
     "name": "stdout",
     "output_type": "stream",
     "text": [
      "Processing speech: https://www.bis.org/api/documents/review/r061121d.json\n",
      "Processing speech: https://www.bis.org/api/documents/review/r061121e.json\n",
      "Processing speech: https://www.bis.org/api/documents/review/r061122a.json\n"
     ]
    },
    {
     "name": "stderr",
     "output_type": "stream",
     "text": [
      " 19%|█▊        | 3765/20093 [05:40<19:30, 13.95it/s]"
     ]
    },
    {
     "name": "stdout",
     "output_type": "stream",
     "text": [
      "Processing speech: https://www.bis.org/api/documents/review/r061122b.json\n",
      "Processing speech: https://www.bis.org/api/documents/review/r061122c.json\n",
      "Processing speech: https://www.bis.org/api/documents/review/r061122d.json\n",
      "Processing speech: https://www.bis.org/api/documents/review/r061122e.json\n"
     ]
    },
    {
     "name": "stderr",
     "output_type": "stream",
     "text": [
      " 19%|█▉        | 3769/20093 [05:40<18:50, 14.45it/s]"
     ]
    },
    {
     "name": "stdout",
     "output_type": "stream",
     "text": [
      "Processing speech: https://www.bis.org/api/documents/review/r061122f.json\n",
      "Processing speech: https://www.bis.org/api/documents/review/r061122g.json\n",
      "Processing speech: https://www.bis.org/api/documents/review/r061128a.json\n",
      "Processing speech: https://www.bis.org/api/documents/review/r061128b.json\n"
     ]
    },
    {
     "name": "stderr",
     "output_type": "stream",
     "text": [
      " 19%|█▉        | 3773/20093 [05:41<19:53, 13.68it/s]"
     ]
    },
    {
     "name": "stdout",
     "output_type": "stream",
     "text": [
      "Processing speech: https://www.bis.org/api/documents/review/r061128d.json\n",
      "Processing speech: https://www.bis.org/api/documents/review/r061128e.json\n",
      "Processing speech: https://www.bis.org/api/documents/review/r061128f.json\n",
      "Processing speech: https://www.bis.org/api/documents/review/r061128g.json\n"
     ]
    },
    {
     "name": "stderr",
     "output_type": "stream",
     "text": [
      " 19%|█▉        | 3777/20093 [05:41<22:07, 12.29it/s]"
     ]
    },
    {
     "name": "stdout",
     "output_type": "stream",
     "text": [
      "Processing speech: https://www.bis.org/api/documents/review/r061130a.json\n",
      "Processing speech: https://www.bis.org/api/documents/review/r061130b.json\n"
     ]
    },
    {
     "name": "stderr",
     "output_type": "stream",
     "text": [
      " 19%|█▉        | 3779/20093 [05:41<21:59, 12.37it/s]"
     ]
    },
    {
     "name": "stdout",
     "output_type": "stream",
     "text": [
      "Processing speech: https://www.bis.org/api/documents/review/r061130c.json\n",
      "Processing speech: https://www.bis.org/api/documents/review/r061130d.json\n",
      "Processing speech: https://www.bis.org/api/documents/review/r061130e.json\n"
     ]
    },
    {
     "name": "stderr",
     "output_type": "stream",
     "text": [
      " 19%|█▉        | 3781/20093 [05:41<21:19, 12.75it/s]"
     ]
    },
    {
     "name": "stdout",
     "output_type": "stream",
     "text": [
      "Processing speech: https://www.bis.org/api/documents/review/r061130f.json\n",
      "Processing speech: https://www.bis.org/api/documents/review/r061204a.json\n",
      "Processing speech: https://www.bis.org/api/documents/review/r061204b.json\n"
     ]
    },
    {
     "name": "stderr",
     "output_type": "stream",
     "text": [
      " 19%|█▉        | 3785/20093 [05:42<20:29, 13.26it/s]"
     ]
    },
    {
     "name": "stdout",
     "output_type": "stream",
     "text": [
      "Processing speech: https://www.bis.org/api/documents/review/r061204c.json\n",
      "Processing speech: https://www.bis.org/api/documents/review/r061204d.json\n",
      "Processing speech: https://www.bis.org/api/documents/review/r061204e.json\n"
     ]
    },
    {
     "name": "stderr",
     "output_type": "stream",
     "text": [
      " 19%|█▉        | 3787/20093 [05:42<20:37, 13.18it/s]"
     ]
    },
    {
     "name": "stdout",
     "output_type": "stream",
     "text": [
      "Processing speech: https://www.bis.org/api/documents/review/r061207a.json\n",
      "Processing speech: https://www.bis.org/api/documents/review/r061207b.json\n",
      "Processing speech: https://www.bis.org/api/documents/review/r061207c.json\n"
     ]
    },
    {
     "name": "stderr",
     "output_type": "stream",
     "text": [
      " 19%|█▉        | 3791/20093 [05:42<20:50, 13.03it/s]"
     ]
    },
    {
     "name": "stdout",
     "output_type": "stream",
     "text": [
      "Processing speech: https://www.bis.org/api/documents/review/r061207d.json\n",
      "Processing speech: https://www.bis.org/api/documents/review/r061207e.json\n",
      "Processing speech: https://www.bis.org/api/documents/review/r061207f.json\n"
     ]
    },
    {
     "name": "stderr",
     "output_type": "stream",
     "text": [
      " 19%|█▉        | 3793/20093 [05:42<20:53, 13.01it/s]"
     ]
    },
    {
     "name": "stdout",
     "output_type": "stream",
     "text": [
      "Processing speech: https://www.bis.org/api/documents/review/r061208a.json\n",
      "Processing speech: https://www.bis.org/api/documents/review/r061208b.json\n",
      "Processing speech: https://www.bis.org/api/documents/review/r061208c.json\n"
     ]
    },
    {
     "name": "stderr",
     "output_type": "stream",
     "text": [
      " 19%|█▉        | 3797/20093 [05:43<19:40, 13.80it/s]"
     ]
    },
    {
     "name": "stdout",
     "output_type": "stream",
     "text": [
      "Processing speech: https://www.bis.org/api/documents/review/r061208d.json\n",
      "Processing speech: https://www.bis.org/api/documents/review/r061208e.json\n",
      "Processing speech: https://www.bis.org/api/documents/review/r061208f.json\n",
      "Processing speech: https://www.bis.org/api/documents/review/r061208g.json\n"
     ]
    },
    {
     "name": "stderr",
     "output_type": "stream",
     "text": [
      " 19%|█▉        | 3801/20093 [05:43<20:31, 13.23it/s]"
     ]
    },
    {
     "name": "stdout",
     "output_type": "stream",
     "text": [
      "Processing speech: https://www.bis.org/api/documents/review/r061211a.json\n",
      "Processing speech: https://www.bis.org/api/documents/review/r061211b.json\n",
      "Processing speech: https://www.bis.org/api/documents/review/r061211c.json\n"
     ]
    },
    {
     "name": "stderr",
     "output_type": "stream",
     "text": [
      " 19%|█▉        | 3803/20093 [05:43<21:01, 12.92it/s]"
     ]
    },
    {
     "name": "stdout",
     "output_type": "stream",
     "text": [
      "Processing speech: https://www.bis.org/api/documents/review/r061211d.json\n",
      "Processing speech: https://www.bis.org/api/documents/review/r061211e.json\n",
      "Processing speech: https://www.bis.org/api/documents/review/r061211f.json\n"
     ]
    },
    {
     "name": "stderr",
     "output_type": "stream",
     "text": [
      " 19%|█▉        | 3807/20093 [05:43<20:04, 13.52it/s]"
     ]
    },
    {
     "name": "stdout",
     "output_type": "stream",
     "text": [
      "Processing speech: https://www.bis.org/api/documents/review/r061212a.json\n",
      "Processing speech: https://www.bis.org/api/documents/review/r061212b.json\n",
      "Processing speech: https://www.bis.org/api/documents/review/r061212c.json\n"
     ]
    },
    {
     "name": "stderr",
     "output_type": "stream",
     "text": [
      " 19%|█▉        | 3809/20093 [05:44<19:59, 13.58it/s]"
     ]
    },
    {
     "name": "stdout",
     "output_type": "stream",
     "text": [
      "Processing speech: https://www.bis.org/api/documents/review/r061212d.json\n",
      "Processing speech: https://www.bis.org/api/documents/review/r061212e.json\n",
      "Processing speech: https://www.bis.org/api/documents/review/r061212f.json\n"
     ]
    },
    {
     "name": "stderr",
     "output_type": "stream",
     "text": [
      " 19%|█▉        | 3813/20093 [05:44<22:05, 12.29it/s]"
     ]
    },
    {
     "name": "stdout",
     "output_type": "stream",
     "text": [
      "Processing speech: https://www.bis.org/api/documents/review/r061214b.json\n",
      "Processing speech: https://www.bis.org/api/documents/review/r061214c.json\n",
      "Processing speech: https://www.bis.org/api/documents/review/r061214d.json\n"
     ]
    },
    {
     "name": "stderr",
     "output_type": "stream",
     "text": [
      " 19%|█▉        | 3815/20093 [05:44<21:04, 12.87it/s]"
     ]
    },
    {
     "name": "stdout",
     "output_type": "stream",
     "text": [
      "Processing speech: https://www.bis.org/api/documents/review/r061214e.json\n",
      "Processing speech: https://www.bis.org/api/documents/review/r061214f.json\n",
      "Processing speech: https://www.bis.org/api/documents/review/r061214g.json\n"
     ]
    },
    {
     "name": "stderr",
     "output_type": "stream",
     "text": [
      " 19%|█▉        | 3819/20093 [05:44<19:55, 13.62it/s]"
     ]
    },
    {
     "name": "stdout",
     "output_type": "stream",
     "text": [
      "Processing speech: https://www.bis.org/api/documents/review/r061215a.json\n",
      "Processing speech: https://www.bis.org/api/documents/review/r061215b.json\n",
      "Processing speech: https://www.bis.org/api/documents/review/r061215c.json\n"
     ]
    },
    {
     "name": "stderr",
     "output_type": "stream",
     "text": [
      " 19%|█▉        | 3821/20093 [05:44<20:12, 13.42it/s]"
     ]
    },
    {
     "name": "stdout",
     "output_type": "stream",
     "text": [
      "Processing speech: https://www.bis.org/api/documents/review/r061215d.json\n",
      "Processing speech: https://www.bis.org/api/documents/review/r061215e.json\n",
      "Processing speech: https://www.bis.org/api/documents/review/r061218a.json\n"
     ]
    },
    {
     "name": "stderr",
     "output_type": "stream",
     "text": [
      " 19%|█▉        | 3825/20093 [05:45<21:00, 12.90it/s]"
     ]
    },
    {
     "name": "stdout",
     "output_type": "stream",
     "text": [
      "Processing speech: https://www.bis.org/api/documents/review/r061218b.json\n",
      "Processing speech: https://www.bis.org/api/documents/review/r061218c.json\n",
      "Processing speech: https://www.bis.org/api/documents/review/r061218d.json\n"
     ]
    },
    {
     "name": "stderr",
     "output_type": "stream",
     "text": [
      " 19%|█▉        | 3827/20093 [05:45<21:56, 12.36it/s]"
     ]
    },
    {
     "name": "stdout",
     "output_type": "stream",
     "text": [
      "Processing speech: https://www.bis.org/api/documents/review/r061218e.json\n",
      "Processing speech: https://www.bis.org/api/documents/review/r061218f.json\n",
      "Processing speech: https://www.bis.org/api/documents/review/r061128c.json\n"
     ]
    },
    {
     "name": "stderr",
     "output_type": "stream",
     "text": [
      " 19%|█▉        | 3831/20093 [05:45<22:27, 12.07it/s]"
     ]
    },
    {
     "name": "stdout",
     "output_type": "stream",
     "text": [
      "Processing speech: https://www.bis.org/api/documents/review/r061220a.json\n",
      "Processing speech: https://www.bis.org/api/documents/review/r061220b.json\n",
      "Processing speech: https://www.bis.org/api/documents/review/r061220c.json\n"
     ]
    },
    {
     "name": "stderr",
     "output_type": "stream",
     "text": [
      " 19%|█▉        | 3833/20093 [05:45<22:46, 11.90it/s]"
     ]
    },
    {
     "name": "stdout",
     "output_type": "stream",
     "text": [
      "Processing speech: https://www.bis.org/api/documents/review/r061220d.json\n",
      "Processing speech: https://www.bis.org/api/documents/review/r061220e.json\n",
      "Processing speech: https://www.bis.org/api/documents/review/r061221a.json\n"
     ]
    },
    {
     "name": "stderr",
     "output_type": "stream",
     "text": [
      " 19%|█▉        | 3837/20093 [05:46<21:34, 12.56it/s]"
     ]
    },
    {
     "name": "stdout",
     "output_type": "stream",
     "text": [
      "Processing speech: https://www.bis.org/api/documents/review/r061221b.json\n",
      "Processing speech: https://www.bis.org/api/documents/review/r061221c.json\n",
      "Processing speech: https://www.bis.org/api/documents/review/r061221d.json\n"
     ]
    },
    {
     "name": "stderr",
     "output_type": "stream",
     "text": [
      " 19%|█▉        | 3839/20093 [05:46<21:38, 12.51it/s]"
     ]
    },
    {
     "name": "stdout",
     "output_type": "stream",
     "text": [
      "Processing speech: https://www.bis.org/api/documents/review/r061221e.json\n",
      "Processing speech: https://www.bis.org/api/documents/review/r061221f.json\n",
      "Processing speech: https://www.bis.org/api/documents/review/r061221g.json\n"
     ]
    },
    {
     "name": "stderr",
     "output_type": "stream",
     "text": [
      " 19%|█▉        | 3843/20093 [05:46<20:37, 13.13it/s]"
     ]
    },
    {
     "name": "stdout",
     "output_type": "stream",
     "text": [
      "Processing speech: https://www.bis.org/api/documents/review/r061221h.json\n",
      "Processing speech: https://www.bis.org/api/documents/review/r070108a.json\n",
      "Processing speech: https://www.bis.org/api/documents/review/r070108b.json\n"
     ]
    },
    {
     "name": "stderr",
     "output_type": "stream",
     "text": [
      " 19%|█▉        | 3845/20093 [05:46<20:52, 12.97it/s]"
     ]
    },
    {
     "name": "stdout",
     "output_type": "stream",
     "text": [
      "Processing speech: https://www.bis.org/api/documents/review/r070108c.json\n",
      "Processing speech: https://www.bis.org/api/documents/review/r070108d.json\n",
      "Processing speech: https://www.bis.org/api/documents/review/r070108e.json\n"
     ]
    },
    {
     "name": "stderr",
     "output_type": "stream",
     "text": [
      " 19%|█▉        | 3849/20093 [05:47<21:46, 12.43it/s]"
     ]
    },
    {
     "name": "stdout",
     "output_type": "stream",
     "text": [
      "Processing speech: https://www.bis.org/api/documents/review/r070108f.json\n",
      "Processing speech: https://www.bis.org/api/documents/review/r070112a.json\n",
      "Processing speech: https://www.bis.org/api/documents/review/r070112b.json\n"
     ]
    },
    {
     "name": "stderr",
     "output_type": "stream",
     "text": [
      " 19%|█▉        | 3851/20093 [05:47<22:23, 12.09it/s]"
     ]
    },
    {
     "name": "stdout",
     "output_type": "stream",
     "text": [
      "Processing speech: https://www.bis.org/api/documents/review/r070112c.json\n",
      "Processing speech: https://www.bis.org/api/documents/review/r070112d.json\n",
      "Processing speech: https://www.bis.org/api/documents/review/r070112e.json\n"
     ]
    },
    {
     "name": "stderr",
     "output_type": "stream",
     "text": [
      " 19%|█▉        | 3855/20093 [05:47<22:16, 12.15it/s]"
     ]
    },
    {
     "name": "stdout",
     "output_type": "stream",
     "text": [
      "Processing speech: https://www.bis.org/api/documents/review/r070112f.json\n",
      "Processing speech: https://www.bis.org/api/documents/review/r070115b.json\n",
      "Processing speech: https://www.bis.org/api/documents/review/r070115c.json\n"
     ]
    },
    {
     "name": "stderr",
     "output_type": "stream",
     "text": [
      " 19%|█▉        | 3857/20093 [05:47<22:18, 12.13it/s]"
     ]
    },
    {
     "name": "stdout",
     "output_type": "stream",
     "text": [
      "Processing speech: https://www.bis.org/api/documents/review/r070115d.json\n",
      "Processing speech: https://www.bis.org/api/documents/review/r070115e.json\n",
      "Processing speech: https://www.bis.org/api/documents/review/r070115f.json\n"
     ]
    },
    {
     "name": "stderr",
     "output_type": "stream",
     "text": [
      " 19%|█▉        | 3861/20093 [05:48<21:42, 12.47it/s]"
     ]
    },
    {
     "name": "stdout",
     "output_type": "stream",
     "text": [
      "Processing speech: https://www.bis.org/api/documents/review/r070115g.json\n",
      "Processing speech: https://www.bis.org/api/documents/review/r070116a.json\n",
      "Processing speech: https://www.bis.org/api/documents/review/r070116b.json\n"
     ]
    },
    {
     "name": "stderr",
     "output_type": "stream",
     "text": [
      " 19%|█▉        | 3863/20093 [05:48<21:54, 12.35it/s]"
     ]
    },
    {
     "name": "stdout",
     "output_type": "stream",
     "text": [
      "Processing speech: https://www.bis.org/api/documents/review/r070116c.json\n",
      "Processing speech: https://www.bis.org/api/documents/review/r070116d.json\n",
      "Processing speech: https://www.bis.org/api/documents/review/r070116e.json\n"
     ]
    },
    {
     "name": "stderr",
     "output_type": "stream",
     "text": [
      " 19%|█▉        | 3867/20093 [05:48<21:30, 12.57it/s]"
     ]
    },
    {
     "name": "stdout",
     "output_type": "stream",
     "text": [
      "Processing speech: https://www.bis.org/api/documents/review/r070116f.json\n",
      "Processing speech: https://www.bis.org/api/documents/review/r070116g.json\n",
      "Processing speech: https://www.bis.org/api/documents/review/r070115a.json\n",
      "Processing speech: https://www.bis.org/api/documents/review/r070117a.json\n"
     ]
    },
    {
     "name": "stderr",
     "output_type": "stream",
     "text": [
      " 19%|█▉        | 3871/20093 [05:49<24:23, 11.08it/s]"
     ]
    },
    {
     "name": "stdout",
     "output_type": "stream",
     "text": [
      "Processing speech: https://www.bis.org/api/documents/review/r070117b.json\n",
      "Processing speech: https://www.bis.org/api/documents/review/r070117c.json\n",
      "Processing speech: https://www.bis.org/api/documents/review/r070117d.json\n"
     ]
    },
    {
     "name": "stderr",
     "output_type": "stream",
     "text": [
      "\n"
     ]
    },
    {
     "ename": "KeyboardInterrupt",
     "evalue": "",
     "output_type": "error",
     "traceback": [
      "\u001b[1;31m---------------------------------------------------------------------------\u001b[0m",
      "\u001b[1;31mKeyboardInterrupt\u001b[0m                         Traceback (most recent call last)",
      "Cell \u001b[1;32mIn[75], line 18\u001b[0m\n\u001b[0;32m     15\u001b[0m \u001b[38;5;28mprint\u001b[39m(\u001b[38;5;124mf\u001b[39m\u001b[38;5;124m\"\u001b[39m\u001b[38;5;124mProcessing speech: \u001b[39m\u001b[38;5;132;01m{\u001b[39;00mreview_url\u001b[38;5;132;01m}\u001b[39;00m\u001b[38;5;124m\"\u001b[39m)\n\u001b[0;32m     16\u001b[0m \u001b[38;5;28;01mtry\u001b[39;00m:\n\u001b[0;32m     17\u001b[0m    \u001b[38;5;66;03m# Fetch speech page\u001b[39;00m\n\u001b[1;32m---> 18\u001b[0m    review_response \u001b[38;5;241m=\u001b[39m \u001b[43mrequests\u001b[49m\u001b[38;5;241;43m.\u001b[39;49m\u001b[43mget\u001b[49m\u001b[43m(\u001b[49m\u001b[43mreview_url\u001b[49m\u001b[43m)\u001b[49m\n\u001b[0;32m     19\u001b[0m    review_metadata \u001b[38;5;241m=\u001b[39m review_response\u001b[38;5;241m.\u001b[39mjson()\n\u001b[0;32m     20\u001b[0m    speech_data\u001b[38;5;241m.\u001b[39mupdate(review_metadata)\n",
      "File \u001b[1;32mc:\\Users\\marie\\OneDrive\\Documents\\cours\\ensae\\3A\\ML for portfolio management\\.venvML\\Lib\\site-packages\\requests\\api.py:73\u001b[0m, in \u001b[0;36mget\u001b[1;34m(url, params, **kwargs)\u001b[0m\n\u001b[0;32m     62\u001b[0m \u001b[38;5;28;01mdef\u001b[39;00m \u001b[38;5;21mget\u001b[39m(url, params\u001b[38;5;241m=\u001b[39m\u001b[38;5;28;01mNone\u001b[39;00m, \u001b[38;5;241m*\u001b[39m\u001b[38;5;241m*\u001b[39mkwargs):\n\u001b[0;32m     63\u001b[0m \u001b[38;5;250m    \u001b[39m\u001b[38;5;124mr\u001b[39m\u001b[38;5;124;03m\"\"\"Sends a GET request.\u001b[39;00m\n\u001b[0;32m     64\u001b[0m \n\u001b[0;32m     65\u001b[0m \u001b[38;5;124;03m    :param url: URL for the new :class:`Request` object.\u001b[39;00m\n\u001b[1;32m   (...)\u001b[0m\n\u001b[0;32m     70\u001b[0m \u001b[38;5;124;03m    :rtype: requests.Response\u001b[39;00m\n\u001b[0;32m     71\u001b[0m \u001b[38;5;124;03m    \"\"\"\u001b[39;00m\n\u001b[1;32m---> 73\u001b[0m     \u001b[38;5;28;01mreturn\u001b[39;00m \u001b[43mrequest\u001b[49m\u001b[43m(\u001b[49m\u001b[38;5;124;43m\"\u001b[39;49m\u001b[38;5;124;43mget\u001b[39;49m\u001b[38;5;124;43m\"\u001b[39;49m\u001b[43m,\u001b[49m\u001b[43m \u001b[49m\u001b[43murl\u001b[49m\u001b[43m,\u001b[49m\u001b[43m \u001b[49m\u001b[43mparams\u001b[49m\u001b[38;5;241;43m=\u001b[39;49m\u001b[43mparams\u001b[49m\u001b[43m,\u001b[49m\u001b[43m \u001b[49m\u001b[38;5;241;43m*\u001b[39;49m\u001b[38;5;241;43m*\u001b[39;49m\u001b[43mkwargs\u001b[49m\u001b[43m)\u001b[49m\n",
      "File \u001b[1;32mc:\\Users\\marie\\OneDrive\\Documents\\cours\\ensae\\3A\\ML for portfolio management\\.venvML\\Lib\\site-packages\\requests\\api.py:59\u001b[0m, in \u001b[0;36mrequest\u001b[1;34m(method, url, **kwargs)\u001b[0m\n\u001b[0;32m     55\u001b[0m \u001b[38;5;66;03m# By using the 'with' statement we are sure the session is closed, thus we\u001b[39;00m\n\u001b[0;32m     56\u001b[0m \u001b[38;5;66;03m# avoid leaving sockets open which can trigger a ResourceWarning in some\u001b[39;00m\n\u001b[0;32m     57\u001b[0m \u001b[38;5;66;03m# cases, and look like a memory leak in others.\u001b[39;00m\n\u001b[0;32m     58\u001b[0m \u001b[38;5;28;01mwith\u001b[39;00m sessions\u001b[38;5;241m.\u001b[39mSession() \u001b[38;5;28;01mas\u001b[39;00m session:\n\u001b[1;32m---> 59\u001b[0m     \u001b[38;5;28;01mreturn\u001b[39;00m \u001b[43msession\u001b[49m\u001b[38;5;241;43m.\u001b[39;49m\u001b[43mrequest\u001b[49m\u001b[43m(\u001b[49m\u001b[43mmethod\u001b[49m\u001b[38;5;241;43m=\u001b[39;49m\u001b[43mmethod\u001b[49m\u001b[43m,\u001b[49m\u001b[43m \u001b[49m\u001b[43murl\u001b[49m\u001b[38;5;241;43m=\u001b[39;49m\u001b[43murl\u001b[49m\u001b[43m,\u001b[49m\u001b[43m \u001b[49m\u001b[38;5;241;43m*\u001b[39;49m\u001b[38;5;241;43m*\u001b[39;49m\u001b[43mkwargs\u001b[49m\u001b[43m)\u001b[49m\n",
      "File \u001b[1;32mc:\\Users\\marie\\OneDrive\\Documents\\cours\\ensae\\3A\\ML for portfolio management\\.venvML\\Lib\\site-packages\\requests\\sessions.py:589\u001b[0m, in \u001b[0;36mSession.request\u001b[1;34m(self, method, url, params, data, headers, cookies, files, auth, timeout, allow_redirects, proxies, hooks, stream, verify, cert, json)\u001b[0m\n\u001b[0;32m    584\u001b[0m send_kwargs \u001b[38;5;241m=\u001b[39m {\n\u001b[0;32m    585\u001b[0m     \u001b[38;5;124m\"\u001b[39m\u001b[38;5;124mtimeout\u001b[39m\u001b[38;5;124m\"\u001b[39m: timeout,\n\u001b[0;32m    586\u001b[0m     \u001b[38;5;124m\"\u001b[39m\u001b[38;5;124mallow_redirects\u001b[39m\u001b[38;5;124m\"\u001b[39m: allow_redirects,\n\u001b[0;32m    587\u001b[0m }\n\u001b[0;32m    588\u001b[0m send_kwargs\u001b[38;5;241m.\u001b[39mupdate(settings)\n\u001b[1;32m--> 589\u001b[0m resp \u001b[38;5;241m=\u001b[39m \u001b[38;5;28;43mself\u001b[39;49m\u001b[38;5;241;43m.\u001b[39;49m\u001b[43msend\u001b[49m\u001b[43m(\u001b[49m\u001b[43mprep\u001b[49m\u001b[43m,\u001b[49m\u001b[43m \u001b[49m\u001b[38;5;241;43m*\u001b[39;49m\u001b[38;5;241;43m*\u001b[39;49m\u001b[43msend_kwargs\u001b[49m\u001b[43m)\u001b[49m\n\u001b[0;32m    591\u001b[0m \u001b[38;5;28;01mreturn\u001b[39;00m resp\n",
      "File \u001b[1;32mc:\\Users\\marie\\OneDrive\\Documents\\cours\\ensae\\3A\\ML for portfolio management\\.venvML\\Lib\\site-packages\\requests\\sessions.py:703\u001b[0m, in \u001b[0;36mSession.send\u001b[1;34m(self, request, **kwargs)\u001b[0m\n\u001b[0;32m    700\u001b[0m start \u001b[38;5;241m=\u001b[39m preferred_clock()\n\u001b[0;32m    702\u001b[0m \u001b[38;5;66;03m# Send the request\u001b[39;00m\n\u001b[1;32m--> 703\u001b[0m r \u001b[38;5;241m=\u001b[39m \u001b[43madapter\u001b[49m\u001b[38;5;241;43m.\u001b[39;49m\u001b[43msend\u001b[49m\u001b[43m(\u001b[49m\u001b[43mrequest\u001b[49m\u001b[43m,\u001b[49m\u001b[43m \u001b[49m\u001b[38;5;241;43m*\u001b[39;49m\u001b[38;5;241;43m*\u001b[39;49m\u001b[43mkwargs\u001b[49m\u001b[43m)\u001b[49m\n\u001b[0;32m    705\u001b[0m \u001b[38;5;66;03m# Total elapsed time of the request (approximately)\u001b[39;00m\n\u001b[0;32m    706\u001b[0m elapsed \u001b[38;5;241m=\u001b[39m preferred_clock() \u001b[38;5;241m-\u001b[39m start\n",
      "File \u001b[1;32mc:\\Users\\marie\\OneDrive\\Documents\\cours\\ensae\\3A\\ML for portfolio management\\.venvML\\Lib\\site-packages\\requests\\adapters.py:667\u001b[0m, in \u001b[0;36mHTTPAdapter.send\u001b[1;34m(self, request, stream, timeout, verify, cert, proxies)\u001b[0m\n\u001b[0;32m    664\u001b[0m     timeout \u001b[38;5;241m=\u001b[39m TimeoutSauce(connect\u001b[38;5;241m=\u001b[39mtimeout, read\u001b[38;5;241m=\u001b[39mtimeout)\n\u001b[0;32m    666\u001b[0m \u001b[38;5;28;01mtry\u001b[39;00m:\n\u001b[1;32m--> 667\u001b[0m     resp \u001b[38;5;241m=\u001b[39m \u001b[43mconn\u001b[49m\u001b[38;5;241;43m.\u001b[39;49m\u001b[43murlopen\u001b[49m\u001b[43m(\u001b[49m\n\u001b[0;32m    668\u001b[0m \u001b[43m        \u001b[49m\u001b[43mmethod\u001b[49m\u001b[38;5;241;43m=\u001b[39;49m\u001b[43mrequest\u001b[49m\u001b[38;5;241;43m.\u001b[39;49m\u001b[43mmethod\u001b[49m\u001b[43m,\u001b[49m\n\u001b[0;32m    669\u001b[0m \u001b[43m        \u001b[49m\u001b[43murl\u001b[49m\u001b[38;5;241;43m=\u001b[39;49m\u001b[43murl\u001b[49m\u001b[43m,\u001b[49m\n\u001b[0;32m    670\u001b[0m \u001b[43m        \u001b[49m\u001b[43mbody\u001b[49m\u001b[38;5;241;43m=\u001b[39;49m\u001b[43mrequest\u001b[49m\u001b[38;5;241;43m.\u001b[39;49m\u001b[43mbody\u001b[49m\u001b[43m,\u001b[49m\n\u001b[0;32m    671\u001b[0m \u001b[43m        \u001b[49m\u001b[43mheaders\u001b[49m\u001b[38;5;241;43m=\u001b[39;49m\u001b[43mrequest\u001b[49m\u001b[38;5;241;43m.\u001b[39;49m\u001b[43mheaders\u001b[49m\u001b[43m,\u001b[49m\n\u001b[0;32m    672\u001b[0m \u001b[43m        \u001b[49m\u001b[43mredirect\u001b[49m\u001b[38;5;241;43m=\u001b[39;49m\u001b[38;5;28;43;01mFalse\u001b[39;49;00m\u001b[43m,\u001b[49m\n\u001b[0;32m    673\u001b[0m \u001b[43m        \u001b[49m\u001b[43massert_same_host\u001b[49m\u001b[38;5;241;43m=\u001b[39;49m\u001b[38;5;28;43;01mFalse\u001b[39;49;00m\u001b[43m,\u001b[49m\n\u001b[0;32m    674\u001b[0m \u001b[43m        \u001b[49m\u001b[43mpreload_content\u001b[49m\u001b[38;5;241;43m=\u001b[39;49m\u001b[38;5;28;43;01mFalse\u001b[39;49;00m\u001b[43m,\u001b[49m\n\u001b[0;32m    675\u001b[0m \u001b[43m        \u001b[49m\u001b[43mdecode_content\u001b[49m\u001b[38;5;241;43m=\u001b[39;49m\u001b[38;5;28;43;01mFalse\u001b[39;49;00m\u001b[43m,\u001b[49m\n\u001b[0;32m    676\u001b[0m \u001b[43m        \u001b[49m\u001b[43mretries\u001b[49m\u001b[38;5;241;43m=\u001b[39;49m\u001b[38;5;28;43mself\u001b[39;49m\u001b[38;5;241;43m.\u001b[39;49m\u001b[43mmax_retries\u001b[49m\u001b[43m,\u001b[49m\n\u001b[0;32m    677\u001b[0m \u001b[43m        \u001b[49m\u001b[43mtimeout\u001b[49m\u001b[38;5;241;43m=\u001b[39;49m\u001b[43mtimeout\u001b[49m\u001b[43m,\u001b[49m\n\u001b[0;32m    678\u001b[0m \u001b[43m        \u001b[49m\u001b[43mchunked\u001b[49m\u001b[38;5;241;43m=\u001b[39;49m\u001b[43mchunked\u001b[49m\u001b[43m,\u001b[49m\n\u001b[0;32m    679\u001b[0m \u001b[43m    \u001b[49m\u001b[43m)\u001b[49m\n\u001b[0;32m    681\u001b[0m \u001b[38;5;28;01mexcept\u001b[39;00m (ProtocolError, \u001b[38;5;167;01mOSError\u001b[39;00m) \u001b[38;5;28;01mas\u001b[39;00m err:\n\u001b[0;32m    682\u001b[0m     \u001b[38;5;28;01mraise\u001b[39;00m \u001b[38;5;167;01mConnectionError\u001b[39;00m(err, request\u001b[38;5;241m=\u001b[39mrequest)\n",
      "File \u001b[1;32mc:\\Users\\marie\\OneDrive\\Documents\\cours\\ensae\\3A\\ML for portfolio management\\.venvML\\Lib\\site-packages\\urllib3\\connectionpool.py:789\u001b[0m, in \u001b[0;36mHTTPConnectionPool.urlopen\u001b[1;34m(self, method, url, body, headers, retries, redirect, assert_same_host, timeout, pool_timeout, release_conn, chunked, body_pos, preload_content, decode_content, **response_kw)\u001b[0m\n\u001b[0;32m    786\u001b[0m response_conn \u001b[38;5;241m=\u001b[39m conn \u001b[38;5;28;01mif\u001b[39;00m \u001b[38;5;129;01mnot\u001b[39;00m release_conn \u001b[38;5;28;01melse\u001b[39;00m \u001b[38;5;28;01mNone\u001b[39;00m\n\u001b[0;32m    788\u001b[0m \u001b[38;5;66;03m# Make the request on the HTTPConnection object\u001b[39;00m\n\u001b[1;32m--> 789\u001b[0m response \u001b[38;5;241m=\u001b[39m \u001b[38;5;28;43mself\u001b[39;49m\u001b[38;5;241;43m.\u001b[39;49m\u001b[43m_make_request\u001b[49m\u001b[43m(\u001b[49m\n\u001b[0;32m    790\u001b[0m \u001b[43m    \u001b[49m\u001b[43mconn\u001b[49m\u001b[43m,\u001b[49m\n\u001b[0;32m    791\u001b[0m \u001b[43m    \u001b[49m\u001b[43mmethod\u001b[49m\u001b[43m,\u001b[49m\n\u001b[0;32m    792\u001b[0m \u001b[43m    \u001b[49m\u001b[43murl\u001b[49m\u001b[43m,\u001b[49m\n\u001b[0;32m    793\u001b[0m \u001b[43m    \u001b[49m\u001b[43mtimeout\u001b[49m\u001b[38;5;241;43m=\u001b[39;49m\u001b[43mtimeout_obj\u001b[49m\u001b[43m,\u001b[49m\n\u001b[0;32m    794\u001b[0m \u001b[43m    \u001b[49m\u001b[43mbody\u001b[49m\u001b[38;5;241;43m=\u001b[39;49m\u001b[43mbody\u001b[49m\u001b[43m,\u001b[49m\n\u001b[0;32m    795\u001b[0m \u001b[43m    \u001b[49m\u001b[43mheaders\u001b[49m\u001b[38;5;241;43m=\u001b[39;49m\u001b[43mheaders\u001b[49m\u001b[43m,\u001b[49m\n\u001b[0;32m    796\u001b[0m \u001b[43m    \u001b[49m\u001b[43mchunked\u001b[49m\u001b[38;5;241;43m=\u001b[39;49m\u001b[43mchunked\u001b[49m\u001b[43m,\u001b[49m\n\u001b[0;32m    797\u001b[0m \u001b[43m    \u001b[49m\u001b[43mretries\u001b[49m\u001b[38;5;241;43m=\u001b[39;49m\u001b[43mretries\u001b[49m\u001b[43m,\u001b[49m\n\u001b[0;32m    798\u001b[0m \u001b[43m    \u001b[49m\u001b[43mresponse_conn\u001b[49m\u001b[38;5;241;43m=\u001b[39;49m\u001b[43mresponse_conn\u001b[49m\u001b[43m,\u001b[49m\n\u001b[0;32m    799\u001b[0m \u001b[43m    \u001b[49m\u001b[43mpreload_content\u001b[49m\u001b[38;5;241;43m=\u001b[39;49m\u001b[43mpreload_content\u001b[49m\u001b[43m,\u001b[49m\n\u001b[0;32m    800\u001b[0m \u001b[43m    \u001b[49m\u001b[43mdecode_content\u001b[49m\u001b[38;5;241;43m=\u001b[39;49m\u001b[43mdecode_content\u001b[49m\u001b[43m,\u001b[49m\n\u001b[0;32m    801\u001b[0m \u001b[43m    \u001b[49m\u001b[38;5;241;43m*\u001b[39;49m\u001b[38;5;241;43m*\u001b[39;49m\u001b[43mresponse_kw\u001b[49m\u001b[43m,\u001b[49m\n\u001b[0;32m    802\u001b[0m \u001b[43m\u001b[49m\u001b[43m)\u001b[49m\n\u001b[0;32m    804\u001b[0m \u001b[38;5;66;03m# Everything went great!\u001b[39;00m\n\u001b[0;32m    805\u001b[0m clean_exit \u001b[38;5;241m=\u001b[39m \u001b[38;5;28;01mTrue\u001b[39;00m\n",
      "File \u001b[1;32mc:\\Users\\marie\\OneDrive\\Documents\\cours\\ensae\\3A\\ML for portfolio management\\.venvML\\Lib\\site-packages\\urllib3\\connectionpool.py:466\u001b[0m, in \u001b[0;36mHTTPConnectionPool._make_request\u001b[1;34m(self, conn, method, url, body, headers, retries, timeout, chunked, response_conn, preload_content, decode_content, enforce_content_length)\u001b[0m\n\u001b[0;32m    463\u001b[0m \u001b[38;5;28;01mtry\u001b[39;00m:\n\u001b[0;32m    464\u001b[0m     \u001b[38;5;66;03m# Trigger any extra validation we need to do.\u001b[39;00m\n\u001b[0;32m    465\u001b[0m     \u001b[38;5;28;01mtry\u001b[39;00m:\n\u001b[1;32m--> 466\u001b[0m         \u001b[38;5;28;43mself\u001b[39;49m\u001b[38;5;241;43m.\u001b[39;49m\u001b[43m_validate_conn\u001b[49m\u001b[43m(\u001b[49m\u001b[43mconn\u001b[49m\u001b[43m)\u001b[49m\n\u001b[0;32m    467\u001b[0m     \u001b[38;5;28;01mexcept\u001b[39;00m (SocketTimeout, BaseSSLError) \u001b[38;5;28;01mas\u001b[39;00m e:\n\u001b[0;32m    468\u001b[0m         \u001b[38;5;28mself\u001b[39m\u001b[38;5;241m.\u001b[39m_raise_timeout(err\u001b[38;5;241m=\u001b[39me, url\u001b[38;5;241m=\u001b[39murl, timeout_value\u001b[38;5;241m=\u001b[39mconn\u001b[38;5;241m.\u001b[39mtimeout)\n",
      "File \u001b[1;32mc:\\Users\\marie\\OneDrive\\Documents\\cours\\ensae\\3A\\ML for portfolio management\\.venvML\\Lib\\site-packages\\urllib3\\connectionpool.py:1095\u001b[0m, in \u001b[0;36mHTTPSConnectionPool._validate_conn\u001b[1;34m(self, conn)\u001b[0m\n\u001b[0;32m   1093\u001b[0m \u001b[38;5;66;03m# Force connect early to allow us to validate the connection.\u001b[39;00m\n\u001b[0;32m   1094\u001b[0m \u001b[38;5;28;01mif\u001b[39;00m conn\u001b[38;5;241m.\u001b[39mis_closed:\n\u001b[1;32m-> 1095\u001b[0m     \u001b[43mconn\u001b[49m\u001b[38;5;241;43m.\u001b[39;49m\u001b[43mconnect\u001b[49m\u001b[43m(\u001b[49m\u001b[43m)\u001b[49m\n\u001b[0;32m   1097\u001b[0m \u001b[38;5;66;03m# TODO revise this, see https://github.com/urllib3/urllib3/issues/2791\u001b[39;00m\n\u001b[0;32m   1098\u001b[0m \u001b[38;5;28;01mif\u001b[39;00m \u001b[38;5;129;01mnot\u001b[39;00m conn\u001b[38;5;241m.\u001b[39mis_verified \u001b[38;5;129;01mand\u001b[39;00m \u001b[38;5;129;01mnot\u001b[39;00m conn\u001b[38;5;241m.\u001b[39mproxy_is_verified:\n",
      "File \u001b[1;32mc:\\Users\\marie\\OneDrive\\Documents\\cours\\ensae\\3A\\ML for portfolio management\\.venvML\\Lib\\site-packages\\urllib3\\connection.py:693\u001b[0m, in \u001b[0;36mHTTPSConnection.connect\u001b[1;34m(self)\u001b[0m\n\u001b[0;32m    691\u001b[0m \u001b[38;5;28;01mtry\u001b[39;00m:\n\u001b[0;32m    692\u001b[0m     sock: socket\u001b[38;5;241m.\u001b[39msocket \u001b[38;5;241m|\u001b[39m ssl\u001b[38;5;241m.\u001b[39mSSLSocket\n\u001b[1;32m--> 693\u001b[0m     \u001b[38;5;28mself\u001b[39m\u001b[38;5;241m.\u001b[39msock \u001b[38;5;241m=\u001b[39m sock \u001b[38;5;241m=\u001b[39m \u001b[38;5;28;43mself\u001b[39;49m\u001b[38;5;241;43m.\u001b[39;49m\u001b[43m_new_conn\u001b[49m\u001b[43m(\u001b[49m\u001b[43m)\u001b[49m\n\u001b[0;32m    694\u001b[0m     server_hostname: \u001b[38;5;28mstr\u001b[39m \u001b[38;5;241m=\u001b[39m \u001b[38;5;28mself\u001b[39m\u001b[38;5;241m.\u001b[39mhost\n\u001b[0;32m    695\u001b[0m     tls_in_tls \u001b[38;5;241m=\u001b[39m \u001b[38;5;28;01mFalse\u001b[39;00m\n",
      "File \u001b[1;32mc:\\Users\\marie\\OneDrive\\Documents\\cours\\ensae\\3A\\ML for portfolio management\\.venvML\\Lib\\site-packages\\urllib3\\connection.py:199\u001b[0m, in \u001b[0;36mHTTPConnection._new_conn\u001b[1;34m(self)\u001b[0m\n\u001b[0;32m    194\u001b[0m \u001b[38;5;250m\u001b[39m\u001b[38;5;124;03m\"\"\"Establish a socket connection and set nodelay settings on it.\u001b[39;00m\n\u001b[0;32m    195\u001b[0m \n\u001b[0;32m    196\u001b[0m \u001b[38;5;124;03m:return: New socket connection.\u001b[39;00m\n\u001b[0;32m    197\u001b[0m \u001b[38;5;124;03m\"\"\"\u001b[39;00m\n\u001b[0;32m    198\u001b[0m \u001b[38;5;28;01mtry\u001b[39;00m:\n\u001b[1;32m--> 199\u001b[0m     sock \u001b[38;5;241m=\u001b[39m \u001b[43mconnection\u001b[49m\u001b[38;5;241;43m.\u001b[39;49m\u001b[43mcreate_connection\u001b[49m\u001b[43m(\u001b[49m\n\u001b[0;32m    200\u001b[0m \u001b[43m        \u001b[49m\u001b[43m(\u001b[49m\u001b[38;5;28;43mself\u001b[39;49m\u001b[38;5;241;43m.\u001b[39;49m\u001b[43m_dns_host\u001b[49m\u001b[43m,\u001b[49m\u001b[43m \u001b[49m\u001b[38;5;28;43mself\u001b[39;49m\u001b[38;5;241;43m.\u001b[39;49m\u001b[43mport\u001b[49m\u001b[43m)\u001b[49m\u001b[43m,\u001b[49m\n\u001b[0;32m    201\u001b[0m \u001b[43m        \u001b[49m\u001b[38;5;28;43mself\u001b[39;49m\u001b[38;5;241;43m.\u001b[39;49m\u001b[43mtimeout\u001b[49m\u001b[43m,\u001b[49m\n\u001b[0;32m    202\u001b[0m \u001b[43m        \u001b[49m\u001b[43msource_address\u001b[49m\u001b[38;5;241;43m=\u001b[39;49m\u001b[38;5;28;43mself\u001b[39;49m\u001b[38;5;241;43m.\u001b[39;49m\u001b[43msource_address\u001b[49m\u001b[43m,\u001b[49m\n\u001b[0;32m    203\u001b[0m \u001b[43m        \u001b[49m\u001b[43msocket_options\u001b[49m\u001b[38;5;241;43m=\u001b[39;49m\u001b[38;5;28;43mself\u001b[39;49m\u001b[38;5;241;43m.\u001b[39;49m\u001b[43msocket_options\u001b[49m\u001b[43m,\u001b[49m\n\u001b[0;32m    204\u001b[0m \u001b[43m    \u001b[49m\u001b[43m)\u001b[49m\n\u001b[0;32m    205\u001b[0m \u001b[38;5;28;01mexcept\u001b[39;00m socket\u001b[38;5;241m.\u001b[39mgaierror \u001b[38;5;28;01mas\u001b[39;00m e:\n\u001b[0;32m    206\u001b[0m     \u001b[38;5;28;01mraise\u001b[39;00m NameResolutionError(\u001b[38;5;28mself\u001b[39m\u001b[38;5;241m.\u001b[39mhost, \u001b[38;5;28mself\u001b[39m, e) \u001b[38;5;28;01mfrom\u001b[39;00m \u001b[38;5;21;01me\u001b[39;00m\n",
      "File \u001b[1;32mc:\\Users\\marie\\OneDrive\\Documents\\cours\\ensae\\3A\\ML for portfolio management\\.venvML\\Lib\\site-packages\\urllib3\\util\\connection.py:73\u001b[0m, in \u001b[0;36mcreate_connection\u001b[1;34m(address, timeout, source_address, socket_options)\u001b[0m\n\u001b[0;32m     71\u001b[0m \u001b[38;5;28;01mif\u001b[39;00m source_address:\n\u001b[0;32m     72\u001b[0m     sock\u001b[38;5;241m.\u001b[39mbind(source_address)\n\u001b[1;32m---> 73\u001b[0m sock\u001b[38;5;241m.\u001b[39mconnect(sa)\n\u001b[0;32m     74\u001b[0m \u001b[38;5;66;03m# Break explicitly a reference cycle\u001b[39;00m\n\u001b[0;32m     75\u001b[0m err \u001b[38;5;241m=\u001b[39m \u001b[38;5;28;01mNone\u001b[39;00m\n",
      "\u001b[1;31mKeyboardInterrupt\u001b[0m: "
     ]
    }
   ],
   "source": [
    "\n",
    "# get speeches metadata + extract / scrape speech from html page\n",
    "all_speeches = []\n",
    "base_url_api = \"https://www.bis.org/api/documents\"\n",
    "base_url = \"https://www.bis.org\"\n",
    "\n",
    "counter = 0\n",
    "switch = None\n",
    "for link in review_urls : #tqdm(reviews):\n",
    "     counter += 1\n",
    "   #   link = '/review/r010105b'\n",
    "     speech_data = {}\n",
    "     review_url = f'{base_url_api}{link}.json'\n",
    "     speech_url = f'{base_url}{link}.htm'\n",
    "     print(f\"Processing speech: {review_url}\")\n",
    "     try:\n",
    "        # Fetch speech page\n",
    "        review_response = requests.get(review_url)\n",
    "        review_metadata = review_response.json()\n",
    "        speech_data.update(review_metadata)\n",
    "\n",
    "        # Check if 'institutions' exists, skip processing if not\n",
    "             # only scrape speech if it's the right institution (filtering before scraping)  \n",
    "        if 'institutions' in speech_data: #and speech_data['institutions']==6  and 'publication_start_date' = 2024-12-06\n",
    "            switch = speech_data['id']\n",
    "            # print(f\"Skipping speech {review_url} as it does not have the right institution\")       \n",
    "            try:\n",
    "                # Scrape speech content\n",
    "                speech_response = requests.get(speech_url)\n",
    "                # Parse the HTML content\n",
    "                soup = BeautifulSoup(speech_response.content, 'html.parser')\n",
    "                # full speech is ocntained in the 'section' class\n",
    "                speech_content = soup.find('div', id='cmsContent')\n",
    "                speech_content_text = speech_content.get_text()\n",
    "                speech_data['speech_content'] = speech_content_text\n",
    "\n",
    "            except Exception as e:\n",
    "                      print(f\"Failed to process speech: {speech_url}, error: {e}\")\n",
    "                      continue \n",
    "\n",
    "              # append speech dict (content + metadata) to all_speeches\n",
    "            all_speeches.append(speech_data)\n",
    "\n",
    "     except Exception as e:\n",
    "            print(f\"Failed to fetch data of review {review_url}, status code: {response.status_code}\")\n",
    "            continue \n",
    "     \n",
    "     # Pause to avoid overloading\n",
    "   #   time.sleep(1)\n",
    "   #   break\n",
    "     \n"
   ]
  },
  {
   "cell_type": "code",
   "execution_count": null,
   "metadata": {},
   "outputs": [
    {
     "name": "stdout",
     "output_type": "stream",
     "text": [
      "Processing speech: https://www.bis.org/api/documents/review/r241206d\n",
      "Failed to fetch data of review https://www.bis.org/api/documents/review/r241206d, status code: 200\n",
      "Processing speech: https://www.bis.org/api/documents/review/r241206d\n",
      "Failed to fetch data of review https://www.bis.org/api/documents/review/r241206d, status code: 200\n",
      "Processing speech: https://www.bis.org/api/documents/review/r241206d\n",
      "Failed to fetch data of review https://www.bis.org/api/documents/review/r241206d, status code: 200\n",
      "Processing speech: https://www.bis.org/api/documents/review/r241206d\n",
      "Failed to fetch data of review https://www.bis.org/api/documents/review/r241206d, status code: 200\n",
      "Processing speech: https://www.bis.org/api/documents/review/r241206d\n",
      "Failed to fetch data of review https://www.bis.org/api/documents/review/r241206d, status code: 200\n",
      "Processing speech: https://www.bis.org/api/documents/review/r241206d\n",
      "Failed to fetch data of review https://www.bis.org/api/documents/review/r241206d, status code: 200\n",
      "Processing speech: https://www.bis.org/api/documents/review/r241206d\n",
      "Failed to fetch data of review https://www.bis.org/api/documents/review/r241206d, status code: 200\n",
      "Processing speech: https://www.bis.org/api/documents/review/r241206d\n",
      "Failed to fetch data of review https://www.bis.org/api/documents/review/r241206d, status code: 200\n",
      "Processing speech: https://www.bis.org/api/documents/review/r241206d\n",
      "Failed to fetch data of review https://www.bis.org/api/documents/review/r241206d, status code: 200\n",
      "Processing speech: https://www.bis.org/api/documents/review/r241206d\n",
      "Failed to fetch data of review https://www.bis.org/api/documents/review/r241206d, status code: 200\n",
      "Processing speech: https://www.bis.org/api/documents/review/r241206d\n",
      "Failed to fetch data of review https://www.bis.org/api/documents/review/r241206d, status code: 200\n",
      "Processing speech: https://www.bis.org/api/documents/review/r241206d\n",
      "Failed to fetch data of review https://www.bis.org/api/documents/review/r241206d, status code: 200\n",
      "Processing speech: https://www.bis.org/api/documents/review/r241206d\n",
      "Failed to fetch data of review https://www.bis.org/api/documents/review/r241206d, status code: 200\n",
      "Processing speech: https://www.bis.org/api/documents/review/r241206d\n",
      "Failed to fetch data of review https://www.bis.org/api/documents/review/r241206d, status code: 200\n",
      "Processing speech: https://www.bis.org/api/documents/review/r241206d\n",
      "Failed to fetch data of review https://www.bis.org/api/documents/review/r241206d, status code: 200\n",
      "Processing speech: https://www.bis.org/api/documents/review/r241206d\n",
      "Failed to fetch data of review https://www.bis.org/api/documents/review/r241206d, status code: 200\n",
      "Processing speech: https://www.bis.org/api/documents/review/r241206d\n",
      "Failed to fetch data of review https://www.bis.org/api/documents/review/r241206d, status code: 200\n",
      "Processing speech: https://www.bis.org/api/documents/review/r241206d\n",
      "Failed to fetch data of review https://www.bis.org/api/documents/review/r241206d, status code: 200\n",
      "Processing speech: https://www.bis.org/api/documents/review/r241206d\n",
      "Failed to fetch data of review https://www.bis.org/api/documents/review/r241206d, status code: 200\n",
      "Processing speech: https://www.bis.org/api/documents/review/r241206d\n",
      "Failed to fetch data of review https://www.bis.org/api/documents/review/r241206d, status code: 200\n",
      "Processing speech: https://www.bis.org/api/documents/review/r241206d\n",
      "Failed to fetch data of review https://www.bis.org/api/documents/review/r241206d, status code: 200\n",
      "Processing speech: https://www.bis.org/api/documents/review/r241206d\n",
      "Failed to fetch data of review https://www.bis.org/api/documents/review/r241206d, status code: 200\n",
      "Processing speech: https://www.bis.org/api/documents/review/r241206d\n",
      "Failed to fetch data of review https://www.bis.org/api/documents/review/r241206d, status code: 200\n",
      "Processing speech: https://www.bis.org/api/documents/review/r241206d\n",
      "Failed to fetch data of review https://www.bis.org/api/documents/review/r241206d, status code: 200\n",
      "Processing speech: https://www.bis.org/api/documents/review/r241206d\n",
      "Failed to fetch data of review https://www.bis.org/api/documents/review/r241206d, status code: 200\n",
      "Processing speech: https://www.bis.org/api/documents/review/r241206d\n",
      "Failed to fetch data of review https://www.bis.org/api/documents/review/r241206d, status code: 200\n",
      "Processing speech: https://www.bis.org/api/documents/review/r241206d\n",
      "Failed to fetch data of review https://www.bis.org/api/documents/review/r241206d, status code: 200\n",
      "Processing speech: https://www.bis.org/api/documents/review/r241206d\n",
      "Failed to fetch data of review https://www.bis.org/api/documents/review/r241206d, status code: 200\n",
      "Processing speech: https://www.bis.org/api/documents/review/r241206d\n",
      "Failed to fetch data of review https://www.bis.org/api/documents/review/r241206d, status code: 200\n",
      "Processing speech: https://www.bis.org/api/documents/review/r241206d\n",
      "Failed to fetch data of review https://www.bis.org/api/documents/review/r241206d, status code: 200\n",
      "Processing speech: https://www.bis.org/api/documents/review/r241206d\n",
      "Failed to fetch data of review https://www.bis.org/api/documents/review/r241206d, status code: 200\n",
      "Processing speech: https://www.bis.org/api/documents/review/r241206d\n",
      "Failed to fetch data of review https://www.bis.org/api/documents/review/r241206d, status code: 200\n",
      "Processing speech: https://www.bis.org/api/documents/review/r241206d\n",
      "Failed to fetch data of review https://www.bis.org/api/documents/review/r241206d, status code: 200\n",
      "Processing speech: https://www.bis.org/api/documents/review/r241206d\n",
      "Failed to fetch data of review https://www.bis.org/api/documents/review/r241206d, status code: 200\n",
      "Processing speech: https://www.bis.org/api/documents/review/r241206d\n",
      "Failed to fetch data of review https://www.bis.org/api/documents/review/r241206d, status code: 200\n",
      "Processing speech: https://www.bis.org/api/documents/review/r241206d\n",
      "Failed to fetch data of review https://www.bis.org/api/documents/review/r241206d, status code: 200\n",
      "Processing speech: https://www.bis.org/api/documents/review/r241206d\n",
      "Failed to fetch data of review https://www.bis.org/api/documents/review/r241206d, status code: 200\n",
      "Processing speech: https://www.bis.org/api/documents/review/r241206d\n",
      "Failed to fetch data of review https://www.bis.org/api/documents/review/r241206d, status code: 200\n",
      "Processing speech: https://www.bis.org/api/documents/review/r241206d\n",
      "Failed to fetch data of review https://www.bis.org/api/documents/review/r241206d, status code: 200\n",
      "Processing speech: https://www.bis.org/api/documents/review/r241206d\n",
      "Failed to fetch data of review https://www.bis.org/api/documents/review/r241206d, status code: 200\n",
      "Processing speech: https://www.bis.org/api/documents/review/r241206d\n",
      "Failed to fetch data of review https://www.bis.org/api/documents/review/r241206d, status code: 200\n",
      "Processing speech: https://www.bis.org/api/documents/review/r241206d\n",
      "Failed to fetch data of review https://www.bis.org/api/documents/review/r241206d, status code: 200\n",
      "Processing speech: https://www.bis.org/api/documents/review/r241206d\n",
      "Failed to fetch data of review https://www.bis.org/api/documents/review/r241206d, status code: 200\n",
      "Processing speech: https://www.bis.org/api/documents/review/r241206d\n",
      "Failed to fetch data of review https://www.bis.org/api/documents/review/r241206d, status code: 200\n",
      "Processing speech: https://www.bis.org/api/documents/review/r241206d\n",
      "Failed to fetch data of review https://www.bis.org/api/documents/review/r241206d, status code: 200\n",
      "Processing speech: https://www.bis.org/api/documents/review/r241206d\n",
      "Failed to fetch data of review https://www.bis.org/api/documents/review/r241206d, status code: 200\n",
      "Processing speech: https://www.bis.org/api/documents/review/r241206d\n",
      "Failed to fetch data of review https://www.bis.org/api/documents/review/r241206d, status code: 200\n",
      "Processing speech: https://www.bis.org/api/documents/review/r241206d\n",
      "Failed to fetch data of review https://www.bis.org/api/documents/review/r241206d, status code: 200\n",
      "Processing speech: https://www.bis.org/api/documents/review/r241206d\n",
      "Failed to fetch data of review https://www.bis.org/api/documents/review/r241206d, status code: 200\n",
      "Processing speech: https://www.bis.org/api/documents/review/r241206d\n",
      "Failed to fetch data of review https://www.bis.org/api/documents/review/r241206d, status code: 200\n",
      "Processing speech: https://www.bis.org/api/documents/review/r241206d\n",
      "Failed to fetch data of review https://www.bis.org/api/documents/review/r241206d, status code: 200\n",
      "Processing speech: https://www.bis.org/api/documents/review/r241206d\n",
      "Failed to fetch data of review https://www.bis.org/api/documents/review/r241206d, status code: 200\n",
      "Processing speech: https://www.bis.org/api/documents/review/r241206d\n",
      "Failed to fetch data of review https://www.bis.org/api/documents/review/r241206d, status code: 200\n",
      "Processing speech: https://www.bis.org/api/documents/review/r241206d\n",
      "Failed to fetch data of review https://www.bis.org/api/documents/review/r241206d, status code: 200\n",
      "Processing speech: https://www.bis.org/api/documents/review/r241206d\n",
      "Failed to fetch data of review https://www.bis.org/api/documents/review/r241206d, status code: 200\n",
      "Processing speech: https://www.bis.org/api/documents/review/r241206d\n",
      "Failed to fetch data of review https://www.bis.org/api/documents/review/r241206d, status code: 200\n",
      "Processing speech: https://www.bis.org/api/documents/review/r241206d\n",
      "Failed to fetch data of review https://www.bis.org/api/documents/review/r241206d, status code: 200\n",
      "Processing speech: https://www.bis.org/api/documents/review/r241206d\n",
      "Failed to fetch data of review https://www.bis.org/api/documents/review/r241206d, status code: 200\n",
      "Processing speech: https://www.bis.org/api/documents/review/r241206d\n",
      "Failed to fetch data of review https://www.bis.org/api/documents/review/r241206d, status code: 200\n",
      "Processing speech: https://www.bis.org/api/documents/review/r241206d\n",
      "Failed to fetch data of review https://www.bis.org/api/documents/review/r241206d, status code: 200\n",
      "Processing speech: https://www.bis.org/api/documents/review/r241206d\n",
      "Failed to fetch data of review https://www.bis.org/api/documents/review/r241206d, status code: 200\n",
      "Processing speech: https://www.bis.org/api/documents/review/r241206d\n",
      "Failed to fetch data of review https://www.bis.org/api/documents/review/r241206d, status code: 200\n",
      "Processing speech: https://www.bis.org/api/documents/review/r241206d\n",
      "Failed to fetch data of review https://www.bis.org/api/documents/review/r241206d, status code: 200\n",
      "Processing speech: https://www.bis.org/api/documents/review/r241206d\n",
      "Failed to fetch data of review https://www.bis.org/api/documents/review/r241206d, status code: 200\n",
      "Processing speech: https://www.bis.org/api/documents/review/r241206d\n",
      "Failed to fetch data of review https://www.bis.org/api/documents/review/r241206d, status code: 200\n",
      "Processing speech: https://www.bis.org/api/documents/review/r241206d\n",
      "Failed to fetch data of review https://www.bis.org/api/documents/review/r241206d, status code: 200\n",
      "Processing speech: https://www.bis.org/api/documents/review/r241206d\n",
      "Failed to fetch data of review https://www.bis.org/api/documents/review/r241206d, status code: 200\n",
      "Processing speech: https://www.bis.org/api/documents/review/r241206d\n",
      "Failed to fetch data of review https://www.bis.org/api/documents/review/r241206d, status code: 200\n",
      "Processing speech: https://www.bis.org/api/documents/review/r241206d\n",
      "Failed to fetch data of review https://www.bis.org/api/documents/review/r241206d, status code: 200\n",
      "Processing speech: https://www.bis.org/api/documents/review/r241206d\n",
      "Failed to fetch data of review https://www.bis.org/api/documents/review/r241206d, status code: 200\n",
      "Processing speech: https://www.bis.org/api/documents/review/r241206d\n",
      "Failed to fetch data of review https://www.bis.org/api/documents/review/r241206d, status code: 200\n",
      "Processing speech: https://www.bis.org/api/documents/review/r241206d\n",
      "Failed to fetch data of review https://www.bis.org/api/documents/review/r241206d, status code: 200\n",
      "Processing speech: https://www.bis.org/api/documents/review/r241206d\n",
      "Failed to fetch data of review https://www.bis.org/api/documents/review/r241206d, status code: 200\n",
      "Processing speech: https://www.bis.org/api/documents/review/r241206d\n",
      "Failed to fetch data of review https://www.bis.org/api/documents/review/r241206d, status code: 200\n",
      "Processing speech: https://www.bis.org/api/documents/review/r241206d\n",
      "Failed to fetch data of review https://www.bis.org/api/documents/review/r241206d, status code: 200\n",
      "Processing speech: https://www.bis.org/api/documents/review/r241206d\n",
      "Failed to fetch data of review https://www.bis.org/api/documents/review/r241206d, status code: 200\n",
      "Processing speech: https://www.bis.org/api/documents/review/r241206d\n",
      "Failed to fetch data of review https://www.bis.org/api/documents/review/r241206d, status code: 200\n",
      "Processing speech: https://www.bis.org/api/documents/review/r241206d\n",
      "Failed to fetch data of review https://www.bis.org/api/documents/review/r241206d, status code: 200\n",
      "Processing speech: https://www.bis.org/api/documents/review/r241206d\n",
      "Failed to fetch data of review https://www.bis.org/api/documents/review/r241206d, status code: 200\n",
      "Processing speech: https://www.bis.org/api/documents/review/r241206d\n",
      "Failed to fetch data of review https://www.bis.org/api/documents/review/r241206d, status code: 200\n",
      "Processing speech: https://www.bis.org/api/documents/review/r241206d\n",
      "Failed to fetch data of review https://www.bis.org/api/documents/review/r241206d, status code: 200\n",
      "Processing speech: https://www.bis.org/api/documents/review/r241206d\n",
      "Failed to fetch data of review https://www.bis.org/api/documents/review/r241206d, status code: 200\n",
      "Processing speech: https://www.bis.org/api/documents/review/r241206d\n",
      "Failed to fetch data of review https://www.bis.org/api/documents/review/r241206d, status code: 200\n",
      "Processing speech: https://www.bis.org/api/documents/review/r241206d\n",
      "Failed to fetch data of review https://www.bis.org/api/documents/review/r241206d, status code: 200\n",
      "Processing speech: https://www.bis.org/api/documents/review/r241206d\n",
      "Failed to fetch data of review https://www.bis.org/api/documents/review/r241206d, status code: 200\n",
      "Processing speech: https://www.bis.org/api/documents/review/r241206d\n",
      "Failed to fetch data of review https://www.bis.org/api/documents/review/r241206d, status code: 200\n",
      "Processing speech: https://www.bis.org/api/documents/review/r241206d\n",
      "Failed to fetch data of review https://www.bis.org/api/documents/review/r241206d, status code: 200\n",
      "Processing speech: https://www.bis.org/api/documents/review/r241206d\n",
      "Failed to fetch data of review https://www.bis.org/api/documents/review/r241206d, status code: 200\n",
      "Processing speech: https://www.bis.org/api/documents/review/r241206d\n",
      "Failed to fetch data of review https://www.bis.org/api/documents/review/r241206d, status code: 200\n",
      "Processing speech: https://www.bis.org/api/documents/review/r241206d\n",
      "Failed to fetch data of review https://www.bis.org/api/documents/review/r241206d, status code: 200\n",
      "Processing speech: https://www.bis.org/api/documents/review/r241206d\n",
      "Failed to fetch data of review https://www.bis.org/api/documents/review/r241206d, status code: 200\n",
      "Processing speech: https://www.bis.org/api/documents/review/r241206d\n",
      "Failed to fetch data of review https://www.bis.org/api/documents/review/r241206d, status code: 200\n",
      "Processing speech: https://www.bis.org/api/documents/review/r241206d\n",
      "Failed to fetch data of review https://www.bis.org/api/documents/review/r241206d, status code: 200\n",
      "Processing speech: https://www.bis.org/api/documents/review/r241206d\n",
      "Failed to fetch data of review https://www.bis.org/api/documents/review/r241206d, status code: 200\n",
      "Processing speech: https://www.bis.org/api/documents/review/r241206d\n",
      "Failed to fetch data of review https://www.bis.org/api/documents/review/r241206d, status code: 200\n",
      "Processing speech: https://www.bis.org/api/documents/review/r241206d\n",
      "Failed to fetch data of review https://www.bis.org/api/documents/review/r241206d, status code: 200\n",
      "Processing speech: https://www.bis.org/api/documents/review/r241206d\n",
      "Failed to fetch data of review https://www.bis.org/api/documents/review/r241206d, status code: 200\n",
      "Processing speech: https://www.bis.org/api/documents/review/r241206d\n",
      "Failed to fetch data of review https://www.bis.org/api/documents/review/r241206d, status code: 200\n",
      "Processing speech: https://www.bis.org/api/documents/review/r241206d\n",
      "Failed to fetch data of review https://www.bis.org/api/documents/review/r241206d, status code: 200\n",
      "Processing speech: https://www.bis.org/api/documents/review/r241206d\n",
      "Failed to fetch data of review https://www.bis.org/api/documents/review/r241206d, status code: 200\n",
      "Processing speech: https://www.bis.org/api/documents/review/r241206d\n",
      "Failed to fetch data of review https://www.bis.org/api/documents/review/r241206d, status code: 200\n",
      "Processing speech: https://www.bis.org/api/documents/review/r241206d\n",
      "Failed to fetch data of review https://www.bis.org/api/documents/review/r241206d, status code: 200\n",
      "Processing speech: https://www.bis.org/api/documents/review/r241206d\n",
      "Failed to fetch data of review https://www.bis.org/api/documents/review/r241206d, status code: 200\n",
      "Processing speech: https://www.bis.org/api/documents/review/r241206d\n",
      "Failed to fetch data of review https://www.bis.org/api/documents/review/r241206d, status code: 200\n",
      "Processing speech: https://www.bis.org/api/documents/review/r241206d\n",
      "Failed to fetch data of review https://www.bis.org/api/documents/review/r241206d, status code: 200\n",
      "Processing speech: https://www.bis.org/api/documents/review/r241206d\n",
      "Failed to fetch data of review https://www.bis.org/api/documents/review/r241206d, status code: 200\n",
      "Processing speech: https://www.bis.org/api/documents/review/r241206d\n",
      "Failed to fetch data of review https://www.bis.org/api/documents/review/r241206d, status code: 200\n",
      "Processing speech: https://www.bis.org/api/documents/review/r241206d\n",
      "Failed to fetch data of review https://www.bis.org/api/documents/review/r241206d, status code: 200\n",
      "Processing speech: https://www.bis.org/api/documents/review/r241206d\n",
      "Failed to fetch data of review https://www.bis.org/api/documents/review/r241206d, status code: 200\n",
      "Processing speech: https://www.bis.org/api/documents/review/r241206d\n",
      "Failed to fetch data of review https://www.bis.org/api/documents/review/r241206d, status code: 200\n",
      "Processing speech: https://www.bis.org/api/documents/review/r241206d\n",
      "Failed to fetch data of review https://www.bis.org/api/documents/review/r241206d, status code: 200\n",
      "Processing speech: https://www.bis.org/api/documents/review/r241206d\n",
      "Failed to fetch data of review https://www.bis.org/api/documents/review/r241206d, status code: 200\n",
      "Processing speech: https://www.bis.org/api/documents/review/r241206d\n",
      "Failed to fetch data of review https://www.bis.org/api/documents/review/r241206d, status code: 200\n",
      "Processing speech: https://www.bis.org/api/documents/review/r241206d\n",
      "Failed to fetch data of review https://www.bis.org/api/documents/review/r241206d, status code: 200\n",
      "Processing speech: https://www.bis.org/api/documents/review/r241206d\n",
      "Failed to fetch data of review https://www.bis.org/api/documents/review/r241206d, status code: 200\n",
      "Processing speech: https://www.bis.org/api/documents/review/r241206d\n",
      "Failed to fetch data of review https://www.bis.org/api/documents/review/r241206d, status code: 200\n",
      "Processing speech: https://www.bis.org/api/documents/review/r241206d\n",
      "Failed to fetch data of review https://www.bis.org/api/documents/review/r241206d, status code: 200\n",
      "Processing speech: https://www.bis.org/api/documents/review/r241206d\n",
      "Failed to fetch data of review https://www.bis.org/api/documents/review/r241206d, status code: 200\n",
      "Processing speech: https://www.bis.org/api/documents/review/r241206d\n",
      "Failed to fetch data of review https://www.bis.org/api/documents/review/r241206d, status code: 200\n",
      "Processing speech: https://www.bis.org/api/documents/review/r241206d\n",
      "Failed to fetch data of review https://www.bis.org/api/documents/review/r241206d, status code: 200\n",
      "Processing speech: https://www.bis.org/api/documents/review/r241206d\n",
      "Failed to fetch data of review https://www.bis.org/api/documents/review/r241206d, status code: 200\n",
      "Processing speech: https://www.bis.org/api/documents/review/r241206d\n",
      "Failed to fetch data of review https://www.bis.org/api/documents/review/r241206d, status code: 200\n",
      "Processing speech: https://www.bis.org/api/documents/review/r241206d\n",
      "Failed to fetch data of review https://www.bis.org/api/documents/review/r241206d, status code: 200\n",
      "Processing speech: https://www.bis.org/api/documents/review/r241206d\n",
      "Failed to fetch data of review https://www.bis.org/api/documents/review/r241206d, status code: 200\n",
      "Processing speech: https://www.bis.org/api/documents/review/r241206d\n",
      "Failed to fetch data of review https://www.bis.org/api/documents/review/r241206d, status code: 200\n",
      "Processing speech: https://www.bis.org/api/documents/review/r241206d\n",
      "Failed to fetch data of review https://www.bis.org/api/documents/review/r241206d, status code: 200\n",
      "Processing speech: https://www.bis.org/api/documents/review/r241206d\n",
      "Failed to fetch data of review https://www.bis.org/api/documents/review/r241206d, status code: 200\n",
      "Processing speech: https://www.bis.org/api/documents/review/r241206d\n",
      "Failed to fetch data of review https://www.bis.org/api/documents/review/r241206d, status code: 200\n",
      "Processing speech: https://www.bis.org/api/documents/review/r241206d\n",
      "Failed to fetch data of review https://www.bis.org/api/documents/review/r241206d, status code: 200\n",
      "Processing speech: https://www.bis.org/api/documents/review/r241206d\n",
      "Failed to fetch data of review https://www.bis.org/api/documents/review/r241206d, status code: 200\n",
      "Processing speech: https://www.bis.org/api/documents/review/r241206d\n",
      "Failed to fetch data of review https://www.bis.org/api/documents/review/r241206d, status code: 200\n",
      "Processing speech: https://www.bis.org/api/documents/review/r241206d\n",
      "Failed to fetch data of review https://www.bis.org/api/documents/review/r241206d, status code: 200\n",
      "Processing speech: https://www.bis.org/api/documents/review/r241206d\n",
      "Failed to fetch data of review https://www.bis.org/api/documents/review/r241206d, status code: 200\n",
      "Processing speech: https://www.bis.org/api/documents/review/r241206d\n",
      "Failed to fetch data of review https://www.bis.org/api/documents/review/r241206d, status code: 200\n",
      "Processing speech: https://www.bis.org/api/documents/review/r241206d\n",
      "Failed to fetch data of review https://www.bis.org/api/documents/review/r241206d, status code: 200\n",
      "Processing speech: https://www.bis.org/api/documents/review/r241206d\n",
      "Failed to fetch data of review https://www.bis.org/api/documents/review/r241206d, status code: 200\n",
      "Processing speech: https://www.bis.org/api/documents/review/r241206d\n",
      "Failed to fetch data of review https://www.bis.org/api/documents/review/r241206d, status code: 200\n",
      "Processing speech: https://www.bis.org/api/documents/review/r241206d\n",
      "Failed to fetch data of review https://www.bis.org/api/documents/review/r241206d, status code: 200\n",
      "Processing speech: https://www.bis.org/api/documents/review/r241206d\n",
      "Failed to fetch data of review https://www.bis.org/api/documents/review/r241206d, status code: 200\n",
      "Processing speech: https://www.bis.org/api/documents/review/r241206d\n",
      "Failed to fetch data of review https://www.bis.org/api/documents/review/r241206d, status code: 200\n",
      "Processing speech: https://www.bis.org/api/documents/review/r241206d\n",
      "Failed to fetch data of review https://www.bis.org/api/documents/review/r241206d, status code: 200\n",
      "Processing speech: https://www.bis.org/api/documents/review/r241206d\n",
      "Failed to fetch data of review https://www.bis.org/api/documents/review/r241206d, status code: 200\n",
      "Processing speech: https://www.bis.org/api/documents/review/r241206d\n",
      "Failed to fetch data of review https://www.bis.org/api/documents/review/r241206d, status code: 200\n",
      "Processing speech: https://www.bis.org/api/documents/review/r241206d\n",
      "Failed to fetch data of review https://www.bis.org/api/documents/review/r241206d, status code: 200\n",
      "Processing speech: https://www.bis.org/api/documents/review/r241206d\n",
      "Failed to fetch data of review https://www.bis.org/api/documents/review/r241206d, status code: 200\n",
      "Processing speech: https://www.bis.org/api/documents/review/r241206d\n",
      "Failed to fetch data of review https://www.bis.org/api/documents/review/r241206d, status code: 200\n",
      "Processing speech: https://www.bis.org/api/documents/review/r241206d\n",
      "Failed to fetch data of review https://www.bis.org/api/documents/review/r241206d, status code: 200\n",
      "Processing speech: https://www.bis.org/api/documents/review/r241206d\n",
      "Failed to fetch data of review https://www.bis.org/api/documents/review/r241206d, status code: 200\n",
      "Processing speech: https://www.bis.org/api/documents/review/r241206d\n",
      "Failed to fetch data of review https://www.bis.org/api/documents/review/r241206d, status code: 200\n",
      "Processing speech: https://www.bis.org/api/documents/review/r241206d\n",
      "Failed to fetch data of review https://www.bis.org/api/documents/review/r241206d, status code: 200\n",
      "Processing speech: https://www.bis.org/api/documents/review/r241206d\n",
      "Failed to fetch data of review https://www.bis.org/api/documents/review/r241206d, status code: 200\n",
      "Processing speech: https://www.bis.org/api/documents/review/r241206d\n",
      "Failed to fetch data of review https://www.bis.org/api/documents/review/r241206d, status code: 200\n",
      "Processing speech: https://www.bis.org/api/documents/review/r241206d\n",
      "Failed to fetch data of review https://www.bis.org/api/documents/review/r241206d, status code: 200\n",
      "Processing speech: https://www.bis.org/api/documents/review/r241206d\n",
      "Failed to fetch data of review https://www.bis.org/api/documents/review/r241206d, status code: 200\n",
      "Processing speech: https://www.bis.org/api/documents/review/r241206d\n",
      "Failed to fetch data of review https://www.bis.org/api/documents/review/r241206d, status code: 200\n",
      "Processing speech: https://www.bis.org/api/documents/review/r241206d\n",
      "Failed to fetch data of review https://www.bis.org/api/documents/review/r241206d, status code: 200\n",
      "Processing speech: https://www.bis.org/api/documents/review/r241206d\n",
      "Failed to fetch data of review https://www.bis.org/api/documents/review/r241206d, status code: 200\n",
      "Processing speech: https://www.bis.org/api/documents/review/r241206d\n",
      "Failed to fetch data of review https://www.bis.org/api/documents/review/r241206d, status code: 200\n",
      "Processing speech: https://www.bis.org/api/documents/review/r241206d\n",
      "Failed to fetch data of review https://www.bis.org/api/documents/review/r241206d, status code: 200\n",
      "Processing speech: https://www.bis.org/api/documents/review/r241206d\n",
      "Failed to fetch data of review https://www.bis.org/api/documents/review/r241206d, status code: 200\n",
      "Processing speech: https://www.bis.org/api/documents/review/r241206d\n",
      "Failed to fetch data of review https://www.bis.org/api/documents/review/r241206d, status code: 200\n",
      "Processing speech: https://www.bis.org/api/documents/review/r241206d\n",
      "Failed to fetch data of review https://www.bis.org/api/documents/review/r241206d, status code: 200\n",
      "Processing speech: https://www.bis.org/api/documents/review/r241206d\n",
      "Failed to fetch data of review https://www.bis.org/api/documents/review/r241206d, status code: 200\n",
      "Processing speech: https://www.bis.org/api/documents/review/r241206d\n",
      "Failed to fetch data of review https://www.bis.org/api/documents/review/r241206d, status code: 200\n",
      "Processing speech: https://www.bis.org/api/documents/review/r241206d\n",
      "Failed to fetch data of review https://www.bis.org/api/documents/review/r241206d, status code: 200\n",
      "Processing speech: https://www.bis.org/api/documents/review/r241206d\n",
      "Failed to fetch data of review https://www.bis.org/api/documents/review/r241206d, status code: 200\n",
      "Processing speech: https://www.bis.org/api/documents/review/r241206d\n",
      "Failed to fetch data of review https://www.bis.org/api/documents/review/r241206d, status code: 200\n",
      "Processing speech: https://www.bis.org/api/documents/review/r241206d\n",
      "Failed to fetch data of review https://www.bis.org/api/documents/review/r241206d, status code: 200\n",
      "Processing speech: https://www.bis.org/api/documents/review/r241206d\n",
      "Failed to fetch data of review https://www.bis.org/api/documents/review/r241206d, status code: 200\n",
      "Processing speech: https://www.bis.org/api/documents/review/r241206d\n",
      "Failed to fetch data of review https://www.bis.org/api/documents/review/r241206d, status code: 200\n",
      "Processing speech: https://www.bis.org/api/documents/review/r241206d\n",
      "Failed to fetch data of review https://www.bis.org/api/documents/review/r241206d, status code: 200\n",
      "Processing speech: https://www.bis.org/api/documents/review/r241206d\n",
      "Failed to fetch data of review https://www.bis.org/api/documents/review/r241206d, status code: 200\n",
      "Processing speech: https://www.bis.org/api/documents/review/r241206d\n",
      "Failed to fetch data of review https://www.bis.org/api/documents/review/r241206d, status code: 200\n",
      "Processing speech: https://www.bis.org/api/documents/review/r241206d\n",
      "Failed to fetch data of review https://www.bis.org/api/documents/review/r241206d, status code: 200\n",
      "Processing speech: https://www.bis.org/api/documents/review/r241206d\n",
      "Failed to fetch data of review https://www.bis.org/api/documents/review/r241206d, status code: 200\n",
      "Processing speech: https://www.bis.org/api/documents/review/r241206d\n",
      "Failed to fetch data of review https://www.bis.org/api/documents/review/r241206d, status code: 200\n",
      "Processing speech: https://www.bis.org/api/documents/review/r241206d\n",
      "Failed to fetch data of review https://www.bis.org/api/documents/review/r241206d, status code: 200\n",
      "Processing speech: https://www.bis.org/api/documents/review/r241206d\n",
      "Failed to fetch data of review https://www.bis.org/api/documents/review/r241206d, status code: 200\n",
      "Processing speech: https://www.bis.org/api/documents/review/r241206d\n",
      "Failed to fetch data of review https://www.bis.org/api/documents/review/r241206d, status code: 200\n",
      "Processing speech: https://www.bis.org/api/documents/review/r241206d\n",
      "Failed to fetch data of review https://www.bis.org/api/documents/review/r241206d, status code: 200\n",
      "Processing speech: https://www.bis.org/api/documents/review/r241206d\n",
      "Failed to fetch data of review https://www.bis.org/api/documents/review/r241206d, status code: 200\n",
      "Processing speech: https://www.bis.org/api/documents/review/r241206d\n",
      "Failed to fetch data of review https://www.bis.org/api/documents/review/r241206d, status code: 200\n",
      "Processing speech: https://www.bis.org/api/documents/review/r241206d\n",
      "Failed to fetch data of review https://www.bis.org/api/documents/review/r241206d, status code: 200\n",
      "Processing speech: https://www.bis.org/api/documents/review/r241206d\n",
      "Failed to fetch data of review https://www.bis.org/api/documents/review/r241206d, status code: 200\n",
      "Processing speech: https://www.bis.org/api/documents/review/r241206d\n",
      "Failed to fetch data of review https://www.bis.org/api/documents/review/r241206d, status code: 200\n",
      "Processing speech: https://www.bis.org/api/documents/review/r241206d\n",
      "Failed to fetch data of review https://www.bis.org/api/documents/review/r241206d, status code: 200\n",
      "Processing speech: https://www.bis.org/api/documents/review/r241206d\n",
      "Failed to fetch data of review https://www.bis.org/api/documents/review/r241206d, status code: 200\n",
      "Processing speech: https://www.bis.org/api/documents/review/r241206d\n",
      "Failed to fetch data of review https://www.bis.org/api/documents/review/r241206d, status code: 200\n",
      "Processing speech: https://www.bis.org/api/documents/review/r241206d\n",
      "Failed to fetch data of review https://www.bis.org/api/documents/review/r241206d, status code: 200\n",
      "Processing speech: https://www.bis.org/api/documents/review/r241206d\n",
      "Failed to fetch data of review https://www.bis.org/api/documents/review/r241206d, status code: 200\n",
      "Processing speech: https://www.bis.org/api/documents/review/r241206d\n",
      "Failed to fetch data of review https://www.bis.org/api/documents/review/r241206d, status code: 200\n",
      "Processing speech: https://www.bis.org/api/documents/review/r241206d\n",
      "Failed to fetch data of review https://www.bis.org/api/documents/review/r241206d, status code: 200\n",
      "Processing speech: https://www.bis.org/api/documents/review/r241206d\n",
      "Failed to fetch data of review https://www.bis.org/api/documents/review/r241206d, status code: 200\n",
      "Processing speech: https://www.bis.org/api/documents/review/r241206d\n",
      "Failed to fetch data of review https://www.bis.org/api/documents/review/r241206d, status code: 200\n",
      "Processing speech: https://www.bis.org/api/documents/review/r241206d\n",
      "Failed to fetch data of review https://www.bis.org/api/documents/review/r241206d, status code: 200\n",
      "Processing speech: https://www.bis.org/api/documents/review/r241206d\n",
      "Failed to fetch data of review https://www.bis.org/api/documents/review/r241206d, status code: 200\n",
      "Processing speech: https://www.bis.org/api/documents/review/r241206d\n",
      "Failed to fetch data of review https://www.bis.org/api/documents/review/r241206d, status code: 200\n",
      "Processing speech: https://www.bis.org/api/documents/review/r241206d\n",
      "Failed to fetch data of review https://www.bis.org/api/documents/review/r241206d, status code: 200\n",
      "Processing speech: https://www.bis.org/api/documents/review/r241206d\n",
      "Failed to fetch data of review https://www.bis.org/api/documents/review/r241206d, status code: 200\n",
      "Processing speech: https://www.bis.org/api/documents/review/r241206d\n",
      "Failed to fetch data of review https://www.bis.org/api/documents/review/r241206d, status code: 200\n",
      "Processing speech: https://www.bis.org/api/documents/review/r241206d\n",
      "Failed to fetch data of review https://www.bis.org/api/documents/review/r241206d, status code: 200\n",
      "Processing speech: https://www.bis.org/api/documents/review/r241206d\n",
      "Failed to fetch data of review https://www.bis.org/api/documents/review/r241206d, status code: 200\n",
      "Processing speech: https://www.bis.org/api/documents/review/r241206d\n",
      "Failed to fetch data of review https://www.bis.org/api/documents/review/r241206d, status code: 200\n",
      "Processing speech: https://www.bis.org/api/documents/review/r241206d\n",
      "Failed to fetch data of review https://www.bis.org/api/documents/review/r241206d, status code: 200\n",
      "Processing speech: https://www.bis.org/api/documents/review/r241206d\n",
      "Failed to fetch data of review https://www.bis.org/api/documents/review/r241206d, status code: 200\n",
      "Processing speech: https://www.bis.org/api/documents/review/r241206d\n",
      "Failed to fetch data of review https://www.bis.org/api/documents/review/r241206d, status code: 200\n",
      "Processing speech: https://www.bis.org/api/documents/review/r241206d\n",
      "Failed to fetch data of review https://www.bis.org/api/documents/review/r241206d, status code: 200\n",
      "Processing speech: https://www.bis.org/api/documents/review/r241206d\n",
      "Failed to fetch data of review https://www.bis.org/api/documents/review/r241206d, status code: 200\n",
      "Processing speech: https://www.bis.org/api/documents/review/r241206d\n",
      "Failed to fetch data of review https://www.bis.org/api/documents/review/r241206d, status code: 200\n",
      "Processing speech: https://www.bis.org/api/documents/review/r241206d\n",
      "Failed to fetch data of review https://www.bis.org/api/documents/review/r241206d, status code: 200\n",
      "Processing speech: https://www.bis.org/api/documents/review/r241206d\n",
      "Failed to fetch data of review https://www.bis.org/api/documents/review/r241206d, status code: 200\n",
      "Processing speech: https://www.bis.org/api/documents/review/r241206d\n",
      "Failed to fetch data of review https://www.bis.org/api/documents/review/r241206d, status code: 200\n",
      "Processing speech: https://www.bis.org/api/documents/review/r241206d\n",
      "Failed to fetch data of review https://www.bis.org/api/documents/review/r241206d, status code: 200\n",
      "Processing speech: https://www.bis.org/api/documents/review/r241206d\n",
      "Failed to fetch data of review https://www.bis.org/api/documents/review/r241206d, status code: 200\n",
      "Processing speech: https://www.bis.org/api/documents/review/r241206d\n",
      "Failed to fetch data of review https://www.bis.org/api/documents/review/r241206d, status code: 200\n",
      "Processing speech: https://www.bis.org/api/documents/review/r241206d\n",
      "Failed to fetch data of review https://www.bis.org/api/documents/review/r241206d, status code: 200\n",
      "Processing speech: https://www.bis.org/api/documents/review/r241206d\n",
      "Failed to fetch data of review https://www.bis.org/api/documents/review/r241206d, status code: 200\n",
      "Processing speech: https://www.bis.org/api/documents/review/r241206d\n",
      "Failed to fetch data of review https://www.bis.org/api/documents/review/r241206d, status code: 200\n",
      "Processing speech: https://www.bis.org/api/documents/review/r241206d\n",
      "Failed to fetch data of review https://www.bis.org/api/documents/review/r241206d, status code: 200\n",
      "Processing speech: https://www.bis.org/api/documents/review/r241206d\n",
      "Failed to fetch data of review https://www.bis.org/api/documents/review/r241206d, status code: 200\n",
      "Processing speech: https://www.bis.org/api/documents/review/r241206d\n",
      "Failed to fetch data of review https://www.bis.org/api/documents/review/r241206d, status code: 200\n",
      "Processing speech: https://www.bis.org/api/documents/review/r241206d\n",
      "Failed to fetch data of review https://www.bis.org/api/documents/review/r241206d, status code: 200\n",
      "Processing speech: https://www.bis.org/api/documents/review/r241206d\n",
      "Failed to fetch data of review https://www.bis.org/api/documents/review/r241206d, status code: 200\n",
      "Processing speech: https://www.bis.org/api/documents/review/r241206d\n",
      "Failed to fetch data of review https://www.bis.org/api/documents/review/r241206d, status code: 200\n",
      "Processing speech: https://www.bis.org/api/documents/review/r241206d\n",
      "Failed to fetch data of review https://www.bis.org/api/documents/review/r241206d, status code: 200\n",
      "Processing speech: https://www.bis.org/api/documents/review/r241206d\n",
      "Failed to fetch data of review https://www.bis.org/api/documents/review/r241206d, status code: 200\n",
      "Processing speech: https://www.bis.org/api/documents/review/r241206d\n",
      "Failed to fetch data of review https://www.bis.org/api/documents/review/r241206d, status code: 200\n",
      "Processing speech: https://www.bis.org/api/documents/review/r241206d\n",
      "Failed to fetch data of review https://www.bis.org/api/documents/review/r241206d, status code: 200\n",
      "Processing speech: https://www.bis.org/api/documents/review/r241206d\n",
      "Failed to fetch data of review https://www.bis.org/api/documents/review/r241206d, status code: 200\n",
      "Processing speech: https://www.bis.org/api/documents/review/r241206d\n",
      "Failed to fetch data of review https://www.bis.org/api/documents/review/r241206d, status code: 200\n",
      "Processing speech: https://www.bis.org/api/documents/review/r241206d\n",
      "Failed to fetch data of review https://www.bis.org/api/documents/review/r241206d, status code: 200\n",
      "Processing speech: https://www.bis.org/api/documents/review/r241206d\n",
      "Failed to fetch data of review https://www.bis.org/api/documents/review/r241206d, status code: 200\n",
      "Processing speech: https://www.bis.org/api/documents/review/r241206d\n",
      "Failed to fetch data of review https://www.bis.org/api/documents/review/r241206d, status code: 200\n",
      "Processing speech: https://www.bis.org/api/documents/review/r241206d\n",
      "Failed to fetch data of review https://www.bis.org/api/documents/review/r241206d, status code: 200\n",
      "Processing speech: https://www.bis.org/api/documents/review/r241206d\n",
      "Failed to fetch data of review https://www.bis.org/api/documents/review/r241206d, status code: 200\n",
      "Processing speech: https://www.bis.org/api/documents/review/r241206d\n",
      "Failed to fetch data of review https://www.bis.org/api/documents/review/r241206d, status code: 200\n",
      "Processing speech: https://www.bis.org/api/documents/review/r241206d\n",
      "Failed to fetch data of review https://www.bis.org/api/documents/review/r241206d, status code: 200\n",
      "Processing speech: https://www.bis.org/api/documents/review/r241206d\n",
      "Failed to fetch data of review https://www.bis.org/api/documents/review/r241206d, status code: 200\n",
      "Processing speech: https://www.bis.org/api/documents/review/r241206d\n",
      "Failed to fetch data of review https://www.bis.org/api/documents/review/r241206d, status code: 200\n",
      "Processing speech: https://www.bis.org/api/documents/review/r241206d\n",
      "Failed to fetch data of review https://www.bis.org/api/documents/review/r241206d, status code: 200\n",
      "Processing speech: https://www.bis.org/api/documents/review/r241206d\n",
      "Failed to fetch data of review https://www.bis.org/api/documents/review/r241206d, status code: 200\n",
      "Processing speech: https://www.bis.org/api/documents/review/r241206d\n",
      "Failed to fetch data of review https://www.bis.org/api/documents/review/r241206d, status code: 200\n",
      "Processing speech: https://www.bis.org/api/documents/review/r241206d\n",
      "Failed to fetch data of review https://www.bis.org/api/documents/review/r241206d, status code: 200\n",
      "Processing speech: https://www.bis.org/api/documents/review/r241206d\n",
      "Failed to fetch data of review https://www.bis.org/api/documents/review/r241206d, status code: 200\n",
      "Processing speech: https://www.bis.org/api/documents/review/r241206d\n",
      "Failed to fetch data of review https://www.bis.org/api/documents/review/r241206d, status code: 200\n",
      "Processing speech: https://www.bis.org/api/documents/review/r241206d\n",
      "Failed to fetch data of review https://www.bis.org/api/documents/review/r241206d, status code: 200\n",
      "Processing speech: https://www.bis.org/api/documents/review/r241206d\n",
      "Failed to fetch data of review https://www.bis.org/api/documents/review/r241206d, status code: 200\n",
      "Processing speech: https://www.bis.org/api/documents/review/r241206d\n",
      "Failed to fetch data of review https://www.bis.org/api/documents/review/r241206d, status code: 200\n",
      "Processing speech: https://www.bis.org/api/documents/review/r241206d\n",
      "Failed to fetch data of review https://www.bis.org/api/documents/review/r241206d, status code: 200\n",
      "Processing speech: https://www.bis.org/api/documents/review/r241206d\n",
      "Failed to fetch data of review https://www.bis.org/api/documents/review/r241206d, status code: 200\n",
      "Processing speech: https://www.bis.org/api/documents/review/r241206d\n",
      "Failed to fetch data of review https://www.bis.org/api/documents/review/r241206d, status code: 200\n",
      "Processing speech: https://www.bis.org/api/documents/review/r241206d\n",
      "Failed to fetch data of review https://www.bis.org/api/documents/review/r241206d, status code: 200\n",
      "Processing speech: https://www.bis.org/api/documents/review/r241206d\n",
      "Failed to fetch data of review https://www.bis.org/api/documents/review/r241206d, status code: 200\n",
      "Processing speech: https://www.bis.org/api/documents/review/r241206d\n",
      "Failed to fetch data of review https://www.bis.org/api/documents/review/r241206d, status code: 200\n",
      "Processing speech: https://www.bis.org/api/documents/review/r241206d\n",
      "Failed to fetch data of review https://www.bis.org/api/documents/review/r241206d, status code: 200\n",
      "Processing speech: https://www.bis.org/api/documents/review/r241206d\n",
      "Failed to fetch data of review https://www.bis.org/api/documents/review/r241206d, status code: 200\n",
      "Processing speech: https://www.bis.org/api/documents/review/r241206d\n",
      "Failed to fetch data of review https://www.bis.org/api/documents/review/r241206d, status code: 200\n",
      "Processing speech: https://www.bis.org/api/documents/review/r241206d\n",
      "Failed to fetch data of review https://www.bis.org/api/documents/review/r241206d, status code: 200\n",
      "Processing speech: https://www.bis.org/api/documents/review/r241206d\n",
      "Failed to fetch data of review https://www.bis.org/api/documents/review/r241206d, status code: 200\n",
      "Processing speech: https://www.bis.org/api/documents/review/r241206d\n",
      "Failed to fetch data of review https://www.bis.org/api/documents/review/r241206d, status code: 200\n",
      "Processing speech: https://www.bis.org/api/documents/review/r241206d\n",
      "Failed to fetch data of review https://www.bis.org/api/documents/review/r241206d, status code: 200\n",
      "Processing speech: https://www.bis.org/api/documents/review/r241206d\n",
      "Failed to fetch data of review https://www.bis.org/api/documents/review/r241206d, status code: 200\n",
      "Processing speech: https://www.bis.org/api/documents/review/r241206d\n",
      "Failed to fetch data of review https://www.bis.org/api/documents/review/r241206d, status code: 200\n",
      "Processing speech: https://www.bis.org/api/documents/review/r241206d\n",
      "Failed to fetch data of review https://www.bis.org/api/documents/review/r241206d, status code: 200\n",
      "Processing speech: https://www.bis.org/api/documents/review/r241206d\n",
      "Failed to fetch data of review https://www.bis.org/api/documents/review/r241206d, status code: 200\n",
      "Processing speech: https://www.bis.org/api/documents/review/r241206d\n",
      "Failed to fetch data of review https://www.bis.org/api/documents/review/r241206d, status code: 200\n",
      "Processing speech: https://www.bis.org/api/documents/review/r241206d\n",
      "Failed to fetch data of review https://www.bis.org/api/documents/review/r241206d, status code: 200\n",
      "Processing speech: https://www.bis.org/api/documents/review/r241206d\n",
      "Failed to fetch data of review https://www.bis.org/api/documents/review/r241206d, status code: 200\n",
      "Processing speech: https://www.bis.org/api/documents/review/r241206d\n",
      "Failed to fetch data of review https://www.bis.org/api/documents/review/r241206d, status code: 200\n",
      "Processing speech: https://www.bis.org/api/documents/review/r241206d\n",
      "Failed to fetch data of review https://www.bis.org/api/documents/review/r241206d, status code: 200\n",
      "Processing speech: https://www.bis.org/api/documents/review/r241206d\n",
      "Failed to fetch data of review https://www.bis.org/api/documents/review/r241206d, status code: 200\n",
      "Processing speech: https://www.bis.org/api/documents/review/r241206d\n",
      "Failed to fetch data of review https://www.bis.org/api/documents/review/r241206d, status code: 200\n",
      "Processing speech: https://www.bis.org/api/documents/review/r241206d\n",
      "Failed to fetch data of review https://www.bis.org/api/documents/review/r241206d, status code: 200\n",
      "Processing speech: https://www.bis.org/api/documents/review/r241206d\n",
      "Failed to fetch data of review https://www.bis.org/api/documents/review/r241206d, status code: 200\n",
      "Processing speech: https://www.bis.org/api/documents/review/r241206d\n",
      "Failed to fetch data of review https://www.bis.org/api/documents/review/r241206d, status code: 200\n",
      "Processing speech: https://www.bis.org/api/documents/review/r241206d\n",
      "Failed to fetch data of review https://www.bis.org/api/documents/review/r241206d, status code: 200\n",
      "Processing speech: https://www.bis.org/api/documents/review/r241206d\n",
      "Failed to fetch data of review https://www.bis.org/api/documents/review/r241206d, status code: 200\n",
      "Processing speech: https://www.bis.org/api/documents/review/r241206d\n"
     ]
    },
    {
     "ename": "KeyboardInterrupt",
     "evalue": "",
     "output_type": "error",
     "traceback": [
      "\u001b[1;31m---------------------------------------------------------------------------\u001b[0m",
      "\u001b[1;31mKeyboardInterrupt\u001b[0m                         Traceback (most recent call last)",
      "Cell \u001b[1;32mIn[8], line 38\u001b[0m\n\u001b[0;32m     35\u001b[0m \u001b[38;5;28mprint\u001b[39m(\u001b[38;5;124mf\u001b[39m\u001b[38;5;124m\"\u001b[39m\u001b[38;5;124mProcessing speech: \u001b[39m\u001b[38;5;132;01m{\u001b[39;00mreview_url\u001b[38;5;132;01m}\u001b[39;00m\u001b[38;5;124m\"\u001b[39m)\n\u001b[0;32m     36\u001b[0m \u001b[38;5;28;01mtry\u001b[39;00m:\n\u001b[0;32m     37\u001b[0m    \u001b[38;5;66;03m# Fetch speech page\u001b[39;00m\n\u001b[1;32m---> 38\u001b[0m    review_response \u001b[38;5;241m=\u001b[39m \u001b[43mrequests\u001b[49m\u001b[38;5;241;43m.\u001b[39;49m\u001b[43mget\u001b[49m\u001b[43m(\u001b[49m\u001b[43mreview_url\u001b[49m\u001b[43m)\u001b[49m\n\u001b[0;32m     39\u001b[0m    review_data\u001b[38;5;241m.\u001b[39mupdate(review_response)\n\u001b[0;32m     40\u001b[0m    speech_data[\u001b[38;5;124m'\u001b[39m\u001b[38;5;124mmetadata\u001b[39m\u001b[38;5;124m'\u001b[39m] \u001b[38;5;241m=\u001b[39m review_response\n",
      "File \u001b[1;32mc:\\Users\\marie\\OneDrive\\Documents\\cours\\ensae\\3A\\ML for portfolio management\\.venvML\\Lib\\site-packages\\requests\\api.py:73\u001b[0m, in \u001b[0;36mget\u001b[1;34m(url, params, **kwargs)\u001b[0m\n\u001b[0;32m     62\u001b[0m \u001b[38;5;28;01mdef\u001b[39;00m \u001b[38;5;21mget\u001b[39m(url, params\u001b[38;5;241m=\u001b[39m\u001b[38;5;28;01mNone\u001b[39;00m, \u001b[38;5;241m*\u001b[39m\u001b[38;5;241m*\u001b[39mkwargs):\n\u001b[0;32m     63\u001b[0m \u001b[38;5;250m    \u001b[39m\u001b[38;5;124mr\u001b[39m\u001b[38;5;124;03m\"\"\"Sends a GET request.\u001b[39;00m\n\u001b[0;32m     64\u001b[0m \n\u001b[0;32m     65\u001b[0m \u001b[38;5;124;03m    :param url: URL for the new :class:`Request` object.\u001b[39;00m\n\u001b[1;32m   (...)\u001b[0m\n\u001b[0;32m     70\u001b[0m \u001b[38;5;124;03m    :rtype: requests.Response\u001b[39;00m\n\u001b[0;32m     71\u001b[0m \u001b[38;5;124;03m    \"\"\"\u001b[39;00m\n\u001b[1;32m---> 73\u001b[0m     \u001b[38;5;28;01mreturn\u001b[39;00m \u001b[43mrequest\u001b[49m\u001b[43m(\u001b[49m\u001b[38;5;124;43m\"\u001b[39;49m\u001b[38;5;124;43mget\u001b[39;49m\u001b[38;5;124;43m\"\u001b[39;49m\u001b[43m,\u001b[49m\u001b[43m \u001b[49m\u001b[43murl\u001b[49m\u001b[43m,\u001b[49m\u001b[43m \u001b[49m\u001b[43mparams\u001b[49m\u001b[38;5;241;43m=\u001b[39;49m\u001b[43mparams\u001b[49m\u001b[43m,\u001b[49m\u001b[43m \u001b[49m\u001b[38;5;241;43m*\u001b[39;49m\u001b[38;5;241;43m*\u001b[39;49m\u001b[43mkwargs\u001b[49m\u001b[43m)\u001b[49m\n",
      "File \u001b[1;32mc:\\Users\\marie\\OneDrive\\Documents\\cours\\ensae\\3A\\ML for portfolio management\\.venvML\\Lib\\site-packages\\requests\\api.py:59\u001b[0m, in \u001b[0;36mrequest\u001b[1;34m(method, url, **kwargs)\u001b[0m\n\u001b[0;32m     55\u001b[0m \u001b[38;5;66;03m# By using the 'with' statement we are sure the session is closed, thus we\u001b[39;00m\n\u001b[0;32m     56\u001b[0m \u001b[38;5;66;03m# avoid leaving sockets open which can trigger a ResourceWarning in some\u001b[39;00m\n\u001b[0;32m     57\u001b[0m \u001b[38;5;66;03m# cases, and look like a memory leak in others.\u001b[39;00m\n\u001b[0;32m     58\u001b[0m \u001b[38;5;28;01mwith\u001b[39;00m sessions\u001b[38;5;241m.\u001b[39mSession() \u001b[38;5;28;01mas\u001b[39;00m session:\n\u001b[1;32m---> 59\u001b[0m     \u001b[38;5;28;01mreturn\u001b[39;00m \u001b[43msession\u001b[49m\u001b[38;5;241;43m.\u001b[39;49m\u001b[43mrequest\u001b[49m\u001b[43m(\u001b[49m\u001b[43mmethod\u001b[49m\u001b[38;5;241;43m=\u001b[39;49m\u001b[43mmethod\u001b[49m\u001b[43m,\u001b[49m\u001b[43m \u001b[49m\u001b[43murl\u001b[49m\u001b[38;5;241;43m=\u001b[39;49m\u001b[43murl\u001b[49m\u001b[43m,\u001b[49m\u001b[43m \u001b[49m\u001b[38;5;241;43m*\u001b[39;49m\u001b[38;5;241;43m*\u001b[39;49m\u001b[43mkwargs\u001b[49m\u001b[43m)\u001b[49m\n",
      "File \u001b[1;32mc:\\Users\\marie\\OneDrive\\Documents\\cours\\ensae\\3A\\ML for portfolio management\\.venvML\\Lib\\site-packages\\requests\\sessions.py:589\u001b[0m, in \u001b[0;36mSession.request\u001b[1;34m(self, method, url, params, data, headers, cookies, files, auth, timeout, allow_redirects, proxies, hooks, stream, verify, cert, json)\u001b[0m\n\u001b[0;32m    584\u001b[0m send_kwargs \u001b[38;5;241m=\u001b[39m {\n\u001b[0;32m    585\u001b[0m     \u001b[38;5;124m\"\u001b[39m\u001b[38;5;124mtimeout\u001b[39m\u001b[38;5;124m\"\u001b[39m: timeout,\n\u001b[0;32m    586\u001b[0m     \u001b[38;5;124m\"\u001b[39m\u001b[38;5;124mallow_redirects\u001b[39m\u001b[38;5;124m\"\u001b[39m: allow_redirects,\n\u001b[0;32m    587\u001b[0m }\n\u001b[0;32m    588\u001b[0m send_kwargs\u001b[38;5;241m.\u001b[39mupdate(settings)\n\u001b[1;32m--> 589\u001b[0m resp \u001b[38;5;241m=\u001b[39m \u001b[38;5;28;43mself\u001b[39;49m\u001b[38;5;241;43m.\u001b[39;49m\u001b[43msend\u001b[49m\u001b[43m(\u001b[49m\u001b[43mprep\u001b[49m\u001b[43m,\u001b[49m\u001b[43m \u001b[49m\u001b[38;5;241;43m*\u001b[39;49m\u001b[38;5;241;43m*\u001b[39;49m\u001b[43msend_kwargs\u001b[49m\u001b[43m)\u001b[49m\n\u001b[0;32m    591\u001b[0m \u001b[38;5;28;01mreturn\u001b[39;00m resp\n",
      "File \u001b[1;32mc:\\Users\\marie\\OneDrive\\Documents\\cours\\ensae\\3A\\ML for portfolio management\\.venvML\\Lib\\site-packages\\requests\\sessions.py:703\u001b[0m, in \u001b[0;36mSession.send\u001b[1;34m(self, request, **kwargs)\u001b[0m\n\u001b[0;32m    700\u001b[0m start \u001b[38;5;241m=\u001b[39m preferred_clock()\n\u001b[0;32m    702\u001b[0m \u001b[38;5;66;03m# Send the request\u001b[39;00m\n\u001b[1;32m--> 703\u001b[0m r \u001b[38;5;241m=\u001b[39m \u001b[43madapter\u001b[49m\u001b[38;5;241;43m.\u001b[39;49m\u001b[43msend\u001b[49m\u001b[43m(\u001b[49m\u001b[43mrequest\u001b[49m\u001b[43m,\u001b[49m\u001b[43m \u001b[49m\u001b[38;5;241;43m*\u001b[39;49m\u001b[38;5;241;43m*\u001b[39;49m\u001b[43mkwargs\u001b[49m\u001b[43m)\u001b[49m\n\u001b[0;32m    705\u001b[0m \u001b[38;5;66;03m# Total elapsed time of the request (approximately)\u001b[39;00m\n\u001b[0;32m    706\u001b[0m elapsed \u001b[38;5;241m=\u001b[39m preferred_clock() \u001b[38;5;241m-\u001b[39m start\n",
      "File \u001b[1;32mc:\\Users\\marie\\OneDrive\\Documents\\cours\\ensae\\3A\\ML for portfolio management\\.venvML\\Lib\\site-packages\\requests\\adapters.py:667\u001b[0m, in \u001b[0;36mHTTPAdapter.send\u001b[1;34m(self, request, stream, timeout, verify, cert, proxies)\u001b[0m\n\u001b[0;32m    664\u001b[0m     timeout \u001b[38;5;241m=\u001b[39m TimeoutSauce(connect\u001b[38;5;241m=\u001b[39mtimeout, read\u001b[38;5;241m=\u001b[39mtimeout)\n\u001b[0;32m    666\u001b[0m \u001b[38;5;28;01mtry\u001b[39;00m:\n\u001b[1;32m--> 667\u001b[0m     resp \u001b[38;5;241m=\u001b[39m \u001b[43mconn\u001b[49m\u001b[38;5;241;43m.\u001b[39;49m\u001b[43murlopen\u001b[49m\u001b[43m(\u001b[49m\n\u001b[0;32m    668\u001b[0m \u001b[43m        \u001b[49m\u001b[43mmethod\u001b[49m\u001b[38;5;241;43m=\u001b[39;49m\u001b[43mrequest\u001b[49m\u001b[38;5;241;43m.\u001b[39;49m\u001b[43mmethod\u001b[49m\u001b[43m,\u001b[49m\n\u001b[0;32m    669\u001b[0m \u001b[43m        \u001b[49m\u001b[43murl\u001b[49m\u001b[38;5;241;43m=\u001b[39;49m\u001b[43murl\u001b[49m\u001b[43m,\u001b[49m\n\u001b[0;32m    670\u001b[0m \u001b[43m        \u001b[49m\u001b[43mbody\u001b[49m\u001b[38;5;241;43m=\u001b[39;49m\u001b[43mrequest\u001b[49m\u001b[38;5;241;43m.\u001b[39;49m\u001b[43mbody\u001b[49m\u001b[43m,\u001b[49m\n\u001b[0;32m    671\u001b[0m \u001b[43m        \u001b[49m\u001b[43mheaders\u001b[49m\u001b[38;5;241;43m=\u001b[39;49m\u001b[43mrequest\u001b[49m\u001b[38;5;241;43m.\u001b[39;49m\u001b[43mheaders\u001b[49m\u001b[43m,\u001b[49m\n\u001b[0;32m    672\u001b[0m \u001b[43m        \u001b[49m\u001b[43mredirect\u001b[49m\u001b[38;5;241;43m=\u001b[39;49m\u001b[38;5;28;43;01mFalse\u001b[39;49;00m\u001b[43m,\u001b[49m\n\u001b[0;32m    673\u001b[0m \u001b[43m        \u001b[49m\u001b[43massert_same_host\u001b[49m\u001b[38;5;241;43m=\u001b[39;49m\u001b[38;5;28;43;01mFalse\u001b[39;49;00m\u001b[43m,\u001b[49m\n\u001b[0;32m    674\u001b[0m \u001b[43m        \u001b[49m\u001b[43mpreload_content\u001b[49m\u001b[38;5;241;43m=\u001b[39;49m\u001b[38;5;28;43;01mFalse\u001b[39;49;00m\u001b[43m,\u001b[49m\n\u001b[0;32m    675\u001b[0m \u001b[43m        \u001b[49m\u001b[43mdecode_content\u001b[49m\u001b[38;5;241;43m=\u001b[39;49m\u001b[38;5;28;43;01mFalse\u001b[39;49;00m\u001b[43m,\u001b[49m\n\u001b[0;32m    676\u001b[0m \u001b[43m        \u001b[49m\u001b[43mretries\u001b[49m\u001b[38;5;241;43m=\u001b[39;49m\u001b[38;5;28;43mself\u001b[39;49m\u001b[38;5;241;43m.\u001b[39;49m\u001b[43mmax_retries\u001b[49m\u001b[43m,\u001b[49m\n\u001b[0;32m    677\u001b[0m \u001b[43m        \u001b[49m\u001b[43mtimeout\u001b[49m\u001b[38;5;241;43m=\u001b[39;49m\u001b[43mtimeout\u001b[49m\u001b[43m,\u001b[49m\n\u001b[0;32m    678\u001b[0m \u001b[43m        \u001b[49m\u001b[43mchunked\u001b[49m\u001b[38;5;241;43m=\u001b[39;49m\u001b[43mchunked\u001b[49m\u001b[43m,\u001b[49m\n\u001b[0;32m    679\u001b[0m \u001b[43m    \u001b[49m\u001b[43m)\u001b[49m\n\u001b[0;32m    681\u001b[0m \u001b[38;5;28;01mexcept\u001b[39;00m (ProtocolError, \u001b[38;5;167;01mOSError\u001b[39;00m) \u001b[38;5;28;01mas\u001b[39;00m err:\n\u001b[0;32m    682\u001b[0m     \u001b[38;5;28;01mraise\u001b[39;00m \u001b[38;5;167;01mConnectionError\u001b[39;00m(err, request\u001b[38;5;241m=\u001b[39mrequest)\n",
      "File \u001b[1;32mc:\\Users\\marie\\OneDrive\\Documents\\cours\\ensae\\3A\\ML for portfolio management\\.venvML\\Lib\\site-packages\\urllib3\\connectionpool.py:789\u001b[0m, in \u001b[0;36mHTTPConnectionPool.urlopen\u001b[1;34m(self, method, url, body, headers, retries, redirect, assert_same_host, timeout, pool_timeout, release_conn, chunked, body_pos, preload_content, decode_content, **response_kw)\u001b[0m\n\u001b[0;32m    786\u001b[0m response_conn \u001b[38;5;241m=\u001b[39m conn \u001b[38;5;28;01mif\u001b[39;00m \u001b[38;5;129;01mnot\u001b[39;00m release_conn \u001b[38;5;28;01melse\u001b[39;00m \u001b[38;5;28;01mNone\u001b[39;00m\n\u001b[0;32m    788\u001b[0m \u001b[38;5;66;03m# Make the request on the HTTPConnection object\u001b[39;00m\n\u001b[1;32m--> 789\u001b[0m response \u001b[38;5;241m=\u001b[39m \u001b[38;5;28;43mself\u001b[39;49m\u001b[38;5;241;43m.\u001b[39;49m\u001b[43m_make_request\u001b[49m\u001b[43m(\u001b[49m\n\u001b[0;32m    790\u001b[0m \u001b[43m    \u001b[49m\u001b[43mconn\u001b[49m\u001b[43m,\u001b[49m\n\u001b[0;32m    791\u001b[0m \u001b[43m    \u001b[49m\u001b[43mmethod\u001b[49m\u001b[43m,\u001b[49m\n\u001b[0;32m    792\u001b[0m \u001b[43m    \u001b[49m\u001b[43murl\u001b[49m\u001b[43m,\u001b[49m\n\u001b[0;32m    793\u001b[0m \u001b[43m    \u001b[49m\u001b[43mtimeout\u001b[49m\u001b[38;5;241;43m=\u001b[39;49m\u001b[43mtimeout_obj\u001b[49m\u001b[43m,\u001b[49m\n\u001b[0;32m    794\u001b[0m \u001b[43m    \u001b[49m\u001b[43mbody\u001b[49m\u001b[38;5;241;43m=\u001b[39;49m\u001b[43mbody\u001b[49m\u001b[43m,\u001b[49m\n\u001b[0;32m    795\u001b[0m \u001b[43m    \u001b[49m\u001b[43mheaders\u001b[49m\u001b[38;5;241;43m=\u001b[39;49m\u001b[43mheaders\u001b[49m\u001b[43m,\u001b[49m\n\u001b[0;32m    796\u001b[0m \u001b[43m    \u001b[49m\u001b[43mchunked\u001b[49m\u001b[38;5;241;43m=\u001b[39;49m\u001b[43mchunked\u001b[49m\u001b[43m,\u001b[49m\n\u001b[0;32m    797\u001b[0m \u001b[43m    \u001b[49m\u001b[43mretries\u001b[49m\u001b[38;5;241;43m=\u001b[39;49m\u001b[43mretries\u001b[49m\u001b[43m,\u001b[49m\n\u001b[0;32m    798\u001b[0m \u001b[43m    \u001b[49m\u001b[43mresponse_conn\u001b[49m\u001b[38;5;241;43m=\u001b[39;49m\u001b[43mresponse_conn\u001b[49m\u001b[43m,\u001b[49m\n\u001b[0;32m    799\u001b[0m \u001b[43m    \u001b[49m\u001b[43mpreload_content\u001b[49m\u001b[38;5;241;43m=\u001b[39;49m\u001b[43mpreload_content\u001b[49m\u001b[43m,\u001b[49m\n\u001b[0;32m    800\u001b[0m \u001b[43m    \u001b[49m\u001b[43mdecode_content\u001b[49m\u001b[38;5;241;43m=\u001b[39;49m\u001b[43mdecode_content\u001b[49m\u001b[43m,\u001b[49m\n\u001b[0;32m    801\u001b[0m \u001b[43m    \u001b[49m\u001b[38;5;241;43m*\u001b[39;49m\u001b[38;5;241;43m*\u001b[39;49m\u001b[43mresponse_kw\u001b[49m\u001b[43m,\u001b[49m\n\u001b[0;32m    802\u001b[0m \u001b[43m\u001b[49m\u001b[43m)\u001b[49m\n\u001b[0;32m    804\u001b[0m \u001b[38;5;66;03m# Everything went great!\u001b[39;00m\n\u001b[0;32m    805\u001b[0m clean_exit \u001b[38;5;241m=\u001b[39m \u001b[38;5;28;01mTrue\u001b[39;00m\n",
      "File \u001b[1;32mc:\\Users\\marie\\OneDrive\\Documents\\cours\\ensae\\3A\\ML for portfolio management\\.venvML\\Lib\\site-packages\\urllib3\\connectionpool.py:466\u001b[0m, in \u001b[0;36mHTTPConnectionPool._make_request\u001b[1;34m(self, conn, method, url, body, headers, retries, timeout, chunked, response_conn, preload_content, decode_content, enforce_content_length)\u001b[0m\n\u001b[0;32m    463\u001b[0m \u001b[38;5;28;01mtry\u001b[39;00m:\n\u001b[0;32m    464\u001b[0m     \u001b[38;5;66;03m# Trigger any extra validation we need to do.\u001b[39;00m\n\u001b[0;32m    465\u001b[0m     \u001b[38;5;28;01mtry\u001b[39;00m:\n\u001b[1;32m--> 466\u001b[0m         \u001b[38;5;28;43mself\u001b[39;49m\u001b[38;5;241;43m.\u001b[39;49m\u001b[43m_validate_conn\u001b[49m\u001b[43m(\u001b[49m\u001b[43mconn\u001b[49m\u001b[43m)\u001b[49m\n\u001b[0;32m    467\u001b[0m     \u001b[38;5;28;01mexcept\u001b[39;00m (SocketTimeout, BaseSSLError) \u001b[38;5;28;01mas\u001b[39;00m e:\n\u001b[0;32m    468\u001b[0m         \u001b[38;5;28mself\u001b[39m\u001b[38;5;241m.\u001b[39m_raise_timeout(err\u001b[38;5;241m=\u001b[39me, url\u001b[38;5;241m=\u001b[39murl, timeout_value\u001b[38;5;241m=\u001b[39mconn\u001b[38;5;241m.\u001b[39mtimeout)\n",
      "File \u001b[1;32mc:\\Users\\marie\\OneDrive\\Documents\\cours\\ensae\\3A\\ML for portfolio management\\.venvML\\Lib\\site-packages\\urllib3\\connectionpool.py:1095\u001b[0m, in \u001b[0;36mHTTPSConnectionPool._validate_conn\u001b[1;34m(self, conn)\u001b[0m\n\u001b[0;32m   1093\u001b[0m \u001b[38;5;66;03m# Force connect early to allow us to validate the connection.\u001b[39;00m\n\u001b[0;32m   1094\u001b[0m \u001b[38;5;28;01mif\u001b[39;00m conn\u001b[38;5;241m.\u001b[39mis_closed:\n\u001b[1;32m-> 1095\u001b[0m     \u001b[43mconn\u001b[49m\u001b[38;5;241;43m.\u001b[39;49m\u001b[43mconnect\u001b[49m\u001b[43m(\u001b[49m\u001b[43m)\u001b[49m\n\u001b[0;32m   1097\u001b[0m \u001b[38;5;66;03m# TODO revise this, see https://github.com/urllib3/urllib3/issues/2791\u001b[39;00m\n\u001b[0;32m   1098\u001b[0m \u001b[38;5;28;01mif\u001b[39;00m \u001b[38;5;129;01mnot\u001b[39;00m conn\u001b[38;5;241m.\u001b[39mis_verified \u001b[38;5;129;01mand\u001b[39;00m \u001b[38;5;129;01mnot\u001b[39;00m conn\u001b[38;5;241m.\u001b[39mproxy_is_verified:\n",
      "File \u001b[1;32mc:\\Users\\marie\\OneDrive\\Documents\\cours\\ensae\\3A\\ML for portfolio management\\.venvML\\Lib\\site-packages\\urllib3\\connection.py:730\u001b[0m, in \u001b[0;36mHTTPSConnection.connect\u001b[1;34m(self)\u001b[0m\n\u001b[0;32m    727\u001b[0m     \u001b[38;5;66;03m# Remove trailing '.' from fqdn hostnames to allow certificate validation\u001b[39;00m\n\u001b[0;32m    728\u001b[0m     server_hostname_rm_dot \u001b[38;5;241m=\u001b[39m server_hostname\u001b[38;5;241m.\u001b[39mrstrip(\u001b[38;5;124m\"\u001b[39m\u001b[38;5;124m.\u001b[39m\u001b[38;5;124m\"\u001b[39m)\n\u001b[1;32m--> 730\u001b[0m     sock_and_verified \u001b[38;5;241m=\u001b[39m \u001b[43m_ssl_wrap_socket_and_match_hostname\u001b[49m\u001b[43m(\u001b[49m\n\u001b[0;32m    731\u001b[0m \u001b[43m        \u001b[49m\u001b[43msock\u001b[49m\u001b[38;5;241;43m=\u001b[39;49m\u001b[43msock\u001b[49m\u001b[43m,\u001b[49m\n\u001b[0;32m    732\u001b[0m \u001b[43m        \u001b[49m\u001b[43mcert_reqs\u001b[49m\u001b[38;5;241;43m=\u001b[39;49m\u001b[38;5;28;43mself\u001b[39;49m\u001b[38;5;241;43m.\u001b[39;49m\u001b[43mcert_reqs\u001b[49m\u001b[43m,\u001b[49m\n\u001b[0;32m    733\u001b[0m \u001b[43m        \u001b[49m\u001b[43mssl_version\u001b[49m\u001b[38;5;241;43m=\u001b[39;49m\u001b[38;5;28;43mself\u001b[39;49m\u001b[38;5;241;43m.\u001b[39;49m\u001b[43mssl_version\u001b[49m\u001b[43m,\u001b[49m\n\u001b[0;32m    734\u001b[0m \u001b[43m        \u001b[49m\u001b[43mssl_minimum_version\u001b[49m\u001b[38;5;241;43m=\u001b[39;49m\u001b[38;5;28;43mself\u001b[39;49m\u001b[38;5;241;43m.\u001b[39;49m\u001b[43mssl_minimum_version\u001b[49m\u001b[43m,\u001b[49m\n\u001b[0;32m    735\u001b[0m \u001b[43m        \u001b[49m\u001b[43mssl_maximum_version\u001b[49m\u001b[38;5;241;43m=\u001b[39;49m\u001b[38;5;28;43mself\u001b[39;49m\u001b[38;5;241;43m.\u001b[39;49m\u001b[43mssl_maximum_version\u001b[49m\u001b[43m,\u001b[49m\n\u001b[0;32m    736\u001b[0m \u001b[43m        \u001b[49m\u001b[43mca_certs\u001b[49m\u001b[38;5;241;43m=\u001b[39;49m\u001b[38;5;28;43mself\u001b[39;49m\u001b[38;5;241;43m.\u001b[39;49m\u001b[43mca_certs\u001b[49m\u001b[43m,\u001b[49m\n\u001b[0;32m    737\u001b[0m \u001b[43m        \u001b[49m\u001b[43mca_cert_dir\u001b[49m\u001b[38;5;241;43m=\u001b[39;49m\u001b[38;5;28;43mself\u001b[39;49m\u001b[38;5;241;43m.\u001b[39;49m\u001b[43mca_cert_dir\u001b[49m\u001b[43m,\u001b[49m\n\u001b[0;32m    738\u001b[0m \u001b[43m        \u001b[49m\u001b[43mca_cert_data\u001b[49m\u001b[38;5;241;43m=\u001b[39;49m\u001b[38;5;28;43mself\u001b[39;49m\u001b[38;5;241;43m.\u001b[39;49m\u001b[43mca_cert_data\u001b[49m\u001b[43m,\u001b[49m\n\u001b[0;32m    739\u001b[0m \u001b[43m        \u001b[49m\u001b[43mcert_file\u001b[49m\u001b[38;5;241;43m=\u001b[39;49m\u001b[38;5;28;43mself\u001b[39;49m\u001b[38;5;241;43m.\u001b[39;49m\u001b[43mcert_file\u001b[49m\u001b[43m,\u001b[49m\n\u001b[0;32m    740\u001b[0m \u001b[43m        \u001b[49m\u001b[43mkey_file\u001b[49m\u001b[38;5;241;43m=\u001b[39;49m\u001b[38;5;28;43mself\u001b[39;49m\u001b[38;5;241;43m.\u001b[39;49m\u001b[43mkey_file\u001b[49m\u001b[43m,\u001b[49m\n\u001b[0;32m    741\u001b[0m \u001b[43m        \u001b[49m\u001b[43mkey_password\u001b[49m\u001b[38;5;241;43m=\u001b[39;49m\u001b[38;5;28;43mself\u001b[39;49m\u001b[38;5;241;43m.\u001b[39;49m\u001b[43mkey_password\u001b[49m\u001b[43m,\u001b[49m\n\u001b[0;32m    742\u001b[0m \u001b[43m        \u001b[49m\u001b[43mserver_hostname\u001b[49m\u001b[38;5;241;43m=\u001b[39;49m\u001b[43mserver_hostname_rm_dot\u001b[49m\u001b[43m,\u001b[49m\n\u001b[0;32m    743\u001b[0m \u001b[43m        \u001b[49m\u001b[43mssl_context\u001b[49m\u001b[38;5;241;43m=\u001b[39;49m\u001b[38;5;28;43mself\u001b[39;49m\u001b[38;5;241;43m.\u001b[39;49m\u001b[43mssl_context\u001b[49m\u001b[43m,\u001b[49m\n\u001b[0;32m    744\u001b[0m \u001b[43m        \u001b[49m\u001b[43mtls_in_tls\u001b[49m\u001b[38;5;241;43m=\u001b[39;49m\u001b[43mtls_in_tls\u001b[49m\u001b[43m,\u001b[49m\n\u001b[0;32m    745\u001b[0m \u001b[43m        \u001b[49m\u001b[43massert_hostname\u001b[49m\u001b[38;5;241;43m=\u001b[39;49m\u001b[38;5;28;43mself\u001b[39;49m\u001b[38;5;241;43m.\u001b[39;49m\u001b[43massert_hostname\u001b[49m\u001b[43m,\u001b[49m\n\u001b[0;32m    746\u001b[0m \u001b[43m        \u001b[49m\u001b[43massert_fingerprint\u001b[49m\u001b[38;5;241;43m=\u001b[39;49m\u001b[38;5;28;43mself\u001b[39;49m\u001b[38;5;241;43m.\u001b[39;49m\u001b[43massert_fingerprint\u001b[49m\u001b[43m,\u001b[49m\n\u001b[0;32m    747\u001b[0m \u001b[43m    \u001b[49m\u001b[43m)\u001b[49m\n\u001b[0;32m    748\u001b[0m     \u001b[38;5;28mself\u001b[39m\u001b[38;5;241m.\u001b[39msock \u001b[38;5;241m=\u001b[39m sock_and_verified\u001b[38;5;241m.\u001b[39msocket\n\u001b[0;32m    750\u001b[0m \u001b[38;5;66;03m# If an error occurs during connection/handshake we may need to release\u001b[39;00m\n\u001b[0;32m    751\u001b[0m \u001b[38;5;66;03m# our lock so another connection can probe the origin.\u001b[39;00m\n",
      "File \u001b[1;32mc:\\Users\\marie\\OneDrive\\Documents\\cours\\ensae\\3A\\ML for portfolio management\\.venvML\\Lib\\site-packages\\urllib3\\connection.py:909\u001b[0m, in \u001b[0;36m_ssl_wrap_socket_and_match_hostname\u001b[1;34m(sock, cert_reqs, ssl_version, ssl_minimum_version, ssl_maximum_version, cert_file, key_file, key_password, ca_certs, ca_cert_dir, ca_cert_data, assert_hostname, assert_fingerprint, server_hostname, ssl_context, tls_in_tls)\u001b[0m\n\u001b[0;32m    906\u001b[0m     \u001b[38;5;28;01mif\u001b[39;00m is_ipaddress(normalized):\n\u001b[0;32m    907\u001b[0m         server_hostname \u001b[38;5;241m=\u001b[39m normalized\n\u001b[1;32m--> 909\u001b[0m ssl_sock \u001b[38;5;241m=\u001b[39m \u001b[43mssl_wrap_socket\u001b[49m\u001b[43m(\u001b[49m\n\u001b[0;32m    910\u001b[0m \u001b[43m    \u001b[49m\u001b[43msock\u001b[49m\u001b[38;5;241;43m=\u001b[39;49m\u001b[43msock\u001b[49m\u001b[43m,\u001b[49m\n\u001b[0;32m    911\u001b[0m \u001b[43m    \u001b[49m\u001b[43mkeyfile\u001b[49m\u001b[38;5;241;43m=\u001b[39;49m\u001b[43mkey_file\u001b[49m\u001b[43m,\u001b[49m\n\u001b[0;32m    912\u001b[0m \u001b[43m    \u001b[49m\u001b[43mcertfile\u001b[49m\u001b[38;5;241;43m=\u001b[39;49m\u001b[43mcert_file\u001b[49m\u001b[43m,\u001b[49m\n\u001b[0;32m    913\u001b[0m \u001b[43m    \u001b[49m\u001b[43mkey_password\u001b[49m\u001b[38;5;241;43m=\u001b[39;49m\u001b[43mkey_password\u001b[49m\u001b[43m,\u001b[49m\n\u001b[0;32m    914\u001b[0m \u001b[43m    \u001b[49m\u001b[43mca_certs\u001b[49m\u001b[38;5;241;43m=\u001b[39;49m\u001b[43mca_certs\u001b[49m\u001b[43m,\u001b[49m\n\u001b[0;32m    915\u001b[0m \u001b[43m    \u001b[49m\u001b[43mca_cert_dir\u001b[49m\u001b[38;5;241;43m=\u001b[39;49m\u001b[43mca_cert_dir\u001b[49m\u001b[43m,\u001b[49m\n\u001b[0;32m    916\u001b[0m \u001b[43m    \u001b[49m\u001b[43mca_cert_data\u001b[49m\u001b[38;5;241;43m=\u001b[39;49m\u001b[43mca_cert_data\u001b[49m\u001b[43m,\u001b[49m\n\u001b[0;32m    917\u001b[0m \u001b[43m    \u001b[49m\u001b[43mserver_hostname\u001b[49m\u001b[38;5;241;43m=\u001b[39;49m\u001b[43mserver_hostname\u001b[49m\u001b[43m,\u001b[49m\n\u001b[0;32m    918\u001b[0m \u001b[43m    \u001b[49m\u001b[43mssl_context\u001b[49m\u001b[38;5;241;43m=\u001b[39;49m\u001b[43mcontext\u001b[49m\u001b[43m,\u001b[49m\n\u001b[0;32m    919\u001b[0m \u001b[43m    \u001b[49m\u001b[43mtls_in_tls\u001b[49m\u001b[38;5;241;43m=\u001b[39;49m\u001b[43mtls_in_tls\u001b[49m\u001b[43m,\u001b[49m\n\u001b[0;32m    920\u001b[0m \u001b[43m\u001b[49m\u001b[43m)\u001b[49m\n\u001b[0;32m    922\u001b[0m \u001b[38;5;28;01mtry\u001b[39;00m:\n\u001b[0;32m    923\u001b[0m     \u001b[38;5;28;01mif\u001b[39;00m assert_fingerprint:\n",
      "File \u001b[1;32mc:\\Users\\marie\\OneDrive\\Documents\\cours\\ensae\\3A\\ML for portfolio management\\.venvML\\Lib\\site-packages\\urllib3\\util\\ssl_.py:469\u001b[0m, in \u001b[0;36mssl_wrap_socket\u001b[1;34m(sock, keyfile, certfile, cert_reqs, ca_certs, server_hostname, ssl_version, ciphers, ssl_context, ca_cert_dir, key_password, ca_cert_data, tls_in_tls)\u001b[0m\n\u001b[0;32m    465\u001b[0m         context\u001b[38;5;241m.\u001b[39mload_cert_chain(certfile, keyfile, key_password)\n\u001b[0;32m    467\u001b[0m context\u001b[38;5;241m.\u001b[39mset_alpn_protocols(ALPN_PROTOCOLS)\n\u001b[1;32m--> 469\u001b[0m ssl_sock \u001b[38;5;241m=\u001b[39m \u001b[43m_ssl_wrap_socket_impl\u001b[49m\u001b[43m(\u001b[49m\u001b[43msock\u001b[49m\u001b[43m,\u001b[49m\u001b[43m \u001b[49m\u001b[43mcontext\u001b[49m\u001b[43m,\u001b[49m\u001b[43m \u001b[49m\u001b[43mtls_in_tls\u001b[49m\u001b[43m,\u001b[49m\u001b[43m \u001b[49m\u001b[43mserver_hostname\u001b[49m\u001b[43m)\u001b[49m\n\u001b[0;32m    470\u001b[0m \u001b[38;5;28;01mreturn\u001b[39;00m ssl_sock\n",
      "File \u001b[1;32mc:\\Users\\marie\\OneDrive\\Documents\\cours\\ensae\\3A\\ML for portfolio management\\.venvML\\Lib\\site-packages\\urllib3\\util\\ssl_.py:513\u001b[0m, in \u001b[0;36m_ssl_wrap_socket_impl\u001b[1;34m(sock, ssl_context, tls_in_tls, server_hostname)\u001b[0m\n\u001b[0;32m    510\u001b[0m     SSLTransport\u001b[38;5;241m.\u001b[39m_validate_ssl_context_for_tls_in_tls(ssl_context)\n\u001b[0;32m    511\u001b[0m     \u001b[38;5;28;01mreturn\u001b[39;00m SSLTransport(sock, ssl_context, server_hostname)\n\u001b[1;32m--> 513\u001b[0m \u001b[38;5;28;01mreturn\u001b[39;00m \u001b[43mssl_context\u001b[49m\u001b[38;5;241;43m.\u001b[39;49m\u001b[43mwrap_socket\u001b[49m\u001b[43m(\u001b[49m\u001b[43msock\u001b[49m\u001b[43m,\u001b[49m\u001b[43m \u001b[49m\u001b[43mserver_hostname\u001b[49m\u001b[38;5;241;43m=\u001b[39;49m\u001b[43mserver_hostname\u001b[49m\u001b[43m)\u001b[49m\n",
      "File \u001b[1;32mC:\\Program Files\\WindowsApps\\PythonSoftwareFoundation.Python.3.11_3.11.2544.0_x64__qbz5n2kfra8p0\\Lib\\ssl.py:517\u001b[0m, in \u001b[0;36mSSLContext.wrap_socket\u001b[1;34m(self, sock, server_side, do_handshake_on_connect, suppress_ragged_eofs, server_hostname, session)\u001b[0m\n\u001b[0;32m    511\u001b[0m \u001b[38;5;28;01mdef\u001b[39;00m \u001b[38;5;21mwrap_socket\u001b[39m(\u001b[38;5;28mself\u001b[39m, sock, server_side\u001b[38;5;241m=\u001b[39m\u001b[38;5;28;01mFalse\u001b[39;00m,\n\u001b[0;32m    512\u001b[0m                 do_handshake_on_connect\u001b[38;5;241m=\u001b[39m\u001b[38;5;28;01mTrue\u001b[39;00m,\n\u001b[0;32m    513\u001b[0m                 suppress_ragged_eofs\u001b[38;5;241m=\u001b[39m\u001b[38;5;28;01mTrue\u001b[39;00m,\n\u001b[0;32m    514\u001b[0m                 server_hostname\u001b[38;5;241m=\u001b[39m\u001b[38;5;28;01mNone\u001b[39;00m, session\u001b[38;5;241m=\u001b[39m\u001b[38;5;28;01mNone\u001b[39;00m):\n\u001b[0;32m    515\u001b[0m     \u001b[38;5;66;03m# SSLSocket class handles server_hostname encoding before it calls\u001b[39;00m\n\u001b[0;32m    516\u001b[0m     \u001b[38;5;66;03m# ctx._wrap_socket()\u001b[39;00m\n\u001b[1;32m--> 517\u001b[0m     \u001b[38;5;28;01mreturn\u001b[39;00m \u001b[38;5;28;43mself\u001b[39;49m\u001b[38;5;241;43m.\u001b[39;49m\u001b[43msslsocket_class\u001b[49m\u001b[38;5;241;43m.\u001b[39;49m\u001b[43m_create\u001b[49m\u001b[43m(\u001b[49m\n\u001b[0;32m    518\u001b[0m \u001b[43m        \u001b[49m\u001b[43msock\u001b[49m\u001b[38;5;241;43m=\u001b[39;49m\u001b[43msock\u001b[49m\u001b[43m,\u001b[49m\n\u001b[0;32m    519\u001b[0m \u001b[43m        \u001b[49m\u001b[43mserver_side\u001b[49m\u001b[38;5;241;43m=\u001b[39;49m\u001b[43mserver_side\u001b[49m\u001b[43m,\u001b[49m\n\u001b[0;32m    520\u001b[0m \u001b[43m        \u001b[49m\u001b[43mdo_handshake_on_connect\u001b[49m\u001b[38;5;241;43m=\u001b[39;49m\u001b[43mdo_handshake_on_connect\u001b[49m\u001b[43m,\u001b[49m\n\u001b[0;32m    521\u001b[0m \u001b[43m        \u001b[49m\u001b[43msuppress_ragged_eofs\u001b[49m\u001b[38;5;241;43m=\u001b[39;49m\u001b[43msuppress_ragged_eofs\u001b[49m\u001b[43m,\u001b[49m\n\u001b[0;32m    522\u001b[0m \u001b[43m        \u001b[49m\u001b[43mserver_hostname\u001b[49m\u001b[38;5;241;43m=\u001b[39;49m\u001b[43mserver_hostname\u001b[49m\u001b[43m,\u001b[49m\n\u001b[0;32m    523\u001b[0m \u001b[43m        \u001b[49m\u001b[43mcontext\u001b[49m\u001b[38;5;241;43m=\u001b[39;49m\u001b[38;5;28;43mself\u001b[39;49m\u001b[43m,\u001b[49m\n\u001b[0;32m    524\u001b[0m \u001b[43m        \u001b[49m\u001b[43msession\u001b[49m\u001b[38;5;241;43m=\u001b[39;49m\u001b[43msession\u001b[49m\n\u001b[0;32m    525\u001b[0m \u001b[43m    \u001b[49m\u001b[43m)\u001b[49m\n",
      "File \u001b[1;32mC:\\Program Files\\WindowsApps\\PythonSoftwareFoundation.Python.3.11_3.11.2544.0_x64__qbz5n2kfra8p0\\Lib\\ssl.py:1104\u001b[0m, in \u001b[0;36mSSLSocket._create\u001b[1;34m(cls, sock, server_side, do_handshake_on_connect, suppress_ragged_eofs, server_hostname, context, session)\u001b[0m\n\u001b[0;32m   1101\u001b[0m             \u001b[38;5;28;01mif\u001b[39;00m timeout \u001b[38;5;241m==\u001b[39m \u001b[38;5;241m0.0\u001b[39m:\n\u001b[0;32m   1102\u001b[0m                 \u001b[38;5;66;03m# non-blocking\u001b[39;00m\n\u001b[0;32m   1103\u001b[0m                 \u001b[38;5;28;01mraise\u001b[39;00m \u001b[38;5;167;01mValueError\u001b[39;00m(\u001b[38;5;124m\"\u001b[39m\u001b[38;5;124mdo_handshake_on_connect should not be specified for non-blocking sockets\u001b[39m\u001b[38;5;124m\"\u001b[39m)\n\u001b[1;32m-> 1104\u001b[0m             \u001b[38;5;28;43mself\u001b[39;49m\u001b[38;5;241;43m.\u001b[39;49m\u001b[43mdo_handshake\u001b[49m\u001b[43m(\u001b[49m\u001b[43m)\u001b[49m\n\u001b[0;32m   1105\u001b[0m \u001b[38;5;28;01mexcept\u001b[39;00m:\n\u001b[0;32m   1106\u001b[0m     \u001b[38;5;28;01mtry\u001b[39;00m:\n",
      "File \u001b[1;32mC:\\Program Files\\WindowsApps\\PythonSoftwareFoundation.Python.3.11_3.11.2544.0_x64__qbz5n2kfra8p0\\Lib\\ssl.py:1382\u001b[0m, in \u001b[0;36mSSLSocket.do_handshake\u001b[1;34m(self, block)\u001b[0m\n\u001b[0;32m   1380\u001b[0m     \u001b[38;5;28;01mif\u001b[39;00m timeout \u001b[38;5;241m==\u001b[39m \u001b[38;5;241m0.0\u001b[39m \u001b[38;5;129;01mand\u001b[39;00m block:\n\u001b[0;32m   1381\u001b[0m         \u001b[38;5;28mself\u001b[39m\u001b[38;5;241m.\u001b[39msettimeout(\u001b[38;5;28;01mNone\u001b[39;00m)\n\u001b[1;32m-> 1382\u001b[0m     \u001b[38;5;28mself\u001b[39m\u001b[38;5;241m.\u001b[39m_sslobj\u001b[38;5;241m.\u001b[39mdo_handshake()\n\u001b[0;32m   1383\u001b[0m \u001b[38;5;28;01mfinally\u001b[39;00m:\n\u001b[0;32m   1384\u001b[0m     \u001b[38;5;28mself\u001b[39m\u001b[38;5;241m.\u001b[39msettimeout(timeout)\n",
      "\u001b[1;31mKeyboardInterrupt\u001b[0m: "
     ]
    }
   ],
   "source": [
    "# trying to find all speeches url through the API\n",
    "\n",
    "\n",
    "\n",
    "# https://www.bis.org/cbspeeches/index.htm?institutions=6\n",
    "# url = \"https://www.bis.org/api/documents/cbspeeches/index.json\"\n",
    "url = \"https://www.bis.org/api/document_lists/cbspeeches.json\"\n",
    "response = requests.get(url)\n",
    "\n",
    "# Check if the request was successful (status code 200)\n",
    "if response.status_code == 200:\n",
    "    speeches = response.json()\n",
    "    # Get the list of speeches ids ,\n",
    "    reviews=[]\n",
    "    for review in speeches['list']:\n",
    "        reviews.append(review)\n",
    "else:\n",
    "    print(f\"Failed to retrieve data. Status code: {response.status_code}\")\n",
    "\n",
    "\n",
    "# get speeches metadata + # extract / scrape speech from html page\n",
    "all_speeches = []\n",
    "base_url_api = \"https://www.bis.org/api/documents\"\n",
    "base_url = \"https://www.bis.org\"\n",
    "\n",
    "for link in reviews:\n",
    "     review_data = {}\n",
    "     speech_data = {}\n",
    "     review_url = f'{base_url_api}{review}'\n",
    "     speech_url = f'{base_url}{review}'\n",
    "     print(f\"Processing speech: {review_url}\")\n",
    "     try:\n",
    "        # Fetch speech page\n",
    "        review_response = requests.get(review_url)\n",
    "        review_data.update(review_response)\n",
    "        speech_data['metadata'] = review_response\n",
    "\n",
    "     except Exception as e:\n",
    "            print(f\"Failed to fetch data of review {review_url}, status code: {response.status_code}\")\n",
    "            continue \n",
    "    \n",
    "     try:\n",
    "        # Scrape speech content\n",
    "        speech_response = requests.get(speech_url)\n",
    "        # Parse the HTML content\n",
    "        soup = BeautifulSoup(speech_response.content, 'html.parser')\n",
    "        # full speech is ocntained in the 'section' class\n",
    "        speech_content = soup.find('div', class_='section')\n",
    "        speech_content_text = speech_content.get_text()\n",
    "        review_data['speech_content'] = speech_content_text\n",
    "        speech_data['speech_content'] = speech_content_text\n",
    "\n",
    "     except Exception as e:\n",
    "            print(f\"Failed to process speech: {speech_url}, error: {e}\")\n",
    "            continue \n",
    "\n",
    "     # append speech dict (content + metadata) to all_speeches\n",
    "     all_speeches.append(review_data)\n",
    "     # Pause to avoid overloading\n",
    "     time.sleep(1)\n",
    "     break\n",
    "\n",
    "\n",
    "# FILTER ON INSTITUTION AND YEAR \n",
    "\n",
    "# # Save results\n",
    "# save_path = 'speeches.csv'\n",
    "# df = pd.DataFrame(all_speeches)\n",
    "# df.to_csv(save_path, index=False)\n",
    "# print(f\"Scraped data saved to {save_path}\")\n",
    "# df"
   ]
  },
  {
   "cell_type": "code",
   "execution_count": null,
   "metadata": {},
   "outputs": [
    {
     "name": "stderr",
     "output_type": "stream",
     "text": [
      "C:\\Users\\marie\\AppData\\Local\\Temp\\ipykernel_34764\\1525808116.py:39: DeprecationWarning: The 'text' argument to find()-type methods is deprecated. Use 'string' instead.\n",
      "  yearly_contents = soup_yearly.findAll(\"a\", text=\"Statement\")\n"
     ]
    },
    {
     "data": {
      "text/plain": [
       "['https://www.federalreserve.gov/newsevents/pressreleases/monetary20240131a.htm',\n",
       " 'https://www.federalreserve.gov/newsevents/pressreleases/monetary20240320a.htm',\n",
       " 'https://www.federalreserve.gov/newsevents/pressreleases/monetary20240501a.htm',\n",
       " 'https://www.federalreserve.gov/newsevents/pressreleases/monetary20240612a.htm',\n",
       " 'https://www.federalreserve.gov/newsevents/pressreleases/monetary20240731a.htm',\n",
       " 'https://www.federalreserve.gov/newsevents/pressreleases/monetary20240918a.htm',\n",
       " 'https://www.federalreserve.gov/newsevents/pressreleases/monetary20241107a.htm',\n",
       " 'https://www.federalreserve.gov/newsevents/pressreleases/monetary20230201a.htm',\n",
       " 'https://www.federalreserve.gov/newsevents/pressreleases/monetary20230322a.htm',\n",
       " 'https://www.federalreserve.gov/newsevents/pressreleases/monetary20230503a.htm',\n",
       " 'https://www.federalreserve.gov/newsevents/pressreleases/monetary20230614a.htm',\n",
       " 'https://www.federalreserve.gov/newsevents/pressreleases/monetary20230726a.htm',\n",
       " 'https://www.federalreserve.gov/newsevents/pressreleases/monetary20230920a.htm',\n",
       " 'https://www.federalreserve.gov/newsevents/pressreleases/monetary20231101a.htm',\n",
       " 'https://www.federalreserve.gov/newsevents/pressreleases/monetary20231213a.htm',\n",
       " 'https://www.federalreserve.gov/newsevents/pressreleases/monetary20220126a.htm',\n",
       " 'https://www.federalreserve.gov/newsevents/pressreleases/monetary20220316a.htm',\n",
       " 'https://www.federalreserve.gov/newsevents/pressreleases/monetary20220504a.htm',\n",
       " 'https://www.federalreserve.gov/newsevents/pressreleases/monetary20220615a.htm',\n",
       " 'https://www.federalreserve.gov/newsevents/pressreleases/monetary20220727a.htm',\n",
       " 'https://www.federalreserve.gov/newsevents/pressreleases/monetary20220921a.htm',\n",
       " 'https://www.federalreserve.gov/newsevents/pressreleases/monetary20221102a.htm',\n",
       " 'https://www.federalreserve.gov/newsevents/pressreleases/monetary20221214a.htm',\n",
       " 'https://www.federalreserve.gov/newsevents/pressreleases/monetary20210127a.htm',\n",
       " 'https://www.federalreserve.gov/newsevents/pressreleases/monetary20210317a.htm',\n",
       " 'https://www.federalreserve.gov/newsevents/pressreleases/monetary20210428a.htm',\n",
       " 'https://www.federalreserve.gov/newsevents/pressreleases/monetary20210616a.htm',\n",
       " 'https://www.federalreserve.gov/newsevents/pressreleases/monetary20210728a.htm',\n",
       " 'https://www.federalreserve.gov/newsevents/pressreleases/monetary20210922a.htm',\n",
       " 'https://www.federalreserve.gov/newsevents/pressreleases/monetary20211103a.htm',\n",
       " 'https://www.federalreserve.gov/newsevents/pressreleases/monetary20211215a.htm',\n",
       " 'https://www.federalreserve.gov/newsevents/pressreleases/monetary20200129a.htm',\n",
       " 'https://www.federalreserve.gov/newsevents/pressreleases/monetary20200303a.htm',\n",
       " 'https://www.federalreserve.gov/newsevents/pressreleases/monetary20200315a.htm',\n",
       " 'https://www.federalreserve.gov/newsevents/pressreleases/monetary20200323a.htm',\n",
       " 'https://www.federalreserve.gov/newsevents/pressreleases/monetary20200331a.htm',\n",
       " 'https://www.federalreserve.gov/newsevents/pressreleases/monetary20200429a.htm',\n",
       " 'https://www.federalreserve.gov/newsevents/pressreleases/monetary20200610a.htm',\n",
       " 'https://www.federalreserve.gov/newsevents/pressreleases/monetary20200729a.htm',\n",
       " 'https://www.federalreserve.gov/newsevents/pressreleases/monetary20200827a.htm',\n",
       " 'https://www.federalreserve.gov/newsevents/pressreleases/monetary20200916a.htm',\n",
       " 'https://www.federalreserve.gov/newsevents/pressreleases/monetary20201105a.htm',\n",
       " 'https://www.federalreserve.gov/newsevents/pressreleases/monetary20201216a.htm',\n",
       " 'https://www.federalreserve.gov/newsevents/pressreleases/monetary20190130a.htm',\n",
       " 'https://www.federalreserve.gov/newsevents/pressreleases/monetary20190320a.htm',\n",
       " 'https://www.federalreserve.gov/newsevents/pressreleases/monetary20190501a.htm',\n",
       " 'https://www.federalreserve.gov/newsevents/pressreleases/monetary20190619a.htm',\n",
       " 'https://www.federalreserve.gov/newsevents/pressreleases/monetary20190731a.htm',\n",
       " 'https://www.federalreserve.gov/newsevents/pressreleases/monetary20190918a.htm',\n",
       " 'https://www.federalreserve.gov/newsevents/pressreleases/monetary20191011a.htm',\n",
       " 'https://www.federalreserve.gov/newsevents/pressreleases/monetary20191030a.htm',\n",
       " 'https://www.federalreserve.gov/newsevents/pressreleases/monetary20191211a.htm',\n",
       " 'https://www.federalreserve.gov/boarddocs/press/general/1999/19990518/',\n",
       " 'https://www.federalreserve.gov/boarddocs/press/general/1999/19990630/',\n",
       " 'https://www.federalreserve.gov/boarddocs/press/general/1999/19990824/',\n",
       " 'https://www.federalreserve.gov/boarddocs/press/general/1999/19991005/',\n",
       " 'https://www.federalreserve.gov/boarddocs/press/general/1999/19991116/',\n",
       " 'https://www.federalreserve.gov/boarddocs/press/general/1999/19991221/',\n",
       " 'https://www.federalreserve.gov/boarddocs/press/general/2000/20000202/',\n",
       " 'https://www.federalreserve.gov/boarddocs/press/general/2000/20000321/',\n",
       " 'https://www.federalreserve.gov/boarddocs/press/general/2000/20000516/',\n",
       " 'https://www.federalreserve.gov/boarddocs/press/general/2000/20000628/',\n",
       " 'https://www.federalreserve.gov/boarddocs/press/general/2000/20000822/',\n",
       " 'https://www.federalreserve.gov/boarddocs/press/general/2000/20001003/',\n",
       " 'https://www.federalreserve.gov/boarddocs/press/general/2000/20001115/',\n",
       " 'https://www.federalreserve.gov/boarddocs/press/general/2000/20001219/',\n",
       " 'https://www.federalreserve.gov/boarddocs/press/general/2001/20010103/',\n",
       " 'https://www.federalreserve.gov/boarddocs/press/general/2001/20010131/',\n",
       " 'https://www.federalreserve.gov/boarddocs/press/general/2001/20010320/',\n",
       " 'https://www.federalreserve.gov/boarddocs/press/general/2001/20010418/',\n",
       " 'https://www.federalreserve.gov/boarddocs/press/general/2001/20010515/',\n",
       " 'https://www.federalreserve.gov/boarddocs/press/general/2001/20010627/',\n",
       " 'https://www.federalreserve.gov/boarddocs/press/general/2001/20010821/',\n",
       " 'https://www.federalreserve.gov/boarddocs/press/general/2001/20010917/',\n",
       " 'https://www.federalreserve.gov/boarddocs/press/general/2001/20011002/',\n",
       " 'https://www.federalreserve.gov/boarddocs/press/general/2001/20011106/',\n",
       " 'https://www.federalreserve.gov/boarddocs/press/general/2001/20011211/',\n",
       " 'https://www.federalreserve.gov/boarddocs/press/general/2002/20020130/',\n",
       " 'https://www.federalreserve.gov/boarddocs/press/general/2002/20020319/',\n",
       " 'https://www.federalreserve.gov/boarddocs/press/monetary/2002/20020507/',\n",
       " 'https://www.federalreserve.gov/boarddocs/press/monetary/2002/20020626/',\n",
       " 'https://www.federalreserve.gov/boarddocs/press/monetary/2002/20020813/',\n",
       " 'https://www.federalreserve.gov/boarddocs/press/monetary/2002/20020924/',\n",
       " 'https://www.federalreserve.gov/boarddocs/press/monetary/2002/20021106/',\n",
       " 'https://www.federalreserve.gov/boarddocs/press/monetary/2002/20021210/',\n",
       " 'https://www.federalreserve.gov/boarddocs/press/monetary/2003/20030129/default.htm',\n",
       " 'https://www.federalreserve.gov/boarddocs/press/monetary/2003/20030318/default.htm',\n",
       " 'https://www.federalreserve.gov/boarddocs/press/monetary/2003/20030506/default.htm',\n",
       " 'https://www.federalreserve.gov/boarddocs/press/monetary/2003/20030625/default.htm',\n",
       " 'https://www.federalreserve.gov/boarddocs/press/monetary/2003/20030812/default.htm',\n",
       " 'https://www.federalreserve.gov/boarddocs/press/monetary/2003/20030916/default.htm',\n",
       " 'https://www.federalreserve.gov/boarddocs/press/monetary/2003/20031028/default.htm',\n",
       " 'https://www.federalreserve.gov/boarddocs/press/monetary/2003/20031209/default.htm',\n",
       " 'https://www.federalreserve.gov/boarddocs/press/monetary/2004/20040128/default.htm',\n",
       " 'https://www.federalreserve.gov/boarddocs/press/monetary/2004/20040316/default.htm',\n",
       " 'https://www.federalreserve.gov/boarddocs/press/monetary/2004/20040504/default.htm',\n",
       " 'https://www.federalreserve.gov/boarddocs/press/monetary/2004/20040630/default.htm',\n",
       " 'https://www.federalreserve.gov/boarddocs/press/monetary/2004/20040810/default.htm',\n",
       " 'https://www.federalreserve.gov/boarddocs/press/monetary/2004/20040921/default.htm',\n",
       " 'https://www.federalreserve.gov/boarddocs/press/monetary/2004/20041110/default.htm',\n",
       " 'https://www.federalreserve.gov/boarddocs/press/monetary/2004/20041214/default.htm',\n",
       " 'https://www.federalreserve.gov/boarddocs/press/monetary/2005/20050202/default.htm',\n",
       " 'https://www.federalreserve.gov/boarddocs/press/monetary/2005/20050322/default.htm',\n",
       " 'https://www.federalreserve.gov/boarddocs/press/monetary/2005/20050503/default.htm',\n",
       " 'https://www.federalreserve.gov/boarddocs/press/monetary/2005/20050630/default.htm',\n",
       " 'https://www.federalreserve.gov/boarddocs/press/monetary/2005/20050809/default.htm',\n",
       " 'https://www.federalreserve.gov/boarddocs/press/monetary/2005/20050920/',\n",
       " 'https://www.federalreserve.gov/boarddocs/press/monetary/2005/20051101/',\n",
       " 'https://www.federalreserve.gov/boarddocs/press/monetary/2005/20051213/',\n",
       " 'https://www.federalreserve.gov/newsevents/press/monetary/20060131a.htm',\n",
       " 'https://www.federalreserve.gov/newsevents/press/monetary/20060328a.htm',\n",
       " 'https://www.federalreserve.gov/newsevents/press/monetary/20060510a.htm',\n",
       " 'https://www.federalreserve.gov/newsevents/press/monetary/20060629a.htm',\n",
       " 'https://www.federalreserve.gov/newsevents/press/monetary/20060808a.htm',\n",
       " 'https://www.federalreserve.gov/newsevents/press/monetary/20060920a.htm',\n",
       " 'https://www.federalreserve.gov/newsevents/press/monetary/20061025a.htm',\n",
       " 'https://www.federalreserve.gov/newsevents/press/monetary/20061212a.htm',\n",
       " 'https://www.federalreserve.gov/newsevents/press/monetary/20070131a.htm',\n",
       " 'https://www.federalreserve.gov/newsevents/press/monetary/20070321a.htm',\n",
       " 'https://www.federalreserve.gov/newsevents/press/monetary/20070509a.htm',\n",
       " 'https://www.federalreserve.gov/newsevents/press/monetary/20070618a.htm',\n",
       " 'https://www.federalreserve.gov/newsevents/press/monetary/20070807a.htm',\n",
       " 'https://www.federalreserve.gov/newsevents/press/monetary/20070810a.htm',\n",
       " 'https://www.federalreserve.gov/newsevents/press/monetary/20070817b.htm',\n",
       " 'https://www.federalreserve.gov/newsevents/press/monetary/20070918a.htm',\n",
       " 'https://www.federalreserve.gov/newsevents/press/monetary/20071031a.htm',\n",
       " 'https://www.federalreserve.gov/newsevents/press/monetary/20071211a.htm',\n",
       " 'https://www.federalreserve.gov/newsevents/press/monetary/20080122b.htm',\n",
       " 'https://www.federalreserve.gov/newsevents/press/monetary/20080130a.htm',\n",
       " 'https://www.federalreserve.gov/newsevents/press/monetary/20080311a.htm',\n",
       " 'https://www.federalreserve.gov/newsevents/press/monetary/20080318a.htm',\n",
       " 'https://www.federalreserve.gov/newsevents/press/monetary/20080430a.htm',\n",
       " 'https://www.federalreserve.gov/newsevents/press/monetary/20080625a.htm',\n",
       " 'https://www.federalreserve.gov/newsevents/press/monetary/20080805a.htm',\n",
       " 'https://www.federalreserve.gov/newsevents/press/monetary/20080916a.htm',\n",
       " 'https://www.federalreserve.gov/newsevents/press/monetary/20081008a.htm',\n",
       " 'https://www.federalreserve.gov/newsevents/press/monetary/20081029a.htm',\n",
       " 'https://www.federalreserve.gov/newsevents/press/monetary/20081216b.htm',\n",
       " 'https://www.federalreserve.gov/newsevents/press/monetary/20090128a.htm',\n",
       " 'https://www.federalreserve.gov/newsevents/press/monetary/20090318a.htm',\n",
       " 'https://www.federalreserve.gov/newsevents/press/monetary/20090429a.htm',\n",
       " 'https://www.federalreserve.gov/newsevents/press/monetary/20090624a.htm',\n",
       " 'https://www.federalreserve.gov/newsevents/press/monetary/20090812a.htm',\n",
       " 'https://www.federalreserve.gov/newsevents/press/monetary/20090923a.htm',\n",
       " 'https://www.federalreserve.gov/newsevents/press/monetary/20091104a.htm',\n",
       " 'https://www.federalreserve.gov/newsevents/press/monetary/20091216a.htm',\n",
       " 'https://www.federalreserve.gov/newsevents/press/monetary/20100127a.htm',\n",
       " 'https://www.federalreserve.gov/newsevents/press/monetary/20100316a.htm',\n",
       " 'https://www.federalreserve.gov/newsevents/press/monetary/20100428a.htm',\n",
       " 'https://www.federalreserve.gov/newsevents/press/monetary/20100509a.htm',\n",
       " 'https://www.federalreserve.gov/newsevents/press/monetary/20100623a.htm',\n",
       " 'https://www.federalreserve.gov/newsevents/press/monetary/20100810a.htm',\n",
       " 'https://www.federalreserve.gov/newsevents/press/monetary/20100921a.htm',\n",
       " 'https://www.federalreserve.gov/newsevents/press/monetary/20101103a.htm',\n",
       " 'https://www.federalreserve.gov/newsevents/press/monetary/20101214a.htm',\n",
       " 'https://www.federalreserve.gov/newsevents/pressreleases/monetary20110126a.htm',\n",
       " 'https://www.federalreserve.gov/newsevents/pressreleases/monetary20110315a.htm',\n",
       " 'https://www.federalreserve.gov/newsevents/pressreleases/monetary20110427a.htm',\n",
       " 'https://www.federalreserve.gov/newsevents/pressreleases/monetary20110622a.htm',\n",
       " 'https://www.federalreserve.gov/newsevents/pressreleases/monetary20110809a.htm',\n",
       " 'https://www.federalreserve.gov/newsevents/pressreleases/monetary20110921a.htm',\n",
       " 'https://www.federalreserve.gov/newsevents/pressreleases/monetary20111102a.htm',\n",
       " 'https://www.federalreserve.gov/newsevents/pressreleases/monetary20111213a.htm',\n",
       " 'https://www.federalreserve.gov/newsevents/pressreleases/monetary20120125a.htm',\n",
       " 'https://www.federalreserve.gov/newsevents/pressreleases/monetary20120313a.htm',\n",
       " 'https://www.federalreserve.gov/newsevents/pressreleases/monetary20120425a.htm',\n",
       " 'https://www.federalreserve.gov/newsevents/pressreleases/monetary20120620a.htm',\n",
       " 'https://www.federalreserve.gov/newsevents/pressreleases/monetary20120801a.htm',\n",
       " 'https://www.federalreserve.gov/newsevents/pressreleases/monetary20120913a.htm',\n",
       " 'https://www.federalreserve.gov/newsevents/pressreleases/monetary20121024a.htm',\n",
       " 'https://www.federalreserve.gov/newsevents/pressreleases/monetary20121212a.htm',\n",
       " 'https://www.federalreserve.gov/newsevents/pressreleases/monetary20130130a.htm',\n",
       " 'https://www.federalreserve.gov/newsevents/pressreleases/monetary20130320a.htm',\n",
       " 'https://www.federalreserve.gov/newsevents/pressreleases/monetary20130501a.htm',\n",
       " 'https://www.federalreserve.gov/newsevents/pressreleases/monetary20130619a.htm',\n",
       " 'https://www.federalreserve.gov/newsevents/pressreleases/monetary20130731a.htm',\n",
       " 'https://www.federalreserve.gov/newsevents/pressreleases/monetary20130918a.htm',\n",
       " 'https://www.federalreserve.gov/newsevents/pressreleases/monetary20131030a.htm',\n",
       " 'https://www.federalreserve.gov/newsevents/pressreleases/monetary20131218a.htm',\n",
       " 'https://www.federalreserve.gov/newsevents/pressreleases/monetary20140129a.htm',\n",
       " 'https://www.federalreserve.gov/newsevents/pressreleases/monetary20140319a.htm',\n",
       " 'https://www.federalreserve.gov/newsevents/pressreleases/monetary20140430a.htm',\n",
       " 'https://www.federalreserve.gov/newsevents/pressreleases/monetary20140618a.htm',\n",
       " 'https://www.federalreserve.gov/newsevents/pressreleases/monetary20140730a.htm',\n",
       " 'https://www.federalreserve.gov/newsevents/pressreleases/monetary20140917a.htm',\n",
       " 'https://www.federalreserve.gov/newsevents/pressreleases/monetary20141029a.htm',\n",
       " 'https://www.federalreserve.gov/newsevents/pressreleases/monetary20141217a.htm',\n",
       " 'https://www.federalreserve.gov/newsevents/pressreleases/monetary20150128a.htm',\n",
       " 'https://www.federalreserve.gov/newsevents/pressreleases/monetary20150318a.htm',\n",
       " 'https://www.federalreserve.gov/newsevents/pressreleases/monetary20150429a.htm',\n",
       " 'https://www.federalreserve.gov/newsevents/pressreleases/monetary20150617a.htm',\n",
       " 'https://www.federalreserve.gov/newsevents/pressreleases/monetary20150729a.htm',\n",
       " 'https://www.federalreserve.gov/newsevents/pressreleases/monetary20150917a.htm',\n",
       " 'https://www.federalreserve.gov/newsevents/pressreleases/monetary20151028a.htm',\n",
       " 'https://www.federalreserve.gov/newsevents/pressreleases/monetary20151216a.htm',\n",
       " 'https://www.federalreserve.gov/newsevents/pressreleases/monetary20160127a.htm',\n",
       " 'https://www.federalreserve.gov/newsevents/pressreleases/monetary20160316a.htm',\n",
       " 'https://www.federalreserve.gov/newsevents/pressreleases/monetary20160427a.htm',\n",
       " 'https://www.federalreserve.gov/newsevents/pressreleases/monetary20160615a.htm',\n",
       " 'https://www.federalreserve.gov/newsevents/pressreleases/monetary20160727a.htm',\n",
       " 'https://www.federalreserve.gov/newsevents/pressreleases/monetary20160921a.htm',\n",
       " 'https://www.federalreserve.gov/newsevents/pressreleases/monetary20161102a.htm',\n",
       " 'https://www.federalreserve.gov/newsevents/pressreleases/monetary20161214a.htm',\n",
       " 'https://www.federalreserve.gov/newsevents/pressreleases/monetary20170201a.htm',\n",
       " 'https://www.federalreserve.gov/newsevents/pressreleases/monetary20170315a.htm',\n",
       " 'https://www.federalreserve.gov/newsevents/pressreleases/monetary20170503a.htm',\n",
       " 'https://www.federalreserve.gov/newsevents/pressreleases/monetary20170614a.htm',\n",
       " 'https://www.federalreserve.gov/newsevents/pressreleases/monetary20170726a.htm',\n",
       " 'https://www.federalreserve.gov/newsevents/pressreleases/monetary20170920a.htm',\n",
       " 'https://www.federalreserve.gov/newsevents/pressreleases/monetary20171101a.htm',\n",
       " 'https://www.federalreserve.gov/newsevents/pressreleases/monetary20171213a.htm',\n",
       " 'https://www.federalreserve.gov/newsevents/pressreleases/monetary20180131a.htm',\n",
       " 'https://www.federalreserve.gov/newsevents/pressreleases/monetary20180321a.htm',\n",
       " 'https://www.federalreserve.gov/newsevents/pressreleases/monetary20180502a.htm',\n",
       " 'https://www.federalreserve.gov/newsevents/pressreleases/monetary20180613a.htm',\n",
       " 'https://www.federalreserve.gov/newsevents/pressreleases/monetary20180801a.htm',\n",
       " 'https://www.federalreserve.gov/newsevents/pressreleases/monetary20180926a.htm',\n",
       " 'https://www.federalreserve.gov/newsevents/pressreleases/monetary20181108a.htm',\n",
       " 'https://www.federalreserve.gov/newsevents/pressreleases/monetary20181219a.htm']"
      ]
     },
     "execution_count": 2,
     "metadata": {},
     "output_type": "execute_result"
    }
   ],
   "source": [
    "import re\n",
    "import subprocess\n",
    "import warnings\n",
    "\n",
    "import numpy as np\n",
    "import pandas as pd\n",
    "import requests\n",
    "from bs4 import BeautifulSoup\n",
    "from tqdm.auto import tqdm\n",
    "\n",
    "warnings.filterwarnings(\"ignore\", category=UserWarning, module=\"openpyxl\")\n",
    "\n",
    "\n",
    "def get_fomc_urls(from_year=1999, switch_year=None):\n",
    "    if switch_year is None:\n",
    "        from datetime import datetime\n",
    "\n",
    "        switch_year = datetime.now().year - 1\n",
    "    calendar_url = \"https://www.federalreserve.gov/monetarypolicy/fomccalendars.htm\"\n",
    "    r = requests.get(calendar_url)\n",
    "    soup = BeautifulSoup(r.text, \"html.parser\")\n",
    "    contents = soup.find_all(\n",
    "        \"a\", href=re.compile(\"^/newsevents/pressreleases/monetary\\d{8}[ax].htm\")\n",
    "    )\n",
    "    urls_ = [content.attrs[\"href\"] for content in contents]\n",
    "\n",
    "    for year in range(from_year, switch_year):\n",
    "        yearly_contents = []\n",
    "        fomc_yearly_url = (\n",
    "            f\"https://www.federalreserve.gov/monetarypolicy/fomchistorical{year}.htm\"\n",
    "        )\n",
    "        r_year = requests.get(fomc_yearly_url)\n",
    "        soup_yearly = BeautifulSoup(r_year.text, \"html.parser\")\n",
    "        yearly_contents = soup_yearly.findAll(\"a\", text=\"Statement\")\n",
    "        for yearly_content in yearly_contents:\n",
    "            urls_.append(yearly_content.attrs[\"href\"])\n",
    "\n",
    "    urls = [\"https://www.federalreserve.gov\" + url for url in urls_]\n",
    "    return urls\n",
    "\n",
    "a = get_fomc_urls()\n",
    "a"
   ]
  },
  {
   "cell_type": "code",
   "execution_count": null,
   "metadata": {},
   "outputs": [],
   "source": []
  },
  {
   "cell_type": "code",
   "execution_count": null,
   "metadata": {},
   "outputs": [],
   "source": [
    "def get_fomc_urls(from_year=1999, switch_year=None):\n",
    "    if switch_year is None:\n",
    "        from datetime import datetime\n",
    "\n",
    "        switch_year = datetime.now().year - 5\n",
    "    calendar_url = \"https://www.federalreserve.gov/monetarypolicy/fomccalendars.htm\"\n",
    "    r = requests.get(calendar_url)\n",
    "    soup = BeautifulSoup(r.text, \"html.parser\")\n",
    "    contents = soup.find_all(\n",
    "        \"a\", href=re.compile(\"^/newsevents/pressreleases/monetary\\d{8}[ax].htm\")\n",
    "    )\n",
    "    urls_ = [content.attrs[\"href\"] for content in contents]\n",
    "\n",
    "    for year in range(from_year, switch_year):\n",
    "        yearly_contents = []\n",
    "        fomc_yearly_url = (\n",
    "            f\"https://www.federalreserve.gov/monetarypolicy/fomchistorical{year}.htm\"\n",
    "        )\n",
    "        r_year = requests.get(fomc_yearly_url)\n",
    "        soup_yearly = BeautifulSoup(r_year.text, \"html.parser\")\n",
    "        yearly_contents = soup_yearly.findAll(\"a\", text=\"Statement\")\n",
    "        for yearly_content in yearly_contents:\n",
    "            urls_.append(yearly_content.attrs[\"href\"])\n",
    "\n",
    "    urls = [\"https://www.federalreserve.gov\" + url for url in urls_]\n",
    "    return urls\n",
    "\n",
    "\n",
    "def sent_cleaner(s):\n",
    "    return s.replace(\"\\n\", \" \").replace(\"\\r\", \" \").replace(\"\\t\", \" \").strip()\n",
    "\n",
    "\n",
    "def bs_cleaner(bs, html_tag_blocked=None):\n",
    "    if html_tag_blocked is None:\n",
    "        html_tag_blocked = [\n",
    "            \"style\",\n",
    "            \"script\",\n",
    "            \"[document]\",\n",
    "            \"meta\",\n",
    "            \"a\",\n",
    "            \"span\",\n",
    "            \"label\",\n",
    "            \"strong\",\n",
    "            \"button\",\n",
    "            \"li\",\n",
    "            \"h6\",\n",
    "            \"font\",\n",
    "            \"h1\",\n",
    "            \"h2\",\n",
    "            \"h3\",\n",
    "            \"h5\",\n",
    "            \"h4\",\n",
    "            \"em\",\n",
    "            \"body\",\n",
    "            \"head\",\n",
    "            \"sup\",\n",
    "        ]\n",
    "    return [\n",
    "        sent_cleaner(t)\n",
    "        for t in bs.find_all(text=True)\n",
    "        if (t.parent.name not in html_tag_blocked) & (len(sent_cleaner(t)) > 0)\n",
    "    ]\n",
    "\n",
    "\n",
    "regexp = re.compile(r\"\\s+\", re.UNICODE)\n",
    "\n"
   ]
  },
  {
   "cell_type": "code",
   "execution_count": null,
   "metadata": {},
   "outputs": [],
   "source": [
    "def feature_extraction(corpus, sent_filters=None):\n",
    "    if sent_filters is None:\n",
    "        sent_filters = [\n",
    "            \"Board of Governors\",\n",
    "            \"Federal Reserve System\",\n",
    "            \"20th Street and Constitution Avenue N.W., Washington, DC 20551\",\n",
    "            \"Federal Reserve Board - Federal Reserve issues FOMC statement\",\n",
    "            \"For immediate release\",\n",
    "            \"Federal Reserve Board - FOMC statement\",\n",
    "            \"DO NOT REMOVE:  Wireless Generation\",\n",
    "            \"For media inquiries\",\n",
    "            \"or call 202-452-2955.\",\n",
    "            \"Voting\",\n",
    "            \"For release at\",\n",
    "            \"For immediate release\",\n",
    "            \"Last Update\",\n",
    "            \"Last update\",\n",
    "        ]\n",
    "\n",
    "    text = [\n",
    "        \" \".join(\n",
    "            [\n",
    "                regexp.sub(\" \", s)\n",
    "                for i, s in enumerate(c)\n",
    "                if (i > 1) & np.all([q not in s for q in sent_filters])\n",
    "            ]\n",
    "        )\n",
    "        for c in corpus\n",
    "    ]\n",
    "\n",
    "    release_date = [pd.to_datetime(c[1].replace(\"Release Date: \", \"\")) for c in corpus]\n",
    "    last_update = [\n",
    "        pd.to_datetime(\n",
    "            [\n",
    "                s.replace(\"Last update:\", \"\").replace(\"Last Update:\", \"\").strip()\n",
    "                for s in c\n",
    "                if \"last update: \" in s.lower()\n",
    "            ][0]\n",
    "        )\n",
    "        for c in corpus\n",
    "    ]\n",
    "    voting = [\" \".join([s for s in c if \"Voting\" in s]) for c in corpus]\n",
    "    release_time = [\n",
    "        \" \".join(\n",
    "            [s for s in c if (\"For release at\" in s) | (\"For immediate release\" in s)]\n",
    "        )\n",
    "        for c in corpus\n",
    "    ]\n",
    "\n",
    "    return pd.DataFrame(\n",
    "        {\n",
    "            \"release_date\": release_date,\n",
    "            \"last_update\": last_update,\n",
    "            \"text\": text,\n",
    "            \"voting\": voting,\n",
    "            \"release_time\": release_time,\n",
    "        }\n",
    "    )\n",
    "\n",
    "\n",
    "def load_fomc_statements(\n",
    "    add_url=True, cache_dir=\"data\", force_reload=False, progress_bar=False, from_year=1999\n",
    "):\n",
    "    \"\"\"\n",
    "    https://www.federalreserve.gov/monetarypolicy/fomccalendars.htm\n",
    "    \"\"\"\n",
    "    filename = clean_directory_path(cache_dir) / \"fomc_statements.parquet\"\n",
    "    if (filename.exists()) & (~force_reload):\n",
    "        logger.info(f\"logging from cache file: {filename}\")\n",
    "        statements = pd.read_parquet(filename)\n",
    "    else:\n",
    "        logger.info(\"loading from external source\")\n",
    "        urls = get_fomc_urls(from_year=from_year)\n",
    "        if progress_bar:\n",
    "            urls_ = tqdm(urls)\n",
    "        else:\n",
    "            urls_ = urls\n",
    "        corpus = [\n",
    "            bs_cleaner(BeautifulSoup(requests.get(url).text, \"html.parser\"))\n",
    "            for url in urls_\n",
    "        ]\n",
    "        statements = feature_extraction(corpus).set_index(\"release_date\")\n",
    "        if add_url:\n",
    "            statements = statements.assign(url=urls)\n",
    "        statements = statements.sort_index()\n",
    "        logger.info(f\"saving cache file {filename}\")\n",
    "        statements.to_parquet(filename)\n",
    "    return statements"
   ]
  },
  {
   "cell_type": "code",
   "execution_count": null,
   "metadata": {},
   "outputs": [],
   "source": [
    "\n",
    "def load_loughran_mcdonald_dictionary(cache_dir=\"data\", force_reload=False):\n",
    "    \"\"\"\n",
    "    Software Repository for Accounting and Finance by Bill McDonald\n",
    "    https://sraf.nd.edu/loughranmcdonald-master-dictionary/\n",
    "    \"\"\"\n",
    "    filename = (\n",
    "        clean_directory_path(cache_dir)\n",
    "        / \"Loughran-McDonald_MasterDictionary_1993-2021.csv\"\n",
    "    )\n",
    "    if (filename.exists()) & (~force_reload):\n",
    "        logger.info(f\"logging from cache file: {filename}\")\n",
    "    else:\n",
    "        logger.info(\"loading from external source\")\n",
    "        id = \"17CmUZM9hGUdGYjCXcjQLyybjTrcjrhik\"\n",
    "        url = f\"https://docs.google.com/uc?export=download&confirm=t&id={id}\"        \n",
    "        subprocess.run(f\"wget -O '{filename}' '{url}'\", shell=True, capture_output=True)\n",
    "    return pd.read_csv(filename)"
   ]
  },
  {
   "cell_type": "code",
   "execution_count": null,
   "metadata": {},
   "outputs": [],
   "source": [
    "\n",
    "def load_10X_summaries(cache_dir=\"data\", force_reload=False):\n",
    "    \"\"\"\n",
    "    Software Repository for Accounting and Finance by Bill McDonald\n",
    "    https://sraf.nd.edu/sec-edgar-data/\n",
    "    \"\"\"\n",
    "    filename = (\n",
    "        clean_directory_path(cache_dir)\n",
    "        / \"Loughran-McDonald_10X_Summaries_1993-2021.csv\"\n",
    "    )\n",
    "    if (filename.is_file()) & (~force_reload):\n",
    "        logger.info(f\"logging from cache directory: {filename}\")\n",
    "    else:\n",
    "        logger.info(\"loading from external source\")\n",
    "        id = \"1CUzLRwQSZ4aUTfPB9EkRtZ48gPwbCOHA\"\n",
    "        url = f\"https://docs.google.com/uc?export=download&confirm=t&id={id}\"\n",
    "        subprocess.run(f\"wget -O '{filename}' '{url}'\", shell=True, capture_output=True)\n",
    "\n",
    "    df = pd.read_csv(filename).assign(\n",
    "        date=lambda x: pd.to_datetime(x.FILING_DATE, format=\"%Y%m%d\")\n",
    "    )\n",
    "    return df\n",
    "\n"
   ]
  },
  {
   "cell_type": "code",
   "execution_count": null,
   "metadata": {},
   "outputs": [],
   "source": []
  },
  {
   "cell_type": "code",
   "execution_count": null,
   "metadata": {},
   "outputs": [],
   "source": []
  },
  {
   "cell_type": "code",
   "execution_count": null,
   "metadata": {},
   "outputs": [],
   "source": []
  },
  {
   "cell_type": "markdown",
   "metadata": {},
   "source": [
    "### ANALYTICS AND LEARNING STRATEGY"
   ]
  },
  {
   "cell_type": "markdown",
   "metadata": {},
   "source": [
    "The analytics and machine learning methodologies section accounts for:\n",
    "\n",
    "- A detailed explanation of the foundational algorithm.\n",
    "\n",
    "- A description of the data partitioning strategy for training, validation and test.\n",
    "\n",
    "- An overview of the parameter selection and optimization process."
   ]
  },
  {
   "cell_type": "code",
   "execution_count": null,
   "metadata": {},
   "outputs": [],
   "source": []
  },
  {
   "cell_type": "code",
   "execution_count": null,
   "metadata": {},
   "outputs": [],
   "source": []
  },
  {
   "cell_type": "code",
   "execution_count": null,
   "metadata": {},
   "outputs": [],
   "source": []
  },
  {
   "cell_type": "code",
   "execution_count": null,
   "metadata": {},
   "outputs": [],
   "source": []
  },
  {
   "cell_type": "markdown",
   "metadata": {},
   "source": [
    "### EMPIRICAL RESULTS : BASELINE AND ROBUSTNESS"
   ]
  },
  {
   "cell_type": "markdown",
   "metadata": {},
   "source": [
    "To effectively convey the empirical findings, separate the baseline results from the additional robustness tests. Within the primary empirical outcomes portion, include:\n",
    "\n",
    "- Key statistical evaluations (for instance, if presenting a backtest – provide a pnl graph alongside the Sharpe ratio).\n",
    "\n",
    "- Insights into what primarily influences the results, such as specific characteristics or assets that significantly impact performance.\n",
    "\n",
    "The robustness of empirical tests section should detail:\n",
    "\n",
    "- Evaluation of the stability of the principal finding against variations in hyperparameters or algorithmic modifications."
   ]
  },
  {
   "cell_type": "code",
   "execution_count": null,
   "metadata": {},
   "outputs": [],
   "source": []
  },
  {
   "cell_type": "code",
   "execution_count": null,
   "metadata": {},
   "outputs": [],
   "source": []
  },
  {
   "cell_type": "code",
   "execution_count": null,
   "metadata": {},
   "outputs": [],
   "source": []
  },
  {
   "cell_type": "markdown",
   "metadata": {},
   "source": [
    "### CONCLUSION"
   ]
  },
  {
   "cell_type": "markdown",
   "metadata": {},
   "source": [
    "Finally, the conclusive synthesis should recapitulate the primary findings, consider external elements that may influence the results, and hint at potential directions for further investigative work."
   ]
  }
 ],
 "metadata": {
  "kernelspec": {
   "display_name": ".venvML",
   "language": "python",
   "name": "python3"
  },
  "language_info": {
   "codemirror_mode": {
    "name": "ipython",
    "version": 3
   },
   "file_extension": ".py",
   "mimetype": "text/x-python",
   "name": "python",
   "nbconvert_exporter": "python",
   "pygments_lexer": "ipython3",
   "version": "3.11.9"
  }
 },
 "nbformat": 4,
 "nbformat_minor": 2
}
